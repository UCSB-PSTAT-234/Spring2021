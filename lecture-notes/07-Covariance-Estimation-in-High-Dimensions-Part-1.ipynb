{
 "cells": [
  {
   "cell_type": "markdown",
   "id": "chemical-bradford",
   "metadata": {
    "slideshow": {
     "slide_type": "slide"
    }
   },
   "source": [
    "# Covariance Matrices in High Dimensions\n",
    "\n",
    "### Sang-Yun Oh"
   ]
  },
  {
   "cell_type": "markdown",
   "id": "prescribed-delight",
   "metadata": {
    "slideshow": {
     "slide_type": "slide"
    }
   },
   "source": [
    "# Covariance Matrices\n",
    "\n",
    "* Suppose data consist of $p$ variables and $n$ measurements\n",
    "* Variables: blood pressure, height, weight, etc.\n",
    "* Measurements: $n$-subjects, units, items, etc.\n",
    "* Data matrix: $\\boldsymbol{Y}\\in\\mathbb{R}^{n\\times p}$"
   ]
  },
  {
   "cell_type": "markdown",
   "id": "juvenile-surprise",
   "metadata": {
    "slideshow": {
     "slide_type": "slide"
    }
   },
   "source": [
    "## Covariance Matrix\n",
    "\n",
    "* Covariance matrix is defined as\n",
    "$$\n",
    "\\Sigma=E(\\boldsymbol{Y}-\\boldsymbol{\\mu})(\\boldsymbol{Y}-\\boldsymbol{\\mu})^{\\prime}=\\left(\\sigma_{i j}\\right),\n",
    "$$"
   ]
  },
  {
   "cell_type": "markdown",
   "id": "engaging-cooking",
   "metadata": {
    "slideshow": {
     "slide_type": "fragment"
    }
   },
   "source": [
    "* Sample covariance matrix is\n",
    "$$\n",
    "\\mathbf{S}=\\frac{1}{n} \\sum_{i=1}^{n}\\left(\\boldsymbol{Y}_{i}-\\overline{\\boldsymbol{Y}}\\right)\\left(\\boldsymbol{Y}_{i}-\\overline{\\boldsymbol{Y}}\\right)^{\\prime},\n",
    "$$\n",
    "* Other types of covariance estimates"
   ]
  },
  {
   "cell_type": "markdown",
   "id": "labeled-responsibility",
   "metadata": {
    "slideshow": {
     "slide_type": "slide"
    }
   },
   "source": [
    "## Examples of Covariance Matrices\n",
    "\n",
    "* Stocks: $p=4300+$ companies and 20 days per month  \n",
    "    Relationship between stocks (volatility structure)"
   ]
  },
  {
   "cell_type": "markdown",
   "id": "expanded-centre",
   "metadata": {
    "slideshow": {
     "slide_type": "fragment"
    }
   },
   "source": [
    "* Genomics: $p\\approx 20000$ genes and 100s of subjects  \n",
    "    Co-expression of genes (gene relevance network)"
   ]
  },
  {
   "cell_type": "markdown",
   "id": "champion-month",
   "metadata": {
    "slideshow": {
     "slide_type": "fragment"
    }
   },
   "source": [
    "* Neuroimaging: $p=90000$ voxels (or hundreds of aggregated ROIs) and thousands of time points  \n",
    "    Functional connectivity network"
   ]
  },
  {
   "cell_type": "markdown",
   "id": "quantitative-soldier",
   "metadata": {
    "slideshow": {
     "slide_type": "fragment"
    }
   },
   "source": [
    "* Ecology: $p=23$ environmental variables and $n=12$ locations  \n",
    "    Community abundance (Warton 2008)\n",
    "    \n",
    "**Data are often high dimensional**"
   ]
  },
  {
   "cell_type": "markdown",
   "id": "attempted-spray",
   "metadata": {
    "slideshow": {
     "slide_type": "slide"
    }
   },
   "source": [
    "## Properties of Covariance Matrices\n",
    "\n",
    "* Matrix $\\Sigma$ is symmetric\n",
    "* All eigenvalues are nonnegative\n",
    "* Nonnegative definite\n",
    "* If singular, dimensionality can be reduced"
   ]
  },
  {
   "cell_type": "markdown",
   "id": "funky-venture",
   "metadata": {
    "slideshow": {
     "slide_type": "slide"
    }
   },
   "source": [
    "## Estimation of Covariance Matrices\n",
    "\n",
    "* High dimensionality makes covariance estimation challenging\n",
    "* $O(p^2)$ parameters (high estimator variance)\n",
    "* $\\mathbf{S}$ is singular when $p>n$\n",
    "* Even when $p<n$, eigenvalues can be inaccurate"
   ]
  },
  {
   "cell_type": "markdown",
   "id": "appointed-tobacco",
   "metadata": {
    "slideshow": {
     "slide_type": "slide"
    }
   },
   "source": [
    "![](images/eigenvalues.png)"
   ]
  },
  {
   "cell_type": "markdown",
   "id": "difficult-renewal",
   "metadata": {
    "slideshow": {
     "slide_type": "slide"
    }
   },
   "source": [
    "## Uses of Covariance Matrices\n",
    "\n",
    "* Markowitz Portfolio Problem (encodes market volatility)\n",
    "* Regression (OLS)  \n",
    "$$\n",
    "\\widehat{\\beta}_{\\text {OLS}}=\\left(\\boldsymbol{X}^{\\prime} \\boldsymbol{X}\\right)^{-1} \\boldsymbol{X}^{\\prime} \\boldsymbol{Y}\n",
    "$$\n",
    "* Canonical Correlation Analysis (CCA): associations among two sets of variables ([examples](https://stats.idre.ucla.edu/r/dae/canonical-correlation-analysis/))\n",
    "* Input to clustering algorithm\n",
    "* Inverse of $\\Sigma$ often needed but doesn't exist in high dimensional setting"
   ]
  },
  {
   "cell_type": "markdown",
   "id": "continental-relevance",
   "metadata": {
    "slideshow": {
     "slide_type": "slide"
    }
   },
   "source": [
    "## Regularization\n",
    "\n",
    "* Eigenvalue structure (Ledoit-Wolf, condition number)"
   ]
  },
  {
   "cell_type": "markdown",
   "id": "basic-halifax",
   "metadata": {
    "slideshow": {
     "slide_type": "fragment"
    }
   },
   "source": [
    "* Sparsity pattern (graphical models)"
   ]
  },
  {
   "cell_type": "markdown",
   "id": "protected-railway",
   "metadata": {
    "slideshow": {
     "slide_type": "fragment"
    }
   },
   "source": [
    "* Structural assumptions (banding, tapering, low-rank)\n",
    "\n",
    "All stabilize estimates (bias variance trade off)"
   ]
  },
  {
   "cell_type": "markdown",
   "id": "hourly-parade",
   "metadata": {
    "slideshow": {
     "slide_type": "subslide"
    }
   },
   "source": [
    "## Eigen-structure regularization\n",
    "\n",
    "* Ledoit-Wolf Estimator (Ledoit and Wolf, 2004)\n",
    "$$\n",
    "\\widehat{\\mathbf{\\Sigma}}=\\alpha I+(1-\\alpha) \\mathbf{S}\n",
    "$$"
   ]
  },
  {
   "cell_type": "markdown",
   "id": "disturbed-knight",
   "metadata": {
    "slideshow": {
     "slide_type": "fragment"
    }
   },
   "source": [
    "* Condition number regularization (Won et al., 2009)\n",
    "$$\n",
    "\\begin{array}{ll}\n",
    "\\operatorname{maximize} & l(\\Sigma) \\\\\n",
    "\\text { subject to } & \\operatorname{cond}(\\Sigma) \\leq \\kappa_{\\max },\n",
    "\\end{array}\n",
    "$$  \n",
    "    where $l(\\Sigma)$ is the Gaussian Likelihood"
   ]
  },
  {
   "cell_type": "markdown",
   "id": "reliable-whale",
   "metadata": {
    "slideshow": {
     "slide_type": "fragment"
    }
   },
   "source": [
    "* Eigenvector regularization (sparse PCA, SVD, etc)"
   ]
  },
  {
   "cell_type": "markdown",
   "id": "pacific-glory",
   "metadata": {
    "slideshow": {
     "slide_type": "slide"
    }
   },
   "source": [
    "## Sparsity pattern (Graphical Model)\n",
    "\n",
    "* $\\mathbf{\\Theta}=\\mathbf{\\Sigma}^{-1}$ appear in many situations\n",
    "* $\\mathbf{\\Theta}$ can be regularized directly"
   ]
  },
  {
   "cell_type": "markdown",
   "id": "distributed-pixel",
   "metadata": {
    "slideshow": {
     "slide_type": "fragment"
    }
   },
   "source": [
    "* Assume $\\boldsymbol{Y}_{1}, \\ldots, \\boldsymbol{Y}_{n} \\sim N_{p}(\\boldsymbol{0}, \\boldsymbol{\\Sigma})$ and \n",
    "$$\n",
    "L(\\boldsymbol{\\Sigma})=\\frac{1}{(2 \\pi)^{n p / 2}|\\boldsymbol{\\Sigma}|^{n / 2}} \\exp \\left\\{-\\frac{1}{2} \\sum_{i=1}^{n} \\boldsymbol{Y}_{i}^{\\prime} \\boldsymbol{\\Sigma}^{-1} \\boldsymbol{Y}_{i}\\right\\} .\n",
    "$$"
   ]
  },
  {
   "cell_type": "markdown",
   "id": "lyric-potato",
   "metadata": {
    "slideshow": {
     "slide_type": "fragment"
    }
   },
   "source": [
    "* Compute $\\boldsymbol{\\Theta}$:\n",
    "$$\n",
    "\\ell_{P}(\\boldsymbol{\\Theta})=\\log |\\boldsymbol{\\Theta}|-\\operatorname{tr}(\\mathbf{S} \\Theta)-\\lambda\\|\\boldsymbol{\\Theta}\\|_{1},\n",
    "$$"
   ]
  },
  {
   "cell_type": "markdown",
   "id": "associate-facial",
   "metadata": {
    "slideshow": {
     "slide_type": "slide"
    }
   },
   "source": [
    "Reference: [High‐Dimensional Covariance Estimation](https://ucsb-primo.hosted.exlibrisgroup.com/permalink/f/1egv95m/01UCSB_ALMA51276966020003776) by Mohsen Pourahmadi"
   ]
  }
 ],
 "metadata": {
  "celltoolbar": "Slideshow",
  "kernelspec": {
   "display_name": "Python 3",
   "language": "python",
   "name": "python3"
  },
  "language_info": {
   "codemirror_mode": {
    "name": "ipython",
    "version": 3
   },
   "file_extension": ".py",
   "mimetype": "text/x-python",
   "name": "python",
   "nbconvert_exporter": "python",
   "pygments_lexer": "ipython3",
   "version": "3.8.6"
  }
 },
 "nbformat": 4,
 "nbformat_minor": 5
}
