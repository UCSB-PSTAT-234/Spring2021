{
 "cells": [
  {
   "cell_type": "markdown",
   "metadata": {
    "slideshow": {
     "slide_type": "slide"
    }
   },
   "source": [
    "# Movie Lense Recommender system <a class='tocSkip'> \n",
    "\n",
    "## Sang-Yun Oh <a class='tocSkip'> "
   ]
  },
  {
   "cell_type": "markdown",
   "metadata": {
    "slideshow": {
     "slide_type": "subslide"
    },
    "toc": true
   },
   "source": [
    "<h1>Table of Contents<span class=\"tocSkip\"></span></h1>\n",
    "<div class=\"toc\"><ul class=\"toc-item\"><li><span><a href=\"#Movie-Lense-Data\" data-toc-modified-id=\"Movie-Lense-Data-1\">Movie Lense Data</a></span><ul class=\"toc-item\"><li><span><a href=\"#Rating,-User,-and-Movie-Raw-Data\" data-toc-modified-id=\"Rating,-User,-and-Movie-Raw-Data-1.1\">Rating, User, and Movie Raw Data</a></span></li><li><span><a href=\"#Converting-to-Pandas-DataFrame\" data-toc-modified-id=\"Converting-to-Pandas-DataFrame-1.2\">Converting to Pandas DataFrame</a></span><ul class=\"toc-item\"><li><span><a href=\"#Custom-Module\" data-toc-modified-id=\"Custom-Module-1.2.1\">Custom Module</a></span></li></ul></li><li><span><a href=\"#Transforming-Data\" data-toc-modified-id=\"Transforming-Data-1.3\">Transforming Data</a></span><ul class=\"toc-item\"><li><span><a href=\"#Ratings-Matrix\" data-toc-modified-id=\"Ratings-Matrix-1.3.1\">Ratings Matrix</a></span></li><li><span><a href=\"#Small-Subset-of-Data\" data-toc-modified-id=\"Small-Subset-of-Data-1.3.2\">Small Subset of Data</a></span></li><li><span><a href=\"#Visualizing-Missing-Values\" data-toc-modified-id=\"Visualizing-Missing-Values-1.3.3\">Visualizing Missing Values</a></span></li></ul></li><li><span><a href=\"#User-and-Movies-Matrices\" data-toc-modified-id=\"User-and-Movies-Matrices-1.4\">User and Movies Matrices</a></span></li></ul></li><li><span><a href=\"#Optimization\" data-toc-modified-id=\"Optimization-2\">Optimization</a></span><ul class=\"toc-item\"><li><span><a href=\"#Example:-Portfolio-Selection\" data-toc-modified-id=\"Example:-Portfolio-Selection-2.1\">Example: Portfolio Selection</a></span><ul class=\"toc-item\"><li><span><a href=\"#Minimum-Variance-Portfolio\" data-toc-modified-id=\"Minimum-Variance-Portfolio-2.1.1\">Minimum Variance Portfolio</a></span></li><li><span><a href=\"#Minimum-Variance-Portfolio-with-Target-Return\" data-toc-modified-id=\"Minimum-Variance-Portfolio-with-Target-Return-2.1.2\">Minimum Variance Portfolio with Target Return</a></span></li></ul></li><li><span><a href=\"#Example:-Transportation-problem\" data-toc-modified-id=\"Example:-Transportation-problem-2.2\">Example: Transportation problem</a></span></li><li><span><a href=\"#Direction-of-Function-Decrease\" data-toc-modified-id=\"Direction-of-Function-Decrease-2.3\">Direction of Function Decrease</a></span><ul class=\"toc-item\"><li><span><a href=\"#Example:-$f(x)-=-(x+1)^2$-and-$x\\in\\mathbb{R}$\" data-toc-modified-id=\"Example:-$f(x)-=-(x+1)^2$-and-$x\\in\\mathbb{R}$-2.3.1\">Example: $f(x) = (x+1)^2$ and $x\\in\\mathbb{R}$</a></span></li><li><span><a href=\"#Exercise:-Find-the-minimum-of-$g(x)$\" data-toc-modified-id=\"Exercise:-Find-the-minimum-of-$g(x)$-2.3.2\">Exercise: Find the minimum of $g(x)$</a></span></li><li><span><a href=\"#Complexity-vs.-Running-time\" data-toc-modified-id=\"Complexity-vs.-Running-time-2.3.3\">Complexity vs. Running time</a></span></li></ul></li><li><span><a href=\"#Back-to-Recommender-System:-Best-$U$-and-$V$\" data-toc-modified-id=\"Back-to-Recommender-System:-Best-$U$-and-$V$-2.4\">Back to Recommender System: Best $U$ and $V$</a></span></li><li><span><a href=\"#Preparing-to-Optimize\" data-toc-modified-id=\"Preparing-to-Optimize-2.5\">Preparing to Optimize</a></span></li><li><span><a href=\"#Compute-Solutions:-$U$-and-$V$\" data-toc-modified-id=\"Compute-Solutions:-$U$-and-$V$-2.6\">Compute Solutions: $U$ and $V$</a></span></li><li><span><a href=\"#Monitoring-Optimization-Progress\" data-toc-modified-id=\"Monitoring-Optimization-Progress-2.7\">Monitoring Optimization Progress</a></span></li></ul></li><li><span><a href=\"#Visualize-Results\" data-toc-modified-id=\"Visualize-Results-3\">Visualize Results</a></span><ul class=\"toc-item\"><li><span><a href=\"#Ratings\" data-toc-modified-id=\"Ratings-3.1\">Ratings</a></span></li></ul></li><li><span><a href=\"#Recommend-Movies\" data-toc-modified-id=\"Recommend-Movies-4\">Recommend Movies</a></span><ul class=\"toc-item\"><li><span><a href=\"#Recommendation:-User-id-85\" data-toc-modified-id=\"Recommendation:-User-id-85-4.1\">Recommendation: User id 85</a></span></li><li><span><a href=\"#Recommendation:-User-id-727\" data-toc-modified-id=\"Recommendation:-User-id-727-4.2\">Recommendation: User id 727</a></span></li></ul></li><li><span><a href=\"#Comparing-Users-or-Comparing-Movies\" data-toc-modified-id=\"Comparing-Users-or-Comparing-Movies-5\">Comparing Users or Comparing Movies</a></span><ul class=\"toc-item\"><li><span><a href=\"#Matrix-Factors:-$V$-and-$U$\" data-toc-modified-id=\"Matrix-Factors:-$V$-and-$U$-5.1\">Matrix Factors: $V$ and $U$</a></span></li></ul></li><li><span><a href=\"#What-can-be-improved?\" data-toc-modified-id=\"What-can-be-improved?-6\">What can be improved?</a></span></li></ul></div>"
   ]
  },
  {
   "cell_type": "markdown",
   "metadata": {
    "slideshow": {
     "slide_type": "slide"
    }
   },
   "source": [
    "# Movie Lense Data\n",
    "\n",
    "We will build a basic recommender system using [Movie Lense 100K dataset](https://grouplens.org/datasets/movielens/).\n",
    "\n",
    "First, download the data:"
   ]
  },
  {
   "cell_type": "code",
   "execution_count": 1,
   "metadata": {
    "slideshow": {
     "slide_type": "fragment"
    }
   },
   "outputs": [
    {
     "name": "stdout",
     "output_type": "stream",
     "text": [
      "--2021-04-15 21:51:29--  http://files.grouplens.org/datasets/movielens/ml-100k.zip\n",
      "Resolving files.grouplens.org (files.grouplens.org)... 128.101.65.152\n",
      "Connecting to files.grouplens.org (files.grouplens.org)|128.101.65.152|:80... connected.\n",
      "HTTP request sent, awaiting response... 200 OK\n",
      "Length: 4924029 (4.7M) [application/zip]\n",
      "Saving to: ‘movie-lense.zip’\n",
      "\n",
      "movie-lense.zip     100%[===================>]   4.70M  2.36MB/s    in 2.0s    \n",
      "\n",
      "2021-04-15 21:51:31 (2.36 MB/s) - ‘movie-lense.zip’ saved [4924029/4924029]\n",
      "\n",
      "Archive:  movie-lense.zip\n",
      "  inflating: ml-100k/allbut.pl       \n",
      "  inflating: ml-100k/mku.sh          \n",
      "  inflating: ml-100k/README          \n",
      "  inflating: ml-100k/u.data          \n",
      "  inflating: ml-100k/u.genre         \n",
      "  inflating: ml-100k/u.info          \n",
      "  inflating: ml-100k/u.item          \n",
      "  inflating: ml-100k/u.occupation    \n",
      "  inflating: ml-100k/u.user          \n",
      "  inflating: ml-100k/u1.base         \n",
      "  inflating: ml-100k/u1.test         \n",
      "  inflating: ml-100k/u2.base         \n",
      "  inflating: ml-100k/u2.test         \n",
      "  inflating: ml-100k/u3.base         \n",
      "  inflating: ml-100k/u3.test         \n",
      "  inflating: ml-100k/u4.base         \n",
      "  inflating: ml-100k/u4.test         \n",
      "  inflating: ml-100k/u5.base         \n",
      "  inflating: ml-100k/u5.test         \n",
      "  inflating: ml-100k/ua.base         \n",
      "  inflating: ml-100k/ua.test         \n",
      "  inflating: ml-100k/ub.base         \n",
      "  inflating: ml-100k/ub.test         \n"
     ]
    }
   ],
   "source": [
    "!wget http://files.grouplens.org/datasets/movielens/ml-100k.zip -O movie-lense.zip\\\n",
    "    && unzip -o movie-lense.zip"
   ]
  },
  {
   "cell_type": "markdown",
   "metadata": {
    "slideshow": {
     "slide_type": "subslide"
    }
   },
   "source": [
    "## Rating, User, and Movie Raw Data\n",
    "\n",
    "`README` file contains metadata. Relevant lines are:\n",
    "\n",
    "* `u.data`: The full u data set, 100000 ratings by 943 users on 1682 items \n",
    "    ```\n",
    "    user id | item id | rating | timestamp\n",
    "    ```\n",
    "\n",
    "* `u.item`: Information about the items (movies).\n",
    "    ```\n",
    "    movie id | movie title | release date | video release date |\n",
    "    IMDb URL | unknown | Action | Adventure | Animation |\n",
    "    Children's | Comedy | Crime | Documentary | Drama | Fantasy |\n",
    "    Film-Noir | Horror | Musical | Mystery | Romance | Sci-Fi |\n",
    "    Thriller | War | Western |\n",
    "    ```\n",
    "\n",
    "* `u.genre`: A list of the genres.\n",
    "\n",
    "* `u.user`: Demographic information about the users;\n",
    "    ```\n",
    "    user id | age | gender | occupation | zip code\n",
    "    ```\n",
    "\n",
    "* `u.occupation`: A list of the occupations."
   ]
  },
  {
   "cell_type": "code",
   "execution_count": 2,
   "metadata": {
    "slideshow": {
     "slide_type": "subslide"
    }
   },
   "outputs": [
    {
     "name": "stdout",
     "output_type": "stream",
     "text": [
      "196\t242\t3\t881250949\r\n",
      "186\t302\t3\t891717742\r\n",
      "22\t377\t1\t878887116\r\n"
     ]
    }
   ],
   "source": [
    "!head -n3 ml-100k/u.data"
   ]
  },
  {
   "cell_type": "code",
   "execution_count": 3,
   "metadata": {
    "slideshow": {
     "slide_type": "-"
    }
   },
   "outputs": [
    {
     "name": "stdout",
     "output_type": "stream",
     "text": [
      "1|24|M|technician|85711\r\n",
      "2|53|F|other|94043\r\n",
      "3|23|M|writer|32067\r\n"
     ]
    }
   ],
   "source": [
    "!head -n3 ml-100k/u.user"
   ]
  },
  {
   "cell_type": "code",
   "execution_count": 4,
   "metadata": {
    "slideshow": {
     "slide_type": "-"
    }
   },
   "outputs": [
    {
     "name": "stdout",
     "output_type": "stream",
     "text": [
      "1|Toy Story (1995)|01-Jan-1995||http://us.imdb.com/M/title-exact?Toy%20Story%20(1995)|0|0|0|1|1|1|0|0|0|0|0|0|0|0|0|0|0|0|0\r\n",
      "2|GoldenEye (1995)|01-Jan-1995||http://us.imdb.com/M/title-exact?GoldenEye%20(1995)|0|1|1|0|0|0|0|0|0|0|0|0|0|0|0|0|1|0|0\r\n",
      "3|Four Rooms (1995)|01-Jan-1995||http://us.imdb.com/M/title-exact?Four%20Rooms%20(1995)|0|0|0|0|0|0|0|0|0|0|0|0|0|0|0|0|1|0|0\r\n"
     ]
    }
   ],
   "source": [
    "!head -n3 ml-100k/u.item"
   ]
  },
  {
   "cell_type": "markdown",
   "metadata": {
    "slideshow": {
     "slide_type": "subslide"
    }
   },
   "source": [
    "## Converting to Pandas DataFrame\n",
    "\n",
    "Converting each list to a data frame, clean up, and set correct data types.\n",
    "\n",
    "### Custom Module\n",
    "\n",
    "* When modules are imported, python files are read from a central location: \n",
    "```\n",
    "/opt/conda/lib/python3.7/site-packages/\n",
    "```"
   ]
  },
  {
   "cell_type": "markdown",
   "metadata": {
    "slideshow": {
     "slide_type": "fragment"
    }
   },
   "source": [
    "* Check installed modules on course setup:\n",
    "```\n",
    "! ls /opt/conda/lib/python3.7/site-packages/\n",
    "```"
   ]
  },
  {
   "cell_type": "markdown",
   "metadata": {
    "slideshow": {
     "slide_type": "fragment"
    }
   },
   "source": [
    "* Let's create a custom module in our notebook directory called `movielense`"
   ]
  },
  {
   "cell_type": "markdown",
   "metadata": {
    "slideshow": {
     "slide_type": "fragment"
    }
   },
   "source": [
    "* Create python script file named, `movielense.py` where our notebook is"
   ]
  },
  {
   "cell_type": "markdown",
   "metadata": {
    "slideshow": {
     "slide_type": "fragment"
    }
   },
   "source": [
    "* Then, import this local module by executing `import movielense`"
   ]
  },
  {
   "cell_type": "code",
   "execution_count": 5,
   "metadata": {
    "slideshow": {
     "slide_type": "subslide"
    }
   },
   "outputs": [],
   "source": [
    "# reload if module movielense.py changes\n",
    "%load_ext autoreload\n",
    "%autoreload 2"
   ]
  },
  {
   "cell_type": "code",
   "execution_count": 6,
   "metadata": {
    "slideshow": {
     "slide_type": "subslide"
    }
   },
   "outputs": [
    {
     "name": "stdout",
     "output_type": "stream",
     "text": [
      "Overwriting movielense.py\n"
     ]
    }
   ],
   "source": [
    "%%writefile movielense.py\n",
    "import numpy as np\n",
    "import pandas as pd\n",
    "from pathlib import Path\n",
    "\n",
    "def import_users(user_filename):\n",
    "    \"\"\"\n",
    "    Imports Movie Lense user data into Pandas DataFrame\n",
    "    \n",
    "    user_filename: e.g. location of file `ml-100k/u.data` from\n",
    "        http://files.grouplens.org/datasets/movielens/ml-100k.zip\n",
    "        \n",
    "    \"\"\"\n",
    "    users_list   = [l.split('|')  for l in Path(user_filename).read_text().split('\\n')]\n",
    "    return pd.DataFrame(\n",
    "        users_list,\n",
    "        columns='user id | age | gender | occupation | zip code'.split(' | '),\n",
    "    ).dropna().astype(\n",
    "        {'user id':'int', 'age':'int', 'gender':'str', 'occupation':'str', 'zip code':'str'}\n",
    "    ).set_index('user id')\n",
    "\n",
    "def import_movies(movies_filename):\n",
    "    \"\"\"\n",
    "    Imports Movie Lense movies data into Pandas DataFrame\n",
    "    \n",
    "    movies_filename: e.g. location of file `ml-100k/u.item` from \n",
    "        http://files.grouplens.org/datasets/movielens/ml-100k.zip\n",
    "        \n",
    "    \"\"\"\n",
    "    movies_list  = [l.split('|')  for l in Path(movies_filename).read_text(encoding = \"ISO-8859-1\").split('\\n')]\n",
    "    movies = pd.DataFrame(\n",
    "        movies_list,\n",
    "        columns='movie id | movie title | release date | video release date | '\\\n",
    "            'IMDb URL | unknown | Action | Adventure | Animation | '\\\n",
    "            'Children\\'s | Comedy | Crime | Documentary | Drama | Fantasy | '\\\n",
    "            'Film-Noir | Horror | Musical | Mystery | Romance | Sci-Fi | '\\\n",
    "            'Thriller | War | Western'.split(' | '),\n",
    "    ).dropna()\n",
    "\n",
    "    d = {'movie id':'int', 'movie title':'str', 'release date':'datetime64', 'video release date':'datetime64', 'IMDb URL':'str', 'Action':'int'}\n",
    "    genre_columns = movies.columns[-19:]\n",
    "    \n",
    "    return movies.astype(d).astype(dict(zip(genre_columns, [int]*19))).astype(dict(zip(genre_columns, [bool]*19))).set_index('movie id')\n",
    "\n",
    "def import_ratings(data_filename, movies=None):\n",
    "    \"\"\"\n",
    "    Imports Movie Lense ratings data into Pandas DataFrame\n",
    "    \n",
    "    data_filename: e.g. location of file `ml-100k/u.data` from \n",
    "        http://files.grouplens.org/datasets/movielens/ml-100k.zip\n",
    "    movies: DataFrame resulting from `immport_users`\n",
    "    \n",
    "    \"\"\"\n",
    "    \n",
    "    ratings_list = [l.split('\\t') for l in Path(data_filename).read_text().split('\\n')]\n",
    "    \n",
    "    ratings = pd.DataFrame(\n",
    "        ratings_list,\n",
    "        columns='user id | item id | rating | timestamp'.split(' | ')\n",
    "    ).dropna().astype({'timestamp':'int'}).astype(\n",
    "        {'user id':'int', 'item id':'int', 'rating':'int', 'timestamp':'datetime64[s]'}\n",
    "    ).rename(columns={'item id':'movie id'}).set_index(['user id','movie id']).drop(columns=['timestamp'])\n",
    "    \n",
    "    if (movies is not None):\n",
    "        ratings = ratings.join(movies['movie title'], on='movie id').set_index('movie title', append=True)\n",
    "        \n",
    "    return ratings"
   ]
  },
  {
   "cell_type": "code",
   "execution_count": 7,
   "metadata": {},
   "outputs": [
    {
     "name": "stdout",
     "output_type": "stream",
     "text": [
      "Requirement already satisfied: altair in /opt/conda/lib/python3.8/site-packages (4.1.0)\n",
      "Requirement already satisfied: jsonschema in /opt/conda/lib/python3.8/site-packages (from altair) (3.2.0)\n",
      "Requirement already satisfied: jinja2 in /opt/conda/lib/python3.8/site-packages (from altair) (2.11.2)\n",
      "Requirement already satisfied: pandas>=0.18 in /opt/conda/lib/python3.8/site-packages (from altair) (1.1.5)\n",
      "Requirement already satisfied: entrypoints in /opt/conda/lib/python3.8/site-packages (from altair) (0.3)\n",
      "Requirement already satisfied: numpy in /opt/conda/lib/python3.8/site-packages (from altair) (1.19.5)\n",
      "Requirement already satisfied: toolz in /opt/conda/lib/python3.8/site-packages (from altair) (0.11.1)\n",
      "Requirement already satisfied: python-dateutil>=2.7.3 in /opt/conda/lib/python3.8/site-packages (from pandas>=0.18->altair) (2.8.1)\n",
      "Requirement already satisfied: pytz>=2017.2 in /opt/conda/lib/python3.8/site-packages (from pandas>=0.18->altair) (2020.5)\n",
      "Requirement already satisfied: six>=1.5 in /opt/conda/lib/python3.8/site-packages (from python-dateutil>=2.7.3->pandas>=0.18->altair) (1.15.0)\n",
      "Requirement already satisfied: MarkupSafe>=0.23 in /opt/conda/lib/python3.8/site-packages (from jinja2->altair) (1.1.1)\n",
      "Requirement already satisfied: pyrsistent>=0.14.0 in /opt/conda/lib/python3.8/site-packages (from jsonschema->altair) (0.17.3)\n",
      "Requirement already satisfied: attrs>=17.4.0 in /opt/conda/lib/python3.8/site-packages (from jsonschema->altair) (20.3.0)\n",
      "Requirement already satisfied: setuptools in /opt/conda/lib/python3.8/site-packages (from jsonschema->altair) (49.6.0.post20210108)\n"
     ]
    }
   ],
   "source": [
    "!pip install altair"
   ]
  },
  {
   "cell_type": "code",
   "execution_count": 8,
   "metadata": {
    "slideshow": {
     "slide_type": "subslide"
    }
   },
   "outputs": [],
   "source": [
    "import pandas as pd\n",
    "import altair as alt\n",
    "import numpy as np\n",
    "import movielense as ml\n",
    "\n",
    "users = ml.import_users('ml-100k/u.user')\n",
    "movies = ml.import_movies('ml-100k/u.item')\n",
    "ratings = ml.import_ratings('ml-100k/u.data', movies)"
   ]
  },
  {
   "cell_type": "code",
   "execution_count": 9,
   "metadata": {
    "slideshow": {
     "slide_type": "subslide"
    }
   },
   "outputs": [
    {
     "data": {
      "text/html": [
       "<div>\n",
       "<style scoped>\n",
       "    .dataframe tbody tr th:only-of-type {\n",
       "        vertical-align: middle;\n",
       "    }\n",
       "\n",
       "    .dataframe tbody tr th {\n",
       "        vertical-align: top;\n",
       "    }\n",
       "\n",
       "    .dataframe thead th {\n",
       "        text-align: right;\n",
       "    }\n",
       "</style>\n",
       "<table border=\"1\" class=\"dataframe\">\n",
       "  <thead>\n",
       "    <tr style=\"text-align: right;\">\n",
       "      <th></th>\n",
       "      <th>age</th>\n",
       "      <th>gender</th>\n",
       "      <th>occupation</th>\n",
       "      <th>zip code</th>\n",
       "    </tr>\n",
       "    <tr>\n",
       "      <th>user id</th>\n",
       "      <th></th>\n",
       "      <th></th>\n",
       "      <th></th>\n",
       "      <th></th>\n",
       "    </tr>\n",
       "  </thead>\n",
       "  <tbody>\n",
       "    <tr>\n",
       "      <th>1</th>\n",
       "      <td>24</td>\n",
       "      <td>M</td>\n",
       "      <td>technician</td>\n",
       "      <td>85711</td>\n",
       "    </tr>\n",
       "    <tr>\n",
       "      <th>2</th>\n",
       "      <td>53</td>\n",
       "      <td>F</td>\n",
       "      <td>other</td>\n",
       "      <td>94043</td>\n",
       "    </tr>\n",
       "    <tr>\n",
       "      <th>3</th>\n",
       "      <td>23</td>\n",
       "      <td>M</td>\n",
       "      <td>writer</td>\n",
       "      <td>32067</td>\n",
       "    </tr>\n",
       "    <tr>\n",
       "      <th>4</th>\n",
       "      <td>24</td>\n",
       "      <td>M</td>\n",
       "      <td>technician</td>\n",
       "      <td>43537</td>\n",
       "    </tr>\n",
       "    <tr>\n",
       "      <th>5</th>\n",
       "      <td>33</td>\n",
       "      <td>F</td>\n",
       "      <td>other</td>\n",
       "      <td>15213</td>\n",
       "    </tr>\n",
       "  </tbody>\n",
       "</table>\n",
       "</div>"
      ],
      "text/plain": [
       "         age gender  occupation zip code\n",
       "user id                                 \n",
       "1         24      M  technician    85711\n",
       "2         53      F       other    94043\n",
       "3         23      M      writer    32067\n",
       "4         24      M  technician    43537\n",
       "5         33      F       other    15213"
      ]
     },
     "execution_count": 9,
     "metadata": {},
     "output_type": "execute_result"
    }
   ],
   "source": [
    "users.head()"
   ]
  },
  {
   "cell_type": "code",
   "execution_count": 10,
   "metadata": {
    "slideshow": {
     "slide_type": "subslide"
    }
   },
   "outputs": [
    {
     "data": {
      "text/html": [
       "<div>\n",
       "<style scoped>\n",
       "    .dataframe tbody tr th:only-of-type {\n",
       "        vertical-align: middle;\n",
       "    }\n",
       "\n",
       "    .dataframe tbody tr th {\n",
       "        vertical-align: top;\n",
       "    }\n",
       "\n",
       "    .dataframe thead th {\n",
       "        text-align: right;\n",
       "    }\n",
       "</style>\n",
       "<table border=\"1\" class=\"dataframe\">\n",
       "  <thead>\n",
       "    <tr style=\"text-align: right;\">\n",
       "      <th></th>\n",
       "      <th>movie title</th>\n",
       "      <th>release date</th>\n",
       "      <th>video release date</th>\n",
       "      <th>IMDb URL</th>\n",
       "      <th>unknown</th>\n",
       "      <th>Action</th>\n",
       "      <th>Adventure</th>\n",
       "      <th>Animation</th>\n",
       "      <th>Children's</th>\n",
       "      <th>Comedy</th>\n",
       "      <th>...</th>\n",
       "      <th>Fantasy</th>\n",
       "      <th>Film-Noir</th>\n",
       "      <th>Horror</th>\n",
       "      <th>Musical</th>\n",
       "      <th>Mystery</th>\n",
       "      <th>Romance</th>\n",
       "      <th>Sci-Fi</th>\n",
       "      <th>Thriller</th>\n",
       "      <th>War</th>\n",
       "      <th>Western</th>\n",
       "    </tr>\n",
       "    <tr>\n",
       "      <th>movie id</th>\n",
       "      <th></th>\n",
       "      <th></th>\n",
       "      <th></th>\n",
       "      <th></th>\n",
       "      <th></th>\n",
       "      <th></th>\n",
       "      <th></th>\n",
       "      <th></th>\n",
       "      <th></th>\n",
       "      <th></th>\n",
       "      <th></th>\n",
       "      <th></th>\n",
       "      <th></th>\n",
       "      <th></th>\n",
       "      <th></th>\n",
       "      <th></th>\n",
       "      <th></th>\n",
       "      <th></th>\n",
       "      <th></th>\n",
       "      <th></th>\n",
       "      <th></th>\n",
       "    </tr>\n",
       "  </thead>\n",
       "  <tbody>\n",
       "    <tr>\n",
       "      <th>1</th>\n",
       "      <td>Toy Story (1995)</td>\n",
       "      <td>1995-01-01</td>\n",
       "      <td>NaT</td>\n",
       "      <td>http://us.imdb.com/M/title-exact?Toy%20Story%2...</td>\n",
       "      <td>False</td>\n",
       "      <td>False</td>\n",
       "      <td>False</td>\n",
       "      <td>True</td>\n",
       "      <td>True</td>\n",
       "      <td>True</td>\n",
       "      <td>...</td>\n",
       "      <td>False</td>\n",
       "      <td>False</td>\n",
       "      <td>False</td>\n",
       "      <td>False</td>\n",
       "      <td>False</td>\n",
       "      <td>False</td>\n",
       "      <td>False</td>\n",
       "      <td>False</td>\n",
       "      <td>False</td>\n",
       "      <td>False</td>\n",
       "    </tr>\n",
       "    <tr>\n",
       "      <th>2</th>\n",
       "      <td>GoldenEye (1995)</td>\n",
       "      <td>1995-01-01</td>\n",
       "      <td>NaT</td>\n",
       "      <td>http://us.imdb.com/M/title-exact?GoldenEye%20(...</td>\n",
       "      <td>False</td>\n",
       "      <td>True</td>\n",
       "      <td>True</td>\n",
       "      <td>False</td>\n",
       "      <td>False</td>\n",
       "      <td>False</td>\n",
       "      <td>...</td>\n",
       "      <td>False</td>\n",
       "      <td>False</td>\n",
       "      <td>False</td>\n",
       "      <td>False</td>\n",
       "      <td>False</td>\n",
       "      <td>False</td>\n",
       "      <td>False</td>\n",
       "      <td>True</td>\n",
       "      <td>False</td>\n",
       "      <td>False</td>\n",
       "    </tr>\n",
       "    <tr>\n",
       "      <th>3</th>\n",
       "      <td>Four Rooms (1995)</td>\n",
       "      <td>1995-01-01</td>\n",
       "      <td>NaT</td>\n",
       "      <td>http://us.imdb.com/M/title-exact?Four%20Rooms%...</td>\n",
       "      <td>False</td>\n",
       "      <td>False</td>\n",
       "      <td>False</td>\n",
       "      <td>False</td>\n",
       "      <td>False</td>\n",
       "      <td>False</td>\n",
       "      <td>...</td>\n",
       "      <td>False</td>\n",
       "      <td>False</td>\n",
       "      <td>False</td>\n",
       "      <td>False</td>\n",
       "      <td>False</td>\n",
       "      <td>False</td>\n",
       "      <td>False</td>\n",
       "      <td>True</td>\n",
       "      <td>False</td>\n",
       "      <td>False</td>\n",
       "    </tr>\n",
       "    <tr>\n",
       "      <th>4</th>\n",
       "      <td>Get Shorty (1995)</td>\n",
       "      <td>1995-01-01</td>\n",
       "      <td>NaT</td>\n",
       "      <td>http://us.imdb.com/M/title-exact?Get%20Shorty%...</td>\n",
       "      <td>False</td>\n",
       "      <td>True</td>\n",
       "      <td>False</td>\n",
       "      <td>False</td>\n",
       "      <td>False</td>\n",
       "      <td>True</td>\n",
       "      <td>...</td>\n",
       "      <td>False</td>\n",
       "      <td>False</td>\n",
       "      <td>False</td>\n",
       "      <td>False</td>\n",
       "      <td>False</td>\n",
       "      <td>False</td>\n",
       "      <td>False</td>\n",
       "      <td>False</td>\n",
       "      <td>False</td>\n",
       "      <td>False</td>\n",
       "    </tr>\n",
       "    <tr>\n",
       "      <th>5</th>\n",
       "      <td>Copycat (1995)</td>\n",
       "      <td>1995-01-01</td>\n",
       "      <td>NaT</td>\n",
       "      <td>http://us.imdb.com/M/title-exact?Copycat%20(1995)</td>\n",
       "      <td>False</td>\n",
       "      <td>False</td>\n",
       "      <td>False</td>\n",
       "      <td>False</td>\n",
       "      <td>False</td>\n",
       "      <td>False</td>\n",
       "      <td>...</td>\n",
       "      <td>False</td>\n",
       "      <td>False</td>\n",
       "      <td>False</td>\n",
       "      <td>False</td>\n",
       "      <td>False</td>\n",
       "      <td>False</td>\n",
       "      <td>False</td>\n",
       "      <td>True</td>\n",
       "      <td>False</td>\n",
       "      <td>False</td>\n",
       "    </tr>\n",
       "  </tbody>\n",
       "</table>\n",
       "<p>5 rows × 23 columns</p>\n",
       "</div>"
      ],
      "text/plain": [
       "                movie title release date video release date  \\\n",
       "movie id                                                      \n",
       "1          Toy Story (1995)   1995-01-01                NaT   \n",
       "2          GoldenEye (1995)   1995-01-01                NaT   \n",
       "3         Four Rooms (1995)   1995-01-01                NaT   \n",
       "4         Get Shorty (1995)   1995-01-01                NaT   \n",
       "5            Copycat (1995)   1995-01-01                NaT   \n",
       "\n",
       "                                                   IMDb URL  unknown  Action  \\\n",
       "movie id                                                                       \n",
       "1         http://us.imdb.com/M/title-exact?Toy%20Story%2...    False   False   \n",
       "2         http://us.imdb.com/M/title-exact?GoldenEye%20(...    False    True   \n",
       "3         http://us.imdb.com/M/title-exact?Four%20Rooms%...    False   False   \n",
       "4         http://us.imdb.com/M/title-exact?Get%20Shorty%...    False    True   \n",
       "5         http://us.imdb.com/M/title-exact?Copycat%20(1995)    False   False   \n",
       "\n",
       "          Adventure  Animation  Children's  Comedy  ...  Fantasy  Film-Noir  \\\n",
       "movie id                                            ...                       \n",
       "1             False       True        True    True  ...    False      False   \n",
       "2              True      False       False   False  ...    False      False   \n",
       "3             False      False       False   False  ...    False      False   \n",
       "4             False      False       False    True  ...    False      False   \n",
       "5             False      False       False   False  ...    False      False   \n",
       "\n",
       "          Horror  Musical  Mystery  Romance  Sci-Fi  Thriller    War  Western  \n",
       "movie id                                                                       \n",
       "1          False    False    False    False   False     False  False    False  \n",
       "2          False    False    False    False   False      True  False    False  \n",
       "3          False    False    False    False   False      True  False    False  \n",
       "4          False    False    False    False   False     False  False    False  \n",
       "5          False    False    False    False   False      True  False    False  \n",
       "\n",
       "[5 rows x 23 columns]"
      ]
     },
     "execution_count": 10,
     "metadata": {},
     "output_type": "execute_result"
    }
   ],
   "source": [
    "movies.head()"
   ]
  },
  {
   "cell_type": "code",
   "execution_count": 11,
   "metadata": {
    "slideshow": {
     "slide_type": "subslide"
    }
   },
   "outputs": [
    {
     "data": {
      "text/html": [
       "<div>\n",
       "<style scoped>\n",
       "    .dataframe tbody tr th:only-of-type {\n",
       "        vertical-align: middle;\n",
       "    }\n",
       "\n",
       "    .dataframe tbody tr th {\n",
       "        vertical-align: top;\n",
       "    }\n",
       "\n",
       "    .dataframe thead th {\n",
       "        text-align: right;\n",
       "    }\n",
       "</style>\n",
       "<table border=\"1\" class=\"dataframe\">\n",
       "  <thead>\n",
       "    <tr style=\"text-align: right;\">\n",
       "      <th></th>\n",
       "      <th></th>\n",
       "      <th></th>\n",
       "      <th>rating</th>\n",
       "    </tr>\n",
       "    <tr>\n",
       "      <th>user id</th>\n",
       "      <th>movie id</th>\n",
       "      <th>movie title</th>\n",
       "      <th></th>\n",
       "    </tr>\n",
       "  </thead>\n",
       "  <tbody>\n",
       "    <tr>\n",
       "      <th>196</th>\n",
       "      <th>242</th>\n",
       "      <th>Kolya (1996)</th>\n",
       "      <td>3</td>\n",
       "    </tr>\n",
       "    <tr>\n",
       "      <th>186</th>\n",
       "      <th>302</th>\n",
       "      <th>L.A. Confidential (1997)</th>\n",
       "      <td>3</td>\n",
       "    </tr>\n",
       "    <tr>\n",
       "      <th>22</th>\n",
       "      <th>377</th>\n",
       "      <th>Heavyweights (1994)</th>\n",
       "      <td>1</td>\n",
       "    </tr>\n",
       "    <tr>\n",
       "      <th>244</th>\n",
       "      <th>51</th>\n",
       "      <th>Legends of the Fall (1994)</th>\n",
       "      <td>2</td>\n",
       "    </tr>\n",
       "    <tr>\n",
       "      <th>166</th>\n",
       "      <th>346</th>\n",
       "      <th>Jackie Brown (1997)</th>\n",
       "      <td>1</td>\n",
       "    </tr>\n",
       "  </tbody>\n",
       "</table>\n",
       "</div>"
      ],
      "text/plain": [
       "                                             rating\n",
       "user id movie id movie title                       \n",
       "196     242      Kolya (1996)                     3\n",
       "186     302      L.A. Confidential (1997)         3\n",
       "22      377      Heavyweights (1994)              1\n",
       "244     51       Legends of the Fall (1994)       2\n",
       "166     346      Jackie Brown (1997)              1"
      ]
     },
     "execution_count": 11,
     "metadata": {},
     "output_type": "execute_result"
    }
   ],
   "source": [
    "ratings.head()"
   ]
  },
  {
   "cell_type": "markdown",
   "metadata": {
    "slideshow": {
     "slide_type": "slide"
    }
   },
   "source": [
    "## Transforming Data"
   ]
  },
  {
   "cell_type": "markdown",
   "metadata": {
    "slideshow": {
     "slide_type": "subslide"
    }
   },
   "source": [
    "### Ratings Matrix\n",
    "\n",
    "* Rating matrix: $R = ((r_{mi}))$\n",
    "* Movies: $m=1,2,\\dots,M$\n",
    "* Individuals: $i=1,2,\\dots,I$"
   ]
  },
  {
   "cell_type": "code",
   "execution_count": 12,
   "metadata": {
    "slideshow": {
     "slide_type": "fragment"
    }
   },
   "outputs": [
    {
     "data": {
      "text/html": [
       "<div>\n",
       "<style scoped>\n",
       "    .dataframe tbody tr th:only-of-type {\n",
       "        vertical-align: middle;\n",
       "    }\n",
       "\n",
       "    .dataframe tbody tr th {\n",
       "        vertical-align: top;\n",
       "    }\n",
       "\n",
       "    .dataframe thead tr th {\n",
       "        text-align: left;\n",
       "    }\n",
       "\n",
       "    .dataframe thead tr:last-of-type th {\n",
       "        text-align: right;\n",
       "    }\n",
       "</style>\n",
       "<table border=\"1\" class=\"dataframe\">\n",
       "  <thead>\n",
       "    <tr>\n",
       "      <th></th>\n",
       "      <th></th>\n",
       "      <th colspan=\"21\" halign=\"left\">rating</th>\n",
       "    </tr>\n",
       "    <tr>\n",
       "      <th></th>\n",
       "      <th>user id</th>\n",
       "      <th>1</th>\n",
       "      <th>2</th>\n",
       "      <th>3</th>\n",
       "      <th>4</th>\n",
       "      <th>5</th>\n",
       "      <th>6</th>\n",
       "      <th>7</th>\n",
       "      <th>8</th>\n",
       "      <th>9</th>\n",
       "      <th>10</th>\n",
       "      <th>...</th>\n",
       "      <th>934</th>\n",
       "      <th>935</th>\n",
       "      <th>936</th>\n",
       "      <th>937</th>\n",
       "      <th>938</th>\n",
       "      <th>939</th>\n",
       "      <th>940</th>\n",
       "      <th>941</th>\n",
       "      <th>942</th>\n",
       "      <th>943</th>\n",
       "    </tr>\n",
       "    <tr>\n",
       "      <th>movie id</th>\n",
       "      <th>movie title</th>\n",
       "      <th></th>\n",
       "      <th></th>\n",
       "      <th></th>\n",
       "      <th></th>\n",
       "      <th></th>\n",
       "      <th></th>\n",
       "      <th></th>\n",
       "      <th></th>\n",
       "      <th></th>\n",
       "      <th></th>\n",
       "      <th></th>\n",
       "      <th></th>\n",
       "      <th></th>\n",
       "      <th></th>\n",
       "      <th></th>\n",
       "      <th></th>\n",
       "      <th></th>\n",
       "      <th></th>\n",
       "      <th></th>\n",
       "      <th></th>\n",
       "      <th></th>\n",
       "    </tr>\n",
       "  </thead>\n",
       "  <tbody>\n",
       "    <tr>\n",
       "      <th>1</th>\n",
       "      <th>Toy Story (1995)</th>\n",
       "      <td>5.0</td>\n",
       "      <td>4.0</td>\n",
       "      <td>NaN</td>\n",
       "      <td>NaN</td>\n",
       "      <td>4.0</td>\n",
       "      <td>4.0</td>\n",
       "      <td>NaN</td>\n",
       "      <td>NaN</td>\n",
       "      <td>NaN</td>\n",
       "      <td>4.0</td>\n",
       "      <td>...</td>\n",
       "      <td>2.0</td>\n",
       "      <td>3.0</td>\n",
       "      <td>4.0</td>\n",
       "      <td>NaN</td>\n",
       "      <td>4.0</td>\n",
       "      <td>NaN</td>\n",
       "      <td>NaN</td>\n",
       "      <td>5.0</td>\n",
       "      <td>NaN</td>\n",
       "      <td>NaN</td>\n",
       "    </tr>\n",
       "    <tr>\n",
       "      <th>2</th>\n",
       "      <th>GoldenEye (1995)</th>\n",
       "      <td>3.0</td>\n",
       "      <td>NaN</td>\n",
       "      <td>NaN</td>\n",
       "      <td>NaN</td>\n",
       "      <td>3.0</td>\n",
       "      <td>NaN</td>\n",
       "      <td>NaN</td>\n",
       "      <td>NaN</td>\n",
       "      <td>NaN</td>\n",
       "      <td>NaN</td>\n",
       "      <td>...</td>\n",
       "      <td>4.0</td>\n",
       "      <td>NaN</td>\n",
       "      <td>NaN</td>\n",
       "      <td>NaN</td>\n",
       "      <td>NaN</td>\n",
       "      <td>NaN</td>\n",
       "      <td>NaN</td>\n",
       "      <td>NaN</td>\n",
       "      <td>NaN</td>\n",
       "      <td>5.0</td>\n",
       "    </tr>\n",
       "    <tr>\n",
       "      <th>3</th>\n",
       "      <th>Four Rooms (1995)</th>\n",
       "      <td>4.0</td>\n",
       "      <td>NaN</td>\n",
       "      <td>NaN</td>\n",
       "      <td>NaN</td>\n",
       "      <td>NaN</td>\n",
       "      <td>NaN</td>\n",
       "      <td>NaN</td>\n",
       "      <td>NaN</td>\n",
       "      <td>NaN</td>\n",
       "      <td>NaN</td>\n",
       "      <td>...</td>\n",
       "      <td>NaN</td>\n",
       "      <td>NaN</td>\n",
       "      <td>4.0</td>\n",
       "      <td>NaN</td>\n",
       "      <td>NaN</td>\n",
       "      <td>NaN</td>\n",
       "      <td>NaN</td>\n",
       "      <td>NaN</td>\n",
       "      <td>NaN</td>\n",
       "      <td>NaN</td>\n",
       "    </tr>\n",
       "    <tr>\n",
       "      <th>4</th>\n",
       "      <th>Get Shorty (1995)</th>\n",
       "      <td>3.0</td>\n",
       "      <td>NaN</td>\n",
       "      <td>NaN</td>\n",
       "      <td>NaN</td>\n",
       "      <td>NaN</td>\n",
       "      <td>NaN</td>\n",
       "      <td>5.0</td>\n",
       "      <td>NaN</td>\n",
       "      <td>NaN</td>\n",
       "      <td>4.0</td>\n",
       "      <td>...</td>\n",
       "      <td>5.0</td>\n",
       "      <td>NaN</td>\n",
       "      <td>NaN</td>\n",
       "      <td>NaN</td>\n",
       "      <td>NaN</td>\n",
       "      <td>NaN</td>\n",
       "      <td>2.0</td>\n",
       "      <td>NaN</td>\n",
       "      <td>NaN</td>\n",
       "      <td>NaN</td>\n",
       "    </tr>\n",
       "    <tr>\n",
       "      <th>5</th>\n",
       "      <th>Copycat (1995)</th>\n",
       "      <td>3.0</td>\n",
       "      <td>NaN</td>\n",
       "      <td>NaN</td>\n",
       "      <td>NaN</td>\n",
       "      <td>NaN</td>\n",
       "      <td>NaN</td>\n",
       "      <td>NaN</td>\n",
       "      <td>NaN</td>\n",
       "      <td>NaN</td>\n",
       "      <td>NaN</td>\n",
       "      <td>...</td>\n",
       "      <td>NaN</td>\n",
       "      <td>NaN</td>\n",
       "      <td>NaN</td>\n",
       "      <td>NaN</td>\n",
       "      <td>NaN</td>\n",
       "      <td>NaN</td>\n",
       "      <td>NaN</td>\n",
       "      <td>NaN</td>\n",
       "      <td>NaN</td>\n",
       "      <td>NaN</td>\n",
       "    </tr>\n",
       "    <tr>\n",
       "      <th>...</th>\n",
       "      <th>...</th>\n",
       "      <td>...</td>\n",
       "      <td>...</td>\n",
       "      <td>...</td>\n",
       "      <td>...</td>\n",
       "      <td>...</td>\n",
       "      <td>...</td>\n",
       "      <td>...</td>\n",
       "      <td>...</td>\n",
       "      <td>...</td>\n",
       "      <td>...</td>\n",
       "      <td>...</td>\n",
       "      <td>...</td>\n",
       "      <td>...</td>\n",
       "      <td>...</td>\n",
       "      <td>...</td>\n",
       "      <td>...</td>\n",
       "      <td>...</td>\n",
       "      <td>...</td>\n",
       "      <td>...</td>\n",
       "      <td>...</td>\n",
       "      <td>...</td>\n",
       "    </tr>\n",
       "    <tr>\n",
       "      <th>1678</th>\n",
       "      <th>Mat' i syn (1997)</th>\n",
       "      <td>NaN</td>\n",
       "      <td>NaN</td>\n",
       "      <td>NaN</td>\n",
       "      <td>NaN</td>\n",
       "      <td>NaN</td>\n",
       "      <td>NaN</td>\n",
       "      <td>NaN</td>\n",
       "      <td>NaN</td>\n",
       "      <td>NaN</td>\n",
       "      <td>NaN</td>\n",
       "      <td>...</td>\n",
       "      <td>NaN</td>\n",
       "      <td>NaN</td>\n",
       "      <td>NaN</td>\n",
       "      <td>NaN</td>\n",
       "      <td>NaN</td>\n",
       "      <td>NaN</td>\n",
       "      <td>NaN</td>\n",
       "      <td>NaN</td>\n",
       "      <td>NaN</td>\n",
       "      <td>NaN</td>\n",
       "    </tr>\n",
       "    <tr>\n",
       "      <th>1679</th>\n",
       "      <th>B. Monkey (1998)</th>\n",
       "      <td>NaN</td>\n",
       "      <td>NaN</td>\n",
       "      <td>NaN</td>\n",
       "      <td>NaN</td>\n",
       "      <td>NaN</td>\n",
       "      <td>NaN</td>\n",
       "      <td>NaN</td>\n",
       "      <td>NaN</td>\n",
       "      <td>NaN</td>\n",
       "      <td>NaN</td>\n",
       "      <td>...</td>\n",
       "      <td>NaN</td>\n",
       "      <td>NaN</td>\n",
       "      <td>NaN</td>\n",
       "      <td>NaN</td>\n",
       "      <td>NaN</td>\n",
       "      <td>NaN</td>\n",
       "      <td>NaN</td>\n",
       "      <td>NaN</td>\n",
       "      <td>NaN</td>\n",
       "      <td>NaN</td>\n",
       "    </tr>\n",
       "    <tr>\n",
       "      <th>1680</th>\n",
       "      <th>Sliding Doors (1998)</th>\n",
       "      <td>NaN</td>\n",
       "      <td>NaN</td>\n",
       "      <td>NaN</td>\n",
       "      <td>NaN</td>\n",
       "      <td>NaN</td>\n",
       "      <td>NaN</td>\n",
       "      <td>NaN</td>\n",
       "      <td>NaN</td>\n",
       "      <td>NaN</td>\n",
       "      <td>NaN</td>\n",
       "      <td>...</td>\n",
       "      <td>NaN</td>\n",
       "      <td>NaN</td>\n",
       "      <td>NaN</td>\n",
       "      <td>NaN</td>\n",
       "      <td>NaN</td>\n",
       "      <td>NaN</td>\n",
       "      <td>NaN</td>\n",
       "      <td>NaN</td>\n",
       "      <td>NaN</td>\n",
       "      <td>NaN</td>\n",
       "    </tr>\n",
       "    <tr>\n",
       "      <th>1681</th>\n",
       "      <th>You So Crazy (1994)</th>\n",
       "      <td>NaN</td>\n",
       "      <td>NaN</td>\n",
       "      <td>NaN</td>\n",
       "      <td>NaN</td>\n",
       "      <td>NaN</td>\n",
       "      <td>NaN</td>\n",
       "      <td>NaN</td>\n",
       "      <td>NaN</td>\n",
       "      <td>NaN</td>\n",
       "      <td>NaN</td>\n",
       "      <td>...</td>\n",
       "      <td>NaN</td>\n",
       "      <td>NaN</td>\n",
       "      <td>NaN</td>\n",
       "      <td>NaN</td>\n",
       "      <td>NaN</td>\n",
       "      <td>NaN</td>\n",
       "      <td>NaN</td>\n",
       "      <td>NaN</td>\n",
       "      <td>NaN</td>\n",
       "      <td>NaN</td>\n",
       "    </tr>\n",
       "    <tr>\n",
       "      <th>1682</th>\n",
       "      <th>Scream of Stone (Schrei aus Stein) (1991)</th>\n",
       "      <td>NaN</td>\n",
       "      <td>NaN</td>\n",
       "      <td>NaN</td>\n",
       "      <td>NaN</td>\n",
       "      <td>NaN</td>\n",
       "      <td>NaN</td>\n",
       "      <td>NaN</td>\n",
       "      <td>NaN</td>\n",
       "      <td>NaN</td>\n",
       "      <td>NaN</td>\n",
       "      <td>...</td>\n",
       "      <td>NaN</td>\n",
       "      <td>NaN</td>\n",
       "      <td>NaN</td>\n",
       "      <td>NaN</td>\n",
       "      <td>NaN</td>\n",
       "      <td>NaN</td>\n",
       "      <td>NaN</td>\n",
       "      <td>NaN</td>\n",
       "      <td>NaN</td>\n",
       "      <td>NaN</td>\n",
       "    </tr>\n",
       "  </tbody>\n",
       "</table>\n",
       "<p>1682 rows × 943 columns</p>\n",
       "</div>"
      ],
      "text/plain": [
       "                                                   rating                    \\\n",
       "user id                                               1    2   3   4    5     \n",
       "movie id movie title                                                          \n",
       "1        Toy Story (1995)                             5.0  4.0 NaN NaN  4.0   \n",
       "2        GoldenEye (1995)                             3.0  NaN NaN NaN  3.0   \n",
       "3        Four Rooms (1995)                            4.0  NaN NaN NaN  NaN   \n",
       "4        Get Shorty (1995)                            3.0  NaN NaN NaN  NaN   \n",
       "5        Copycat (1995)                               3.0  NaN NaN NaN  NaN   \n",
       "...                                                   ...  ...  ..  ..  ...   \n",
       "1678     Mat' i syn (1997)                            NaN  NaN NaN NaN  NaN   \n",
       "1679     B. Monkey (1998)                             NaN  NaN NaN NaN  NaN   \n",
       "1680     Sliding Doors (1998)                         NaN  NaN NaN NaN  NaN   \n",
       "1681     You So Crazy (1994)                          NaN  NaN NaN NaN  NaN   \n",
       "1682     Scream of Stone (Schrei aus Stein) (1991)    NaN  NaN NaN NaN  NaN   \n",
       "\n",
       "                                                                           \\\n",
       "user id                                             6    7   8   9    10    \n",
       "movie id movie title                                                        \n",
       "1        Toy Story (1995)                           4.0  NaN NaN NaN  4.0   \n",
       "2        GoldenEye (1995)                           NaN  NaN NaN NaN  NaN   \n",
       "3        Four Rooms (1995)                          NaN  NaN NaN NaN  NaN   \n",
       "4        Get Shorty (1995)                          NaN  5.0 NaN NaN  4.0   \n",
       "5        Copycat (1995)                             NaN  NaN NaN NaN  NaN   \n",
       "...                                                 ...  ...  ..  ..  ...   \n",
       "1678     Mat' i syn (1997)                          NaN  NaN NaN NaN  NaN   \n",
       "1679     B. Monkey (1998)                           NaN  NaN NaN NaN  NaN   \n",
       "1680     Sliding Doors (1998)                       NaN  NaN NaN NaN  NaN   \n",
       "1681     You So Crazy (1994)                        NaN  NaN NaN NaN  NaN   \n",
       "1682     Scream of Stone (Schrei aus Stein) (1991)  NaN  NaN NaN NaN  NaN   \n",
       "\n",
       "                                                    ...                     \\\n",
       "user id                                             ...  934  935  936 937   \n",
       "movie id movie title                                ...                      \n",
       "1        Toy Story (1995)                           ...  2.0  3.0  4.0 NaN   \n",
       "2        GoldenEye (1995)                           ...  4.0  NaN  NaN NaN   \n",
       "3        Four Rooms (1995)                          ...  NaN  NaN  4.0 NaN   \n",
       "4        Get Shorty (1995)                          ...  5.0  NaN  NaN NaN   \n",
       "5        Copycat (1995)                             ...  NaN  NaN  NaN NaN   \n",
       "...                                                 ...  ...  ...  ...  ..   \n",
       "1678     Mat' i syn (1997)                          ...  NaN  NaN  NaN NaN   \n",
       "1679     B. Monkey (1998)                           ...  NaN  NaN  NaN NaN   \n",
       "1680     Sliding Doors (1998)                       ...  NaN  NaN  NaN NaN   \n",
       "1681     You So Crazy (1994)                        ...  NaN  NaN  NaN NaN   \n",
       "1682     Scream of Stone (Schrei aus Stein) (1991)  ...  NaN  NaN  NaN NaN   \n",
       "\n",
       "                                                                                \n",
       "user id                                             938 939  940  941 942  943  \n",
       "movie id movie title                                                            \n",
       "1        Toy Story (1995)                           4.0 NaN  NaN  5.0 NaN  NaN  \n",
       "2        GoldenEye (1995)                           NaN NaN  NaN  NaN NaN  5.0  \n",
       "3        Four Rooms (1995)                          NaN NaN  NaN  NaN NaN  NaN  \n",
       "4        Get Shorty (1995)                          NaN NaN  2.0  NaN NaN  NaN  \n",
       "5        Copycat (1995)                             NaN NaN  NaN  NaN NaN  NaN  \n",
       "...                                                 ...  ..  ...  ...  ..  ...  \n",
       "1678     Mat' i syn (1997)                          NaN NaN  NaN  NaN NaN  NaN  \n",
       "1679     B. Monkey (1998)                           NaN NaN  NaN  NaN NaN  NaN  \n",
       "1680     Sliding Doors (1998)                       NaN NaN  NaN  NaN NaN  NaN  \n",
       "1681     You So Crazy (1994)                        NaN NaN  NaN  NaN NaN  NaN  \n",
       "1682     Scream of Stone (Schrei aus Stein) (1991)  NaN NaN  NaN  NaN NaN  NaN  \n",
       "\n",
       "[1682 rows x 943 columns]"
      ]
     },
     "execution_count": 12,
     "metadata": {},
     "output_type": "execute_result"
    }
   ],
   "source": [
    "R_all = ratings.unstack(['user id'])\n",
    "R_all"
   ]
  },
  {
   "cell_type": "markdown",
   "metadata": {
    "slideshow": {
     "slide_type": "subslide"
    }
   },
   "source": [
    "Most ratings are missing:"
   ]
  },
  {
   "cell_type": "code",
   "execution_count": 13,
   "metadata": {
    "slideshow": {
     "slide_type": "fragment"
    }
   },
   "outputs": [
    {
     "data": {
      "text/plain": [
       "0.9369533063577539"
      ]
     },
     "execution_count": 13,
     "metadata": {},
     "output_type": "execute_result"
    }
   ],
   "source": [
    "(np.isnan(R_all)).mean().mean()"
   ]
  },
  {
   "cell_type": "markdown",
   "metadata": {
    "slideshow": {
     "slide_type": "subslide"
    }
   },
   "source": [
    "### Small Subset of Data\n",
    "\n",
    "Create a manageable dataset: 16 users and 15 movies"
   ]
  },
  {
   "cell_type": "code",
   "execution_count": 14,
   "metadata": {
    "slideshow": {
     "slide_type": "fragment"
    }
   },
   "outputs": [
    {
     "data": {
      "text/html": [
       "<div>\n",
       "<style scoped>\n",
       "    .dataframe tbody tr th:only-of-type {\n",
       "        vertical-align: middle;\n",
       "    }\n",
       "\n",
       "    .dataframe tbody tr th {\n",
       "        vertical-align: top;\n",
       "    }\n",
       "\n",
       "    .dataframe thead tr th {\n",
       "        text-align: left;\n",
       "    }\n",
       "\n",
       "    .dataframe thead tr:last-of-type th {\n",
       "        text-align: right;\n",
       "    }\n",
       "</style>\n",
       "<table border=\"1\" class=\"dataframe\">\n",
       "  <thead>\n",
       "    <tr>\n",
       "      <th></th>\n",
       "      <th></th>\n",
       "      <th colspan=\"16\" halign=\"left\">rating</th>\n",
       "    </tr>\n",
       "    <tr>\n",
       "      <th></th>\n",
       "      <th>user id</th>\n",
       "      <th>883</th>\n",
       "      <th>716</th>\n",
       "      <th>387</th>\n",
       "      <th>85</th>\n",
       "      <th>339</th>\n",
       "      <th>178</th>\n",
       "      <th>389</th>\n",
       "      <th>271</th>\n",
       "      <th>1</th>\n",
       "      <th>650</th>\n",
       "      <th>727</th>\n",
       "      <th>312</th>\n",
       "      <th>269</th>\n",
       "      <th>328</th>\n",
       "      <th>299</th>\n",
       "      <th>301</th>\n",
       "    </tr>\n",
       "    <tr>\n",
       "      <th>movie id</th>\n",
       "      <th>movie title</th>\n",
       "      <th></th>\n",
       "      <th></th>\n",
       "      <th></th>\n",
       "      <th></th>\n",
       "      <th></th>\n",
       "      <th></th>\n",
       "      <th></th>\n",
       "      <th></th>\n",
       "      <th></th>\n",
       "      <th></th>\n",
       "      <th></th>\n",
       "      <th></th>\n",
       "      <th></th>\n",
       "      <th></th>\n",
       "      <th></th>\n",
       "      <th></th>\n",
       "    </tr>\n",
       "  </thead>\n",
       "  <tbody>\n",
       "    <tr>\n",
       "      <th>132</th>\n",
       "      <th>Wizard of Oz, The (1939)</th>\n",
       "      <td>NaN</td>\n",
       "      <td>5.0</td>\n",
       "      <td>NaN</td>\n",
       "      <td>5.0</td>\n",
       "      <td>5.0</td>\n",
       "      <td>NaN</td>\n",
       "      <td>5.0</td>\n",
       "      <td>5.0</td>\n",
       "      <td>4.0</td>\n",
       "      <td>4.0</td>\n",
       "      <td>2.0</td>\n",
       "      <td>5.0</td>\n",
       "      <td>5.0</td>\n",
       "      <td>5.0</td>\n",
       "      <td>NaN</td>\n",
       "      <td>4.0</td>\n",
       "    </tr>\n",
       "    <tr>\n",
       "      <th>238</th>\n",
       "      <th>Raising Arizona (1987)</th>\n",
       "      <td>4.0</td>\n",
       "      <td>4.0</td>\n",
       "      <td>5.0</td>\n",
       "      <td>2.0</td>\n",
       "      <td>5.0</td>\n",
       "      <td>4.0</td>\n",
       "      <td>5.0</td>\n",
       "      <td>4.0</td>\n",
       "      <td>4.0</td>\n",
       "      <td>4.0</td>\n",
       "      <td>2.0</td>\n",
       "      <td>3.0</td>\n",
       "      <td>5.0</td>\n",
       "      <td>NaN</td>\n",
       "      <td>4.0</td>\n",
       "      <td>NaN</td>\n",
       "    </tr>\n",
       "    <tr>\n",
       "      <th>748</th>\n",
       "      <th>Saint, The (1997)</th>\n",
       "      <td>5.0</td>\n",
       "      <td>NaN</td>\n",
       "      <td>NaN</td>\n",
       "      <td>NaN</td>\n",
       "      <td>NaN</td>\n",
       "      <td>4.0</td>\n",
       "      <td>NaN</td>\n",
       "      <td>NaN</td>\n",
       "      <td>NaN</td>\n",
       "      <td>NaN</td>\n",
       "      <td>4.0</td>\n",
       "      <td>NaN</td>\n",
       "      <td>NaN</td>\n",
       "      <td>3.0</td>\n",
       "      <td>NaN</td>\n",
       "      <td>NaN</td>\n",
       "    </tr>\n",
       "    <tr>\n",
       "      <th>196</th>\n",
       "      <th>Dead Poets Society (1989)</th>\n",
       "      <td>NaN</td>\n",
       "      <td>5.0</td>\n",
       "      <td>2.0</td>\n",
       "      <td>4.0</td>\n",
       "      <td>4.0</td>\n",
       "      <td>4.0</td>\n",
       "      <td>3.0</td>\n",
       "      <td>4.0</td>\n",
       "      <td>5.0</td>\n",
       "      <td>4.0</td>\n",
       "      <td>4.0</td>\n",
       "      <td>NaN</td>\n",
       "      <td>1.0</td>\n",
       "      <td>NaN</td>\n",
       "      <td>NaN</td>\n",
       "      <td>4.0</td>\n",
       "    </tr>\n",
       "    <tr>\n",
       "      <th>197</th>\n",
       "      <th>Graduate, The (1967)</th>\n",
       "      <td>4.0</td>\n",
       "      <td>5.0</td>\n",
       "      <td>2.0</td>\n",
       "      <td>5.0</td>\n",
       "      <td>5.0</td>\n",
       "      <td>2.0</td>\n",
       "      <td>5.0</td>\n",
       "      <td>4.0</td>\n",
       "      <td>5.0</td>\n",
       "      <td>4.0</td>\n",
       "      <td>3.0</td>\n",
       "      <td>4.0</td>\n",
       "      <td>5.0</td>\n",
       "      <td>NaN</td>\n",
       "      <td>3.0</td>\n",
       "      <td>5.0</td>\n",
       "    </tr>\n",
       "    <tr>\n",
       "      <th>185</th>\n",
       "      <th>Psycho (1960)</th>\n",
       "      <td>5.0</td>\n",
       "      <td>5.0</td>\n",
       "      <td>NaN</td>\n",
       "      <td>NaN</td>\n",
       "      <td>4.0</td>\n",
       "      <td>NaN</td>\n",
       "      <td>5.0</td>\n",
       "      <td>3.0</td>\n",
       "      <td>4.0</td>\n",
       "      <td>3.0</td>\n",
       "      <td>NaN</td>\n",
       "      <td>5.0</td>\n",
       "      <td>5.0</td>\n",
       "      <td>4.0</td>\n",
       "      <td>3.0</td>\n",
       "      <td>NaN</td>\n",
       "    </tr>\n",
       "    <tr>\n",
       "      <th>194</th>\n",
       "      <th>Sting, The (1973)</th>\n",
       "      <td>3.0</td>\n",
       "      <td>5.0</td>\n",
       "      <td>3.0</td>\n",
       "      <td>4.0</td>\n",
       "      <td>4.0</td>\n",
       "      <td>4.0</td>\n",
       "      <td>4.0</td>\n",
       "      <td>5.0</td>\n",
       "      <td>4.0</td>\n",
       "      <td>4.0</td>\n",
       "      <td>NaN</td>\n",
       "      <td>4.0</td>\n",
       "      <td>5.0</td>\n",
       "      <td>3.0</td>\n",
       "      <td>3.0</td>\n",
       "      <td>4.0</td>\n",
       "    </tr>\n",
       "    <tr>\n",
       "      <th>742</th>\n",
       "      <th>Ransom (1996)</th>\n",
       "      <td>NaN</td>\n",
       "      <td>NaN</td>\n",
       "      <td>2.0</td>\n",
       "      <td>NaN</td>\n",
       "      <td>NaN</td>\n",
       "      <td>3.0</td>\n",
       "      <td>NaN</td>\n",
       "      <td>3.0</td>\n",
       "      <td>NaN</td>\n",
       "      <td>3.0</td>\n",
       "      <td>NaN</td>\n",
       "      <td>NaN</td>\n",
       "      <td>NaN</td>\n",
       "      <td>4.0</td>\n",
       "      <td>4.0</td>\n",
       "      <td>4.0</td>\n",
       "    </tr>\n",
       "    <tr>\n",
       "      <th>82</th>\n",
       "      <th>Jurassic Park (1993)</th>\n",
       "      <td>3.0</td>\n",
       "      <td>5.0</td>\n",
       "      <td>4.0</td>\n",
       "      <td>3.0</td>\n",
       "      <td>4.0</td>\n",
       "      <td>5.0</td>\n",
       "      <td>4.0</td>\n",
       "      <td>NaN</td>\n",
       "      <td>5.0</td>\n",
       "      <td>3.0</td>\n",
       "      <td>3.0</td>\n",
       "      <td>NaN</td>\n",
       "      <td>2.0</td>\n",
       "      <td>4.0</td>\n",
       "      <td>NaN</td>\n",
       "      <td>5.0</td>\n",
       "    </tr>\n",
       "    <tr>\n",
       "      <th>97</th>\n",
       "      <th>Dances with Wolves (1990)</th>\n",
       "      <td>NaN</td>\n",
       "      <td>4.0</td>\n",
       "      <td>2.0</td>\n",
       "      <td>2.0</td>\n",
       "      <td>4.0</td>\n",
       "      <td>5.0</td>\n",
       "      <td>NaN</td>\n",
       "      <td>5.0</td>\n",
       "      <td>3.0</td>\n",
       "      <td>3.0</td>\n",
       "      <td>NaN</td>\n",
       "      <td>5.0</td>\n",
       "      <td>NaN</td>\n",
       "      <td>3.0</td>\n",
       "      <td>4.0</td>\n",
       "      <td>4.0</td>\n",
       "    </tr>\n",
       "    <tr>\n",
       "      <th>475</th>\n",
       "      <th>Trainspotting (1996)</th>\n",
       "      <td>NaN</td>\n",
       "      <td>NaN</td>\n",
       "      <td>3.0</td>\n",
       "      <td>NaN</td>\n",
       "      <td>5.0</td>\n",
       "      <td>NaN</td>\n",
       "      <td>5.0</td>\n",
       "      <td>NaN</td>\n",
       "      <td>NaN</td>\n",
       "      <td>NaN</td>\n",
       "      <td>NaN</td>\n",
       "      <td>NaN</td>\n",
       "      <td>5.0</td>\n",
       "      <td>NaN</td>\n",
       "      <td>4.0</td>\n",
       "      <td>NaN</td>\n",
       "    </tr>\n",
       "    <tr>\n",
       "      <th>268</th>\n",
       "      <th>Chasing Amy (1997)</th>\n",
       "      <td>NaN</td>\n",
       "      <td>NaN</td>\n",
       "      <td>3.0</td>\n",
       "      <td>4.0</td>\n",
       "      <td>NaN</td>\n",
       "      <td>4.0</td>\n",
       "      <td>NaN</td>\n",
       "      <td>NaN</td>\n",
       "      <td>5.0</td>\n",
       "      <td>NaN</td>\n",
       "      <td>4.0</td>\n",
       "      <td>NaN</td>\n",
       "      <td>5.0</td>\n",
       "      <td>NaN</td>\n",
       "      <td>NaN</td>\n",
       "      <td>NaN</td>\n",
       "    </tr>\n",
       "    <tr>\n",
       "      <th>186</th>\n",
       "      <th>Blues Brothers, The (1980)</th>\n",
       "      <td>NaN</td>\n",
       "      <td>3.0</td>\n",
       "      <td>2.0</td>\n",
       "      <td>3.0</td>\n",
       "      <td>4.0</td>\n",
       "      <td>NaN</td>\n",
       "      <td>2.0</td>\n",
       "      <td>4.0</td>\n",
       "      <td>4.0</td>\n",
       "      <td>4.0</td>\n",
       "      <td>5.0</td>\n",
       "      <td>3.0</td>\n",
       "      <td>2.0</td>\n",
       "      <td>4.0</td>\n",
       "      <td>3.0</td>\n",
       "      <td>4.0</td>\n",
       "    </tr>\n",
       "    <tr>\n",
       "      <th>496</th>\n",
       "      <th>It's a Wonderful Life (1946)</th>\n",
       "      <td>2.0</td>\n",
       "      <td>5.0</td>\n",
       "      <td>3.0</td>\n",
       "      <td>4.0</td>\n",
       "      <td>5.0</td>\n",
       "      <td>NaN</td>\n",
       "      <td>4.0</td>\n",
       "      <td>5.0</td>\n",
       "      <td>NaN</td>\n",
       "      <td>4.0</td>\n",
       "      <td>NaN</td>\n",
       "      <td>5.0</td>\n",
       "      <td>5.0</td>\n",
       "      <td>NaN</td>\n",
       "      <td>3.0</td>\n",
       "      <td>5.0</td>\n",
       "    </tr>\n",
       "    <tr>\n",
       "      <th>111</th>\n",
       "      <th>Truth About Cats &amp; Dogs, The (1996)</th>\n",
       "      <td>NaN</td>\n",
       "      <td>4.0</td>\n",
       "      <td>NaN</td>\n",
       "      <td>NaN</td>\n",
       "      <td>NaN</td>\n",
       "      <td>4.0</td>\n",
       "      <td>3.0</td>\n",
       "      <td>4.0</td>\n",
       "      <td>5.0</td>\n",
       "      <td>NaN</td>\n",
       "      <td>3.0</td>\n",
       "      <td>NaN</td>\n",
       "      <td>1.0</td>\n",
       "      <td>NaN</td>\n",
       "      <td>3.0</td>\n",
       "      <td>1.0</td>\n",
       "    </tr>\n",
       "  </tbody>\n",
       "</table>\n",
       "</div>"
      ],
      "text/plain": [
       "                                             rating                           \\\n",
       "user id                                         883  716  387  85   339  178   \n",
       "movie id movie title                                                           \n",
       "132      Wizard of Oz, The (1939)               NaN  5.0  NaN  5.0  5.0  NaN   \n",
       "238      Raising Arizona (1987)                 4.0  4.0  5.0  2.0  5.0  4.0   \n",
       "748      Saint, The (1997)                      5.0  NaN  NaN  NaN  NaN  4.0   \n",
       "196      Dead Poets Society (1989)              NaN  5.0  2.0  4.0  4.0  4.0   \n",
       "197      Graduate, The (1967)                   4.0  5.0  2.0  5.0  5.0  2.0   \n",
       "185      Psycho (1960)                          5.0  5.0  NaN  NaN  4.0  NaN   \n",
       "194      Sting, The (1973)                      3.0  5.0  3.0  4.0  4.0  4.0   \n",
       "742      Ransom (1996)                          NaN  NaN  2.0  NaN  NaN  3.0   \n",
       "82       Jurassic Park (1993)                   3.0  5.0  4.0  3.0  4.0  5.0   \n",
       "97       Dances with Wolves (1990)              NaN  4.0  2.0  2.0  4.0  5.0   \n",
       "475      Trainspotting (1996)                   NaN  NaN  3.0  NaN  5.0  NaN   \n",
       "268      Chasing Amy (1997)                     NaN  NaN  3.0  4.0  NaN  4.0   \n",
       "186      Blues Brothers, The (1980)             NaN  3.0  2.0  3.0  4.0  NaN   \n",
       "496      It's a Wonderful Life (1946)           2.0  5.0  3.0  4.0  5.0  NaN   \n",
       "111      Truth About Cats & Dogs, The (1996)    NaN  4.0  NaN  NaN  NaN  4.0   \n",
       "\n",
       "                                                                            \\\n",
       "user id                                       389  271  1    650  727  312   \n",
       "movie id movie title                                                         \n",
       "132      Wizard of Oz, The (1939)             5.0  5.0  4.0  4.0  2.0  5.0   \n",
       "238      Raising Arizona (1987)               5.0  4.0  4.0  4.0  2.0  3.0   \n",
       "748      Saint, The (1997)                    NaN  NaN  NaN  NaN  4.0  NaN   \n",
       "196      Dead Poets Society (1989)            3.0  4.0  5.0  4.0  4.0  NaN   \n",
       "197      Graduate, The (1967)                 5.0  4.0  5.0  4.0  3.0  4.0   \n",
       "185      Psycho (1960)                        5.0  3.0  4.0  3.0  NaN  5.0   \n",
       "194      Sting, The (1973)                    4.0  5.0  4.0  4.0  NaN  4.0   \n",
       "742      Ransom (1996)                        NaN  3.0  NaN  3.0  NaN  NaN   \n",
       "82       Jurassic Park (1993)                 4.0  NaN  5.0  3.0  3.0  NaN   \n",
       "97       Dances with Wolves (1990)            NaN  5.0  3.0  3.0  NaN  5.0   \n",
       "475      Trainspotting (1996)                 5.0  NaN  NaN  NaN  NaN  NaN   \n",
       "268      Chasing Amy (1997)                   NaN  NaN  5.0  NaN  4.0  NaN   \n",
       "186      Blues Brothers, The (1980)           2.0  4.0  4.0  4.0  5.0  3.0   \n",
       "496      It's a Wonderful Life (1946)         4.0  5.0  NaN  4.0  NaN  5.0   \n",
       "111      Truth About Cats & Dogs, The (1996)  3.0  4.0  5.0  NaN  3.0  NaN   \n",
       "\n",
       "                                                                  \n",
       "user id                                       269  328  299  301  \n",
       "movie id movie title                                              \n",
       "132      Wizard of Oz, The (1939)             5.0  5.0  NaN  4.0  \n",
       "238      Raising Arizona (1987)               5.0  NaN  4.0  NaN  \n",
       "748      Saint, The (1997)                    NaN  3.0  NaN  NaN  \n",
       "196      Dead Poets Society (1989)            1.0  NaN  NaN  4.0  \n",
       "197      Graduate, The (1967)                 5.0  NaN  3.0  5.0  \n",
       "185      Psycho (1960)                        5.0  4.0  3.0  NaN  \n",
       "194      Sting, The (1973)                    5.0  3.0  3.0  4.0  \n",
       "742      Ransom (1996)                        NaN  4.0  4.0  4.0  \n",
       "82       Jurassic Park (1993)                 2.0  4.0  NaN  5.0  \n",
       "97       Dances with Wolves (1990)            NaN  3.0  4.0  4.0  \n",
       "475      Trainspotting (1996)                 5.0  NaN  4.0  NaN  \n",
       "268      Chasing Amy (1997)                   5.0  NaN  NaN  NaN  \n",
       "186      Blues Brothers, The (1980)           2.0  4.0  3.0  4.0  \n",
       "496      It's a Wonderful Life (1946)         5.0  NaN  3.0  5.0  \n",
       "111      Truth About Cats & Dogs, The (1996)  1.0  NaN  3.0  1.0  "
      ]
     },
     "execution_count": 14,
     "metadata": {},
     "output_type": "execute_result"
    }
   ],
   "source": [
    "I = 16\n",
    "M = 15\n",
    "\n",
    "# retrieve movies/users combination that is not *too* sparse\n",
    "top_users = R_all.agg(sum, axis=0).nlargest(70).tail(I).index\n",
    "top_movies = R_all.agg(sum, axis=1).nlargest(70).tail(M).index\n",
    "\n",
    "R = R_all.loc[top_movies, top_users]\n",
    "R"
   ]
  },
  {
   "cell_type": "markdown",
   "metadata": {
    "slideshow": {
     "slide_type": "subslide"
    }
   },
   "source": [
    "### Visualizing Missing Values\n",
    "\n",
    "Zeros indicate missing ratings. To visualize the missing values, plot the following heatmap"
   ]
  },
  {
   "cell_type": "code",
   "execution_count": 15,
   "metadata": {
    "slideshow": {
     "slide_type": "-"
    }
   },
   "outputs": [
    {
     "data": {
      "text/html": [
       "\n",
       "<div id=\"altair-viz-2e53040c93694b4e96fbc834a049c507\"></div>\n",
       "<script type=\"text/javascript\">\n",
       "  (function(spec, embedOpt){\n",
       "    let outputDiv = document.currentScript.previousElementSibling;\n",
       "    if (outputDiv.id !== \"altair-viz-2e53040c93694b4e96fbc834a049c507\") {\n",
       "      outputDiv = document.getElementById(\"altair-viz-2e53040c93694b4e96fbc834a049c507\");\n",
       "    }\n",
       "    const paths = {\n",
       "      \"vega\": \"https://cdn.jsdelivr.net/npm//vega@5?noext\",\n",
       "      \"vega-lib\": \"https://cdn.jsdelivr.net/npm//vega-lib?noext\",\n",
       "      \"vega-lite\": \"https://cdn.jsdelivr.net/npm//vega-lite@4.8.1?noext\",\n",
       "      \"vega-embed\": \"https://cdn.jsdelivr.net/npm//vega-embed@6?noext\",\n",
       "    };\n",
       "\n",
       "    function loadScript(lib) {\n",
       "      return new Promise(function(resolve, reject) {\n",
       "        var s = document.createElement('script');\n",
       "        s.src = paths[lib];\n",
       "        s.async = true;\n",
       "        s.onload = () => resolve(paths[lib]);\n",
       "        s.onerror = () => reject(`Error loading script: ${paths[lib]}`);\n",
       "        document.getElementsByTagName(\"head\")[0].appendChild(s);\n",
       "      });\n",
       "    }\n",
       "\n",
       "    function showError(err) {\n",
       "      outputDiv.innerHTML = `<div class=\"error\" style=\"color:red;\">${err}</div>`;\n",
       "      throw err;\n",
       "    }\n",
       "\n",
       "    function displayChart(vegaEmbed) {\n",
       "      vegaEmbed(outputDiv, spec, embedOpt)\n",
       "        .catch(err => showError(`Javascript Error: ${err.message}<br>This usually means there's a typo in your chart specification. See the javascript console for the full traceback.`));\n",
       "    }\n",
       "\n",
       "    if(typeof define === \"function\" && define.amd) {\n",
       "      requirejs.config({paths});\n",
       "      require([\"vega-embed\"], displayChart, err => showError(`Error loading script: ${err.message}`));\n",
       "    } else if (typeof vegaEmbed === \"function\") {\n",
       "      displayChart(vegaEmbed);\n",
       "    } else {\n",
       "      loadScript(\"vega\")\n",
       "        .then(() => loadScript(\"vega-lite\"))\n",
       "        .then(() => loadScript(\"vega-embed\"))\n",
       "        .catch(showError)\n",
       "        .then(() => displayChart(vegaEmbed));\n",
       "    }\n",
       "  })({\"config\": {\"view\": {\"continuousWidth\": 400, \"continuousHeight\": 300}}, \"data\": {\"name\": \"data-c696952f6b9c87315cca48c900efd5d3\"}, \"mark\": \"rect\", \"encoding\": {\"color\": {\"type\": \"ordinal\", \"field\": \"rating\", \"scale\": {\"scheme\": \"yellowgreenblue\"}}, \"x\": {\"type\": \"ordinal\", \"field\": \"user id\"}, \"y\": {\"type\": \"ordinal\", \"field\": \"movie title\"}}, \"$schema\": \"https://vega.github.io/schema/vega-lite/v4.8.1.json\", \"datasets\": {\"data-c696952f6b9c87315cca48c900efd5d3\": [{\"movie id\": 132, \"movie title\": \"Wizard of Oz, The (1939)\", \"user id\": 1, \"rating\": 4.0}, {\"movie id\": 132, \"movie title\": \"Wizard of Oz, The (1939)\", \"user id\": 85, \"rating\": 5.0}, {\"movie id\": 132, \"movie title\": \"Wizard of Oz, The (1939)\", \"user id\": 269, \"rating\": 5.0}, {\"movie id\": 132, \"movie title\": \"Wizard of Oz, The (1939)\", \"user id\": 271, \"rating\": 5.0}, {\"movie id\": 132, \"movie title\": \"Wizard of Oz, The (1939)\", \"user id\": 301, \"rating\": 4.0}, {\"movie id\": 132, \"movie title\": \"Wizard of Oz, The (1939)\", \"user id\": 312, \"rating\": 5.0}, {\"movie id\": 132, \"movie title\": \"Wizard of Oz, The (1939)\", \"user id\": 328, \"rating\": 5.0}, {\"movie id\": 132, \"movie title\": \"Wizard of Oz, The (1939)\", \"user id\": 339, \"rating\": 5.0}, {\"movie id\": 132, \"movie title\": \"Wizard of Oz, The (1939)\", \"user id\": 389, \"rating\": 5.0}, {\"movie id\": 132, \"movie title\": \"Wizard of Oz, The (1939)\", \"user id\": 650, \"rating\": 4.0}, {\"movie id\": 132, \"movie title\": \"Wizard of Oz, The (1939)\", \"user id\": 716, \"rating\": 5.0}, {\"movie id\": 132, \"movie title\": \"Wizard of Oz, The (1939)\", \"user id\": 727, \"rating\": 2.0}, {\"movie id\": 238, \"movie title\": \"Raising Arizona (1987)\", \"user id\": 1, \"rating\": 4.0}, {\"movie id\": 238, \"movie title\": \"Raising Arizona (1987)\", \"user id\": 85, \"rating\": 2.0}, {\"movie id\": 238, \"movie title\": \"Raising Arizona (1987)\", \"user id\": 178, \"rating\": 4.0}, {\"movie id\": 238, \"movie title\": \"Raising Arizona (1987)\", \"user id\": 269, \"rating\": 5.0}, {\"movie id\": 238, \"movie title\": \"Raising Arizona (1987)\", \"user id\": 271, \"rating\": 4.0}, {\"movie id\": 238, \"movie title\": \"Raising Arizona (1987)\", \"user id\": 299, \"rating\": 4.0}, {\"movie id\": 238, \"movie title\": \"Raising Arizona (1987)\", \"user id\": 312, \"rating\": 3.0}, {\"movie id\": 238, \"movie title\": \"Raising Arizona (1987)\", \"user id\": 339, \"rating\": 5.0}, {\"movie id\": 238, \"movie title\": \"Raising Arizona (1987)\", \"user id\": 387, \"rating\": 5.0}, {\"movie id\": 238, \"movie title\": \"Raising Arizona (1987)\", \"user id\": 389, \"rating\": 5.0}, {\"movie id\": 238, \"movie title\": \"Raising Arizona (1987)\", \"user id\": 650, \"rating\": 4.0}, {\"movie id\": 238, \"movie title\": \"Raising Arizona (1987)\", \"user id\": 716, \"rating\": 4.0}, {\"movie id\": 238, \"movie title\": \"Raising Arizona (1987)\", \"user id\": 727, \"rating\": 2.0}, {\"movie id\": 238, \"movie title\": \"Raising Arizona (1987)\", \"user id\": 883, \"rating\": 4.0}, {\"movie id\": 748, \"movie title\": \"Saint, The (1997)\", \"user id\": 178, \"rating\": 4.0}, {\"movie id\": 748, \"movie title\": \"Saint, The (1997)\", \"user id\": 328, \"rating\": 3.0}, {\"movie id\": 748, \"movie title\": \"Saint, The (1997)\", \"user id\": 727, \"rating\": 4.0}, {\"movie id\": 748, \"movie title\": \"Saint, The (1997)\", \"user id\": 883, \"rating\": 5.0}, {\"movie id\": 196, \"movie title\": \"Dead Poets Society (1989)\", \"user id\": 1, \"rating\": 5.0}, {\"movie id\": 196, \"movie title\": \"Dead Poets Society (1989)\", \"user id\": 85, \"rating\": 4.0}, {\"movie id\": 196, \"movie title\": \"Dead Poets Society (1989)\", \"user id\": 178, \"rating\": 4.0}, {\"movie id\": 196, \"movie title\": \"Dead Poets Society (1989)\", \"user id\": 269, \"rating\": 1.0}, {\"movie id\": 196, \"movie title\": \"Dead Poets Society (1989)\", \"user id\": 271, \"rating\": 4.0}, {\"movie id\": 196, \"movie title\": \"Dead Poets Society (1989)\", \"user id\": 301, \"rating\": 4.0}, {\"movie id\": 196, \"movie title\": \"Dead Poets Society (1989)\", \"user id\": 339, \"rating\": 4.0}, {\"movie id\": 196, \"movie title\": \"Dead Poets Society (1989)\", \"user id\": 387, \"rating\": 2.0}, {\"movie id\": 196, \"movie title\": \"Dead Poets Society (1989)\", \"user id\": 389, \"rating\": 3.0}, {\"movie id\": 196, \"movie title\": \"Dead Poets Society (1989)\", \"user id\": 650, \"rating\": 4.0}, {\"movie id\": 196, \"movie title\": \"Dead Poets Society (1989)\", \"user id\": 716, \"rating\": 5.0}, {\"movie id\": 196, \"movie title\": \"Dead Poets Society (1989)\", \"user id\": 727, \"rating\": 4.0}, {\"movie id\": 197, \"movie title\": \"Graduate, The (1967)\", \"user id\": 1, \"rating\": 5.0}, {\"movie id\": 197, \"movie title\": \"Graduate, The (1967)\", \"user id\": 85, \"rating\": 5.0}, {\"movie id\": 197, \"movie title\": \"Graduate, The (1967)\", \"user id\": 178, \"rating\": 2.0}, {\"movie id\": 197, \"movie title\": \"Graduate, The (1967)\", \"user id\": 269, \"rating\": 5.0}, {\"movie id\": 197, \"movie title\": \"Graduate, The (1967)\", \"user id\": 271, \"rating\": 4.0}, {\"movie id\": 197, \"movie title\": \"Graduate, The (1967)\", \"user id\": 299, \"rating\": 3.0}, {\"movie id\": 197, \"movie title\": \"Graduate, The (1967)\", \"user id\": 301, \"rating\": 5.0}, {\"movie id\": 197, \"movie title\": \"Graduate, The (1967)\", \"user id\": 312, \"rating\": 4.0}, {\"movie id\": 197, \"movie title\": \"Graduate, The (1967)\", \"user id\": 339, \"rating\": 5.0}, {\"movie id\": 197, \"movie title\": \"Graduate, The (1967)\", \"user id\": 387, \"rating\": 2.0}, {\"movie id\": 197, \"movie title\": \"Graduate, The (1967)\", \"user id\": 389, \"rating\": 5.0}, {\"movie id\": 197, \"movie title\": \"Graduate, The (1967)\", \"user id\": 650, \"rating\": 4.0}, {\"movie id\": 197, \"movie title\": \"Graduate, The (1967)\", \"user id\": 716, \"rating\": 5.0}, {\"movie id\": 197, \"movie title\": \"Graduate, The (1967)\", \"user id\": 727, \"rating\": 3.0}, {\"movie id\": 197, \"movie title\": \"Graduate, The (1967)\", \"user id\": 883, \"rating\": 4.0}, {\"movie id\": 185, \"movie title\": \"Psycho (1960)\", \"user id\": 1, \"rating\": 4.0}, {\"movie id\": 185, \"movie title\": \"Psycho (1960)\", \"user id\": 269, \"rating\": 5.0}, {\"movie id\": 185, \"movie title\": \"Psycho (1960)\", \"user id\": 271, \"rating\": 3.0}, {\"movie id\": 185, \"movie title\": \"Psycho (1960)\", \"user id\": 299, \"rating\": 3.0}, {\"movie id\": 185, \"movie title\": \"Psycho (1960)\", \"user id\": 312, \"rating\": 5.0}, {\"movie id\": 185, \"movie title\": \"Psycho (1960)\", \"user id\": 328, \"rating\": 4.0}, {\"movie id\": 185, \"movie title\": \"Psycho (1960)\", \"user id\": 339, \"rating\": 4.0}, {\"movie id\": 185, \"movie title\": \"Psycho (1960)\", \"user id\": 389, \"rating\": 5.0}, {\"movie id\": 185, \"movie title\": \"Psycho (1960)\", \"user id\": 650, \"rating\": 3.0}, {\"movie id\": 185, \"movie title\": \"Psycho (1960)\", \"user id\": 716, \"rating\": 5.0}, {\"movie id\": 185, \"movie title\": \"Psycho (1960)\", \"user id\": 883, \"rating\": 5.0}, {\"movie id\": 194, \"movie title\": \"Sting, The (1973)\", \"user id\": 1, \"rating\": 4.0}, {\"movie id\": 194, \"movie title\": \"Sting, The (1973)\", \"user id\": 85, \"rating\": 4.0}, {\"movie id\": 194, \"movie title\": \"Sting, The (1973)\", \"user id\": 178, \"rating\": 4.0}, {\"movie id\": 194, \"movie title\": \"Sting, The (1973)\", \"user id\": 269, \"rating\": 5.0}, {\"movie id\": 194, \"movie title\": \"Sting, The (1973)\", \"user id\": 271, \"rating\": 5.0}, {\"movie id\": 194, \"movie title\": \"Sting, The (1973)\", \"user id\": 299, \"rating\": 3.0}, {\"movie id\": 194, \"movie title\": \"Sting, The (1973)\", \"user id\": 301, \"rating\": 4.0}, {\"movie id\": 194, \"movie title\": \"Sting, The (1973)\", \"user id\": 312, \"rating\": 4.0}, {\"movie id\": 194, \"movie title\": \"Sting, The (1973)\", \"user id\": 328, \"rating\": 3.0}, {\"movie id\": 194, \"movie title\": \"Sting, The (1973)\", \"user id\": 339, \"rating\": 4.0}, {\"movie id\": 194, \"movie title\": \"Sting, The (1973)\", \"user id\": 387, \"rating\": 3.0}, {\"movie id\": 194, \"movie title\": \"Sting, The (1973)\", \"user id\": 389, \"rating\": 4.0}, {\"movie id\": 194, \"movie title\": \"Sting, The (1973)\", \"user id\": 650, \"rating\": 4.0}, {\"movie id\": 194, \"movie title\": \"Sting, The (1973)\", \"user id\": 716, \"rating\": 5.0}, {\"movie id\": 194, \"movie title\": \"Sting, The (1973)\", \"user id\": 883, \"rating\": 3.0}, {\"movie id\": 742, \"movie title\": \"Ransom (1996)\", \"user id\": 178, \"rating\": 3.0}, {\"movie id\": 742, \"movie title\": \"Ransom (1996)\", \"user id\": 271, \"rating\": 3.0}, {\"movie id\": 742, \"movie title\": \"Ransom (1996)\", \"user id\": 299, \"rating\": 4.0}, {\"movie id\": 742, \"movie title\": \"Ransom (1996)\", \"user id\": 301, \"rating\": 4.0}, {\"movie id\": 742, \"movie title\": \"Ransom (1996)\", \"user id\": 328, \"rating\": 4.0}, {\"movie id\": 742, \"movie title\": \"Ransom (1996)\", \"user id\": 387, \"rating\": 2.0}, {\"movie id\": 742, \"movie title\": \"Ransom (1996)\", \"user id\": 650, \"rating\": 3.0}, {\"movie id\": 82, \"movie title\": \"Jurassic Park (1993)\", \"user id\": 1, \"rating\": 5.0}, {\"movie id\": 82, \"movie title\": \"Jurassic Park (1993)\", \"user id\": 85, \"rating\": 3.0}, {\"movie id\": 82, \"movie title\": \"Jurassic Park (1993)\", \"user id\": 178, \"rating\": 5.0}, {\"movie id\": 82, \"movie title\": \"Jurassic Park (1993)\", \"user id\": 269, \"rating\": 2.0}, {\"movie id\": 82, \"movie title\": \"Jurassic Park (1993)\", \"user id\": 301, \"rating\": 5.0}, {\"movie id\": 82, \"movie title\": \"Jurassic Park (1993)\", \"user id\": 328, \"rating\": 4.0}, {\"movie id\": 82, \"movie title\": \"Jurassic Park (1993)\", \"user id\": 339, \"rating\": 4.0}, {\"movie id\": 82, \"movie title\": \"Jurassic Park (1993)\", \"user id\": 387, \"rating\": 4.0}, {\"movie id\": 82, \"movie title\": \"Jurassic Park (1993)\", \"user id\": 389, \"rating\": 4.0}, {\"movie id\": 82, \"movie title\": \"Jurassic Park (1993)\", \"user id\": 650, \"rating\": 3.0}, {\"movie id\": 82, \"movie title\": \"Jurassic Park (1993)\", \"user id\": 716, \"rating\": 5.0}, {\"movie id\": 82, \"movie title\": \"Jurassic Park (1993)\", \"user id\": 727, \"rating\": 3.0}, {\"movie id\": 82, \"movie title\": \"Jurassic Park (1993)\", \"user id\": 883, \"rating\": 3.0}, {\"movie id\": 97, \"movie title\": \"Dances with Wolves (1990)\", \"user id\": 1, \"rating\": 3.0}, {\"movie id\": 97, \"movie title\": \"Dances with Wolves (1990)\", \"user id\": 85, \"rating\": 2.0}, {\"movie id\": 97, \"movie title\": \"Dances with Wolves (1990)\", \"user id\": 178, \"rating\": 5.0}, {\"movie id\": 97, \"movie title\": \"Dances with Wolves (1990)\", \"user id\": 271, \"rating\": 5.0}, {\"movie id\": 97, \"movie title\": \"Dances with Wolves (1990)\", \"user id\": 299, \"rating\": 4.0}, {\"movie id\": 97, \"movie title\": \"Dances with Wolves (1990)\", \"user id\": 301, \"rating\": 4.0}, {\"movie id\": 97, \"movie title\": \"Dances with Wolves (1990)\", \"user id\": 312, \"rating\": 5.0}, {\"movie id\": 97, \"movie title\": \"Dances with Wolves (1990)\", \"user id\": 328, \"rating\": 3.0}, {\"movie id\": 97, \"movie title\": \"Dances with Wolves (1990)\", \"user id\": 339, \"rating\": 4.0}, {\"movie id\": 97, \"movie title\": \"Dances with Wolves (1990)\", \"user id\": 387, \"rating\": 2.0}, {\"movie id\": 97, \"movie title\": \"Dances with Wolves (1990)\", \"user id\": 650, \"rating\": 3.0}, {\"movie id\": 97, \"movie title\": \"Dances with Wolves (1990)\", \"user id\": 716, \"rating\": 4.0}, {\"movie id\": 475, \"movie title\": \"Trainspotting (1996)\", \"user id\": 269, \"rating\": 5.0}, {\"movie id\": 475, \"movie title\": \"Trainspotting (1996)\", \"user id\": 299, \"rating\": 4.0}, {\"movie id\": 475, \"movie title\": \"Trainspotting (1996)\", \"user id\": 339, \"rating\": 5.0}, {\"movie id\": 475, \"movie title\": \"Trainspotting (1996)\", \"user id\": 387, \"rating\": 3.0}, {\"movie id\": 475, \"movie title\": \"Trainspotting (1996)\", \"user id\": 389, \"rating\": 5.0}, {\"movie id\": 268, \"movie title\": \"Chasing Amy (1997)\", \"user id\": 1, \"rating\": 5.0}, {\"movie id\": 268, \"movie title\": \"Chasing Amy (1997)\", \"user id\": 85, \"rating\": 4.0}, {\"movie id\": 268, \"movie title\": \"Chasing Amy (1997)\", \"user id\": 178, \"rating\": 4.0}, {\"movie id\": 268, \"movie title\": \"Chasing Amy (1997)\", \"user id\": 269, \"rating\": 5.0}, {\"movie id\": 268, \"movie title\": \"Chasing Amy (1997)\", \"user id\": 387, \"rating\": 3.0}, {\"movie id\": 268, \"movie title\": \"Chasing Amy (1997)\", \"user id\": 727, \"rating\": 4.0}, {\"movie id\": 186, \"movie title\": \"Blues Brothers, The (1980)\", \"user id\": 1, \"rating\": 4.0}, {\"movie id\": 186, \"movie title\": \"Blues Brothers, The (1980)\", \"user id\": 85, \"rating\": 3.0}, {\"movie id\": 186, \"movie title\": \"Blues Brothers, The (1980)\", \"user id\": 269, \"rating\": 2.0}, {\"movie id\": 186, \"movie title\": \"Blues Brothers, The (1980)\", \"user id\": 271, \"rating\": 4.0}, {\"movie id\": 186, \"movie title\": \"Blues Brothers, The (1980)\", \"user id\": 299, \"rating\": 3.0}, {\"movie id\": 186, \"movie title\": \"Blues Brothers, The (1980)\", \"user id\": 301, \"rating\": 4.0}, {\"movie id\": 186, \"movie title\": \"Blues Brothers, The (1980)\", \"user id\": 312, \"rating\": 3.0}, {\"movie id\": 186, \"movie title\": \"Blues Brothers, The (1980)\", \"user id\": 328, \"rating\": 4.0}, {\"movie id\": 186, \"movie title\": \"Blues Brothers, The (1980)\", \"user id\": 339, \"rating\": 4.0}, {\"movie id\": 186, \"movie title\": \"Blues Brothers, The (1980)\", \"user id\": 387, \"rating\": 2.0}, {\"movie id\": 186, \"movie title\": \"Blues Brothers, The (1980)\", \"user id\": 389, \"rating\": 2.0}, {\"movie id\": 186, \"movie title\": \"Blues Brothers, The (1980)\", \"user id\": 650, \"rating\": 4.0}, {\"movie id\": 186, \"movie title\": \"Blues Brothers, The (1980)\", \"user id\": 716, \"rating\": 3.0}, {\"movie id\": 186, \"movie title\": \"Blues Brothers, The (1980)\", \"user id\": 727, \"rating\": 5.0}, {\"movie id\": 496, \"movie title\": \"It's a Wonderful Life (1946)\", \"user id\": 85, \"rating\": 4.0}, {\"movie id\": 496, \"movie title\": \"It's a Wonderful Life (1946)\", \"user id\": 269, \"rating\": 5.0}, {\"movie id\": 496, \"movie title\": \"It's a Wonderful Life (1946)\", \"user id\": 271, \"rating\": 5.0}, {\"movie id\": 496, \"movie title\": \"It's a Wonderful Life (1946)\", \"user id\": 299, \"rating\": 3.0}, {\"movie id\": 496, \"movie title\": \"It's a Wonderful Life (1946)\", \"user id\": 301, \"rating\": 5.0}, {\"movie id\": 496, \"movie title\": \"It's a Wonderful Life (1946)\", \"user id\": 312, \"rating\": 5.0}, {\"movie id\": 496, \"movie title\": \"It's a Wonderful Life (1946)\", \"user id\": 339, \"rating\": 5.0}, {\"movie id\": 496, \"movie title\": \"It's a Wonderful Life (1946)\", \"user id\": 387, \"rating\": 3.0}, {\"movie id\": 496, \"movie title\": \"It's a Wonderful Life (1946)\", \"user id\": 389, \"rating\": 4.0}, {\"movie id\": 496, \"movie title\": \"It's a Wonderful Life (1946)\", \"user id\": 650, \"rating\": 4.0}, {\"movie id\": 496, \"movie title\": \"It's a Wonderful Life (1946)\", \"user id\": 716, \"rating\": 5.0}, {\"movie id\": 496, \"movie title\": \"It's a Wonderful Life (1946)\", \"user id\": 883, \"rating\": 2.0}, {\"movie id\": 111, \"movie title\": \"Truth About Cats & Dogs, The (1996)\", \"user id\": 1, \"rating\": 5.0}, {\"movie id\": 111, \"movie title\": \"Truth About Cats & Dogs, The (1996)\", \"user id\": 178, \"rating\": 4.0}, {\"movie id\": 111, \"movie title\": \"Truth About Cats & Dogs, The (1996)\", \"user id\": 269, \"rating\": 1.0}, {\"movie id\": 111, \"movie title\": \"Truth About Cats & Dogs, The (1996)\", \"user id\": 271, \"rating\": 4.0}, {\"movie id\": 111, \"movie title\": \"Truth About Cats & Dogs, The (1996)\", \"user id\": 299, \"rating\": 3.0}, {\"movie id\": 111, \"movie title\": \"Truth About Cats & Dogs, The (1996)\", \"user id\": 301, \"rating\": 1.0}, {\"movie id\": 111, \"movie title\": \"Truth About Cats & Dogs, The (1996)\", \"user id\": 389, \"rating\": 3.0}, {\"movie id\": 111, \"movie title\": \"Truth About Cats & Dogs, The (1996)\", \"user id\": 716, \"rating\": 4.0}, {\"movie id\": 111, \"movie title\": \"Truth About Cats & Dogs, The (1996)\", \"user id\": 727, \"rating\": 3.0}]}}, {\"mode\": \"vega-lite\"});\n",
       "</script>"
      ],
      "text/plain": [
       "alt.Chart(...)"
      ]
     },
     "execution_count": 15,
     "metadata": {},
     "output_type": "execute_result"
    }
   ],
   "source": [
    "# colormaps: https://vega.github.io/vega/docs/schemes/\n",
    "\n",
    "long = lambda x: x.stack().reset_index()\n",
    "\n",
    "alt.Chart(long(R)).mark_rect().encode(\n",
    "    x='user id:O',\n",
    "    y='movie title:O',\n",
    "    color=alt.Color('rating:O', scale=alt.Scale(scheme='yellowgreenblue'))\n",
    ")"
   ]
  },
  {
   "cell_type": "markdown",
   "metadata": {
    "slideshow": {
     "slide_type": "slide"
    }
   },
   "source": [
    "## User and Movies Matrices\n",
    "\n",
    "Model rating $r_{mi}$ of movie $m$ by user $i$:\n",
    "$$ \\hat r_{mi} = \\sum_{k=1}^K v_{mk} u_{ik} = v_{m} u_{i}^T $$\n",
    "* $K$ unobserved characteristics (latent factors)\n",
    "* $v_m=(v_{m1},\\dots,v_{mK})$: movie $m$ having characteristic $k=1,\\dots,K$\n",
    "* $u_i=(u_{i1},\\dots,u_{iK})$: user $i$'s affinity to characteristic $k=1,\\dots,K$\n",
    "* Rating $r_{mi}$ is high if $v_m$ and $u_i$ are well-aligned"
   ]
  },
  {
   "cell_type": "markdown",
   "metadata": {
    "slideshow": {
     "slide_type": "subslide"
    }
   },
   "source": [
    "$U$ and $V$ as matrix factors\n",
    "\n",
    "$$\n",
    "\\begin{aligned}\n",
    "&\\min_{U,V} \\|R - V U^T\\|_F^2\n",
    "\\end{aligned}\n",
    "$$\n",
    "\n",
    "- Ratings matrix $R$: size $M\\times I$ \n",
    "- Movies matrix $V$: size $M\\times K$\n",
    "- Users matrix $U$: size  $I\\times K$"
   ]
  },
  {
   "cell_type": "markdown",
   "metadata": {
    "slideshow": {
     "slide_type": "subslide"
    }
   },
   "source": [
    "Evaluate objective function for observed $r_{mi}$ only:\n",
    "$$\n",
    "\\begin{aligned}\n",
    "\\min_{U,V} \\|R - V U^T\\|_F^2\n",
    "=\\min_{U,V} \\left\\{ \\sum_{m=1}^M \\sum_{i=1}^I I_{mi}(r_{mi} - v_m u_i^T)^2 \\right\\},\n",
    "\\end{aligned}\n",
    "$$\n",
    "where \n",
    "$$\n",
    "\\begin{aligned}\n",
    "I_{mi} = \\begin{cases}\n",
    "1 \\text{, if  $r_{mi}$ is observed}\\\\\n",
    "0 \\text{, otherwise}\\\\\n",
    "\\end{cases}\n",
    "\\end{aligned}\n",
    "$$\n",
    "\n",
    "Now, iteratively compute optimal solutions $U$ and $V$ "
   ]
  },
  {
   "cell_type": "markdown",
   "metadata": {
    "slideshow": {
     "slide_type": "slide"
    }
   },
   "source": [
    "# Optimization\n",
    "\n",
    "*Find $U$ and $V$ that fit the data well\n",
    "$$\n",
    "\\begin{aligned}\n",
    "(V^*,U^*) = \\arg\\min_{V,U} \\|R - V U^T\\|_F^2\n",
    "\\end{aligned}\n",
    "$$\n",
    "\n",
    "* \"Optimizing a function\", say $f(x)$ is finding some $x^*$ such that\n",
    "* $f(x*)$ is minimized or maximized"
   ]
  },
  {
   "cell_type": "markdown",
   "metadata": {
    "slideshow": {
     "slide_type": "subslide"
    }
   },
   "source": [
    "*Find $U$ and $V$ that fit the data well\n",
    "$$\n",
    "\\begin{aligned}\n",
    "(V^*,U^*) = \\arg\\min_{V,U} \\|R - V U^T\\|_F^2\n",
    "\\end{aligned}\n",
    "$$\n",
    "\n",
    "Optimization typically has\n",
    "\n",
    "* Search variable: $x$\n",
    "\n",
    "* Objective function: $f(x)$\n",
    "\n",
    "* Constraints: $g(x)\\leq c$"
   ]
  },
  {
   "cell_type": "markdown",
   "metadata": {
    "slideshow": {
     "slide_type": "subslide"
    }
   },
   "source": [
    "## Example: Portfolio Selection\n",
    "\n",
    "In [portfolio selection](https://www.jstor.org/stable/2975974) setting, an investor wants to find\n",
    "\n",
    "* Given returns of $p$ stocks: $R$\n",
    "* Market volatility: $\\Sigma = \\text{Cov}(R)$ \n",
    "* Choose portfolio weights: $w$ / Portfolio return: $R_p = Rw$\n",
    "* Variance of portfolio return: \n",
    "    $$\\text{Cov}(R_p) = w'\\text{Cov}(R)w = w'\\Sigma w $$"
   ]
  },
  {
   "cell_type": "markdown",
   "metadata": {
    "slideshow": {
     "slide_type": "subslide"
    }
   },
   "source": [
    "### Minimum Variance Portfolio\n",
    "Investor might want to minimize variance of portfolio returns: i.e. stable return\n",
    "$$\n",
    "\\begin{aligned} \\text{minimize}_{w} &\\frac{1}{2} w^{\\prime} \\Sigma w \\\\ \n",
    "\\text { subject to } & w^{\\prime} \\mathbf{1}=1 \\end{aligned}\n",
    "$$\n",
    "* Fully invested constraint $w^{\\prime} \\mathbf{1}=1$,\n",
    "* Otherwise, $w=0$ gives trivially zero portfolio variance"
   ]
  },
  {
   "cell_type": "markdown",
   "metadata": {
    "slideshow": {
     "slide_type": "subslide"
    }
   },
   "source": [
    "### Minimum Variance Portfolio with Target Return\n",
    "\n",
    "* Given expected return $\\mu$, expected volatility $\\mathbf{\\Sigma}$, and target return $\\mu^*$,\n",
    "* Objective to minimize: $\\frac{1}{2} w^T \\mathbf{\\Sigma} w$\n",
    "* Target return: $w^{\\prime} \\mu \\geq \\mu^*$\n",
    "* Full investment of portfolio: $w^{\\prime} \\mathbf{1}=1$  \n",
    "\n",
    "$$\n",
    "\\begin{aligned} \\min _{w} &\\frac{1}{2} w^{\\prime} \\mathbf{\\Sigma} w \\\\ \\text { subject to } & w^{\\prime} \\mu\\geq \\mu^* \\\\ & w^{\\prime} \\mathbf{1}=1 \\end{aligned}\n",
    "$$"
   ]
  },
  {
   "cell_type": "markdown",
   "metadata": {
    "slideshow": {
     "slide_type": "subslide"
    }
   },
   "source": [
    "## Example: Transportation problem\n",
    "\n",
    "* Transportation problem: $i$ and $j$ indicate pairs of locations, quantity of goods ($x_{ij}$), supply ($s_i$), demand ($d_j$), transportation network ($\\mathcal{A}$)\n",
    "$$\n",
    "\\begin{aligned}\n",
    "\\min_{x=(x_{ij})\\geq0} &\\sum_{(i, j) \\in \\mathcal{A}} c_{i j} x_{i j}\\\\\n",
    "\\text{sugject to }&\\sum_{j:(i, j) \\in \\mathcal{A}} x_{i j} \\leq s_{i} \\quad \\text { for all } i\\\\\n",
    "&\\sum_{i:(i, j) \\in \\mathcal{A}} x_{i j} \\geq d_{j} \\quad \\text { for all } j\n",
    "\\end{aligned} \n",
    "$$\n",
    "\n",
    "* Amount of goods delivered does not exceed supply  \n",
    "\n",
    "* Amount of goods delivered meets the demand\n",
    "    "
   ]
  },
  {
   "cell_type": "markdown",
   "metadata": {
    "slideshow": {
     "slide_type": "subslide"
    }
   },
   "source": [
    "##  Direction of Function Decrease\n",
    "\n",
    "- Given function $f(x)$, we want to find the minimizing value $x^*$:\n",
    "$$ x^* = \\arg\\min_x f(x). $$"
   ]
  },
  {
   "cell_type": "markdown",
   "metadata": {
    "slideshow": {
     "slide_type": "fragment"
    }
   },
   "source": [
    "- (Harder) From some point, $x=a$, which way (left/right) is minimum?\n",
    "\n",
    "- (Easier) From some point, $x=a$, which way (left/right) _decreases_ $f(x)$?"
   ]
  },
  {
   "cell_type": "markdown",
   "metadata": {
    "slideshow": {
     "slide_type": "fragment"
    }
   },
   "source": [
    "- Repeatedly decrease $f(x)$ by adjusting $x$"
   ]
  },
  {
   "cell_type": "markdown",
   "metadata": {
    "slideshow": {
     "slide_type": "fragment"
    }
   },
   "source": [
    "- When $f(x)$ stops decreasing ($x$ converges to a point), stop"
   ]
  },
  {
   "cell_type": "markdown",
   "metadata": {
    "slideshow": {
     "slide_type": "fragment"
    }
   },
   "source": [
    "- **How to determine the direction of function decrease?**"
   ]
  },
  {
   "cell_type": "markdown",
   "metadata": {
    "slideshow": {
     "slide_type": "subslide"
    }
   },
   "source": [
    "### Example: $f(x) = (x+1)^2$ and $x\\in\\mathbb{R}$\n",
    "\n",
    "- Differentiable convex function $g(x)$ satisfies\n",
    "$$g(x) \\geq g(a) + g'(a)(x-a),$$\n",
    "for any valid $x$ and $a$ \n",
    "\n",
    "- Quadratic function $f(x)$ is convex and minimum is at $x=-1$\n",
    "\n",
    "- Value $f(x)$ decreases as $x$ gets closer to $x=-1$."
   ]
  },
  {
   "cell_type": "markdown",
   "metadata": {
    "slideshow": {
     "slide_type": "subslide"
    }
   },
   "source": [
    "* We want to find $b$ that gives\n",
    "$$f(a) - f(b) \\geq 0$$\n",
    "\n",
    "* We can show that $b$ satisfies\n",
    "$$f'(a)(b-a) \\leq 0$$"
   ]
  },
  {
   "cell_type": "markdown",
   "metadata": {
    "slideshow": {
     "slide_type": "fragment"
    }
   },
   "source": [
    "- Satisfying $f^{\\prime}(a)(b-a)\\leq 0$\n",
    "    - Case 1: if slope $f'(a)<0$, we need $b>a$: i.e. move right. \n",
    "    - Case 2: if slope is $f'(a)>0$, we need $b<a$: i.e. move left\n",
    "    - Case 3: if slope is $f'(a)=0$, we are at the minimum\n",
    "    \n",
    "- $b \\leftarrow a - f'(a)$ is a possibility, but could overshoot!"
   ]
  },
  {
   "cell_type": "markdown",
   "metadata": {
    "slideshow": {
     "slide_type": "fragment"
    }
   },
   "source": [
    "- How big of a step? For now, small amount $\\alpha$ (step size)\n",
    "    $$b \\leftarrow a - \\alpha\\cdot f'(a)$$"
   ]
  },
  {
   "cell_type": "code",
   "execution_count": 16,
   "metadata": {
    "slideshow": {
     "slide_type": "subslide"
    }
   },
   "outputs": [],
   "source": [
    "def f(x): return (x+1)**2\n",
    "def fprime(x): return 2*(x+1)\n",
    "\n",
    "def find_minimum_1(func, slope, a = 2, step=0.1, max_iter=1000):\n",
    "    \n",
    "    for i in range(0, max_iter):\n",
    "        \n",
    "        # find next target point\n",
    "        b = a - step*slope(a)\n",
    "        \n",
    "        # set target point as the new starting point\n",
    "        a = b\n",
    "    \n",
    "    return b"
   ]
  },
  {
   "cell_type": "code",
   "execution_count": 17,
   "metadata": {
    "slideshow": {
     "slide_type": "subslide"
    }
   },
   "outputs": [
    {
     "name": "stdout",
     "output_type": "stream",
     "text": [
      "  xstar  = -1.000000, f(xstar) = 0.000000\n"
     ]
    },
    {
     "data": {
      "text/html": [
       "\n",
       "<div id=\"altair-viz-f63e6c4a41ba4ef1b93643429c32a400\"></div>\n",
       "<script type=\"text/javascript\">\n",
       "  (function(spec, embedOpt){\n",
       "    let outputDiv = document.currentScript.previousElementSibling;\n",
       "    if (outputDiv.id !== \"altair-viz-f63e6c4a41ba4ef1b93643429c32a400\") {\n",
       "      outputDiv = document.getElementById(\"altair-viz-f63e6c4a41ba4ef1b93643429c32a400\");\n",
       "    }\n",
       "    const paths = {\n",
       "      \"vega\": \"https://cdn.jsdelivr.net/npm//vega@5?noext\",\n",
       "      \"vega-lib\": \"https://cdn.jsdelivr.net/npm//vega-lib?noext\",\n",
       "      \"vega-lite\": \"https://cdn.jsdelivr.net/npm//vega-lite@4.8.1?noext\",\n",
       "      \"vega-embed\": \"https://cdn.jsdelivr.net/npm//vega-embed@6?noext\",\n",
       "    };\n",
       "\n",
       "    function loadScript(lib) {\n",
       "      return new Promise(function(resolve, reject) {\n",
       "        var s = document.createElement('script');\n",
       "        s.src = paths[lib];\n",
       "        s.async = true;\n",
       "        s.onload = () => resolve(paths[lib]);\n",
       "        s.onerror = () => reject(`Error loading script: ${paths[lib]}`);\n",
       "        document.getElementsByTagName(\"head\")[0].appendChild(s);\n",
       "      });\n",
       "    }\n",
       "\n",
       "    function showError(err) {\n",
       "      outputDiv.innerHTML = `<div class=\"error\" style=\"color:red;\">${err}</div>`;\n",
       "      throw err;\n",
       "    }\n",
       "\n",
       "    function displayChart(vegaEmbed) {\n",
       "      vegaEmbed(outputDiv, spec, embedOpt)\n",
       "        .catch(err => showError(`Javascript Error: ${err.message}<br>This usually means there's a typo in your chart specification. See the javascript console for the full traceback.`));\n",
       "    }\n",
       "\n",
       "    if(typeof define === \"function\" && define.amd) {\n",
       "      requirejs.config({paths});\n",
       "      require([\"vega-embed\"], displayChart, err => showError(`Error loading script: ${err.message}`));\n",
       "    } else if (typeof vegaEmbed === \"function\") {\n",
       "      displayChart(vegaEmbed);\n",
       "    } else {\n",
       "      loadScript(\"vega\")\n",
       "        .then(() => loadScript(\"vega-lite\"))\n",
       "        .then(() => loadScript(\"vega-embed\"))\n",
       "        .catch(showError)\n",
       "        .then(() => displayChart(vegaEmbed));\n",
       "    }\n",
       "  })({\"config\": {\"view\": {\"continuousWidth\": 400, \"continuousHeight\": 300}}, \"layer\": [{\"data\": {\"name\": \"data-1233c33b9f10973e58d512aac2b59d44\"}, \"mark\": \"line\", \"encoding\": {\"x\": {\"type\": \"quantitative\", \"field\": \"x\"}, \"y\": {\"type\": \"quantitative\", \"field\": \"f(x)\"}}}, {\"data\": {\"name\": \"data-f34542c446ee9b561dd1e31bb17d45ad\"}, \"mark\": {\"type\": \"point\", \"color\": \"red\", \"filled\": true, \"size\": 50}, \"encoding\": {\"x\": {\"type\": \"quantitative\", \"field\": \"x\"}, \"y\": {\"type\": \"quantitative\", \"field\": \"f(x)\"}}}], \"$schema\": \"https://vega.github.io/schema/vega-lite/v4.8.1.json\", \"datasets\": {\"data-1233c33b9f10973e58d512aac2b59d44\": [{\"x\": -10.0, \"f(x)\": 81.0}, {\"x\": -9.97997997997998, \"f(x)\": 80.64004044084125}, {\"x\": -9.95995995995996, \"f(x)\": 80.2808824840857}, {\"x\": -9.93993993993994, \"f(x)\": 79.92252612973334}, {\"x\": -9.91991991991992, \"f(x)\": 79.56497137778419}, {\"x\": -9.8998998998999, \"f(x)\": 79.20821822823825}, {\"x\": -9.87987987987988, \"f(x)\": 78.85226668109551}, {\"x\": -9.85985985985986, \"f(x)\": 78.49711673635598}, {\"x\": -9.83983983983984, \"f(x)\": 78.14276839401964}, {\"x\": -9.81981981981982, \"f(x)\": 77.78922165408652}, {\"x\": -9.7997997997998, \"f(x)\": 77.4364765165566}, {\"x\": -9.77977977977978, \"f(x)\": 77.08453298142987}, {\"x\": -9.75975975975976, \"f(x)\": 76.73339104870637}, {\"x\": -9.73973973973974, \"f(x)\": 76.38305071838606}, {\"x\": -9.71971971971972, \"f(x)\": 76.03351199046895}, {\"x\": -9.6996996996997, \"f(x)\": 75.68477486495505}, {\"x\": -9.67967967967968, \"f(x)\": 75.33683934184435}, {\"x\": -9.65965965965966, \"f(x)\": 74.98970542113686}, {\"x\": -9.63963963963964, \"f(x)\": 74.64337310283257}, {\"x\": -9.61961961961962, \"f(x)\": 74.29784238693148}, {\"x\": -9.5995995995996, \"f(x)\": 73.9531132734336}, {\"x\": -9.57957957957958, \"f(x)\": 73.60918576233892}, {\"x\": -9.55955955955956, \"f(x)\": 73.26605985364745}, {\"x\": -9.53953953953954, \"f(x)\": 72.92373554735917}, {\"x\": -9.51951951951952, \"f(x)\": 72.58221284347411}, {\"x\": -9.4994994994995, \"f(x)\": 72.24149174199225}, {\"x\": -9.47947947947948, \"f(x)\": 71.90157224291359}, {\"x\": -9.45945945945946, \"f(x)\": 71.56245434623813}, {\"x\": -9.43943943943944, \"f(x)\": 71.22413805196588}, {\"x\": -9.41941941941942, \"f(x)\": 70.88662336009683}, {\"x\": -9.3993993993994, \"f(x)\": 70.54991027063099}, {\"x\": -9.37937937937938, \"f(x)\": 70.21399878356836}, {\"x\": -9.35935935935936, \"f(x)\": 69.87888889890893}, {\"x\": -9.33933933933934, \"f(x)\": 69.5445806166527}, {\"x\": -9.31931931931932, \"f(x)\": 69.21107393679966}, {\"x\": -9.2992992992993, \"f(x)\": 68.87836885934985}, {\"x\": -9.27927927927928, \"f(x)\": 68.54646538430323}, {\"x\": -9.25925925925926, \"f(x)\": 68.21536351165982}, {\"x\": -9.23923923923924, \"f(x)\": 67.8850632414196}, {\"x\": -9.21921921921922, \"f(x)\": 67.5555645735826}, {\"x\": -9.1991991991992, \"f(x)\": 67.2268675081488}, {\"x\": -9.17917917917918, \"f(x)\": 66.8989720451182}, {\"x\": -9.15915915915916, \"f(x)\": 66.5718781844908}, {\"x\": -9.13913913913914, \"f(x)\": 66.24558592626661}, {\"x\": -9.11911911911912, \"f(x)\": 65.92009527044563}, {\"x\": -9.0990990990991, \"f(x)\": 65.59540621702784}, {\"x\": -9.07907907907908, \"f(x)\": 65.27151876601327}, {\"x\": -9.05905905905906, \"f(x)\": 64.94843291740189}, {\"x\": -9.03903903903904, \"f(x)\": 64.62614867119372}, {\"x\": -9.01901901901902, \"f(x)\": 64.30466602738876}, {\"x\": -8.998998998999, \"f(x)\": 63.98398498598699}, {\"x\": -8.97897897897898, \"f(x)\": 63.66410554698844}, {\"x\": -8.95895895895896, \"f(x)\": 63.34502771039308}, {\"x\": -8.93893893893894, \"f(x)\": 63.02675147620093}, {\"x\": -8.91891891891892, \"f(x)\": 62.70927684441199}, {\"x\": -8.8988988988989, \"f(x)\": 62.39260381502624}, {\"x\": -8.87887887887888, \"f(x)\": 62.07673238804371}, {\"x\": -8.85885885885886, \"f(x)\": 61.76166256346437}, {\"x\": -8.83883883883884, \"f(x)\": 61.447394341288245}, {\"x\": -8.81881881881882, \"f(x)\": 61.13392772151531}, {\"x\": -8.7987987987988, \"f(x)\": 60.821262704145596}, {\"x\": -8.77877877877878, \"f(x)\": 60.50939928917908}, {\"x\": -8.75875875875876, \"f(x)\": 60.19833747661576}, {\"x\": -8.73873873873874, \"f(x)\": 59.88807726645565}, {\"x\": -8.71871871871872, \"f(x)\": 59.578618658698744}, {\"x\": -8.6986986986987, \"f(x)\": 59.26996165334504}, {\"x\": -8.67867867867868, \"f(x)\": 58.96210625039455}, {\"x\": -8.65865865865866, \"f(x)\": 58.655052449847254}, {\"x\": -8.63863863863864, \"f(x)\": 58.34880025170316}, {\"x\": -8.618618618618619, \"f(x)\": 58.043349655962274}, {\"x\": -8.598598598598599, \"f(x)\": 57.738700662624595}, {\"x\": -8.578578578578579, \"f(x)\": 57.434853271690116}, {\"x\": -8.558558558558559, \"f(x)\": 57.131807483158845}, {\"x\": -8.538538538538539, \"f(x)\": 56.829563297030774}, {\"x\": -8.518518518518519, \"f(x)\": 56.52812071330591}, {\"x\": -8.498498498498499, \"f(x)\": 56.227479731984246}, {\"x\": -8.478478478478479, \"f(x)\": 55.92764035306578}, {\"x\": -8.458458458458459, \"f(x)\": 55.628602576550534}, {\"x\": -8.438438438438439, \"f(x)\": 55.330366402438486}, {\"x\": -8.418418418418419, \"f(x)\": 55.03293183072964}, {\"x\": -8.398398398398399, \"f(x)\": 54.736298861424}, {\"x\": -8.378378378378379, \"f(x)\": 54.440467494521556}, {\"x\": -8.358358358358359, \"f(x)\": 54.14543773002232}, {\"x\": -8.338338338338339, \"f(x)\": 53.85120956792629}, {\"x\": -8.318318318318319, \"f(x)\": 53.557783008233464}, {\"x\": -8.298298298298299, \"f(x)\": 53.265158050943846}, {\"x\": -8.278278278278279, \"f(x)\": 52.97333469605743}, {\"x\": -8.258258258258259, \"f(x)\": 52.68231294357421}, {\"x\": -8.238238238238239, \"f(x)\": 52.39209279349421}, {\"x\": -8.218218218218219, \"f(x)\": 52.1026742458174}, {\"x\": -8.198198198198199, \"f(x)\": 51.814057300543794}, {\"x\": -8.178178178178179, \"f(x)\": 51.5262419576734}, {\"x\": -8.158158158158159, \"f(x)\": 51.239228217206204}, {\"x\": -8.138138138138139, \"f(x)\": 50.953016079142216}, {\"x\": -8.118118118118119, \"f(x)\": 50.66760554348143}, {\"x\": -8.098098098098099, \"f(x)\": 50.38299661022385}, {\"x\": -8.078078078078079, \"f(x)\": 50.09918927936947}, {\"x\": -8.058058058058059, \"f(x)\": 49.816183550918296}, {\"x\": -8.038038038038039, \"f(x)\": 49.533979424870324}, {\"x\": -8.018018018018019, \"f(x)\": 49.25257690122556}, {\"x\": -7.997997997997998, \"f(x)\": 48.97197597998399}, {\"x\": -7.977977977977978, \"f(x)\": 48.69217666114563}, {\"x\": -7.957957957957958, \"f(x)\": 48.413178944710474}, {\"x\": -7.937937937937938, \"f(x)\": 48.134982830678524}, {\"x\": -7.917917917917918, \"f(x)\": 47.85758831904978}, {\"x\": -7.897897897897898, \"f(x)\": 47.58099540982424}, {\"x\": -7.877877877877878, \"f(x)\": 47.3052041030019}, {\"x\": -7.857857857857858, \"f(x)\": 47.030214398582764}, {\"x\": -7.837837837837838, \"f(x)\": 46.75602629656684}, {\"x\": -7.817817817817818, \"f(x)\": 46.48263979695411}, {\"x\": -7.797797797797798, \"f(x)\": 46.21005489974459}, {\"x\": -7.777777777777778, \"f(x)\": 45.93827160493827}, {\"x\": -7.757757757757758, \"f(x)\": 45.66728991253515}, {\"x\": -7.737737737737738, \"f(x)\": 45.39710982253525}, {\"x\": -7.717717717717718, \"f(x)\": 45.12773133493854}, {\"x\": -7.697697697697698, \"f(x)\": 44.85915444974504}, {\"x\": -7.677677677677678, \"f(x)\": 44.591379166954745}, {\"x\": -7.657657657657658, \"f(x)\": 44.32440548656765}, {\"x\": -7.637637637637638, \"f(x)\": 44.05823340858376}, {\"x\": -7.617617617617618, \"f(x)\": 43.79286293300307}, {\"x\": -7.597597597597598, \"f(x)\": 43.52829405982559}, {\"x\": -7.5775775775775776, \"f(x)\": 43.26452678905131}, {\"x\": -7.5575575575575575, \"f(x)\": 43.001561120680236}, {\"x\": -7.5375375375375375, \"f(x)\": 42.73939705471237}, {\"x\": -7.5175175175175175, \"f(x)\": 42.478034591147704}, {\"x\": -7.4974974974974975, \"f(x)\": 42.217473729986246}, {\"x\": -7.4774774774774775, \"f(x)\": 41.95771447122799}, {\"x\": -7.4574574574574575, \"f(x)\": 41.69875681487293}, {\"x\": -7.4374374374374375, \"f(x)\": 41.44060076092108}, {\"x\": -7.4174174174174174, \"f(x)\": 41.183246309372436}, {\"x\": -7.397397397397397, \"f(x)\": 40.92669346022699}, {\"x\": -7.377377377377377, \"f(x)\": 40.67094221348476}, {\"x\": -7.357357357357357, \"f(x)\": 40.41599256914572}, {\"x\": -7.337337337337337, \"f(x)\": 40.161844527209894}, {\"x\": -7.317317317317317, \"f(x)\": 39.908498087677266}, {\"x\": -7.297297297297297, \"f(x)\": 39.655953250547846}, {\"x\": -7.277277277277277, \"f(x)\": 39.404210015821626}, {\"x\": -7.257257257257257, \"f(x)\": 39.15326838349861}, {\"x\": -7.237237237237237, \"f(x)\": 38.90312835357881}, {\"x\": -7.217217217217217, \"f(x)\": 38.6537899260622}, {\"x\": -7.197197197197197, \"f(x)\": 38.4052531009488}, {\"x\": -7.177177177177177, \"f(x)\": 38.1575178782386}, {\"x\": -7.157157157157157, \"f(x)\": 37.9105842579316}, {\"x\": -7.137137137137137, \"f(x)\": 37.66445224002782}, {\"x\": -7.117117117117117, \"f(x)\": 37.41912182452723}, {\"x\": -7.097097097097097, \"f(x)\": 37.17459301142985}, {\"x\": -7.077077077077077, \"f(x)\": 36.930865800735674}, {\"x\": -7.057057057057057, \"f(x)\": 36.6879401924447}, {\"x\": -7.037037037037037, \"f(x)\": 36.44581618655693}, {\"x\": -7.017017017017017, \"f(x)\": 36.204493783072365}, {\"x\": -6.996996996996997, \"f(x)\": 35.963972981991}, {\"x\": -6.976976976976977, \"f(x)\": 35.72425378331285}, {\"x\": -6.956956956956957, \"f(x)\": 35.48533618703789}, {\"x\": -6.936936936936937, \"f(x)\": 35.24722019316614}, {\"x\": -6.916916916916917, \"f(x)\": 35.0099058016976}, {\"x\": -6.896896896896897, \"f(x)\": 34.773393012632255}, {\"x\": -6.876876876876877, \"f(x)\": 34.53768182597012}, {\"x\": -6.856856856856857, \"f(x)\": 34.30277224171118}, {\"x\": -6.836836836836837, \"f(x)\": 34.06866425985545}, {\"x\": -6.816816816816817, \"f(x)\": 33.83535788040293}, {\"x\": -6.796796796796797, \"f(x)\": 33.60285310335361}, {\"x\": -6.776776776776776, \"f(x)\": 33.37114992870748}, {\"x\": -6.756756756756756, \"f(x)\": 33.14024835646457}, {\"x\": -6.736736736736736, \"f(x)\": 32.910148386624854}, {\"x\": -6.716716716716716, \"f(x)\": 32.68085001918835}, {\"x\": -6.696696696696696, \"f(x)\": 32.45235325415505}, {\"x\": -6.676676676676676, \"f(x)\": 32.22465809152495}, {\"x\": -6.656656656656656, \"f(x)\": 31.99776453129806}, {\"x\": -6.636636636636636, \"f(x)\": 31.77167257347437}, {\"x\": -6.616616616616616, \"f(x)\": 31.546382218053882}, {\"x\": -6.596596596596596, \"f(x)\": 31.321893465036602}, {\"x\": -6.576576576576576, \"f(x)\": 31.098206314422523}, {\"x\": -6.556556556556556, \"f(x)\": 30.87532076621165}, {\"x\": -6.536536536536536, \"f(x)\": 30.653236820403983}, {\"x\": -6.516516516516516, \"f(x)\": 30.431954476999515}, {\"x\": -6.496496496496496, \"f(x)\": 30.211473735998254}, {\"x\": -6.476476476476476, \"f(x)\": 29.991794597400197}, {\"x\": -6.456456456456456, \"f(x)\": 29.772917061205344}, {\"x\": -6.436436436436436, \"f(x)\": 29.554841127413695}, {\"x\": -6.416416416416416, \"f(x)\": 29.33756679602525}, {\"x\": -6.396396396396396, \"f(x)\": 29.12109406704001}, {\"x\": -6.376376376376376, \"f(x)\": 28.90542294045797}, {\"x\": -6.356356356356356, \"f(x)\": 28.690553416279137}, {\"x\": -6.336336336336336, \"f(x)\": 28.476485494503507}, {\"x\": -6.316316316316316, \"f(x)\": 28.26321917513108}, {\"x\": -6.296296296296296, \"f(x)\": 28.05075445816186}, {\"x\": -6.276276276276276, \"f(x)\": 27.839091343595843}, {\"x\": -6.256256256256256, \"f(x)\": 27.62822983143303}, {\"x\": -6.236236236236236, \"f(x)\": 27.41816992167342}, {\"x\": -6.216216216216216, \"f(x)\": 27.208911614317014}, {\"x\": -6.196196196196196, \"f(x)\": 27.000454909363814}, {\"x\": -6.176176176176176, \"f(x)\": 26.792799806813818}, {\"x\": -6.156156156156156, \"f(x)\": 26.585946306667022}, {\"x\": -6.136136136136136, \"f(x)\": 26.379894408923434}, {\"x\": -6.116116116116116, \"f(x)\": 26.17464411358305}, {\"x\": -6.096096096096096, \"f(x)\": 25.97019542064587}, {\"x\": -6.076076076076076, \"f(x)\": 25.76654833011189}, {\"x\": -6.056056056056056, \"f(x)\": 25.563702841981115}, {\"x\": -6.036036036036036, \"f(x)\": 25.361658956253546}, {\"x\": -6.016016016016016, \"f(x)\": 25.16041667292918}, {\"x\": -5.995995995995996, \"f(x)\": 24.95997599200802}, {\"x\": -5.975975975975976, \"f(x)\": 24.760336913490065}, {\"x\": -5.955955955955956, \"f(x)\": 24.56149943737531}, {\"x\": -5.935935935935936, \"f(x)\": 24.36346356366376}, {\"x\": -5.915915915915916, \"f(x)\": 24.166229292355414}, {\"x\": -5.895895895895896, \"f(x)\": 23.969796623450275}, {\"x\": -5.875875875875876, \"f(x)\": 23.774165556948336}, {\"x\": -5.8558558558558556, \"f(x)\": 23.579336092849605}, {\"x\": -5.8358358358358355, \"f(x)\": 23.385308231154074}, {\"x\": -5.8158158158158155, \"f(x)\": 23.19208197186175}, {\"x\": -5.7957957957957955, \"f(x)\": 22.999657314972627}, {\"x\": -5.7757757757757755, \"f(x)\": 22.80803426048671}, {\"x\": -5.7557557557557555, \"f(x)\": 22.617212808404}, {\"x\": -5.7357357357357355, \"f(x)\": 22.427192958724486}, {\"x\": -5.7157157157157155, \"f(x)\": 22.23797471144818}, {\"x\": -5.6956956956956954, \"f(x)\": 22.04955806657508}, {\"x\": -5.675675675675675, \"f(x)\": 21.861943024105184}, {\"x\": -5.655655655655655, \"f(x)\": 21.67512958403849}, {\"x\": -5.635635635635635, \"f(x)\": 21.489117746375}, {\"x\": -5.615615615615615, \"f(x)\": 21.303907511114716}, {\"x\": -5.595595595595595, \"f(x)\": 21.119498878257634}, {\"x\": -5.575575575575575, \"f(x)\": 20.93589184780376}, {\"x\": -5.555555555555555, \"f(x)\": 20.753086419753085}, {\"x\": -5.535535535535535, \"f(x)\": 20.571082594105615}, {\"x\": -5.515515515515515, \"f(x)\": 20.38988037086135}, {\"x\": -5.495495495495495, \"f(x)\": 20.20947975002029}, {\"x\": -5.475475475475475, \"f(x)\": 20.02988073158243}, {\"x\": -5.455455455455455, \"f(x)\": 19.85108331554778}, {\"x\": -5.435435435435435, \"f(x)\": 19.673087501916328}, {\"x\": -5.415415415415415, \"f(x)\": 19.495893290688084}, {\"x\": -5.395395395395395, \"f(x)\": 19.319500681863044}, {\"x\": -5.375375375375375, \"f(x)\": 19.143909675441204}, {\"x\": -5.355355355355355, \"f(x)\": 18.96912027142257}, {\"x\": -5.335335335335335, \"f(x)\": 18.795132469807143}, {\"x\": -5.315315315315315, \"f(x)\": 18.62194627059492}, {\"x\": -5.295295295295295, \"f(x)\": 18.449561673785897}, {\"x\": -5.275275275275275, \"f(x)\": 18.27797867938008}, {\"x\": -5.255255255255255, \"f(x)\": 18.107197287377467}, {\"x\": -5.235235235235235, \"f(x)\": 17.937217497778057}, {\"x\": -5.215215215215215, \"f(x)\": 17.76803931058185}, {\"x\": -5.195195195195195, \"f(x)\": 17.59966272578885}, {\"x\": -5.175175175175175, \"f(x)\": 17.432087743399055}, {\"x\": -5.155155155155155, \"f(x)\": 17.26531436341246}, {\"x\": -5.135135135135135, \"f(x)\": 17.09934258582907}, {\"x\": -5.115115115115115, \"f(x)\": 16.934172410648888}, {\"x\": -5.095095095095095, \"f(x)\": 16.769803837871905}, {\"x\": -5.075075075075075, \"f(x)\": 16.60623686749813}, {\"x\": -5.055055055055055, \"f(x)\": 16.443471499527554}, {\"x\": -5.035035035035035, \"f(x)\": 16.281507733960186}, {\"x\": -5.015015015015015, \"f(x)\": 16.120345570796022}, {\"x\": -4.994994994994995, \"f(x)\": 15.95998501003506}, {\"x\": -4.974974974974975, \"f(x)\": 15.800426051677302}, {\"x\": -4.954954954954955, \"f(x)\": 15.64166869572275}, {\"x\": -4.934934934934935, \"f(x)\": 15.483712942171401}, {\"x\": -4.914914914914915, \"f(x)\": 15.326558791023256}, {\"x\": -4.894894894894895, \"f(x)\": 15.170206242278315}, {\"x\": -4.874874874874875, \"f(x)\": 15.014655295936578}, {\"x\": -4.854854854854855, \"f(x)\": 14.859905951998044}, {\"x\": -4.834834834834835, \"f(x)\": 14.705958210462715}, {\"x\": -4.814814814814815, \"f(x)\": 14.55281207133059}, {\"x\": -4.794794794794795, \"f(x)\": 14.400467534601669}, {\"x\": -4.774774774774775, \"f(x)\": 14.248924600275952}, {\"x\": -4.754754754754755, \"f(x)\": 14.09818326835344}, {\"x\": -4.734734734734735, \"f(x)\": 13.94824353883413}, {\"x\": -4.714714714714715, \"f(x)\": 13.799105411718026}, {\"x\": -4.694694694694695, \"f(x)\": 13.650768887005125}, {\"x\": -4.674674674674675, \"f(x)\": 13.503233964695427}, {\"x\": -4.654654654654655, \"f(x)\": 13.356500644788934}, {\"x\": -4.634634634634635, \"f(x)\": 13.210568927285644}, {\"x\": -4.614614614614615, \"f(x)\": 13.06543881218556}, {\"x\": -4.594594594594595, \"f(x)\": 12.92111029948868}, {\"x\": -4.574574574574575, \"f(x)\": 12.777583389195001}, {\"x\": -4.554554554554555, \"f(x)\": 12.634858081304529}, {\"x\": -4.534534534534535, \"f(x)\": 12.49293437581726}, {\"x\": -4.514514514514515, \"f(x)\": 12.351812272733195}, {\"x\": -4.494494494494495, \"f(x)\": 12.211491772052334}, {\"x\": -4.474474474474475, \"f(x)\": 12.071972873774676}, {\"x\": -4.454454454454455, \"f(x)\": 11.933255577900225}, {\"x\": -4.434434434434435, \"f(x)\": 11.795339884428975}, {\"x\": -4.414414414414415, \"f(x)\": 11.65822579336093}, {\"x\": -4.394394394394395, \"f(x)\": 11.521913304696088}, {\"x\": -4.374374374374375, \"f(x)\": 11.386402418434452}, {\"x\": -4.354354354354355, \"f(x)\": 11.25169313457602}, {\"x\": -4.334334334334335, \"f(x)\": 11.11778545312079}, {\"x\": -4.314314314314315, \"f(x)\": 10.984679374068765}, {\"x\": -4.2942942942942945, \"f(x)\": 10.852374897419944}, {\"x\": -4.2742742742742745, \"f(x)\": 10.720872023174326}, {\"x\": -4.2542542542542545, \"f(x)\": 10.590170751331915}, {\"x\": -4.2342342342342345, \"f(x)\": 10.460271081892705}, {\"x\": -4.2142142142142145, \"f(x)\": 10.3311730148567}, {\"x\": -4.1941941941941945, \"f(x)\": 10.2028765502239}, {\"x\": -4.1741741741741745, \"f(x)\": 10.075381687994302}, {\"x\": -4.1541541541541545, \"f(x)\": 9.948688428167909}, {\"x\": -4.134134134134134, \"f(x)\": 9.82279677074472}, {\"x\": -4.114114114114114, \"f(x)\": 9.697706715724737}, {\"x\": -4.094094094094094, \"f(x)\": 9.573418263107955}, {\"x\": -4.074074074074074, \"f(x)\": 9.449931412894378}, {\"x\": -4.054054054054054, \"f(x)\": 9.327246165084006}, {\"x\": -4.034034034034034, \"f(x)\": 9.205362519676836}, {\"x\": -4.014014014014014, \"f(x)\": 9.084280476672872}, {\"x\": -3.9939939939939944, \"f(x)\": 8.964000036072111}, {\"x\": -3.9739739739739743, \"f(x)\": 8.844521197874553}, {\"x\": -3.9539539539539543, \"f(x)\": 8.7258439620802}, {\"x\": -3.9339339339339343, \"f(x)\": 8.607968328689052}, {\"x\": -3.9139139139139143, \"f(x)\": 8.490894297701107}, {\"x\": -3.8938938938938943, \"f(x)\": 8.374621869116366}, {\"x\": -3.8738738738738743, \"f(x)\": 8.259151042934828}, {\"x\": -3.8538538538538543, \"f(x)\": 8.144481819156496}, {\"x\": -3.8338338338338342, \"f(x)\": 8.030614197781368}, {\"x\": -3.8138138138138142, \"f(x)\": 7.917548178809443}, {\"x\": -3.7937937937937942, \"f(x)\": 7.805283762240721}, {\"x\": -3.773773773773774, \"f(x)\": 7.693820948075205}, {\"x\": -3.753753753753754, \"f(x)\": 7.583159736312892}, {\"x\": -3.733733733733734, \"f(x)\": 7.473300126953783}, {\"x\": -3.713713713713714, \"f(x)\": 7.364242119997878}, {\"x\": -3.693693693693694, \"f(x)\": 7.255985715445178}, {\"x\": -3.673673673673674, \"f(x)\": 7.148530913295681}, {\"x\": -3.653653653653654, \"f(x)\": 7.041877713549388}, {\"x\": -3.633633633633634, \"f(x)\": 6.936026116206299}, {\"x\": -3.613613613613614, \"f(x)\": 6.830976121266414}, {\"x\": -3.593593593593594, \"f(x)\": 6.726727728729733}, {\"x\": -3.573573573573573, \"f(x)\": 6.623280938596252}, {\"x\": -3.553553553553553, \"f(x)\": 6.52063575086598}, {\"x\": -3.533533533533533, \"f(x)\": 6.41879216553891}, {\"x\": -3.513513513513513, \"f(x)\": 6.317750182615046}, {\"x\": -3.493493493493493, \"f(x)\": 6.217509802094385}, {\"x\": -3.473473473473473, \"f(x)\": 6.1180710239769285}, {\"x\": -3.453453453453453, \"f(x)\": 6.0194338482626755}, {\"x\": -3.433433433433433, \"f(x)\": 5.921598274951626}, {\"x\": -3.413413413413413, \"f(x)\": 5.824564304043782}, {\"x\": -3.393393393393393, \"f(x)\": 5.728331935539141}, {\"x\": -3.373373373373373, \"f(x)\": 5.632901169437704}, {\"x\": -3.353353353353353, \"f(x)\": 5.538272005739472}, {\"x\": -3.333333333333333, \"f(x)\": 5.444444444444443}, {\"x\": -3.313313313313313, \"f(x)\": 5.351418485552618}, {\"x\": -3.293293293293293, \"f(x)\": 5.259194129063998}, {\"x\": -3.273273273273273, \"f(x)\": 5.167771374978581}, {\"x\": -3.253253253253253, \"f(x)\": 5.077150223296369}, {\"x\": -3.233233233233233, \"f(x)\": 4.987330674017359}, {\"x\": -3.213213213213213, \"f(x)\": 4.898312727141555}, {\"x\": -3.193193193193193, \"f(x)\": 4.810096382668954}, {\"x\": -3.173173173173173, \"f(x)\": 4.722681640599557}, {\"x\": -3.153153153153153, \"f(x)\": 4.636068500933365}, {\"x\": -3.133133133133133, \"f(x)\": 4.5502569636703765}, {\"x\": -3.113113113113113, \"f(x)\": 4.465247028810592}, {\"x\": -3.093093093093093, \"f(x)\": 4.381038696354011}, {\"x\": -3.073073073073073, \"f(x)\": 4.297631966300634}, {\"x\": -3.053053053053053, \"f(x)\": 4.215026838650462}, {\"x\": -3.033033033033033, \"f(x)\": 4.133223313403493}, {\"x\": -3.013013013013013, \"f(x)\": 4.052221390559728}, {\"x\": -2.992992992992993, \"f(x)\": 3.9720210701191676}, {\"x\": -2.972972972972973, \"f(x)\": 3.892622352081811}, {\"x\": -2.952952952952953, \"f(x)\": 3.8140252364476583}, {\"x\": -2.932932932932933, \"f(x)\": 3.7362297232167094}, {\"x\": -2.9129129129129128, \"f(x)\": 3.659235812388965}, {\"x\": -2.8928928928928928, \"f(x)\": 3.5830435039644244}, {\"x\": -2.8728728728728727, \"f(x)\": 3.507652797943088}, {\"x\": -2.8528528528528527, \"f(x)\": 3.433063694324955}, {\"x\": -2.8328328328328327, \"f(x)\": 3.3592761931100266}, {\"x\": -2.8128128128128127, \"f(x)\": 3.286290294298302}, {\"x\": -2.7927927927927927, \"f(x)\": 3.2141059978897815}, {\"x\": -2.7727727727727727, \"f(x)\": 3.142723303884465}, {\"x\": -2.7527527527527527, \"f(x)\": 3.072142212282352}, {\"x\": -2.7327327327327327, \"f(x)\": 3.0023627230834435}, {\"x\": -2.7127127127127126, \"f(x)\": 2.933384836287739}, {\"x\": -2.6926926926926926, \"f(x)\": 2.8652085518952384}, {\"x\": -2.6726726726726726, \"f(x)\": 2.7978338699059417}, {\"x\": -2.6526526526526526, \"f(x)\": 2.7312607903198494}, {\"x\": -2.6326326326326326, \"f(x)\": 2.665489313136961}, {\"x\": -2.6126126126126126, \"f(x)\": 2.600519438357276}, {\"x\": -2.5925925925925926, \"f(x)\": 2.5363511659807956}, {\"x\": -2.5725725725725725, \"f(x)\": 2.472984496007519}, {\"x\": -2.5525525525525525, \"f(x)\": 2.4104194284374465}, {\"x\": -2.5325325325325325, \"f(x)\": 2.348655963270578}, {\"x\": -2.5125125125125125, \"f(x)\": 2.287694100506913}, {\"x\": -2.4924924924924925, \"f(x)\": 2.2275338401464526}, {\"x\": -2.4724724724724725, \"f(x)\": 2.1681751821891964}, {\"x\": -2.4524524524524525, \"f(x)\": 2.109618126635144}, {\"x\": -2.4324324324324325, \"f(x)\": 2.0518626734842953}, {\"x\": -2.4124124124124124, \"f(x)\": 1.9949088227366507}, {\"x\": -2.3923923923923924, \"f(x)\": 1.9387565743922102}, {\"x\": -2.3723723723723724, \"f(x)\": 1.8834059284509737}, {\"x\": -2.3523523523523524, \"f(x)\": 1.8288568849129412}, {\"x\": -2.3323323323323324, \"f(x)\": 1.7751094437781125}, {\"x\": -2.3123123123123124, \"f(x)\": 1.7221636050464881}, {\"x\": -2.2922922922922924, \"f(x)\": 1.6700193687180676}, {\"x\": -2.2722722722722724, \"f(x)\": 1.618676734792851}, {\"x\": -2.2522522522522523, \"f(x)\": 1.5681357032708387}, {\"x\": -2.2322322322322323, \"f(x)\": 1.51839627415203}, {\"x\": -2.2122122122122123, \"f(x)\": 1.4694584474364256}, {\"x\": -2.1921921921921923, \"f(x)\": 1.4213222231240252}, {\"x\": -2.1721721721721723, \"f(x)\": 1.3739876012148287}, {\"x\": -2.1521521521521523, \"f(x)\": 1.3274545817088363}, {\"x\": -2.1321321321321323, \"f(x)\": 1.2817231646060478}, {\"x\": -2.1121121121121122, \"f(x)\": 1.2367933499064634}, {\"x\": -2.0920920920920922, \"f(x)\": 1.192665137610083}, {\"x\": -2.0720720720720722, \"f(x)\": 1.1493385277169064}, {\"x\": -2.052052052052052, \"f(x)\": 1.106813520226934}, {\"x\": -2.032032032032032, \"f(x)\": 1.0650901151401655}, {\"x\": -2.012012012012012, \"f(x)\": 1.024168312456601}, {\"x\": -1.9919919919919913, \"f(x)\": 0.9840481121762389}, {\"x\": -1.9719719719719713, \"f(x)\": 0.9447295142990825}, {\"x\": -1.9519519519519513, \"f(x)\": 0.9062125188251301}, {\"x\": -1.9319319319319312, \"f(x)\": 0.8684971257543818}, {\"x\": -1.9119119119119112, \"f(x)\": 0.8315833350868373}, {\"x\": -1.8918918918918912, \"f(x)\": 0.795471146822497}, {\"x\": -1.8718718718718712, \"f(x)\": 0.7601605609613606}, {\"x\": -1.8518518518518512, \"f(x)\": 0.7256515775034282}, {\"x\": -1.8318318318318312, \"f(x)\": 0.6919441964486999}, {\"x\": -1.8118118118118112, \"f(x)\": 0.6590384177971755}, {\"x\": -1.7917917917917912, \"f(x)\": 0.6269342415488551}, {\"x\": -1.7717717717717711, \"f(x)\": 0.5956316677037388}, {\"x\": -1.7517517517517511, \"f(x)\": 0.5651306962618264}, {\"x\": -1.7317317317317311, \"f(x)\": 0.5354313272231181}, {\"x\": -1.711711711711711, \"f(x)\": 0.5065335605876138}, {\"x\": -1.691691691691691, \"f(x)\": 0.47843739635531346}, {\"x\": -1.671671671671671, \"f(x)\": 0.4511428345262171}, {\"x\": -1.651651651651651, \"f(x)\": 0.42464987510032476}, {\"x\": -1.631631631631631, \"f(x)\": 0.39895851807763644}, {\"x\": -1.611611611611611, \"f(x)\": 0.37406876345815215}, {\"x\": -1.591591591591591, \"f(x)\": 0.34998061124187185}, {\"x\": -1.571571571571571, \"f(x)\": 0.32669406142879553}, {\"x\": -1.551551551551551, \"f(x)\": 0.3042091140189232}, {\"x\": -1.531531531531531, \"f(x)\": 0.2825257690122549}, {\"x\": -1.511511511511511, \"f(x)\": 0.26164402640879064}, {\"x\": -1.491491491491491, \"f(x)\": 0.24156388620853034}, {\"x\": -1.471471471471471, \"f(x)\": 0.22228534841147404}, {\"x\": -1.451451451451451, \"f(x)\": 0.20380841301762176}, {\"x\": -1.431431431431431, \"f(x)\": 0.18613308002697349}, {\"x\": -1.411411411411411, \"f(x)\": 0.1692593494395292}, {\"x\": -1.391391391391391, \"f(x)\": 0.15318722125528894}, {\"x\": -1.3713713713713709, \"f(x)\": 0.13791669547425267}, {\"x\": -1.3513513513513509, \"f(x)\": 0.12344777209642041}, {\"x\": -1.3313313313313309, \"f(x)\": 0.10978045112179215}, {\"x\": -1.3113113113113108, \"f(x)\": 0.0969147325503679}, {\"x\": -1.2912912912912908, \"f(x)\": 0.08485061638214765}, {\"x\": -1.2712712712712708, \"f(x)\": 0.0735881026171314}, {\"x\": -1.2512512512512508, \"f(x)\": 0.06312719125531915}, {\"x\": -1.2312312312312308, \"f(x)\": 0.05346788229671092}, {\"x\": -1.2112112112112108, \"f(x)\": 0.04461017574130669}, {\"x\": -1.1911911911911908, \"f(x)\": 0.036554071589106465}, {\"x\": -1.1711711711711708, \"f(x)\": 0.02929956984011024}, {\"x\": -1.1511511511511507, \"f(x)\": 0.02284667049431802}, {\"x\": -1.1311311311311307, \"f(x)\": 0.017195373551729804}, {\"x\": -1.1111111111111107, \"f(x)\": 0.012345679012345592}, {\"x\": -1.0910910910910907, \"f(x)\": 0.008297586876165384}, {\"x\": -1.0710710710710707, \"f(x)\": 0.005051097143189181}, {\"x\": -1.0510510510510507, \"f(x)\": 0.0026062098134169826}, {\"x\": -1.0310310310310307, \"f(x)\": 0.0009629248868487881}, {\"x\": -1.0110110110110107, \"f(x)\": 0.00012124236348459781}, {\"x\": -0.9909909909909906, \"f(x)\": 8.116224332441183e-05}, {\"x\": -0.9709709709709706, \"f(x)\": 0.00084268452636823}, {\"x\": -0.9509509509509506, \"f(x)\": 0.0024058092126160524}, {\"x\": -0.9309309309309306, \"f(x)\": 0.004770536302067879}, {\"x\": -0.9109109109109106, \"f(x)\": 0.00793686579472371}, {\"x\": -0.8908908908908906, \"f(x)\": 0.011904797690583545}, {\"x\": -0.8708708708708706, \"f(x)\": 0.016674331989647385}, {\"x\": -0.8508508508508505, \"f(x)\": 0.022245468691915227}, {\"x\": -0.8308308308308305, \"f(x)\": 0.028618207797387076}, {\"x\": -0.8108108108108105, \"f(x)\": 0.03579254930606293}, {\"x\": -0.7907907907907905, \"f(x)\": 0.04376849321794279}, {\"x\": -0.7707707707707705, \"f(x)\": 0.052546039533026646}, {\"x\": -0.7507507507507505, \"f(x)\": 0.06212518825131451}, {\"x\": -0.7307307307307305, \"f(x)\": 0.07250593937280637}, {\"x\": -0.7107107107107105, \"f(x)\": 0.08368829289750225}, {\"x\": -0.6906906906906904, \"f(x)\": 0.09567224882540214}, {\"x\": -0.6706706706706704, \"f(x)\": 0.108457807156506}, {\"x\": -0.6506506506506504, \"f(x)\": 0.1220449678908139}, {\"x\": -0.6306306306306304, \"f(x)\": 0.1364337310283258}, {\"x\": -0.6106106106106104, \"f(x)\": 0.1516240965690417}, {\"x\": -0.5905905905905904, \"f(x)\": 0.16761606451296157}, {\"x\": -0.5705705705705704, \"f(x)\": 0.1844096348600855}, {\"x\": -0.5505505505505504, \"f(x)\": 0.2020048076104134}, {\"x\": -0.5305305305305303, \"f(x)\": 0.2204015827639453}, {\"x\": -0.5105105105105103, \"f(x)\": 0.23959996032068123}, {\"x\": -0.4904904904904903, \"f(x)\": 0.25959994028062117}, {\"x\": -0.4704704704704703, \"f(x)\": 0.28040152264376506}, {\"x\": -0.4504504504504503, \"f(x)\": 0.302004707410113}, {\"x\": -0.4304304304304303, \"f(x)\": 0.32440949457966495}, {\"x\": -0.41041041041041026, \"f(x)\": 0.34761588415242084}, {\"x\": -0.39039039039039025, \"f(x)\": 0.3716238761283808}, {\"x\": -0.37037037037037024, \"f(x)\": 0.39643347050754474}, {\"x\": -0.3503503503503502, \"f(x)\": 0.4220446672899127}, {\"x\": -0.3303303303303302, \"f(x)\": 0.4484574664754846}, {\"x\": -0.3103103103103102, \"f(x)\": 0.4756718680642606}, {\"x\": -0.2902902902902902, \"f(x)\": 0.5036878720562405}, {\"x\": -0.2702702702702702, \"f(x)\": 0.5325054784514245}, {\"x\": -0.25025025025025016, \"f(x)\": 0.5621246872498125}, {\"x\": -0.23023023023023015, \"f(x)\": 0.5925454984514045}, {\"x\": -0.21021021021021014, \"f(x)\": 0.6237679120562004}, {\"x\": -0.19019019019019012, \"f(x)\": 0.6557919280642004}, {\"x\": -0.1701701701701701, \"f(x)\": 0.6886175464754044}, {\"x\": -0.1501501501501501, \"f(x)\": 0.7222447672898125}, {\"x\": -0.13013013013013008, \"f(x)\": 0.7566735905074244}, {\"x\": -0.11011011011011007, \"f(x)\": 0.7919040161282405}, {\"x\": -0.09009009009009006, \"f(x)\": 0.8279360441522604}, {\"x\": -0.07007007007007005, \"f(x)\": 0.8647696745794844}, {\"x\": -0.05005005005005003, \"f(x)\": 0.9024049074099124}, {\"x\": -0.03003003003003002, \"f(x)\": 0.9408417426435445}, {\"x\": -0.010010010010010006, \"f(x)\": 0.9800801802803805}, {\"x\": 0.010010010010010006, \"f(x)\": 1.0201202203204205}, {\"x\": 0.03003003003003002, \"f(x)\": 1.0609618627636646}, {\"x\": 0.05005005005005003, \"f(x)\": 1.1026051076101127}, {\"x\": 0.07007007007007005, \"f(x)\": 1.1450499548597646}, {\"x\": 0.09009009009009006, \"f(x)\": 1.1882964045126208}, {\"x\": 0.11011011011011007, \"f(x)\": 1.2323444565686807}, {\"x\": 0.13013013013013008, \"f(x)\": 1.2771941110279448}, {\"x\": 0.1501501501501501, \"f(x)\": 1.3228453678904128}, {\"x\": 0.1701701701701701, \"f(x)\": 1.369298227156085}, {\"x\": 0.19019019019019012, \"f(x)\": 1.4165526888249609}, {\"x\": 0.21021021021021014, \"f(x)\": 1.464608752897041}, {\"x\": 0.23023023023023015, \"f(x)\": 1.513466419372325}, {\"x\": 0.25025025025025016, \"f(x)\": 1.563125688250813}, {\"x\": 0.2702702702702702, \"f(x)\": 1.6135865595325052}, {\"x\": 0.2902902902902902, \"f(x)\": 1.6648490332174013}, {\"x\": 0.3103103103103102, \"f(x)\": 1.7169131093055015}, {\"x\": 0.3303303303303302, \"f(x)\": 1.7697787877968054}, {\"x\": 0.3503503503503502, \"f(x)\": 1.8234460686913136}, {\"x\": 0.37037037037037024, \"f(x)\": 1.8779149519890257}, {\"x\": 0.39039039039039025, \"f(x)\": 1.9331854376899418}, {\"x\": 0.41041041041041026, \"f(x)\": 1.989257525794062}, {\"x\": 0.4304304304304303, \"f(x)\": 2.046131216301386}, {\"x\": 0.4504504504504503, \"f(x)\": 2.103806509211914}, {\"x\": 0.4704704704704703, \"f(x)\": 2.1622834045256463}, {\"x\": 0.4904904904904903, \"f(x)\": 2.2215619022425823}, {\"x\": 0.5105105105105103, \"f(x)\": 2.2816420023627226}, {\"x\": 0.5305305305305303, \"f(x)\": 2.3425237048860668}, {\"x\": 0.5505505505505504, \"f(x)\": 2.4042070098126147}, {\"x\": 0.5705705705705704, \"f(x)\": 2.466691917142367}, {\"x\": 0.5905905905905904, \"f(x)\": 2.529978426875323}, {\"x\": 0.6106106106106104, \"f(x)\": 2.594066539011483}, {\"x\": 0.6306306306306304, \"f(x)\": 2.6589562535508473}, {\"x\": 0.6506506506506504, \"f(x)\": 2.7246475704934157}, {\"x\": 0.6706706706706704, \"f(x)\": 2.791140489839188}, {\"x\": 0.6906906906906904, \"f(x)\": 2.858435011588164}, {\"x\": 0.7107107107107105, \"f(x)\": 2.926531135740344}, {\"x\": 0.7307307307307305, \"f(x)\": 2.995428862295728}, {\"x\": 0.7507507507507505, \"f(x)\": 3.0651281912543165}, {\"x\": 0.7707707707707705, \"f(x)\": 3.1356291226161086}, {\"x\": 0.7907907907907905, \"f(x)\": 3.206931656381105}, {\"x\": 0.8108108108108105, \"f(x)\": 3.279035792549305}, {\"x\": 0.8308308308308305, \"f(x)\": 3.3519415311207093}, {\"x\": 0.8508508508508505, \"f(x)\": 3.4256488720953175}, {\"x\": 0.8708708708708706, \"f(x)\": 3.5001578154731297}, {\"x\": 0.8908908908908906, \"f(x)\": 3.575468361254146}, {\"x\": 0.9109109109109106, \"f(x)\": 3.651580509438366}, {\"x\": 0.9309309309309306, \"f(x)\": 3.72849426002579}, {\"x\": 0.9509509509509506, \"f(x)\": 3.8062096130164185}, {\"x\": 0.9709709709709706, \"f(x)\": 3.8847265684102505}, {\"x\": 0.9909909909909906, \"f(x)\": 3.964045126207287}, {\"x\": 1.0110110110110107, \"f(x)\": 4.0441652864075275}, {\"x\": 1.0310310310310307, \"f(x)\": 4.125087049010971}, {\"x\": 1.0510510510510507, \"f(x)\": 4.20681041401762}, {\"x\": 1.0710710710710707, \"f(x)\": 4.289335381427472}, {\"x\": 1.0910910910910907, \"f(x)\": 4.372661951240528}, {\"x\": 1.1111111111111107, \"f(x)\": 4.456790123456789}, {\"x\": 1.1311311311311307, \"f(x)\": 4.541719898076253}, {\"x\": 1.1511511511511507, \"f(x)\": 4.627451275098921}, {\"x\": 1.1711711711711708, \"f(x)\": 4.713984254524793}, {\"x\": 1.1911911911911908, \"f(x)\": 4.80131883635387}, {\"x\": 1.2112112112112108, \"f(x)\": 4.88945502058615}, {\"x\": 1.2312312312312308, \"f(x)\": 4.978392807221634}, {\"x\": 1.2512512512512508, \"f(x)\": 5.068132196260322}, {\"x\": 1.2712712712712708, \"f(x)\": 5.158673187702215}, {\"x\": 1.2912912912912908, \"f(x)\": 5.250015781547311}, {\"x\": 1.3113113113113108, \"f(x)\": 5.342159977795611}, {\"x\": 1.3313313313313309, \"f(x)\": 5.435105776447116}, {\"x\": 1.3513513513513509, \"f(x)\": 5.528853177501824}, {\"x\": 1.3713713713713709, \"f(x)\": 5.6234021809597365}, {\"x\": 1.391391391391391, \"f(x)\": 5.718752786820852}, {\"x\": 1.411411411411411, \"f(x)\": 5.814904995085173}, {\"x\": 1.431431431431431, \"f(x)\": 5.911858805752697}, {\"x\": 1.451451451451451, \"f(x)\": 6.009614218823425}, {\"x\": 1.471471471471471, \"f(x)\": 6.108171234297358}, {\"x\": 1.491491491491491, \"f(x)\": 6.207529852174495}, {\"x\": 1.511511511511511, \"f(x)\": 6.307690072454834}, {\"x\": 1.531531531531531, \"f(x)\": 6.408651895138379}, {\"x\": 1.551551551551551, \"f(x)\": 6.510415320225127}, {\"x\": 1.571571571571571, \"f(x)\": 6.612980347715079}, {\"x\": 1.591591591591591, \"f(x)\": 6.716346977608236}, {\"x\": 1.611611611611611, \"f(x)\": 6.820515209904596}, {\"x\": 1.631631631631631, \"f(x)\": 6.9254850446041605}, {\"x\": 1.651651651651651, \"f(x)\": 7.031256481706929}, {\"x\": 1.671671671671671, \"f(x)\": 7.137829521212901}, {\"x\": 1.691691691691691, \"f(x)\": 7.245204163122078}, {\"x\": 1.711711711711711, \"f(x)\": 7.353380407434458}, {\"x\": 1.7317317317317311, \"f(x)\": 7.462358254150042}, {\"x\": 1.7517517517517511, \"f(x)\": 7.572137703268831}, {\"x\": 1.7717717717717711, \"f(x)\": 7.682718754790823}, {\"x\": 1.7917917917917912, \"f(x)\": 7.79410140871602}, {\"x\": 1.8118118118118112, \"f(x)\": 7.90628566504442}, {\"x\": 1.8318318318318312, \"f(x)\": 8.019271523776025}, {\"x\": 1.8518518518518512, \"f(x)\": 8.133058984910832}, {\"x\": 1.8718718718718712, \"f(x)\": 8.247648048448845}, {\"x\": 1.8918918918918912, \"f(x)\": 8.363038714390061}, {\"x\": 1.9119119119119112, \"f(x)\": 8.479230982734482}, {\"x\": 1.9319319319319312, \"f(x)\": 8.596224853482108}, {\"x\": 1.9519519519519513, \"f(x)\": 8.714020326632935}, {\"x\": 1.9719719719719713, \"f(x)\": 8.832617402186967}, {\"x\": 1.9919919919919913, \"f(x)\": 8.952016080144205}, {\"x\": 2.0120120120120113, \"f(x)\": 9.072216360504644}, {\"x\": 2.0320320320320313, \"f(x)\": 9.193218243268289}, {\"x\": 2.0520520520520513, \"f(x)\": 9.315021728435138}, {\"x\": 2.0720720720720713, \"f(x)\": 9.43762681600519}, {\"x\": 2.0920920920920913, \"f(x)\": 9.561033505978447}, {\"x\": 2.1121121121121114, \"f(x)\": 9.685241798354907}, {\"x\": 2.1321321321321314, \"f(x)\": 9.810251693134571}, {\"x\": 2.1521521521521514, \"f(x)\": 9.936063190317439}, {\"x\": 2.1721721721721714, \"f(x)\": 10.062676289903512}, {\"x\": 2.1921921921921914, \"f(x)\": 10.190090991892788}, {\"x\": 2.2122122122122114, \"f(x)\": 10.318307296285269}, {\"x\": 2.2322322322322314, \"f(x)\": 10.447325203080954}, {\"x\": 2.2522522522522515, \"f(x)\": 10.577144712279843}, {\"x\": 2.2722722722722715, \"f(x)\": 10.707765823881935}, {\"x\": 2.2922922922922915, \"f(x)\": 10.839188537887232}, {\"x\": 2.3123123123123115, \"f(x)\": 10.971412854295732}, {\"x\": 2.3323323323323315, \"f(x)\": 11.104438773107436}, {\"x\": 2.3523523523523515, \"f(x)\": 11.238266294322345}, {\"x\": 2.3723723723723715, \"f(x)\": 11.372895417940457}, {\"x\": 2.3923923923923915, \"f(x)\": 11.508326143961774}, {\"x\": 2.4124124124124116, \"f(x)\": 11.644558472386294}, {\"x\": 2.4324324324324316, \"f(x)\": 11.781592403214018}, {\"x\": 2.4524524524524516, \"f(x)\": 11.919427936444947}, {\"x\": 2.4724724724724716, \"f(x)\": 12.05806507207908}, {\"x\": 2.4924924924924916, \"f(x)\": 12.197503810116416}, {\"x\": 2.5125125125125116, \"f(x)\": 12.337744150556958}, {\"x\": 2.5325325325325316, \"f(x)\": 12.478786093400702}, {\"x\": 2.5525525525525516, \"f(x)\": 12.62062963864765}, {\"x\": 2.5725725725725717, \"f(x)\": 12.763274786297803}, {\"x\": 2.5925925925925917, \"f(x)\": 12.90672153635116}, {\"x\": 2.6126126126126117, \"f(x)\": 13.05096988880772}, {\"x\": 2.6326326326326317, \"f(x)\": 13.196019843667484}, {\"x\": 2.6526526526526517, \"f(x)\": 13.341871400930453}, {\"x\": 2.6726726726726717, \"f(x)\": 13.488524560596625}, {\"x\": 2.6926926926926917, \"f(x)\": 13.635979322666003}, {\"x\": 2.7127127127127117, \"f(x)\": 13.784235687138583}, {\"x\": 2.7327327327327318, \"f(x)\": 13.933293654014367}, {\"x\": 2.7527527527527518, \"f(x)\": 14.083153223293357}, {\"x\": 2.772772772772772, \"f(x)\": 14.233814394975548}, {\"x\": 2.792792792792792, \"f(x)\": 14.385277169060945}, {\"x\": 2.812812812812812, \"f(x)\": 14.537541545549546}, {\"x\": 2.8328328328328336, \"f(x)\": 14.690607524441365}, {\"x\": 2.8528528528528536, \"f(x)\": 14.844475105736374}, {\"x\": 2.8728728728728736, \"f(x)\": 14.999144289434586}, {\"x\": 2.8928928928928936, \"f(x)\": 15.154615075536002}, {\"x\": 2.9129129129129137, \"f(x)\": 15.310887464040624}, {\"x\": 2.9329329329329337, \"f(x)\": 15.467961454948448}, {\"x\": 2.9529529529529537, \"f(x)\": 15.625837048259477}, {\"x\": 2.9729729729729737, \"f(x)\": 15.784514243973709}, {\"x\": 2.9929929929929937, \"f(x)\": 15.943993042091146}, {\"x\": 3.0130130130130137, \"f(x)\": 16.104273442611788}, {\"x\": 3.0330330330330337, \"f(x)\": 16.265355445535633}, {\"x\": 3.0530530530530537, \"f(x)\": 16.42723905086268}, {\"x\": 3.0730730730730738, \"f(x)\": 16.589924258592934}, {\"x\": 3.0930930930930938, \"f(x)\": 16.75341106872639}, {\"x\": 3.113113113113114, \"f(x)\": 16.91769948126305}, {\"x\": 3.133133133133134, \"f(x)\": 17.082789496202913}, {\"x\": 3.153153153153154, \"f(x)\": 17.248681113545985}, {\"x\": 3.173173173173174, \"f(x)\": 17.415374333292256}, {\"x\": 3.193193193193194, \"f(x)\": 17.582869155441735}, {\"x\": 3.213213213213214, \"f(x)\": 17.751165579994414}, {\"x\": 3.233233233233234, \"f(x)\": 17.9202636069503}, {\"x\": 3.253253253253254, \"f(x)\": 18.090163236309387}, {\"x\": 3.273273273273274, \"f(x)\": 18.26086446807168}, {\"x\": 3.293293293293294, \"f(x)\": 18.43236730223718}, {\"x\": 3.313313313313314, \"f(x)\": 18.604671738805877}, {\"x\": 3.333333333333334, \"f(x)\": 18.777777777777782}, {\"x\": 3.353353353353354, \"f(x)\": 18.95168541915289}, {\"x\": 3.373373373373374, \"f(x)\": 19.126394662931204}, {\"x\": 3.393393393393394, \"f(x)\": 19.30190550911272}, {\"x\": 3.413413413413414, \"f(x)\": 19.478217957697442}, {\"x\": 3.433433433433434, \"f(x)\": 19.655332008685367}, {\"x\": 3.453453453453454, \"f(x)\": 19.833247662076495}, {\"x\": 3.473473473473474, \"f(x)\": 20.011964917870827}, {\"x\": 3.493493493493494, \"f(x)\": 20.191483776068367}, {\"x\": 3.513513513513514, \"f(x)\": 20.371804236669107}, {\"x\": 3.533533533533534, \"f(x)\": 20.55292629967305}, {\"x\": 3.553553553553554, \"f(x)\": 20.7348499650802}, {\"x\": 3.573573573573574, \"f(x)\": 20.917575232890552}, {\"x\": 3.593593593593594, \"f(x)\": 21.10110210310411}, {\"x\": 3.613613613613614, \"f(x)\": 21.28543057572087}, {\"x\": 3.633633633633634, \"f(x)\": 21.470560650740836}, {\"x\": 3.653653653653654, \"f(x)\": 21.656492328164003}, {\"x\": 3.673673673673674, \"f(x)\": 21.843225607990377}, {\"x\": 3.693693693693694, \"f(x)\": 22.030760490219954}, {\"x\": 3.713713713713714, \"f(x)\": 22.219096974852736}, {\"x\": 3.733733733733734, \"f(x)\": 22.40823506188872}, {\"x\": 3.753753753753754, \"f(x)\": 22.59817475132791}, {\"x\": 3.773773773773774, \"f(x)\": 22.788916043170303}, {\"x\": 3.7937937937937942, \"f(x)\": 22.9804589374159}, {\"x\": 3.8138138138138142, \"f(x)\": 23.1728034340647}, {\"x\": 3.8338338338338342, \"f(x)\": 23.365949533116705}, {\"x\": 3.8538538538538543, \"f(x)\": 23.559897234571913}, {\"x\": 3.8738738738738743, \"f(x)\": 23.754646538430325}, {\"x\": 3.8938938938938943, \"f(x)\": 23.950197444691945}, {\"x\": 3.9139139139139143, \"f(x)\": 24.146549953356764}, {\"x\": 3.9339339339339343, \"f(x)\": 24.343704064424788}, {\"x\": 3.9539539539539543, \"f(x)\": 24.54165977789602}, {\"x\": 3.9739739739739743, \"f(x)\": 24.74041709377045}, {\"x\": 3.9939939939939944, \"f(x)\": 24.93997601204809}, {\"x\": 4.014014014014014, \"f(x)\": 25.140336532728927}, {\"x\": 4.034034034034034, \"f(x)\": 25.341498655812973}, {\"x\": 4.054054054054054, \"f(x)\": 25.543462381300223}, {\"x\": 4.074074074074074, \"f(x)\": 25.746227709190677}, {\"x\": 4.094094094094094, \"f(x)\": 25.94979463948433}, {\"x\": 4.114114114114114, \"f(x)\": 26.154163172181192}, {\"x\": 4.134134134134134, \"f(x)\": 26.359333307281258}, {\"x\": 4.1541541541541545, \"f(x)\": 26.565305044784527}, {\"x\": 4.1741741741741745, \"f(x)\": 26.772078384691}, {\"x\": 4.1941941941941945, \"f(x)\": 26.979653327000676}, {\"x\": 4.2142142142142145, \"f(x)\": 27.188029871713557}, {\"x\": 4.2342342342342345, \"f(x)\": 27.397208018829645}, {\"x\": 4.2542542542542545, \"f(x)\": 27.607187768348933}, {\"x\": 4.2742742742742745, \"f(x)\": 27.817969120271425}, {\"x\": 4.2942942942942945, \"f(x)\": 28.029552074597124}, {\"x\": 4.314314314314315, \"f(x)\": 28.241936631326023}, {\"x\": 4.334334334334335, \"f(x)\": 28.455122790458127}, {\"x\": 4.354354354354355, \"f(x)\": 28.669110551993437}, {\"x\": 4.374374374374375, \"f(x)\": 28.883899915931952}, {\"x\": 4.394394394394395, \"f(x)\": 29.099490882273667}, {\"x\": 4.414414414414415, \"f(x)\": 29.31588345101859}, {\"x\": 4.434434434434435, \"f(x)\": 29.533077622166715}, {\"x\": 4.454454454454455, \"f(x)\": 29.75107339571804}, {\"x\": 4.474474474474475, \"f(x)\": 29.969870771672575}, {\"x\": 4.494494494494495, \"f(x)\": 30.189469750030312}, {\"x\": 4.514514514514515, \"f(x)\": 30.409870330791254}, {\"x\": 4.534534534534535, \"f(x)\": 30.6310725139554}, {\"x\": 4.554554554554555, \"f(x)\": 30.853076299522748}, {\"x\": 4.574574574574575, \"f(x)\": 31.0758816874933}, {\"x\": 4.594594594594595, \"f(x)\": 31.299488677867057}, {\"x\": 4.614614614614615, \"f(x)\": 31.523897270644017}, {\"x\": 4.634634634634635, \"f(x)\": 31.749107465824185}, {\"x\": 4.654654654654655, \"f(x)\": 31.975119263407553}, {\"x\": 4.674674674674675, \"f(x)\": 32.201932663394125}, {\"x\": 4.694694694694695, \"f(x)\": 32.4295476657839}, {\"x\": 4.714714714714715, \"f(x)\": 32.65796427057688}, {\"x\": 4.734734734734735, \"f(x)\": 32.88718247777307}, {\"x\": 4.754754754754755, \"f(x)\": 33.11720228737246}, {\"x\": 4.774774774774775, \"f(x)\": 33.348023699375055}, {\"x\": 4.794794794794795, \"f(x)\": 33.579646713780846}, {\"x\": 4.814814814814815, \"f(x)\": 33.81207133058985}, {\"x\": 4.834834834834835, \"f(x)\": 34.04529754980206}, {\"x\": 4.854854854854855, \"f(x)\": 34.279325371417464}, {\"x\": 4.874874874874875, \"f(x)\": 34.51415479543608}, {\"x\": 4.894894894894895, \"f(x)\": 34.74978582185789}, {\"x\": 4.914914914914915, \"f(x)\": 34.98621845068291}, {\"x\": 4.934934934934935, \"f(x)\": 35.22345268191114}, {\"x\": 4.954954954954955, \"f(x)\": 35.46148851554257}, {\"x\": 4.974974974974975, \"f(x)\": 35.700325951577206}, {\"x\": 4.994994994994995, \"f(x)\": 35.93996499001504}, {\"x\": 5.015015015015015, \"f(x)\": 36.18040563085608}, {\"x\": 5.035035035035035, \"f(x)\": 36.42164787410032}, {\"x\": 5.055055055055055, \"f(x)\": 36.663691719747774}, {\"x\": 5.075075075075075, \"f(x)\": 36.906537167798426}, {\"x\": 5.095095095095095, \"f(x)\": 37.150184218252285}, {\"x\": 5.115115115115115, \"f(x)\": 37.394632871109344}, {\"x\": 5.135135135135135, \"f(x)\": 37.63988312636961}, {\"x\": 5.155155155155155, \"f(x)\": 37.88593498403308}, {\"x\": 5.175175175175175, \"f(x)\": 38.13278844409975}, {\"x\": 5.195195195195195, \"f(x)\": 38.380443506569634}, {\"x\": 5.215215215215215, \"f(x)\": 38.628900171442716}, {\"x\": 5.235235235235235, \"f(x)\": 38.878158438719}, {\"x\": 5.255255255255255, \"f(x)\": 39.12821830839849}, {\"x\": 5.275275275275275, \"f(x)\": 39.37907978048118}, {\"x\": 5.295295295295295, \"f(x)\": 39.630742854967075}, {\"x\": 5.315315315315315, \"f(x)\": 39.88320753185618}, {\"x\": 5.335335335335335, \"f(x)\": 40.136473811148484}, {\"x\": 5.355355355355355, \"f(x)\": 40.390541692843996}, {\"x\": 5.375375375375375, \"f(x)\": 40.64541117694271}, {\"x\": 5.395395395395395, \"f(x)\": 40.90108226344462}, {\"x\": 5.415415415415415, \"f(x)\": 41.15755495234975}, {\"x\": 5.435435435435435, \"f(x)\": 41.41482924365807}, {\"x\": 5.455455455455455, \"f(x)\": 41.6729051373696}, {\"x\": 5.475475475475475, \"f(x)\": 41.93178263348433}, {\"x\": 5.495495495495495, \"f(x)\": 42.19146173200227}, {\"x\": 5.515515515515515, \"f(x)\": 42.45194243292341}, {\"x\": 5.535535535535535, \"f(x)\": 42.71322473624776}, {\"x\": 5.555555555555555, \"f(x)\": 42.9753086419753}, {\"x\": 5.575575575575575, \"f(x)\": 43.23819415010606}, {\"x\": 5.595595595595595, \"f(x)\": 43.50188126064002}, {\"x\": 5.615615615615615, \"f(x)\": 43.76636997357718}, {\"x\": 5.635635635635635, \"f(x)\": 44.03166028891754}, {\"x\": 5.655655655655655, \"f(x)\": 44.297752206661116}, {\"x\": 5.675675675675675, \"f(x)\": 44.56464572680789}, {\"x\": 5.6956956956956954, \"f(x)\": 44.83234084935786}, {\"x\": 5.7157157157157155, \"f(x)\": 45.10083757431104}, {\"x\": 5.7357357357357355, \"f(x)\": 45.37013590166743}, {\"x\": 5.7557557557557555, \"f(x)\": 45.64023583142702}, {\"x\": 5.7757757757757755, \"f(x)\": 45.91113736358981}, {\"x\": 5.7957957957957955, \"f(x)\": 46.18284049815581}, {\"x\": 5.8158158158158155, \"f(x)\": 46.45534523512501}, {\"x\": 5.8358358358358355, \"f(x)\": 46.72865157449742}, {\"x\": 5.8558558558558556, \"f(x)\": 47.002759516273024}, {\"x\": 5.875875875875876, \"f(x)\": 47.27766906045184}, {\"x\": 5.895895895895896, \"f(x)\": 47.553380207033854}, {\"x\": 5.915915915915916, \"f(x)\": 47.82989295601908}, {\"x\": 5.935935935935936, \"f(x)\": 48.107207307407506}, {\"x\": 5.955955955955956, \"f(x)\": 48.38532326119913}, {\"x\": 5.975975975975976, \"f(x)\": 48.66424081739397}, {\"x\": 5.995995995995996, \"f(x)\": 48.943959975992}, {\"x\": 6.016016016016017, \"f(x)\": 49.22448073699327}, {\"x\": 6.0360360360360374, \"f(x)\": 49.50580310039771}, {\"x\": 6.0560560560560575, \"f(x)\": 49.78792706620536}, {\"x\": 6.0760760760760775, \"f(x)\": 50.07085263441622}, {\"x\": 6.0960960960960975, \"f(x)\": 50.354579805030276}, {\"x\": 6.1161161161161175, \"f(x)\": 50.639108578047534}, {\"x\": 6.1361361361361375, \"f(x)\": 50.924438953468005}, {\"x\": 6.1561561561561575, \"f(x)\": 51.21057093129167}, {\"x\": 6.1761761761761775, \"f(x)\": 51.49750451151854}, {\"x\": 6.1961961961961975, \"f(x)\": 51.78523969414862}, {\"x\": 6.216216216216218, \"f(x)\": 52.0737764791819}, {\"x\": 6.236236236236238, \"f(x)\": 52.36311486661839}, {\"x\": 6.256256256256258, \"f(x)\": 52.65325485645808}, {\"x\": 6.276276276276278, \"f(x)\": 52.94419644870097}, {\"x\": 6.296296296296298, \"f(x)\": 53.235939643347066}, {\"x\": 6.316316316316318, \"f(x)\": 53.52848444039637}, {\"x\": 6.336336336336338, \"f(x)\": 53.82183083984888}, {\"x\": 6.356356356356358, \"f(x)\": 54.11597884170459}, {\"x\": 6.376376376376378, \"f(x)\": 54.4109284459635}, {\"x\": 6.396396396396398, \"f(x)\": 54.70667965262562}, {\"x\": 6.416416416416418, \"f(x)\": 55.00323246169094}, {\"x\": 6.436436436436438, \"f(x)\": 55.30058687315947}, {\"x\": 6.456456456456458, \"f(x)\": 55.59874288703119}, {\"x\": 6.476476476476478, \"f(x)\": 55.897700503306126}, {\"x\": 6.496496496496498, \"f(x)\": 56.197459721984266}, {\"x\": 6.516516516516518, \"f(x)\": 56.49802054306561}, {\"x\": 6.536536536536538, \"f(x)\": 56.799382966550155}, {\"x\": 6.556556556556558, \"f(x)\": 57.1015469924379}, {\"x\": 6.576576576576578, \"f(x)\": 57.40451262072885}, {\"x\": 6.596596596596598, \"f(x)\": 57.708279851423015}, {\"x\": 6.616616616616618, \"f(x)\": 58.01284868452037}, {\"x\": 6.636636636636638, \"f(x)\": 58.31821912002094}, {\"x\": 6.656656656656658, \"f(x)\": 58.62439115792471}, {\"x\": 6.676676676676678, \"f(x)\": 58.931364798231684}, {\"x\": 6.696696696696698, \"f(x)\": 59.23914004094186}, {\"x\": 6.716716716716718, \"f(x)\": 59.54771688605524}, {\"x\": 6.736736736736738, \"f(x)\": 59.85709533357183}, {\"x\": 6.756756756756758, \"f(x)\": 60.16727538349162}, {\"x\": 6.776776776776778, \"f(x)\": 60.478257035814615}, {\"x\": 6.796796796796798, \"f(x)\": 60.79004029054081}, {\"x\": 6.816816816816818, \"f(x)\": 61.10262514767021}, {\"x\": 6.836836836836838, \"f(x)\": 61.41601160720282}, {\"x\": 6.856856856856858, \"f(x)\": 61.73019966913863}, {\"x\": 6.876876876876878, \"f(x)\": 62.04518933347764}, {\"x\": 6.896896896896898, \"f(x)\": 62.360980600219854}, {\"x\": 6.916916916916918, \"f(x)\": 62.67757346936528}, {\"x\": 6.936936936936938, \"f(x)\": 62.9949679409139}, {\"x\": 6.956956956956958, \"f(x)\": 63.313164014865734}, {\"x\": 6.976976976976978, \"f(x)\": 63.632161691220766}, {\"x\": 6.996996996996998, \"f(x)\": 63.951960969979005}, {\"x\": 7.017017017017018, \"f(x)\": 64.27256185114045}, {\"x\": 7.037037037037038, \"f(x)\": 64.59396433470509}, {\"x\": 7.057057057057058, \"f(x)\": 64.91616842067295}, {\"x\": 7.077077077077078, \"f(x)\": 65.239174109044}, {\"x\": 7.097097097097098, \"f(x)\": 65.56298139981826}, {\"x\": 7.117117117117118, \"f(x)\": 65.88759029299571}, {\"x\": 7.137137137137138, \"f(x)\": 66.21300078857638}, {\"x\": 7.157157157157158, \"f(x)\": 66.53921288656025}, {\"x\": 7.177177177177178, \"f(x)\": 66.86622658694732}, {\"x\": 7.197197197197198, \"f(x)\": 67.1940418897376}, {\"x\": 7.217217217217218, \"f(x)\": 67.52265879493109}, {\"x\": 7.237237237237238, \"f(x)\": 67.85207730252777}, {\"x\": 7.257257257257258, \"f(x)\": 68.18229741252766}, {\"x\": 7.277277277277278, \"f(x)\": 68.51331912493075}, {\"x\": 7.297297297297298, \"f(x)\": 68.84514243973705}, {\"x\": 7.317317317317318, \"f(x)\": 69.17776735694655}, {\"x\": 7.337337337337338, \"f(x)\": 69.51119387655926}, {\"x\": 7.357357357357358, \"f(x)\": 69.84542199857516}, {\"x\": 7.377377377377378, \"f(x)\": 70.18045172299428}, {\"x\": 7.397397397397398, \"f(x)\": 70.5162830498166}, {\"x\": 7.417417417417418, \"f(x)\": 70.85291597904212}, {\"x\": 7.437437437437438, \"f(x)\": 71.19035051067084}, {\"x\": 7.457457457457458, \"f(x)\": 71.52858664470277}, {\"x\": 7.477477477477478, \"f(x)\": 71.86762438113792}, {\"x\": 7.497497497497498, \"f(x)\": 72.20746371997625}, {\"x\": 7.517517517517518, \"f(x)\": 72.54810466121779}, {\"x\": 7.537537537537538, \"f(x)\": 72.88954720486254}, {\"x\": 7.557557557557558, \"f(x)\": 73.23179135091048}, {\"x\": 7.577577577577578, \"f(x)\": 73.57483709936164}, {\"x\": 7.5975975975975985, \"f(x)\": 73.91868445021599}, {\"x\": 7.6176176176176185, \"f(x)\": 74.26333340347355}, {\"x\": 7.6376376376376385, \"f(x)\": 74.60878395913433}, {\"x\": 7.6576576576576585, \"f(x)\": 74.95503611719829}, {\"x\": 7.6776776776776785, \"f(x)\": 75.30208987766547}, {\"x\": 7.6976976976976985, \"f(x)\": 75.64994524053584}, {\"x\": 7.7177177177177185, \"f(x)\": 75.99860220580943}, {\"x\": 7.7377377377377385, \"f(x)\": 76.34806077348621}, {\"x\": 7.7577577577577586, \"f(x)\": 76.6983209435662}, {\"x\": 7.777777777777779, \"f(x)\": 77.0493827160494}, {\"x\": 7.797797797797799, \"f(x)\": 77.4012460909358}, {\"x\": 7.817817817817819, \"f(x)\": 77.75391106822539}, {\"x\": 7.837837837837839, \"f(x)\": 78.1073776479182}, {\"x\": 7.857857857857859, \"f(x)\": 78.4616458300142}, {\"x\": 7.877877877877879, \"f(x)\": 78.81671561451343}, {\"x\": 7.897897897897899, \"f(x)\": 79.17258700141585}, {\"x\": 7.917917917917919, \"f(x)\": 79.52925999072147}, {\"x\": 7.937937937937939, \"f(x)\": 79.8867345824303}, {\"x\": 7.957957957957959, \"f(x)\": 80.24501077654232}, {\"x\": 7.977977977977979, \"f(x)\": 80.60408857305755}, {\"x\": 7.997997997997999, \"f(x)\": 80.96396797197599}, {\"x\": 8.018018018018019, \"f(x)\": 81.32464897329764}, {\"x\": 8.038038038038039, \"f(x)\": 81.68613157702248}, {\"x\": 8.058058058058059, \"f(x)\": 82.04841578315053}, {\"x\": 8.078078078078079, \"f(x)\": 82.41150159168178}, {\"x\": 8.098098098098099, \"f(x)\": 82.77538900261624}, {\"x\": 8.118118118118119, \"f(x)\": 83.1400780159539}, {\"x\": 8.138138138138139, \"f(x)\": 83.50556863169477}, {\"x\": 8.158158158158159, \"f(x)\": 83.87186084983884}, {\"x\": 8.178178178178179, \"f(x)\": 84.23895467038611}, {\"x\": 8.198198198198199, \"f(x)\": 84.60685009333659}, {\"x\": 8.218218218218219, \"f(x)\": 84.97554711869027}, {\"x\": 8.238238238238239, \"f(x)\": 85.34504574644716}, {\"x\": 8.258258258258259, \"f(x)\": 85.71534597660725}, {\"x\": 8.278278278278279, \"f(x)\": 86.08644780917054}, {\"x\": 8.298298298298299, \"f(x)\": 86.45835124413703}, {\"x\": 8.318318318318319, \"f(x)\": 86.83105628150675}, {\"x\": 8.338338338338339, \"f(x)\": 87.20456292127965}, {\"x\": 8.358358358358359, \"f(x)\": 87.57887116345576}, {\"x\": 8.378378378378379, \"f(x)\": 87.95398100803507}, {\"x\": 8.398398398398399, \"f(x)\": 88.32989245501759}, {\"x\": 8.418418418418419, \"f(x)\": 88.70660550440331}, {\"x\": 8.438438438438439, \"f(x)\": 89.08412015619224}, {\"x\": 8.458458458458459, \"f(x)\": 89.46243641038437}, {\"x\": 8.478478478478479, \"f(x)\": 89.8415542669797}, {\"x\": 8.498498498498499, \"f(x)\": 90.22147372597824}, {\"x\": 8.518518518518519, \"f(x)\": 90.60219478737999}, {\"x\": 8.538538538538539, \"f(x)\": 90.98371745118493}, {\"x\": 8.558558558558559, \"f(x)\": 91.36604171739307}, {\"x\": 8.578578578578579, \"f(x)\": 91.74916758600443}, {\"x\": 8.598598598598599, \"f(x)\": 92.13309505701899}, {\"x\": 8.618618618618619, \"f(x)\": 92.51782413043675}, {\"x\": 8.63863863863864, \"f(x)\": 92.90335480625772}, {\"x\": 8.65865865865866, \"f(x)\": 93.28968708448188}, {\"x\": 8.67867867867868, \"f(x)\": 93.67682096510926}, {\"x\": 8.6986986986987, \"f(x)\": 94.06475644813985}, {\"x\": 8.71871871871872, \"f(x)\": 94.45349353357362}, {\"x\": 8.73873873873874, \"f(x)\": 94.84303222141061}, {\"x\": 8.75875875875876, \"f(x)\": 95.2333725116508}, {\"x\": 8.77877877877878, \"f(x)\": 95.62451440429419}, {\"x\": 8.7987987987988, \"f(x)\": 96.01645789934079}, {\"x\": 8.81881881881882, \"f(x)\": 96.4092029967906}, {\"x\": 8.83883883883884, \"f(x)\": 96.8027496966436}, {\"x\": 8.85885885885886, \"f(x)\": 97.1970979988998}, {\"x\": 8.87887887887888, \"f(x)\": 97.59224790355923}, {\"x\": 8.8988988988989, \"f(x)\": 97.98819941062185}, {\"x\": 8.91891891891892, \"f(x)\": 98.38495252008767}, {\"x\": 8.93893893893894, \"f(x)\": 98.78250723195669}, {\"x\": 8.95895895895896, \"f(x)\": 99.18086354622892}, {\"x\": 8.97897897897898, \"f(x)\": 99.58002146290436}, {\"x\": 8.998998998999, \"f(x)\": 99.97998098198299}, {\"x\": 9.01901901901902, \"f(x)\": 100.38074210346484}, {\"x\": 9.03903903903904, \"f(x)\": 100.78230482734988}, {\"x\": 9.05905905905906, \"f(x)\": 101.18466915363813}, {\"x\": 9.07907907907908, \"f(x)\": 101.58783508232959}, {\"x\": 9.0990990990991, \"f(x)\": 101.99180261342424}, {\"x\": 9.11911911911912, \"f(x)\": 102.3965717469221}, {\"x\": 9.13913913913914, \"f(x)\": 102.80214248282317}, {\"x\": 9.15915915915916, \"f(x)\": 103.20851482112744}, {\"x\": 9.17917917917918, \"f(x)\": 103.61568876183492}, {\"x\": 9.1991991991992, \"f(x)\": 104.0236643049456}, {\"x\": 9.21921921921922, \"f(x)\": 104.43244145045948}, {\"x\": 9.23923923923924, \"f(x)\": 104.84202019837656}, {\"x\": 9.25925925925926, \"f(x)\": 105.25240054869685}, {\"x\": 9.27927927927928, \"f(x)\": 105.66358250142035}, {\"x\": 9.2992992992993, \"f(x)\": 106.07556605654705}, {\"x\": 9.31931931931932, \"f(x)\": 106.48835121407694}, {\"x\": 9.33933933933934, \"f(x)\": 106.90193797401005}, {\"x\": 9.35935935935936, \"f(x)\": 107.31632633634636}, {\"x\": 9.37937937937938, \"f(x)\": 107.73151630108588}, {\"x\": 9.3993993993994, \"f(x)\": 108.14750786822859}, {\"x\": 9.41941941941942, \"f(x)\": 108.56430103777451}, {\"x\": 9.43943943943944, \"f(x)\": 108.98189580972364}, {\"x\": 9.45945945945946, \"f(x)\": 109.40029218407597}, {\"x\": 9.47947947947948, \"f(x)\": 109.8194901608315}, {\"x\": 9.4994994994995, \"f(x)\": 110.23948973999025}, {\"x\": 9.51951951951952, \"f(x)\": 110.66029092155219}, {\"x\": 9.53953953953954, \"f(x)\": 111.08189370551733}, {\"x\": 9.55955955955956, \"f(x)\": 111.50429809188569}, {\"x\": 9.57957957957958, \"f(x)\": 111.92750408065724}, {\"x\": 9.5995995995996, \"f(x)\": 112.351511671832}, {\"x\": 9.61961961961962, \"f(x)\": 112.77632086540996}, {\"x\": 9.63963963963964, \"f(x)\": 113.20193166139113}, {\"x\": 9.65965965965966, \"f(x)\": 113.6283440597755}, {\"x\": 9.67967967967968, \"f(x)\": 114.05555806056307}, {\"x\": 9.6996996996997, \"f(x)\": 114.48357366375384}, {\"x\": 9.71971971971972, \"f(x)\": 114.91239086934783}, {\"x\": 9.73973973973974, \"f(x)\": 115.34200967734502}, {\"x\": 9.75975975975976, \"f(x)\": 115.7724300877454}, {\"x\": 9.77977977977978, \"f(x)\": 116.203652100549}, {\"x\": 9.7997997997998, \"f(x)\": 116.6356757157558}, {\"x\": 9.81981981981982, \"f(x)\": 117.0685009333658}, {\"x\": 9.83983983983984, \"f(x)\": 117.502127753379}, {\"x\": 9.85985985985986, \"f(x)\": 117.93655617579542}, {\"x\": 9.87987987987988, \"f(x)\": 118.37178620061503}, {\"x\": 9.8998998998999, \"f(x)\": 118.80781782783785}, {\"x\": 9.91991991991992, \"f(x)\": 119.24465105746387}, {\"x\": 9.93993993993994, \"f(x)\": 119.6822858894931}, {\"x\": 9.95995995995996, \"f(x)\": 120.12072232392553}, {\"x\": 9.97997997997998, \"f(x)\": 120.55996036076117}, {\"x\": 10.0, \"f(x)\": 121.0}], \"data-f34542c446ee9b561dd1e31bb17d45ad\": [{\"x\": -0.9999999999999998, \"f(x)\": 4.930380657631324e-32}]}}, {\"mode\": \"vega-lite\"});\n",
       "</script>"
      ],
      "text/plain": [
       "alt.LayerChart(...)"
      ]
     },
     "execution_count": 17,
     "metadata": {},
     "output_type": "execute_result"
    }
   ],
   "source": [
    "x = np.linspace(-10, 10, num=1000)\n",
    "xstar = find_minimum_1(f, fprime)\n",
    "\n",
    "print('  xstar  = %f, f(xstar) = %f' % (xstar, f(xstar)))\n",
    "\n",
    "obj = pd.DataFrame({'x':x, 'f(x)':f(x)})\n",
    "sol = pd.DataFrame({'x':[xstar], 'f(x)':[f(xstar)]})\n",
    "\n",
    "base = alt.Chart().encode(x='x:Q', y='f(x):Q')\n",
    "f_obj = base.properties(data=obj).mark_line()\n",
    "f_sol = base.properties(data=sol).mark_point(color='red', filled=True, size=50)\n",
    "\n",
    "f_obj + f_sol"
   ]
  },
  {
   "cell_type": "markdown",
   "metadata": {
    "slideshow": {
     "slide_type": "subslide"
    }
   },
   "source": [
    "### Exercise: Find the minimum of $g(x)$\n",
    "\n",
    "$g(x) = (x-3.2)^2 - x + 2.3$ and $x\\in\\mathbb{R}$"
   ]
  },
  {
   "cell_type": "code",
   "execution_count": 18,
   "metadata": {
    "slideshow": {
     "slide_type": "-"
    }
   },
   "outputs": [
    {
     "name": "stdout",
     "output_type": "stream",
     "text": [
      "  xstar  = 3.700000, g(xstar) = -1.150000\n"
     ]
    },
    {
     "data": {
      "text/html": [
       "\n",
       "<div id=\"altair-viz-47056fbaaa194ad0b355930b587ca7a9\"></div>\n",
       "<script type=\"text/javascript\">\n",
       "  (function(spec, embedOpt){\n",
       "    let outputDiv = document.currentScript.previousElementSibling;\n",
       "    if (outputDiv.id !== \"altair-viz-47056fbaaa194ad0b355930b587ca7a9\") {\n",
       "      outputDiv = document.getElementById(\"altair-viz-47056fbaaa194ad0b355930b587ca7a9\");\n",
       "    }\n",
       "    const paths = {\n",
       "      \"vega\": \"https://cdn.jsdelivr.net/npm//vega@5?noext\",\n",
       "      \"vega-lib\": \"https://cdn.jsdelivr.net/npm//vega-lib?noext\",\n",
       "      \"vega-lite\": \"https://cdn.jsdelivr.net/npm//vega-lite@4.8.1?noext\",\n",
       "      \"vega-embed\": \"https://cdn.jsdelivr.net/npm//vega-embed@6?noext\",\n",
       "    };\n",
       "\n",
       "    function loadScript(lib) {\n",
       "      return new Promise(function(resolve, reject) {\n",
       "        var s = document.createElement('script');\n",
       "        s.src = paths[lib];\n",
       "        s.async = true;\n",
       "        s.onload = () => resolve(paths[lib]);\n",
       "        s.onerror = () => reject(`Error loading script: ${paths[lib]}`);\n",
       "        document.getElementsByTagName(\"head\")[0].appendChild(s);\n",
       "      });\n",
       "    }\n",
       "\n",
       "    function showError(err) {\n",
       "      outputDiv.innerHTML = `<div class=\"error\" style=\"color:red;\">${err}</div>`;\n",
       "      throw err;\n",
       "    }\n",
       "\n",
       "    function displayChart(vegaEmbed) {\n",
       "      vegaEmbed(outputDiv, spec, embedOpt)\n",
       "        .catch(err => showError(`Javascript Error: ${err.message}<br>This usually means there's a typo in your chart specification. See the javascript console for the full traceback.`));\n",
       "    }\n",
       "\n",
       "    if(typeof define === \"function\" && define.amd) {\n",
       "      requirejs.config({paths});\n",
       "      require([\"vega-embed\"], displayChart, err => showError(`Error loading script: ${err.message}`));\n",
       "    } else if (typeof vegaEmbed === \"function\") {\n",
       "      displayChart(vegaEmbed);\n",
       "    } else {\n",
       "      loadScript(\"vega\")\n",
       "        .then(() => loadScript(\"vega-lite\"))\n",
       "        .then(() => loadScript(\"vega-embed\"))\n",
       "        .catch(showError)\n",
       "        .then(() => displayChart(vegaEmbed));\n",
       "    }\n",
       "  })({\"config\": {\"view\": {\"continuousWidth\": 400, \"continuousHeight\": 300}}, \"layer\": [{\"data\": {\"name\": \"data-e13746f737e39f42e9ac4c2c518f2ec1\"}, \"mark\": \"line\", \"encoding\": {\"x\": {\"type\": \"quantitative\", \"field\": \"x\"}, \"y\": {\"type\": \"quantitative\", \"field\": \"g(x)\"}}}, {\"data\": {\"name\": \"data-593e1231b7a5cde415fa5bcbc7f30224\"}, \"mark\": {\"type\": \"point\", \"color\": \"red\", \"filled\": true, \"size\": 50}, \"encoding\": {\"x\": {\"type\": \"quantitative\", \"field\": \"x\"}, \"y\": {\"type\": \"quantitative\", \"field\": \"g(x)\"}}}], \"$schema\": \"https://vega.github.io/schema/vega-lite/v4.8.1.json\", \"datasets\": {\"data-e13746f737e39f42e9ac4c2c518f2ec1\": [{\"x\": -3.0, \"g(x)\": 43.74}, {\"x\": -2.988988988988989, \"g(x)\": 43.592573694815925}, {\"x\": -2.977977977977978, \"g(x)\": 43.44538987435884}, {\"x\": -2.966966966966967, \"g(x)\": 43.29844853862872}, {\"x\": -2.955955955955956, \"g(x)\": 43.15174968762557}, {\"x\": -2.944944944944945, \"g(x)\": 43.00529332134938}, {\"x\": -2.933933933933934, \"g(x)\": 42.859079439800155}, {\"x\": -2.9229229229229228, \"g(x)\": 42.71310804297791}, {\"x\": -2.911911911911912, \"g(x)\": 42.56737913088264}, {\"x\": -2.900900900900901, \"g(x)\": 42.42189270351433}, {\"x\": -2.88988988988989, \"g(x)\": 42.27664876087299}, {\"x\": -2.878878878878879, \"g(x)\": 42.131647302958605}, {\"x\": -2.8678678678678677, \"g(x)\": 41.986888329771205}, {\"x\": -2.856856856856857, \"g(x)\": 41.842371841310786}, {\"x\": -2.845845845845846, \"g(x)\": 41.69809783757732}, {\"x\": -2.834834834834835, \"g(x)\": 41.554066318570825}, {\"x\": -2.823823823823824, \"g(x)\": 41.41027728429129}, {\"x\": -2.8128128128128127, \"g(x)\": 41.26673073473874}, {\"x\": -2.8018018018018016, \"g(x)\": 41.12342666991316}, {\"x\": -2.790790790790791, \"g(x)\": 40.98036508981455}, {\"x\": -2.77977977977978, \"g(x)\": 40.83754599444289}, {\"x\": -2.7687687687687688, \"g(x)\": 40.6949693837982}, {\"x\": -2.7577577577577577, \"g(x)\": 40.5526352578805}, {\"x\": -2.7467467467467466, \"g(x)\": 40.410543616689765}, {\"x\": -2.735735735735736, \"g(x)\": 40.268694460226}, {\"x\": -2.724724724724725, \"g(x)\": 40.12708778848919}, {\"x\": -2.7137137137137137, \"g(x)\": 39.98572360147936}, {\"x\": -2.7027027027027026, \"g(x)\": 39.84460189919649}, {\"x\": -2.6916916916916915, \"g(x)\": 39.703722681640606}, {\"x\": -2.6806806806806804, \"g(x)\": 39.56308594881167}, {\"x\": -2.66966966966967, \"g(x)\": 39.42269170070972}, {\"x\": -2.6586586586586587, \"g(x)\": 39.282539937334725}, {\"x\": -2.6476476476476476, \"g(x)\": 39.14263065868671}, {\"x\": -2.6366366366366365, \"g(x)\": 39.00296386476567}, {\"x\": -2.6256256256256254, \"g(x)\": 38.863539555571585}, {\"x\": -2.6146146146146148, \"g(x)\": 38.72435773110448}, {\"x\": -2.6036036036036037, \"g(x)\": 38.58541839136433}, {\"x\": -2.5925925925925926, \"g(x)\": 38.44672153635117}, {\"x\": -2.5815815815815815, \"g(x)\": 38.308267166064965}, {\"x\": -2.5705705705705704, \"g(x)\": 38.17005528050572}, {\"x\": -2.5595595595595597, \"g(x)\": 38.03208587967347}, {\"x\": -2.5485485485485486, \"g(x)\": 37.894358963568166}, {\"x\": -2.5375375375375375, \"g(x)\": 37.75687453218985}, {\"x\": -2.5265265265265264, \"g(x)\": 37.61963258553849}, {\"x\": -2.5155155155155153, \"g(x)\": 37.4826331236141}, {\"x\": -2.5045045045045047, \"g(x)\": 37.345876146416686}, {\"x\": -2.4934934934934936, \"g(x)\": 37.20936165394624}, {\"x\": -2.4824824824824825, \"g(x)\": 37.07308964620276}, {\"x\": -2.4714714714714714, \"g(x)\": 36.93706012318626}, {\"x\": -2.4604604604604603, \"g(x)\": 36.80127308489671}, {\"x\": -2.4494494494494496, \"g(x)\": 36.66572853133414}, {\"x\": -2.4384384384384385, \"g(x)\": 36.53042646249853}, {\"x\": -2.4274274274274275, \"g(x)\": 36.3953668783899}, {\"x\": -2.4164164164164164, \"g(x)\": 36.260549779008244}, {\"x\": -2.4054054054054053, \"g(x)\": 36.12597516435354}, {\"x\": -2.3943943943943946, \"g(x)\": 35.99164303442582}, {\"x\": -2.3833833833833835, \"g(x)\": 35.85755338922506}, {\"x\": -2.3723723723723724, \"g(x)\": 35.723706228751276}, {\"x\": -2.3613613613613613, \"g(x)\": 35.59010155300446}, {\"x\": -2.3503503503503502, \"g(x)\": 35.4567393619846}, {\"x\": -2.3393393393393396, \"g(x)\": 35.32361965569173}, {\"x\": -2.3283283283283285, \"g(x)\": 35.19074243412581}, {\"x\": -2.3173173173173174, \"g(x)\": 35.05810769728688}, {\"x\": -2.3063063063063063, \"g(x)\": 34.92571544517491}, {\"x\": -2.295295295295295, \"g(x)\": 34.7935656777899}, {\"x\": -2.2842842842842845, \"g(x)\": 34.66165839513187}, {\"x\": -2.2732732732732734, \"g(x)\": 34.5299935972008}, {\"x\": -2.2622622622622623, \"g(x)\": 34.39857128399671}, {\"x\": -2.2512512512512513, \"g(x)\": 34.267391455519586}, {\"x\": -2.24024024024024, \"g(x)\": 34.136454111769424}, {\"x\": -2.2292292292292295, \"g(x)\": 34.005759252746245}, {\"x\": -2.218218218218218, \"g(x)\": 33.87530687845002}, {\"x\": -2.2072072072072073, \"g(x)\": 33.745096988880775}, {\"x\": -2.196196196196196, \"g(x)\": 33.6151295840385}, {\"x\": -2.185185185185185, \"g(x)\": 33.485404663923184}, {\"x\": -2.174174174174174, \"g(x)\": 33.35592222853484}, {\"x\": -2.163163163163163, \"g(x)\": 33.226682277873465}, {\"x\": -2.1521521521521523, \"g(x)\": 33.09768481193907}, {\"x\": -2.141141141141141, \"g(x)\": 32.96892983073164}, {\"x\": -2.13013013013013, \"g(x)\": 32.84041733425117}, {\"x\": -2.119119119119119, \"g(x)\": 32.71214732249767}, {\"x\": -2.108108108108108, \"g(x)\": 32.584119795471146}, {\"x\": -2.0970970970970972, \"g(x)\": 32.456334753171596}, {\"x\": -2.086086086086086, \"g(x)\": 32.32879219559901}, {\"x\": -2.075075075075075, \"g(x)\": 32.201492122753386}, {\"x\": -2.064064064064064, \"g(x)\": 32.074434534634726}, {\"x\": -2.053053053053053, \"g(x)\": 31.947619431243055}, {\"x\": -2.042042042042042, \"g(x)\": 31.82104681257835}, {\"x\": -2.031031031031031, \"g(x)\": 31.69471667864061}, {\"x\": -2.02002002002002, \"g(x)\": 31.568629029429832}, {\"x\": -2.009009009009009, \"g(x)\": 31.442783864946023}, {\"x\": -1.997997997997998, \"g(x)\": 31.317181185189195}, {\"x\": -1.986986986986987, \"g(x)\": 31.191820990159336}, {\"x\": -1.975975975975976, \"g(x)\": 31.066703279856444}, {\"x\": -1.964964964964965, \"g(x)\": 30.94182805428051}, {\"x\": -1.9539539539539539, \"g(x)\": 30.817195313431544}, {\"x\": -1.942942942942943, \"g(x)\": 30.692805057309563}, {\"x\": -1.931931931931932, \"g(x)\": 30.568657285914547}, {\"x\": -1.920920920920921, \"g(x)\": 30.444751999246503}, {\"x\": -1.90990990990991, \"g(x)\": 30.321089197305415}, {\"x\": -1.8988988988988988, \"g(x)\": 30.1976688800913}, {\"x\": -1.887887887887888, \"g(x)\": 30.074491047604162}, {\"x\": -1.8768768768768769, \"g(x)\": 29.951555699843993}, {\"x\": -1.8658658658658658, \"g(x)\": 29.828862836810785}, {\"x\": -1.854854854854855, \"g(x)\": 29.706412458504555}, {\"x\": -1.8438438438438438, \"g(x)\": 29.584204564925283}, {\"x\": -1.832832832832833, \"g(x)\": 29.46223915607299}, {\"x\": -1.8218218218218218, \"g(x)\": 29.340516231947667}, {\"x\": -1.8108108108108107, \"g(x)\": 29.219035792549306}, {\"x\": -1.7997997997997999, \"g(x)\": 29.09779783787792}, {\"x\": -1.7887887887887888, \"g(x)\": 28.976802367933498}, {\"x\": -1.7777777777777777, \"g(x)\": 28.85604938271605}, {\"x\": -1.7667667667667668, \"g(x)\": 28.735538882225576}, {\"x\": -1.7557557557557557, \"g(x)\": 28.61527086646206}, {\"x\": -1.7447447447447448, \"g(x)\": 28.49524533542552}, {\"x\": -1.7337337337337337, \"g(x)\": 28.37546228911594}, {\"x\": -1.7227227227227226, \"g(x)\": 28.25592172753334}, {\"x\": -1.7117117117117118, \"g(x)\": 28.13662365067771}, {\"x\": -1.7007007007007007, \"g(x)\": 28.01756805854904}, {\"x\": -1.6896896896896898, \"g(x)\": 27.898754951147346}, {\"x\": -1.6786786786786787, \"g(x)\": 27.780184328472615}, {\"x\": -1.6676676676676676, \"g(x)\": 27.661856190524862}, {\"x\": -1.6566566566566567, \"g(x)\": 27.543770537304077}, {\"x\": -1.6456456456456456, \"g(x)\": 27.425927368810253}, {\"x\": -1.6346346346346345, \"g(x)\": 27.308326685043404}, {\"x\": -1.6236236236236237, \"g(x)\": 27.19096848600352}, {\"x\": -1.6126126126126126, \"g(x)\": 27.07385277169061}, {\"x\": -1.6016016016016017, \"g(x)\": 26.956979542104673}, {\"x\": -1.5905905905905906, \"g(x)\": 26.840348797245696}, {\"x\": -1.5795795795795795, \"g(x)\": 26.723960537113694}, {\"x\": -1.5685685685685686, \"g(x)\": 26.607814761708656}, {\"x\": -1.5575575575575575, \"g(x)\": 26.491911471030594}, {\"x\": -1.5465465465465467, \"g(x)\": 26.3762506650795}, {\"x\": -1.5355355355355356, \"g(x)\": 26.26083234385537}, {\"x\": -1.5245245245245245, \"g(x)\": 26.14565650735821}, {\"x\": -1.5135135135135136, \"g(x)\": 26.030723155588017}, {\"x\": -1.5025025025025025, \"g(x)\": 25.916032288544802}, {\"x\": -1.4914914914914914, \"g(x)\": 25.801583906228554}, {\"x\": -1.4804804804804805, \"g(x)\": 25.68737800863927}, {\"x\": -1.4694694694694694, \"g(x)\": 25.573414595776963}, {\"x\": -1.4584584584584586, \"g(x)\": 25.459693667641616}, {\"x\": -1.4474474474474475, \"g(x)\": 25.346215224233244}, {\"x\": -1.4364364364364364, \"g(x)\": 25.232979265551844}, {\"x\": -1.4254254254254255, \"g(x)\": 25.119985791597404}, {\"x\": -1.4144144144144144, \"g(x)\": 25.00723480236994}, {\"x\": -1.4034034034034035, \"g(x)\": 24.89472629786944}, {\"x\": -1.3923923923923924, \"g(x)\": 24.782460278095915}, {\"x\": -1.3813813813813813, \"g(x)\": 24.67043674304936}, {\"x\": -1.3703703703703705, \"g(x)\": 24.55865569272977}, {\"x\": -1.3593593593593594, \"g(x)\": 24.44711712713715}, {\"x\": -1.3483483483483483, \"g(x)\": 24.335821046271498}, {\"x\": -1.3373373373373374, \"g(x)\": 24.22476745013282}, {\"x\": -1.3263263263263263, \"g(x)\": 24.11395633872111}, {\"x\": -1.3153153153153154, \"g(x)\": 24.003387712036364}, {\"x\": -1.3043043043043043, \"g(x)\": 23.89306157007859}, {\"x\": -1.2932932932932932, \"g(x)\": 23.78297791284778}, {\"x\": -1.2822822822822824, \"g(x)\": 23.67313674034395}, {\"x\": -1.2712712712712713, \"g(x)\": 23.563538052567086}, {\"x\": -1.2602602602602602, \"g(x)\": 23.454181849517187}, {\"x\": -1.2492492492492493, \"g(x)\": 23.345068131194264}, {\"x\": -1.2382382382382382, \"g(x)\": 23.2361968975983}, {\"x\": -1.2272272272272273, \"g(x)\": 23.127568148729313}, {\"x\": -1.2162162162162162, \"g(x)\": 23.019181884587297}, {\"x\": -1.2052052052052051, \"g(x)\": 22.911038105172242}, {\"x\": -1.1941941941941943, \"g(x)\": 22.803136810484162}, {\"x\": -1.1831831831831832, \"g(x)\": 22.695478000523046}, {\"x\": -1.1721721721721723, \"g(x)\": 22.588061675288905}, {\"x\": -1.1611611611611612, \"g(x)\": 22.480887834781736}, {\"x\": -1.15015015015015, \"g(x)\": 22.373956479001524}, {\"x\": -1.1391391391391392, \"g(x)\": 22.267267607948295}, {\"x\": -1.1281281281281281, \"g(x)\": 22.160821221622022}, {\"x\": -1.117117117117117, \"g(x)\": 22.05461732002273}, {\"x\": -1.1061061061061062, \"g(x)\": 21.948655903150406}, {\"x\": -1.095095095095095, \"g(x)\": 21.84293697100504}, {\"x\": -1.0840840840840842, \"g(x)\": 21.737460523586652}, {\"x\": -1.073073073073073, \"g(x)\": 21.63222656089523}, {\"x\": -1.062062062062062, \"g(x)\": 21.52723508293078}, {\"x\": -1.0510510510510511, \"g(x)\": 21.422486089693304}, {\"x\": -1.04004004004004, \"g(x)\": 21.317979581182787}, {\"x\": -1.0290290290290292, \"g(x)\": 21.213715557399247}, {\"x\": -1.018018018018018, \"g(x)\": 21.10969401834267}, {\"x\": -1.007007007007007, \"g(x)\": 21.005914964013066}, {\"x\": -0.9959959959959961, \"g(x)\": 20.902378394410434}, {\"x\": -0.984984984984985, \"g(x)\": 20.79908430953476}, {\"x\": -0.9739739739739739, \"g(x)\": 20.69603270938606}, {\"x\": -0.9629629629629628, \"g(x)\": 20.593223593964336}, {\"x\": -0.9519519519519521, \"g(x)\": 20.49065696326958}, {\"x\": -0.940940940940941, \"g(x)\": 20.388332817301794}, {\"x\": -0.92992992992993, \"g(x)\": 20.286251156060967}, {\"x\": -0.9189189189189189, \"g(x)\": 20.184411979547114}, {\"x\": -0.9079079079079078, \"g(x)\": 20.082815287760234}, {\"x\": -0.8968968968968971, \"g(x)\": 19.981461080700324}, {\"x\": -0.885885885885886, \"g(x)\": 19.880349358367386}, {\"x\": -0.8748748748748749, \"g(x)\": 19.779480120761402}, {\"x\": -0.8638638638638638, \"g(x)\": 19.678853367882393}, {\"x\": -0.8528528528528527, \"g(x)\": 19.578469099730363}, {\"x\": -0.8418418418418421, \"g(x)\": 19.478327316305297}, {\"x\": -0.830830830830831, \"g(x)\": 19.378428017607202}, {\"x\": -0.8198198198198199, \"g(x)\": 19.278771203636072}, {\"x\": -0.8088088088088088, \"g(x)\": 19.179356874391907}, {\"x\": -0.7977977977977977, \"g(x)\": 19.08018502987472}, {\"x\": -0.7867867867867866, \"g(x)\": 18.9812556700845}, {\"x\": -0.7757757757757759, \"g(x)\": 18.882568795021253}, {\"x\": -0.7647647647647648, \"g(x)\": 18.78412440468497}, {\"x\": -0.7537537537537538, \"g(x)\": 18.685922499075655}, {\"x\": -0.7427427427427427, \"g(x)\": 18.587963078193308}, {\"x\": -0.7317317317317316, \"g(x)\": 18.490246142037936}, {\"x\": -0.7207207207207209, \"g(x)\": 18.392771690609532}, {\"x\": -0.7097097097097098, \"g(x)\": 18.295539723908096}, {\"x\": -0.6986986986986987, \"g(x)\": 18.198550241933628}, {\"x\": -0.6876876876876876, \"g(x)\": 18.101803244686128}, {\"x\": -0.6766766766766765, \"g(x)\": 18.0052987321656}, {\"x\": -0.6656656656656659, \"g(x)\": 17.909036704372042}, {\"x\": -0.6546546546546548, \"g(x)\": 17.813017161305453}, {\"x\": -0.6436436436436437, \"g(x)\": 17.71724010296583}, {\"x\": -0.6326326326326326, \"g(x)\": 17.62170552935318}, {\"x\": -0.6216216216216215, \"g(x)\": 17.526413440467493}, {\"x\": -0.6106106106106108, \"g(x)\": 17.431363836308783}, {\"x\": -0.5995995995995997, \"g(x)\": 17.33655671687704}, {\"x\": -0.5885885885885886, \"g(x)\": 17.241992082172263}, {\"x\": -0.5775775775775776, \"g(x)\": 17.147669932194457}, {\"x\": -0.5665665665665665, \"g(x)\": 17.05359026694362}, {\"x\": -0.5555555555555554, \"g(x)\": 16.959753086419752}, {\"x\": -0.5445445445445447, \"g(x)\": 16.866158390622857}, {\"x\": -0.5335335335335336, \"g(x)\": 16.77280617955293}, {\"x\": -0.5225225225225225, \"g(x)\": 16.679696453209967}, {\"x\": -0.5115115115115114, \"g(x)\": 16.586829211593976}, {\"x\": -0.5005005005005003, \"g(x)\": 16.494204454704956}, {\"x\": -0.48948948948948967, \"g(x)\": 16.401822182542904}, {\"x\": -0.4784784784784786, \"g(x)\": 16.309682395107824}, {\"x\": -0.4674674674674675, \"g(x)\": 16.21778509239971}, {\"x\": -0.4564564564564564, \"g(x)\": 16.126130274418564}, {\"x\": -0.4454454454454453, \"g(x)\": 16.034717941164388}, {\"x\": -0.43443443443443464, \"g(x)\": 15.943548092637183}, {\"x\": -0.42342342342342354, \"g(x)\": 15.852620728836946}, {\"x\": -0.41241241241241244, \"g(x)\": 15.761935849763681}, {\"x\": -0.40140140140140135, \"g(x)\": 15.67149345541738}, {\"x\": -0.39039039039039025, \"g(x)\": 15.58129354579805}, {\"x\": -0.3793793793793796, \"g(x)\": 15.491336120905693}, {\"x\": -0.3683683683683685, \"g(x)\": 15.401621180740303}, {\"x\": -0.3573573573573574, \"g(x)\": 15.312148725301881}, {\"x\": -0.3463463463463463, \"g(x)\": 15.222918754590427}, {\"x\": -0.3353353353353352, \"g(x)\": 15.133931268605945}, {\"x\": -0.32432432432432456, \"g(x)\": 15.045186267348434}, {\"x\": -0.31331331331331347, \"g(x)\": 14.956683750817888}, {\"x\": -0.3023023023023024, \"g(x)\": 14.868423719014313}, {\"x\": -0.2912912912912913, \"g(x)\": 14.780406171937702}, {\"x\": -0.2802802802802802, \"g(x)\": 14.692631109588067}, {\"x\": -0.2692692692692691, \"g(x)\": 14.6050985319654}, {\"x\": -0.25825825825825843, \"g(x)\": 14.517808439069704}, {\"x\": -0.24724724724724734, \"g(x)\": 14.430760830900972}, {\"x\": -0.23623623623623624, \"g(x)\": 14.343955707459212}, {\"x\": -0.22522522522522515, \"g(x)\": 14.25739306874442}, {\"x\": -0.21421421421421405, \"g(x)\": 14.1710729147566}, {\"x\": -0.2032032032032034, \"g(x)\": 14.084995245495747}, {\"x\": -0.1921921921921923, \"g(x)\": 13.999160060961866}, {\"x\": -0.1811811811811812, \"g(x)\": 13.91356736115495}, {\"x\": -0.1701701701701701, \"g(x)\": 13.828217146075005}, {\"x\": -0.159159159159159, \"g(x)\": 13.743109415722028}, {\"x\": -0.14814814814814836, \"g(x)\": 13.658244170096026}, {\"x\": -0.13713713713713727, \"g(x)\": 13.573621409196988}, {\"x\": -0.12612612612612617, \"g(x)\": 13.489241133024919}, {\"x\": -0.11511511511511507, \"g(x)\": 13.405103341579817}, {\"x\": -0.10410410410410398, \"g(x)\": 13.321208034861687}, {\"x\": -0.09309309309309333, \"g(x)\": 13.237555212870532}, {\"x\": -0.08208208208208223, \"g(x)\": 13.154144875606342}, {\"x\": -0.07107107107107113, \"g(x)\": 13.070977023069116}, {\"x\": -0.06006006006006004, \"g(x)\": 12.988051655258865}, {\"x\": -0.04904904904904894, \"g(x)\": 12.905368772175578}, {\"x\": -0.03803803803803785, \"g(x)\": 12.822928373819266}, {\"x\": -0.027027027027027195, \"g(x)\": 12.740730460189923}, {\"x\": -0.0160160160160161, \"g(x)\": 12.658775031287544}, {\"x\": -0.005005005005005003, \"g(x)\": 12.57706208711214}, {\"x\": 0.006006006006006093, \"g(x)\": 12.4955916276637}, {\"x\": 0.01701701701701719, \"g(x)\": 12.414363652942232}, {\"x\": 0.02802802802802784, \"g(x)\": 12.333378162947735}, {\"x\": 0.039039039039038936, \"g(x)\": 12.252635157680203}, {\"x\": 0.05005005005005003, \"g(x)\": 12.172134637139642}, {\"x\": 0.06106106106106113, \"g(x)\": 12.091876601326053}, {\"x\": 0.07207207207207222, \"g(x)\": 12.011861050239428}, {\"x\": 0.08308308308308288, \"g(x)\": 11.932087983879779}, {\"x\": 0.09409409409409397, \"g(x)\": 11.852557402247093}, {\"x\": 0.10510510510510507, \"g(x)\": 11.77326930534138}, {\"x\": 0.11611611611611616, \"g(x)\": 11.694223693162634}, {\"x\": 0.12712712712712726, \"g(x)\": 11.615420565710856}, {\"x\": 0.1381381381381379, \"g(x)\": 11.536859922986054}, {\"x\": 0.149149149149149, \"g(x)\": 11.458541764988212}, {\"x\": 0.1601601601601601, \"g(x)\": 11.380466091717345}, {\"x\": 0.1711711711711712, \"g(x)\": 11.302632903173446}, {\"x\": 0.1821821821821823, \"g(x)\": 11.225042199356515}, {\"x\": 0.19319319319319295, \"g(x)\": 11.147693980266556}, {\"x\": 0.20420420420420404, \"g(x)\": 11.070588245903561}, {\"x\": 0.21521521521521514, \"g(x)\": 10.993724996267542}, {\"x\": 0.22622622622622623, \"g(x)\": 10.917104231358486}, {\"x\": 0.23723723723723733, \"g(x)\": 10.840725951176402}, {\"x\": 0.24824824824824843, \"g(x)\": 10.764590155721287}, {\"x\": 0.2592592592592591, \"g(x)\": 10.688696844993142}, {\"x\": 0.2702702702702702, \"g(x)\": 10.613046018991966}, {\"x\": 0.28128128128128127, \"g(x)\": 10.537637677717758}, {\"x\": 0.29229229229229237, \"g(x)\": 10.46247182117052}, {\"x\": 0.30330330330330346, \"g(x)\": 10.387548449350252}, {\"x\": 0.3143143143143141, \"g(x)\": 10.312867562256955}, {\"x\": 0.3253253253253252, \"g(x)\": 10.238429159890622}, {\"x\": 0.3363363363363363, \"g(x)\": 10.16423324225126}, {\"x\": 0.3473473473473474, \"g(x)\": 10.090279809338869}, {\"x\": 0.3583583583583585, \"g(x)\": 10.016568861153445}, {\"x\": 0.36936936936936915, \"g(x)\": 9.943100397694995}, {\"x\": 0.38038038038038025, \"g(x)\": 9.869874418963509}, {\"x\": 0.39139139139139134, \"g(x)\": 9.796890924958994}, {\"x\": 0.40240240240240244, \"g(x)\": 9.724149915681448}, {\"x\": 0.41341341341341353, \"g(x)\": 9.65165139113087}, {\"x\": 0.4244244244244242, \"g(x)\": 9.579395351307266}, {\"x\": 0.4354354354354353, \"g(x)\": 9.507381796210627}, {\"x\": 0.4464464464464464, \"g(x)\": 9.435610725840956}, {\"x\": 0.4574574574574575, \"g(x)\": 9.364082140198256}, {\"x\": 0.46846846846846857, \"g(x)\": 9.292796039282525}, {\"x\": 0.47947947947947966, \"g(x)\": 9.221752423093765}, {\"x\": 0.4904904904904903, \"g(x)\": 9.150951291631975}, {\"x\": 0.5015015015015014, \"g(x)\": 9.080392644897152}, {\"x\": 0.5125125125125125, \"g(x)\": 9.010076482889296}, {\"x\": 0.5235235235235236, \"g(x)\": 8.940002805608412}, {\"x\": 0.5345345345345347, \"g(x)\": 8.870171613054495}, {\"x\": 0.5455455455455454, \"g(x)\": 8.800582905227552}, {\"x\": 0.5565565565565564, \"g(x)\": 8.731236682127573}, {\"x\": 0.5675675675675675, \"g(x)\": 8.662132943754568}, {\"x\": 0.5785785785785786, \"g(x)\": 8.593271690108526}, {\"x\": 0.5895895895895897, \"g(x)\": 8.524652921189457}, {\"x\": 0.6006006006006004, \"g(x)\": 8.456276636997359}, {\"x\": 0.6116116116116115, \"g(x)\": 8.388142837532229}, {\"x\": 0.6226226226226226, \"g(x)\": 8.320251522794067}, {\"x\": 0.6336336336336337, \"g(x)\": 8.252602692782872}, {\"x\": 0.6446446446446448, \"g(x)\": 8.18519634749865}, {\"x\": 0.6556556556556554, \"g(x)\": 8.118032486941399}, {\"x\": 0.6666666666666665, \"g(x)\": 8.051111111111112}, {\"x\": 0.6776776776776776, \"g(x)\": 7.984432220007797}, {\"x\": 0.6886886886886887, \"g(x)\": 7.9179958136314506}, {\"x\": 0.6996996996996998, \"g(x)\": 7.851801891982072}, {\"x\": 0.7107107107107105, \"g(x)\": 7.785850455059666}, {\"x\": 0.7217217217217216, \"g(x)\": 7.7201415028642275}, {\"x\": 0.7327327327327327, \"g(x)\": 7.6546750353957576}, {\"x\": 0.7437437437437437, \"g(x)\": 7.589451052654257}, {\"x\": 0.7547547547547548, \"g(x)\": 7.524469554639725}, {\"x\": 0.7657657657657659, \"g(x)\": 7.459730541352163}, {\"x\": 0.7767767767767766, \"g(x)\": 7.395234012791572}, {\"x\": 0.7877877877877877, \"g(x)\": 7.330979968957948}, {\"x\": 0.7987987987987988, \"g(x)\": 7.266968409851294}, {\"x\": 0.8098098098098099, \"g(x)\": 7.203199335471608}, {\"x\": 0.820820820820821, \"g(x)\": 7.139672745818891}, {\"x\": 0.8318318318318316, \"g(x)\": 7.076388640893147}, {\"x\": 0.8428428428428427, \"g(x)\": 7.013347020694369}, {\"x\": 0.8538538538538538, \"g(x)\": 6.950547885222561}, {\"x\": 0.8648648648648649, \"g(x)\": 6.887991234477721}, {\"x\": 0.875875875875876, \"g(x)\": 6.825677068459851}, {\"x\": 0.8868868868868867, \"g(x)\": 6.763605387168952}, {\"x\": 0.8978978978978978, \"g(x)\": 6.701776190605021}, {\"x\": 0.9089089089089089, \"g(x)\": 6.640189478768058}, {\"x\": 0.91991991991992, \"g(x)\": 6.578845251658065}, {\"x\": 0.930930930930931, \"g(x)\": 6.51774350927504}, {\"x\": 0.9419419419419417, \"g(x)\": 6.456884251618988}, {\"x\": 0.9529529529529528, \"g(x)\": 6.396267478689903}, {\"x\": 0.9639639639639639, \"g(x)\": 6.335893190487787}, {\"x\": 0.974974974974975, \"g(x)\": 6.275761387012639}, {\"x\": 0.9859859859859861, \"g(x)\": 6.21587206826446}, {\"x\": 0.9969969969969972, \"g(x)\": 6.1562252342432515}, {\"x\": 1.0080080080080078, \"g(x)\": 6.096820884949015}, {\"x\": 1.0190190190190194, \"g(x)\": 6.037659020381742}, {\"x\": 1.03003003003003, \"g(x)\": 5.978739640541443}, {\"x\": 1.0410410410410407, \"g(x)\": 5.920062745428114}, {\"x\": 1.0520520520520522, \"g(x)\": 5.861628335041749}, {\"x\": 1.0630630630630629, \"g(x)\": 5.803436409382357}, {\"x\": 1.0740740740740744, \"g(x)\": 5.745486968449931}, {\"x\": 1.085085085085085, \"g(x)\": 5.6877800122444775}, {\"x\": 1.0960960960960957, \"g(x)\": 5.630315540765994}, {\"x\": 1.1071071071071072, \"g(x)\": 5.573093554014474}, {\"x\": 1.118118118118118, \"g(x)\": 5.51611405198993}, {\"x\": 1.1291291291291294, \"g(x)\": 5.459377034692349}, {\"x\": 1.14014014014014, \"g(x)\": 5.402882502121742}, {\"x\": 1.1511511511511507, \"g(x)\": 5.346630454278104}, {\"x\": 1.1621621621621623, \"g(x)\": 5.290620891161431}, {\"x\": 1.173173173173173, \"g(x)\": 5.234853812771733}, {\"x\": 1.1841841841841845, \"g(x)\": 5.179329219108998}, {\"x\": 1.1951951951951951, \"g(x)\": 5.124047110173237}, {\"x\": 1.2062062062062058, \"g(x)\": 5.069007485964446}, {\"x\": 1.2172172172172173, \"g(x)\": 5.014210346482619}, {\"x\": 1.228228228228228, \"g(x)\": 4.959655691727765}, {\"x\": 1.2392392392392395, \"g(x)\": 4.905343521699877}, {\"x\": 1.2502502502502502, \"g(x)\": 4.8512738363989625}, {\"x\": 1.2612612612612608, \"g(x)\": 4.7974466358250165}, {\"x\": 1.2722722722722724, \"g(x)\": 4.743861919978036}, {\"x\": 1.283283283283283, \"g(x)\": 4.6905196888580285}, {\"x\": 1.2942942942942945, \"g(x)\": 4.637419942464987}, {\"x\": 1.3053053053053052, \"g(x)\": 4.584562680798918}, {\"x\": 1.3163163163163158, \"g(x)\": 4.531947903859818}, {\"x\": 1.3273273273273274, \"g(x)\": 4.479575611647684}, {\"x\": 1.338338338338338, \"g(x)\": 4.427445804162523}, {\"x\": 1.3493493493493496, \"g(x)\": 4.375558481404326}, {\"x\": 1.3603603603603602, \"g(x)\": 4.323913643373103}, {\"x\": 1.3713713713713718, \"g(x)\": 4.272511290068847}, {\"x\": 1.3823823823823824, \"g(x)\": 4.221351421491562}, {\"x\": 1.393393393393393, \"g(x)\": 4.170434037641247}, {\"x\": 1.4044044044044046, \"g(x)\": 4.119759138517897}, {\"x\": 1.4154154154154153, \"g(x)\": 4.06932672412152}, {\"x\": 1.4264264264264268, \"g(x)\": 4.019136794452109}, {\"x\": 1.4374374374374375, \"g(x)\": 3.96918934950967}, {\"x\": 1.4484484484484481, \"g(x)\": 3.919484389294201}, {\"x\": 1.4594594594594597, \"g(x)\": 3.8700219138056973}, {\"x\": 1.4704704704704703, \"g(x)\": 3.8208019230441663}, {\"x\": 1.4814814814814818, \"g(x)\": 3.771824417009601}, {\"x\": 1.4924924924924925, \"g(x)\": 3.723089395702009}, {\"x\": 1.5035035035035031, \"g(x)\": 3.674596859121386}, {\"x\": 1.5145145145145147, \"g(x)\": 3.626346807267728}, {\"x\": 1.5255255255255253, \"g(x)\": 3.578339240141043}, {\"x\": 1.5365365365365369, \"g(x)\": 3.5305741577413237}, {\"x\": 1.5475475475475475, \"g(x)\": 3.4830515600685774}, {\"x\": 1.5585585585585582, \"g(x)\": 3.4357714471228005}, {\"x\": 1.5695695695695697, \"g(x)\": 3.388733818903989}, {\"x\": 1.5805805805805804, \"g(x)\": 3.34193867541215}, {\"x\": 1.591591591591592, \"g(x)\": 3.295386016647277}, {\"x\": 1.6026026026026026, \"g(x)\": 3.249075842609377}, {\"x\": 1.6136136136136132, \"g(x)\": 3.2030081532984456}, {\"x\": 1.6246246246246248, \"g(x)\": 3.15718294871448}, {\"x\": 1.6356356356356354, \"g(x)\": 3.1116002288574873}, {\"x\": 1.646646646646647, \"g(x)\": 3.0662599937274604}, {\"x\": 1.6576576576576576, \"g(x)\": 3.0211622433244063}, {\"x\": 1.6686686686686683, \"g(x)\": 2.976306977648321}, {\"x\": 1.6796796796796798, \"g(x)\": 2.9316941966992016}, {\"x\": 1.6906906906906904, \"g(x)\": 2.887323900477055}, {\"x\": 1.701701701701702, \"g(x)\": 2.843196088981874}, {\"x\": 1.7127127127127126, \"g(x)\": 2.7993107622136657}, {\"x\": 1.7237237237237233, \"g(x)\": 2.7556679201724266}, {\"x\": 1.7347347347347348, \"g(x)\": 2.7122675628581536}, {\"x\": 1.7457457457457455, \"g(x)\": 2.6691096902708527}, {\"x\": 1.756756756756757, \"g(x)\": 2.626194302410518}, {\"x\": 1.7677677677677677, \"g(x)\": 2.5835213992771555}, {\"x\": 1.7787787787787783, \"g(x)\": 2.541090980870763}, {\"x\": 1.7897897897897899, \"g(x)\": 2.4989030471913356}, {\"x\": 1.8008008008008005, \"g(x)\": 2.4569575982388807}, {\"x\": 1.811811811811812, \"g(x)\": 2.415254634013392}, {\"x\": 1.8228228228228227, \"g(x)\": 2.3737941545148757}, {\"x\": 1.8338338338338334, \"g(x)\": 2.332576159743329}, {\"x\": 1.844844844844845, \"g(x)\": 2.291600649698748}, {\"x\": 1.8558558558558556, \"g(x)\": 2.250867624381139}, {\"x\": 1.866866866866867, \"g(x)\": 2.2103770837904966}, {\"x\": 1.8778778778778777, \"g(x)\": 2.1701290279268264}, {\"x\": 1.8888888888888893, \"g(x)\": 2.1301234567901224}, {\"x\": 1.8998998998999, \"g(x)\": 2.090360370380391}, {\"x\": 1.9109109109109106, \"g(x)\": 2.050839768697628}, {\"x\": 1.9219219219219221, \"g(x)\": 2.0115616517418315}, {\"x\": 1.9329329329329328, \"g(x)\": 1.9725260195130072}, {\"x\": 1.9439439439439443, \"g(x)\": 1.9337328720111493}, {\"x\": 1.954954954954955, \"g(x)\": 1.8951822092362636}, {\"x\": 1.9659659659659656, \"g(x)\": 1.856874031188347}, {\"x\": 1.9769769769769772, \"g(x)\": 1.8188083378673965}, {\"x\": 1.9879879879879878, \"g(x)\": 1.7809851292734185}, {\"x\": 1.9989989989989994, \"g(x)\": 1.7434044054064064}, {\"x\": 2.01001001001001, \"g(x)\": 1.7060661662663668}, {\"x\": 2.0210210210210207, \"g(x)\": 1.6689704118532962}, {\"x\": 2.032032032032032, \"g(x)\": 1.6321171421671918}, {\"x\": 2.043043043043043, \"g(x)\": 1.5955063572080599}, {\"x\": 2.0540540540540544, \"g(x)\": 1.559138056975894}, {\"x\": 2.065065065065065, \"g(x)\": 1.5230122414707001}, {\"x\": 2.0760760760760757, \"g(x)\": 1.4871289106924757}, {\"x\": 2.0870870870870872, \"g(x)\": 1.4514880646412176}, {\"x\": 2.098098098098098, \"g(x)\": 1.4160897033169315}, {\"x\": 2.1091091091091094, \"g(x)\": 1.3809338267196116}, {\"x\": 2.12012012012012, \"g(x)\": 1.346020434849264}, {\"x\": 2.1311311311311307, \"g(x)\": 1.3113495277058855}, {\"x\": 2.1421421421421423, \"g(x)\": 1.2769211052894736}, {\"x\": 2.153153153153153, \"g(x)\": 1.2427351676000333}, {\"x\": 2.1641641641641645, \"g(x)\": 1.2087917146375597}, {\"x\": 2.175175175175175, \"g(x)\": 1.1750907464020581}, {\"x\": 2.1861861861861858, \"g(x)\": 1.1416322628935256}, {\"x\": 2.1971971971971973, \"g(x)\": 1.1084162641119597}, {\"x\": 2.208208208208208, \"g(x)\": 1.0754427500573656}, {\"x\": 2.2192192192192195, \"g(x)\": 1.042711720729738}, {\"x\": 2.23023023023023, \"g(x)\": 1.0102231761290823}, {\"x\": 2.241241241241241, \"g(x)\": 0.9779771162553961}, {\"x\": 2.2522522522522523, \"g(x)\": 0.945973541108676}, {\"x\": 2.263263263263263, \"g(x)\": 0.914212450688928}, {\"x\": 2.2742742742742745, \"g(x)\": 0.8826938449961466}, {\"x\": 2.285285285285285, \"g(x)\": 0.8514177240303371}, {\"x\": 2.296296296296296, \"g(x)\": 0.8203840877914965}, {\"x\": 2.3073073073073074, \"g(x)\": 0.789592936279623}, {\"x\": 2.318318318318318, \"g(x)\": 0.759044269494721}, {\"x\": 2.3293293293293296, \"g(x)\": 0.7287380874367857}, {\"x\": 2.34034034034034, \"g(x)\": 0.6986743901058219}, {\"x\": 2.351351351351351, \"g(x)\": 0.6688531775018276}, {\"x\": 2.3623623623623624, \"g(x)\": 0.6392744496248}, {\"x\": 2.373373373373373, \"g(x)\": 0.6099382064747441}, {\"x\": 2.3843843843843846, \"g(x)\": 0.5808444480516548}, {\"x\": 2.3953953953953953, \"g(x)\": 0.5519931743555371}, {\"x\": 2.406406406406407, \"g(x)\": 0.5233843853863864}, {\"x\": 2.4174174174174174, \"g(x)\": 0.4950180811442073}, {\"x\": 2.428428428428428, \"g(x)\": 0.4668942616289973}, {\"x\": 2.4394394394394396, \"g(x)\": 0.4390129268407543}, {\"x\": 2.4504504504504503, \"g(x)\": 0.4113740767794827}, {\"x\": 2.461461461461462, \"g(x)\": 0.3839777114451781}, {\"x\": 2.4724724724724725, \"g(x)\": 0.35682383083784486}, {\"x\": 2.483483483483483, \"g(x)\": 0.3299124349574809}, {\"x\": 2.4944944944944947, \"g(x)\": 0.30324352380408404}, {\"x\": 2.5055055055055053, \"g(x)\": 0.27681709737765825}, {\"x\": 2.516516516516517, \"g(x)\": 0.25063315567819977}, {\"x\": 2.5275275275275275, \"g(x)\": 0.22469169870571282}, {\"x\": 2.538538538538538, \"g(x)\": 0.19899272646019472}, {\"x\": 2.5495495495495497, \"g(x)\": 0.17353623894164416}, {\"x\": 2.5605605605605604, \"g(x)\": 0.14832223615006424}, {\"x\": 2.571571571571572, \"g(x)\": 0.12335071808545228}, {\"x\": 2.5825825825825826, \"g(x)\": 0.09862168474781097}, {\"x\": 2.593593593593593, \"g(x)\": 0.07413513613713896}, {\"x\": 2.6046046046046047, \"g(x)\": 0.049891072253434476}, {\"x\": 2.6156156156156154, \"g(x)\": 0.025889493096700633}, {\"x\": 2.626626626626627, \"g(x)\": 0.002130398666934319}, {\"x\": 2.6376376376376376, \"g(x)\": -0.02138621103586047}, {\"x\": 2.6486486486486482, \"g(x)\": -0.0446603360116864}, {\"x\": 2.65965965965966, \"g(x)\": -0.06769197626054524}, {\"x\": 2.6706706706706704, \"g(x)\": -0.09048113178243256}, {\"x\": 2.681681681681682, \"g(x)\": -0.11302780257735279}, {\"x\": 2.6926926926926926, \"g(x)\": -0.13533198864530194}, {\"x\": 2.7037037037037033, \"g(x)\": -0.15739368998628178}, {\"x\": 2.714714714714715, \"g(x)\": -0.1792129066002941}, {\"x\": 2.7257257257257255, \"g(x)\": -0.20078963848733578}, {\"x\": 2.736736736736737, \"g(x)\": -0.22212388564740948}, {\"x\": 2.7477477477477477, \"g(x)\": -0.243215648080513}, {\"x\": 2.7587587587587583, \"g(x)\": -0.26406492578664675}, {\"x\": 2.76976976976977, \"g(x)\": -0.284671718765813}, {\"x\": 2.7807807807807805, \"g(x)\": -0.3050360270180086}, {\"x\": 2.791791791791792, \"g(x)\": -0.32515785054323665}, {\"x\": 2.8028028028028027, \"g(x)\": -0.34503718934149363}, {\"x\": 2.8138138138138133, \"g(x)\": -0.3646740434127813}, {\"x\": 2.824824824824825, \"g(x)\": -0.38406841275710146}, {\"x\": 2.8358358358358355, \"g(x)\": -0.403220297374451}, {\"x\": 2.846846846846847, \"g(x)\": -0.42212969726483296}, {\"x\": 2.8578578578578577, \"g(x)\": -0.44079661242824386}, {\"x\": 2.8688688688688684, \"g(x)\": -0.4592210428646859}, {\"x\": 2.87987987987988, \"g(x)\": -0.47740298857415997}, {\"x\": 2.8908908908908906, \"g(x)\": -0.4953424495566634}, {\"x\": 2.901901901901902, \"g(x)\": -0.5130394258121989}, {\"x\": 2.9129129129129128, \"g(x)\": -0.5304939173407641}, {\"x\": 2.9239239239239243, \"g(x)\": -0.5477059241423614}, {\"x\": 2.934934934934935, \"g(x)\": -0.5646754462169881}, {\"x\": 2.9459459459459456, \"g(x)\": -0.5814024835646454}, {\"x\": 2.956956956956957, \"g(x)\": -0.5978870361853348}, {\"x\": 2.967967967967968, \"g(x)\": -0.614129104079054}, {\"x\": 2.9789789789789793, \"g(x)\": -0.6301286872458052}, {\"x\": 2.98998998998999, \"g(x)\": -0.6458857856855857}, {\"x\": 3.0010010010010006, \"g(x)\": -0.661400399398397}, {\"x\": 3.012012012012012, \"g(x)\": -0.6766725283842403}, {\"x\": 3.023023023023023, \"g(x)\": -0.6917021726431134}, {\"x\": 3.0340340340340344, \"g(x)\": -0.7064893321750185}, {\"x\": 3.045045045045045, \"g(x)\": -0.721034006979953}, {\"x\": 3.0560560560560557, \"g(x)\": -0.7353361970579186}, {\"x\": 3.067067067067067, \"g(x)\": -0.7493959024089158}, {\"x\": 3.078078078078078, \"g(x)\": -0.7632131230329429}, {\"x\": 3.0890890890890894, \"g(x)\": -0.7767878589300015}, {\"x\": 3.1001001001001, \"g(x)\": -0.7901201101000903}, {\"x\": 3.1111111111111107, \"g(x)\": -0.8032098765432094}, {\"x\": 3.1221221221221223, \"g(x)\": -0.816057158259361}, {\"x\": 3.133133133133133, \"g(x)\": -0.8286619552485419}, {\"x\": 3.1441441441441444, \"g(x)\": -0.8410242675107544}, {\"x\": 3.155155155155155, \"g(x)\": -0.8531440950459972}, {\"x\": 3.1661661661661658, \"g(x)\": -0.8650214378542702}, {\"x\": 3.1771771771771773, \"g(x)\": -0.8766562959355757}, {\"x\": 3.188188188188188, \"g(x)\": -0.8880486692899106}, {\"x\": 3.1991991991991995, \"g(x)\": -0.899198557917277}, {\"x\": 3.21021021021021, \"g(x)\": -0.9101059618176737}, {\"x\": 3.221221221221221, \"g(x)\": -0.920770880991101}, {\"x\": 3.2322322322322323, \"g(x)\": -0.93119331543756}, {\"x\": 3.243243243243243, \"g(x)\": -0.9413732651570488}, {\"x\": 3.2542542542542545, \"g(x)\": -0.9513107301495696}, {\"x\": 3.265265265265265, \"g(x)\": -0.9610057104151197}, {\"x\": 3.276276276276276, \"g(x)\": -0.9704582059537015}, {\"x\": 3.2872872872872874, \"g(x)\": -0.9796682167653143}, {\"x\": 3.298298298298298, \"g(x)\": -0.988635742849957}, {\"x\": 3.3093093093093096, \"g(x)\": -0.9973607842076313}, {\"x\": 3.32032032032032, \"g(x)\": -1.0058433408383358}, {\"x\": 3.331331331331331, \"g(x)\": -1.0140834127420715}, {\"x\": 3.3423423423423424, \"g(x)\": -1.0220809999188378}, {\"x\": 3.353353353353353, \"g(x)\": -1.0298361023686349}, {\"x\": 3.3643643643643646, \"g(x)\": -1.037348720091463}, {\"x\": 3.3753753753753752, \"g(x)\": -1.0446188530873215}, {\"x\": 3.386386386386386, \"g(x)\": -1.051646501356211}, {\"x\": 3.3973973973973974, \"g(x)\": -1.0584316648981318}, {\"x\": 3.408408408408408, \"g(x)\": -1.0649743437130823}, {\"x\": 3.4194194194194196, \"g(x)\": -1.0712745378010649}, {\"x\": 3.4304304304304303, \"g(x)\": -1.0773322471620772}, {\"x\": 3.441441441441442, \"g(x)\": -1.0831474717961207}, {\"x\": 3.4524524524524525, \"g(x)\": -1.0887202117031949}, {\"x\": 3.463463463463463, \"g(x)\": -1.0940504668832998}, {\"x\": 3.4744744744744747, \"g(x)\": -1.0991382373364358}, {\"x\": 3.4854854854854853, \"g(x)\": -1.1039835230626025}, {\"x\": 3.496496496496497, \"g(x)\": -1.1085863240618}, {\"x\": 3.5075075075075075, \"g(x)\": -1.112946640334028}, {\"x\": 3.518518518518518, \"g(x)\": -1.1170644718792868}, {\"x\": 3.5295295295295297, \"g(x)\": -1.1209398186975768}, {\"x\": 3.5405405405405403, \"g(x)\": -1.1245726807888974}, {\"x\": 3.551551551551552, \"g(x)\": -1.1279630581532487}, {\"x\": 3.5625625625625625, \"g(x)\": -1.1311109507906307}, {\"x\": 3.573573573573573, \"g(x)\": -1.1340163587010434}, {\"x\": 3.5845845845845847, \"g(x)\": -1.1366792818844873}, {\"x\": 3.5955955955955954, \"g(x)\": -1.1390997203409619}, {\"x\": 3.606606606606607, \"g(x)\": -1.141277674070467}, {\"x\": 3.6176176176176176, \"g(x)\": -1.1432131430730035}, {\"x\": 3.6286286286286282, \"g(x)\": -1.1449061273485701}, {\"x\": 3.6396396396396398, \"g(x)\": -1.1463566268971679}, {\"x\": 3.6506506506506504, \"g(x)\": -1.1475646417187964}, {\"x\": 3.661661661661662, \"g(x)\": -1.1485301718134555}, {\"x\": 3.6726726726726726, \"g(x)\": -1.1492532171811454}, {\"x\": 3.6836836836836833, \"g(x)\": -1.1497337778218664}, {\"x\": 3.694694694694695, \"g(x)\": -1.149971853735618}, {\"x\": 3.7057057057057055, \"g(x)\": -1.1499674449224004}, {\"x\": 3.716716716716717, \"g(x)\": -1.1497205513822135}, {\"x\": 3.7277277277277276, \"g(x)\": -1.1492311731150573}, {\"x\": 3.7387387387387383, \"g(x)\": -1.1484993101209322}, {\"x\": 3.74974974974975, \"g(x)\": -1.1475249623998378}, {\"x\": 3.7607607607607605, \"g(x)\": -1.1463081299517741}, {\"x\": 3.771771771771772, \"g(x)\": -1.144848812776741}, {\"x\": 3.7827827827827827, \"g(x)\": -1.1431470108747392}, {\"x\": 3.7937937937937933, \"g(x)\": -1.1412027242457676}, {\"x\": 3.804804804804805, \"g(x)\": -1.1390159528898272}, {\"x\": 3.8158158158158155, \"g(x)\": -1.1365866968069174}, {\"x\": 3.826826826826827, \"g(x)\": -1.1339149559970383}, {\"x\": 3.8378378378378377, \"g(x)\": -1.1310007304601903}, {\"x\": 3.8488488488488484, \"g(x)\": -1.127844020196373}, {\"x\": 3.85985985985986, \"g(x)\": -1.1244448252055865}, {\"x\": 3.8708708708708706, \"g(x)\": -1.1208031454878307}, {\"x\": 3.881881881881882, \"g(x)\": -1.1169189810431055}, {\"x\": 3.8928928928928928, \"g(x)\": -1.1127923318714115}, {\"x\": 3.9039039039039034, \"g(x)\": -1.1084231979727481}, {\"x\": 3.914914914914915, \"g(x)\": -1.1038115793471155}, {\"x\": 3.9259259259259256, \"g(x)\": -1.0989574759945135}, {\"x\": 3.936936936936937, \"g(x)\": -1.0938608879149423}, {\"x\": 3.947947947947948, \"g(x)\": -1.0885218151084022}, {\"x\": 3.9589589589589593, \"g(x)\": -1.0829402575748923}, {\"x\": 3.96996996996997, \"g(x)\": -1.077116215314414}, {\"x\": 3.9809809809809806, \"g(x)\": -1.0710496883269665}, {\"x\": 3.991991991991992, \"g(x)\": -1.0647406766125487}, {\"x\": 4.003003003003003, \"g(x)\": -1.058189180171163}, {\"x\": 4.014014014014014, \"g(x)\": -1.051395199002807}, {\"x\": 4.025025025025025, \"g(x)\": -1.0443587331074822}, {\"x\": 4.036036036036036, \"g(x)\": -1.0370797824851885}, {\"x\": 4.047047047047047, \"g(x)\": -1.029558347135925}, {\"x\": 4.058058058058058, \"g(x)\": -1.0217944270596928}, {\"x\": 4.069069069069069, \"g(x)\": -1.0137880222564908}, {\"x\": 4.08008008008008, \"g(x)\": -1.0055391327263203}, {\"x\": 4.091091091091091, \"g(x)\": -0.9970477584691806}, {\"x\": 4.102102102102102, \"g(x)\": -0.9883138994850711}, {\"x\": 4.113113113113113, \"g(x)\": -0.9793375557739927}, {\"x\": 4.124124124124124, \"g(x)\": -0.9701187273359446}, {\"x\": 4.135135135135135, \"g(x)\": -0.9606574141709281}, {\"x\": 4.146146146146146, \"g(x)\": -0.9509536162789427}, {\"x\": 4.157157157157157, \"g(x)\": -0.9410073336599867}, {\"x\": 4.168168168168168, \"g(x)\": -0.9308185663140627}, {\"x\": 4.1791791791791795, \"g(x)\": -0.9203873142411685}, {\"x\": 4.19019019019019, \"g(x)\": -0.9097135774413059}, {\"x\": 4.201201201201201, \"g(x)\": -0.898797355914474}, {\"x\": 4.212212212212212, \"g(x)\": -0.8876386496606719}, {\"x\": 4.223223223223223, \"g(x)\": -0.8762374586799018}, {\"x\": 4.2342342342342345, \"g(x)\": -0.8645937829721615}, {\"x\": 4.245245245245245, \"g(x)\": -0.8527076225374532}, {\"x\": 4.256256256256256, \"g(x)\": -0.8405789773757752}, {\"x\": 4.267267267267267, \"g(x)\": -0.8282078474871275}, {\"x\": 4.278278278278278, \"g(x)\": -0.8155942328715113}, {\"x\": 4.2892892892892895, \"g(x)\": -0.8027381335289245}, {\"x\": 4.3003003003003, \"g(x)\": -0.7896395494593698}, {\"x\": 4.311311311311311, \"g(x)\": -0.7762984806628461}, {\"x\": 4.322322322322322, \"g(x)\": -0.7627149271393519}, {\"x\": 4.333333333333333, \"g(x)\": -0.7488888888888896}, {\"x\": 4.344344344344345, \"g(x)\": -0.7348203659114576}, {\"x\": 4.355355355355355, \"g(x)\": -0.7205093582070567}, {\"x\": 4.366366366366366, \"g(x)\": -0.705955865775687}, {\"x\": 4.377377377377377, \"g(x)\": -0.6911598886173467}, {\"x\": 4.388388388388388, \"g(x)\": -0.6761214267320383}, {\"x\": 4.3993993993994, \"g(x)\": -0.6608404801197594}, {\"x\": 4.41041041041041, \"g(x)\": -0.6453170487805133}, {\"x\": 4.421421421421421, \"g(x)\": -0.6295511327142975}, {\"x\": 4.4324324324324325, \"g(x)\": -0.6135427319211111}, {\"x\": 4.443443443443443, \"g(x)\": -0.5972918464009567}, {\"x\": 4.454454454454455, \"g(x)\": -0.5807984761538316}, {\"x\": 4.465465465465465, \"g(x)\": -0.5640626211797395}, {\"x\": 4.476476476476477, \"g(x)\": -0.5470842814786758}, {\"x\": 4.4874874874874875, \"g(x)\": -0.5298634570506451}, {\"x\": 4.498498498498498, \"g(x)\": -0.5124001478956446}, {\"x\": 4.50950950950951, \"g(x)\": -0.49469435401367345}, {\"x\": 4.52052052052052, \"g(x)\": -0.47674607540473524}, {\"x\": 4.531531531531532, \"g(x)\": -0.4585553120688255}, {\"x\": 4.5425425425425425, \"g(x)\": -0.44012206400594867}, {\"x\": 4.553553553553553, \"g(x)\": -0.4214463312161021}, {\"x\": 4.564564564564565, \"g(x)\": -0.4025281136992853}, {\"x\": 4.575575575575575, \"g(x)\": -0.3833674114555006}, {\"x\": 4.586586586586587, \"g(x)\": -0.3639642244847452}, {\"x\": 4.597597597597598, \"g(x)\": -0.34431855278702184}, {\"x\": 4.608608608608608, \"g(x)\": -0.3244303963623296}, {\"x\": 4.61961961961962, \"g(x)\": -0.30429975521066677}, {\"x\": 4.63063063063063, \"g(x)\": -0.28392662933203594}, {\"x\": 4.641641641641642, \"g(x)\": -0.2633110187264345}, {\"x\": 4.652652652652653, \"g(x)\": -0.24245292339386504}, {\"x\": 4.663663663663663, \"g(x)\": -0.22135234333432674}, {\"x\": 4.674674674674675, \"g(x)\": -0.20000927854781736}, {\"x\": 4.685685685685685, \"g(x)\": -0.1784237290343409}, {\"x\": 4.696696696696697, \"g(x)\": -0.15659569479389335}, {\"x\": 4.707707707707708, \"g(x)\": -0.13452517582647783}, {\"x\": 4.718718718718718, \"g(x)\": -0.11221217213209345}, {\"x\": 4.72972972972973, \"g(x)\": -0.08965668371073843}, {\"x\": 4.7407407407407405, \"g(x)\": -0.06685871056241544}, {\"x\": 4.751751751751752, \"g(x)\": -0.043818252687121806}, {\"x\": 4.762762762762763, \"g(x)\": -0.020535310084860647}, {\"x\": 4.773773773773773, \"g(x)\": 0.0029901172443698165}, {\"x\": 4.784784784784785, \"g(x)\": 0.026758029300571362}, {\"x\": 4.7957957957957955, \"g(x)\": 0.05076842608373999}, {\"x\": 4.806806806806807, \"g(x)\": 0.07502130759388015}, {\"x\": 4.817817817817818, \"g(x)\": 0.09951667383098695}, {\"x\": 4.828828828828828, \"g(x)\": 0.12425452479506349}, {\"x\": 4.83983983983984, \"g(x)\": 0.14923486048611112}, {\"x\": 4.8508508508508505, \"g(x)\": 0.17445768090412583}, {\"x\": 4.861861861861862, \"g(x)\": 0.19992298604911207}, {\"x\": 4.872872872872873, \"g(x)\": 0.22563077592106495}, {\"x\": 4.883883883883883, \"g(x)\": 0.2515810505199876}, {\"x\": 4.894894894894895, \"g(x)\": 0.2777738098458813}, {\"x\": 4.905905905905906, \"g(x)\": 0.3042090538987421}, {\"x\": 4.916916916916917, \"g(x)\": 0.33088678267857397}, {\"x\": 4.927927927927928, \"g(x)\": 0.35780699618537337}, {\"x\": 4.938938938938938, \"g(x)\": 0.38496969441914164}, {\"x\": 4.94994994994995, \"g(x)\": 0.41237487737988143}, {\"x\": 4.960960960960961, \"g(x)\": 0.4400225450675883}, {\"x\": 4.971971971971972, \"g(x)\": 0.4679126974822667}, {\"x\": 4.982982982982983, \"g(x)\": 0.49604533462391176}, {\"x\": 4.993993993993994, \"g(x)\": 0.5244204564925288}, {\"x\": 5.005005005005005, \"g(x)\": 0.5530380630881124}, {\"x\": 5.016016016016016, \"g(x)\": 0.581898154410665}, {\"x\": 5.027027027027026, \"g(x)\": 0.6110007304601872}, {\"x\": 5.038038038038039, \"g(x)\": 0.6403457912366832}, {\"x\": 5.049049049049049, \"g(x)\": 0.6699333367401437}, {\"x\": 5.06006006006006, \"g(x)\": 0.6997633669705734}, {\"x\": 5.071071071071071, \"g(x)\": 0.729835881927972}, {\"x\": 5.082082082082081, \"g(x)\": 0.7601508816123403}, {\"x\": 5.093093093093094, \"g(x)\": 0.7907083660236824}, {\"x\": 5.104104104104104, \"g(x)\": 0.821508335161989}, {\"x\": 5.115115115115115, \"g(x)\": 0.8525507890272643}, {\"x\": 5.126126126126126, \"g(x)\": 0.8838357276195095}, {\"x\": 5.137137137137136, \"g(x)\": 0.9153631509387234}, {\"x\": 5.148148148148149, \"g(x)\": 0.9471330589849121}, {\"x\": 5.1591591591591595, \"g(x)\": 0.9791454517580642}, {\"x\": 5.17017017017017, \"g(x)\": 1.0114003292581861}, {\"x\": 5.181181181181181, \"g(x)\": 1.043897691485277}, {\"x\": 5.192192192192191, \"g(x)\": 1.076637538439337}, {\"x\": 5.203203203203204, \"g(x)\": 1.1096198701203717}, {\"x\": 5.2142142142142145, \"g(x)\": 1.1428446865283703}, {\"x\": 5.225225225225225, \"g(x)\": 1.1763119876633379}, {\"x\": 5.236236236236236, \"g(x)\": 1.2100217735252752}, {\"x\": 5.2472472472472464, \"g(x)\": 1.2439740441141804}, {\"x\": 5.258258258258259, \"g(x)\": 1.2781687994300617}, {\"x\": 5.2692692692692695, \"g(x)\": 1.3126060394729064}, {\"x\": 5.28028028028028, \"g(x)\": 1.34728576424272}, {\"x\": 5.291291291291291, \"g(x)\": 1.3822079737395025}, {\"x\": 5.3023023023023015, \"g(x)\": 1.4173726679632548}, {\"x\": 5.313313313313314, \"g(x)\": 1.452779846913982}, {\"x\": 5.324324324324325, \"g(x)\": 1.488429510591673}, {\"x\": 5.335335335335335, \"g(x)\": 1.5243216589963327}, {\"x\": 5.346346346346346, \"g(x)\": 1.5604562921279612}, {\"x\": 5.3573573573573565, \"g(x)\": 1.5968334099865595}, {\"x\": 5.368368368368369, \"g(x)\": 1.633453012572133}, {\"x\": 5.37937937937938, \"g(x)\": 1.670315099884669}, {\"x\": 5.39039039039039, \"g(x)\": 1.7074196719241748}, {\"x\": 5.401401401401401, \"g(x)\": 1.7447667286906503}, {\"x\": 5.4124124124124116, \"g(x)\": 1.7823562701840938}, {\"x\": 5.423423423423424, \"g(x)\": 1.8201882964045133}, {\"x\": 5.434434434434435, \"g(x)\": 1.8582628073518963}, {\"x\": 5.445445445445445, \"g(x)\": 1.8965798030262482}, {\"x\": 5.456456456456456, \"g(x)\": 1.935139283427569}, {\"x\": 5.467467467467467, \"g(x)\": 1.9739412485558594}, {\"x\": 5.478478478478479, \"g(x)\": 2.012985698411125}, {\"x\": 5.48948948948949, \"g(x)\": 2.052272632993353}, {\"x\": 5.5005005005005, \"g(x)\": 2.091802052302551}, {\"x\": 5.511511511511511, \"g(x)\": 2.131573956338718}, {\"x\": 5.522522522522522, \"g(x)\": 2.1715883451018545}, {\"x\": 5.533533533533534, \"g(x)\": 2.211845218591966}, {\"x\": 5.544544544544545, \"g(x)\": 2.2523445768090404}, {\"x\": 5.555555555555555, \"g(x)\": 2.2930864197530845}, {\"x\": 5.566566566566566, \"g(x)\": 2.3340707474240974}, {\"x\": 5.577577577577577, \"g(x)\": 2.37529755982208}, {\"x\": 5.588588588588589, \"g(x)\": 2.4167668569470377}, {\"x\": 5.5995995995996, \"g(x)\": 2.458478638798959}, {\"x\": 5.61061061061061, \"g(x)\": 2.5004329053778482}, {\"x\": 5.621621621621621, \"g(x)\": 2.542629656683707}, {\"x\": 5.632632632632632, \"g(x)\": 2.585068892716536}, {\"x\": 5.643643643643644, \"g(x)\": 2.6277506134763398}, {\"x\": 5.654654654654655, \"g(x)\": 2.670674818963107}, {\"x\": 5.665665665665665, \"g(x)\": 2.7138415091768424}, {\"x\": 5.676676676676676, \"g(x)\": 2.7572506841175475}, {\"x\": 5.687687687687687, \"g(x)\": 2.8009023437852214}, {\"x\": 5.698698698698699, \"g(x)\": 2.844796488179872}, {\"x\": 5.70970970970971, \"g(x)\": 2.8889331173014847}, {\"x\": 5.7207207207207205, \"g(x)\": 2.933312231150067}, {\"x\": 5.731731731731731, \"g(x)\": 2.977933829725618}, {\"x\": 5.7427427427427435, \"g(x)\": 3.0227979130281453}, {\"x\": 5.753753753753754, \"g(x)\": 3.067904481057635}, {\"x\": 5.764764764764765, \"g(x)\": 3.1132535338140936}, {\"x\": 5.7757757757757755, \"g(x)\": 3.158845071297521}, {\"x\": 5.786786786786786, \"g(x)\": 3.2046790935079184}, {\"x\": 5.797797797797799, \"g(x)\": 3.2507556004452924}, {\"x\": 5.808808808808809, \"g(x)\": 3.2970745921096274}, {\"x\": 5.81981981981982, \"g(x)\": 3.343636068500932}, {\"x\": 5.8308308308308305, \"g(x)\": 3.3904400296192065}, {\"x\": 5.841841841841841, \"g(x)\": 3.43748647546445}, {\"x\": 5.852852852852854, \"g(x)\": 3.484775406036669}, {\"x\": 5.863863863863864, \"g(x)\": 3.532306821335851}, {\"x\": 5.874874874874875, \"g(x)\": 3.580080721362002}, {\"x\": 5.885885885885886, \"g(x)\": 3.6280971061151215}, {\"x\": 5.896896896896896, \"g(x)\": 3.676355975595211}, {\"x\": 5.907907907907909, \"g(x)\": 3.724857329802277}, {\"x\": 5.918918918918919, \"g(x)\": 3.7736011687363042}, {\"x\": 5.92992992992993, \"g(x)\": 3.822587492397301}, {\"x\": 5.940940940940941, \"g(x)\": 3.871816300785267}, {\"x\": 5.951951951951951, \"g(x)\": 3.9212875939002023}, {\"x\": 5.962962962962964, \"g(x)\": 3.9710013717421146}, {\"x\": 5.973973973973974, \"g(x)\": 4.020957634310988}, {\"x\": 5.984984984984985, \"g(x)\": 4.071156381606831}, {\"x\": 5.995995995995996, \"g(x)\": 4.121597613629643}, {\"x\": 6.007007007007006, \"g(x)\": 4.172281330379424}, {\"x\": 6.018018018018019, \"g(x)\": 4.223207531856183}, {\"x\": 6.029029029029029, \"g(x)\": 4.274376218059902}, {\"x\": 6.04004004004004, \"g(x)\": 4.325787388990592}, {\"x\": 6.051051051051051, \"g(x)\": 4.37744104464825}, {\"x\": 6.062062062062061, \"g(x)\": 4.4293371850328755}, {\"x\": 6.073073073073074, \"g(x)\": 4.48147581014448}, {\"x\": 6.084084084084084, \"g(x)\": 4.533856919983047}, {\"x\": 6.095095095095095, \"g(x)\": 4.5864805145485805}, {\"x\": 6.106106106106106, \"g(x)\": 4.639346593841085}, {\"x\": 6.117117117117116, \"g(x)\": 4.692455157860558}, {\"x\": 6.128128128128129, \"g(x)\": 4.74580620660701}, {\"x\": 6.1391391391391394, \"g(x)\": 4.79939974008042}, {\"x\": 6.15015015015015, \"g(x)\": 4.853235758280802}, {\"x\": 6.161161161161161, \"g(x)\": 4.907314261208152}, {\"x\": 6.172172172172171, \"g(x)\": 4.96163524886247}, {\"x\": 6.183183183183184, \"g(x)\": 5.016198721243769}, {\"x\": 6.1941941941941945, \"g(x)\": 5.071004678352026}, {\"x\": 6.205205205205205, \"g(x)\": 5.126053120187252}, {\"x\": 6.216216216216216, \"g(x)\": 5.181344046749449}, {\"x\": 6.227227227227226, \"g(x)\": 5.236877458038614}, {\"x\": 6.238238238238239, \"g(x)\": 5.292653354054758}, {\"x\": 6.2492492492492495, \"g(x)\": 5.34867173479786}, {\"x\": 6.26026026026026, \"g(x)\": 5.4049326002679345}, {\"x\": 6.271271271271271, \"g(x)\": 5.461435950464977}, {\"x\": 6.2822822822822815, \"g(x)\": 5.518181785388987}, {\"x\": 6.293293293293294, \"g(x)\": 5.575170105039978}, {\"x\": 6.3043043043043046, \"g(x)\": 5.632400909417927}, {\"x\": 6.315315315315315, \"g(x)\": 5.689874198522845}, {\"x\": 6.326326326326326, \"g(x)\": 5.747589972354734}, {\"x\": 6.3373373373373365, \"g(x)\": 5.805548230913591}, {\"x\": 6.348348348348349, \"g(x)\": 5.863748974199427}, {\"x\": 6.35935935935936, \"g(x)\": 5.922192202212222}, {\"x\": 6.37037037037037, \"g(x)\": 5.980877914951987}, {\"x\": 6.381381381381381, \"g(x)\": 6.039806112418721}, {\"x\": 6.3923923923923915, \"g(x)\": 6.098976794612425}, {\"x\": 6.403403403403404, \"g(x)\": 6.158389961533106}, {\"x\": 6.414414414414415, \"g(x)\": 6.218045613180748}, {\"x\": 6.425425425425425, \"g(x)\": 6.27794374955536}, {\"x\": 6.436436436436436, \"g(x)\": 6.338084370656939}, {\"x\": 6.447447447447447, \"g(x)\": 6.3984674764854885}, {\"x\": 6.458458458458459, \"g(x)\": 6.4590930670410165}, {\"x\": 6.46946946946947, \"g(x)\": 6.5199611423235035}, {\"x\": 6.48048048048048, \"g(x)\": 6.581071702332962}, {\"x\": 6.491491491491491, \"g(x)\": 6.642424747069387}, {\"x\": 6.502502502502502, \"g(x)\": 6.704020276532783}, {\"x\": 6.513513513513514, \"g(x)\": 6.765858290723156}, {\"x\": 6.524524524524525, \"g(x)\": 6.82793878964049}, {\"x\": 6.535535535535535, \"g(x)\": 6.890261773284794}, {\"x\": 6.546546546546546, \"g(x)\": 6.952827241656066}, {\"x\": 6.557557557557557, \"g(x)\": 7.015635194754307}, {\"x\": 6.568568568568569, \"g(x)\": 7.0786856325795275}, {\"x\": 6.57957957957958, \"g(x)\": 7.1419785551317085}, {\"x\": 6.59059059059059, \"g(x)\": 7.2055139624108575}, {\"x\": 6.601601601601601, \"g(x)\": 7.2692918544169745}, {\"x\": 6.612612612612612, \"g(x)\": 7.333312231150063}, {\"x\": 6.623623623623624, \"g(x)\": 7.397575092610128}, {\"x\": 6.634634634634635, \"g(x)\": 7.462080438797154}, {\"x\": 6.645645645645645, \"g(x)\": 7.52682826971115}, {\"x\": 6.656656656656656, \"g(x)\": 7.591818585352114}, {\"x\": 6.667667667667667, \"g(x)\": 7.657051385720048}, {\"x\": 6.678678678678679, \"g(x)\": 7.72252667081496}, {\"x\": 6.68968968968969, \"g(x)\": 7.788244440636832}, {\"x\": 6.7007007007007005, \"g(x)\": 7.854204695185673}, {\"x\": 6.711711711711711, \"g(x)\": 7.920407434461484}, {\"x\": 6.722722722722722, \"g(x)\": 7.9868526584642625}, {\"x\": 6.733733733733734, \"g(x)\": 8.05354036719402}, {\"x\": 6.744744744744745, \"g(x)\": 8.120470560650741}, {\"x\": 6.7557557557557555, \"g(x)\": 8.187643238834426}, {\"x\": 6.766766766766766, \"g(x)\": 8.255058401745082}, {\"x\": 6.777777777777779, \"g(x)\": 8.32271604938272}, {\"x\": 6.788788788788789, \"g(x)\": 8.390616181747315}, {\"x\": 6.7997997997998, \"g(x)\": 8.458758798838879}, {\"x\": 6.8108108108108105, \"g(x)\": 8.52714390065741}, {\"x\": 6.821821821821821, \"g(x)\": 8.595771487202914}, {\"x\": 6.832832832832834, \"g(x)\": 8.664641558475395}, {\"x\": 6.843843843843844, \"g(x)\": 8.733754114474838}, {\"x\": 6.854854854854855, \"g(x)\": 8.803109155201245}, {\"x\": 6.865865865865866, \"g(x)\": 8.872706680654627}, {\"x\": 6.876876876876876, \"g(x)\": 8.942546690834973}, {\"x\": 6.887887887887889, \"g(x)\": 9.012629185742302}, {\"x\": 6.898898898898899, \"g(x)\": 9.082954165376588}, {\"x\": 6.90990990990991, \"g(x)\": 9.153521629737845}, {\"x\": 6.920920920920921, \"g(x)\": 9.224331578826071}, {\"x\": 6.931931931931931, \"g(x)\": 9.295384012641264}, {\"x\": 6.942942942942944, \"g(x)\": 9.36667893118344}, {\"x\": 6.953953953953954, \"g(x)\": 9.438216334452573}, {\"x\": 6.964964964964965, \"g(x)\": 9.509996222448674}, {\"x\": 6.975975975975976, \"g(x)\": 9.582018595171746}, {\"x\": 6.986986986986986, \"g(x)\": 9.654283452621783}, {\"x\": 6.997997997997999, \"g(x)\": 9.726790794798806}, {\"x\": 7.009009009009009, \"g(x)\": 9.799540621702786}, {\"x\": 7.02002002002002, \"g(x)\": 9.872532933333733}, {\"x\": 7.031031031031031, \"g(x)\": 9.94576772969165}, {\"x\": 7.042042042042041, \"g(x)\": 10.019245010776537}, {\"x\": 7.053053053053054, \"g(x)\": 10.092964776588403}, {\"x\": 7.064064064064064, \"g(x)\": 10.16692702712723}, {\"x\": 7.075075075075075, \"g(x)\": 10.241131762393021}, {\"x\": 7.086086086086086, \"g(x)\": 10.315578982385784}, {\"x\": 7.097097097097096, \"g(x)\": 10.390268687105518}, {\"x\": 7.108108108108109, \"g(x)\": 10.465200876552231}, {\"x\": 7.119119119119119, \"g(x)\": 10.540375550725901}, {\"x\": 7.13013013013013, \"g(x)\": 10.615792709626543}, {\"x\": 7.141141141141141, \"g(x)\": 10.69145235325415}, {\"x\": 7.152152152152151, \"g(x)\": 10.76735448160873}, {\"x\": 7.163163163163164, \"g(x)\": 10.843499094690287}, {\"x\": 7.1741741741741745, \"g(x)\": 10.919886192498804}, {\"x\": 7.185185185185185, \"g(x)\": 10.996515775034293}, {\"x\": 7.196196196196196, \"g(x)\": 11.073387842296746}, {\"x\": 7.207207207207206, \"g(x)\": 11.150502394286171}, {\"x\": 7.218218218218219, \"g(x)\": 11.227859431002578}, {\"x\": 7.2292292292292295, \"g(x)\": 11.305458952445942}, {\"x\": 7.24024024024024, \"g(x)\": 11.383300958616271}, {\"x\": 7.251251251251251, \"g(x)\": 11.461385449513575}, {\"x\": 7.2622622622622615, \"g(x)\": 11.539712425137843}, {\"x\": 7.273273273273274, \"g(x)\": 11.618281885489093}, {\"x\": 7.2842842842842845, \"g(x)\": 11.697093830567304}, {\"x\": 7.295295295295295, \"g(x)\": 11.77614826037248}, {\"x\": 7.306306306306306, \"g(x)\": 11.855445174904627}, {\"x\": 7.3173173173173165, \"g(x)\": 11.934984574163746}, {\"x\": 7.328328328328329, \"g(x)\": 12.014766458149847}, {\"x\": 7.33933933933934, \"g(x)\": 12.094790826862901}, {\"x\": 7.35035035035035, \"g(x)\": 12.175057680302924}, {\"x\": 7.361361361361361, \"g(x)\": 12.255567018469918}, {\"x\": 7.3723723723723715, \"g(x)\": 12.33631884136388}, {\"x\": 7.383383383383384, \"g(x)\": 12.417313148984821}, {\"x\": 7.394394394394395, \"g(x)\": 12.498549941332723}, {\"x\": 7.405405405405405, \"g(x)\": 12.580029218407592}, {\"x\": 7.416416416416416, \"g(x)\": 12.661750980209433}, {\"x\": 7.427427427427427, \"g(x)\": 12.743715226738242}, {\"x\": 7.438438438438439, \"g(x)\": 12.825921957994034}, {\"x\": 7.44944944944945, \"g(x)\": 12.908371173976779}, {\"x\": 7.46046046046046, \"g(x)\": 12.991062874686495}, {\"x\": 7.471471471471471, \"g(x)\": 13.073997060123183}, {\"x\": 7.482482482482482, \"g(x)\": 13.157173730286836}, {\"x\": 7.493493493493494, \"g(x)\": 13.24059288517747}, {\"x\": 7.504504504504505, \"g(x)\": 13.324254524795062}, {\"x\": 7.515515515515515, \"g(x)\": 13.408158649139626}, {\"x\": 7.526526526526526, \"g(x)\": 13.492305258211157}, {\"x\": 7.537537537537537, \"g(x)\": 13.576694352009657}, {\"x\": 7.548548548548549, \"g(x)\": 13.661325930535142}, {\"x\": 7.55955955955956, \"g(x)\": 13.746199993787581}, {\"x\": 7.57057057057057, \"g(x)\": 13.831316541766991}, {\"x\": 7.581581581581581, \"g(x)\": 13.916675574473366}, {\"x\": 7.592592592592592, \"g(x)\": 14.002277091906713}, {\"x\": 7.603603603603604, \"g(x)\": 14.088121094067041}, {\"x\": 7.614614614614615, \"g(x)\": 14.174207580954327}, {\"x\": 7.625625625625625, \"g(x)\": 14.260536552568581}, {\"x\": 7.636636636636636, \"g(x)\": 14.347108008909803}, {\"x\": 7.647647647647647, \"g(x)\": 14.433921949977996}, {\"x\": 7.658658658658659, \"g(x)\": 14.520978375773172}, {\"x\": 7.66966966966967, \"g(x)\": 14.608277286295305}, {\"x\": 7.68068068068068, \"g(x)\": 14.695818681544406}, {\"x\": 7.691691691691691, \"g(x)\": 14.783602561520475}, {\"x\": 7.702702702702702, \"g(x)\": 14.871628926223512}, {\"x\": 7.713713713713714, \"g(x)\": 14.959897775653534}, {\"x\": 7.724724724724725, \"g(x)\": 15.04840910981051}, {\"x\": 7.7357357357357355, \"g(x)\": 15.137162928694455}, {\"x\": 7.746746746746746, \"g(x)\": 15.22615923230537}, {\"x\": 7.757757757757757, \"g(x)\": 15.315398020643254}, {\"x\": 7.768768768768769, \"g(x)\": 15.404879293708124}, {\"x\": 7.77977977977978, \"g(x)\": 15.494603051499947}, {\"x\": 7.7907907907907905, \"g(x)\": 15.584569294018742}, {\"x\": 7.801801801801801, \"g(x)\": 15.674778021264501}, {\"x\": 7.812812812812814, \"g(x)\": 15.765229233237246}, {\"x\": 7.823823823823824, \"g(x)\": 15.855922929936945}, {\"x\": 7.834834834834835, \"g(x)\": 15.946859111363615}, {\"x\": 7.8458458458458455, \"g(x)\": 16.038037777517253}, {\"x\": 7.856856856856856, \"g(x)\": 16.12945892839786}, {\"x\": 7.867867867867869, \"g(x)\": 16.22112256400545}, {\"x\": 7.878878878878879, \"g(x)\": 16.313028684339997}, {\"x\": 7.88988988988989, \"g(x)\": 16.405177289401514}, {\"x\": 7.900900900900901, \"g(x)\": 16.497568379189996}, {\"x\": 7.911911911911911, \"g(x)\": 16.59020195370545}, {\"x\": 7.922922922922924, \"g(x)\": 16.683078012947885}, {\"x\": 7.933933933933934, \"g(x)\": 16.776196556917277}, {\"x\": 7.944944944944945, \"g(x)\": 16.869557585613638}, {\"x\": 7.955955955955956, \"g(x)\": 16.96316109903697}, {\"x\": 7.966966966966966, \"g(x)\": 17.05700709718727}, {\"x\": 7.977977977977979, \"g(x)\": 17.151095580064553}, {\"x\": 7.988988988988989, \"g(x)\": 17.245426547668792}, {\"x\": 8.0, \"g(x)\": 17.34}], \"data-593e1231b7a5cde415fa5bcbc7f30224\": [{\"x\": 3.6999999999999993, \"g(x)\": -1.1500000000000004}]}}, {\"mode\": \"vega-lite\"});\n",
       "</script>"
      ],
      "text/plain": [
       "alt.LayerChart(...)"
      ]
     },
     "execution_count": 18,
     "metadata": {},
     "output_type": "execute_result"
    }
   ],
   "source": [
    "def g(x): return (x-3.2)**2 - x + 2.3\n",
    "def gprime(x): return 2*(x-3.2) - 1\n",
    "\n",
    "x = np.linspace(-3, 8, num=1000)\n",
    "xstar = find_minimum_1(g, gprime, step=0.1)\n",
    "\n",
    "print('  xstar  = %f, g(xstar) = %f' % (xstar, g(xstar)))\n",
    "\n",
    "obj = pd.DataFrame({'x':x, 'g(x)':g(x)})\n",
    "sol = pd.DataFrame({'x':[xstar], 'g(x)':[g(xstar)]})\n",
    "\n",
    "base = alt.Chart().encode(x='x:Q', y='g(x):Q')\n",
    "f_obj = base.properties(data=obj).mark_line()\n",
    "f_sol = base.properties(data=sol).mark_point(color='red', filled=True, size=50)\n",
    "\n",
    "f_obj + f_sol"
   ]
  },
  {
   "cell_type": "code",
   "execution_count": 19,
   "metadata": {
    "slideshow": {
     "slide_type": "subslide"
    }
   },
   "outputs": [],
   "source": [
    "def find_minimum_2(func, slope, x0 = 2, step=0.1, max_iter=1000, message=False):\n",
    "    \n",
    "    c = 0\n",
    "    for i in range(0, max_iter):\n",
    "        \n",
    "        x = x0 - step*slope(x0)\n",
    "        \n",
    "        if np.isclose(x, x0, rtol=1e-5):\n",
    "            if message:\n",
    "                print('converged in %d iterations' % c)\n",
    "            return x\n",
    "        \n",
    "        if func(x) < func(x0):\n",
    "            x0 = x\n",
    "            c += 1\n",
    "        else:\n",
    "            step = 0.5*step\n",
    "    \n",
    "    print('warning: algorithm did not converge')\n",
    "    \n",
    "    return x "
   ]
  },
  {
   "cell_type": "markdown",
   "metadata": {
    "slideshow": {
     "slide_type": "subslide"
    }
   },
   "source": [
    "### Complexity vs. Running time"
   ]
  },
  {
   "cell_type": "code",
   "execution_count": 20,
   "metadata": {
    "slideshow": {
     "slide_type": "-"
    }
   },
   "outputs": [
    {
     "name": "stdout",
     "output_type": "stream",
     "text": [
      "converged in 41 iterations\n"
     ]
    },
    {
     "data": {
      "text/plain": [
       "-1.1499999790850541"
      ]
     },
     "execution_count": 20,
     "metadata": {},
     "output_type": "execute_result"
    }
   ],
   "source": [
    "# smarter algorithm\n",
    "xstar = find_minimum_2(g, gprime, message=True) ## less number of loops\n",
    "g(xstar)"
   ]
  },
  {
   "cell_type": "code",
   "execution_count": 21,
   "metadata": {
    "slideshow": {
     "slide_type": "fragment"
    }
   },
   "outputs": [
    {
     "name": "stdout",
     "output_type": "stream",
     "text": [
      "310 µs ± 4.81 µs per loop (mean ± std. dev. of 10 runs, 10 loops each)\n",
      "2.34 ms ± 48.7 µs per loop (mean ± std. dev. of 10 runs, 10 loops each)\n"
     ]
    }
   ],
   "source": [
    "%timeit -n10 -r10 find_minimum_1(g, gprime) ## faster running time\n",
    "%timeit -n10 -r10 find_minimum_2(g, gprime) ## slower running time"
   ]
  },
  {
   "cell_type": "code",
   "execution_count": 22,
   "metadata": {},
   "outputs": [],
   "source": [
    "R.to_pickle('R.pkl')\n",
    "R_all.to_pickle('R_all.pkl')"
   ]
  }
 ],
 "metadata": {
  "celltoolbar": "Slideshow",
  "jupytext": {
   "cell_metadata_filter": "-all",
   "formats": "ipynb,py:percent",
   "notebook_metadata_filter": "-all"
  },
  "kernelspec": {
   "display_name": "Python 3",
   "language": "python",
   "name": "python3"
  },
  "language_info": {
   "codemirror_mode": {
    "name": "ipython",
    "version": 3
   },
   "file_extension": ".py",
   "mimetype": "text/x-python",
   "name": "python",
   "nbconvert_exporter": "python",
   "pygments_lexer": "ipython3",
   "version": "3.8.6"
  },
  "toc": {
   "base_numbering": 1,
   "nav_menu": {},
   "number_sections": false,
   "sideBar": true,
   "skip_h1_title": false,
   "title_cell": "Table of Contents",
   "title_sidebar": "Contents",
   "toc_cell": true,
   "toc_position": {
    "height": "calc(100% - 180px)",
    "left": "10px",
    "top": "150px",
    "width": "382.188px"
   },
   "toc_section_display": true,
   "toc_window_display": false
  },
  "toc-autonumbering": false,
  "toc-showcode": false,
  "toc-showmarkdowntxt": false,
  "toc-showtags": false
 },
 "nbformat": 4,
 "nbformat_minor": 4
}
