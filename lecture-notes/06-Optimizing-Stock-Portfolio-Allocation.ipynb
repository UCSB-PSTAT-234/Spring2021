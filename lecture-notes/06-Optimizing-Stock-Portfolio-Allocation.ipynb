{
 "cells": [
  {
   "cell_type": "markdown",
   "metadata": {
    "slideshow": {
     "slide_type": "slide"
    }
   },
   "source": [
    "# Optimizing Stock Portfolio Allocation <a class='tocSkip'>\n",
    "\n",
    "## Sang-Yun Oh <a class='tocSkip'>"
   ]
  },
  {
   "cell_type": "markdown",
   "metadata": {
    "slideshow": {
     "slide_type": "slide"
    }
   },
   "source": [
    "## Installing Packages in Python\n",
    "\n",
    "* Default package source for `pip` command is Python Package Index (PyPI)  \n",
    "    e.g., https://pypi.org/project/yfinance/\n",
    "* Can also install from github repository: \n",
    "    https://pypi.org/project/yfinance/"
   ]
  },
  {
   "cell_type": "code",
   "execution_count": 1,
   "metadata": {
    "slideshow": {
     "slide_type": "skip"
    }
   },
   "outputs": [],
   "source": [
    "import pandas as pd\n",
    "import numpy as np\n",
    "import pickle\n",
    "import cvxpy"
   ]
  },
  {
   "cell_type": "markdown",
   "metadata": {
    "slideshow": {
     "slide_type": "slide"
    }
   },
   "source": [
    "## Introduction to Portfolio Theory\n",
    "\n",
    "### Stock Prices vs. Returns \n",
    "\n",
    "* Model stock returns as random variables\n",
    "* Returns depend on change in stock prices:  \n",
    "    $$ R_t = \\frac{P_t - P_{t-1}}{P_{t-1}} = \\frac{P_t}{P_{t-1}} - 1 $$"
   ]
  },
  {
   "cell_type": "markdown",
   "metadata": {
    "slideshow": {
     "slide_type": "fragment"
    }
   },
   "source": [
    "* Linear approximation of $\\log(1+x)\\approx x$ when $x$ is small. \n",
    "* Since daily stock returns are small,\n",
    "$$ R_t \\approx \\log(1 + R_t) = \\log\\left(\\frac{P_t}{P_{t-1}}\\right) = \\log(P_t) - \\log(P_{t-1})$$"
   ]
  },
  {
   "cell_type": "markdown",
   "metadata": {
    "slideshow": {
     "slide_type": "fragment"
    }
   },
   "source": [
    "* Compute the log-returns then difference of log prices (converting data)"
   ]
  },
  {
   "cell_type": "markdown",
   "metadata": {
    "slideshow": {
     "slide_type": "subslide"
    }
   },
   "source": [
    "### Modeling Stock Returns\n",
    "\n",
    "* In classical portfolio theory, stock returns are normally distributed\n",
    "* Daily returns of two stocks: $R_A$ and $R_B$ of two stocks $A$ and $B$\n",
    "* Jointly normally distributed: bivariate normal distribution: \n",
    "$$\\begin{aligned}\n",
    "\\begin{pmatrix}\n",
    "R_A\\\\ R_B\n",
    "\\end{pmatrix}\n",
    "\\sim\n",
    "N\\left(\n",
    "\\begin{pmatrix}\n",
    "\\mu_A\\\\ \\mu_B\n",
    "\\end{pmatrix},\n",
    "\\begin{pmatrix}\n",
    "\\sigma_A^2 & \\sigma_{AB}\\\\\n",
    "\\sigma_{AB} & \\sigma_B^2\n",
    "\\end{pmatrix}\n",
    "\\right)\n",
    "\\end{aligned}$$"
   ]
  },
  {
   "cell_type": "markdown",
   "metadata": {
    "slideshow": {
     "slide_type": "fragment"
    }
   },
   "source": [
    "* Marginal distributions: \n",
    "$$R_A \\sim N(\\mu_A,\\sigma_A^2) \\text{, and } R_B \\sim N(\\mu_B,\\sigma_B^2),$$\n",
    "* Covariance and correlation are\n",
    "$$\\sigma_\\text{AB} = \\text{Cov}(R_A,R_B) \\text{, and } \\rho_\\text{AB} = \\frac{\\sigma_\\text{AB}}{\\sigma_A\\sigma_B}$$"
   ]
  },
  {
   "cell_type": "markdown",
   "metadata": {
    "slideshow": {
     "slide_type": "subslide"
    }
   },
   "source": [
    "### Modeling Portfolio Returns\n",
    "\n",
    "* Two-stock portfolio: Return for the portfolio $R_p$ is \n",
    "$$R_p = R_A x_A + R_B x_B,$$\n",
    "* Allocations: $x_A$ and $x_B$ are proportions of stocks $A$ and $B$ such that  \n",
    "$$x_A + x_B = 1$$"
   ]
  },
  {
   "cell_type": "markdown",
   "metadata": {
    "slideshow": {
     "slide_type": "fragment"
    }
   },
   "source": [
    "* $R_p$ is also normally distributed with following mean and variance:\n",
    "$$\\begin{aligned}\n",
    "\\mu_p &= \\text{E}(R_p) \\\\\n",
    "    &= \\text{E}(R_B)\\, x_A + \\text{E}(R_B)\\, x_B\\\\\n",
    "    &= \\mu_A x_A + \\mu_B x_B\\\\\n",
    "\\sigma_p^2 &= \\text{Var}(R_p) \\\\\n",
    "    &= \\text{E}\\left((R_p - \\text{E}(R_p))^2\\right) \\\\\n",
    "    &= \\sigma_A^2\\,x_A^2 + \\sigma_B^2\\,x_B^2 + 2\\sigma_{AB}x_A x_B.\n",
    "\\end{aligned}\n",
    "$$\n",
    "Note that $\\sigma_{AB} = \\rho_{AB}\\sigma_A\\sigma_B$.\n",
    "* Distribution of the portfolio return is\n",
    "$$ R_p \\sim N(\\mu_p, \\sigma_p^2) $$"
   ]
  },
  {
   "cell_type": "markdown",
   "metadata": {
    "slideshow": {
     "slide_type": "subslide"
    }
   },
   "source": [
    "### Hedging Portfolio Risk\n",
    "\n",
    "* Mean return ($\\mu_p$): weighted average of returns\n",
    "* Risk ($\\sigma_p^2$):  Risk of $p$ can be decreased if $\\rho<0$\n",
    "* Hedge risk by having negatively correlated stocks"
   ]
  },
  {
   "cell_type": "markdown",
   "metadata": {
    "slideshow": {
     "slide_type": "subslide"
    }
   },
   "source": [
    "## Toy Example: Simulating $R_A$ and $R_B$\n",
    "\n",
    "* $R_A\\sim N(0.15, 0.1^2)$ and $R_B\\sim N(0.1, 0.05^2)$\n",
    "* Correlation: $\\rho_{AB} = -0.15$\n",
    "* Portfolio weight distributed evenly: i.e. $x_A = x_B = 0.5$"
   ]
  },
  {
   "cell_type": "code",
   "execution_count": 2,
   "metadata": {
    "slideshow": {
     "slide_type": "-"
    }
   },
   "outputs": [],
   "source": [
    "A = {'mu': 0.15, 'sig': 0.1,  'proportion': 0.5}\n",
    "B = {'mu': 0.1,  'sig': 0.05, 'proportion': 0.5}"
   ]
  },
  {
   "cell_type": "markdown",
   "metadata": {
    "slideshow": {
     "slide_type": "subslide"
    }
   },
   "source": [
    "### Generate random returns"
   ]
  },
  {
   "cell_type": "code",
   "execution_count": 3,
   "metadata": {
    "slideshow": {
     "slide_type": "-"
    }
   },
   "outputs": [],
   "source": [
    "def simulate_returns(A, B, correlation, size=100):\n",
    "    \n",
    "    from numpy import sqrt\n",
    "    from numpy.random import multivariate_normal\n",
    "    from pandas import DataFrame\n",
    "    \n",
    "    # what could go wrong with rounding errors?\n",
    "    assert(A['proportion'] + B['proportion'] == 1) \n",
    "\n",
    "    # construct bivariate normal random variable\n",
    "    mu = [A['mu'], B['mu']]\n",
    "    sigma = [[A['sig']**2, correlation*A['sig']*B['sig']],\n",
    "             [correlation*A['sig']*B['sig'], B['sig']**2]]\n",
    "    \n",
    "    # get random observations\n",
    "    R = multivariate_normal(mu, sigma, size)\n",
    "    Rp = R[:,0]*A['proportion'] + R[:,1]*B['proportion']\n",
    "    \n",
    "    # simulated returns\n",
    "    R = np.hstack((R, Rp.reshape((-1,1))))\n",
    "    \n",
    "    # theoretical properties of portfolio returns\n",
    "    p = {\n",
    "        'mu': A['mu']*A['proportion'] + B['mu']*B['proportion'],\n",
    "        'sig': sqrt(\n",
    "            A['sig']**2*A['proportion']**2 + B['sig']**2*B['proportion']**2 \n",
    "            + 2*correlation*A['sig']*B['sig']*A['proportion']*B['proportion'])\n",
    "        }\n",
    "    \n",
    "    return p, DataFrame(R, columns=['A', 'B', 'p'])"
   ]
  },
  {
   "cell_type": "markdown",
   "metadata": {
    "slideshow": {
     "slide_type": "subslide"
    }
   },
   "source": [
    "### Empirical Returns"
   ]
  },
  {
   "cell_type": "code",
   "execution_count": 4,
   "metadata": {
    "slideshow": {
     "slide_type": "-"
    }
   },
   "outputs": [
    {
     "name": "stdout",
     "output_type": "stream",
     "text": [
      "A: mean = 0.15, std = 0.1001\n",
      "B: mean = 0.10, std = 0.0502\n",
      "p: mean = 0.13, std = 0.0296\n",
      "cor(R_A, R_B) = -0.8996\n"
     ]
    }
   ],
   "source": [
    "A = {'mu': 0.15, 'sig': 0.1,  'proportion': 0.5}\n",
    "B = {'mu': 0.1,  'sig': 0.05, 'proportion': 0.5}\n",
    "\n",
    "p, R = simulate_returns(A, B, -0.9, 10000)\n",
    "\n",
    "print('A: mean = %1.2f, std = %1.4f' % (R.A.mean(), R.A.std()))\n",
    "print('B: mean = %1.2f, std = %1.4f' % (R.B.mean(), R.B.std()))\n",
    "print('p: mean = %1.2f, std = %1.4f' % (R.p.mean(), R.p.std()))\n",
    "\n",
    "print('cor(R_A, R_B) = %1.4f' % np.corrcoef(R.A, R.B)[1,0])"
   ]
  },
  {
   "cell_type": "markdown",
   "metadata": {
    "slideshow": {
     "slide_type": "slide"
    }
   },
   "source": [
    "### Empirical Portfolio Returns"
   ]
  },
  {
   "cell_type": "code",
   "execution_count": 5,
   "metadata": {
    "slideshow": {
     "slide_type": "subslide"
    }
   },
   "outputs": [
    {
     "data": {
      "image/png": "[encoded data removed]",
      "text/plain": [
       "<Figure size 720x720 with 4 Axes>"
      ]
     },
     "metadata": {
      "needs_background": "light"
     },
     "output_type": "display_data"
    }
   ],
   "source": [
    "p, R = simulate_returns(A, B, -0.5, 1000)\n",
    "pd.plotting.scatter_matrix(R.loc[:,['A','B']], figsize=(10,10));"
   ]
  },
  {
   "cell_type": "markdown",
   "metadata": {
    "slideshow": {
     "slide_type": "subslide"
    }
   },
   "source": [
    "### Theoretical returns\n",
    "\n",
    "Calculate the volatility ($\\sigma^2$) and expected returns ($\\mu$):"
   ]
  },
  {
   "cell_type": "code",
   "execution_count": 6,
   "metadata": {
    "slideshow": {
     "slide_type": "-"
    }
   },
   "outputs": [
    {
     "name": "stdout",
     "output_type": "stream",
     "text": [
      "A: mean = 0.15, std = 0.1000\n",
      "B: mean = 0.10, std = 0.0500\n",
      "p: mean = 0.12, std = 0.0433\n"
     ]
    }
   ],
   "source": [
    "print('A: mean = %1.2f, std = %1.4f' % (A['mu'], A['sig']))\n",
    "print('B: mean = %1.2f, std = %1.4f' % (B['mu'], B['sig']))\n",
    "print('p: mean = %1.2f, std = %1.4f' % (p['mu'], p['sig']))"
   ]
  },
  {
   "cell_type": "markdown",
   "metadata": {
    "slideshow": {
     "slide_type": "subslide"
    }
   },
   "source": [
    "### Independent Portfolio Theoretical returns\n",
    "\n",
    "If stocks A and B were independent"
   ]
  },
  {
   "cell_type": "code",
   "execution_count": 7,
   "metadata": {
    "slideshow": {
     "slide_type": "-"
    }
   },
   "outputs": [
    {
     "name": "stdout",
     "output_type": "stream",
     "text": [
      "A: mean = 0.15, std = 0.1000\n",
      "B: mean = 0.10, std = 0.0500\n",
      "\n",
      "p: mean = 0.12, std = 0.0296 (if A and B are correlated )\n",
      "p: mean = 0.12, std = 0.0559 (if A and B are independent)\n"
     ]
    }
   ],
   "source": [
    "p, R = simulate_returns(A, B, -0.9, 10000)\n",
    "print('A: mean = %1.2f, std = %1.4f' % (A['mu'], A['sig']))\n",
    "print('B: mean = %1.2f, std = %1.4f' % (B['mu'], B['sig']))\n",
    "print('')\n",
    "print('p: mean = %1.2f, std = %1.4f (if A and B are correlated )' % (p['mu'], p['sig']))\n",
    "print('p: mean = %1.2f, std = %1.4f (if A and B are independent)' % (p['mu'], np.sqrt(0.5**2*A['sig']**2 + 0.5**2*B['sig']**2)))"
   ]
  },
  {
   "cell_type": "markdown",
   "metadata": {
    "slideshow": {
     "slide_type": "subslide"
    }
   },
   "source": [
    "#### Empirical (Data) Properties "
   ]
  },
  {
   "cell_type": "code",
   "execution_count": 8,
   "metadata": {
    "slideshow": {
     "slide_type": "-"
    }
   },
   "outputs": [
    {
     "name": "stdout",
     "output_type": "stream",
     "text": [
      "A: mean = 0.15, std = 0.1003\n",
      "B: mean = 0.10, std = 0.0497\n",
      "p: mean = 0.13, std = 0.0297\n",
      "corr(A, B) = -0.9022\n"
     ]
    }
   ],
   "source": [
    "print('A: mean = %1.2f, std = %1.4f' % (R.A.mean(), R.A.std()))\n",
    "print('B: mean = %1.2f, std = %1.4f' % (R.B.mean(), R.B.std()))\n",
    "print('p: mean = %1.2f, std = %1.4f' % (R.p.mean(), R.p.std()))\n",
    "print('corr(A, B) = %1.4f' % np.corrcoef(R.A, R.B)[0,1])"
   ]
  },
  {
   "cell_type": "markdown",
   "metadata": {
    "slideshow": {
     "slide_type": "subslide"
    }
   },
   "source": [
    "### Efficient frontier of portfolios\n",
    "\n",
    "* Consider all values of $x_A$ and $x_B$\n",
    "\n",
    "* For each combination, compute $\\mu_p$ and $\\sigma_p^2$."
   ]
  },
  {
   "cell_type": "code",
   "execution_count": 9,
   "metadata": {
    "slideshow": {
     "slide_type": "skip"
    }
   },
   "outputs": [],
   "source": [
    "xa = np.linspace(-1, 2, num=101)\n",
    "pf = pd.DataFrame({'xa':xa, 'xb':1-xa})\n",
    "\n",
    "# pf, R = simulate_returns(A, B, -0.5, 10000)\n",
    "\n",
    "corr = -0.5\n",
    "pf['mu'] = A['mu'] * pf.xa + B['mu'] * pf.xb\n",
    "pf['sig2'] = ((A['sig']**2 * pf.xa**2) + (B['sig']**2 * pf.xb**2) + (2 * corr * A['sig'] * B['sig'] * pf.xa * pf.xb))"
   ]
  },
  {
   "cell_type": "code",
   "execution_count": 10,
   "metadata": {
    "hideCode": true,
    "slideshow": {
     "slide_type": "-"
    }
   },
   "outputs": [
    {
     "data": {
      "image/png": "[encoded data removed]",
      "text/plain": [
       "<Figure size 936x576 with 1 Axes>"
      ]
     },
     "metadata": {
      "needs_background": "light"
     },
     "output_type": "display_data"
    }
   ],
   "source": [
    "%matplotlib inline\n",
    "import matplotlib.pyplot as plt\n",
    "fig, ax = plt.subplots(figsize=(13, 8))\n",
    "plt.plot(pf.sig2, pf.mu, color='b')\n",
    "plt.plot(pf.sig2[pf.xa<0], pf.mu[pf.xa<0], color='r') # sell stock A to fund purchase of stock B\n",
    "plt.plot(pf.sig2[pf.xb<0], pf.mu[pf.xb<0], color='g') # sell stock B to fund purchase of stock A\n",
    "plt.scatter([A['sig']**2, B['sig']**2], [A['mu'], B['mu']])\n",
    "ax.set_xlabel('Portfolio volatility')\n",
    "ax.set_ylabel('Portfolio return')\n",
    "plt.show(p)"
   ]
  },
  {
   "cell_type": "markdown",
   "metadata": {
    "slideshow": {
     "slide_type": "subslide"
    }
   },
   "source": [
    "* Line is called efficient frontier\n",
    "* Represents the lower boundary of achievable volatility\n",
    "* Return and volatility of $A$ and $B$"
   ]
  },
  {
   "cell_type": "markdown",
   "metadata": {
    "slideshow": {
     "slide_type": "slide"
    }
   },
   "source": [
    "#### Long and short positions\n",
    "\n",
    "* Note that `xa` can be negative\n",
    "* Positive $x_A$ : _long position_ for stock A and indicates a purchase\n",
    "* Negative $x_A$ : _short position_ stock A and indicates a sale\n",
    "* _You are selling stocks that you do not own with the expectation that the price of the stock will fall_\n",
    "* Shorting allows for higher long positions on other stocks."
   ]
  },
  {
   "cell_type": "markdown",
   "metadata": {
    "slideshow": {
     "slide_type": "subslide"
    }
   },
   "source": [
    "#### Minimum variance portfolio (MVP)\n",
    "\n",
    "What is the point at the tip of the parabola? This point indicates what is called the minimum variance portfolio that, regardless of the return, has the minimum volatility. Minimum variance portfolio (MVP) has the minimum volatility of any portfolio achievable.\n",
    "\n",
    "It can be shown that minimum variance portfolio would have the following allocation $x_A$:\n",
    "\n",
    "$$x_A = \\frac{\\sigma_B^2-\\sigma_\\text{AB}^2}{\\sigma_A^2 + \\sigma_B^2 – \\sigma_\\text{AB}^2}$$"
   ]
  },
  {
   "cell_type": "markdown",
   "metadata": {
    "slideshow": {
     "slide_type": "slide"
    }
   },
   "source": [
    "The mathematical problem to solve for the minimum variance portfolio can be stated as follows:\n",
    "$$ \\min_{x_A,x_B}\\ \\ \\sigma_p^2 = \\sigma_A^2 x_A^2 + \\sigma_B^2 x_B^2 + \\sigma_{AB} x_A x_B\\\\\n",
    "\\text{such that }x_A + x_B = 1$$\n",
    "Here, $\\sigma_p^2 = \\sigma_A^2 x_A^2 + \\sigma_B^2 x_B^2 + \\sigma_{AB} x_A x_B$ is called the objective function, and $x_A + x_B = 1$ is called the constraint.\n",
    "\n",
    "The constraint has to be satisfied exactly, and objective wants to be minimized with the freedom of changing the values of $x_A$ and $x_B$."
   ]
  },
  {
   "cell_type": "markdown",
   "metadata": {
    "slideshow": {
     "slide_type": "subslide"
    }
   },
   "source": [
    "### Using `cvxpy` for numerical optimization\n",
    "\n",
    "Calculating analytical solutions is not always possible. There are ways to compute solutions numerically. Although out of scope of our class, a large field in applied math called optimization. The tools from this area allow us to compute solutions for problems such as the one we have here. (For more information, visit the "
   ]
  },
  {
   "cell_type": "markdown",
   "metadata": {
    "slideshow": {
     "slide_type": "subslide"
    }
   },
   "source": [
    "### Higher dimensional portfolios\n",
    "\n",
    "In higher dimensions, the portfolio equantion is written in terms of vectors and matrices. For example, suppose we construct a portfolio consisting of $s$-assets. The portfolio allocation can be written as,\n",
    "$$\\mathbf{1}^\\intercal x = 1,$$\n",
    "where $x$ is an $s$-vector whose sum adds up to 1: i.e., $x_1 + x_2 + \\cdots + x_s = 1$.\n",
    "\n",
    "The portfolio volatility in matrix-vector form looks like:\n",
    "$$\n",
    "\\begin{pmatrix}x_1 & x_2 & \\cdots & x_s\\end{pmatrix}\n",
    "\\begin{pmatrix}\n",
    "\\sigma_1^2 & \\sigma_{12} & \\cdots & \\sigma_{1s}\\\\\n",
    "\\sigma_{21} & \\sigma_2^2 & \\cdots & \\sigma_{2s}\\\\\n",
    "\\vdots & \\vdots & & \\vdots \\\\\n",
    "\\sigma_{s1} & \\sigma_{s2} & \\cdots & \\sigma_s^2\\\\\n",
    "\\end{pmatrix}\n",
    "\\begin{pmatrix}x_1 \\\\ x_2 \\\\ \\vdots \\\\ x_s\\end{pmatrix}.\n",
    "$$\n",
    "To verify the two stock example result, we check $\\sigma_p^2$:\n",
    "$$\n",
    "\\sigma_p^2 = \\begin{pmatrix}x_1 & x_2\\end{pmatrix}\n",
    "\\begin{pmatrix}\n",
    "\\sigma_1^2 & \\sigma_{12}\\\\\n",
    "\\sigma_{21} & \\sigma_2^2\\\\\n",
    "\\end{pmatrix}\n",
    "\\begin{pmatrix}x_1 \\\\ x_2\\end{pmatrix} = \n",
    "\\begin{pmatrix}x_1 & x_2\\end{pmatrix}\n",
    "\\begin{pmatrix}\n",
    "\\sigma_1^2 x_1 + \\sigma_{12} x_2\\\\\n",
    "\\sigma_{21} x_1 + \\sigma_2^2 x_2\\\\\n",
    "\\end{pmatrix} = \n",
    "\\sigma_1^2 x_1^2 + \\sigma_2^2 x_2^2 + \\sigma_{12} x_1 x_2,\n",
    "$$\n",
    "which matches the result from before.\n",
    "\n",
    "With this notation, we can re-write the problem.\n",
    "\n",
    "$$ \\min_{x\\in\\mathbb{R}^s}\\ \\ x^\\intercal \\Sigma x\\\\\n",
    "\\text{subject to }\\mathbf{1}^\\intercal x = 1,$$\n",
    "\n",
    "It can be shown that the optimal solution to this problem is,\n",
    "$$ x^* = (\\mathbf{1}^\\intercal\\Sigma^{-1}\\mathbf{1})^{-1}\\Sigma^{-1}\\mathbf{1} $$."
   ]
  },
  {
   "cell_type": "markdown",
   "metadata": {
    "slideshow": {
     "slide_type": "subslide"
    }
   },
   "source": [
    "There are many variations of this problem. In fact the minimum variance portfolio is special case of a more general problem\n",
    "\n",
    "$$ \\min_{x\\in\\mathbb{R}^s}\\ \\ x^\\intercal \\Sigma x\\\\\n",
    "\\text{subject to }\\mu^\\intercal x\\geq \\mu^* \\text{, and } \\mathbf{1}^\\intercal x = 1,$$\n",
    "\n",
    "Note that in all of the above problems, the measure of $\\mu^*$, expected returns, and covariance matrix have to be provided. In practice, these quantities are estimated from data."
   ]
  },
  {
   "cell_type": "markdown",
   "metadata": {
    "slideshow": {
     "slide_type": "slide"
    }
   },
   "source": [
    "## Portfolio Allocation: Dow Jones component stocks\n",
    "\n",
    "Stock data can have irregularities such as missing data due stocks being added and removed from the index. Some examples are\n",
    "* Alcoa Corp. (AA) was removed in 2013\n",
    "* Apple (AAPL) was added in 2015\n",
    "* E.I. du Pont de Nemours & Company (DD) was removed and replaced with Dow du Pont (DWDP) as a continuation in 2017\n",
    "\n",
    "For simplicity the stocks we will use are based on the most recent DJIA constituent companies "
   ]
  },
  {
   "cell_type": "code",
   "execution_count": 11,
   "metadata": {
    "slideshow": {
     "slide_type": "subslide"
    }
   },
   "outputs": [
    {
     "name": "stdout",
     "output_type": "stream",
     "text": [
      "[*********************100%***********************]  29 of 29 completed\n"
     ]
    },
    {
     "data": {
      "text/html": [
       "<div>\n",
       "<style scoped>\n",
       "    .dataframe tbody tr th:only-of-type {\n",
       "        vertical-align: middle;\n",
       "    }\n",
       "\n",
       "    .dataframe tbody tr th {\n",
       "        vertical-align: top;\n",
       "    }\n",
       "\n",
       "    .dataframe thead tr th {\n",
       "        text-align: left;\n",
       "    }\n",
       "\n",
       "    .dataframe thead tr:last-of-type th {\n",
       "        text-align: right;\n",
       "    }\n",
       "</style>\n",
       "<table border=\"1\" class=\"dataframe\">\n",
       "  <thead>\n",
       "    <tr>\n",
       "      <th></th>\n",
       "      <th colspan=\"10\" halign=\"left\">Adj Close</th>\n",
       "      <th>...</th>\n",
       "      <th colspan=\"10\" halign=\"left\">Volume</th>\n",
       "    </tr>\n",
       "    <tr>\n",
       "      <th></th>\n",
       "      <th>AAPL</th>\n",
       "      <th>AXP</th>\n",
       "      <th>BA</th>\n",
       "      <th>BAC</th>\n",
       "      <th>CAT</th>\n",
       "      <th>CSCO</th>\n",
       "      <th>CVX</th>\n",
       "      <th>DD</th>\n",
       "      <th>DIS</th>\n",
       "      <th>GE</th>\n",
       "      <th>...</th>\n",
       "      <th>MRK</th>\n",
       "      <th>MSFT</th>\n",
       "      <th>PFE</th>\n",
       "      <th>PG</th>\n",
       "      <th>RTX</th>\n",
       "      <th>T</th>\n",
       "      <th>TRV</th>\n",
       "      <th>VZ</th>\n",
       "      <th>WMT</th>\n",
       "      <th>XOM</th>\n",
       "    </tr>\n",
       "    <tr>\n",
       "      <th>Date</th>\n",
       "      <th></th>\n",
       "      <th></th>\n",
       "      <th></th>\n",
       "      <th></th>\n",
       "      <th></th>\n",
       "      <th></th>\n",
       "      <th></th>\n",
       "      <th></th>\n",
       "      <th></th>\n",
       "      <th></th>\n",
       "      <th></th>\n",
       "      <th></th>\n",
       "      <th></th>\n",
       "      <th></th>\n",
       "      <th></th>\n",
       "      <th></th>\n",
       "      <th></th>\n",
       "      <th></th>\n",
       "      <th></th>\n",
       "      <th></th>\n",
       "      <th></th>\n",
       "    </tr>\n",
       "  </thead>\n",
       "  <tbody>\n",
       "    <tr>\n",
       "      <th>1999-12-31</th>\n",
       "      <td>NaN</td>\n",
       "      <td>NaN</td>\n",
       "      <td>NaN</td>\n",
       "      <td>NaN</td>\n",
       "      <td>NaN</td>\n",
       "      <td>NaN</td>\n",
       "      <td>NaN</td>\n",
       "      <td>NaN</td>\n",
       "      <td>NaN</td>\n",
       "      <td>NaN</td>\n",
       "      <td>...</td>\n",
       "      <td>NaN</td>\n",
       "      <td>NaN</td>\n",
       "      <td>NaN</td>\n",
       "      <td>NaN</td>\n",
       "      <td>NaN</td>\n",
       "      <td>NaN</td>\n",
       "      <td>NaN</td>\n",
       "      <td>NaN</td>\n",
       "      <td>NaN</td>\n",
       "      <td>NaN</td>\n",
       "    </tr>\n",
       "    <tr>\n",
       "      <th>2000-01-03</th>\n",
       "      <td>0.860883</td>\n",
       "      <td>34.160576</td>\n",
       "      <td>25.940277</td>\n",
       "      <td>13.952057</td>\n",
       "      <td>13.693107</td>\n",
       "      <td>40.118656</td>\n",
       "      <td>19.360474</td>\n",
       "      <td>30.896286</td>\n",
       "      <td>23.115248</td>\n",
       "      <td>26.585829</td>\n",
       "      <td>...</td>\n",
       "      <td>5978800.0</td>\n",
       "      <td>53228400.0</td>\n",
       "      <td>12873345.0</td>\n",
       "      <td>4275000.0</td>\n",
       "      <td>3401096.0</td>\n",
       "      <td>5791900.0</td>\n",
       "      <td>336400.0</td>\n",
       "      <td>4663843.0</td>\n",
       "      <td>8369900.0</td>\n",
       "      <td>13458200.0</td>\n",
       "    </tr>\n",
       "    <tr>\n",
       "      <th>2000-01-04</th>\n",
       "      <td>0.788302</td>\n",
       "      <td>32.870731</td>\n",
       "      <td>25.899939</td>\n",
       "      <td>13.123939</td>\n",
       "      <td>13.517111</td>\n",
       "      <td>37.867947</td>\n",
       "      <td>19.360474</td>\n",
       "      <td>30.051819</td>\n",
       "      <td>24.469286</td>\n",
       "      <td>25.522396</td>\n",
       "      <td>...</td>\n",
       "      <td>7533100.0</td>\n",
       "      <td>54119000.0</td>\n",
       "      <td>14208974.0</td>\n",
       "      <td>4270800.0</td>\n",
       "      <td>5350163.0</td>\n",
       "      <td>7173600.0</td>\n",
       "      <td>494400.0</td>\n",
       "      <td>5005878.0</td>\n",
       "      <td>6745100.0</td>\n",
       "      <td>14510800.0</td>\n",
       "    </tr>\n",
       "    <tr>\n",
       "      <th>2000-01-05</th>\n",
       "      <td>0.799837</td>\n",
       "      <td>32.035824</td>\n",
       "      <td>27.513651</td>\n",
       "      <td>13.267960</td>\n",
       "      <td>13.833909</td>\n",
       "      <td>37.751926</td>\n",
       "      <td>19.707745</td>\n",
       "      <td>31.027334</td>\n",
       "      <td>25.484806</td>\n",
       "      <td>25.478096</td>\n",
       "      <td>...</td>\n",
       "      <td>7598300.0</td>\n",
       "      <td>64059600.0</td>\n",
       "      <td>12981591.0</td>\n",
       "      <td>5098400.0</td>\n",
       "      <td>6204409.0</td>\n",
       "      <td>9090000.0</td>\n",
       "      <td>736000.0</td>\n",
       "      <td>6368681.0</td>\n",
       "      <td>7018700.0</td>\n",
       "      <td>17485000.0</td>\n",
       "    </tr>\n",
       "    <tr>\n",
       "      <th>2000-01-06</th>\n",
       "      <td>0.730621</td>\n",
       "      <td>32.688519</td>\n",
       "      <td>27.796043</td>\n",
       "      <td>14.402134</td>\n",
       "      <td>14.537927</td>\n",
       "      <td>37.125427</td>\n",
       "      <td>20.546988</td>\n",
       "      <td>31.900925</td>\n",
       "      <td>24.469286</td>\n",
       "      <td>25.818716</td>\n",
       "      <td>...</td>\n",
       "      <td>4760500.0</td>\n",
       "      <td>54976600.0</td>\n",
       "      <td>11115273.0</td>\n",
       "      <td>6524200.0</td>\n",
       "      <td>9770125.0</td>\n",
       "      <td>7153600.0</td>\n",
       "      <td>660400.0</td>\n",
       "      <td>4705763.0</td>\n",
       "      <td>6544500.0</td>\n",
       "      <td>19461600.0</td>\n",
       "    </tr>\n",
       "  </tbody>\n",
       "</table>\n",
       "<p>5 rows × 174 columns</p>\n",
       "</div>"
      ],
      "text/plain": [
       "           Adj Close                                                         \\\n",
       "                AAPL        AXP         BA        BAC        CAT       CSCO   \n",
       "Date                                                                          \n",
       "1999-12-31       NaN        NaN        NaN        NaN        NaN        NaN   \n",
       "2000-01-03  0.860883  34.160576  25.940277  13.952057  13.693107  40.118656   \n",
       "2000-01-04  0.788302  32.870731  25.899939  13.123939  13.517111  37.867947   \n",
       "2000-01-05  0.799837  32.035824  27.513651  13.267960  13.833909  37.751926   \n",
       "2000-01-06  0.730621  32.688519  27.796043  14.402134  14.537927  37.125427   \n",
       "\n",
       "                                                        ...     Volume  \\\n",
       "                  CVX         DD        DIS         GE  ...        MRK   \n",
       "Date                                                    ...              \n",
       "1999-12-31        NaN        NaN        NaN        NaN  ...        NaN   \n",
       "2000-01-03  19.360474  30.896286  23.115248  26.585829  ...  5978800.0   \n",
       "2000-01-04  19.360474  30.051819  24.469286  25.522396  ...  7533100.0   \n",
       "2000-01-05  19.707745  31.027334  25.484806  25.478096  ...  7598300.0   \n",
       "2000-01-06  20.546988  31.900925  24.469286  25.818716  ...  4760500.0   \n",
       "\n",
       "                                                                               \\\n",
       "                  MSFT         PFE         PG        RTX          T       TRV   \n",
       "Date                                                                            \n",
       "1999-12-31         NaN         NaN        NaN        NaN        NaN       NaN   \n",
       "2000-01-03  53228400.0  12873345.0  4275000.0  3401096.0  5791900.0  336400.0   \n",
       "2000-01-04  54119000.0  14208974.0  4270800.0  5350163.0  7173600.0  494400.0   \n",
       "2000-01-05  64059600.0  12981591.0  5098400.0  6204409.0  9090000.0  736000.0   \n",
       "2000-01-06  54976600.0  11115273.0  6524200.0  9770125.0  7153600.0  660400.0   \n",
       "\n",
       "                                              \n",
       "                   VZ        WMT         XOM  \n",
       "Date                                          \n",
       "1999-12-31        NaN        NaN         NaN  \n",
       "2000-01-03  4663843.0  8369900.0  13458200.0  \n",
       "2000-01-04  5005878.0  6745100.0  14510800.0  \n",
       "2000-01-05  6368681.0  7018700.0  17485000.0  \n",
       "2000-01-06  4705763.0  6544500.0  19461600.0  \n",
       "\n",
       "[5 rows x 174 columns]"
      ]
     },
     "execution_count": 11,
     "metadata": {},
     "output_type": "execute_result"
    }
   ],
   "source": [
    "dowjones_tickers = [\n",
    "    'AAPL','AXP','BA','BAC','CAT',\n",
    "    'CSCO','CVX','DD','DIS','GE',\n",
    "    'HD','HPQ','IBM','INTC','JNJ',\n",
    "    'JPM','KO','MCD','MMM',\n",
    "    'MRK','MSFT','PFE','PG','T',\n",
    "    'TRV','RTX','VZ','WMT','XOM'\n",
    "]\n",
    "\n",
    "import yfinance as yf\n",
    "\n",
    "rawdata = yf.download(dowjones_tickers, start=\"2000-01-01\", end=\"2020-05-10\")\n",
    "rawdata.head()"
   ]
  },
  {
   "cell_type": "code",
   "execution_count": 12,
   "metadata": {},
   "outputs": [],
   "source": [
    "dowjones = yf.Tickers(dowjones_tickers)\n",
    "symbols = [{'symbol':one, 'name':dowjones.tickers[one].info['shortName']} for one in dowjones.symbols]\n",
    "symbols = pd.DataFrame(symbols).set_index('symbol')"
   ]
  },
  {
   "cell_type": "code",
   "execution_count": 13,
   "metadata": {},
   "outputs": [
    {
     "data": {
      "text/html": [
       "<div>\n",
       "<style scoped>\n",
       "    .dataframe tbody tr th:only-of-type {\n",
       "        vertical-align: middle;\n",
       "    }\n",
       "\n",
       "    .dataframe tbody tr th {\n",
       "        vertical-align: top;\n",
       "    }\n",
       "\n",
       "    .dataframe thead th {\n",
       "        text-align: right;\n",
       "    }\n",
       "</style>\n",
       "<table border=\"1\" class=\"dataframe\">\n",
       "  <thead>\n",
       "    <tr style=\"text-align: right;\">\n",
       "      <th></th>\n",
       "      <th>name</th>\n",
       "    </tr>\n",
       "    <tr>\n",
       "      <th>symbol</th>\n",
       "      <th></th>\n",
       "    </tr>\n",
       "  </thead>\n",
       "  <tbody>\n",
       "    <tr>\n",
       "      <th>AAPL</th>\n",
       "      <td>Apple Inc.</td>\n",
       "    </tr>\n",
       "    <tr>\n",
       "      <th>AXP</th>\n",
       "      <td>American Express Company</td>\n",
       "    </tr>\n",
       "    <tr>\n",
       "      <th>BA</th>\n",
       "      <td>Boeing Company (The)</td>\n",
       "    </tr>\n",
       "    <tr>\n",
       "      <th>BAC</th>\n",
       "      <td>Bank of America Corporation</td>\n",
       "    </tr>\n",
       "    <tr>\n",
       "      <th>CAT</th>\n",
       "      <td>Caterpillar, Inc.</td>\n",
       "    </tr>\n",
       "    <tr>\n",
       "      <th>CSCO</th>\n",
       "      <td>Cisco Systems, Inc.</td>\n",
       "    </tr>\n",
       "    <tr>\n",
       "      <th>CVX</th>\n",
       "      <td>Chevron Corporation</td>\n",
       "    </tr>\n",
       "    <tr>\n",
       "      <th>DD</th>\n",
       "      <td>DuPont de Nemours, Inc.</td>\n",
       "    </tr>\n",
       "    <tr>\n",
       "      <th>DIS</th>\n",
       "      <td>Walt Disney Company (The)</td>\n",
       "    </tr>\n",
       "    <tr>\n",
       "      <th>GE</th>\n",
       "      <td>General Electric Company</td>\n",
       "    </tr>\n",
       "    <tr>\n",
       "      <th>HD</th>\n",
       "      <td>Home Depot, Inc. (The)</td>\n",
       "    </tr>\n",
       "    <tr>\n",
       "      <th>HPQ</th>\n",
       "      <td>HP Inc.</td>\n",
       "    </tr>\n",
       "    <tr>\n",
       "      <th>IBM</th>\n",
       "      <td>International Business Machines</td>\n",
       "    </tr>\n",
       "    <tr>\n",
       "      <th>INTC</th>\n",
       "      <td>Intel Corporation</td>\n",
       "    </tr>\n",
       "    <tr>\n",
       "      <th>JNJ</th>\n",
       "      <td>Johnson &amp; Johnson</td>\n",
       "    </tr>\n",
       "    <tr>\n",
       "      <th>JPM</th>\n",
       "      <td>JP Morgan Chase &amp; Co.</td>\n",
       "    </tr>\n",
       "    <tr>\n",
       "      <th>KO</th>\n",
       "      <td>Coca-Cola Company (The)</td>\n",
       "    </tr>\n",
       "    <tr>\n",
       "      <th>MCD</th>\n",
       "      <td>McDonald's Corporation</td>\n",
       "    </tr>\n",
       "    <tr>\n",
       "      <th>MMM</th>\n",
       "      <td>3M Company</td>\n",
       "    </tr>\n",
       "    <tr>\n",
       "      <th>MRK</th>\n",
       "      <td>Merck &amp; Company, Inc.</td>\n",
       "    </tr>\n",
       "    <tr>\n",
       "      <th>MSFT</th>\n",
       "      <td>Microsoft Corporation</td>\n",
       "    </tr>\n",
       "    <tr>\n",
       "      <th>PFE</th>\n",
       "      <td>Pfizer, Inc.</td>\n",
       "    </tr>\n",
       "    <tr>\n",
       "      <th>PG</th>\n",
       "      <td>Procter &amp; Gamble Company (The)</td>\n",
       "    </tr>\n",
       "    <tr>\n",
       "      <th>T</th>\n",
       "      <td>AT&amp;T Inc.</td>\n",
       "    </tr>\n",
       "    <tr>\n",
       "      <th>TRV</th>\n",
       "      <td>The Travelers Companies, Inc.</td>\n",
       "    </tr>\n",
       "    <tr>\n",
       "      <th>RTX</th>\n",
       "      <td>Raytheon Technologies Corporati</td>\n",
       "    </tr>\n",
       "    <tr>\n",
       "      <th>VZ</th>\n",
       "      <td>Verizon Communications Inc.</td>\n",
       "    </tr>\n",
       "    <tr>\n",
       "      <th>WMT</th>\n",
       "      <td>Walmart Inc.</td>\n",
       "    </tr>\n",
       "    <tr>\n",
       "      <th>XOM</th>\n",
       "      <td>Exxon Mobil Corporation</td>\n",
       "    </tr>\n",
       "  </tbody>\n",
       "</table>\n",
       "</div>"
      ],
      "text/plain": [
       "                                   name\n",
       "symbol                                 \n",
       "AAPL                         Apple Inc.\n",
       "AXP            American Express Company\n",
       "BA                 Boeing Company (The)\n",
       "BAC         Bank of America Corporation\n",
       "CAT                   Caterpillar, Inc.\n",
       "CSCO                Cisco Systems, Inc.\n",
       "CVX                 Chevron Corporation\n",
       "DD              DuPont de Nemours, Inc.\n",
       "DIS           Walt Disney Company (The)\n",
       "GE             General Electric Company\n",
       "HD               Home Depot, Inc. (The)\n",
       "HPQ                             HP Inc.\n",
       "IBM     International Business Machines\n",
       "INTC                  Intel Corporation\n",
       "JNJ                   Johnson & Johnson\n",
       "JPM               JP Morgan Chase & Co.\n",
       "KO              Coca-Cola Company (The)\n",
       "MCD              McDonald's Corporation\n",
       "MMM                          3M Company\n",
       "MRK               Merck & Company, Inc.\n",
       "MSFT              Microsoft Corporation\n",
       "PFE                        Pfizer, Inc.\n",
       "PG       Procter & Gamble Company (The)\n",
       "T                             AT&T Inc.\n",
       "TRV       The Travelers Companies, Inc.\n",
       "RTX     Raytheon Technologies Corporati\n",
       "VZ          Verizon Communications Inc.\n",
       "WMT                        Walmart Inc.\n",
       "XOM             Exxon Mobil Corporation"
      ]
     },
     "execution_count": 13,
     "metadata": {},
     "output_type": "execute_result"
    }
   ],
   "source": [
    "symbols"
   ]
  },
  {
   "cell_type": "markdown",
   "metadata": {
    "slideshow": {
     "slide_type": "subslide"
    }
   },
   "source": [
    "## Data Format\n",
    "\n",
    "### Hierarchical Indexing\n",
    "\n",
    "* Column indexing is hierarchical\n",
    "* Adjusted close, close, high, low, open, and volume are given for each stock symbol"
   ]
  },
  {
   "cell_type": "code",
   "execution_count": 14,
   "metadata": {
    "slideshow": {
     "slide_type": "-"
    }
   },
   "outputs": [
    {
     "data": {
      "text/plain": [
       "FrozenList([['Adj Close', 'Close', 'High', 'Low', 'Open', 'Volume'], ['AAPL', 'AXP', 'BA', 'BAC', 'CAT', 'CSCO', 'CVX', 'DD', 'DIS', 'GE', 'HD', 'HPQ', 'IBM', 'INTC', 'JNJ', 'JPM', 'KO', 'MCD', 'MMM', 'MRK', 'MSFT', 'PFE', 'PG', 'RTX', 'T', 'TRV', 'VZ', 'WMT', 'XOM']])"
      ]
     },
     "execution_count": 14,
     "metadata": {},
     "output_type": "execute_result"
    }
   ],
   "source": [
    "rawdata.columns.levels"
   ]
  },
  {
   "cell_type": "markdown",
   "metadata": {
    "slideshow": {
     "slide_type": "subslide"
    }
   },
   "source": [
    "* Column levels can be named:"
   ]
  },
  {
   "cell_type": "code",
   "execution_count": 15,
   "metadata": {
    "slideshow": {
     "slide_type": "-"
    }
   },
   "outputs": [
    {
     "data": {
      "text/html": [
       "<div>\n",
       "<style scoped>\n",
       "    .dataframe tbody tr th:only-of-type {\n",
       "        vertical-align: middle;\n",
       "    }\n",
       "\n",
       "    .dataframe tbody tr th {\n",
       "        vertical-align: top;\n",
       "    }\n",
       "\n",
       "    .dataframe thead tr th {\n",
       "        text-align: left;\n",
       "    }\n",
       "\n",
       "    .dataframe thead tr:last-of-type th {\n",
       "        text-align: right;\n",
       "    }\n",
       "</style>\n",
       "<table border=\"1\" class=\"dataframe\">\n",
       "  <thead>\n",
       "    <tr>\n",
       "      <th>Value</th>\n",
       "      <th colspan=\"10\" halign=\"left\">Adj Close</th>\n",
       "      <th>...</th>\n",
       "      <th colspan=\"10\" halign=\"left\">Volume</th>\n",
       "    </tr>\n",
       "    <tr>\n",
       "      <th>Symbol</th>\n",
       "      <th>AAPL</th>\n",
       "      <th>AXP</th>\n",
       "      <th>BA</th>\n",
       "      <th>BAC</th>\n",
       "      <th>CAT</th>\n",
       "      <th>CSCO</th>\n",
       "      <th>CVX</th>\n",
       "      <th>DD</th>\n",
       "      <th>DIS</th>\n",
       "      <th>GE</th>\n",
       "      <th>...</th>\n",
       "      <th>MRK</th>\n",
       "      <th>MSFT</th>\n",
       "      <th>PFE</th>\n",
       "      <th>PG</th>\n",
       "      <th>RTX</th>\n",
       "      <th>T</th>\n",
       "      <th>TRV</th>\n",
       "      <th>VZ</th>\n",
       "      <th>WMT</th>\n",
       "      <th>XOM</th>\n",
       "    </tr>\n",
       "    <tr>\n",
       "      <th>Date</th>\n",
       "      <th></th>\n",
       "      <th></th>\n",
       "      <th></th>\n",
       "      <th></th>\n",
       "      <th></th>\n",
       "      <th></th>\n",
       "      <th></th>\n",
       "      <th></th>\n",
       "      <th></th>\n",
       "      <th></th>\n",
       "      <th></th>\n",
       "      <th></th>\n",
       "      <th></th>\n",
       "      <th></th>\n",
       "      <th></th>\n",
       "      <th></th>\n",
       "      <th></th>\n",
       "      <th></th>\n",
       "      <th></th>\n",
       "      <th></th>\n",
       "      <th></th>\n",
       "    </tr>\n",
       "  </thead>\n",
       "  <tbody>\n",
       "    <tr>\n",
       "      <th>1999-12-31</th>\n",
       "      <td>NaN</td>\n",
       "      <td>NaN</td>\n",
       "      <td>NaN</td>\n",
       "      <td>NaN</td>\n",
       "      <td>NaN</td>\n",
       "      <td>NaN</td>\n",
       "      <td>NaN</td>\n",
       "      <td>NaN</td>\n",
       "      <td>NaN</td>\n",
       "      <td>NaN</td>\n",
       "      <td>...</td>\n",
       "      <td>NaN</td>\n",
       "      <td>NaN</td>\n",
       "      <td>NaN</td>\n",
       "      <td>NaN</td>\n",
       "      <td>NaN</td>\n",
       "      <td>NaN</td>\n",
       "      <td>NaN</td>\n",
       "      <td>NaN</td>\n",
       "      <td>NaN</td>\n",
       "      <td>NaN</td>\n",
       "    </tr>\n",
       "    <tr>\n",
       "      <th>2000-01-03</th>\n",
       "      <td>0.860883</td>\n",
       "      <td>34.160576</td>\n",
       "      <td>25.940277</td>\n",
       "      <td>13.952057</td>\n",
       "      <td>13.693107</td>\n",
       "      <td>40.118656</td>\n",
       "      <td>19.360474</td>\n",
       "      <td>30.896286</td>\n",
       "      <td>23.115248</td>\n",
       "      <td>26.585829</td>\n",
       "      <td>...</td>\n",
       "      <td>5978800.0</td>\n",
       "      <td>53228400.0</td>\n",
       "      <td>12873345.0</td>\n",
       "      <td>4275000.0</td>\n",
       "      <td>3401096.0</td>\n",
       "      <td>5791900.0</td>\n",
       "      <td>336400.0</td>\n",
       "      <td>4663843.0</td>\n",
       "      <td>8369900.0</td>\n",
       "      <td>13458200.0</td>\n",
       "    </tr>\n",
       "    <tr>\n",
       "      <th>2000-01-04</th>\n",
       "      <td>0.788302</td>\n",
       "      <td>32.870731</td>\n",
       "      <td>25.899939</td>\n",
       "      <td>13.123939</td>\n",
       "      <td>13.517111</td>\n",
       "      <td>37.867947</td>\n",
       "      <td>19.360474</td>\n",
       "      <td>30.051819</td>\n",
       "      <td>24.469286</td>\n",
       "      <td>25.522396</td>\n",
       "      <td>...</td>\n",
       "      <td>7533100.0</td>\n",
       "      <td>54119000.0</td>\n",
       "      <td>14208974.0</td>\n",
       "      <td>4270800.0</td>\n",
       "      <td>5350163.0</td>\n",
       "      <td>7173600.0</td>\n",
       "      <td>494400.0</td>\n",
       "      <td>5005878.0</td>\n",
       "      <td>6745100.0</td>\n",
       "      <td>14510800.0</td>\n",
       "    </tr>\n",
       "    <tr>\n",
       "      <th>2000-01-05</th>\n",
       "      <td>0.799837</td>\n",
       "      <td>32.035824</td>\n",
       "      <td>27.513651</td>\n",
       "      <td>13.267960</td>\n",
       "      <td>13.833909</td>\n",
       "      <td>37.751926</td>\n",
       "      <td>19.707745</td>\n",
       "      <td>31.027334</td>\n",
       "      <td>25.484806</td>\n",
       "      <td>25.478096</td>\n",
       "      <td>...</td>\n",
       "      <td>7598300.0</td>\n",
       "      <td>64059600.0</td>\n",
       "      <td>12981591.0</td>\n",
       "      <td>5098400.0</td>\n",
       "      <td>6204409.0</td>\n",
       "      <td>9090000.0</td>\n",
       "      <td>736000.0</td>\n",
       "      <td>6368681.0</td>\n",
       "      <td>7018700.0</td>\n",
       "      <td>17485000.0</td>\n",
       "    </tr>\n",
       "    <tr>\n",
       "      <th>2000-01-06</th>\n",
       "      <td>0.730621</td>\n",
       "      <td>32.688519</td>\n",
       "      <td>27.796043</td>\n",
       "      <td>14.402134</td>\n",
       "      <td>14.537927</td>\n",
       "      <td>37.125427</td>\n",
       "      <td>20.546988</td>\n",
       "      <td>31.900925</td>\n",
       "      <td>24.469286</td>\n",
       "      <td>25.818716</td>\n",
       "      <td>...</td>\n",
       "      <td>4760500.0</td>\n",
       "      <td>54976600.0</td>\n",
       "      <td>11115273.0</td>\n",
       "      <td>6524200.0</td>\n",
       "      <td>9770125.0</td>\n",
       "      <td>7153600.0</td>\n",
       "      <td>660400.0</td>\n",
       "      <td>4705763.0</td>\n",
       "      <td>6544500.0</td>\n",
       "      <td>19461600.0</td>\n",
       "    </tr>\n",
       "  </tbody>\n",
       "</table>\n",
       "<p>5 rows × 174 columns</p>\n",
       "</div>"
      ],
      "text/plain": [
       "Value      Adj Close                                                         \\\n",
       "Symbol          AAPL        AXP         BA        BAC        CAT       CSCO   \n",
       "Date                                                                          \n",
       "1999-12-31       NaN        NaN        NaN        NaN        NaN        NaN   \n",
       "2000-01-03  0.860883  34.160576  25.940277  13.952057  13.693107  40.118656   \n",
       "2000-01-04  0.788302  32.870731  25.899939  13.123939  13.517111  37.867947   \n",
       "2000-01-05  0.799837  32.035824  27.513651  13.267960  13.833909  37.751926   \n",
       "2000-01-06  0.730621  32.688519  27.796043  14.402134  14.537927  37.125427   \n",
       "\n",
       "Value                                                   ...     Volume  \\\n",
       "Symbol            CVX         DD        DIS         GE  ...        MRK   \n",
       "Date                                                    ...              \n",
       "1999-12-31        NaN        NaN        NaN        NaN  ...        NaN   \n",
       "2000-01-03  19.360474  30.896286  23.115248  26.585829  ...  5978800.0   \n",
       "2000-01-04  19.360474  30.051819  24.469286  25.522396  ...  7533100.0   \n",
       "2000-01-05  19.707745  31.027334  25.484806  25.478096  ...  7598300.0   \n",
       "2000-01-06  20.546988  31.900925  24.469286  25.818716  ...  4760500.0   \n",
       "\n",
       "Value                                                                          \\\n",
       "Symbol            MSFT         PFE         PG        RTX          T       TRV   \n",
       "Date                                                                            \n",
       "1999-12-31         NaN         NaN        NaN        NaN        NaN       NaN   \n",
       "2000-01-03  53228400.0  12873345.0  4275000.0  3401096.0  5791900.0  336400.0   \n",
       "2000-01-04  54119000.0  14208974.0  4270800.0  5350163.0  7173600.0  494400.0   \n",
       "2000-01-05  64059600.0  12981591.0  5098400.0  6204409.0  9090000.0  736000.0   \n",
       "2000-01-06  54976600.0  11115273.0  6524200.0  9770125.0  7153600.0  660400.0   \n",
       "\n",
       "Value                                         \n",
       "Symbol             VZ        WMT         XOM  \n",
       "Date                                          \n",
       "1999-12-31        NaN        NaN         NaN  \n",
       "2000-01-03  4663843.0  8369900.0  13458200.0  \n",
       "2000-01-04  5005878.0  6745100.0  14510800.0  \n",
       "2000-01-05  6368681.0  7018700.0  17485000.0  \n",
       "2000-01-06  4705763.0  6544500.0  19461600.0  \n",
       "\n",
       "[5 rows x 174 columns]"
      ]
     },
     "execution_count": 15,
     "metadata": {},
     "output_type": "execute_result"
    }
   ],
   "source": [
    "rawdata.columns = rawdata.columns.set_names(['Value', 'Symbol'])\n",
    "rawdata.head()"
   ]
  },
  {
   "cell_type": "markdown",
   "metadata": {
    "slideshow": {
     "slide_type": "subslide"
    }
   },
   "source": [
    "* Subsetting first level of hierarchical indexing: `Adj Close`"
   ]
  },
  {
   "cell_type": "code",
   "execution_count": 16,
   "metadata": {
    "slideshow": {
     "slide_type": "-"
    }
   },
   "outputs": [
    {
     "data": {
      "text/html": [
       "<div>\n",
       "<style scoped>\n",
       "    .dataframe tbody tr th:only-of-type {\n",
       "        vertical-align: middle;\n",
       "    }\n",
       "\n",
       "    .dataframe tbody tr th {\n",
       "        vertical-align: top;\n",
       "    }\n",
       "\n",
       "    .dataframe thead th {\n",
       "        text-align: right;\n",
       "    }\n",
       "</style>\n",
       "<table border=\"1\" class=\"dataframe\">\n",
       "  <thead>\n",
       "    <tr style=\"text-align: right;\">\n",
       "      <th>Symbol</th>\n",
       "      <th>AAPL</th>\n",
       "      <th>AXP</th>\n",
       "      <th>BA</th>\n",
       "      <th>BAC</th>\n",
       "      <th>CAT</th>\n",
       "      <th>CSCO</th>\n",
       "      <th>CVX</th>\n",
       "      <th>DD</th>\n",
       "      <th>DIS</th>\n",
       "      <th>GE</th>\n",
       "      <th>...</th>\n",
       "      <th>MRK</th>\n",
       "      <th>MSFT</th>\n",
       "      <th>PFE</th>\n",
       "      <th>PG</th>\n",
       "      <th>RTX</th>\n",
       "      <th>T</th>\n",
       "      <th>TRV</th>\n",
       "      <th>VZ</th>\n",
       "      <th>WMT</th>\n",
       "      <th>XOM</th>\n",
       "    </tr>\n",
       "    <tr>\n",
       "      <th>Date</th>\n",
       "      <th></th>\n",
       "      <th></th>\n",
       "      <th></th>\n",
       "      <th></th>\n",
       "      <th></th>\n",
       "      <th></th>\n",
       "      <th></th>\n",
       "      <th></th>\n",
       "      <th></th>\n",
       "      <th></th>\n",
       "      <th></th>\n",
       "      <th></th>\n",
       "      <th></th>\n",
       "      <th></th>\n",
       "      <th></th>\n",
       "      <th></th>\n",
       "      <th></th>\n",
       "      <th></th>\n",
       "      <th></th>\n",
       "      <th></th>\n",
       "      <th></th>\n",
       "    </tr>\n",
       "  </thead>\n",
       "  <tbody>\n",
       "    <tr>\n",
       "      <th>1999-12-31</th>\n",
       "      <td>NaN</td>\n",
       "      <td>NaN</td>\n",
       "      <td>NaN</td>\n",
       "      <td>NaN</td>\n",
       "      <td>NaN</td>\n",
       "      <td>NaN</td>\n",
       "      <td>NaN</td>\n",
       "      <td>NaN</td>\n",
       "      <td>NaN</td>\n",
       "      <td>NaN</td>\n",
       "      <td>...</td>\n",
       "      <td>NaN</td>\n",
       "      <td>NaN</td>\n",
       "      <td>NaN</td>\n",
       "      <td>NaN</td>\n",
       "      <td>NaN</td>\n",
       "      <td>NaN</td>\n",
       "      <td>NaN</td>\n",
       "      <td>NaN</td>\n",
       "      <td>NaN</td>\n",
       "      <td>NaN</td>\n",
       "    </tr>\n",
       "    <tr>\n",
       "      <th>2000-01-03</th>\n",
       "      <td>0.860883</td>\n",
       "      <td>34.160576</td>\n",
       "      <td>25.940277</td>\n",
       "      <td>13.952057</td>\n",
       "      <td>13.693107</td>\n",
       "      <td>40.118656</td>\n",
       "      <td>19.360474</td>\n",
       "      <td>30.896286</td>\n",
       "      <td>23.115248</td>\n",
       "      <td>26.585829</td>\n",
       "      <td>...</td>\n",
       "      <td>30.698004</td>\n",
       "      <td>37.017384</td>\n",
       "      <td>14.709098</td>\n",
       "      <td>30.248369</td>\n",
       "      <td>12.671476</td>\n",
       "      <td>15.941188</td>\n",
       "      <td>19.224304</td>\n",
       "      <td>20.573511</td>\n",
       "      <td>45.439945</td>\n",
       "      <td>20.760025</td>\n",
       "    </tr>\n",
       "    <tr>\n",
       "      <th>2000-01-04</th>\n",
       "      <td>0.788302</td>\n",
       "      <td>32.870731</td>\n",
       "      <td>25.899939</td>\n",
       "      <td>13.123939</td>\n",
       "      <td>13.517111</td>\n",
       "      <td>37.867947</td>\n",
       "      <td>19.360474</td>\n",
       "      <td>30.051819</td>\n",
       "      <td>24.469286</td>\n",
       "      <td>25.522396</td>\n",
       "      <td>...</td>\n",
       "      <td>29.619884</td>\n",
       "      <td>35.766914</td>\n",
       "      <td>14.161126</td>\n",
       "      <td>29.666332</td>\n",
       "      <td>12.151942</td>\n",
       "      <td>15.008461</td>\n",
       "      <td>18.969437</td>\n",
       "      <td>19.908472</td>\n",
       "      <td>43.739662</td>\n",
       "      <td>20.362385</td>\n",
       "    </tr>\n",
       "    <tr>\n",
       "      <th>2000-01-05</th>\n",
       "      <td>0.799837</td>\n",
       "      <td>32.035824</td>\n",
       "      <td>27.513651</td>\n",
       "      <td>13.267960</td>\n",
       "      <td>13.833909</td>\n",
       "      <td>37.751926</td>\n",
       "      <td>19.707745</td>\n",
       "      <td>31.027334</td>\n",
       "      <td>25.484806</td>\n",
       "      <td>25.478096</td>\n",
       "      <td>...</td>\n",
       "      <td>30.783119</td>\n",
       "      <td>36.144032</td>\n",
       "      <td>14.391850</td>\n",
       "      <td>29.101934</td>\n",
       "      <td>11.911183</td>\n",
       "      <td>15.241655</td>\n",
       "      <td>18.823801</td>\n",
       "      <td>20.573511</td>\n",
       "      <td>42.847008</td>\n",
       "      <td>21.472454</td>\n",
       "    </tr>\n",
       "    <tr>\n",
       "      <th>2000-01-06</th>\n",
       "      <td>0.730621</td>\n",
       "      <td>32.688519</td>\n",
       "      <td>27.796043</td>\n",
       "      <td>14.402134</td>\n",
       "      <td>14.537927</td>\n",
       "      <td>37.125427</td>\n",
       "      <td>20.546988</td>\n",
       "      <td>31.900925</td>\n",
       "      <td>24.469286</td>\n",
       "      <td>25.818716</td>\n",
       "      <td>...</td>\n",
       "      <td>31.038458</td>\n",
       "      <td>34.933285</td>\n",
       "      <td>14.911002</td>\n",
       "      <td>30.442392</td>\n",
       "      <td>12.481409</td>\n",
       "      <td>14.919894</td>\n",
       "      <td>19.187899</td>\n",
       "      <td>20.469007</td>\n",
       "      <td>43.314613</td>\n",
       "      <td>22.582546</td>\n",
       "    </tr>\n",
       "  </tbody>\n",
       "</table>\n",
       "<p>5 rows × 29 columns</p>\n",
       "</div>"
      ],
      "text/plain": [
       "Symbol          AAPL        AXP         BA        BAC        CAT       CSCO  \\\n",
       "Date                                                                          \n",
       "1999-12-31       NaN        NaN        NaN        NaN        NaN        NaN   \n",
       "2000-01-03  0.860883  34.160576  25.940277  13.952057  13.693107  40.118656   \n",
       "2000-01-04  0.788302  32.870731  25.899939  13.123939  13.517111  37.867947   \n",
       "2000-01-05  0.799837  32.035824  27.513651  13.267960  13.833909  37.751926   \n",
       "2000-01-06  0.730621  32.688519  27.796043  14.402134  14.537927  37.125427   \n",
       "\n",
       "Symbol            CVX         DD        DIS         GE  ...        MRK  \\\n",
       "Date                                                    ...              \n",
       "1999-12-31        NaN        NaN        NaN        NaN  ...        NaN   \n",
       "2000-01-03  19.360474  30.896286  23.115248  26.585829  ...  30.698004   \n",
       "2000-01-04  19.360474  30.051819  24.469286  25.522396  ...  29.619884   \n",
       "2000-01-05  19.707745  31.027334  25.484806  25.478096  ...  30.783119   \n",
       "2000-01-06  20.546988  31.900925  24.469286  25.818716  ...  31.038458   \n",
       "\n",
       "Symbol           MSFT        PFE         PG        RTX          T        TRV  \\\n",
       "Date                                                                           \n",
       "1999-12-31        NaN        NaN        NaN        NaN        NaN        NaN   \n",
       "2000-01-03  37.017384  14.709098  30.248369  12.671476  15.941188  19.224304   \n",
       "2000-01-04  35.766914  14.161126  29.666332  12.151942  15.008461  18.969437   \n",
       "2000-01-05  36.144032  14.391850  29.101934  11.911183  15.241655  18.823801   \n",
       "2000-01-06  34.933285  14.911002  30.442392  12.481409  14.919894  19.187899   \n",
       "\n",
       "Symbol             VZ        WMT        XOM  \n",
       "Date                                         \n",
       "1999-12-31        NaN        NaN        NaN  \n",
       "2000-01-03  20.573511  45.439945  20.760025  \n",
       "2000-01-04  19.908472  43.739662  20.362385  \n",
       "2000-01-05  20.573511  42.847008  21.472454  \n",
       "2000-01-06  20.469007  43.314613  22.582546  \n",
       "\n",
       "[5 rows x 29 columns]"
      ]
     },
     "execution_count": 16,
     "metadata": {},
     "output_type": "execute_result"
    }
   ],
   "source": [
    "rawdata['Adj Close'].head()"
   ]
  },
  {
   "cell_type": "markdown",
   "metadata": {
    "slideshow": {
     "slide_type": "subslide"
    }
   },
   "source": [
    "* Subsetting first level of hierarchical indexing: `Volume`"
   ]
  },
  {
   "cell_type": "code",
   "execution_count": 17,
   "metadata": {
    "slideshow": {
     "slide_type": "-"
    }
   },
   "outputs": [
    {
     "data": {
      "text/html": [
       "<div>\n",
       "<style scoped>\n",
       "    .dataframe tbody tr th:only-of-type {\n",
       "        vertical-align: middle;\n",
       "    }\n",
       "\n",
       "    .dataframe tbody tr th {\n",
       "        vertical-align: top;\n",
       "    }\n",
       "\n",
       "    .dataframe thead th {\n",
       "        text-align: right;\n",
       "    }\n",
       "</style>\n",
       "<table border=\"1\" class=\"dataframe\">\n",
       "  <thead>\n",
       "    <tr style=\"text-align: right;\">\n",
       "      <th>Symbol</th>\n",
       "      <th>AAPL</th>\n",
       "      <th>AXP</th>\n",
       "      <th>BA</th>\n",
       "      <th>BAC</th>\n",
       "      <th>CAT</th>\n",
       "      <th>CSCO</th>\n",
       "      <th>CVX</th>\n",
       "      <th>DD</th>\n",
       "      <th>DIS</th>\n",
       "      <th>GE</th>\n",
       "      <th>...</th>\n",
       "      <th>MRK</th>\n",
       "      <th>MSFT</th>\n",
       "      <th>PFE</th>\n",
       "      <th>PG</th>\n",
       "      <th>RTX</th>\n",
       "      <th>T</th>\n",
       "      <th>TRV</th>\n",
       "      <th>VZ</th>\n",
       "      <th>WMT</th>\n",
       "      <th>XOM</th>\n",
       "    </tr>\n",
       "    <tr>\n",
       "      <th>Date</th>\n",
       "      <th></th>\n",
       "      <th></th>\n",
       "      <th></th>\n",
       "      <th></th>\n",
       "      <th></th>\n",
       "      <th></th>\n",
       "      <th></th>\n",
       "      <th></th>\n",
       "      <th></th>\n",
       "      <th></th>\n",
       "      <th></th>\n",
       "      <th></th>\n",
       "      <th></th>\n",
       "      <th></th>\n",
       "      <th></th>\n",
       "      <th></th>\n",
       "      <th></th>\n",
       "      <th></th>\n",
       "      <th></th>\n",
       "      <th></th>\n",
       "      <th></th>\n",
       "    </tr>\n",
       "  </thead>\n",
       "  <tbody>\n",
       "    <tr>\n",
       "      <th>1999-12-31</th>\n",
       "      <td>NaN</td>\n",
       "      <td>NaN</td>\n",
       "      <td>NaN</td>\n",
       "      <td>NaN</td>\n",
       "      <td>NaN</td>\n",
       "      <td>NaN</td>\n",
       "      <td>NaN</td>\n",
       "      <td>NaN</td>\n",
       "      <td>NaN</td>\n",
       "      <td>NaN</td>\n",
       "      <td>...</td>\n",
       "      <td>NaN</td>\n",
       "      <td>NaN</td>\n",
       "      <td>NaN</td>\n",
       "      <td>NaN</td>\n",
       "      <td>NaN</td>\n",
       "      <td>NaN</td>\n",
       "      <td>NaN</td>\n",
       "      <td>NaN</td>\n",
       "      <td>NaN</td>\n",
       "      <td>NaN</td>\n",
       "    </tr>\n",
       "    <tr>\n",
       "      <th>2000-01-03</th>\n",
       "      <td>535796800.0</td>\n",
       "      <td>6471267.0</td>\n",
       "      <td>2638200.0</td>\n",
       "      <td>13705800.0</td>\n",
       "      <td>5055000.0</td>\n",
       "      <td>53076000.0</td>\n",
       "      <td>4387600.0</td>\n",
       "      <td>1296100.0</td>\n",
       "      <td>8402230.0</td>\n",
       "      <td>22952592.0</td>\n",
       "      <td>...</td>\n",
       "      <td>5978800.0</td>\n",
       "      <td>53228400.0</td>\n",
       "      <td>12873345.0</td>\n",
       "      <td>4275000.0</td>\n",
       "      <td>3401096.0</td>\n",
       "      <td>5791900.0</td>\n",
       "      <td>336400.0</td>\n",
       "      <td>4663843.0</td>\n",
       "      <td>8369900.0</td>\n",
       "      <td>13458200.0</td>\n",
       "    </tr>\n",
       "    <tr>\n",
       "      <th>2000-01-04</th>\n",
       "      <td>512377600.0</td>\n",
       "      <td>10440877.0</td>\n",
       "      <td>3592100.0</td>\n",
       "      <td>27293400.0</td>\n",
       "      <td>6181400.0</td>\n",
       "      <td>50805600.0</td>\n",
       "      <td>3702400.0</td>\n",
       "      <td>2073676.0</td>\n",
       "      <td>16051191.0</td>\n",
       "      <td>23006256.0</td>\n",
       "      <td>...</td>\n",
       "      <td>7533100.0</td>\n",
       "      <td>54119000.0</td>\n",
       "      <td>14208974.0</td>\n",
       "      <td>4270800.0</td>\n",
       "      <td>5350163.0</td>\n",
       "      <td>7173600.0</td>\n",
       "      <td>494400.0</td>\n",
       "      <td>5005878.0</td>\n",
       "      <td>6745100.0</td>\n",
       "      <td>14510800.0</td>\n",
       "    </tr>\n",
       "    <tr>\n",
       "      <th>2000-01-05</th>\n",
       "      <td>778321600.0</td>\n",
       "      <td>8646293.0</td>\n",
       "      <td>7631700.0</td>\n",
       "      <td>22855600.0</td>\n",
       "      <td>6398600.0</td>\n",
       "      <td>68524000.0</td>\n",
       "      <td>5567600.0</td>\n",
       "      <td>3653278.0</td>\n",
       "      <td>19823822.0</td>\n",
       "      <td>28384512.0</td>\n",
       "      <td>...</td>\n",
       "      <td>7598300.0</td>\n",
       "      <td>64059600.0</td>\n",
       "      <td>12981591.0</td>\n",
       "      <td>5098400.0</td>\n",
       "      <td>6204409.0</td>\n",
       "      <td>9090000.0</td>\n",
       "      <td>736000.0</td>\n",
       "      <td>6368681.0</td>\n",
       "      <td>7018700.0</td>\n",
       "      <td>17485000.0</td>\n",
       "    </tr>\n",
       "    <tr>\n",
       "      <th>2000-01-06</th>\n",
       "      <td>767972800.0</td>\n",
       "      <td>10990975.0</td>\n",
       "      <td>4922200.0</td>\n",
       "      <td>17307000.0</td>\n",
       "      <td>5140600.0</td>\n",
       "      <td>48242600.0</td>\n",
       "      <td>4353400.0</td>\n",
       "      <td>4885511.0</td>\n",
       "      <td>7903193.0</td>\n",
       "      <td>20668128.0</td>\n",
       "      <td>...</td>\n",
       "      <td>4760500.0</td>\n",
       "      <td>54976600.0</td>\n",
       "      <td>11115273.0</td>\n",
       "      <td>6524200.0</td>\n",
       "      <td>9770125.0</td>\n",
       "      <td>7153600.0</td>\n",
       "      <td>660400.0</td>\n",
       "      <td>4705763.0</td>\n",
       "      <td>6544500.0</td>\n",
       "      <td>19461600.0</td>\n",
       "    </tr>\n",
       "  </tbody>\n",
       "</table>\n",
       "<p>5 rows × 29 columns</p>\n",
       "</div>"
      ],
      "text/plain": [
       "Symbol             AAPL         AXP         BA         BAC        CAT  \\\n",
       "Date                                                                    \n",
       "1999-12-31          NaN         NaN        NaN         NaN        NaN   \n",
       "2000-01-03  535796800.0   6471267.0  2638200.0  13705800.0  5055000.0   \n",
       "2000-01-04  512377600.0  10440877.0  3592100.0  27293400.0  6181400.0   \n",
       "2000-01-05  778321600.0   8646293.0  7631700.0  22855600.0  6398600.0   \n",
       "2000-01-06  767972800.0  10990975.0  4922200.0  17307000.0  5140600.0   \n",
       "\n",
       "Symbol            CSCO        CVX         DD         DIS          GE  ...  \\\n",
       "Date                                                                  ...   \n",
       "1999-12-31         NaN        NaN        NaN         NaN         NaN  ...   \n",
       "2000-01-03  53076000.0  4387600.0  1296100.0   8402230.0  22952592.0  ...   \n",
       "2000-01-04  50805600.0  3702400.0  2073676.0  16051191.0  23006256.0  ...   \n",
       "2000-01-05  68524000.0  5567600.0  3653278.0  19823822.0  28384512.0  ...   \n",
       "2000-01-06  48242600.0  4353400.0  4885511.0   7903193.0  20668128.0  ...   \n",
       "\n",
       "Symbol            MRK        MSFT         PFE         PG        RTX  \\\n",
       "Date                                                                  \n",
       "1999-12-31        NaN         NaN         NaN        NaN        NaN   \n",
       "2000-01-03  5978800.0  53228400.0  12873345.0  4275000.0  3401096.0   \n",
       "2000-01-04  7533100.0  54119000.0  14208974.0  4270800.0  5350163.0   \n",
       "2000-01-05  7598300.0  64059600.0  12981591.0  5098400.0  6204409.0   \n",
       "2000-01-06  4760500.0  54976600.0  11115273.0  6524200.0  9770125.0   \n",
       "\n",
       "Symbol              T       TRV         VZ        WMT         XOM  \n",
       "Date                                                               \n",
       "1999-12-31        NaN       NaN        NaN        NaN         NaN  \n",
       "2000-01-03  5791900.0  336400.0  4663843.0  8369900.0  13458200.0  \n",
       "2000-01-04  7173600.0  494400.0  5005878.0  6745100.0  14510800.0  \n",
       "2000-01-05  9090000.0  736000.0  6368681.0  7018700.0  17485000.0  \n",
       "2000-01-06  7153600.0  660400.0  4705763.0  6544500.0  19461600.0  \n",
       "\n",
       "[5 rows x 29 columns]"
      ]
     },
     "execution_count": 17,
     "metadata": {},
     "output_type": "execute_result"
    }
   ],
   "source": [
    "rawdata.loc[:, 'Volume'].head()"
   ]
  },
  {
   "cell_type": "markdown",
   "metadata": {
    "slideshow": {
     "slide_type": "subslide"
    }
   },
   "source": [
    "* Subsetting second level is slightly harder: `AAPL`"
   ]
  },
  {
   "cell_type": "code",
   "execution_count": 18,
   "metadata": {
    "slideshow": {
     "slide_type": "-"
    }
   },
   "outputs": [
    {
     "data": {
      "text/html": [
       "<div>\n",
       "<style scoped>\n",
       "    .dataframe tbody tr th:only-of-type {\n",
       "        vertical-align: middle;\n",
       "    }\n",
       "\n",
       "    .dataframe tbody tr th {\n",
       "        vertical-align: top;\n",
       "    }\n",
       "\n",
       "    .dataframe thead tr th {\n",
       "        text-align: left;\n",
       "    }\n",
       "\n",
       "    .dataframe thead tr:last-of-type th {\n",
       "        text-align: right;\n",
       "    }\n",
       "</style>\n",
       "<table border=\"1\" class=\"dataframe\">\n",
       "  <thead>\n",
       "    <tr>\n",
       "      <th>Value</th>\n",
       "      <th>Adj Close</th>\n",
       "      <th>Close</th>\n",
       "      <th>High</th>\n",
       "      <th>Low</th>\n",
       "      <th>Open</th>\n",
       "      <th>Volume</th>\n",
       "    </tr>\n",
       "    <tr>\n",
       "      <th>Symbol</th>\n",
       "      <th>AAPL</th>\n",
       "      <th>AAPL</th>\n",
       "      <th>AAPL</th>\n",
       "      <th>AAPL</th>\n",
       "      <th>AAPL</th>\n",
       "      <th>AAPL</th>\n",
       "    </tr>\n",
       "    <tr>\n",
       "      <th>Date</th>\n",
       "      <th></th>\n",
       "      <th></th>\n",
       "      <th></th>\n",
       "      <th></th>\n",
       "      <th></th>\n",
       "      <th></th>\n",
       "    </tr>\n",
       "  </thead>\n",
       "  <tbody>\n",
       "    <tr>\n",
       "      <th>1999-12-31</th>\n",
       "      <td>NaN</td>\n",
       "      <td>NaN</td>\n",
       "      <td>NaN</td>\n",
       "      <td>NaN</td>\n",
       "      <td>NaN</td>\n",
       "      <td>NaN</td>\n",
       "    </tr>\n",
       "    <tr>\n",
       "      <th>2000-01-03</th>\n",
       "      <td>0.860883</td>\n",
       "      <td>0.999442</td>\n",
       "      <td>1.004464</td>\n",
       "      <td>0.907924</td>\n",
       "      <td>0.936384</td>\n",
       "      <td>535796800.0</td>\n",
       "    </tr>\n",
       "    <tr>\n",
       "      <th>2000-01-04</th>\n",
       "      <td>0.788302</td>\n",
       "      <td>0.915179</td>\n",
       "      <td>0.987723</td>\n",
       "      <td>0.903460</td>\n",
       "      <td>0.966518</td>\n",
       "      <td>512377600.0</td>\n",
       "    </tr>\n",
       "    <tr>\n",
       "      <th>2000-01-05</th>\n",
       "      <td>0.799837</td>\n",
       "      <td>0.928571</td>\n",
       "      <td>0.987165</td>\n",
       "      <td>0.919643</td>\n",
       "      <td>0.926339</td>\n",
       "      <td>778321600.0</td>\n",
       "    </tr>\n",
       "    <tr>\n",
       "      <th>2000-01-06</th>\n",
       "      <td>0.730621</td>\n",
       "      <td>0.848214</td>\n",
       "      <td>0.955357</td>\n",
       "      <td>0.848214</td>\n",
       "      <td>0.947545</td>\n",
       "      <td>767972800.0</td>\n",
       "    </tr>\n",
       "  </tbody>\n",
       "</table>\n",
       "</div>"
      ],
      "text/plain": [
       "Value      Adj Close     Close      High       Low      Open       Volume\n",
       "Symbol          AAPL      AAPL      AAPL      AAPL      AAPL         AAPL\n",
       "Date                                                                     \n",
       "1999-12-31       NaN       NaN       NaN       NaN       NaN          NaN\n",
       "2000-01-03  0.860883  0.999442  1.004464  0.907924  0.936384  535796800.0\n",
       "2000-01-04  0.788302  0.915179  0.987723  0.903460  0.966518  512377600.0\n",
       "2000-01-05  0.799837  0.928571  0.987165  0.919643  0.926339  778321600.0\n",
       "2000-01-06  0.730621  0.848214  0.955357  0.848214  0.947545  767972800.0"
      ]
     },
     "execution_count": 18,
     "metadata": {},
     "output_type": "execute_result"
    }
   ],
   "source": [
    "idx = pd.IndexSlice\n",
    "rawdata.loc[:, idx[:, 'AAPL']].head()"
   ]
  },
  {
   "cell_type": "markdown",
   "metadata": {
    "slideshow": {
     "slide_type": "subslide"
    }
   },
   "source": [
    "* Subsetting `Open`, `High`, `Low`, and `Close` (OHLC) for `AAPL`:"
   ]
  },
  {
   "cell_type": "code",
   "execution_count": 19,
   "metadata": {
    "slideshow": {
     "slide_type": "-"
    }
   },
   "outputs": [
    {
     "data": {
      "text/html": [
       "<div>\n",
       "<style scoped>\n",
       "    .dataframe tbody tr th:only-of-type {\n",
       "        vertical-align: middle;\n",
       "    }\n",
       "\n",
       "    .dataframe tbody tr th {\n",
       "        vertical-align: top;\n",
       "    }\n",
       "\n",
       "    .dataframe thead tr th {\n",
       "        text-align: left;\n",
       "    }\n",
       "\n",
       "    .dataframe thead tr:last-of-type th {\n",
       "        text-align: right;\n",
       "    }\n",
       "</style>\n",
       "<table border=\"1\" class=\"dataframe\">\n",
       "  <thead>\n",
       "    <tr>\n",
       "      <th>Value</th>\n",
       "      <th>Close</th>\n",
       "      <th>High</th>\n",
       "      <th>Low</th>\n",
       "      <th>Open</th>\n",
       "    </tr>\n",
       "    <tr>\n",
       "      <th>Symbol</th>\n",
       "      <th>AAPL</th>\n",
       "      <th>AAPL</th>\n",
       "      <th>AAPL</th>\n",
       "      <th>AAPL</th>\n",
       "    </tr>\n",
       "    <tr>\n",
       "      <th>Date</th>\n",
       "      <th></th>\n",
       "      <th></th>\n",
       "      <th></th>\n",
       "      <th></th>\n",
       "    </tr>\n",
       "  </thead>\n",
       "  <tbody>\n",
       "    <tr>\n",
       "      <th>1999-12-31</th>\n",
       "      <td>NaN</td>\n",
       "      <td>NaN</td>\n",
       "      <td>NaN</td>\n",
       "      <td>NaN</td>\n",
       "    </tr>\n",
       "    <tr>\n",
       "      <th>2000-01-03</th>\n",
       "      <td>0.999442</td>\n",
       "      <td>1.004464</td>\n",
       "      <td>0.907924</td>\n",
       "      <td>0.936384</td>\n",
       "    </tr>\n",
       "    <tr>\n",
       "      <th>2000-01-04</th>\n",
       "      <td>0.915179</td>\n",
       "      <td>0.987723</td>\n",
       "      <td>0.903460</td>\n",
       "      <td>0.966518</td>\n",
       "    </tr>\n",
       "    <tr>\n",
       "      <th>2000-01-05</th>\n",
       "      <td>0.928571</td>\n",
       "      <td>0.987165</td>\n",
       "      <td>0.919643</td>\n",
       "      <td>0.926339</td>\n",
       "    </tr>\n",
       "    <tr>\n",
       "      <th>2000-01-06</th>\n",
       "      <td>0.848214</td>\n",
       "      <td>0.955357</td>\n",
       "      <td>0.848214</td>\n",
       "      <td>0.947545</td>\n",
       "    </tr>\n",
       "  </tbody>\n",
       "</table>\n",
       "</div>"
      ],
      "text/plain": [
       "Value          Close      High       Low      Open\n",
       "Symbol          AAPL      AAPL      AAPL      AAPL\n",
       "Date                                              \n",
       "1999-12-31       NaN       NaN       NaN       NaN\n",
       "2000-01-03  0.999442  1.004464  0.907924  0.936384\n",
       "2000-01-04  0.915179  0.987723  0.903460  0.966518\n",
       "2000-01-05  0.928571  0.987165  0.919643  0.926339\n",
       "2000-01-06  0.848214  0.955357  0.848214  0.947545"
      ]
     },
     "execution_count": 19,
     "metadata": {},
     "output_type": "execute_result"
    }
   ],
   "source": [
    "aapl = rawdata.loc[:, idx['Close':'Open', 'AAPL']]\n",
    "aapl.head()"
   ]
  },
  {
   "cell_type": "markdown",
   "metadata": {
    "slideshow": {
     "slide_type": "subslide"
    }
   },
   "source": [
    "* Drop redudant index level, `AAPL`:"
   ]
  },
  {
   "cell_type": "code",
   "execution_count": 20,
   "metadata": {
    "slideshow": {
     "slide_type": "-"
    }
   },
   "outputs": [
    {
     "data": {
      "text/html": [
       "<div>\n",
       "<style scoped>\n",
       "    .dataframe tbody tr th:only-of-type {\n",
       "        vertical-align: middle;\n",
       "    }\n",
       "\n",
       "    .dataframe tbody tr th {\n",
       "        vertical-align: top;\n",
       "    }\n",
       "\n",
       "    .dataframe thead th {\n",
       "        text-align: right;\n",
       "    }\n",
       "</style>\n",
       "<table border=\"1\" class=\"dataframe\">\n",
       "  <thead>\n",
       "    <tr style=\"text-align: right;\">\n",
       "      <th>Value</th>\n",
       "      <th>Close</th>\n",
       "      <th>High</th>\n",
       "      <th>Low</th>\n",
       "      <th>Open</th>\n",
       "    </tr>\n",
       "    <tr>\n",
       "      <th>Date</th>\n",
       "      <th></th>\n",
       "      <th></th>\n",
       "      <th></th>\n",
       "      <th></th>\n",
       "    </tr>\n",
       "  </thead>\n",
       "  <tbody>\n",
       "    <tr>\n",
       "      <th>2020-02-13</th>\n",
       "      <td>81.217499</td>\n",
       "      <td>81.555000</td>\n",
       "      <td>80.837502</td>\n",
       "      <td>81.047501</td>\n",
       "    </tr>\n",
       "    <tr>\n",
       "      <th>2020-02-14</th>\n",
       "      <td>81.237503</td>\n",
       "      <td>81.495003</td>\n",
       "      <td>80.712502</td>\n",
       "      <td>81.184998</td>\n",
       "    </tr>\n",
       "    <tr>\n",
       "      <th>2020-02-18</th>\n",
       "      <td>79.750000</td>\n",
       "      <td>79.937500</td>\n",
       "      <td>78.652496</td>\n",
       "      <td>78.839996</td>\n",
       "    </tr>\n",
       "    <tr>\n",
       "      <th>2020-02-19</th>\n",
       "      <td>80.904999</td>\n",
       "      <td>81.142502</td>\n",
       "      <td>80.000000</td>\n",
       "      <td>80.000000</td>\n",
       "    </tr>\n",
       "    <tr>\n",
       "      <th>2020-02-20</th>\n",
       "      <td>80.074997</td>\n",
       "      <td>81.162498</td>\n",
       "      <td>79.552498</td>\n",
       "      <td>80.657501</td>\n",
       "    </tr>\n",
       "  </tbody>\n",
       "</table>\n",
       "</div>"
      ],
      "text/plain": [
       "Value           Close       High        Low       Open\n",
       "Date                                                  \n",
       "2020-02-13  81.217499  81.555000  80.837502  81.047501\n",
       "2020-02-14  81.237503  81.495003  80.712502  81.184998\n",
       "2020-02-18  79.750000  79.937500  78.652496  78.839996\n",
       "2020-02-19  80.904999  81.142502  80.000000  80.000000\n",
       "2020-02-20  80.074997  81.162498  79.552498  80.657501"
      ]
     },
     "execution_count": 20,
     "metadata": {},
     "output_type": "execute_result"
    }
   ],
   "source": [
    "aapl = rawdata.loc[:, idx['Close':'Open', 'AAPL']].droplevel('Symbol', axis=1).tail(60)\n",
    "aapl.head()"
   ]
  },
  {
   "cell_type": "markdown",
   "metadata": {
    "slideshow": {
     "slide_type": "slide"
    }
   },
   "source": [
    "### Example Figure: Candlestick Chart for 3M"
   ]
  },
  {
   "cell_type": "code",
   "execution_count": 21,
   "metadata": {
    "slideshow": {
     "slide_type": "-"
    }
   },
   "outputs": [
    {
     "data": {
      "text/html": [
       "\n",
       "<div id=\"altair-viz-f137ec8097da418ea539cefde953304f\"></div>\n",
       "<script type=\"text/javascript\">\n",
       "  (function(spec, embedOpt){\n",
       "    let outputDiv = document.currentScript.previousElementSibling;\n",
       "    if (outputDiv.id !== \"altair-viz-f137ec8097da418ea539cefde953304f\") {\n",
       "      outputDiv = document.getElementById(\"altair-viz-f137ec8097da418ea539cefde953304f\");\n",
       "    }\n",
       "    const paths = {\n",
       "      \"vega\": \"https://cdn.jsdelivr.net/npm//vega@5?noext\",\n",
       "      \"vega-lib\": \"https://cdn.jsdelivr.net/npm//vega-lib?noext\",\n",
       "      \"vega-lite\": \"https://cdn.jsdelivr.net/npm//vega-lite@4.8.1?noext\",\n",
       "      \"vega-embed\": \"https://cdn.jsdelivr.net/npm//vega-embed@6?noext\",\n",
       "    };\n",
       "\n",
       "    function loadScript(lib) {\n",
       "      return new Promise(function(resolve, reject) {\n",
       "        var s = document.createElement('script');\n",
       "        s.src = paths[lib];\n",
       "        s.async = true;\n",
       "        s.onload = () => resolve(paths[lib]);\n",
       "        s.onerror = () => reject(`Error loading script: ${paths[lib]}`);\n",
       "        document.getElementsByTagName(\"head\")[0].appendChild(s);\n",
       "      });\n",
       "    }\n",
       "\n",
       "    function showError(err) {\n",
       "      outputDiv.innerHTML = `<div class=\"error\" style=\"color:red;\">${err}</div>`;\n",
       "      throw err;\n",
       "    }\n",
       "\n",
       "    function displayChart(vegaEmbed) {\n",
       "      vegaEmbed(outputDiv, spec, embedOpt)\n",
       "        .catch(err => showError(`Javascript Error: ${err.message}<br>This usually means there's a typo in your chart specification. See the javascript console for the full traceback.`));\n",
       "    }\n",
       "\n",
       "    if(typeof define === \"function\" && define.amd) {\n",
       "      requirejs.config({paths});\n",
       "      require([\"vega-embed\"], displayChart, err => showError(`Error loading script: ${err.message}`));\n",
       "    } else if (typeof vegaEmbed === \"function\") {\n",
       "      displayChart(vegaEmbed);\n",
       "    } else {\n",
       "      loadScript(\"vega\")\n",
       "        .then(() => loadScript(\"vega-lite\"))\n",
       "        .then(() => loadScript(\"vega-embed\"))\n",
       "        .catch(showError)\n",
       "        .then(() => displayChart(vegaEmbed));\n",
       "    }\n",
       "  })({\"config\": {\"view\": {\"continuousWidth\": 400, \"continuousHeight\": 300}}, \"layer\": [{\"mark\": \"rule\", \"encoding\": {\"color\": {\"condition\": {\"value\": \"#06982d\", \"test\": \"datum.Open <= datum.Close\"}, \"value\": \"#ae1325\"}, \"x\": {\"type\": \"temporal\", \"axis\": {\"format\": \"%m-%d-%Y\", \"labelAngle\": -90}, \"field\": \"Date\"}, \"y\": {\"type\": \"quantitative\", \"field\": \"Low\", \"scale\": {\"zero\": false}, \"title\": \"Price\"}, \"y2\": {\"field\": \"High\"}}}, {\"mark\": \"bar\", \"encoding\": {\"color\": {\"condition\": {\"value\": \"#06982d\", \"test\": \"datum.Open <= datum.Close\"}, \"value\": \"#ae1325\"}, \"x\": {\"type\": \"temporal\", \"axis\": {\"format\": \"%m-%d-%Y\", \"labelAngle\": -90}, \"field\": \"Date\"}, \"y\": {\"type\": \"quantitative\", \"field\": \"Open\"}, \"y2\": {\"field\": \"Close\"}}}], \"data\": {\"name\": \"data-54d40a30da7e6efa24a74783e29586f0\"}, \"$schema\": \"https://vega.github.io/schema/vega-lite/v4.8.1.json\", \"datasets\": {\"data-54d40a30da7e6efa24a74783e29586f0\": [{\"Date\": \"2020-02-13T00:00:00\", \"Close\": 159.75999450683594, \"High\": 161.8699951171875, \"Low\": 159.0, \"Open\": 161.75999450683594}, {\"Date\": \"2020-02-14T00:00:00\", \"Close\": 161.00999450683594, \"High\": 161.13999938964844, \"Low\": 158.82000732421875, \"Open\": 159.85000610351562}, {\"Date\": \"2020-02-18T00:00:00\", \"Close\": 158.8800048828125, \"High\": 160.52999877929688, \"Low\": 158.0399932861328, \"Open\": 160.36000061035156}, {\"Date\": \"2020-02-19T00:00:00\", \"Close\": 159.33999633789062, \"High\": 160.47000122070312, \"Low\": 158.36000061035156, \"Open\": 159.0800018310547}, {\"Date\": \"2020-02-20T00:00:00\", \"Close\": 158.55999755859375, \"High\": 161.38999938964844, \"Low\": 158.5, \"Open\": 159.0}, {\"Date\": \"2020-02-21T00:00:00\", \"Close\": 156.92999267578125, \"High\": 158.58999633789062, \"Low\": 156.1199951171875, \"Open\": 158.3300018310547}, {\"Date\": \"2020-02-24T00:00:00\", \"Close\": 152.5500030517578, \"High\": 154.7100067138672, \"Low\": 152.22000122070312, \"Open\": 154.4499969482422}, {\"Date\": \"2020-02-25T00:00:00\", \"Close\": 146.85000610351562, \"High\": 153.44000244140625, \"Low\": 145.97000122070312, \"Open\": 153.30999755859375}, {\"Date\": \"2020-02-26T00:00:00\", \"Close\": 148.9600067138672, \"High\": 151.82000732421875, \"Low\": 148.08999633789062, \"Open\": 149.57000732421875}, {\"Date\": \"2020-02-27T00:00:00\", \"Close\": 150.16000366210938, \"High\": 155.42999267578125, \"Low\": 149.0, \"Open\": 151.22999572753906}, {\"Date\": \"2020-02-28T00:00:00\", \"Close\": 149.24000549316406, \"High\": 156.72000122070312, \"Low\": 146.0, \"Open\": 154.08999633789062}, {\"Date\": \"2020-03-02T00:00:00\", \"Close\": 153.02000427246094, \"High\": 153.42999267578125, \"Low\": 148.3699951171875, \"Open\": 151.33999633789062}, {\"Date\": \"2020-03-03T00:00:00\", \"Close\": 145.24000549316406, \"High\": 154.0, \"Low\": 144.44000244140625, \"Open\": 152.44000244140625}, {\"Date\": \"2020-03-04T00:00:00\", \"Close\": 153.97999572753906, \"High\": 154.0, \"Low\": 145.99000549316406, \"Open\": 147.02000427246094}, {\"Date\": \"2020-03-05T00:00:00\", \"Close\": 151.41000366210938, \"High\": 154.35000610351562, \"Low\": 149.5500030517578, \"Open\": 150.8000030517578}, {\"Date\": \"2020-03-06T00:00:00\", \"Close\": 153.64999389648438, \"High\": 154.74000549316406, \"Low\": 147.8699951171875, \"Open\": 149.58999633789062}, {\"Date\": \"2020-03-09T00:00:00\", \"Close\": 144.05999755859375, \"High\": 149.4600067138672, \"Low\": 143.5500030517578, \"Open\": 146.58999633789062}, {\"Date\": \"2020-03-10T00:00:00\", \"Close\": 153.3000030517578, \"High\": 153.3800048828125, \"Low\": 144.8800048828125, \"Open\": 149.02000427246094}, {\"Date\": \"2020-03-11T00:00:00\", \"Close\": 147.24000549316406, \"High\": 149.72999572753906, \"Low\": 146.47000122070312, \"Open\": 149.72999572753906}, {\"Date\": \"2020-03-12T00:00:00\", \"Close\": 133.5800018310547, \"High\": 141.7100067138672, \"Low\": 130.33999633789062, \"Open\": 139.9600067138672}, {\"Date\": \"2020-03-13T00:00:00\", \"Close\": 141.67999267578125, \"High\": 141.69000244140625, \"Low\": 131.0, \"Open\": 141.00999450683594}, {\"Date\": \"2020-03-16T00:00:00\", \"Close\": 130.91000366210938, \"High\": 135.5, \"Low\": 128.00999450683594, \"Open\": 129.86000061035156}, {\"Date\": \"2020-03-17T00:00:00\", \"Close\": 134.44000244140625, \"High\": 136.77000427246094, \"Low\": 129.61000061035156, \"Open\": 131.94000244140625}, {\"Date\": \"2020-03-18T00:00:00\", \"Close\": 137.02000427246094, \"High\": 139.3699951171875, \"Low\": 128.38999938964844, \"Open\": 128.4600067138672}, {\"Date\": \"2020-03-19T00:00:00\", \"Close\": 137.50999450683594, \"High\": 140.17999267578125, \"Low\": 132.92999267578125, \"Open\": 137.7100067138672}, {\"Date\": \"2020-03-20T00:00:00\", \"Close\": 124.88999938964844, \"High\": 139.24000549316406, \"Low\": 122.70999908447266, \"Open\": 138.07000732421875}, {\"Date\": \"2020-03-23T00:00:00\", \"Close\": 117.87000274658203, \"High\": 128.39999389648438, \"Low\": 114.04000091552734, \"Open\": 128.16000366210938}, {\"Date\": \"2020-03-24T00:00:00\", \"Close\": 132.72000122070312, \"High\": 133.4499969482422, \"Low\": 121.0, \"Open\": 122.29000091552734}, {\"Date\": \"2020-03-25T00:00:00\", \"Close\": 131.5399932861328, \"High\": 134.69000244140625, \"Low\": 126.80000305175781, \"Open\": 133.14999389648438}, {\"Date\": \"2020-03-26T00:00:00\", \"Close\": 136.17999267578125, \"High\": 136.3800048828125, \"Low\": 130.61000061035156, \"Open\": 131.7899932861328}, {\"Date\": \"2020-03-27T00:00:00\", \"Close\": 133.24000549316406, \"High\": 137.07000732421875, \"Low\": 130.91000366210938, \"Open\": 132.8300018310547}, {\"Date\": \"2020-03-30T00:00:00\", \"Close\": 137.74000549316406, \"High\": 138.00999450683594, \"Low\": 131.05999755859375, \"Open\": 132.25}, {\"Date\": \"2020-03-31T00:00:00\", \"Close\": 136.50999450683594, \"High\": 139.44000244140625, \"Low\": 135.67999267578125, \"Open\": 135.69000244140625}, {\"Date\": \"2020-04-01T00:00:00\", \"Close\": 133.13999938964844, \"High\": 135.83999633789062, \"Low\": 131.00999450683594, \"Open\": 132.0}, {\"Date\": \"2020-04-02T00:00:00\", \"Close\": 137.91000366210938, \"High\": 138.2100067138672, \"Low\": 132.10000610351562, \"Open\": 132.36000061035156}, {\"Date\": \"2020-04-03T00:00:00\", \"Close\": 133.7899932861328, \"High\": 137.44000244140625, \"Low\": 132.89999389648438, \"Open\": 136.00999450683594}, {\"Date\": \"2020-04-06T00:00:00\", \"Close\": 140.6999969482422, \"High\": 141.25, \"Low\": 136.89999389648438, \"Open\": 137.86000061035156}, {\"Date\": \"2020-04-07T00:00:00\", \"Close\": 144.60000610351562, \"High\": 150.63999938964844, \"Low\": 144.39999389648438, \"Open\": 147.5}, {\"Date\": \"2020-04-08T00:00:00\", \"Close\": 148.99000549316406, \"High\": 149.72000122070312, \"Low\": 143.91000366210938, \"Open\": 145.72999572753906}, {\"Date\": \"2020-04-09T00:00:00\", \"Close\": 147.77999877929688, \"High\": 149.72999572753906, \"Low\": 146.5399932861328, \"Open\": 148.4600067138672}, {\"Date\": \"2020-04-13T00:00:00\", \"Close\": 146.39999389648438, \"High\": 148.5800018310547, \"Low\": 145.3000030517578, \"Open\": 147.5}, {\"Date\": \"2020-04-14T00:00:00\", \"Close\": 150.13999938964844, \"High\": 150.97999572753906, \"Low\": 148.0500030517578, \"Open\": 149.6199951171875}, {\"Date\": \"2020-04-15T00:00:00\", \"Close\": 145.16000366210938, \"High\": 148.5500030517578, \"Low\": 144.89999389648438, \"Open\": 148.19000244140625}, {\"Date\": \"2020-04-16T00:00:00\", \"Close\": 144.89999389648438, \"High\": 146.4499969482422, \"Low\": 143.22999572753906, \"Open\": 145.27000427246094}, {\"Date\": \"2020-04-17T00:00:00\", \"Close\": 146.4600067138672, \"High\": 148.5, \"Low\": 144.8000030517578, \"Open\": 147.44000244140625}, {\"Date\": \"2020-04-20T00:00:00\", \"Close\": 143.6699981689453, \"High\": 147.02000427246094, \"Low\": 143.64999389648438, \"Open\": 144.75}, {\"Date\": \"2020-04-21T00:00:00\", \"Close\": 141.6300048828125, \"High\": 142.77000427246094, \"Low\": 140.5, \"Open\": 142.25}, {\"Date\": \"2020-04-22T00:00:00\", \"Close\": 143.61000061035156, \"High\": 144.47999572753906, \"Low\": 141.7100067138672, \"Open\": 143.36000061035156}, {\"Date\": \"2020-04-23T00:00:00\", \"Close\": 144.3300018310547, \"High\": 147.5800018310547, \"Low\": 143.8800048828125, \"Open\": 144.5800018310547}, {\"Date\": \"2020-04-24T00:00:00\", \"Close\": 147.0, \"High\": 147.33999633789062, \"Low\": 144.30999755859375, \"Open\": 145.1699981689453}, {\"Date\": \"2020-04-27T00:00:00\", \"Close\": 153.64999389648438, \"High\": 154.49000549316406, \"Low\": 147.88999938964844, \"Open\": 148.0}, {\"Date\": \"2020-04-28T00:00:00\", \"Close\": 157.61000061035156, \"High\": 163.0800018310547, \"Low\": 155.1999969482422, \"Open\": 160.02999877929688}, {\"Date\": \"2020-04-29T00:00:00\", \"Close\": 156.25999450683594, \"High\": 160.22000122070312, \"Low\": 155.1699981689453, \"Open\": 158.5399932861328}, {\"Date\": \"2020-04-30T00:00:00\", \"Close\": 151.9199981689453, \"High\": 154.94000244140625, \"Low\": 151.75, \"Open\": 154.30999755859375}, {\"Date\": \"2020-05-01T00:00:00\", \"Close\": 148.60000610351562, \"High\": 150.0399932861328, \"Low\": 147.72999572753906, \"Open\": 149.3000030517578}, {\"Date\": \"2020-05-04T00:00:00\", \"Close\": 148.39999389648438, \"High\": 148.55999755859375, \"Low\": 146.05999755859375, \"Open\": 148.5399932861328}, {\"Date\": \"2020-05-05T00:00:00\", \"Close\": 147.42999267578125, \"High\": 150.0, \"Low\": 147.10000610351562, \"Open\": 149.88999938964844}, {\"Date\": \"2020-05-06T00:00:00\", \"Close\": 146.1999969482422, \"High\": 148.1699981689453, \"Low\": 145.99000549316406, \"Open\": 147.7899932861328}, {\"Date\": \"2020-05-07T00:00:00\", \"Close\": 145.74000549316406, \"High\": 147.85000610351562, \"Low\": 144.89999389648438, \"Open\": 147.6999969482422}, {\"Date\": \"2020-05-08T00:00:00\", \"Close\": 148.50999450683594, \"High\": 149.17999267578125, \"Low\": 146.3800048828125, \"Open\": 147.0800018310547}]}}, {\"mode\": \"vega-lite\"});\n",
       "</script>"
      ],
      "text/plain": [
       "alt.LayerChart(...)"
      ]
     },
     "execution_count": 21,
     "metadata": {},
     "output_type": "execute_result"
    }
   ],
   "source": [
    "mmm = rawdata.loc[:, idx['Close':'Open', 'MMM']].droplevel('Symbol', axis=1).tail(60)\n",
    "\n",
    "import altair as alt\n",
    "\n",
    "open_close_color = alt.condition(\n",
    "    \"datum.Open <= datum.Close\",\n",
    "    alt.value(\"#06982d\"), # green for increase\n",
    "    alt.value(\"#ae1325\"), # red for decrease\n",
    ") \n",
    "\n",
    "base = alt.Chart(mmm.reset_index()).encode(\n",
    "    alt.X('Date:T',\n",
    "          axis=alt.Axis(\n",
    "              format='%m-%d-%Y',\n",
    "              labelAngle=-90)\n",
    "    ),\n",
    "    color=open_close_color\n",
    ")\n",
    "\n",
    "rule = base.mark_rule().encode(\n",
    "    alt.Y(\n",
    "        'Low:Q',\n",
    "        title='Price',\n",
    "        scale=alt.Scale(zero=False),\n",
    "    ),\n",
    "    alt.Y2('High:Q')\n",
    ")\n",
    "\n",
    "bar = base.mark_bar().encode(\n",
    "    alt.Y('Open:Q'),\n",
    "    alt.Y2('Close:Q')\n",
    ")\n",
    "\n",
    "rule + bar"
   ]
  },
  {
   "cell_type": "markdown",
   "metadata": {
    "slideshow": {
     "slide_type": "subslide"
    }
   },
   "source": [
    "### Example Figure: Adjusted close prices"
   ]
  },
  {
   "cell_type": "code",
   "execution_count": 22,
   "metadata": {
    "slideshow": {
     "slide_type": "-"
    }
   },
   "outputs": [
    {
     "data": {
      "text/html": [
       "<div>\n",
       "<style scoped>\n",
       "    .dataframe tbody tr th:only-of-type {\n",
       "        vertical-align: middle;\n",
       "    }\n",
       "\n",
       "    .dataframe tbody tr th {\n",
       "        vertical-align: top;\n",
       "    }\n",
       "\n",
       "    .dataframe thead tr th {\n",
       "        text-align: left;\n",
       "    }\n",
       "\n",
       "    .dataframe thead tr:last-of-type th {\n",
       "        text-align: right;\n",
       "    }\n",
       "</style>\n",
       "<table border=\"1\" class=\"dataframe\">\n",
       "  <thead>\n",
       "    <tr>\n",
       "      <th>Value</th>\n",
       "      <th colspan=\"5\" halign=\"left\">Adj Close</th>\n",
       "    </tr>\n",
       "    <tr>\n",
       "      <th>Symbol</th>\n",
       "      <th>JNJ</th>\n",
       "      <th>MMM</th>\n",
       "      <th>MRK</th>\n",
       "      <th>PFE</th>\n",
       "      <th>PG</th>\n",
       "    </tr>\n",
       "    <tr>\n",
       "      <th>Date</th>\n",
       "      <th></th>\n",
       "      <th></th>\n",
       "      <th></th>\n",
       "      <th></th>\n",
       "      <th></th>\n",
       "    </tr>\n",
       "  </thead>\n",
       "  <tbody>\n",
       "    <tr>\n",
       "      <th>2020-02-13</th>\n",
       "      <td>145.212158</td>\n",
       "      <td>154.149353</td>\n",
       "      <td>78.755493</td>\n",
       "      <td>33.640732</td>\n",
       "      <td>121.161919</td>\n",
       "    </tr>\n",
       "    <tr>\n",
       "      <th>2020-02-14</th>\n",
       "      <td>145.250854</td>\n",
       "      <td>155.355453</td>\n",
       "      <td>79.408836</td>\n",
       "      <td>33.258137</td>\n",
       "      <td>122.306061</td>\n",
       "    </tr>\n",
       "    <tr>\n",
       "      <th>2020-02-18</th>\n",
       "      <td>144.293015</td>\n",
       "      <td>153.300278</td>\n",
       "      <td>79.226288</td>\n",
       "      <td>33.085056</td>\n",
       "      <td>121.074661</td>\n",
       "    </tr>\n",
       "    <tr>\n",
       "      <th>2020-02-19</th>\n",
       "      <td>144.099533</td>\n",
       "      <td>153.744095</td>\n",
       "      <td>78.784325</td>\n",
       "      <td>33.003075</td>\n",
       "      <td>121.627335</td>\n",
       "    </tr>\n",
       "    <tr>\n",
       "      <th>2020-02-20</th>\n",
       "      <td>143.548065</td>\n",
       "      <td>152.991501</td>\n",
       "      <td>79.255112</td>\n",
       "      <td>32.656918</td>\n",
       "      <td>122.732689</td>\n",
       "    </tr>\n",
       "  </tbody>\n",
       "</table>\n",
       "</div>"
      ],
      "text/plain": [
       "Value        Adj Close                                              \n",
       "Symbol             JNJ         MMM        MRK        PFE          PG\n",
       "Date                                                                \n",
       "2020-02-13  145.212158  154.149353  78.755493  33.640732  121.161919\n",
       "2020-02-14  145.250854  155.355453  79.408836  33.258137  122.306061\n",
       "2020-02-18  144.293015  153.300278  79.226288  33.085056  121.074661\n",
       "2020-02-19  144.099533  153.744095  78.784325  33.003075  121.627335\n",
       "2020-02-20  143.548065  152.991501  79.255112  32.656918  122.732689"
      ]
     },
     "execution_count": 22,
     "metadata": {},
     "output_type": "execute_result"
    }
   ],
   "source": [
    "first10 = rawdata.loc[:, idx['Adj Close', ['MMM', 'MRK', 'PFE', 'PG', 'UNH', 'JNJ']]].tail(60)\n",
    "first10.head()"
   ]
  },
  {
   "cell_type": "markdown",
   "metadata": {
    "slideshow": {
     "slide_type": "subslide"
    }
   },
   "source": [
    "* Stacking transforms data into long-format:  \n",
    "    _Note: unstack does the opposite_"
   ]
  },
  {
   "cell_type": "code",
   "execution_count": 23,
   "metadata": {
    "slideshow": {
     "slide_type": "-"
    }
   },
   "outputs": [
    {
     "data": {
      "text/html": [
       "<div>\n",
       "<style scoped>\n",
       "    .dataframe tbody tr th:only-of-type {\n",
       "        vertical-align: middle;\n",
       "    }\n",
       "\n",
       "    .dataframe tbody tr th {\n",
       "        vertical-align: top;\n",
       "    }\n",
       "\n",
       "    .dataframe thead th {\n",
       "        text-align: right;\n",
       "    }\n",
       "</style>\n",
       "<table border=\"1\" class=\"dataframe\">\n",
       "  <thead>\n",
       "    <tr style=\"text-align: right;\">\n",
       "      <th></th>\n",
       "      <th>Value</th>\n",
       "      <th>Adj Close</th>\n",
       "    </tr>\n",
       "    <tr>\n",
       "      <th>Date</th>\n",
       "      <th>Symbol</th>\n",
       "      <th></th>\n",
       "    </tr>\n",
       "  </thead>\n",
       "  <tbody>\n",
       "    <tr>\n",
       "      <th rowspan=\"5\" valign=\"top\">2020-02-13</th>\n",
       "      <th>JNJ</th>\n",
       "      <td>145.212158</td>\n",
       "    </tr>\n",
       "    <tr>\n",
       "      <th>MMM</th>\n",
       "      <td>154.149353</td>\n",
       "    </tr>\n",
       "    <tr>\n",
       "      <th>MRK</th>\n",
       "      <td>78.755493</td>\n",
       "    </tr>\n",
       "    <tr>\n",
       "      <th>PFE</th>\n",
       "      <td>33.640732</td>\n",
       "    </tr>\n",
       "    <tr>\n",
       "      <th>PG</th>\n",
       "      <td>121.161919</td>\n",
       "    </tr>\n",
       "    <tr>\n",
       "      <th>...</th>\n",
       "      <th>...</th>\n",
       "      <td>...</td>\n",
       "    </tr>\n",
       "    <tr>\n",
       "      <th rowspan=\"5\" valign=\"top\">2020-05-08</th>\n",
       "      <th>JNJ</th>\n",
       "      <td>144.784729</td>\n",
       "    </tr>\n",
       "    <tr>\n",
       "      <th>MMM</th>\n",
       "      <td>143.294449</td>\n",
       "    </tr>\n",
       "    <tr>\n",
       "      <th>MRK</th>\n",
       "      <td>74.010338</td>\n",
       "    </tr>\n",
       "    <tr>\n",
       "      <th>PFE</th>\n",
       "      <td>34.242790</td>\n",
       "    </tr>\n",
       "    <tr>\n",
       "      <th>PG</th>\n",
       "      <td>113.175537</td>\n",
       "    </tr>\n",
       "  </tbody>\n",
       "</table>\n",
       "<p>300 rows × 1 columns</p>\n",
       "</div>"
      ],
      "text/plain": [
       "Value               Adj Close\n",
       "Date       Symbol            \n",
       "2020-02-13 JNJ     145.212158\n",
       "           MMM     154.149353\n",
       "           MRK      78.755493\n",
       "           PFE      33.640732\n",
       "           PG      121.161919\n",
       "...                       ...\n",
       "2020-05-08 JNJ     144.784729\n",
       "           MMM     143.294449\n",
       "           MRK      74.010338\n",
       "           PFE      34.242790\n",
       "           PG      113.175537\n",
       "\n",
       "[300 rows x 1 columns]"
      ]
     },
     "execution_count": 23,
     "metadata": {},
     "output_type": "execute_result"
    }
   ],
   "source": [
    "healthcare = first10.stack('Symbol')\n",
    "healthcare"
   ]
  },
  {
   "cell_type": "code",
   "execution_count": 24,
   "metadata": {
    "slideshow": {
     "slide_type": "subslide"
    }
   },
   "outputs": [
    {
     "data": {
      "text/html": [
       "\n",
       "<div id=\"altair-viz-4d0314ff0c0a43bfa5c82573d684a43b\"></div>\n",
       "<script type=\"text/javascript\">\n",
       "  (function(spec, embedOpt){\n",
       "    let outputDiv = document.currentScript.previousElementSibling;\n",
       "    if (outputDiv.id !== \"altair-viz-4d0314ff0c0a43bfa5c82573d684a43b\") {\n",
       "      outputDiv = document.getElementById(\"altair-viz-4d0314ff0c0a43bfa5c82573d684a43b\");\n",
       "    }\n",
       "    const paths = {\n",
       "      \"vega\": \"https://cdn.jsdelivr.net/npm//vega@5?noext\",\n",
       "      \"vega-lib\": \"https://cdn.jsdelivr.net/npm//vega-lib?noext\",\n",
       "      \"vega-lite\": \"https://cdn.jsdelivr.net/npm//vega-lite@4.8.1?noext\",\n",
       "      \"vega-embed\": \"https://cdn.jsdelivr.net/npm//vega-embed@6?noext\",\n",
       "    };\n",
       "\n",
       "    function loadScript(lib) {\n",
       "      return new Promise(function(resolve, reject) {\n",
       "        var s = document.createElement('script');\n",
       "        s.src = paths[lib];\n",
       "        s.async = true;\n",
       "        s.onload = () => resolve(paths[lib]);\n",
       "        s.onerror = () => reject(`Error loading script: ${paths[lib]}`);\n",
       "        document.getElementsByTagName(\"head\")[0].appendChild(s);\n",
       "      });\n",
       "    }\n",
       "\n",
       "    function showError(err) {\n",
       "      outputDiv.innerHTML = `<div class=\"error\" style=\"color:red;\">${err}</div>`;\n",
       "      throw err;\n",
       "    }\n",
       "\n",
       "    function displayChart(vegaEmbed) {\n",
       "      vegaEmbed(outputDiv, spec, embedOpt)\n",
       "        .catch(err => showError(`Javascript Error: ${err.message}<br>This usually means there's a typo in your chart specification. See the javascript console for the full traceback.`));\n",
       "    }\n",
       "\n",
       "    if(typeof define === \"function\" && define.amd) {\n",
       "      requirejs.config({paths});\n",
       "      require([\"vega-embed\"], displayChart, err => showError(`Error loading script: ${err.message}`));\n",
       "    } else if (typeof vegaEmbed === \"function\") {\n",
       "      displayChart(vegaEmbed);\n",
       "    } else {\n",
       "      loadScript(\"vega\")\n",
       "        .then(() => loadScript(\"vega-lite\"))\n",
       "        .then(() => loadScript(\"vega-embed\"))\n",
       "        .catch(showError)\n",
       "        .then(() => displayChart(vegaEmbed));\n",
       "    }\n",
       "  })({\"config\": {\"view\": {\"continuousWidth\": 400, \"continuousHeight\": 300}}, \"data\": {\"name\": \"data-acef854fcb80436a44e9a84600f968bd\"}, \"mark\": \"line\", \"encoding\": {\"color\": {\"type\": \"nominal\", \"field\": \"Symbol\"}, \"x\": {\"type\": \"temporal\", \"axis\": {\"format\": \"%m-%d-%Y\", \"labelAngle\": -90}, \"field\": \"Date\"}, \"y\": {\"type\": \"quantitative\", \"field\": \"Adj Close\"}}, \"$schema\": \"https://vega.github.io/schema/vega-lite/v4.8.1.json\", \"datasets\": {\"data-acef854fcb80436a44e9a84600f968bd\": [{\"Date\": \"2020-02-13T00:00:00\", \"Symbol\": \"JNJ\", \"Adj Close\": 145.212158203125}, {\"Date\": \"2020-02-13T00:00:00\", \"Symbol\": \"MMM\", \"Adj Close\": 154.14935302734375}, {\"Date\": \"2020-02-13T00:00:00\", \"Symbol\": \"MRK\", \"Adj Close\": 78.7554931640625}, {\"Date\": \"2020-02-13T00:00:00\", \"Symbol\": \"PFE\", \"Adj Close\": 33.64073181152344}, {\"Date\": \"2020-02-13T00:00:00\", \"Symbol\": \"PG\", \"Adj Close\": 121.16191864013672}, {\"Date\": \"2020-02-14T00:00:00\", \"Symbol\": \"JNJ\", \"Adj Close\": 145.2508544921875}, {\"Date\": \"2020-02-14T00:00:00\", \"Symbol\": \"MMM\", \"Adj Close\": 155.35545349121094}, {\"Date\": \"2020-02-14T00:00:00\", \"Symbol\": \"MRK\", \"Adj Close\": 79.4088363647461}, {\"Date\": \"2020-02-14T00:00:00\", \"Symbol\": \"PFE\", \"Adj Close\": 33.25813674926758}, {\"Date\": \"2020-02-14T00:00:00\", \"Symbol\": \"PG\", \"Adj Close\": 122.30606079101562}, {\"Date\": \"2020-02-18T00:00:00\", \"Symbol\": \"JNJ\", \"Adj Close\": 144.2930145263672}, {\"Date\": \"2020-02-18T00:00:00\", \"Symbol\": \"MMM\", \"Adj Close\": 153.30027770996094}, {\"Date\": \"2020-02-18T00:00:00\", \"Symbol\": \"MRK\", \"Adj Close\": 79.22628784179688}, {\"Date\": \"2020-02-18T00:00:00\", \"Symbol\": \"PFE\", \"Adj Close\": 33.08505630493164}, {\"Date\": \"2020-02-18T00:00:00\", \"Symbol\": \"PG\", \"Adj Close\": 121.07466125488281}, {\"Date\": \"2020-02-19T00:00:00\", \"Symbol\": \"JNJ\", \"Adj Close\": 144.0995330810547}, {\"Date\": \"2020-02-19T00:00:00\", \"Symbol\": \"MMM\", \"Adj Close\": 153.7440948486328}, {\"Date\": \"2020-02-19T00:00:00\", \"Symbol\": \"MRK\", \"Adj Close\": 78.7843246459961}, {\"Date\": \"2020-02-19T00:00:00\", \"Symbol\": \"PFE\", \"Adj Close\": 33.003074645996094}, {\"Date\": \"2020-02-19T00:00:00\", \"Symbol\": \"PG\", \"Adj Close\": 121.62733459472656}, {\"Date\": \"2020-02-20T00:00:00\", \"Symbol\": \"JNJ\", \"Adj Close\": 143.54806518554688}, {\"Date\": \"2020-02-20T00:00:00\", \"Symbol\": \"MMM\", \"Adj Close\": 152.9915008544922}, {\"Date\": \"2020-02-20T00:00:00\", \"Symbol\": \"MRK\", \"Adj Close\": 79.25511169433594}, {\"Date\": \"2020-02-20T00:00:00\", \"Symbol\": \"PFE\", \"Adj Close\": 32.656917572021484}, {\"Date\": \"2020-02-20T00:00:00\", \"Symbol\": \"PG\", \"Adj Close\": 122.7326889038086}, {\"Date\": \"2020-02-21T00:00:00\", \"Symbol\": \"JNJ\", \"Adj Close\": 145.05734252929688}, {\"Date\": \"2020-02-21T00:00:00\", \"Symbol\": \"MMM\", \"Adj Close\": 151.41873168945312}, {\"Date\": \"2020-02-21T00:00:00\", \"Symbol\": \"MRK\", \"Adj Close\": 79.1109848022461}, {\"Date\": \"2020-02-21T00:00:00\", \"Symbol\": \"PFE\", \"Adj Close\": 32.53849792480469}, {\"Date\": \"2020-02-21T00:00:00\", \"Symbol\": \"PG\", \"Adj Close\": 122.84902954101562}, {\"Date\": \"2020-02-24T00:00:00\", \"Symbol\": \"JNJ\", \"Adj Close\": 142.06820678710938}, {\"Date\": \"2020-02-24T00:00:00\", \"Symbol\": \"MMM\", \"Adj Close\": 147.1925811767578}, {\"Date\": \"2020-02-24T00:00:00\", \"Symbol\": \"MRK\", \"Adj Close\": 78.1406021118164}, {\"Date\": \"2020-02-24T00:00:00\", \"Symbol\": \"PFE\", \"Adj Close\": 31.582019805908203}, {\"Date\": \"2020-02-24T00:00:00\", \"Symbol\": \"PG\", \"Adj Close\": 119.55237579345703}, {\"Date\": \"2020-02-25T00:00:00\", \"Symbol\": \"JNJ\", \"Adj Close\": 140.8413543701172}, {\"Date\": \"2020-02-25T00:00:00\", \"Symbol\": \"MMM\", \"Adj Close\": 141.69276428222656}, {\"Date\": \"2020-02-25T00:00:00\", \"Symbol\": \"MRK\", \"Adj Close\": 77.1221694946289}, {\"Date\": \"2020-02-25T00:00:00\", \"Symbol\": \"PFE\", \"Adj Close\": 30.907928466796875}, {\"Date\": \"2020-02-25T00:00:00\", \"Symbol\": \"PG\", \"Adj Close\": 117.73920440673828}, {\"Date\": \"2020-02-26T00:00:00\", \"Symbol\": \"JNJ\", \"Adj Close\": 139.8968963623047}, {\"Date\": \"2020-02-26T00:00:00\", \"Symbol\": \"MMM\", \"Adj Close\": 143.72865295410156}, {\"Date\": \"2020-02-26T00:00:00\", \"Symbol\": \"MRK\", \"Adj Close\": 76.80510711669922}, {\"Date\": \"2020-02-26T00:00:00\", \"Symbol\": \"PFE\", \"Adj Close\": 31.627567291259766}, {\"Date\": \"2020-02-26T00:00:00\", \"Symbol\": \"PG\", \"Adj Close\": 116.50782012939453}, {\"Date\": \"2020-02-27T00:00:00\", \"Symbol\": \"JNJ\", \"Adj Close\": 135.4569549560547}, {\"Date\": \"2020-02-27T00:00:00\", \"Symbol\": \"MMM\", \"Adj Close\": 144.88650512695312}, {\"Date\": \"2020-02-27T00:00:00\", \"Symbol\": \"MRK\", \"Adj Close\": 75.01805877685547}, {\"Date\": \"2020-02-27T00:00:00\", \"Symbol\": \"PFE\", \"Adj Close\": 31.062788009643555}, {\"Date\": \"2020-02-27T00:00:00\", \"Symbol\": \"PG\", \"Adj Close\": 110.05024719238281}, {\"Date\": \"2020-02-28T00:00:00\", \"Symbol\": \"JNJ\", \"Adj Close\": 130.93911743164062}, {\"Date\": \"2020-02-28T00:00:00\", \"Symbol\": \"MMM\", \"Adj Close\": 143.99880981445312}, {\"Date\": \"2020-02-28T00:00:00\", \"Symbol\": \"MRK\", \"Adj Close\": 73.55765533447266}, {\"Date\": \"2020-02-28T00:00:00\", \"Symbol\": \"PFE\", \"Adj Close\": 30.443357467651367}, {\"Date\": \"2020-02-28T00:00:00\", \"Symbol\": \"PG\", \"Adj Close\": 109.7884521484375}, {\"Date\": \"2020-03-02T00:00:00\", \"Symbol\": \"JNJ\", \"Adj Close\": 136.33326721191406}, {\"Date\": \"2020-03-02T00:00:00\", \"Symbol\": \"MMM\", \"Adj Close\": 147.6460723876953}, {\"Date\": \"2020-03-02T00:00:00\", \"Symbol\": \"MRK\", \"Adj Close\": 78.17903900146484}, {\"Date\": \"2020-03-02T00:00:00\", \"Symbol\": \"PFE\", \"Adj Close\": 31.773317337036133}, {\"Date\": \"2020-03-02T00:00:00\", \"Symbol\": \"PG\", \"Adj Close\": 115.9260482788086}, {\"Date\": \"2020-03-03T00:00:00\", \"Symbol\": \"JNJ\", \"Adj Close\": 132.01991271972656}, {\"Date\": \"2020-03-03T00:00:00\", \"Symbol\": \"MMM\", \"Adj Close\": 140.13929748535156}, {\"Date\": \"2020-03-03T00:00:00\", \"Symbol\": \"MRK\", \"Adj Close\": 76.02687072753906}, {\"Date\": \"2020-03-03T00:00:00\", \"Symbol\": \"PFE\", \"Adj Close\": 31.244972229003906}, {\"Date\": \"2020-03-03T00:00:00\", \"Symbol\": \"PG\", \"Adj Close\": 114.57830047607422}, {\"Date\": \"2020-03-04T00:00:00\", \"Symbol\": \"JNJ\", \"Adj Close\": 139.70216369628906}, {\"Date\": \"2020-03-04T00:00:00\", \"Symbol\": \"MMM\", \"Adj Close\": 148.5723419189453}, {\"Date\": \"2020-03-04T00:00:00\", \"Symbol\": \"MRK\", \"Adj Close\": 79.7162857055664}, {\"Date\": \"2020-03-04T00:00:00\", \"Symbol\": \"PFE\", \"Adj Close\": 33.15793228149414}, {\"Date\": \"2020-03-04T00:00:00\", \"Symbol\": \"PG\", \"Adj Close\": 120.71590423583984}, {\"Date\": \"2020-03-05T00:00:00\", \"Symbol\": \"JNJ\", \"Adj Close\": 138.27085876464844}, {\"Date\": \"2020-03-05T00:00:00\", \"Symbol\": \"MMM\", \"Adj Close\": 146.09262084960938}, {\"Date\": \"2020-03-05T00:00:00\", \"Symbol\": \"MRK\", \"Adj Close\": 78.38079833984375}, {\"Date\": \"2020-03-05T00:00:00\", \"Symbol\": \"PFE\", \"Adj Close\": 32.30165481567383}, {\"Date\": \"2020-03-05T00:00:00\", \"Symbol\": \"PG\", \"Adj Close\": 117.93313598632812}, {\"Date\": \"2020-03-06T00:00:00\", \"Symbol\": \"JNJ\", \"Adj Close\": 138.29034423828125}, {\"Date\": \"2020-03-06T00:00:00\", \"Symbol\": \"MMM\", \"Adj Close\": 148.25393676757812}, {\"Date\": \"2020-03-06T00:00:00\", \"Symbol\": \"MRK\", \"Adj Close\": 78.97647857666016}, {\"Date\": \"2020-03-06T00:00:00\", \"Symbol\": \"PFE\", \"Adj Close\": 31.90084457397461}, {\"Date\": \"2020-03-06T00:00:00\", \"Symbol\": \"PG\", \"Adj Close\": 117.96222686767578}, {\"Date\": \"2020-03-09T00:00:00\", \"Symbol\": \"JNJ\", \"Adj Close\": 132.8475341796875}, {\"Date\": \"2020-03-09T00:00:00\", \"Symbol\": \"MMM\", \"Adj Close\": 139.00074768066406}, {\"Date\": \"2020-03-09T00:00:00\", \"Symbol\": \"MRK\", \"Adj Close\": 75.86353302001953}, {\"Date\": \"2020-03-09T00:00:00\", \"Symbol\": \"PFE\", \"Adj Close\": 30.753070831298828}, {\"Date\": \"2020-03-09T00:00:00\", \"Symbol\": \"PG\", \"Adj Close\": 112.53243255615234}, {\"Date\": \"2020-03-10T00:00:00\", \"Symbol\": \"JNJ\", \"Adj Close\": 137.91061401367188}, {\"Date\": \"2020-03-10T00:00:00\", \"Symbol\": \"MMM\", \"Adj Close\": 147.91624450683594}, {\"Date\": \"2020-03-10T00:00:00\", \"Symbol\": \"MRK\", \"Adj Close\": 78.80354309082031}, {\"Date\": \"2020-03-10T00:00:00\", \"Symbol\": \"PFE\", \"Adj Close\": 31.509143829345703}, {\"Date\": \"2020-03-10T00:00:00\", \"Symbol\": \"PG\", \"Adj Close\": 116.8859634399414}, {\"Date\": \"2020-03-11T00:00:00\", \"Symbol\": \"JNJ\", \"Adj Close\": 128.3297119140625}, {\"Date\": \"2020-03-11T00:00:00\", \"Symbol\": \"MMM\", \"Adj Close\": 142.0690460205078}, {\"Date\": \"2020-03-11T00:00:00\", \"Symbol\": \"MRK\", \"Adj Close\": 76.14216613769531}, {\"Date\": \"2020-03-11T00:00:00\", \"Symbol\": \"PFE\", \"Adj Close\": 29.304689407348633}, {\"Date\": \"2020-03-11T00:00:00\", \"Symbol\": \"PG\", \"Adj Close\": 108.19828796386719}, {\"Date\": \"2020-03-12T00:00:00\", \"Symbol\": \"JNJ\", \"Adj Close\": 122.10794830322266}, {\"Date\": \"2020-03-12T00:00:00\", \"Symbol\": \"MMM\", \"Adj Close\": 128.8887939453125}, {\"Date\": \"2020-03-12T00:00:00\", \"Symbol\": \"MRK\", \"Adj Close\": 71.53040313720703}, {\"Date\": \"2020-03-12T00:00:00\", \"Symbol\": \"PFE\", \"Adj Close\": 27.3461856842041}, {\"Date\": \"2020-03-12T00:00:00\", \"Symbol\": \"PG\", \"Adj Close\": 98.74463653564453}, {\"Date\": \"2020-03-13T00:00:00\", \"Symbol\": \"JNJ\", \"Adj Close\": 130.75411987304688}, {\"Date\": \"2020-03-13T00:00:00\", \"Symbol\": \"MMM\", \"Adj Close\": 136.7042999267578}, {\"Date\": \"2020-03-13T00:00:00\", \"Symbol\": \"MRK\", \"Adj Close\": 74.34938049316406}, {\"Date\": \"2020-03-13T00:00:00\", \"Symbol\": \"PFE\", \"Adj Close\": 29.796594619750977}, {\"Date\": \"2020-03-13T00:00:00\", \"Symbol\": \"PG\", \"Adj Close\": 110.60291290283203}, {\"Date\": \"2020-03-16T00:00:00\", \"Symbol\": \"JNJ\", \"Adj Close\": 123.78266143798828}, {\"Date\": \"2020-03-16T00:00:00\", \"Symbol\": \"MMM\", \"Adj Close\": 126.31256103515625}, {\"Date\": \"2020-03-16T00:00:00\", \"Symbol\": \"MRK\", \"Adj Close\": 67.7330093383789}, {\"Date\": \"2020-03-16T00:00:00\", \"Symbol\": \"PFE\", \"Adj Close\": 27.491931915283203}, {\"Date\": \"2020-03-16T00:00:00\", \"Symbol\": \"PG\", \"Adj Close\": 105.20221710205078}, {\"Date\": \"2020-03-17T00:00:00\", \"Symbol\": \"JNJ\", \"Adj Close\": 132.99356079101562}, {\"Date\": \"2020-03-17T00:00:00\", \"Symbol\": \"MMM\", \"Adj Close\": 129.71856689453125}, {\"Date\": \"2020-03-17T00:00:00\", \"Symbol\": \"MRK\", \"Adj Close\": 72.150390625}, {\"Date\": \"2020-03-17T00:00:00\", \"Symbol\": \"PFE\", \"Adj Close\": 29.295581817626953}, {\"Date\": \"2020-03-17T00:00:00\", \"Symbol\": \"PG\", \"Adj Close\": 114.64617156982422}, {\"Date\": \"2020-03-18T00:00:00\", \"Symbol\": \"JNJ\", \"Adj Close\": 131.40650939941406}, {\"Date\": \"2020-03-18T00:00:00\", \"Symbol\": \"MMM\", \"Adj Close\": 132.20797729492188}, {\"Date\": \"2020-03-18T00:00:00\", \"Symbol\": \"MRK\", \"Adj Close\": 69.38953399658203}, {\"Date\": \"2020-03-18T00:00:00\", \"Symbol\": \"PFE\", \"Adj Close\": 29.477766036987305}, {\"Date\": \"2020-03-18T00:00:00\", \"Symbol\": \"PG\", \"Adj Close\": 113.88017272949219}, {\"Date\": \"2020-03-19T00:00:00\", \"Symbol\": \"JNJ\", \"Adj Close\": 123.70476531982422}, {\"Date\": \"2020-03-19T00:00:00\", \"Symbol\": \"MMM\", \"Adj Close\": 132.68075561523438}, {\"Date\": \"2020-03-19T00:00:00\", \"Symbol\": \"MRK\", \"Adj Close\": 68.51768493652344}, {\"Date\": \"2020-03-19T00:00:00\", \"Symbol\": \"PFE\", \"Adj Close\": 27.71055793762207}, {\"Date\": \"2020-03-19T00:00:00\", \"Symbol\": \"PG\", \"Adj Close\": 107.46139526367188}, {\"Date\": \"2020-03-20T00:00:00\", \"Symbol\": \"JNJ\", \"Adj Close\": 116.73328399658203}, {\"Date\": \"2020-03-20T00:00:00\", \"Symbol\": \"MMM\", \"Adj Close\": 120.50396728515625}, {\"Date\": \"2020-03-20T00:00:00\", \"Symbol\": \"MRK\", \"Adj Close\": 69.12797546386719}, {\"Date\": \"2020-03-20T00:00:00\", \"Symbol\": \"PFE\", \"Adj Close\": 26.426145553588867}, {\"Date\": \"2020-03-20T00:00:00\", \"Symbol\": \"PG\", \"Adj Close\": 99.31670379638672}, {\"Date\": \"2020-03-23T00:00:00\", \"Symbol\": \"JNJ\", \"Adj Close\": 108.21368408203125}, {\"Date\": \"2020-03-23T00:00:00\", \"Symbol\": \"MMM\", \"Adj Close\": 113.73050689697266}, {\"Date\": \"2020-03-23T00:00:00\", \"Symbol\": \"MRK\", \"Adj Close\": 64.32311248779297}, {\"Date\": \"2020-03-23T00:00:00\", \"Symbol\": \"PFE\", \"Adj Close\": 25.95245933532715}, {\"Date\": \"2020-03-23T00:00:00\", \"Symbol\": \"PG\", \"Adj Close\": 94.73046112060547}, {\"Date\": \"2020-03-24T00:00:00\", \"Symbol\": \"JNJ\", \"Adj Close\": 116.0419921875}, {\"Date\": \"2020-03-24T00:00:00\", \"Symbol\": \"MMM\", \"Adj Close\": 128.0590057373047}, {\"Date\": \"2020-03-24T00:00:00\", \"Symbol\": \"MRK\", \"Adj Close\": 66.89022827148438}, {\"Date\": \"2020-03-24T00:00:00\", \"Symbol\": \"PFE\", \"Adj Close\": 27.054685592651367}, {\"Date\": \"2020-03-24T00:00:00\", \"Symbol\": \"PG\", \"Adj Close\": 100.13116455078125}, {\"Date\": \"2020-03-25T00:00:00\", \"Symbol\": \"JNJ\", \"Adj Close\": 116.25618743896484}, {\"Date\": \"2020-03-25T00:00:00\", \"Symbol\": \"MMM\", \"Adj Close\": 126.92042541503906}, {\"Date\": \"2020-03-25T00:00:00\", \"Symbol\": \"MRK\", \"Adj Close\": 66.08619689941406}, {\"Date\": \"2020-03-25T00:00:00\", \"Symbol\": \"PFE\", \"Adj Close\": 27.100231170654297}, {\"Date\": \"2020-03-25T00:00:00\", \"Symbol\": \"PG\", \"Adj Close\": 97.85260009765625}, {\"Date\": \"2020-03-26T00:00:00\", \"Symbol\": \"JNJ\", \"Adj Close\": 123.23739624023438}, {\"Date\": \"2020-03-26T00:00:00\", \"Symbol\": \"MMM\", \"Adj Close\": 131.39747619628906}, {\"Date\": \"2020-03-26T00:00:00\", \"Symbol\": \"MRK\", \"Adj Close\": 71.2301025390625}, {\"Date\": \"2020-03-26T00:00:00\", \"Symbol\": \"PFE\", \"Adj Close\": 28.922100067138672}, {\"Date\": \"2020-03-26T00:00:00\", \"Symbol\": \"PG\", \"Adj Close\": 104.11624908447266}, {\"Date\": \"2020-03-27T00:00:00\", \"Symbol\": \"JNJ\", \"Adj Close\": 119.91719055175781}, {\"Date\": \"2020-03-27T00:00:00\", \"Symbol\": \"MMM\", \"Adj Close\": 128.56072998046875}, {\"Date\": \"2020-03-27T00:00:00\", \"Symbol\": \"MRK\", \"Adj Close\": 69.48639678955078}, {\"Date\": \"2020-03-27T00:00:00\", \"Symbol\": \"PFE\", \"Adj Close\": 28.14780616760254}, {\"Date\": \"2020-03-27T00:00:00\", \"Symbol\": \"PG\", \"Adj Close\": 106.82145690917969}, {\"Date\": \"2020-03-30T00:00:00\", \"Symbol\": \"JNJ\", \"Adj Close\": 129.50784301757812}, {\"Date\": \"2020-03-30T00:00:00\", \"Symbol\": \"MMM\", \"Adj Close\": 132.90267944335938}, {\"Date\": \"2020-03-30T00:00:00\", \"Symbol\": \"MRK\", \"Adj Close\": 74.54312896728516}, {\"Date\": \"2020-03-30T00:00:00\", \"Symbol\": \"PFE\", \"Adj Close\": 29.760154724121094}, {\"Date\": \"2020-03-30T00:00:00\", \"Symbol\": \"PG\", \"Adj Close\": 111.50465393066406}, {\"Date\": \"2020-03-31T00:00:00\", \"Symbol\": \"JNJ\", \"Adj Close\": 127.6773452758789}, {\"Date\": \"2020-03-31T00:00:00\", \"Symbol\": \"MMM\", \"Adj Close\": 131.7158660888672}, {\"Date\": \"2020-03-31T00:00:00\", \"Symbol\": \"MRK\", \"Adj Close\": 74.533447265625}, {\"Date\": \"2020-03-31T00:00:00\", \"Symbol\": \"PFE\", \"Adj Close\": 29.73282814025879}, {\"Date\": \"2020-03-31T00:00:00\", \"Symbol\": \"PG\", \"Adj Close\": 106.65662384033203}, {\"Date\": \"2020-04-01T00:00:00\", \"Symbol\": \"JNJ\", \"Adj Close\": 125.41842651367188}, {\"Date\": \"2020-04-01T00:00:00\", \"Symbol\": \"MMM\", \"Adj Close\": 128.4642333984375}, {\"Date\": \"2020-04-01T00:00:00\", \"Symbol\": \"MRK\", \"Adj Close\": 71.49165344238281}, {\"Date\": \"2020-04-01T00:00:00\", \"Symbol\": \"PFE\", \"Adj Close\": 28.922100067138672}, {\"Date\": \"2020-04-01T00:00:00\", \"Symbol\": \"PG\", \"Adj Close\": 106.0069808959961}, {\"Date\": \"2020-04-02T00:00:00\", \"Symbol\": \"JNJ\", \"Adj Close\": 129.64414978027344}, {\"Date\": \"2020-04-02T00:00:00\", \"Symbol\": \"MMM\", \"Adj Close\": 133.06671142578125}, {\"Date\": \"2020-04-02T00:00:00\", \"Symbol\": \"MRK\", \"Adj Close\": 74.46563720703125}, {\"Date\": \"2020-04-02T00:00:00\", \"Symbol\": \"PFE\", \"Adj Close\": 29.94234275817871}, {\"Date\": \"2020-04-02T00:00:00\", \"Symbol\": \"PG\", \"Adj Close\": 110.92288208007812}, {\"Date\": \"2020-04-03T00:00:00\", \"Symbol\": \"JNJ\", \"Adj Close\": 130.63729858398438}, {\"Date\": \"2020-04-03T00:00:00\", \"Symbol\": \"MMM\", \"Adj Close\": 129.09140014648438}, {\"Date\": \"2020-04-03T00:00:00\", \"Symbol\": \"MRK\", \"Adj Close\": 73.86502075195312}, {\"Date\": \"2020-04-03T00:00:00\", \"Symbol\": \"PFE\", \"Adj Close\": 30.643760681152344}, {\"Date\": \"2020-04-03T00:00:00\", \"Symbol\": \"PG\", \"Adj Close\": 111.58222198486328}, {\"Date\": \"2020-04-06T00:00:00\", \"Symbol\": \"JNJ\", \"Adj Close\": 136.08010864257812}, {\"Date\": \"2020-04-06T00:00:00\", \"Symbol\": \"MMM\", \"Adj Close\": 135.75872802734375}, {\"Date\": \"2020-04-06T00:00:00\", \"Symbol\": \"MRK\", \"Adj Close\": 77.79803466796875}, {\"Date\": \"2020-04-06T00:00:00\", \"Symbol\": \"PFE\", \"Adj Close\": 31.49092674255371}, {\"Date\": \"2020-04-06T00:00:00\", \"Symbol\": \"PG\", \"Adj Close\": 114.22923278808594}, {\"Date\": \"2020-04-07T00:00:00\", \"Symbol\": \"JNJ\", \"Adj Close\": 133.86013793945312}, {\"Date\": \"2020-04-07T00:00:00\", \"Symbol\": \"MMM\", \"Adj Close\": 139.52175903320312}, {\"Date\": \"2020-04-07T00:00:00\", \"Symbol\": \"MRK\", \"Adj Close\": 76.10276794433594}, {\"Date\": \"2020-04-07T00:00:00\", \"Symbol\": \"PFE\", \"Adj Close\": 30.616430282592773}, {\"Date\": \"2020-04-07T00:00:00\", \"Symbol\": \"PG\", \"Adj Close\": 109.3424301147461}, {\"Date\": \"2020-04-08T00:00:00\", \"Symbol\": \"JNJ\", \"Adj Close\": 139.48794555664062}, {\"Date\": \"2020-04-08T00:00:00\", \"Symbol\": \"MMM\", \"Adj Close\": 143.7576141357422}, {\"Date\": \"2020-04-08T00:00:00\", \"Symbol\": \"MRK\", \"Adj Close\": 79.06705474853516}, {\"Date\": \"2020-04-08T00:00:00\", \"Symbol\": \"PFE\", \"Adj Close\": 31.51825523376465}, {\"Date\": \"2020-04-08T00:00:00\", \"Symbol\": \"PG\", \"Adj Close\": 111.60160827636719}, {\"Date\": \"2020-04-09T00:00:00\", \"Symbol\": \"JNJ\", \"Adj Close\": 137.51141357421875}, {\"Date\": \"2020-04-09T00:00:00\", \"Symbol\": \"MMM\", \"Adj Close\": 142.590087890625}, {\"Date\": \"2020-04-09T00:00:00\", \"Symbol\": \"MRK\", \"Adj Close\": 79.90984344482422}, {\"Date\": \"2020-04-09T00:00:00\", \"Symbol\": \"PFE\", \"Adj Close\": 32.23789596557617}, {\"Date\": \"2020-04-09T00:00:00\", \"Symbol\": \"PG\", \"Adj Close\": 111.17498779296875}, {\"Date\": \"2020-04-13T00:00:00\", \"Symbol\": \"JNJ\", \"Adj Close\": 136.08985900878906}, {\"Date\": \"2020-04-13T00:00:00\", \"Symbol\": \"MMM\", \"Adj Close\": 141.25852966308594}, {\"Date\": \"2020-04-13T00:00:00\", \"Symbol\": \"MRK\", \"Adj Close\": 78.02083587646484}, {\"Date\": \"2020-04-13T00:00:00\", \"Symbol\": \"PFE\", \"Adj Close\": 32.01015853881836}, {\"Date\": \"2020-04-13T00:00:00\", \"Symbol\": \"PG\", \"Adj Close\": 112.42577362060547}, {\"Date\": \"2020-04-14T00:00:00\", \"Symbol\": \"JNJ\", \"Adj Close\": 142.1850128173828}, {\"Date\": \"2020-04-14T00:00:00\", \"Symbol\": \"MMM\", \"Adj Close\": 144.86720275878906}, {\"Date\": \"2020-04-14T00:00:00\", \"Symbol\": \"MRK\", \"Adj Close\": 80.24889373779297}, {\"Date\": \"2020-04-14T00:00:00\", \"Symbol\": \"PFE\", \"Adj Close\": 33.19437026977539}, {\"Date\": \"2020-04-14T00:00:00\", \"Symbol\": \"PG\", \"Adj Close\": 117.28348541259766}, {\"Date\": \"2020-04-15T00:00:00\", \"Symbol\": \"JNJ\", \"Adj Close\": 143.77210998535156}, {\"Date\": \"2020-04-15T00:00:00\", \"Symbol\": \"MMM\", \"Adj Close\": 140.0620880126953}, {\"Date\": \"2020-04-15T00:00:00\", \"Symbol\": \"MRK\", \"Adj Close\": 79.50297546386719}, {\"Date\": \"2020-04-15T00:00:00\", \"Symbol\": \"PFE\", \"Adj Close\": 32.766231536865234}, {\"Date\": \"2020-04-15T00:00:00\", \"Symbol\": \"PG\", \"Adj Close\": 117.53559875488281}, {\"Date\": \"2020-04-16T00:00:00\", \"Symbol\": \"JNJ\", \"Adj Close\": 145.72918701171875}, {\"Date\": \"2020-04-16T00:00:00\", \"Symbol\": \"MMM\", \"Adj Close\": 139.8112335205078}, {\"Date\": \"2020-04-16T00:00:00\", \"Symbol\": \"MRK\", \"Adj Close\": 80.40389251708984}, {\"Date\": \"2020-04-16T00:00:00\", \"Symbol\": \"PFE\", \"Adj Close\": 32.68424606323242}, {\"Date\": \"2020-04-16T00:00:00\", \"Symbol\": \"PG\", \"Adj Close\": 117.80709075927734}, {\"Date\": \"2020-04-17T00:00:00\", \"Symbol\": \"JNJ\", \"Adj Close\": 148.01730346679688}, {\"Date\": \"2020-04-17T00:00:00\", \"Symbol\": \"MMM\", \"Adj Close\": 141.3164520263672}, {\"Date\": \"2020-04-17T00:00:00\", \"Symbol\": \"MRK\", \"Adj Close\": 80.84950256347656}, {\"Date\": \"2020-04-17T00:00:00\", \"Symbol\": \"PFE\", \"Adj Close\": 33.62250518798828}, {\"Date\": \"2020-04-17T00:00:00\", \"Symbol\": \"PG\", \"Adj Close\": 120.90013885498047}, {\"Date\": \"2020-04-20T00:00:00\", \"Symbol\": \"JNJ\", \"Adj Close\": 147.67652893066406}, {\"Date\": \"2020-04-20T00:00:00\", \"Symbol\": \"MMM\", \"Adj Close\": 138.62442016601562}, {\"Date\": \"2020-04-20T00:00:00\", \"Symbol\": \"MRK\", \"Adj Close\": 80.50077056884766}, {\"Date\": \"2020-04-20T00:00:00\", \"Symbol\": \"PFE\", \"Adj Close\": 32.86643600463867}, {\"Date\": \"2020-04-20T00:00:00\", \"Symbol\": \"PG\", \"Adj Close\": 116.93443298339844}, {\"Date\": \"2020-04-21T00:00:00\", \"Symbol\": \"JNJ\", \"Adj Close\": 145.73892211914062}, {\"Date\": \"2020-04-21T00:00:00\", \"Symbol\": \"MMM\", \"Adj Close\": 136.6560821533203}, {\"Date\": \"2020-04-21T00:00:00\", \"Symbol\": \"MRK\", \"Adj Close\": 76.10276794433594}, {\"Date\": \"2020-04-21T00:00:00\", \"Symbol\": \"PFE\", \"Adj Close\": 32.44740295410156}, {\"Date\": \"2020-04-21T00:00:00\", \"Symbol\": \"PG\", \"Adj Close\": 116.04239654541016}, {\"Date\": \"2020-04-22T00:00:00\", \"Symbol\": \"JNJ\", \"Adj Close\": 148.96176147460938}, {\"Date\": \"2020-04-22T00:00:00\", \"Symbol\": \"MMM\", \"Adj Close\": 138.56654357910156}, {\"Date\": \"2020-04-22T00:00:00\", \"Symbol\": \"MRK\", \"Adj Close\": 77.47835540771484}, {\"Date\": \"2020-04-22T00:00:00\", \"Symbol\": \"PFE\", \"Adj Close\": 33.02128982543945}, {\"Date\": \"2020-04-22T00:00:00\", \"Symbol\": \"PG\", \"Adj Close\": 115.77091979980469}, {\"Date\": \"2020-04-23T00:00:00\", \"Symbol\": \"JNJ\", \"Adj Close\": 151.41542053222656}, {\"Date\": \"2020-04-23T00:00:00\", \"Symbol\": \"MMM\", \"Adj Close\": 139.26124572753906}, {\"Date\": \"2020-04-23T00:00:00\", \"Symbol\": \"MRK\", \"Adj Close\": 78.35018920898438}, {\"Date\": \"2020-04-23T00:00:00\", \"Symbol\": \"PFE\", \"Adj Close\": 33.42210006713867}, {\"Date\": \"2020-04-23T00:00:00\", \"Symbol\": \"PG\", \"Adj Close\": 116.5429916381836}, {\"Date\": \"2020-04-24T00:00:00\", \"Symbol\": \"JNJ\", \"Adj Close\": 150.78253173828125}, {\"Date\": \"2020-04-24T00:00:00\", \"Symbol\": \"MMM\", \"Adj Close\": 141.83749389648438}, {\"Date\": \"2020-04-24T00:00:00\", \"Symbol\": \"MRK\", \"Adj Close\": 78.88299560546875}, {\"Date\": \"2020-04-24T00:00:00\", \"Symbol\": \"PFE\", \"Adj Close\": 34.0506477355957}, {\"Date\": \"2020-04-24T00:00:00\", \"Symbol\": \"PG\", \"Adj Close\": 115.93782043457031}, {\"Date\": \"2020-04-27T00:00:00\", \"Symbol\": \"JNJ\", \"Adj Close\": 150.2275390625}, {\"Date\": \"2020-04-27T00:00:00\", \"Symbol\": \"MMM\", \"Adj Close\": 148.25393676757812}, {\"Date\": \"2020-04-27T00:00:00\", \"Symbol\": \"MRK\", \"Adj Close\": 81.3532485961914}, {\"Date\": \"2020-04-27T00:00:00\", \"Symbol\": \"PFE\", \"Adj Close\": 34.91603088378906}, {\"Date\": \"2020-04-27T00:00:00\", \"Symbol\": \"PG\", \"Adj Close\": 114.6396484375}, {\"Date\": \"2020-04-28T00:00:00\", \"Symbol\": \"JNJ\", \"Adj Close\": 147.40390014648438}, {\"Date\": \"2020-04-28T00:00:00\", \"Symbol\": \"MMM\", \"Adj Close\": 152.0748748779297}, {\"Date\": \"2020-04-28T00:00:00\", \"Symbol\": \"MRK\", \"Adj Close\": 78.64081573486328}, {\"Date\": \"2020-04-28T00:00:00\", \"Symbol\": \"PFE\", \"Adj Close\": 34.533443450927734}, {\"Date\": \"2020-04-28T00:00:00\", \"Symbol\": \"PG\", \"Adj Close\": 114.09304809570312}, {\"Date\": \"2020-04-29T00:00:00\", \"Symbol\": \"JNJ\", \"Adj Close\": 146.2841796875}, {\"Date\": \"2020-04-29T00:00:00\", \"Symbol\": \"MMM\", \"Adj Close\": 150.77227783203125}, {\"Date\": \"2020-04-29T00:00:00\", \"Symbol\": \"MRK\", \"Adj Close\": 78.24363708496094}, {\"Date\": \"2020-04-29T00:00:00\", \"Symbol\": \"PFE\", \"Adj Close\": 34.72473907470703}, {\"Date\": \"2020-04-29T00:00:00\", \"Symbol\": \"PG\", \"Adj Close\": 114.27849578857422}, {\"Date\": \"2020-04-30T00:00:00\", \"Symbol\": \"JNJ\", \"Adj Close\": 146.0894317626953}, {\"Date\": \"2020-04-30T00:00:00\", \"Symbol\": \"MMM\", \"Adj Close\": 146.58470153808594}, {\"Date\": \"2020-04-30T00:00:00\", \"Symbol\": \"MRK\", \"Adj Close\": 76.8583755493164}, {\"Date\": \"2020-04-30T00:00:00\", \"Symbol\": \"PFE\", \"Adj Close\": 34.943359375}, {\"Date\": \"2020-04-30T00:00:00\", \"Symbol\": \"PG\", \"Adj Close\": 115.04960632324219}, {\"Date\": \"2020-05-01T00:00:00\", \"Symbol\": \"JNJ\", \"Adj Close\": 144.38552856445312}, {\"Date\": \"2020-05-01T00:00:00\", \"Symbol\": \"MMM\", \"Adj Close\": 143.3813018798828}, {\"Date\": \"2020-05-01T00:00:00\", \"Symbol\": \"MRK\", \"Adj Close\": 75.24060821533203}, {\"Date\": \"2020-05-01T00:00:00\", \"Symbol\": \"PFE\", \"Adj Close\": 34.2874870300293}, {\"Date\": \"2020-05-01T00:00:00\", \"Symbol\": \"PG\", \"Adj Close\": 114.02471923828125}, {\"Date\": \"2020-05-04T00:00:00\", \"Symbol\": \"JNJ\", \"Adj Close\": 144.36605834960938}, {\"Date\": \"2020-05-04T00:00:00\", \"Symbol\": \"MMM\", \"Adj Close\": 143.18829345703125}, {\"Date\": \"2020-05-04T00:00:00\", \"Symbol\": \"MRK\", \"Adj Close\": 74.45594787597656}, {\"Date\": \"2020-05-04T00:00:00\", \"Symbol\": \"PFE\", \"Adj Close\": 34.26927185058594}, {\"Date\": \"2020-05-04T00:00:00\", \"Symbol\": \"PG\", \"Adj Close\": 112.99984741210938}, {\"Date\": \"2020-05-05T00:00:00\", \"Symbol\": \"JNJ\", \"Adj Close\": 145.56365966796875}, {\"Date\": \"2020-05-05T00:00:00\", \"Symbol\": \"MMM\", \"Adj Close\": 142.25238037109375}, {\"Date\": \"2020-05-05T00:00:00\", \"Symbol\": \"MRK\", \"Adj Close\": 75.56997680664062}, {\"Date\": \"2020-05-05T00:00:00\", \"Symbol\": \"PFE\", \"Adj Close\": 35.08000183105469}, {\"Date\": \"2020-05-05T00:00:00\", \"Symbol\": \"PG\", \"Adj Close\": 113.23410034179688}, {\"Date\": \"2020-05-06T00:00:00\", \"Symbol\": \"JNJ\", \"Adj Close\": 144.18104553222656}, {\"Date\": \"2020-05-06T00:00:00\", \"Symbol\": \"MMM\", \"Adj Close\": 141.06556701660156}, {\"Date\": \"2020-05-06T00:00:00\", \"Symbol\": \"MRK\", \"Adj Close\": 74.70781707763672}, {\"Date\": \"2020-05-06T00:00:00\", \"Symbol\": \"PFE\", \"Adj Close\": 35.08000183105469}, {\"Date\": \"2020-05-06T00:00:00\", \"Symbol\": \"PG\", \"Adj Close\": 110.39373016357422}, {\"Date\": \"2020-05-07T00:00:00\", \"Symbol\": \"JNJ\", \"Adj Close\": 143.70394897460938}, {\"Date\": \"2020-05-07T00:00:00\", \"Symbol\": \"MMM\", \"Adj Close\": 140.62173461914062}, {\"Date\": \"2020-05-07T00:00:00\", \"Symbol\": \"MRK\", \"Adj Close\": 73.2353515625}, {\"Date\": \"2020-05-07T00:00:00\", \"Symbol\": \"PFE\", \"Adj Close\": 34.00358581542969}, {\"Date\": \"2020-05-07T00:00:00\", \"Symbol\": \"PG\", \"Adj Close\": 109.4859848022461}, {\"Date\": \"2020-05-08T00:00:00\", \"Symbol\": \"JNJ\", \"Adj Close\": 144.78472900390625}, {\"Date\": \"2020-05-08T00:00:00\", \"Symbol\": \"MMM\", \"Adj Close\": 143.29444885253906}, {\"Date\": \"2020-05-08T00:00:00\", \"Symbol\": \"MRK\", \"Adj Close\": 74.01033782958984}, {\"Date\": \"2020-05-08T00:00:00\", \"Symbol\": \"PFE\", \"Adj Close\": 34.24279022216797}, {\"Date\": \"2020-05-08T00:00:00\", \"Symbol\": \"PG\", \"Adj Close\": 113.175537109375}]}}, {\"mode\": \"vega-lite\"});\n",
       "</script>"
      ],
      "text/plain": [
       "alt.Chart(...)"
      ]
     },
     "execution_count": 24,
     "metadata": {},
     "output_type": "execute_result"
    }
   ],
   "source": [
    "base = alt.Chart(healthcare.reset_index()).mark_line().encode(\n",
    "    x=alt.X('Date:T',\n",
    "            axis=alt.Axis(\n",
    "                format='%m-%d-%Y',\n",
    "                labelAngle=-90)\n",
    "    ),\n",
    "    y='Adj Close:Q',\n",
    "    color='Symbol:N'\n",
    ")\n",
    "base"
   ]
  },
  {
   "cell_type": "markdown",
   "metadata": {
    "slideshow": {
     "slide_type": "subslide"
    }
   },
   "source": [
    "* Inspect missing values:  "
   ]
  },
  {
   "cell_type": "code",
   "execution_count": 25,
   "metadata": {
    "slideshow": {
     "slide_type": "-"
    }
   },
   "outputs": [
    {
     "data": {
      "text/plain": [
       "Symbol\n",
       "AAPL    2\n",
       "AXP     2\n",
       "BA      2\n",
       "BAC     2\n",
       "CAT     2\n",
       "CSCO    2\n",
       "CVX     2\n",
       "DD      2\n",
       "DIS     2\n",
       "GE      2\n",
       "HD      2\n",
       "HPQ     2\n",
       "IBM     2\n",
       "INTC    2\n",
       "JNJ     2\n",
       "JPM     2\n",
       "KO      2\n",
       "MCD     2\n",
       "MMM     2\n",
       "MRK     2\n",
       "MSFT    2\n",
       "PFE     2\n",
       "PG      2\n",
       "RTX     2\n",
       "T       2\n",
       "TRV     2\n",
       "VZ      2\n",
       "WMT     2\n",
       "XOM     2\n",
       "dtype: int64"
      ]
     },
     "execution_count": 25,
     "metadata": {},
     "output_type": "execute_result"
    }
   ],
   "source": [
    "rawdata['Adj Close'].isna().sum(axis=0)"
   ]
  },
  {
   "cell_type": "code",
   "execution_count": 26,
   "metadata": {
    "slideshow": {
     "slide_type": "subslide"
    }
   },
   "outputs": [
    {
     "data": {
      "text/html": [
       "<div>\n",
       "<style scoped>\n",
       "    .dataframe tbody tr th:only-of-type {\n",
       "        vertical-align: middle;\n",
       "    }\n",
       "\n",
       "    .dataframe tbody tr th {\n",
       "        vertical-align: top;\n",
       "    }\n",
       "\n",
       "    .dataframe thead tr th {\n",
       "        text-align: left;\n",
       "    }\n",
       "\n",
       "    .dataframe thead tr:last-of-type th {\n",
       "        text-align: right;\n",
       "    }\n",
       "</style>\n",
       "<table border=\"1\" class=\"dataframe\">\n",
       "  <thead>\n",
       "    <tr>\n",
       "      <th>Value</th>\n",
       "      <th colspan=\"10\" halign=\"left\">Adj Close</th>\n",
       "      <th>...</th>\n",
       "      <th colspan=\"10\" halign=\"left\">Volume</th>\n",
       "    </tr>\n",
       "    <tr>\n",
       "      <th>Symbol</th>\n",
       "      <th>AAPL</th>\n",
       "      <th>AXP</th>\n",
       "      <th>BA</th>\n",
       "      <th>BAC</th>\n",
       "      <th>CAT</th>\n",
       "      <th>CSCO</th>\n",
       "      <th>CVX</th>\n",
       "      <th>DD</th>\n",
       "      <th>DIS</th>\n",
       "      <th>GE</th>\n",
       "      <th>...</th>\n",
       "      <th>MRK</th>\n",
       "      <th>MSFT</th>\n",
       "      <th>PFE</th>\n",
       "      <th>PG</th>\n",
       "      <th>RTX</th>\n",
       "      <th>T</th>\n",
       "      <th>TRV</th>\n",
       "      <th>VZ</th>\n",
       "      <th>WMT</th>\n",
       "      <th>XOM</th>\n",
       "    </tr>\n",
       "    <tr>\n",
       "      <th>Date</th>\n",
       "      <th></th>\n",
       "      <th></th>\n",
       "      <th></th>\n",
       "      <th></th>\n",
       "      <th></th>\n",
       "      <th></th>\n",
       "      <th></th>\n",
       "      <th></th>\n",
       "      <th></th>\n",
       "      <th></th>\n",
       "      <th></th>\n",
       "      <th></th>\n",
       "      <th></th>\n",
       "      <th></th>\n",
       "      <th></th>\n",
       "      <th></th>\n",
       "      <th></th>\n",
       "      <th></th>\n",
       "      <th></th>\n",
       "      <th></th>\n",
       "      <th></th>\n",
       "    </tr>\n",
       "  </thead>\n",
       "  <tbody>\n",
       "    <tr>\n",
       "      <th>1999-12-31</th>\n",
       "      <td>NaN</td>\n",
       "      <td>NaN</td>\n",
       "      <td>NaN</td>\n",
       "      <td>NaN</td>\n",
       "      <td>NaN</td>\n",
       "      <td>NaN</td>\n",
       "      <td>NaN</td>\n",
       "      <td>NaN</td>\n",
       "      <td>NaN</td>\n",
       "      <td>NaN</td>\n",
       "      <td>...</td>\n",
       "      <td>NaN</td>\n",
       "      <td>NaN</td>\n",
       "      <td>NaN</td>\n",
       "      <td>NaN</td>\n",
       "      <td>NaN</td>\n",
       "      <td>NaN</td>\n",
       "      <td>NaN</td>\n",
       "      <td>NaN</td>\n",
       "      <td>NaN</td>\n",
       "      <td>NaN</td>\n",
       "    </tr>\n",
       "    <tr>\n",
       "      <th>2001-09-12</th>\n",
       "      <td>NaN</td>\n",
       "      <td>NaN</td>\n",
       "      <td>NaN</td>\n",
       "      <td>NaN</td>\n",
       "      <td>NaN</td>\n",
       "      <td>NaN</td>\n",
       "      <td>NaN</td>\n",
       "      <td>NaN</td>\n",
       "      <td>NaN</td>\n",
       "      <td>NaN</td>\n",
       "      <td>...</td>\n",
       "      <td>NaN</td>\n",
       "      <td>NaN</td>\n",
       "      <td>NaN</td>\n",
       "      <td>NaN</td>\n",
       "      <td>NaN</td>\n",
       "      <td>NaN</td>\n",
       "      <td>NaN</td>\n",
       "      <td>NaN</td>\n",
       "      <td>NaN</td>\n",
       "      <td>NaN</td>\n",
       "    </tr>\n",
       "  </tbody>\n",
       "</table>\n",
       "<p>2 rows × 174 columns</p>\n",
       "</div>"
      ],
      "text/plain": [
       "Value      Adj Close                                       ... Volume       \\\n",
       "Symbol          AAPL AXP  BA BAC CAT CSCO CVX  DD DIS  GE  ...    MRK MSFT   \n",
       "Date                                                       ...               \n",
       "1999-12-31       NaN NaN NaN NaN NaN  NaN NaN NaN NaN NaN  ...    NaN  NaN   \n",
       "2001-09-12       NaN NaN NaN NaN NaN  NaN NaN NaN NaN NaN  ...    NaN  NaN   \n",
       "\n",
       "Value                                       \n",
       "Symbol     PFE  PG RTX   T TRV  VZ WMT XOM  \n",
       "Date                                        \n",
       "1999-12-31 NaN NaN NaN NaN NaN NaN NaN NaN  \n",
       "2001-09-12 NaN NaN NaN NaN NaN NaN NaN NaN  \n",
       "\n",
       "[2 rows x 174 columns]"
      ]
     },
     "execution_count": 26,
     "metadata": {},
     "output_type": "execute_result"
    }
   ],
   "source": [
    "anymissing = rawdata['Adj Close'].isna().any(axis=1)\n",
    "rawdata.loc[anymissing]"
   ]
  },
  {
   "cell_type": "markdown",
   "metadata": {
    "slideshow": {
     "slide_type": "subslide"
    }
   },
   "source": [
    "* Raytheon bought United Technologies in April  \n",
    "    Let's remove UTX and keep other recent data\n",
    "* Remove missing day: '1999-12-31'\n",
    "* Fill '2001-09-12', '2016-01-18' with [`pandas.DataFrame.fillna()`](https://pandas.pydata.org/pandas-docs/stable/reference/api/pandas.DataFrame.fillna.html#pandas.DataFrame.fillna)"
   ]
  },
  {
   "cell_type": "code",
   "execution_count": 27,
   "metadata": {
    "slideshow": {
     "slide_type": "-"
    }
   },
   "outputs": [],
   "source": [
    "data_all = pd.concat([\n",
    "    rawdata.loc[:, idx[:, :'TRV']], \n",
    "    rawdata.loc[:, idx[:, 'VZ':]], \n",
    "], axis=1).fillna(method='pad').loc['2000-01-03':]\n",
    "\n",
    "data_all.columns = data_all.columns.set_names(['Value', 'Symbol'])"
   ]
  },
  {
   "cell_type": "markdown",
   "metadata": {
    "slideshow": {
     "slide_type": "subslide"
    }
   },
   "source": [
    "* Double check: did we remove all missing values?"
   ]
  },
  {
   "cell_type": "code",
   "execution_count": 28,
   "metadata": {
    "slideshow": {
     "slide_type": "-"
    }
   },
   "outputs": [
    {
     "data": {
      "text/plain": [
       "False"
      ]
     },
     "execution_count": 28,
     "metadata": {},
     "output_type": "execute_result"
    }
   ],
   "source": [
    "(data_all.isna().sum(axis=None)>0).any()"
   ]
  },
  {
   "cell_type": "markdown",
   "metadata": {
    "slideshow": {
     "slide_type": "subslide"
    }
   },
   "source": [
    "* Reset symbols to what is in `data` variable"
   ]
  },
  {
   "cell_type": "code",
   "execution_count": 30,
   "metadata": {
    "slideshow": {
     "slide_type": "-"
    }
   },
   "outputs": [
    {
     "data": {
      "text/html": [
       "<div>\n",
       "<style scoped>\n",
       "    .dataframe tbody tr th:only-of-type {\n",
       "        vertical-align: middle;\n",
       "    }\n",
       "\n",
       "    .dataframe tbody tr th {\n",
       "        vertical-align: top;\n",
       "    }\n",
       "\n",
       "    .dataframe thead th {\n",
       "        text-align: right;\n",
       "    }\n",
       "</style>\n",
       "<table border=\"1\" class=\"dataframe\">\n",
       "  <thead>\n",
       "    <tr style=\"text-align: right;\">\n",
       "      <th></th>\n",
       "      <th>name</th>\n",
       "    </tr>\n",
       "    <tr>\n",
       "      <th>symbol</th>\n",
       "      <th></th>\n",
       "    </tr>\n",
       "  </thead>\n",
       "  <tbody>\n",
       "    <tr>\n",
       "      <th>AAPL</th>\n",
       "      <td>Apple Inc.</td>\n",
       "    </tr>\n",
       "    <tr>\n",
       "      <th>AXP</th>\n",
       "      <td>American Express Company</td>\n",
       "    </tr>\n",
       "    <tr>\n",
       "      <th>BA</th>\n",
       "      <td>Boeing Company (The)</td>\n",
       "    </tr>\n",
       "    <tr>\n",
       "      <th>BAC</th>\n",
       "      <td>Bank of America Corporation</td>\n",
       "    </tr>\n",
       "    <tr>\n",
       "      <th>CAT</th>\n",
       "      <td>Caterpillar, Inc.</td>\n",
       "    </tr>\n",
       "    <tr>\n",
       "      <th>CSCO</th>\n",
       "      <td>Cisco Systems, Inc.</td>\n",
       "    </tr>\n",
       "    <tr>\n",
       "      <th>CVX</th>\n",
       "      <td>Chevron Corporation</td>\n",
       "    </tr>\n",
       "    <tr>\n",
       "      <th>DD</th>\n",
       "      <td>DuPont de Nemours, Inc.</td>\n",
       "    </tr>\n",
       "    <tr>\n",
       "      <th>DIS</th>\n",
       "      <td>Walt Disney Company (The)</td>\n",
       "    </tr>\n",
       "    <tr>\n",
       "      <th>GE</th>\n",
       "      <td>General Electric Company</td>\n",
       "    </tr>\n",
       "    <tr>\n",
       "      <th>HD</th>\n",
       "      <td>Home Depot, Inc. (The)</td>\n",
       "    </tr>\n",
       "    <tr>\n",
       "      <th>HPQ</th>\n",
       "      <td>HP Inc.</td>\n",
       "    </tr>\n",
       "    <tr>\n",
       "      <th>IBM</th>\n",
       "      <td>International Business Machines</td>\n",
       "    </tr>\n",
       "    <tr>\n",
       "      <th>INTC</th>\n",
       "      <td>Intel Corporation</td>\n",
       "    </tr>\n",
       "    <tr>\n",
       "      <th>JNJ</th>\n",
       "      <td>Johnson &amp; Johnson</td>\n",
       "    </tr>\n",
       "    <tr>\n",
       "      <th>JPM</th>\n",
       "      <td>JP Morgan Chase &amp; Co.</td>\n",
       "    </tr>\n",
       "    <tr>\n",
       "      <th>KO</th>\n",
       "      <td>Coca-Cola Company (The)</td>\n",
       "    </tr>\n",
       "    <tr>\n",
       "      <th>MCD</th>\n",
       "      <td>McDonald's Corporation</td>\n",
       "    </tr>\n",
       "    <tr>\n",
       "      <th>MMM</th>\n",
       "      <td>3M Company</td>\n",
       "    </tr>\n",
       "    <tr>\n",
       "      <th>MRK</th>\n",
       "      <td>Merck &amp; Company, Inc.</td>\n",
       "    </tr>\n",
       "    <tr>\n",
       "      <th>MSFT</th>\n",
       "      <td>Microsoft Corporation</td>\n",
       "    </tr>\n",
       "    <tr>\n",
       "      <th>PFE</th>\n",
       "      <td>Pfizer, Inc.</td>\n",
       "    </tr>\n",
       "    <tr>\n",
       "      <th>PG</th>\n",
       "      <td>Procter &amp; Gamble Company (The)</td>\n",
       "    </tr>\n",
       "    <tr>\n",
       "      <th>RTX</th>\n",
       "      <td>Raytheon Technologies Corporati</td>\n",
       "    </tr>\n",
       "    <tr>\n",
       "      <th>T</th>\n",
       "      <td>AT&amp;T Inc.</td>\n",
       "    </tr>\n",
       "    <tr>\n",
       "      <th>TRV</th>\n",
       "      <td>The Travelers Companies, Inc.</td>\n",
       "    </tr>\n",
       "    <tr>\n",
       "      <th>VZ</th>\n",
       "      <td>Verizon Communications Inc.</td>\n",
       "    </tr>\n",
       "    <tr>\n",
       "      <th>WMT</th>\n",
       "      <td>Walmart Inc.</td>\n",
       "    </tr>\n",
       "    <tr>\n",
       "      <th>XOM</th>\n",
       "      <td>Exxon Mobil Corporation</td>\n",
       "    </tr>\n",
       "  </tbody>\n",
       "</table>\n",
       "</div>"
      ],
      "text/plain": [
       "                                   name\n",
       "symbol                                 \n",
       "AAPL                         Apple Inc.\n",
       "AXP            American Express Company\n",
       "BA                 Boeing Company (The)\n",
       "BAC         Bank of America Corporation\n",
       "CAT                   Caterpillar, Inc.\n",
       "CSCO                Cisco Systems, Inc.\n",
       "CVX                 Chevron Corporation\n",
       "DD              DuPont de Nemours, Inc.\n",
       "DIS           Walt Disney Company (The)\n",
       "GE             General Electric Company\n",
       "HD               Home Depot, Inc. (The)\n",
       "HPQ                             HP Inc.\n",
       "IBM     International Business Machines\n",
       "INTC                  Intel Corporation\n",
       "JNJ                   Johnson & Johnson\n",
       "JPM               JP Morgan Chase & Co.\n",
       "KO              Coca-Cola Company (The)\n",
       "MCD              McDonald's Corporation\n",
       "MMM                          3M Company\n",
       "MRK               Merck & Company, Inc.\n",
       "MSFT              Microsoft Corporation\n",
       "PFE                        Pfizer, Inc.\n",
       "PG       Procter & Gamble Company (The)\n",
       "RTX     Raytheon Technologies Corporati\n",
       "T                             AT&T Inc.\n",
       "TRV       The Travelers Companies, Inc.\n",
       "VZ          Verizon Communications Inc.\n",
       "WMT                        Walmart Inc.\n",
       "XOM             Exxon Mobil Corporation"
      ]
     },
     "execution_count": 30,
     "metadata": {},
     "output_type": "execute_result"
    }
   ],
   "source": [
    "symbols = symbols.loc[data_all.columns.levels[1].to_list()]\n",
    "symbols"
   ]
  },
  {
   "cell_type": "code",
   "execution_count": 31,
   "metadata": {
    "slideshow": {
     "slide_type": "subslide"
    }
   },
   "outputs": [
    {
     "data": {
      "text/html": [
       "<div>\n",
       "<style scoped>\n",
       "    .dataframe tbody tr th:only-of-type {\n",
       "        vertical-align: middle;\n",
       "    }\n",
       "\n",
       "    .dataframe tbody tr th {\n",
       "        vertical-align: top;\n",
       "    }\n",
       "\n",
       "    .dataframe thead tr th {\n",
       "        text-align: left;\n",
       "    }\n",
       "\n",
       "    .dataframe thead tr:last-of-type th {\n",
       "        text-align: right;\n",
       "    }\n",
       "</style>\n",
       "<table border=\"1\" class=\"dataframe\">\n",
       "  <thead>\n",
       "    <tr>\n",
       "      <th>Value</th>\n",
       "      <th colspan=\"10\" halign=\"left\">Adj Close</th>\n",
       "      <th>...</th>\n",
       "      <th>High</th>\n",
       "      <th colspan=\"3\" halign=\"left\">Low</th>\n",
       "      <th colspan=\"3\" halign=\"left\">Open</th>\n",
       "      <th colspan=\"3\" halign=\"left\">Volume</th>\n",
       "    </tr>\n",
       "    <tr>\n",
       "      <th>Symbol</th>\n",
       "      <th>AAPL</th>\n",
       "      <th>AXP</th>\n",
       "      <th>BA</th>\n",
       "      <th>BAC</th>\n",
       "      <th>CAT</th>\n",
       "      <th>CSCO</th>\n",
       "      <th>CVX</th>\n",
       "      <th>DD</th>\n",
       "      <th>DIS</th>\n",
       "      <th>GE</th>\n",
       "      <th>...</th>\n",
       "      <th>XOM</th>\n",
       "      <th>VZ</th>\n",
       "      <th>WMT</th>\n",
       "      <th>XOM</th>\n",
       "      <th>VZ</th>\n",
       "      <th>WMT</th>\n",
       "      <th>XOM</th>\n",
       "      <th>VZ</th>\n",
       "      <th>WMT</th>\n",
       "      <th>XOM</th>\n",
       "    </tr>\n",
       "    <tr>\n",
       "      <th>Date</th>\n",
       "      <th></th>\n",
       "      <th></th>\n",
       "      <th></th>\n",
       "      <th></th>\n",
       "      <th></th>\n",
       "      <th></th>\n",
       "      <th></th>\n",
       "      <th></th>\n",
       "      <th></th>\n",
       "      <th></th>\n",
       "      <th></th>\n",
       "      <th></th>\n",
       "      <th></th>\n",
       "      <th></th>\n",
       "      <th></th>\n",
       "      <th></th>\n",
       "      <th></th>\n",
       "      <th></th>\n",
       "      <th></th>\n",
       "      <th></th>\n",
       "      <th></th>\n",
       "    </tr>\n",
       "  </thead>\n",
       "  <tbody>\n",
       "    <tr>\n",
       "      <th>2000-01-03</th>\n",
       "      <td>0.860883</td>\n",
       "      <td>34.160576</td>\n",
       "      <td>25.940277</td>\n",
       "      <td>13.952057</td>\n",
       "      <td>13.693107</td>\n",
       "      <td>40.118656</td>\n",
       "      <td>19.360474</td>\n",
       "      <td>30.896286</td>\n",
       "      <td>23.115248</td>\n",
       "      <td>26.585829</td>\n",
       "      <td>...</td>\n",
       "      <td>40.37500</td>\n",
       "      <td>53.622120</td>\n",
       "      <td>65.5000</td>\n",
       "      <td>38.93750</td>\n",
       "      <td>54.521442</td>\n",
       "      <td>68.375</td>\n",
       "      <td>39.75000</td>\n",
       "      <td>4663843.0</td>\n",
       "      <td>8369900.0</td>\n",
       "      <td>13458200.0</td>\n",
       "    </tr>\n",
       "    <tr>\n",
       "      <th>2000-01-04</th>\n",
       "      <td>0.788302</td>\n",
       "      <td>32.870731</td>\n",
       "      <td>25.899939</td>\n",
       "      <td>13.123939</td>\n",
       "      <td>13.517111</td>\n",
       "      <td>37.867947</td>\n",
       "      <td>19.360474</td>\n",
       "      <td>30.051819</td>\n",
       "      <td>24.469286</td>\n",
       "      <td>25.522396</td>\n",
       "      <td>...</td>\n",
       "      <td>39.09375</td>\n",
       "      <td>51.486229</td>\n",
       "      <td>64.1875</td>\n",
       "      <td>38.25000</td>\n",
       "      <td>53.678326</td>\n",
       "      <td>65.500</td>\n",
       "      <td>38.68750</td>\n",
       "      <td>5005878.0</td>\n",
       "      <td>6745100.0</td>\n",
       "      <td>14510800.0</td>\n",
       "    </tr>\n",
       "    <tr>\n",
       "      <th>2000-01-05</th>\n",
       "      <td>0.799837</td>\n",
       "      <td>32.035824</td>\n",
       "      <td>27.513651</td>\n",
       "      <td>13.267960</td>\n",
       "      <td>13.833909</td>\n",
       "      <td>37.751926</td>\n",
       "      <td>19.707745</td>\n",
       "      <td>31.027334</td>\n",
       "      <td>25.484806</td>\n",
       "      <td>25.478096</td>\n",
       "      <td>...</td>\n",
       "      <td>40.87500</td>\n",
       "      <td>52.610382</td>\n",
       "      <td>62.1875</td>\n",
       "      <td>38.90625</td>\n",
       "      <td>53.060043</td>\n",
       "      <td>63.875</td>\n",
       "      <td>39.00000</td>\n",
       "      <td>6368681.0</td>\n",
       "      <td>7018700.0</td>\n",
       "      <td>17485000.0</td>\n",
       "    </tr>\n",
       "    <tr>\n",
       "      <th>2000-01-06</th>\n",
       "      <td>0.730621</td>\n",
       "      <td>32.688519</td>\n",
       "      <td>27.796043</td>\n",
       "      <td>14.402134</td>\n",
       "      <td>14.537927</td>\n",
       "      <td>37.125427</td>\n",
       "      <td>20.546988</td>\n",
       "      <td>31.900925</td>\n",
       "      <td>24.469286</td>\n",
       "      <td>25.818716</td>\n",
       "      <td>...</td>\n",
       "      <td>42.90625</td>\n",
       "      <td>52.497967</td>\n",
       "      <td>62.6875</td>\n",
       "      <td>40.09375</td>\n",
       "      <td>53.678326</td>\n",
       "      <td>63.000</td>\n",
       "      <td>40.31250</td>\n",
       "      <td>4705763.0</td>\n",
       "      <td>6544500.0</td>\n",
       "      <td>19461600.0</td>\n",
       "    </tr>\n",
       "    <tr>\n",
       "      <th>2000-01-07</th>\n",
       "      <td>0.765229</td>\n",
       "      <td>33.164429</td>\n",
       "      <td>28.602896</td>\n",
       "      <td>14.024072</td>\n",
       "      <td>15.013142</td>\n",
       "      <td>39.306557</td>\n",
       "      <td>20.908724</td>\n",
       "      <td>32.614384</td>\n",
       "      <td>24.082424</td>\n",
       "      <td>26.818453</td>\n",
       "      <td>...</td>\n",
       "      <td>43.12500</td>\n",
       "      <td>51.992096</td>\n",
       "      <td>64.5000</td>\n",
       "      <td>42.00000</td>\n",
       "      <td>52.947628</td>\n",
       "      <td>64.500</td>\n",
       "      <td>42.96875</td>\n",
       "      <td>5043907.0</td>\n",
       "      <td>7976900.0</td>\n",
       "      <td>16603800.0</td>\n",
       "    </tr>\n",
       "  </tbody>\n",
       "</table>\n",
       "<p>5 rows × 174 columns</p>\n",
       "</div>"
      ],
      "text/plain": [
       "Value      Adj Close                                                         \\\n",
       "Symbol          AAPL        AXP         BA        BAC        CAT       CSCO   \n",
       "Date                                                                          \n",
       "2000-01-03  0.860883  34.160576  25.940277  13.952057  13.693107  40.118656   \n",
       "2000-01-04  0.788302  32.870731  25.899939  13.123939  13.517111  37.867947   \n",
       "2000-01-05  0.799837  32.035824  27.513651  13.267960  13.833909  37.751926   \n",
       "2000-01-06  0.730621  32.688519  27.796043  14.402134  14.537927  37.125427   \n",
       "2000-01-07  0.765229  33.164429  28.602896  14.024072  15.013142  39.306557   \n",
       "\n",
       "Value                                                   ...      High  \\\n",
       "Symbol            CVX         DD        DIS         GE  ...       XOM   \n",
       "Date                                                    ...             \n",
       "2000-01-03  19.360474  30.896286  23.115248  26.585829  ...  40.37500   \n",
       "2000-01-04  19.360474  30.051819  24.469286  25.522396  ...  39.09375   \n",
       "2000-01-05  19.707745  31.027334  25.484806  25.478096  ...  40.87500   \n",
       "2000-01-06  20.546988  31.900925  24.469286  25.818716  ...  42.90625   \n",
       "2000-01-07  20.908724  32.614384  24.082424  26.818453  ...  43.12500   \n",
       "\n",
       "Value             Low                          Open                    \\\n",
       "Symbol             VZ      WMT       XOM         VZ     WMT       XOM   \n",
       "Date                                                                    \n",
       "2000-01-03  53.622120  65.5000  38.93750  54.521442  68.375  39.75000   \n",
       "2000-01-04  51.486229  64.1875  38.25000  53.678326  65.500  38.68750   \n",
       "2000-01-05  52.610382  62.1875  38.90625  53.060043  63.875  39.00000   \n",
       "2000-01-06  52.497967  62.6875  40.09375  53.678326  63.000  40.31250   \n",
       "2000-01-07  51.992096  64.5000  42.00000  52.947628  64.500  42.96875   \n",
       "\n",
       "Value          Volume                         \n",
       "Symbol             VZ        WMT         XOM  \n",
       "Date                                          \n",
       "2000-01-03  4663843.0  8369900.0  13458200.0  \n",
       "2000-01-04  5005878.0  6745100.0  14510800.0  \n",
       "2000-01-05  6368681.0  7018700.0  17485000.0  \n",
       "2000-01-06  4705763.0  6544500.0  19461600.0  \n",
       "2000-01-07  5043907.0  7976900.0  16603800.0  \n",
       "\n",
       "[5 rows x 174 columns]"
      ]
     },
     "execution_count": 31,
     "metadata": {},
     "output_type": "execute_result"
    }
   ],
   "source": [
    "data_all.head()"
   ]
  },
  {
   "cell_type": "markdown",
   "metadata": {
    "slideshow": {
     "slide_type": "subslide"
    }
   },
   "source": [
    "### Adjusted Close\n",
    "\n",
    "* [Adjusted closing prices](https://help.yahoo.com/kb/SLN28256.html) accounts for splits, etc"
   ]
  },
  {
   "cell_type": "code",
   "execution_count": 32,
   "metadata": {
    "slideshow": {
     "slide_type": "-"
    }
   },
   "outputs": [
    {
     "data": {
      "text/html": [
       "<div>\n",
       "<style scoped>\n",
       "    .dataframe tbody tr th:only-of-type {\n",
       "        vertical-align: middle;\n",
       "    }\n",
       "\n",
       "    .dataframe tbody tr th {\n",
       "        vertical-align: top;\n",
       "    }\n",
       "\n",
       "    .dataframe thead th {\n",
       "        text-align: right;\n",
       "    }\n",
       "</style>\n",
       "<table border=\"1\" class=\"dataframe\">\n",
       "  <thead>\n",
       "    <tr style=\"text-align: right;\">\n",
       "      <th>Symbol</th>\n",
       "      <th>AAPL</th>\n",
       "      <th>AXP</th>\n",
       "      <th>BA</th>\n",
       "      <th>BAC</th>\n",
       "      <th>CAT</th>\n",
       "      <th>CSCO</th>\n",
       "      <th>CVX</th>\n",
       "      <th>DD</th>\n",
       "      <th>DIS</th>\n",
       "      <th>GE</th>\n",
       "      <th>...</th>\n",
       "      <th>MRK</th>\n",
       "      <th>MSFT</th>\n",
       "      <th>PFE</th>\n",
       "      <th>PG</th>\n",
       "      <th>RTX</th>\n",
       "      <th>T</th>\n",
       "      <th>TRV</th>\n",
       "      <th>VZ</th>\n",
       "      <th>WMT</th>\n",
       "      <th>XOM</th>\n",
       "    </tr>\n",
       "    <tr>\n",
       "      <th>Date</th>\n",
       "      <th></th>\n",
       "      <th></th>\n",
       "      <th></th>\n",
       "      <th></th>\n",
       "      <th></th>\n",
       "      <th></th>\n",
       "      <th></th>\n",
       "      <th></th>\n",
       "      <th></th>\n",
       "      <th></th>\n",
       "      <th></th>\n",
       "      <th></th>\n",
       "      <th></th>\n",
       "      <th></th>\n",
       "      <th></th>\n",
       "      <th></th>\n",
       "      <th></th>\n",
       "      <th></th>\n",
       "      <th></th>\n",
       "      <th></th>\n",
       "      <th></th>\n",
       "    </tr>\n",
       "  </thead>\n",
       "  <tbody>\n",
       "    <tr>\n",
       "      <th>2000-01-03</th>\n",
       "      <td>0.860883</td>\n",
       "      <td>34.160576</td>\n",
       "      <td>25.940277</td>\n",
       "      <td>13.952057</td>\n",
       "      <td>13.693107</td>\n",
       "      <td>40.118656</td>\n",
       "      <td>19.360474</td>\n",
       "      <td>30.896286</td>\n",
       "      <td>23.115248</td>\n",
       "      <td>26.585829</td>\n",
       "      <td>...</td>\n",
       "      <td>30.698004</td>\n",
       "      <td>37.017384</td>\n",
       "      <td>14.709098</td>\n",
       "      <td>30.248369</td>\n",
       "      <td>12.671476</td>\n",
       "      <td>15.941188</td>\n",
       "      <td>19.224304</td>\n",
       "      <td>20.573511</td>\n",
       "      <td>45.439945</td>\n",
       "      <td>20.760025</td>\n",
       "    </tr>\n",
       "    <tr>\n",
       "      <th>2000-01-04</th>\n",
       "      <td>0.788302</td>\n",
       "      <td>32.870731</td>\n",
       "      <td>25.899939</td>\n",
       "      <td>13.123939</td>\n",
       "      <td>13.517111</td>\n",
       "      <td>37.867947</td>\n",
       "      <td>19.360474</td>\n",
       "      <td>30.051819</td>\n",
       "      <td>24.469286</td>\n",
       "      <td>25.522396</td>\n",
       "      <td>...</td>\n",
       "      <td>29.619884</td>\n",
       "      <td>35.766914</td>\n",
       "      <td>14.161126</td>\n",
       "      <td>29.666332</td>\n",
       "      <td>12.151942</td>\n",
       "      <td>15.008461</td>\n",
       "      <td>18.969437</td>\n",
       "      <td>19.908472</td>\n",
       "      <td>43.739662</td>\n",
       "      <td>20.362385</td>\n",
       "    </tr>\n",
       "    <tr>\n",
       "      <th>2000-01-05</th>\n",
       "      <td>0.799837</td>\n",
       "      <td>32.035824</td>\n",
       "      <td>27.513651</td>\n",
       "      <td>13.267960</td>\n",
       "      <td>13.833909</td>\n",
       "      <td>37.751926</td>\n",
       "      <td>19.707745</td>\n",
       "      <td>31.027334</td>\n",
       "      <td>25.484806</td>\n",
       "      <td>25.478096</td>\n",
       "      <td>...</td>\n",
       "      <td>30.783119</td>\n",
       "      <td>36.144032</td>\n",
       "      <td>14.391850</td>\n",
       "      <td>29.101934</td>\n",
       "      <td>11.911183</td>\n",
       "      <td>15.241655</td>\n",
       "      <td>18.823801</td>\n",
       "      <td>20.573511</td>\n",
       "      <td>42.847008</td>\n",
       "      <td>21.472454</td>\n",
       "    </tr>\n",
       "    <tr>\n",
       "      <th>2000-01-06</th>\n",
       "      <td>0.730621</td>\n",
       "      <td>32.688519</td>\n",
       "      <td>27.796043</td>\n",
       "      <td>14.402134</td>\n",
       "      <td>14.537927</td>\n",
       "      <td>37.125427</td>\n",
       "      <td>20.546988</td>\n",
       "      <td>31.900925</td>\n",
       "      <td>24.469286</td>\n",
       "      <td>25.818716</td>\n",
       "      <td>...</td>\n",
       "      <td>31.038458</td>\n",
       "      <td>34.933285</td>\n",
       "      <td>14.911002</td>\n",
       "      <td>30.442392</td>\n",
       "      <td>12.481409</td>\n",
       "      <td>14.919894</td>\n",
       "      <td>19.187899</td>\n",
       "      <td>20.469007</td>\n",
       "      <td>43.314613</td>\n",
       "      <td>22.582546</td>\n",
       "    </tr>\n",
       "    <tr>\n",
       "      <th>2000-01-07</th>\n",
       "      <td>0.765229</td>\n",
       "      <td>33.164429</td>\n",
       "      <td>28.602896</td>\n",
       "      <td>14.024072</td>\n",
       "      <td>15.013142</td>\n",
       "      <td>39.306557</td>\n",
       "      <td>20.908724</td>\n",
       "      <td>32.614384</td>\n",
       "      <td>24.082424</td>\n",
       "      <td>26.818453</td>\n",
       "      <td>...</td>\n",
       "      <td>34.017471</td>\n",
       "      <td>35.389793</td>\n",
       "      <td>15.920448</td>\n",
       "      <td>32.876366</td>\n",
       "      <td>12.975590</td>\n",
       "      <td>15.047773</td>\n",
       "      <td>19.952496</td>\n",
       "      <td>20.317860</td>\n",
       "      <td>46.587620</td>\n",
       "      <td>22.516262</td>\n",
       "    </tr>\n",
       "  </tbody>\n",
       "</table>\n",
       "<p>5 rows × 29 columns</p>\n",
       "</div>"
      ],
      "text/plain": [
       "Symbol          AAPL        AXP         BA        BAC        CAT       CSCO  \\\n",
       "Date                                                                          \n",
       "2000-01-03  0.860883  34.160576  25.940277  13.952057  13.693107  40.118656   \n",
       "2000-01-04  0.788302  32.870731  25.899939  13.123939  13.517111  37.867947   \n",
       "2000-01-05  0.799837  32.035824  27.513651  13.267960  13.833909  37.751926   \n",
       "2000-01-06  0.730621  32.688519  27.796043  14.402134  14.537927  37.125427   \n",
       "2000-01-07  0.765229  33.164429  28.602896  14.024072  15.013142  39.306557   \n",
       "\n",
       "Symbol            CVX         DD        DIS         GE  ...        MRK  \\\n",
       "Date                                                    ...              \n",
       "2000-01-03  19.360474  30.896286  23.115248  26.585829  ...  30.698004   \n",
       "2000-01-04  19.360474  30.051819  24.469286  25.522396  ...  29.619884   \n",
       "2000-01-05  19.707745  31.027334  25.484806  25.478096  ...  30.783119   \n",
       "2000-01-06  20.546988  31.900925  24.469286  25.818716  ...  31.038458   \n",
       "2000-01-07  20.908724  32.614384  24.082424  26.818453  ...  34.017471   \n",
       "\n",
       "Symbol           MSFT        PFE         PG        RTX          T        TRV  \\\n",
       "Date                                                                           \n",
       "2000-01-03  37.017384  14.709098  30.248369  12.671476  15.941188  19.224304   \n",
       "2000-01-04  35.766914  14.161126  29.666332  12.151942  15.008461  18.969437   \n",
       "2000-01-05  36.144032  14.391850  29.101934  11.911183  15.241655  18.823801   \n",
       "2000-01-06  34.933285  14.911002  30.442392  12.481409  14.919894  19.187899   \n",
       "2000-01-07  35.389793  15.920448  32.876366  12.975590  15.047773  19.952496   \n",
       "\n",
       "Symbol             VZ        WMT        XOM  \n",
       "Date                                         \n",
       "2000-01-03  20.573511  45.439945  20.760025  \n",
       "2000-01-04  19.908472  43.739662  20.362385  \n",
       "2000-01-05  20.573511  42.847008  21.472454  \n",
       "2000-01-06  20.469007  43.314613  22.582546  \n",
       "2000-01-07  20.317860  46.587620  22.516262  \n",
       "\n",
       "[5 rows x 29 columns]"
      ]
     },
     "execution_count": 32,
     "metadata": {},
     "output_type": "execute_result"
    }
   ],
   "source": [
    "data = data_all['Adj Close']\n",
    "data.head()"
   ]
  },
  {
   "cell_type": "markdown",
   "metadata": {
    "slideshow": {
     "slide_type": "subslide"
    }
   },
   "source": [
    "### Log returns from stock prices\n",
    "\n",
    "* Data is price per share\n",
    "* We need daily returns from the prices\n",
    "* Given the prices $P_t$ and $P_{t-1}$ for time $t$, the return is, \n",
    "$$ R_t = \\frac{P_t - P_{t-1}}{P_{t-1}} = \\frac{P_t}{P_{t-1}} - 1 $$"
   ]
  },
  {
   "cell_type": "markdown",
   "metadata": {
    "slideshow": {
     "slide_type": "subslide"
    }
   },
   "source": [
    "* Approximation $\\log(1+x)\\approx x$ is good when $x$ is small\n",
    "* Since daily returns of stocks are small, calculate as returns,\n",
    "$$ r_t = \\log(1 + R_t) = \\log\\left(\\frac{P_t}{P_{t-1}}\\right) = \\log(P_t) - \\log(P_{t-1})$$\n",
    "So, in order to compute the log-returns, compute the difference of log prices:"
   ]
  },
  {
   "cell_type": "code",
   "execution_count": 33,
   "metadata": {
    "slideshow": {
     "slide_type": "subslide"
    }
   },
   "outputs": [
    {
     "data": {
      "text/html": [
       "<div>\n",
       "<style scoped>\n",
       "    .dataframe tbody tr th:only-of-type {\n",
       "        vertical-align: middle;\n",
       "    }\n",
       "\n",
       "    .dataframe tbody tr th {\n",
       "        vertical-align: top;\n",
       "    }\n",
       "\n",
       "    .dataframe thead th {\n",
       "        text-align: right;\n",
       "    }\n",
       "</style>\n",
       "<table border=\"1\" class=\"dataframe\">\n",
       "  <thead>\n",
       "    <tr style=\"text-align: right;\">\n",
       "      <th>Symbol</th>\n",
       "      <th>AAPL</th>\n",
       "      <th>AXP</th>\n",
       "      <th>BA</th>\n",
       "      <th>BAC</th>\n",
       "      <th>CAT</th>\n",
       "      <th>CSCO</th>\n",
       "      <th>CVX</th>\n",
       "      <th>DD</th>\n",
       "      <th>DIS</th>\n",
       "      <th>GE</th>\n",
       "      <th>...</th>\n",
       "      <th>MRK</th>\n",
       "      <th>MSFT</th>\n",
       "      <th>PFE</th>\n",
       "      <th>PG</th>\n",
       "      <th>RTX</th>\n",
       "      <th>T</th>\n",
       "      <th>TRV</th>\n",
       "      <th>VZ</th>\n",
       "      <th>WMT</th>\n",
       "      <th>XOM</th>\n",
       "    </tr>\n",
       "    <tr>\n",
       "      <th>Date</th>\n",
       "      <th></th>\n",
       "      <th></th>\n",
       "      <th></th>\n",
       "      <th></th>\n",
       "      <th></th>\n",
       "      <th></th>\n",
       "      <th></th>\n",
       "      <th></th>\n",
       "      <th></th>\n",
       "      <th></th>\n",
       "      <th></th>\n",
       "      <th></th>\n",
       "      <th></th>\n",
       "      <th></th>\n",
       "      <th></th>\n",
       "      <th></th>\n",
       "      <th></th>\n",
       "      <th></th>\n",
       "      <th></th>\n",
       "      <th></th>\n",
       "      <th></th>\n",
       "    </tr>\n",
       "  </thead>\n",
       "  <tbody>\n",
       "    <tr>\n",
       "      <th>2000-01-03</th>\n",
       "      <td>NaN</td>\n",
       "      <td>NaN</td>\n",
       "      <td>NaN</td>\n",
       "      <td>NaN</td>\n",
       "      <td>NaN</td>\n",
       "      <td>NaN</td>\n",
       "      <td>NaN</td>\n",
       "      <td>NaN</td>\n",
       "      <td>NaN</td>\n",
       "      <td>NaN</td>\n",
       "      <td>...</td>\n",
       "      <td>NaN</td>\n",
       "      <td>NaN</td>\n",
       "      <td>NaN</td>\n",
       "      <td>NaN</td>\n",
       "      <td>NaN</td>\n",
       "      <td>NaN</td>\n",
       "      <td>NaN</td>\n",
       "      <td>NaN</td>\n",
       "      <td>NaN</td>\n",
       "      <td>NaN</td>\n",
       "    </tr>\n",
       "    <tr>\n",
       "      <th>2000-01-04</th>\n",
       "      <td>-0.088077</td>\n",
       "      <td>-0.038490</td>\n",
       "      <td>-0.001556</td>\n",
       "      <td>-0.061189</td>\n",
       "      <td>-0.012936</td>\n",
       "      <td>-0.057736</td>\n",
       "      <td>0.000000</td>\n",
       "      <td>-0.027713</td>\n",
       "      <td>0.056926</td>\n",
       "      <td>-0.040822</td>\n",
       "      <td>...</td>\n",
       "      <td>-0.035752</td>\n",
       "      <td>-0.034364</td>\n",
       "      <td>-0.037966</td>\n",
       "      <td>-0.019429</td>\n",
       "      <td>-0.041864</td>\n",
       "      <td>-0.060292</td>\n",
       "      <td>-0.013346</td>\n",
       "      <td>-0.032859</td>\n",
       "      <td>-0.038136</td>\n",
       "      <td>-0.019340</td>\n",
       "    </tr>\n",
       "    <tr>\n",
       "      <th>2000-01-05</th>\n",
       "      <td>0.014527</td>\n",
       "      <td>-0.025728</td>\n",
       "      <td>0.060442</td>\n",
       "      <td>0.010914</td>\n",
       "      <td>0.023166</td>\n",
       "      <td>-0.003069</td>\n",
       "      <td>0.017778</td>\n",
       "      <td>0.031945</td>\n",
       "      <td>0.040664</td>\n",
       "      <td>-0.001737</td>\n",
       "      <td>...</td>\n",
       "      <td>0.038521</td>\n",
       "      <td>0.010489</td>\n",
       "      <td>0.016161</td>\n",
       "      <td>-0.019208</td>\n",
       "      <td>-0.020011</td>\n",
       "      <td>0.015418</td>\n",
       "      <td>-0.007707</td>\n",
       "      <td>0.032859</td>\n",
       "      <td>-0.020619</td>\n",
       "      <td>0.053082</td>\n",
       "    </tr>\n",
       "    <tr>\n",
       "      <th>2000-01-06</th>\n",
       "      <td>-0.090514</td>\n",
       "      <td>0.020169</td>\n",
       "      <td>0.010211</td>\n",
       "      <td>0.082024</td>\n",
       "      <td>0.049638</td>\n",
       "      <td>-0.016734</td>\n",
       "      <td>0.041703</td>\n",
       "      <td>0.027766</td>\n",
       "      <td>-0.040664</td>\n",
       "      <td>0.013281</td>\n",
       "      <td>...</td>\n",
       "      <td>0.008261</td>\n",
       "      <td>-0.034072</td>\n",
       "      <td>0.035437</td>\n",
       "      <td>0.045031</td>\n",
       "      <td>0.046763</td>\n",
       "      <td>-0.021337</td>\n",
       "      <td>0.019158</td>\n",
       "      <td>-0.005092</td>\n",
       "      <td>0.010854</td>\n",
       "      <td>0.050406</td>\n",
       "    </tr>\n",
       "    <tr>\n",
       "      <th>2000-01-07</th>\n",
       "      <td>0.046281</td>\n",
       "      <td>0.014454</td>\n",
       "      <td>0.028614</td>\n",
       "      <td>-0.026601</td>\n",
       "      <td>0.032165</td>\n",
       "      <td>0.057089</td>\n",
       "      <td>0.017452</td>\n",
       "      <td>0.022118</td>\n",
       "      <td>-0.015936</td>\n",
       "      <td>0.037991</td>\n",
       "      <td>...</td>\n",
       "      <td>0.091647</td>\n",
       "      <td>0.012983</td>\n",
       "      <td>0.065505</td>\n",
       "      <td>0.076918</td>\n",
       "      <td>0.038830</td>\n",
       "      <td>0.008535</td>\n",
       "      <td>0.039074</td>\n",
       "      <td>-0.007412</td>\n",
       "      <td>0.072845</td>\n",
       "      <td>-0.002940</td>\n",
       "    </tr>\n",
       "  </tbody>\n",
       "</table>\n",
       "<p>5 rows × 29 columns</p>\n",
       "</div>"
      ],
      "text/plain": [
       "Symbol          AAPL       AXP        BA       BAC       CAT      CSCO  \\\n",
       "Date                                                                     \n",
       "2000-01-03       NaN       NaN       NaN       NaN       NaN       NaN   \n",
       "2000-01-04 -0.088077 -0.038490 -0.001556 -0.061189 -0.012936 -0.057736   \n",
       "2000-01-05  0.014527 -0.025728  0.060442  0.010914  0.023166 -0.003069   \n",
       "2000-01-06 -0.090514  0.020169  0.010211  0.082024  0.049638 -0.016734   \n",
       "2000-01-07  0.046281  0.014454  0.028614 -0.026601  0.032165  0.057089   \n",
       "\n",
       "Symbol           CVX        DD       DIS        GE  ...       MRK      MSFT  \\\n",
       "Date                                                ...                       \n",
       "2000-01-03       NaN       NaN       NaN       NaN  ...       NaN       NaN   \n",
       "2000-01-04  0.000000 -0.027713  0.056926 -0.040822  ... -0.035752 -0.034364   \n",
       "2000-01-05  0.017778  0.031945  0.040664 -0.001737  ...  0.038521  0.010489   \n",
       "2000-01-06  0.041703  0.027766 -0.040664  0.013281  ...  0.008261 -0.034072   \n",
       "2000-01-07  0.017452  0.022118 -0.015936  0.037991  ...  0.091647  0.012983   \n",
       "\n",
       "Symbol           PFE        PG       RTX         T       TRV        VZ  \\\n",
       "Date                                                                     \n",
       "2000-01-03       NaN       NaN       NaN       NaN       NaN       NaN   \n",
       "2000-01-04 -0.037966 -0.019429 -0.041864 -0.060292 -0.013346 -0.032859   \n",
       "2000-01-05  0.016161 -0.019208 -0.020011  0.015418 -0.007707  0.032859   \n",
       "2000-01-06  0.035437  0.045031  0.046763 -0.021337  0.019158 -0.005092   \n",
       "2000-01-07  0.065505  0.076918  0.038830  0.008535  0.039074 -0.007412   \n",
       "\n",
       "Symbol           WMT       XOM  \n",
       "Date                            \n",
       "2000-01-03       NaN       NaN  \n",
       "2000-01-04 -0.038136 -0.019340  \n",
       "2000-01-05 -0.020619  0.053082  \n",
       "2000-01-06  0.010854  0.050406  \n",
       "2000-01-07  0.072845 -0.002940  \n",
       "\n",
       "[5 rows x 29 columns]"
      ]
     },
     "execution_count": 33,
     "metadata": {},
     "output_type": "execute_result"
    }
   ],
   "source": [
    "logret = np.log(data).diff()\n",
    "logret.head()"
   ]
  },
  {
   "cell_type": "markdown",
   "metadata": {
    "slideshow": {
     "slide_type": "-"
    }
   },
   "source": [
    "* First time period is NaN since there is no data corresponding to $-1$.\n",
    "\n",
    "* Note that $100\\cdot r_t$% represent daily percentage returns."
   ]
  },
  {
   "cell_type": "markdown",
   "metadata": {
    "slideshow": {
     "slide_type": "subslide"
    }
   },
   "source": [
    "### Estimate expected returns\n",
    "\n",
    "Estimate the daily expected returns by computing the means:"
   ]
  },
  {
   "cell_type": "code",
   "execution_count": 34,
   "metadata": {
    "slideshow": {
     "slide_type": "-"
    }
   },
   "outputs": [
    {
     "data": {
      "text/plain": [
       "Symbol\n",
       "AAPL    0.000878\n",
       "AXP     0.000185\n",
       "BA      0.000320\n",
       "BAC     0.000098\n",
       "CAT     0.000406\n",
       "CSCO    0.000007\n",
       "CVX     0.000300\n",
       "DD      0.000078\n",
       "DIS     0.000303\n",
       "GE     -0.000282\n",
       "HD      0.000329\n",
       "HPQ     0.000016\n",
       "IBM     0.000094\n",
       "INTC    0.000150\n",
       "JNJ     0.000329\n",
       "JPM     0.000243\n",
       "KO      0.000204\n",
       "MCD     0.000395\n",
       "MMM     0.000322\n",
       "MRK     0.000172\n",
       "MSFT    0.000312\n",
       "PFE     0.000165\n",
       "PG      0.000258\n",
       "RTX     0.000294\n",
       "T       0.000108\n",
       "TRV     0.000313\n",
       "VZ      0.000191\n",
       "WMT     0.000192\n",
       "XOM     0.000141\n",
       "dtype: float64"
      ]
     },
     "execution_count": 34,
     "metadata": {},
     "output_type": "execute_result"
    }
   ],
   "source": [
    "mu = logret[1:].mean()\n",
    "mu"
   ]
  },
  {
   "cell_type": "markdown",
   "metadata": {
    "slideshow": {
     "slide_type": "subslide"
    }
   },
   "source": [
    "### Estimate covariance matrix (volatility structure)\n",
    "\n",
    "Estimate the covarince matrix of returns:"
   ]
  },
  {
   "cell_type": "code",
   "execution_count": 35,
   "metadata": {
    "slideshow": {
     "slide_type": "-"
    }
   },
   "outputs": [
    {
     "data": {
      "text/html": [
       "<div>\n",
       "<style scoped>\n",
       "    .dataframe tbody tr th:only-of-type {\n",
       "        vertical-align: middle;\n",
       "    }\n",
       "\n",
       "    .dataframe tbody tr th {\n",
       "        vertical-align: top;\n",
       "    }\n",
       "\n",
       "    .dataframe thead th {\n",
       "        text-align: right;\n",
       "    }\n",
       "</style>\n",
       "<table border=\"1\" class=\"dataframe\">\n",
       "  <thead>\n",
       "    <tr style=\"text-align: right;\">\n",
       "      <th>Symbol</th>\n",
       "      <th>AAPL</th>\n",
       "      <th>AXP</th>\n",
       "      <th>BA</th>\n",
       "      <th>BAC</th>\n",
       "      <th>CAT</th>\n",
       "      <th>CSCO</th>\n",
       "      <th>CVX</th>\n",
       "      <th>DD</th>\n",
       "      <th>DIS</th>\n",
       "      <th>GE</th>\n",
       "      <th>...</th>\n",
       "      <th>MRK</th>\n",
       "      <th>MSFT</th>\n",
       "      <th>PFE</th>\n",
       "      <th>PG</th>\n",
       "      <th>RTX</th>\n",
       "      <th>T</th>\n",
       "      <th>TRV</th>\n",
       "      <th>VZ</th>\n",
       "      <th>WMT</th>\n",
       "      <th>XOM</th>\n",
       "    </tr>\n",
       "    <tr>\n",
       "      <th>Symbol</th>\n",
       "      <th></th>\n",
       "      <th></th>\n",
       "      <th></th>\n",
       "      <th></th>\n",
       "      <th></th>\n",
       "      <th></th>\n",
       "      <th></th>\n",
       "      <th></th>\n",
       "      <th></th>\n",
       "      <th></th>\n",
       "      <th></th>\n",
       "      <th></th>\n",
       "      <th></th>\n",
       "      <th></th>\n",
       "      <th></th>\n",
       "      <th></th>\n",
       "      <th></th>\n",
       "      <th></th>\n",
       "      <th></th>\n",
       "      <th></th>\n",
       "      <th></th>\n",
       "    </tr>\n",
       "  </thead>\n",
       "  <tbody>\n",
       "    <tr>\n",
       "      <th>AAPL</th>\n",
       "      <td>0.000711</td>\n",
       "      <td>0.000221</td>\n",
       "      <td>0.000162</td>\n",
       "      <td>0.000240</td>\n",
       "      <td>0.000201</td>\n",
       "      <td>0.000297</td>\n",
       "      <td>0.000129</td>\n",
       "      <td>0.000171</td>\n",
       "      <td>0.000176</td>\n",
       "      <td>0.000196</td>\n",
       "      <td>...</td>\n",
       "      <td>0.000095</td>\n",
       "      <td>0.000229</td>\n",
       "      <td>0.000093</td>\n",
       "      <td>0.000067</td>\n",
       "      <td>0.000160</td>\n",
       "      <td>0.000120</td>\n",
       "      <td>0.000142</td>\n",
       "      <td>0.000104</td>\n",
       "      <td>0.000101</td>\n",
       "      <td>0.000121</td>\n",
       "    </tr>\n",
       "    <tr>\n",
       "      <th>AXP</th>\n",
       "      <td>0.000221</td>\n",
       "      <td>0.000524</td>\n",
       "      <td>0.000242</td>\n",
       "      <td>0.000445</td>\n",
       "      <td>0.000255</td>\n",
       "      <td>0.000251</td>\n",
       "      <td>0.000198</td>\n",
       "      <td>0.000271</td>\n",
       "      <td>0.000246</td>\n",
       "      <td>0.000284</td>\n",
       "      <td>...</td>\n",
       "      <td>0.000147</td>\n",
       "      <td>0.000215</td>\n",
       "      <td>0.000152</td>\n",
       "      <td>0.000111</td>\n",
       "      <td>0.000230</td>\n",
       "      <td>0.000169</td>\n",
       "      <td>0.000239</td>\n",
       "      <td>0.000148</td>\n",
       "      <td>0.000129</td>\n",
       "      <td>0.000176</td>\n",
       "    </tr>\n",
       "    <tr>\n",
       "      <th>BA</th>\n",
       "      <td>0.000162</td>\n",
       "      <td>0.000242</td>\n",
       "      <td>0.000447</td>\n",
       "      <td>0.000250</td>\n",
       "      <td>0.000205</td>\n",
       "      <td>0.000180</td>\n",
       "      <td>0.000172</td>\n",
       "      <td>0.000224</td>\n",
       "      <td>0.000188</td>\n",
       "      <td>0.000212</td>\n",
       "      <td>...</td>\n",
       "      <td>0.000114</td>\n",
       "      <td>0.000165</td>\n",
       "      <td>0.000120</td>\n",
       "      <td>0.000090</td>\n",
       "      <td>0.000231</td>\n",
       "      <td>0.000122</td>\n",
       "      <td>0.000166</td>\n",
       "      <td>0.000101</td>\n",
       "      <td>0.000098</td>\n",
       "      <td>0.000156</td>\n",
       "    </tr>\n",
       "    <tr>\n",
       "      <th>BAC</th>\n",
       "      <td>0.000240</td>\n",
       "      <td>0.000445</td>\n",
       "      <td>0.000250</td>\n",
       "      <td>0.000849</td>\n",
       "      <td>0.000296</td>\n",
       "      <td>0.000266</td>\n",
       "      <td>0.000221</td>\n",
       "      <td>0.000322</td>\n",
       "      <td>0.000249</td>\n",
       "      <td>0.000335</td>\n",
       "      <td>...</td>\n",
       "      <td>0.000153</td>\n",
       "      <td>0.000220</td>\n",
       "      <td>0.000171</td>\n",
       "      <td>0.000119</td>\n",
       "      <td>0.000237</td>\n",
       "      <td>0.000180</td>\n",
       "      <td>0.000276</td>\n",
       "      <td>0.000153</td>\n",
       "      <td>0.000126</td>\n",
       "      <td>0.000192</td>\n",
       "    </tr>\n",
       "    <tr>\n",
       "      <th>CAT</th>\n",
       "      <td>0.000201</td>\n",
       "      <td>0.000255</td>\n",
       "      <td>0.000205</td>\n",
       "      <td>0.000296</td>\n",
       "      <td>0.000421</td>\n",
       "      <td>0.000203</td>\n",
       "      <td>0.000187</td>\n",
       "      <td>0.000274</td>\n",
       "      <td>0.000185</td>\n",
       "      <td>0.000223</td>\n",
       "      <td>...</td>\n",
       "      <td>0.000115</td>\n",
       "      <td>0.000176</td>\n",
       "      <td>0.000125</td>\n",
       "      <td>0.000093</td>\n",
       "      <td>0.000210</td>\n",
       "      <td>0.000129</td>\n",
       "      <td>0.000167</td>\n",
       "      <td>0.000110</td>\n",
       "      <td>0.000106</td>\n",
       "      <td>0.000172</td>\n",
       "    </tr>\n",
       "    <tr>\n",
       "      <th>CSCO</th>\n",
       "      <td>0.000297</td>\n",
       "      <td>0.000251</td>\n",
       "      <td>0.000180</td>\n",
       "      <td>0.000266</td>\n",
       "      <td>0.000203</td>\n",
       "      <td>0.000596</td>\n",
       "      <td>0.000137</td>\n",
       "      <td>0.000199</td>\n",
       "      <td>0.000212</td>\n",
       "      <td>0.000223</td>\n",
       "      <td>...</td>\n",
       "      <td>0.000103</td>\n",
       "      <td>0.000271</td>\n",
       "      <td>0.000115</td>\n",
       "      <td>0.000081</td>\n",
       "      <td>0.000184</td>\n",
       "      <td>0.000139</td>\n",
       "      <td>0.000165</td>\n",
       "      <td>0.000131</td>\n",
       "      <td>0.000118</td>\n",
       "      <td>0.000130</td>\n",
       "    </tr>\n",
       "    <tr>\n",
       "      <th>CVX</th>\n",
       "      <td>0.000129</td>\n",
       "      <td>0.000198</td>\n",
       "      <td>0.000172</td>\n",
       "      <td>0.000221</td>\n",
       "      <td>0.000187</td>\n",
       "      <td>0.000137</td>\n",
       "      <td>0.000300</td>\n",
       "      <td>0.000193</td>\n",
       "      <td>0.000150</td>\n",
       "      <td>0.000167</td>\n",
       "      <td>...</td>\n",
       "      <td>0.000118</td>\n",
       "      <td>0.000142</td>\n",
       "      <td>0.000114</td>\n",
       "      <td>0.000078</td>\n",
       "      <td>0.000157</td>\n",
       "      <td>0.000116</td>\n",
       "      <td>0.000154</td>\n",
       "      <td>0.000099</td>\n",
       "      <td>0.000072</td>\n",
       "      <td>0.000228</td>\n",
       "    </tr>\n",
       "    <tr>\n",
       "      <th>DD</th>\n",
       "      <td>0.000171</td>\n",
       "      <td>0.000271</td>\n",
       "      <td>0.000224</td>\n",
       "      <td>0.000322</td>\n",
       "      <td>0.000274</td>\n",
       "      <td>0.000199</td>\n",
       "      <td>0.000193</td>\n",
       "      <td>0.000509</td>\n",
       "      <td>0.000201</td>\n",
       "      <td>0.000237</td>\n",
       "      <td>...</td>\n",
       "      <td>0.000133</td>\n",
       "      <td>0.000170</td>\n",
       "      <td>0.000136</td>\n",
       "      <td>0.000111</td>\n",
       "      <td>0.000219</td>\n",
       "      <td>0.000141</td>\n",
       "      <td>0.000187</td>\n",
       "      <td>0.000118</td>\n",
       "      <td>0.000113</td>\n",
       "      <td>0.000177</td>\n",
       "    </tr>\n",
       "    <tr>\n",
       "      <th>DIS</th>\n",
       "      <td>0.000176</td>\n",
       "      <td>0.000246</td>\n",
       "      <td>0.000188</td>\n",
       "      <td>0.000249</td>\n",
       "      <td>0.000185</td>\n",
       "      <td>0.000212</td>\n",
       "      <td>0.000150</td>\n",
       "      <td>0.000201</td>\n",
       "      <td>0.000370</td>\n",
       "      <td>0.000199</td>\n",
       "      <td>...</td>\n",
       "      <td>0.000111</td>\n",
       "      <td>0.000174</td>\n",
       "      <td>0.000113</td>\n",
       "      <td>0.000083</td>\n",
       "      <td>0.000177</td>\n",
       "      <td>0.000131</td>\n",
       "      <td>0.000153</td>\n",
       "      <td>0.000122</td>\n",
       "      <td>0.000102</td>\n",
       "      <td>0.000138</td>\n",
       "    </tr>\n",
       "    <tr>\n",
       "      <th>GE</th>\n",
       "      <td>0.000196</td>\n",
       "      <td>0.000284</td>\n",
       "      <td>0.000212</td>\n",
       "      <td>0.000335</td>\n",
       "      <td>0.000223</td>\n",
       "      <td>0.000223</td>\n",
       "      <td>0.000167</td>\n",
       "      <td>0.000237</td>\n",
       "      <td>0.000199</td>\n",
       "      <td>0.000429</td>\n",
       "      <td>...</td>\n",
       "      <td>0.000124</td>\n",
       "      <td>0.000177</td>\n",
       "      <td>0.000134</td>\n",
       "      <td>0.000097</td>\n",
       "      <td>0.000206</td>\n",
       "      <td>0.000135</td>\n",
       "      <td>0.000182</td>\n",
       "      <td>0.000124</td>\n",
       "      <td>0.000111</td>\n",
       "      <td>0.000154</td>\n",
       "    </tr>\n",
       "    <tr>\n",
       "      <th>HD</th>\n",
       "      <td>0.000170</td>\n",
       "      <td>0.000242</td>\n",
       "      <td>0.000186</td>\n",
       "      <td>0.000254</td>\n",
       "      <td>0.000187</td>\n",
       "      <td>0.000191</td>\n",
       "      <td>0.000136</td>\n",
       "      <td>0.000199</td>\n",
       "      <td>0.000184</td>\n",
       "      <td>0.000195</td>\n",
       "      <td>...</td>\n",
       "      <td>0.000108</td>\n",
       "      <td>0.000166</td>\n",
       "      <td>0.000113</td>\n",
       "      <td>0.000086</td>\n",
       "      <td>0.000172</td>\n",
       "      <td>0.000123</td>\n",
       "      <td>0.000168</td>\n",
       "      <td>0.000111</td>\n",
       "      <td>0.000159</td>\n",
       "      <td>0.000126</td>\n",
       "    </tr>\n",
       "    <tr>\n",
       "      <th>HPQ</th>\n",
       "      <td>0.000263</td>\n",
       "      <td>0.000233</td>\n",
       "      <td>0.000190</td>\n",
       "      <td>0.000244</td>\n",
       "      <td>0.000206</td>\n",
       "      <td>0.000299</td>\n",
       "      <td>0.000152</td>\n",
       "      <td>0.000206</td>\n",
       "      <td>0.000199</td>\n",
       "      <td>0.000202</td>\n",
       "      <td>...</td>\n",
       "      <td>0.000109</td>\n",
       "      <td>0.000223</td>\n",
       "      <td>0.000105</td>\n",
       "      <td>0.000066</td>\n",
       "      <td>0.000184</td>\n",
       "      <td>0.000124</td>\n",
       "      <td>0.000153</td>\n",
       "      <td>0.000116</td>\n",
       "      <td>0.000094</td>\n",
       "      <td>0.000134</td>\n",
       "    </tr>\n",
       "    <tr>\n",
       "      <th>IBM</th>\n",
       "      <td>0.000181</td>\n",
       "      <td>0.000179</td>\n",
       "      <td>0.000138</td>\n",
       "      <td>0.000189</td>\n",
       "      <td>0.000155</td>\n",
       "      <td>0.000215</td>\n",
       "      <td>0.000116</td>\n",
       "      <td>0.000161</td>\n",
       "      <td>0.000149</td>\n",
       "      <td>0.000167</td>\n",
       "      <td>...</td>\n",
       "      <td>0.000086</td>\n",
       "      <td>0.000167</td>\n",
       "      <td>0.000089</td>\n",
       "      <td>0.000065</td>\n",
       "      <td>0.000138</td>\n",
       "      <td>0.000112</td>\n",
       "      <td>0.000126</td>\n",
       "      <td>0.000099</td>\n",
       "      <td>0.000087</td>\n",
       "      <td>0.000112</td>\n",
       "    </tr>\n",
       "    <tr>\n",
       "      <th>INTC</th>\n",
       "      <td>0.000311</td>\n",
       "      <td>0.000255</td>\n",
       "      <td>0.000192</td>\n",
       "      <td>0.000264</td>\n",
       "      <td>0.000211</td>\n",
       "      <td>0.000362</td>\n",
       "      <td>0.000145</td>\n",
       "      <td>0.000205</td>\n",
       "      <td>0.000199</td>\n",
       "      <td>0.000212</td>\n",
       "      <td>...</td>\n",
       "      <td>0.000115</td>\n",
       "      <td>0.000282</td>\n",
       "      <td>0.000115</td>\n",
       "      <td>0.000086</td>\n",
       "      <td>0.000180</td>\n",
       "      <td>0.000139</td>\n",
       "      <td>0.000170</td>\n",
       "      <td>0.000130</td>\n",
       "      <td>0.000117</td>\n",
       "      <td>0.000141</td>\n",
       "    </tr>\n",
       "    <tr>\n",
       "      <th>JNJ</th>\n",
       "      <td>0.000072</td>\n",
       "      <td>0.000111</td>\n",
       "      <td>0.000095</td>\n",
       "      <td>0.000114</td>\n",
       "      <td>0.000093</td>\n",
       "      <td>0.000081</td>\n",
       "      <td>0.000090</td>\n",
       "      <td>0.000100</td>\n",
       "      <td>0.000086</td>\n",
       "      <td>0.000097</td>\n",
       "      <td>...</td>\n",
       "      <td>0.000112</td>\n",
       "      <td>0.000084</td>\n",
       "      <td>0.000108</td>\n",
       "      <td>0.000080</td>\n",
       "      <td>0.000089</td>\n",
       "      <td>0.000080</td>\n",
       "      <td>0.000087</td>\n",
       "      <td>0.000074</td>\n",
       "      <td>0.000067</td>\n",
       "      <td>0.000090</td>\n",
       "    </tr>\n",
       "    <tr>\n",
       "      <th>JPM</th>\n",
       "      <td>0.000236</td>\n",
       "      <td>0.000398</td>\n",
       "      <td>0.000234</td>\n",
       "      <td>0.000561</td>\n",
       "      <td>0.000265</td>\n",
       "      <td>0.000276</td>\n",
       "      <td>0.000199</td>\n",
       "      <td>0.000291</td>\n",
       "      <td>0.000243</td>\n",
       "      <td>0.000306</td>\n",
       "      <td>...</td>\n",
       "      <td>0.000149</td>\n",
       "      <td>0.000226</td>\n",
       "      <td>0.000154</td>\n",
       "      <td>0.000106</td>\n",
       "      <td>0.000226</td>\n",
       "      <td>0.000179</td>\n",
       "      <td>0.000259</td>\n",
       "      <td>0.000162</td>\n",
       "      <td>0.000132</td>\n",
       "      <td>0.000177</td>\n",
       "    </tr>\n",
       "    <tr>\n",
       "      <th>KO</th>\n",
       "      <td>0.000077</td>\n",
       "      <td>0.000115</td>\n",
       "      <td>0.000101</td>\n",
       "      <td>0.000112</td>\n",
       "      <td>0.000097</td>\n",
       "      <td>0.000084</td>\n",
       "      <td>0.000089</td>\n",
       "      <td>0.000105</td>\n",
       "      <td>0.000091</td>\n",
       "      <td>0.000095</td>\n",
       "      <td>...</td>\n",
       "      <td>0.000083</td>\n",
       "      <td>0.000089</td>\n",
       "      <td>0.000080</td>\n",
       "      <td>0.000088</td>\n",
       "      <td>0.000092</td>\n",
       "      <td>0.000085</td>\n",
       "      <td>0.000094</td>\n",
       "      <td>0.000080</td>\n",
       "      <td>0.000070</td>\n",
       "      <td>0.000090</td>\n",
       "    </tr>\n",
       "    <tr>\n",
       "      <th>MCD</th>\n",
       "      <td>0.000099</td>\n",
       "      <td>0.000138</td>\n",
       "      <td>0.000120</td>\n",
       "      <td>0.000138</td>\n",
       "      <td>0.000105</td>\n",
       "      <td>0.000111</td>\n",
       "      <td>0.000099</td>\n",
       "      <td>0.000119</td>\n",
       "      <td>0.000110</td>\n",
       "      <td>0.000113</td>\n",
       "      <td>...</td>\n",
       "      <td>0.000082</td>\n",
       "      <td>0.000094</td>\n",
       "      <td>0.000077</td>\n",
       "      <td>0.000073</td>\n",
       "      <td>0.000112</td>\n",
       "      <td>0.000078</td>\n",
       "      <td>0.000114</td>\n",
       "      <td>0.000072</td>\n",
       "      <td>0.000078</td>\n",
       "      <td>0.000088</td>\n",
       "    </tr>\n",
       "    <tr>\n",
       "      <th>MMM</th>\n",
       "      <td>0.000129</td>\n",
       "      <td>0.000183</td>\n",
       "      <td>0.000148</td>\n",
       "      <td>0.000208</td>\n",
       "      <td>0.000182</td>\n",
       "      <td>0.000151</td>\n",
       "      <td>0.000127</td>\n",
       "      <td>0.000189</td>\n",
       "      <td>0.000139</td>\n",
       "      <td>0.000167</td>\n",
       "      <td>...</td>\n",
       "      <td>0.000096</td>\n",
       "      <td>0.000123</td>\n",
       "      <td>0.000106</td>\n",
       "      <td>0.000088</td>\n",
       "      <td>0.000157</td>\n",
       "      <td>0.000100</td>\n",
       "      <td>0.000134</td>\n",
       "      <td>0.000089</td>\n",
       "      <td>0.000091</td>\n",
       "      <td>0.000125</td>\n",
       "    </tr>\n",
       "    <tr>\n",
       "      <th>MRK</th>\n",
       "      <td>0.000095</td>\n",
       "      <td>0.000147</td>\n",
       "      <td>0.000114</td>\n",
       "      <td>0.000153</td>\n",
       "      <td>0.000115</td>\n",
       "      <td>0.000103</td>\n",
       "      <td>0.000118</td>\n",
       "      <td>0.000133</td>\n",
       "      <td>0.000111</td>\n",
       "      <td>0.000124</td>\n",
       "      <td>...</td>\n",
       "      <td>0.000300</td>\n",
       "      <td>0.000104</td>\n",
       "      <td>0.000154</td>\n",
       "      <td>0.000087</td>\n",
       "      <td>0.000109</td>\n",
       "      <td>0.000103</td>\n",
       "      <td>0.000121</td>\n",
       "      <td>0.000098</td>\n",
       "      <td>0.000082</td>\n",
       "      <td>0.000112</td>\n",
       "    </tr>\n",
       "    <tr>\n",
       "      <th>MSFT</th>\n",
       "      <td>0.000229</td>\n",
       "      <td>0.000215</td>\n",
       "      <td>0.000165</td>\n",
       "      <td>0.000220</td>\n",
       "      <td>0.000176</td>\n",
       "      <td>0.000271</td>\n",
       "      <td>0.000142</td>\n",
       "      <td>0.000170</td>\n",
       "      <td>0.000174</td>\n",
       "      <td>0.000177</td>\n",
       "      <td>...</td>\n",
       "      <td>0.000104</td>\n",
       "      <td>0.000381</td>\n",
       "      <td>0.000108</td>\n",
       "      <td>0.000074</td>\n",
       "      <td>0.000160</td>\n",
       "      <td>0.000123</td>\n",
       "      <td>0.000150</td>\n",
       "      <td>0.000115</td>\n",
       "      <td>0.000104</td>\n",
       "      <td>0.000131</td>\n",
       "    </tr>\n",
       "    <tr>\n",
       "      <th>PFE</th>\n",
       "      <td>0.000093</td>\n",
       "      <td>0.000152</td>\n",
       "      <td>0.000120</td>\n",
       "      <td>0.000171</td>\n",
       "      <td>0.000125</td>\n",
       "      <td>0.000115</td>\n",
       "      <td>0.000114</td>\n",
       "      <td>0.000136</td>\n",
       "      <td>0.000113</td>\n",
       "      <td>0.000134</td>\n",
       "      <td>...</td>\n",
       "      <td>0.000154</td>\n",
       "      <td>0.000108</td>\n",
       "      <td>0.000250</td>\n",
       "      <td>0.000085</td>\n",
       "      <td>0.000114</td>\n",
       "      <td>0.000101</td>\n",
       "      <td>0.000119</td>\n",
       "      <td>0.000092</td>\n",
       "      <td>0.000087</td>\n",
       "      <td>0.000114</td>\n",
       "    </tr>\n",
       "    <tr>\n",
       "      <th>PG</th>\n",
       "      <td>0.000067</td>\n",
       "      <td>0.000111</td>\n",
       "      <td>0.000090</td>\n",
       "      <td>0.000119</td>\n",
       "      <td>0.000093</td>\n",
       "      <td>0.000081</td>\n",
       "      <td>0.000078</td>\n",
       "      <td>0.000111</td>\n",
       "      <td>0.000083</td>\n",
       "      <td>0.000097</td>\n",
       "      <td>...</td>\n",
       "      <td>0.000087</td>\n",
       "      <td>0.000074</td>\n",
       "      <td>0.000085</td>\n",
       "      <td>0.000194</td>\n",
       "      <td>0.000094</td>\n",
       "      <td>0.000086</td>\n",
       "      <td>0.000091</td>\n",
       "      <td>0.000076</td>\n",
       "      <td>0.000080</td>\n",
       "      <td>0.000080</td>\n",
       "    </tr>\n",
       "    <tr>\n",
       "      <th>RTX</th>\n",
       "      <td>0.000160</td>\n",
       "      <td>0.000230</td>\n",
       "      <td>0.000231</td>\n",
       "      <td>0.000237</td>\n",
       "      <td>0.000210</td>\n",
       "      <td>0.000184</td>\n",
       "      <td>0.000157</td>\n",
       "      <td>0.000219</td>\n",
       "      <td>0.000177</td>\n",
       "      <td>0.000206</td>\n",
       "      <td>...</td>\n",
       "      <td>0.000109</td>\n",
       "      <td>0.000160</td>\n",
       "      <td>0.000114</td>\n",
       "      <td>0.000094</td>\n",
       "      <td>0.000312</td>\n",
       "      <td>0.000116</td>\n",
       "      <td>0.000167</td>\n",
       "      <td>0.000102</td>\n",
       "      <td>0.000098</td>\n",
       "      <td>0.000143</td>\n",
       "    </tr>\n",
       "    <tr>\n",
       "      <th>T</th>\n",
       "      <td>0.000120</td>\n",
       "      <td>0.000169</td>\n",
       "      <td>0.000122</td>\n",
       "      <td>0.000180</td>\n",
       "      <td>0.000129</td>\n",
       "      <td>0.000139</td>\n",
       "      <td>0.000116</td>\n",
       "      <td>0.000141</td>\n",
       "      <td>0.000131</td>\n",
       "      <td>0.000135</td>\n",
       "      <td>...</td>\n",
       "      <td>0.000103</td>\n",
       "      <td>0.000123</td>\n",
       "      <td>0.000101</td>\n",
       "      <td>0.000086</td>\n",
       "      <td>0.000116</td>\n",
       "      <td>0.000271</td>\n",
       "      <td>0.000122</td>\n",
       "      <td>0.000180</td>\n",
       "      <td>0.000092</td>\n",
       "      <td>0.000118</td>\n",
       "    </tr>\n",
       "    <tr>\n",
       "      <th>TRV</th>\n",
       "      <td>0.000142</td>\n",
       "      <td>0.000239</td>\n",
       "      <td>0.000166</td>\n",
       "      <td>0.000276</td>\n",
       "      <td>0.000167</td>\n",
       "      <td>0.000165</td>\n",
       "      <td>0.000154</td>\n",
       "      <td>0.000187</td>\n",
       "      <td>0.000153</td>\n",
       "      <td>0.000182</td>\n",
       "      <td>...</td>\n",
       "      <td>0.000121</td>\n",
       "      <td>0.000150</td>\n",
       "      <td>0.000119</td>\n",
       "      <td>0.000091</td>\n",
       "      <td>0.000167</td>\n",
       "      <td>0.000122</td>\n",
       "      <td>0.000346</td>\n",
       "      <td>0.000113</td>\n",
       "      <td>0.000103</td>\n",
       "      <td>0.000138</td>\n",
       "    </tr>\n",
       "    <tr>\n",
       "      <th>VZ</th>\n",
       "      <td>0.000104</td>\n",
       "      <td>0.000148</td>\n",
       "      <td>0.000101</td>\n",
       "      <td>0.000153</td>\n",
       "      <td>0.000110</td>\n",
       "      <td>0.000131</td>\n",
       "      <td>0.000099</td>\n",
       "      <td>0.000118</td>\n",
       "      <td>0.000122</td>\n",
       "      <td>0.000124</td>\n",
       "      <td>...</td>\n",
       "      <td>0.000098</td>\n",
       "      <td>0.000115</td>\n",
       "      <td>0.000092</td>\n",
       "      <td>0.000076</td>\n",
       "      <td>0.000102</td>\n",
       "      <td>0.000180</td>\n",
       "      <td>0.000113</td>\n",
       "      <td>0.000240</td>\n",
       "      <td>0.000084</td>\n",
       "      <td>0.000101</td>\n",
       "    </tr>\n",
       "    <tr>\n",
       "      <th>WMT</th>\n",
       "      <td>0.000101</td>\n",
       "      <td>0.000129</td>\n",
       "      <td>0.000098</td>\n",
       "      <td>0.000126</td>\n",
       "      <td>0.000106</td>\n",
       "      <td>0.000118</td>\n",
       "      <td>0.000072</td>\n",
       "      <td>0.000113</td>\n",
       "      <td>0.000102</td>\n",
       "      <td>0.000111</td>\n",
       "      <td>...</td>\n",
       "      <td>0.000082</td>\n",
       "      <td>0.000104</td>\n",
       "      <td>0.000087</td>\n",
       "      <td>0.000080</td>\n",
       "      <td>0.000098</td>\n",
       "      <td>0.000092</td>\n",
       "      <td>0.000103</td>\n",
       "      <td>0.000084</td>\n",
       "      <td>0.000229</td>\n",
       "      <td>0.000078</td>\n",
       "    </tr>\n",
       "    <tr>\n",
       "      <th>XOM</th>\n",
       "      <td>0.000121</td>\n",
       "      <td>0.000176</td>\n",
       "      <td>0.000156</td>\n",
       "      <td>0.000192</td>\n",
       "      <td>0.000172</td>\n",
       "      <td>0.000130</td>\n",
       "      <td>0.000228</td>\n",
       "      <td>0.000177</td>\n",
       "      <td>0.000138</td>\n",
       "      <td>0.000154</td>\n",
       "      <td>...</td>\n",
       "      <td>0.000112</td>\n",
       "      <td>0.000131</td>\n",
       "      <td>0.000114</td>\n",
       "      <td>0.000080</td>\n",
       "      <td>0.000143</td>\n",
       "      <td>0.000118</td>\n",
       "      <td>0.000138</td>\n",
       "      <td>0.000101</td>\n",
       "      <td>0.000078</td>\n",
       "      <td>0.000253</td>\n",
       "    </tr>\n",
       "  </tbody>\n",
       "</table>\n",
       "<p>29 rows × 29 columns</p>\n",
       "</div>"
      ],
      "text/plain": [
       "Symbol      AAPL       AXP        BA       BAC       CAT      CSCO       CVX  \\\n",
       "Symbol                                                                         \n",
       "AAPL    0.000711  0.000221  0.000162  0.000240  0.000201  0.000297  0.000129   \n",
       "AXP     0.000221  0.000524  0.000242  0.000445  0.000255  0.000251  0.000198   \n",
       "BA      0.000162  0.000242  0.000447  0.000250  0.000205  0.000180  0.000172   \n",
       "BAC     0.000240  0.000445  0.000250  0.000849  0.000296  0.000266  0.000221   \n",
       "CAT     0.000201  0.000255  0.000205  0.000296  0.000421  0.000203  0.000187   \n",
       "CSCO    0.000297  0.000251  0.000180  0.000266  0.000203  0.000596  0.000137   \n",
       "CVX     0.000129  0.000198  0.000172  0.000221  0.000187  0.000137  0.000300   \n",
       "DD      0.000171  0.000271  0.000224  0.000322  0.000274  0.000199  0.000193   \n",
       "DIS     0.000176  0.000246  0.000188  0.000249  0.000185  0.000212  0.000150   \n",
       "GE      0.000196  0.000284  0.000212  0.000335  0.000223  0.000223  0.000167   \n",
       "HD      0.000170  0.000242  0.000186  0.000254  0.000187  0.000191  0.000136   \n",
       "HPQ     0.000263  0.000233  0.000190  0.000244  0.000206  0.000299  0.000152   \n",
       "IBM     0.000181  0.000179  0.000138  0.000189  0.000155  0.000215  0.000116   \n",
       "INTC    0.000311  0.000255  0.000192  0.000264  0.000211  0.000362  0.000145   \n",
       "JNJ     0.000072  0.000111  0.000095  0.000114  0.000093  0.000081  0.000090   \n",
       "JPM     0.000236  0.000398  0.000234  0.000561  0.000265  0.000276  0.000199   \n",
       "KO      0.000077  0.000115  0.000101  0.000112  0.000097  0.000084  0.000089   \n",
       "MCD     0.000099  0.000138  0.000120  0.000138  0.000105  0.000111  0.000099   \n",
       "MMM     0.000129  0.000183  0.000148  0.000208  0.000182  0.000151  0.000127   \n",
       "MRK     0.000095  0.000147  0.000114  0.000153  0.000115  0.000103  0.000118   \n",
       "MSFT    0.000229  0.000215  0.000165  0.000220  0.000176  0.000271  0.000142   \n",
       "PFE     0.000093  0.000152  0.000120  0.000171  0.000125  0.000115  0.000114   \n",
       "PG      0.000067  0.000111  0.000090  0.000119  0.000093  0.000081  0.000078   \n",
       "RTX     0.000160  0.000230  0.000231  0.000237  0.000210  0.000184  0.000157   \n",
       "T       0.000120  0.000169  0.000122  0.000180  0.000129  0.000139  0.000116   \n",
       "TRV     0.000142  0.000239  0.000166  0.000276  0.000167  0.000165  0.000154   \n",
       "VZ      0.000104  0.000148  0.000101  0.000153  0.000110  0.000131  0.000099   \n",
       "WMT     0.000101  0.000129  0.000098  0.000126  0.000106  0.000118  0.000072   \n",
       "XOM     0.000121  0.000176  0.000156  0.000192  0.000172  0.000130  0.000228   \n",
       "\n",
       "Symbol        DD       DIS        GE  ...       MRK      MSFT       PFE  \\\n",
       "Symbol                                ...                                 \n",
       "AAPL    0.000171  0.000176  0.000196  ...  0.000095  0.000229  0.000093   \n",
       "AXP     0.000271  0.000246  0.000284  ...  0.000147  0.000215  0.000152   \n",
       "BA      0.000224  0.000188  0.000212  ...  0.000114  0.000165  0.000120   \n",
       "BAC     0.000322  0.000249  0.000335  ...  0.000153  0.000220  0.000171   \n",
       "CAT     0.000274  0.000185  0.000223  ...  0.000115  0.000176  0.000125   \n",
       "CSCO    0.000199  0.000212  0.000223  ...  0.000103  0.000271  0.000115   \n",
       "CVX     0.000193  0.000150  0.000167  ...  0.000118  0.000142  0.000114   \n",
       "DD      0.000509  0.000201  0.000237  ...  0.000133  0.000170  0.000136   \n",
       "DIS     0.000201  0.000370  0.000199  ...  0.000111  0.000174  0.000113   \n",
       "GE      0.000237  0.000199  0.000429  ...  0.000124  0.000177  0.000134   \n",
       "HD      0.000199  0.000184  0.000195  ...  0.000108  0.000166  0.000113   \n",
       "HPQ     0.000206  0.000199  0.000202  ...  0.000109  0.000223  0.000105   \n",
       "IBM     0.000161  0.000149  0.000167  ...  0.000086  0.000167  0.000089   \n",
       "INTC    0.000205  0.000199  0.000212  ...  0.000115  0.000282  0.000115   \n",
       "JNJ     0.000100  0.000086  0.000097  ...  0.000112  0.000084  0.000108   \n",
       "JPM     0.000291  0.000243  0.000306  ...  0.000149  0.000226  0.000154   \n",
       "KO      0.000105  0.000091  0.000095  ...  0.000083  0.000089  0.000080   \n",
       "MCD     0.000119  0.000110  0.000113  ...  0.000082  0.000094  0.000077   \n",
       "MMM     0.000189  0.000139  0.000167  ...  0.000096  0.000123  0.000106   \n",
       "MRK     0.000133  0.000111  0.000124  ...  0.000300  0.000104  0.000154   \n",
       "MSFT    0.000170  0.000174  0.000177  ...  0.000104  0.000381  0.000108   \n",
       "PFE     0.000136  0.000113  0.000134  ...  0.000154  0.000108  0.000250   \n",
       "PG      0.000111  0.000083  0.000097  ...  0.000087  0.000074  0.000085   \n",
       "RTX     0.000219  0.000177  0.000206  ...  0.000109  0.000160  0.000114   \n",
       "T       0.000141  0.000131  0.000135  ...  0.000103  0.000123  0.000101   \n",
       "TRV     0.000187  0.000153  0.000182  ...  0.000121  0.000150  0.000119   \n",
       "VZ      0.000118  0.000122  0.000124  ...  0.000098  0.000115  0.000092   \n",
       "WMT     0.000113  0.000102  0.000111  ...  0.000082  0.000104  0.000087   \n",
       "XOM     0.000177  0.000138  0.000154  ...  0.000112  0.000131  0.000114   \n",
       "\n",
       "Symbol        PG       RTX         T       TRV        VZ       WMT       XOM  \n",
       "Symbol                                                                        \n",
       "AAPL    0.000067  0.000160  0.000120  0.000142  0.000104  0.000101  0.000121  \n",
       "AXP     0.000111  0.000230  0.000169  0.000239  0.000148  0.000129  0.000176  \n",
       "BA      0.000090  0.000231  0.000122  0.000166  0.000101  0.000098  0.000156  \n",
       "BAC     0.000119  0.000237  0.000180  0.000276  0.000153  0.000126  0.000192  \n",
       "CAT     0.000093  0.000210  0.000129  0.000167  0.000110  0.000106  0.000172  \n",
       "CSCO    0.000081  0.000184  0.000139  0.000165  0.000131  0.000118  0.000130  \n",
       "CVX     0.000078  0.000157  0.000116  0.000154  0.000099  0.000072  0.000228  \n",
       "DD      0.000111  0.000219  0.000141  0.000187  0.000118  0.000113  0.000177  \n",
       "DIS     0.000083  0.000177  0.000131  0.000153  0.000122  0.000102  0.000138  \n",
       "GE      0.000097  0.000206  0.000135  0.000182  0.000124  0.000111  0.000154  \n",
       "HD      0.000086  0.000172  0.000123  0.000168  0.000111  0.000159  0.000126  \n",
       "HPQ     0.000066  0.000184  0.000124  0.000153  0.000116  0.000094  0.000134  \n",
       "IBM     0.000065  0.000138  0.000112  0.000126  0.000099  0.000087  0.000112  \n",
       "INTC    0.000086  0.000180  0.000139  0.000170  0.000130  0.000117  0.000141  \n",
       "JNJ     0.000080  0.000089  0.000080  0.000087  0.000074  0.000067  0.000090  \n",
       "JPM     0.000106  0.000226  0.000179  0.000259  0.000162  0.000132  0.000177  \n",
       "KO      0.000088  0.000092  0.000085  0.000094  0.000080  0.000070  0.000090  \n",
       "MCD     0.000073  0.000112  0.000078  0.000114  0.000072  0.000078  0.000088  \n",
       "MMM     0.000088  0.000157  0.000100  0.000134  0.000089  0.000091  0.000125  \n",
       "MRK     0.000087  0.000109  0.000103  0.000121  0.000098  0.000082  0.000112  \n",
       "MSFT    0.000074  0.000160  0.000123  0.000150  0.000115  0.000104  0.000131  \n",
       "PFE     0.000085  0.000114  0.000101  0.000119  0.000092  0.000087  0.000114  \n",
       "PG      0.000194  0.000094  0.000086  0.000091  0.000076  0.000080  0.000080  \n",
       "RTX     0.000094  0.000312  0.000116  0.000167  0.000102  0.000098  0.000143  \n",
       "T       0.000086  0.000116  0.000271  0.000122  0.000180  0.000092  0.000118  \n",
       "TRV     0.000091  0.000167  0.000122  0.000346  0.000113  0.000103  0.000138  \n",
       "VZ      0.000076  0.000102  0.000180  0.000113  0.000240  0.000084  0.000101  \n",
       "WMT     0.000080  0.000098  0.000092  0.000103  0.000084  0.000229  0.000078  \n",
       "XOM     0.000080  0.000143  0.000118  0.000138  0.000101  0.000078  0.000253  \n",
       "\n",
       "[29 rows x 29 columns]"
      ]
     },
     "execution_count": 35,
     "metadata": {},
     "output_type": "execute_result"
    }
   ],
   "source": [
    "sigma = logret.cov()\n",
    "sigma"
   ]
  },
  {
   "cell_type": "markdown",
   "metadata": {
    "slideshow": {
     "slide_type": "subslide"
    }
   },
   "source": [
    "### Visualize volatility structure\n",
    "\n",
    "* Heatmap visualization of covariance and correlation"
   ]
  },
  {
   "cell_type": "code",
   "execution_count": 36,
   "metadata": {
    "slideshow": {
     "slide_type": "-"
    }
   },
   "outputs": [
    {
     "data": {
      "image/png": "[encoded data removed]",
      "text/plain": [
       "<Figure size 1440x576 with 4 Axes>"
      ]
     },
     "metadata": {
      "needs_background": "light"
     },
     "output_type": "display_data"
    }
   ],
   "source": [
    "import seaborn as sns\n",
    "fig, ax = plt.subplots(1, 2, figsize=(20, 8))\n",
    "sns.heatmap(logret.cov(),  square=True, ax=ax[0]).set_title('Covariance Matrix')\n",
    "sns.heatmap(logret.corr(), square=True, ax=ax[1]).set_title('Correlation Matrix')\n",
    "fig.show()"
   ]
  },
  {
   "cell_type": "markdown",
   "metadata": {
    "slideshow": {
     "slide_type": "subslide"
    }
   },
   "source": [
    "* Reordering variables group similar stocks together"
   ]
  },
  {
   "cell_type": "code",
   "execution_count": 37,
   "metadata": {
    "slideshow": {
     "slide_type": "-"
    }
   },
   "outputs": [
    {
     "name": "stderr",
     "output_type": "stream",
     "text": [
      "/opt/conda/lib/python3.8/site-packages/seaborn/matrix.py:1216: UserWarning: ``square=True`` ignored in clustermap\n",
      "  warnings.warn(msg)\n"
     ]
    },
    {
     "data": {
      "image/png": "[encoded data removed]",
      "text/plain": [
       "<Figure size 576x576 with 4 Axes>"
      ]
     },
     "metadata": {
      "needs_background": "light"
     },
     "output_type": "display_data"
    }
   ],
   "source": [
    "clmap = sns.clustermap(logret.corr(), square=True, figsize=(8, 8));\n",
    "ordering = clmap.dendrogram_col.reordered_ind # save the hierarchical clustering generated variable ordering"
   ]
  },
  {
   "cell_type": "code",
   "execution_count": 38,
   "metadata": {
    "slideshow": {
     "slide_type": "subslide"
    }
   },
   "outputs": [
    {
     "data": {
      "image/png": "[encoded data removed]",
      "text/plain": [
       "<Figure size 1440x576 with 4 Axes>"
      ]
     },
     "metadata": {
      "needs_background": "light"
     },
     "output_type": "display_data"
    }
   ],
   "source": [
    "fig, ax = plt.subplots(1, 2, figsize=(20, 8))\n",
    "sns.heatmap(logret.cov().iloc[ordering, ordering],  square=True, ax=ax[0]).set_title('Covariance Matrix')\n",
    "sns.heatmap(logret.corr().iloc[ordering, ordering], square=True, ax=ax[1]).set_title('Correlation Matrix')\n",
    "fig.show()"
   ]
  },
  {
   "cell_type": "markdown",
   "metadata": {
    "slideshow": {
     "slide_type": "subslide"
    }
   },
   "source": [
    "## Calculate Minimum Variance Portfolio\n",
    "\n",
    "* $\\Sigma$ matrix is all that is specified\n",
    "* $\\Sigma$ characterizes the market\n",
    "* Minimize variance of portfolio $R_p$"
   ]
  },
  {
   "cell_type": "code",
   "execution_count": 39,
   "metadata": {
    "slideshow": {
     "slide_type": "-"
    }
   },
   "outputs": [
    {
     "data": {
      "text/plain": [
       "8.69850040494734e-05"
      ]
     },
     "execution_count": 39,
     "metadata": {},
     "output_type": "execute_result"
    }
   ],
   "source": [
    "import cvxpy as cvx\n",
    "\n",
    "s, _ = sigma.shape # calculated from data\n",
    "\n",
    "w = cvx.Variable(s) # variables\n",
    "risk = cvx.quad_form(w, sigma.values)  # objective function\n",
    "prob = cvx.Problem(cvx.Minimize(risk), # optimization problem \n",
    "               [cvx.sum(w) == 1])      # fully invested portfolio constraint\n",
    "prob.solve()"
   ]
  },
  {
   "cell_type": "code",
   "execution_count": 40,
   "metadata": {
    "slideshow": {
     "slide_type": "subslide"
    }
   },
   "outputs": [
    {
     "data": {
      "text/plain": [
       "array([ 0.02016334, -0.07536345, -0.00730124, -0.01009793, -0.01105981,\n",
       "       -0.01636699,  0.04295917, -0.04174601,  0.01089446, -0.01453842,\n",
       "       -0.02252525,  0.01437234,  0.11139676, -0.02360143,  0.22001218,\n",
       "       -0.0337635 ,  0.15639304,  0.1452732 ,  0.09435745,  0.00396304,\n",
       "        0.01467289,  0.03230781,  0.12335983,  0.00212344,  0.00699251,\n",
       "        0.01409796,  0.10007964,  0.13065128,  0.01229369])"
      ]
     },
     "execution_count": 40,
     "metadata": {},
     "output_type": "execute_result"
    }
   ],
   "source": [
    "w.value"
   ]
  },
  {
   "cell_type": "markdown",
   "metadata": {
    "slideshow": {
     "slide_type": "-"
    }
   },
   "source": [
    "* Positive weights indicate long positions\n",
    "* Negative weights indicate [short positions](https://en.wikipedia.org/wiki/Short_(finance))\n",
    "* Must sum to 1 (constraint)"
   ]
  },
  {
   "cell_type": "markdown",
   "metadata": {
    "slideshow": {
     "slide_type": "subslide"
    }
   },
   "source": [
    "* Other portfolio optimization variations:  \n",
    "    http://nbviewer.jupyter.org/github/cvxgrp/cvx_short_course/blob/master/applications/portfolio_optimization.ipynb"
   ]
  },
  {
   "cell_type": "markdown",
   "metadata": {
    "slideshow": {
     "slide_type": "subslide"
    }
   },
   "source": [
    "* `cvxpy` package makes it easy to solve many types of problems easily\n",
    "* Portfolio allocation problem with target expected return constraint:\n",
    "\n",
    "$$ \\min_{x\\in\\mathbb{R}^s}\\ \\ x^\\intercal \\Sigma x\\\\\n",
    "\\text{subject to }\\mu^\\intercal x\\geq \\mu^* \\text{, and } \\mathbf{1}^\\intercal x = 1,$$\n",
    "\n",
    "* Expected returns, $\\mu$, is estimated from data (also $\\Sigma$)\n",
    "* Investor specifies target return $\\mu^*$"
   ]
  },
  {
   "cell_type": "code",
   "execution_count": 41,
   "metadata": {
    "slideshow": {
     "slide_type": "-"
    }
   },
   "outputs": [
    {
     "data": {
      "text/plain": [
       "0.00021275112901609534"
      ]
     },
     "execution_count": 41,
     "metadata": {},
     "output_type": "execute_result"
    }
   ],
   "source": [
    "import cvxpy as cvx\n",
    "\n",
    "s,_ = sigma.shape\n",
    "\n",
    "w = cvx.Variable(s)\n",
    "risk = cvx.quad_form(w, sigma.values)\n",
    "prob = cvx.Problem(cvx.Minimize(risk), \n",
    "               [\n",
    "                   cvx.sum(w) == 1,\n",
    "                   mu.values@w >= 0.001\n",
    "               ])\n",
    "prob.solve()"
   ]
  },
  {
   "cell_type": "code",
   "execution_count": 42,
   "metadata": {
    "slideshow": {
     "slide_type": "subslide"
    }
   },
   "outputs": [
    {
     "data": {
      "text/plain": [
       "array([ 0.2841767 , -0.0940328 ,  0.05604708, -0.08059854,  0.16044698,\n",
       "       -0.1409541 ,  0.29567286, -0.15231747,  0.10228465, -0.46383075,\n",
       "        0.05471487, -0.10316639, -0.00421006, -0.07644903,  0.43554727,\n",
       "        0.11727412,  0.02891495,  0.2819079 ,  0.27414413, -0.06723333,\n",
       "        0.10185588, -0.02663443,  0.15521546,  0.05576415, -0.13489514,\n",
       "        0.0811047 ,  0.16473644,  0.02944092, -0.33492702])"
      ]
     },
     "execution_count": 42,
     "metadata": {},
     "output_type": "execute_result"
    }
   ],
   "source": [
    "w.value"
   ]
  },
  {
   "cell_type": "markdown",
   "metadata": {
    "slideshow": {
     "slide_type": "-"
    }
   },
   "source": [
    "* Higher target return achieved with more short positions\n",
    "* Constraint: $\\mu^\\intercal w=0.001$\n",
    "* Constraint: $\\mathbf{1}^\\intercal w=1$."
   ]
  },
  {
   "cell_type": "code",
   "execution_count": 43,
   "metadata": {
    "slideshow": {
     "slide_type": "subslide"
    }
   },
   "outputs": [
    {
     "data": {
      "text/plain": [
       "1.0000000000000002"
      ]
     },
     "execution_count": 43,
     "metadata": {},
     "output_type": "execute_result"
    }
   ],
   "source": [
    "w.value.sum()"
   ]
  },
  {
   "cell_type": "code",
   "execution_count": 44,
   "metadata": {
    "slideshow": {
     "slide_type": "fragment"
    }
   },
   "outputs": [
    {
     "data": {
      "text/plain": [
       "0.0010000000000000002"
      ]
     },
     "execution_count": 44,
     "metadata": {},
     "output_type": "execute_result"
    }
   ],
   "source": [
    "np.dot(mu.values,w.value)"
   ]
  },
  {
   "cell_type": "markdown",
   "metadata": {
    "slideshow": {
     "slide_type": "slide"
    }
   },
   "source": [
    "### Making the investment\n",
    "\n",
    "* Investing 1 dollar in a stock with 3% return over one time period makes me 3 cents:  \n",
    "    $$\\$1 \\cdot (1 + 0.03) = 1.03$$\n",
    "    \n",
    "* Investing a portfolio of worth $A_0$ dollars returns,\n",
    "    $$ A = A_0 (1+r_t^T w_t), $$\n",
    "    where elements of $r_t$ are returns at time $t$ and $w$ is portfolio allocation\n",
    "\n",
    "* Take allocation `w.value` and compute portfolio returns using historical returns: `logret`."
   ]
  },
  {
   "cell_type": "code",
   "execution_count": 45,
   "metadata": {
    "slideshow": {
     "slide_type": "-"
    }
   },
   "outputs": [],
   "source": [
    "earned = np.dot(logret.fillna(method='bfill').values, w.value)"
   ]
  },
  {
   "cell_type": "markdown",
   "metadata": {
    "slideshow": {
     "slide_type": "subslide"
    }
   },
   "source": [
    "* Compute portfolio growth"
   ]
  },
  {
   "cell_type": "code",
   "execution_count": 46,
   "metadata": {
    "slideshow": {
     "slide_type": "fragment"
    }
   },
   "outputs": [
    {
     "data": {
      "image/png": "[encoded data removed]",
      "text/plain": [
       "<Figure size 720x576 with 1 Axes>"
      ]
     },
     "metadata": {
      "needs_background": "light"
     },
     "output_type": "display_data"
    }
   ],
   "source": [
    "earnedcp = (1+earned[1:]).cumprod()\n",
    "ecp = pd.DataFrame(data=earnedcp.T, index=logret.index.values[1:], columns=['Portfolio Value'])\n",
    "ecp.plot(figsize=(10, 8));"
   ]
  },
  {
   "cell_type": "code",
   "execution_count": 47,
   "metadata": {
    "slideshow": {
     "slide_type": "subslide"
    }
   },
   "outputs": [
    {
     "data": {
      "image/png": "[encoded data removed]",
      "text/plain": [
       "<Figure size 720x576 with 1 Axes>"
      ]
     },
     "metadata": {
      "needs_background": "light"
     },
     "output_type": "display_data"
    }
   ],
   "source": [
    "np.log10(ecp).plot(figsize=(10, 8));"
   ]
  },
  {
   "cell_type": "code",
   "execution_count": 48,
   "metadata": {
    "slideshow": {
     "slide_type": "subslide"
    }
   },
   "outputs": [
    {
     "data": {
      "text/html": [
       "<div>\n",
       "<style scoped>\n",
       "    .dataframe tbody tr th:only-of-type {\n",
       "        vertical-align: middle;\n",
       "    }\n",
       "\n",
       "    .dataframe tbody tr th {\n",
       "        vertical-align: top;\n",
       "    }\n",
       "\n",
       "    .dataframe thead th {\n",
       "        text-align: right;\n",
       "    }\n",
       "</style>\n",
       "<table border=\"1\" class=\"dataframe\">\n",
       "  <thead>\n",
       "    <tr style=\"text-align: right;\">\n",
       "      <th></th>\n",
       "      <th>Portfolio Value</th>\n",
       "    </tr>\n",
       "  </thead>\n",
       "  <tbody>\n",
       "    <tr>\n",
       "      <th>2000-01-04</th>\n",
       "      <td>0.993205</td>\n",
       "    </tr>\n",
       "    <tr>\n",
       "      <th>2000-01-05</th>\n",
       "      <td>1.007352</td>\n",
       "    </tr>\n",
       "    <tr>\n",
       "      <th>2000-01-06</th>\n",
       "      <td>1.014581</td>\n",
       "    </tr>\n",
       "    <tr>\n",
       "      <th>2000-01-07</th>\n",
       "      <td>1.053586</td>\n",
       "    </tr>\n",
       "    <tr>\n",
       "      <th>2000-01-10</th>\n",
       "      <td>1.025508</td>\n",
       "    </tr>\n",
       "    <tr>\n",
       "      <th>...</th>\n",
       "      <td>...</td>\n",
       "    </tr>\n",
       "    <tr>\n",
       "      <th>2020-05-04</th>\n",
       "      <td>95.695901</td>\n",
       "    </tr>\n",
       "    <tr>\n",
       "      <th>2020-05-05</th>\n",
       "      <td>96.248089</td>\n",
       "    </tr>\n",
       "    <tr>\n",
       "      <th>2020-05-06</th>\n",
       "      <td>96.518126</td>\n",
       "    </tr>\n",
       "    <tr>\n",
       "      <th>2020-05-07</th>\n",
       "      <td>97.015461</td>\n",
       "    </tr>\n",
       "    <tr>\n",
       "      <th>2020-05-08</th>\n",
       "      <td>96.753352</td>\n",
       "    </tr>\n",
       "  </tbody>\n",
       "</table>\n",
       "<p>5120 rows × 1 columns</p>\n",
       "</div>"
      ],
      "text/plain": [
       "            Portfolio Value\n",
       "2000-01-04         0.993205\n",
       "2000-01-05         1.007352\n",
       "2000-01-06         1.014581\n",
       "2000-01-07         1.053586\n",
       "2000-01-10         1.025508\n",
       "...                     ...\n",
       "2020-05-04        95.695901\n",
       "2020-05-05        96.248089\n",
       "2020-05-06        96.518126\n",
       "2020-05-07        97.015461\n",
       "2020-05-08        96.753352\n",
       "\n",
       "[5120 rows x 1 columns]"
      ]
     },
     "execution_count": 48,
     "metadata": {},
     "output_type": "execute_result"
    }
   ],
   "source": [
    "ecp"
   ]
  },
  {
   "cell_type": "markdown",
   "metadata": {
    "slideshow": {
     "slide_type": "subslide"
    }
   },
   "source": [
    "* 1 dollar invested in 2000 would be 98 dollars today?\n",
    "* Unrealistic! Why?\n",
    "* Having knowledge of 20 years worth of data is cheating!"
   ]
  },
  {
   "cell_type": "markdown",
   "metadata": {
    "slideshow": {
     "slide_type": "subslide"
    }
   },
   "source": [
    "### Quantify results"
   ]
  },
  {
   "cell_type": "code",
   "execution_count": 49,
   "metadata": {
    "slideshow": {
     "slide_type": "-"
    }
   },
   "outputs": [
    {
     "name": "stdout",
     "output_type": "stream",
     "text": [
      "portfolio average returns: 0.000998477905408937\n",
      "          average stddev : 0.014583548992173723\n",
      "\n",
      "component stocks average: minimum: -0.000282\n",
      "                          average: 0.000225\n",
      "                          maximum: 0.000878\n",
      "component stocks stddev : minimum: 0.012458\n",
      "                          average: 0.019161\n",
      "                          maximum: 0.029132\n"
     ]
    }
   ],
   "source": [
    "retinfo = logret.mean(axis=0).agg(['min', 'mean', 'max'])\n",
    "stdinfo = logret.std(axis=0).agg(['min', 'mean', 'max'])\n",
    "print('portfolio average returns:', earned.mean())\n",
    "print('          average stddev :', earned.std())\n",
    "print('')\n",
    "print(\"component stocks average: minimum: %f\\n                          average: %f\\n                          maximum: %f\" % tuple(retinfo))\n",
    "print(\"component stocks stddev : minimum: %f\\n                          average: %f\\n                          maximum: %f\" % tuple(stdinfo))"
   ]
  },
  {
   "cell_type": "markdown",
   "metadata": {
    "slideshow": {
     "slide_type": "subslide"
    }
   },
   "source": [
    "Annual return would be:"
   ]
  },
  {
   "cell_type": "code",
   "execution_count": 50,
   "metadata": {
    "slideshow": {
     "slide_type": "-"
    }
   },
   "outputs": [
    {
     "data": {
      "text/plain": [
       "0.4394521814207102"
      ]
     },
     "execution_count": 50,
     "metadata": {},
     "output_type": "execute_result"
    }
   ],
   "source": [
    "(1+earned.mean())**365 - 1"
   ]
  },
  {
   "cell_type": "markdown",
   "metadata": {
    "slideshow": {
     "slide_type": "fragment"
    }
   },
   "source": [
    "Again, unrealistic"
   ]
  },
  {
   "cell_type": "markdown",
   "metadata": {
    "slideshow": {
     "slide_type": "slide"
    }
   },
   "source": [
    "### Qualitative Visualization of Relationships\n",
    "\n",
    "* Correlations are stricly pairwise quantities (what about other stocks?)\n",
    "* Inverse covariance"
   ]
  },
  {
   "cell_type": "code",
   "execution_count": 51,
   "metadata": {
    "slideshow": {
     "slide_type": "-"
    }
   },
   "outputs": [],
   "source": [
    "from sklearn import preprocessing\n",
    "scaler = preprocessing.StandardScaler()\n",
    "scaled_df = scaler.fit_transform(logret.dropna().values)\n",
    "scaled_df = pd.DataFrame(scaled_df, columns=logret.columns, index=logret.index[1:])"
   ]
  },
  {
   "cell_type": "markdown",
   "metadata": {},
   "source": [
    "#### Correlation Matrix: 2020"
   ]
  },
  {
   "cell_type": "code",
   "execution_count": 52,
   "metadata": {},
   "outputs": [
    {
     "name": "stderr",
     "output_type": "stream",
     "text": [
      "/opt/conda/lib/python3.8/site-packages/seaborn/matrix.py:1216: UserWarning: ``square=True`` ignored in clustermap\n",
      "  warnings.warn(msg)\n"
     ]
    },
    {
     "data": {
      "image/png": "[encoded data removed]",
      "text/plain": [
       "<Figure size 576x576 with 4 Axes>"
      ]
     },
     "metadata": {
      "needs_background": "light"
     },
     "output_type": "display_data"
    }
   ],
   "source": [
    "clmap = sns.clustermap(scaled_df.loc['2020':'2020'].corr(), square=True, figsize=(8, 8));\n",
    "ordering = clmap.dendrogram_col.reordered_ind # save the hierarchical clustering generated variable ordering"
   ]
  },
  {
   "cell_type": "markdown",
   "metadata": {
    "slideshow": {
     "slide_type": "subslide"
    }
   },
   "source": [
    "#### Correlation Matrix: 2019 vs. 2020"
   ]
  },
  {
   "cell_type": "code",
   "execution_count": 53,
   "metadata": {
    "slideshow": {
     "slide_type": "-"
    }
   },
   "outputs": [
    {
     "data": {
      "image/png": "[encoded data removed]",
      "text/plain": [
       "<Figure size 1440x576 with 4 Axes>"
      ]
     },
     "metadata": {
      "needs_background": "light"
     },
     "output_type": "display_data"
    }
   ],
   "source": [
    "fig, ax = plt.subplots(1, 2, figsize=(20, 8))\n",
    "\n",
    "sns.heatmap(scaled_df.loc['2019':'2019'].corr().iloc[ordering, ordering],  square=True, ax=ax[0]).set_title('Correlation Matrix: 2019')\n",
    "sns.heatmap(scaled_df.loc['2020':'2020'].corr().iloc[ordering, ordering],  square=True, ax=ax[1]).set_title('Correlation Matrix: 2020')\n",
    "fig.show()"
   ]
  },
  {
   "cell_type": "markdown",
   "metadata": {},
   "source": [
    "### Reality check\n",
    "\n",
    "Obviously, this cannot be realistic. What aspects were unrealistic?\n",
    "\n",
    "1. We didn't take time into consideration: e.g. estimation of $\\Sigma$ and selecting `w`.\n",
    "1. We are investing with knowledge of the future returns!\n",
    "1. We did not take into account transaction costs (we will have to) \n",
    "1. We did not take into account shorting requires borrowing of money\n",
    "1. Is investing in stocks better than leaving our money in a savings account? What is the interest rate?\n",
    "\n",
    "Sharpe ratio tries to quantify the added benefit, i.e., excess returns, of investing in the volatile market by accounting for the volatility:\n",
    "$$\\text{Sharpe ratio}=\\frac{E\\left[R_{p}-R_{f}\\right]}{\\sigma_{p}}$$\n",
    "where $R_f$ is the risk-free rate."
   ]
  },
  {
   "cell_type": "markdown",
   "metadata": {},
   "source": [
    "### Other considerations\n",
    "\n",
    "1. Picking component stocks (choosing what to invest in)\n",
    "    1. Playing the role of the fund manager\n",
    "    1. Expertise about a specific market\n",
    "    1. Warren Buffet says stick with long term _value_ investing strategies\n",
    "    1. High-frequency trading makes money by constantly shuffling investments and making incremental returns\n",
    "    1. Where is the middle ground? i.e., choosing strategies\n",
    "1. Choosing monitoring strategies (keeping an eye out for changes in the market)\n",
    "    1. Estimation of $\\Sigma$ becomes challenging with shorter historical data\n",
    "    1. \"Regularized\" estimates of $\\Sigma$: Ledoit-Wolfe, Condition number, Sparsity inducing, Low-rank\n",
    "    1. How big of a change in the market is signficant change?\n",
    "    1. Where to look for a change? Component stocks? Market indices? Economic indicators? Consumer sentiment? Policy changes?\n",
    "    1. Deciding when to take action. How big of a change warrants an action? (Actions cost money)\n",
    "1. Choosing rebalancing strategy (deciding when to shuffle your investments)  \n",
    "    1. Fixed intervals? dynamic intervals? \n",
    "    1. Allowing for shorts?\n",
    "    1. If many component stocks, do you trade all of them even if the change is small? etc."
   ]
  },
  {
   "cell_type": "markdown",
   "metadata": {},
   "source": [
    "## Other optimization problems for modeling and learning\n",
    "\n",
    "1. [Online advertising](https://github.com/UCSB-PSTAT-134-234/Spring2019/blob/master/labs/lab05/lab05.ipynb)\n",
    "1. [Trend filtering](https://web.stanford.edu/~boyd/l1_tf/), [CVX example](https://www.cvxpy.org/examples/applications/l1_trend_filter.html)\n",
    "1. [Catching a smuggler](https://www.cvxpy.org/examples/applications/interdiction.html)\n",
    "1. [Estimating sparse inverse covariance matrix](https://www.cvxpy.org/examples/applications/sparse_covariance_est.html)\n",
    "1. [Max-flow, Min-cut problem](https://www.cvxpy.org/examples/applications/OOCO.html)\n",
    "1. Many more!!"
   ]
  }
 ],
 "metadata": {
  "celltoolbar": "Slideshow",
  "kernelspec": {
   "display_name": "Python 3",
   "language": "python",
   "name": "python3"
  },
  "language_info": {
   "codemirror_mode": {
    "name": "ipython",
    "version": 3
   },
   "file_extension": ".py",
   "mimetype": "text/x-python",
   "name": "python",
   "nbconvert_exporter": "python",
   "pygments_lexer": "ipython3",
   "version": "3.8.6"
  },
  "toc": {
   "base_numbering": 1,
   "nav_menu": {},
   "number_sections": false,
   "sideBar": true,
   "skip_h1_title": false,
   "title_cell": "Table of Contents",
   "title_sidebar": "Contents",
   "toc_cell": false,
   "toc_position": {},
   "toc_section_display": true,
   "toc_window_display": false
  }
 },
 "nbformat": 4,
 "nbformat_minor": 4
}
