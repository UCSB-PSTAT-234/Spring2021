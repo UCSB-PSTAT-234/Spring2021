{
 "cells": [
  {
   "cell_type": "markdown",
   "metadata": {
    "slideshow": {
     "slide_type": "slide"
    }
   },
   "source": [
    "# Movie Lense Recommender system <a class='tocSkip'> \n",
    "\n",
    "## Sang-Yun Oh <a class='tocSkip'> "
   ]
  },
  {
   "cell_type": "code",
   "execution_count": 1,
   "metadata": {
    "slideshow": {
     "slide_type": "subslide"
    }
   },
   "outputs": [
    {
     "name": "stdout",
     "output_type": "stream",
     "text": [
      "Requirement already satisfied: altair in /opt/conda/lib/python3.8/site-packages (4.1.0)\n",
      "Requirement already satisfied: jsonschema in /opt/conda/lib/python3.8/site-packages (from altair) (3.2.0)\n",
      "Requirement already satisfied: pandas>=0.18 in /opt/conda/lib/python3.8/site-packages (from altair) (1.1.5)\n",
      "Requirement already satisfied: jinja2 in /opt/conda/lib/python3.8/site-packages (from altair) (2.11.2)\n",
      "Requirement already satisfied: numpy in /opt/conda/lib/python3.8/site-packages (from altair) (1.19.5)\n",
      "Requirement already satisfied: toolz in /opt/conda/lib/python3.8/site-packages (from altair) (0.11.1)\n",
      "Requirement already satisfied: entrypoints in /opt/conda/lib/python3.8/site-packages (from altair) (0.3)\n",
      "Requirement already satisfied: python-dateutil>=2.7.3 in /opt/conda/lib/python3.8/site-packages (from pandas>=0.18->altair) (2.8.1)\n",
      "Requirement already satisfied: pytz>=2017.2 in /opt/conda/lib/python3.8/site-packages (from pandas>=0.18->altair) (2020.5)\n",
      "Requirement already satisfied: six>=1.5 in /opt/conda/lib/python3.8/site-packages (from python-dateutil>=2.7.3->pandas>=0.18->altair) (1.15.0)\n",
      "Requirement already satisfied: MarkupSafe>=0.23 in /opt/conda/lib/python3.8/site-packages (from jinja2->altair) (1.1.1)\n",
      "Requirement already satisfied: attrs>=17.4.0 in /opt/conda/lib/python3.8/site-packages (from jsonschema->altair) (20.3.0)\n",
      "Requirement already satisfied: pyrsistent>=0.14.0 in /opt/conda/lib/python3.8/site-packages (from jsonschema->altair) (0.17.3)\n",
      "Requirement already satisfied: setuptools in /opt/conda/lib/python3.8/site-packages (from jsonschema->altair) (49.6.0.post20210108)\n"
     ]
    }
   ],
   "source": [
    "!pip install altair\n",
    "import altair as alt\n",
    "import numpy as np\n",
    "import pandas as pd\n",
    "\n",
    "long = lambda x: x.stack().reset_index()\n",
    "\n",
    "R = pd.read_pickle('R.pkl')\n",
    "R_all = pd.read_pickle('R_all.pkl')"
   ]
  },
  {
   "cell_type": "markdown",
   "metadata": {
    "slideshow": {
     "slide_type": "slide"
    }
   },
   "source": [
    "## Back to Recommender System: Best $U$ and $V$\n",
    "\n",
    "- In recommender system, we want to find $U$ and $V$ that minimize the residual:\n",
    "$$\n",
    "\\begin{aligned}\n",
    "\\min_{U,V} f(U,V) &= \\min_{U,V} \\|R - V U^T\\|_F^2\n",
    "\\end{aligned}\n",
    "$$\n",
    "- Due to missing values, we minimize over just the observed ratings: i.e.,\n",
    "$$\n",
    "\\begin{aligned}\n",
    "\\min_{U,V} f(U,V) &= \\min_{U,V} \\|R - V U^T\\|_F^2\\\\\n",
    "&=\\min_{U,V} \\left\\{ \\sum_{m=1}^M\\sum_{i=1}^I I_{mi}(r_{mi} - v_m u_i^T)^2 \\right\\}\\\\\n",
    "&= \\min_{U,V} \\left\\{ \\sum_{m=1}^M\\sum_{i=1}^I I_{mi}\\cdot f_{mi}(v_m, u_i) \\right\\}\n",
    "\\end{aligned}\n",
    "$$\n",
    "where \n",
    "$$\n",
    "\\begin{aligned}\n",
    "I_{im} = \\begin{cases}\n",
    "1 \\text{, if  $r_{mi}$ is observed}\\\\\n",
    "0 \\text{, otherwise}\\\\\n",
    "\\end{cases}\n",
    "\\end{aligned}\n",
    "$$"
   ]
  },
  {
   "cell_type": "markdown",
   "metadata": {
    "slideshow": {
     "slide_type": "subslide"
    }
   },
   "source": [
    "- Since $f(U,V)$ is a sum of quadratic (convex) functions, we can cycle through decreasing $f_{ij}(u_i,v_m)$ respect to vectors $u_i$ and $v_m$ eventually decreases the sum."
   ]
  },
  {
   "cell_type": "markdown",
   "metadata": {
    "slideshow": {
     "slide_type": "fragment"
    }
   },
   "source": [
    "- In order to apply the update equations as in the toy examples, we compute the gradients:\n",
    "$$\n",
    "\\begin{aligned}\n",
    "\\frac{\\partial}{\\partial u_i} f_{mi}(v_m,u_i) &= -2(r_{mi} - v_mu_i^T)\\cdot v_m\\\\\n",
    "\\frac{\\partial}{\\partial v_m} f_{mi}(v_m,u_i) &= -2(r_{mi} - v_mu_i^T)\\cdot u_i.\n",
    "\\end{aligned}\n",
    "$$"
   ]
  },
  {
   "cell_type": "markdown",
   "metadata": {
    "slideshow": {
     "slide_type": "fragment"
    }
   },
   "source": [
    "- Now, the update formulas are\n",
    "$$\n",
    "\\begin{aligned}\n",
    "u_i^{\\text{new}} &= u_i + 2\\alpha(r_{mi} -  v_m u_i^T)\\cdot v_m\\\\\n",
    "v_m^{\\text{new}} &= v_m + 2\\alpha(r_{mi} -  v_m u_i^T)\\cdot u_i,\n",
    "\\end{aligned}\n",
    "$$\n",
    "where $\\alpha$ is the step-size"
   ]
  },
  {
   "cell_type": "markdown",
   "metadata": {
    "slideshow": {
     "slide_type": "subslide"
    }
   },
   "source": [
    "## Preparing to Optimize\n",
    "\n",
    "* Decide number of latent factors $K$\n",
    "* Initialize matrices $U$ and $V$ with random values"
   ]
  },
  {
   "cell_type": "code",
   "execution_count": 2,
   "metadata": {
    "slideshow": {
     "slide_type": "subslide"
    }
   },
   "outputs": [],
   "source": [
    "I = 16 # number of users\n",
    "M = 15 # number of movies\n",
    "K = 5  # number of latent factors\n",
    "\n",
    "# initialize U and V with random values\n",
    "np.random.seed(42)\n",
    "\n",
    "U = np.random.uniform(0, 1, size=K*I).reshape((I, K))\n",
    "V = np.random.uniform(0, 1, size=K*M).reshape((M, K))\n",
    "\n",
    "Uold = np.zeros_like(U)\n",
    "Vold = np.zeros_like(V)"
   ]
  },
  {
   "cell_type": "code",
   "execution_count": 3,
   "metadata": {
    "slideshow": {
     "slide_type": "fragment"
    }
   },
   "outputs": [
    {
     "data": {
      "text/plain": [
       "(16, 5)"
      ]
     },
     "execution_count": 3,
     "metadata": {},
     "output_type": "execute_result"
    }
   ],
   "source": [
    "U.shape"
   ]
  },
  {
   "cell_type": "markdown",
   "metadata": {
    "slideshow": {
     "slide_type": "subslide"
    }
   },
   "source": [
    "* Decide metric for improvement (root mean square error):\n",
    "    $$ \\text{RMSE}(x, y) = \\left[\\frac{1}{n}\\sum_{i=1}^{n} \\|x_i - y_i\\|_2^2 \\right]^{1/2},$$\n",
    "    where matrices $x$ and $y$ are first vectorized"
   ]
  },
  {
   "cell_type": "code",
   "execution_count": 4,
   "metadata": {
    "slideshow": {
     "slide_type": "fragment"
    }
   },
   "outputs": [],
   "source": [
    "# calculate RMSE\n",
    "def rmse(X, Y):\n",
    "    from numpy import sqrt, nanmean\n",
    "    return sqrt(nanmean((X - Y)**2))\n",
    "\n",
    "error = [(0, rmse(R, np.inner(V,U)))]"
   ]
  },
  {
   "cell_type": "markdown",
   "metadata": {
    "slideshow": {
     "slide_type": "subslide"
    }
   },
   "source": [
    "* Keep track of updates to $U$ and $V$:\n",
    "    $$ \\text{MaxUpdate}(U^{\\text{(old)}}, U^{\\text{(new)}}) = \\left\\|\\frac{U^{\\text{(old)}}-U^{\\text{(new)}}}{U^{\\text{(new)}}}\\right\\|_\\infty,$$\n",
    "    where difference, ratio, and matrix norm is computed element-wise."
   ]
  },
  {
   "cell_type": "code",
   "execution_count": 5,
   "metadata": {
    "slideshow": {
     "slide_type": "fragment"
    }
   },
   "outputs": [],
   "source": [
    "# calculate maximum magnitude of relative updates\n",
    "def max_update(X, Y):\n",
    "    from numpy import inf\n",
    "    from numpy.linalg import norm\n",
    "    return norm(((X - Y)/Y).ravel(), inf)\n",
    "\n",
    "update = [(0, max(max_update(Uold, U), max_update(Vold, V)))]"
   ]
  },
  {
   "cell_type": "markdown",
   "metadata": {
    "slideshow": {
     "slide_type": "subslide"
    }
   },
   "source": [
    "## Compute Solutions: $U$ and $V$"
   ]
  },
  {
   "cell_type": "code",
   "execution_count": 6,
   "metadata": {
    "slideshow": {
     "slide_type": "-"
    }
   },
   "outputs": [],
   "source": [
    "rate = 0.1            # learning rate (step size) \n",
    "max_iterations = 300  # maximum number of iterations\n",
    "threshold = 0.001     # max_update threshold for termination\n",
    "\n",
    "for t in range(1, max_iterations):\n",
    "     \n",
    "    for m, i in zip(*np.where(~np.isnan(R))):\n",
    "        \n",
    "        U[i] = U[i] + rate*V[m]*(R.iloc[m,i] - np.inner(V[m], U[i]))\n",
    "        V[m] = V[m] + rate*U[i]*(R.iloc[m,i] - np.inner(V[m], U[i]))\n",
    "        \n",
    "    # compute error after one sweep of updates\n",
    "    error += [(t, rmse(R, np.inner(V,U)))]\n",
    "    \n",
    "    # keep track of how much U and V changes\n",
    "    update += [(t, max(max_update(Uold, U), max_update(Vold, V)))]\n",
    "    Uold = U.copy()\n",
    "    Vold = V.copy()\n",
    "    \n",
    "error = pd.DataFrame(error, columns=['iteration', 'rmse'])\n",
    "update = pd.DataFrame(update , columns=['iteration', 'maximum update'])"
   ]
  },
  {
   "cell_type": "markdown",
   "metadata": {
    "slideshow": {
     "slide_type": "subslide"
    }
   },
   "source": [
    "## Monitoring Optimization Progress\n",
    "\n",
    "* As gradient descent progresses,\n",
    "* $U$ and $V$ are updated. How large are the updates?\n",
    "* Are the updates getting better? Does RMSE decrease?"
   ]
  },
  {
   "cell_type": "code",
   "execution_count": 7,
   "metadata": {
    "slideshow": {
     "slide_type": "fragment"
    }
   },
   "outputs": [
    {
     "data": {
      "text/html": [
       "\n",
       "<div id=\"altair-viz-689652f2de474b92bc6a073901f5b7b0\"></div>\n",
       "<script type=\"text/javascript\">\n",
       "  (function(spec, embedOpt){\n",
       "    let outputDiv = document.currentScript.previousElementSibling;\n",
       "    if (outputDiv.id !== \"altair-viz-689652f2de474b92bc6a073901f5b7b0\") {\n",
       "      outputDiv = document.getElementById(\"altair-viz-689652f2de474b92bc6a073901f5b7b0\");\n",
       "    }\n",
       "    const paths = {\n",
       "      \"vega\": \"https://cdn.jsdelivr.net/npm//vega@5?noext\",\n",
       "      \"vega-lib\": \"https://cdn.jsdelivr.net/npm//vega-lib?noext\",\n",
       "      \"vega-lite\": \"https://cdn.jsdelivr.net/npm//vega-lite@4.8.1?noext\",\n",
       "      \"vega-embed\": \"https://cdn.jsdelivr.net/npm//vega-embed@6?noext\",\n",
       "    };\n",
       "\n",
       "    function loadScript(lib) {\n",
       "      return new Promise(function(resolve, reject) {\n",
       "        var s = document.createElement('script');\n",
       "        s.src = paths[lib];\n",
       "        s.async = true;\n",
       "        s.onload = () => resolve(paths[lib]);\n",
       "        s.onerror = () => reject(`Error loading script: ${paths[lib]}`);\n",
       "        document.getElementsByTagName(\"head\")[0].appendChild(s);\n",
       "      });\n",
       "    }\n",
       "\n",
       "    function showError(err) {\n",
       "      outputDiv.innerHTML = `<div class=\"error\" style=\"color:red;\">${err}</div>`;\n",
       "      throw err;\n",
       "    }\n",
       "\n",
       "    function displayChart(vegaEmbed) {\n",
       "      vegaEmbed(outputDiv, spec, embedOpt)\n",
       "        .catch(err => showError(`Javascript Error: ${err.message}<br>This usually means there's a typo in your chart specification. See the javascript console for the full traceback.`));\n",
       "    }\n",
       "\n",
       "    if(typeof define === \"function\" && define.amd) {\n",
       "      requirejs.config({paths});\n",
       "      require([\"vega-embed\"], displayChart, err => showError(`Error loading script: ${err.message}`));\n",
       "    } else if (typeof vegaEmbed === \"function\") {\n",
       "      displayChart(vegaEmbed);\n",
       "    } else {\n",
       "      loadScript(\"vega\")\n",
       "        .then(() => loadScript(\"vega-lite\"))\n",
       "        .then(() => loadScript(\"vega-embed\"))\n",
       "        .catch(showError)\n",
       "        .then(() => displayChart(vegaEmbed));\n",
       "    }\n",
       "  })({\"config\": {\"view\": {\"continuousWidth\": 400, \"continuousHeight\": 300}}, \"hconcat\": [{\"layer\": [{\"mark\": \"line\", \"encoding\": {\"x\": {\"type\": \"quantitative\", \"field\": \"iteration\"}, \"y\": {\"type\": \"quantitative\", \"field\": \"rmse\", \"scale\": {\"base\": 10, \"domain\": [0.1, 3], \"type\": \"log\"}}}}, {\"mark\": {\"type\": \"point\", \"filled\": true}, \"encoding\": {\"x\": {\"type\": \"quantitative\", \"field\": \"iteration\"}, \"y\": {\"type\": \"quantitative\", \"field\": \"rmse\", \"scale\": {\"base\": 10, \"domain\": [0.1, 3], \"type\": \"log\"}}}}], \"data\": {\"name\": \"data-236855a160ba1a499fbafba3c14730cf\"}, \"title\": \"Root Mean Square Error\"}, {\"layer\": [{\"mark\": \"line\", \"encoding\": {\"x\": {\"type\": \"quantitative\", \"field\": \"iteration\"}, \"y\": {\"type\": \"quantitative\", \"field\": \"maximum update\", \"scale\": {\"base\": 10, \"type\": \"log\"}}}}, {\"mark\": {\"type\": \"point\", \"filled\": true}, \"encoding\": {\"x\": {\"type\": \"quantitative\", \"field\": \"iteration\"}, \"y\": {\"type\": \"quantitative\", \"field\": \"maximum update\", \"scale\": {\"base\": 10, \"type\": \"log\"}}}}], \"data\": {\"name\": \"data-eb918d8dadd9bff0d68ba5c9e40c4735\"}, \"title\": \"Maximum Relative Update\"}], \"$schema\": \"https://vega.github.io/schema/vega-lite/v4.8.1.json\", \"datasets\": {\"data-236855a160ba1a499fbafba3c14730cf\": [{\"iteration\": 0, \"rmse\": 3.016307701571904}, {\"iteration\": 1, \"rmse\": 1.71203585747534}, {\"iteration\": 2, \"rmse\": 0.9215055618928294}, {\"iteration\": 3, \"rmse\": 0.8311041832137527}, {\"iteration\": 4, \"rmse\": 0.7574578229728315}, {\"iteration\": 5, \"rmse\": 0.6847794245358222}, {\"iteration\": 6, \"rmse\": 0.6190377948959667}, {\"iteration\": 7, \"rmse\": 0.5636746894768541}, {\"iteration\": 8, \"rmse\": 0.5198272528069146}, {\"iteration\": 9, \"rmse\": 0.4865210464350053}, {\"iteration\": 10, \"rmse\": 0.46170612663284516}, {\"iteration\": 11, \"rmse\": 0.44315235421155}, {\"iteration\": 12, \"rmse\": 0.4289859940940147}, {\"iteration\": 13, \"rmse\": 0.4178506234092622}, {\"iteration\": 14, \"rmse\": 0.40883323502707936}, {\"iteration\": 15, \"rmse\": 0.4013274602734024}, {\"iteration\": 16, \"rmse\": 0.3949224957597111}, {\"iteration\": 17, \"rmse\": 0.38933272419776993}, {\"iteration\": 18, \"rmse\": 0.3843558159943087}, {\"iteration\": 19, \"rmse\": 0.37984658940576793}, {\"iteration\": 20, \"rmse\": 0.3756995609259946}, {\"iteration\": 21, \"rmse\": 0.37183702515591854}, {\"iteration\": 22, \"rmse\": 0.36820108498357196}, {\"iteration\": 23, \"rmse\": 0.3647485071319043}, {\"iteration\": 24, \"rmse\": 0.3614474539058325}, {\"iteration\": 25, \"rmse\": 0.3582753345228896}, {\"iteration\": 26, \"rmse\": 0.3552172451206251}, {\"iteration\": 27, \"rmse\": 0.35226467481299706}, {\"iteration\": 28, \"rmse\": 0.3494143124907653}, {\"iteration\": 29, \"rmse\": 0.3466668905651241}, {\"iteration\": 30, \"rmse\": 0.3440260591039771}, {\"iteration\": 31, \"rmse\": 0.34149731196212374}, {\"iteration\": 32, \"rmse\": 0.3390869975150238}, {\"iteration\": 33, \"rmse\": 0.3368014477556513}, {\"iteration\": 34, \"rmse\": 0.3346462546300874}, {\"iteration\": 35, \"rmse\": 0.3326257136685744}, {\"iteration\": 36, \"rmse\": 0.3307424437936174}, {\"iteration\": 37, \"rmse\": 0.32899718020872104}, {\"iteration\": 38, \"rmse\": 0.32738872602533253}, {\"iteration\": 39, \"rmse\": 0.3259140390967408}, {\"iteration\": 40, \"rmse\": 0.32456842431861466}, {\"iteration\": 41, \"rmse\": 0.3233457988391161}, {\"iteration\": 42, \"rmse\": 0.3222389980962158}, {\"iteration\": 43, \"rmse\": 0.3212400938361742}, {\"iteration\": 44, \"rmse\": 0.3203407004513002}, {\"iteration\": 45, \"rmse\": 0.31953225217971387}, {\"iteration\": 46, \"rmse\": 0.3188062400555807}, {\"iteration\": 47, \"rmse\": 0.31815440327698674}, {\"iteration\": 48, \"rmse\": 0.317568874401427}, {\"iteration\": 49, \"rmse\": 0.3170422812672905}, {\"iteration\": 50, \"rmse\": 0.3165678107712256}, {\"iteration\": 51, \"rmse\": 0.31613924075780325}, {\"iteration\": 52, \"rmse\": 0.3157509465371173}, {\"iteration\": 53, \"rmse\": 0.3153978882000836}, {\"iteration\": 54, \"rmse\": 0.3150755841925023}, {\"iteration\": 55, \"rmse\": 0.31478007573396805}, {\"iteration\": 56, \"rmse\": 0.314507885767991}, {\"iteration\": 57, \"rmse\": 0.31425597529448374}, {\"iteration\": 58, \"rmse\": 0.31402169921130907}, {\"iteration\": 59, \"rmse\": 0.31380276319318773}, {\"iteration\": 60, \"rmse\": 0.3135971826595103}, {\"iteration\": 61, \"rmse\": 0.31340324451280366}, {\"iteration\": 62, \"rmse\": 0.3132194720483266}, {\"iteration\": 63, \"rmse\": 0.31304459322440975}, {\"iteration\": 64, \"rmse\": 0.3128775123271217}, {\"iteration\": 65, \"rmse\": 0.3127172849490748}, {\"iteration\": 66, \"rmse\": 0.31256309612119565}, {\"iteration\": 67, \"rmse\": 0.31241424138094886}, {\"iteration\": 68, \"rmse\": 0.31227011052553494}, {\"iteration\": 69, \"rmse\": 0.31213017377989877}, {\"iteration\": 70, \"rmse\": 0.31199397010370045}, {\"iteration\": 71, \"rmse\": 0.31186109736591877}, {\"iteration\": 72, \"rmse\": 0.3117312041280413}, {\"iteration\": 73, \"rmse\": 0.311603982794682}, {\"iteration\": 74, \"rmse\": 0.3114791639120344}, {\"iteration\": 75, \"rmse\": 0.3113565114181931}, {\"iteration\": 76, \"rmse\": 0.3112358186736826}, {\"iteration\": 77, \"rmse\": 0.31111690512444623}, {\"iteration\": 78, \"rmse\": 0.31099961347225447}, {\"iteration\": 79, \"rmse\": 0.3108838072484408}, {\"iteration\": 80, \"rmse\": 0.31076936870571187}, {\"iteration\": 81, \"rmse\": 0.3106561969593524}, {\"iteration\": 82, \"rmse\": 0.3105442063234434}, {\"iteration\": 83, \"rmse\": 0.31043332479980085}, {\"iteration\": 84, \"rmse\": 0.3103234926874157}, {\"iteration\": 85, \"rmse\": 0.3102146612883904}, {\"iteration\": 86, \"rmse\": 0.3101067916929909}, {\"iteration\": 87, \"rmse\": 0.30999985363165616}, {\"iteration\": 88, \"rmse\": 0.30989382438586216}, {\"iteration\": 89, \"rmse\": 0.3097886877528197}, {\"iteration\": 90, \"rmse\": 0.3096844330612662}, {\"iteration\": 91, \"rmse\": 0.30958105423725496}, {\"iteration\": 92, \"rmse\": 0.30947854891996024}, {\"iteration\": 93, \"rmse\": 0.3093769176282474}, {\"iteration\": 94, \"rmse\": 0.30927616297914134}, {\"iteration\": 95, \"rmse\": 0.30917628895949656}, {\"iteration\": 96, \"rmse\": 0.309077300252127}, {\"iteration\": 97, \"rmse\": 0.30897920161749093}, {\"iteration\": 98, \"rmse\": 0.3088819973317445}, {\"iteration\": 99, \"rmse\": 0.3087856906816331}, {\"iteration\": 100, \"rmse\": 0.30869028351629546}, {\"iteration\": 101, \"rmse\": 0.30859577585563397}, {\"iteration\": 102, \"rmse\": 0.30850216555447024}, {\"iteration\": 103, \"rmse\": 0.30840944802128567}, {\"iteration\": 104, \"rmse\": 0.3083176159899262}, {\"iteration\": 105, \"rmse\": 0.3082266593422766}, {\"iteration\": 106, \"rmse\": 0.30813656497955016}, {\"iteration\": 107, \"rmse\": 0.30804731673953656}, {\"iteration\": 108, \"rmse\": 0.30795889535688215}, {\"iteration\": 109, \"rmse\": 0.30787127846326195}, {\"iteration\": 110, \"rmse\": 0.30778444062413435}, {\"iteration\": 111, \"rmse\": 0.3076983534086551}, {\"iteration\": 112, \"rmse\": 0.3076129854892552}, {\"iteration\": 113, \"rmse\": 0.30752830276737075}, {\"iteration\": 114, \"rmse\": 0.3074442685218324}, {\"iteration\": 115, \"rmse\": 0.3073608435764836}, {\"iteration\": 116, \"rmse\": 0.30727798648370125}, {\"iteration\": 117, \"rmse\": 0.3071956537206131}, {\"iteration\": 118, \"rmse\": 0.3071137998949707}, {\"iteration\": 119, \"rmse\": 0.30703237795780747}, {\"iteration\": 120, \"rmse\": 0.30695133942020875}, {\"iteration\": 121, \"rmse\": 0.30687063457172503}, {\"iteration\": 122, \"rmse\": 0.30679021269817364}, {\"iteration\": 123, \"rmse\": 0.3067100222967911}, {\"iteration\": 124, \"rmse\": 0.3066300112869194}, {\"iteration\": 125, \"rmse\": 0.30655012721461966}, {\"iteration\": 126, \"rmse\": 0.3064703174498231}, {\"iteration\": 127, \"rmse\": 0.3063905293748289}, {\"iteration\": 128, \"rmse\": 0.30631071056315534}, {\"iteration\": 129, \"rmse\": 0.3062308089479343}, {\"iteration\": 130, \"rmse\": 0.3061507729792097}, {\"iteration\": 131, \"rmse\": 0.30607055176966996}, {\"iteration\": 132, \"rmse\": 0.3059900952284819}, {\"iteration\": 133, \"rmse\": 0.30590935418304044}, {\"iteration\": 134, \"rmse\": 0.3058282804885665}, {\"iteration\": 135, \"rmse\": 0.30574682712559786}, {\"iteration\": 136, \"rmse\": 0.3056649482855221}, {\"iteration\": 137, \"rmse\": 0.30558259944437827}, {\"iteration\": 138, \"rmse\": 0.30549973742524406}, {\"iteration\": 139, \"rmse\": 0.3054163204495793}, {\"iteration\": 140, \"rmse\": 0.3053323081779609}, {\"iteration\": 141, \"rmse\": 0.30524766174068535}, {\"iteration\": 142, \"rmse\": 0.3051623437587567}, {\"iteration\": 143, \"rmse\": 0.3050763183558047}, {\"iteration\": 144, \"rmse\": 0.30498955116150117}, {\"iteration\": 145, \"rmse\": 0.3049020093070573}, {\"iteration\": 146, \"rmse\": 0.30481366141339344}, {\"iteration\": 147, \"rmse\": 0.30472447757257565}, {\"iteration\": 148, \"rmse\": 0.30463442932311285}, {\"iteration\": 149, \"rmse\": 0.30454348961969885}, {\"iteration\": 150, \"rmse\": 0.3044516327979776}, {\"iteration\": 151, \"rmse\": 0.30435883453489126}, {\"iteration\": 152, \"rmse\": 0.3042650718051585}, {\"iteration\": 153, \"rmse\": 0.3041703228344064}, {\"iteration\": 154, \"rmse\": 0.30407456704946206}, {\"iteration\": 155, \"rmse\": 0.3039777850262862}, {\"iteration\": 156, \"rmse\": 0.30387995843600346}, {\"iteration\": 157, \"rmse\": 0.3037810699894645}, {\"iteration\": 158, \"rmse\": 0.30368110338074383}, {\"iteration\": 159, \"rmse\": 0.30358004322995547}, {\"iteration\": 160, \"rmse\": 0.303477875025739}, {\"iteration\": 161, \"rmse\": 0.3033745850677462}, {\"iteration\": 162, \"rmse\": 0.30327016040942995}, {\"iteration\": 163, \"rmse\": 0.30316458880141123}, {\"iteration\": 164, \"rmse\": 0.30305785863568246}, {\"iteration\": 165, \"rmse\": 0.30294995889087256}, {\"iteration\": 166, \"rmse\": 0.3028408790787826}, {\"iteration\": 167, \"rmse\": 0.30273060919238026}, {\"iteration\": 168, \"rmse\": 0.302619139655416}, {\"iteration\": 169, \"rmse\": 0.3025064612738086}, {\"iteration\": 170, \"rmse\": 0.30239256518893126}, {\"iteration\": 171, \"rmse\": 0.30227744283290475}, {\"iteration\": 172, \"rmse\": 0.3021610858860002}, {\"iteration\": 173, \"rmse\": 0.3020434862362303}, {\"iteration\": 174, \"rmse\": 0.3019246359411976}, {\"iteration\": 175, \"rmse\": 0.3018045271922604}, {\"iteration\": 176, \"rmse\": 0.3016831522810605}, {\"iteration\": 177, \"rmse\": 0.3015605035684497}, {\"iteration\": 178, \"rmse\": 0.3014365734558448}, {\"iteration\": 179, \"rmse\": 0.301311354359032}, {\"iteration\": 180, \"rmse\": 0.3011848386844356}, {\"iteration\": 181, \"rmse\": 0.3010570188078581}, {\"iteration\": 182, \"rmse\": 0.3009278870556996}, {\"iteration\": 183, \"rmse\": 0.30079743568865247}, {\"iteration\": 184, \"rmse\": 0.30066565688787317}, {\"iteration\": 185, \"rmse\": 0.3005325427436228}, {\"iteration\": 186, \"rmse\": 0.30039808524636963}, {\"iteration\": 187, \"rmse\": 0.30026227628034713}, {\"iteration\": 188, \"rmse\": 0.3001251076195559}, {\"iteration\": 189, \"rmse\": 0.29998657092620007}, {\"iteration\": 190, \"rmse\": 0.2998466577515512}, {\"iteration\": 191, \"rmse\": 0.29970535953922545}, {\"iteration\": 192, \"rmse\": 0.299562667630869}, {\"iteration\": 193, \"rmse\": 0.29941857327424126}, {\"iteration\": 194, \"rmse\": 0.29927306763368866}, {\"iteration\": 195, \"rmse\": 0.2991261418030016}, {\"iteration\": 196, \"rmse\": 0.29897778682065124}, {\"iteration\": 197, \"rmse\": 0.2988279936873962}, {\"iteration\": 198, \"rmse\": 0.29867675338625915}, {\"iteration\": 199, \"rmse\": 0.29852405690486705}, {\"iteration\": 200, \"rmse\": 0.2983698952601509}, {\"iteration\": 201, \"rmse\": 0.29821425952540376}, {\"iteration\": 202, \"rmse\": 0.29805714085968854}, {\"iteration\": 203, \"rmse\": 0.29789853053959575}, {\"iteration\": 204, \"rmse\": 0.2977384199933414}, {\"iteration\": 205, \"rmse\": 0.2975768008371993}, {\"iteration\": 206, \"rmse\": 0.29741366491425547}, {\"iteration\": 207, \"rmse\": 0.2972490043354776}, {\"iteration\": 208, \"rmse\": 0.29708281152307375}, {\"iteration\": 209, \"rmse\": 0.29691507925613014}, {\"iteration\": 210, \"rmse\": 0.29674580071849443}, {\"iteration\": 211, \"rmse\": 0.2965749695488784}, {\"iteration\": 212, \"rmse\": 0.29640257989313906}, {\"iteration\": 213, \"rmse\": 0.2962286264586947}, {\"iteration\": 214, \"rmse\": 0.29605310457102035}, {\"iteration\": 215, \"rmse\": 0.29587601023216126}, {\"iteration\": 216, \"rmse\": 0.2956973401811884}, {\"iteration\": 217, \"rmse\": 0.295517091956513}, {\"iteration\": 218, \"rmse\": 0.2953352639599601}, {\"iteration\": 219, \"rmse\": 0.29515185552249273}, {\"iteration\": 220, \"rmse\": 0.2949668669714579}, {\"iteration\": 221, \"rmse\": 0.2947802996992149}, {\"iteration\": 222, \"rmse\": 0.2945921562329873}, {\"iteration\": 223, \"rmse\": 0.2944024403057635}, {\"iteration\": 224, \"rmse\": 0.2942111569280505}, {\"iteration\": 225, \"rmse\": 0.29401831246026866}, {\"iteration\": 226, \"rmse\": 0.2938239146855544}, {\"iteration\": 227, \"rmse\": 0.2936279728827149}, {\"iteration\": 228, \"rmse\": 0.29343049789906106}, {\"iteration\": 229, \"rmse\": 0.2932315022228216}, {\"iteration\": 230, \"rmse\": 0.29303100005481814}, {\"iteration\": 231, \"rmse\": 0.2928290073790645}, {\"iteration\": 232, \"rmse\": 0.29262554203192415}, {\"iteration\": 233, \"rmse\": 0.29242062376944633}, {\"iteration\": 234, \"rmse\": 0.2922142743324769}, {\"iteration\": 235, \"rmse\": 0.29200651750912227}, {\"iteration\": 236, \"rmse\": 0.2917973791941266}, {\"iteration\": 237, \"rmse\": 0.2915868874447075}, {\"iteration\": 238, \"rmse\": 0.2913750725323793}, {\"iteration\": 239, \"rmse\": 0.29116196699028657}, {\"iteration\": 240, \"rmse\": 0.29094760565555317}, {\"iteration\": 241, \"rmse\": 0.29073202570615864}, {\"iteration\": 242, \"rmse\": 0.290515266691841}, {\"iteration\": 243, \"rmse\": 0.29029737055853416}, {\"iteration\": 244, \"rmse\": 0.29007838166585187}, {\"iteration\": 245, \"rmse\": 0.2898583467971433}, {\"iteration\": 246, \"rmse\": 0.2896373151616603}, {\"iteration\": 247, \"rmse\": 0.289415338388398}, {\"iteration\": 248, \"rmse\": 0.2891924705111998}, {\"iteration\": 249, \"rmse\": 0.28896876794474796}, {\"iteration\": 250, \"rmse\": 0.2887442894511015}, {\"iteration\": 251, \"rmse\": 0.2885190960964864}, {\"iteration\": 252, \"rmse\": 0.28829325119809596}, {\"iteration\": 253, \"rmse\": 0.28806682026071134}, {\"iteration\": 254, \"rmse\": 0.28783987090301527}, {\"iteration\": 255, \"rmse\": 0.28761247277354157}, {\"iteration\": 256, \"rmse\": 0.2873846974562672}, {\"iteration\": 257, \"rmse\": 0.28715661836593487}, {\"iteration\": 258, \"rmse\": 0.2869283106332688}, {\"iteration\": 259, \"rmse\": 0.286699850980328}, {\"iteration\": 260, \"rmse\": 0.2864713175863269}, {\"iteration\": 261, \"rmse\": 0.2862427899443294}, {\"iteration\": 262, \"rmse\": 0.286014348709317}, {\"iteration\": 263, \"rmse\": 0.28578607553820035}, {\"iteration\": 264, \"rmse\": 0.2855580529224353}, {\"iteration\": 265, \"rmse\": 0.2853303640139744}, {\"iteration\": 266, \"rmse\": 0.2851030924453561}, {\"iteration\": 267, \"rmse\": 0.28487632214480246}, {\"iteration\": 268, \"rmse\": 0.2846501371472555}, {\"iteration\": 269, \"rmse\": 0.28442462140232994}, {\"iteration\": 270, \"rmse\": 0.28419985858020586}, {\"iteration\": 271, \"rmse\": 0.2839759318765201}, {\"iteration\": 272, \"rmse\": 0.2837529238173297}, {\"iteration\": 273, \"rmse\": 0.2835309160652444}, {\"iteration\": 274, \"rmse\": 0.28330998922781636}, {\"iteration\": 275, \"rmse\": 0.28309022266927414}, {\"iteration\": 276, \"rmse\": 0.28287169432665693}, {\"iteration\": 277, \"rmse\": 0.28265448053138414}, {\"iteration\": 278, \"rmse\": 0.28243865583724376}, {\"iteration\": 279, \"rmse\": 0.28222429285573475}, {\"iteration\": 280, \"rmse\": 0.282011462099634}, {\"iteration\": 281, \"rmse\": 0.2818002318355914}, {\"iteration\": 282, \"rmse\": 0.2815906679464732}, {\"iteration\": 283, \"rmse\": 0.28138283380409523}, {\"iteration\": 284, \"rmse\": 0.28117679015288977}, {\"iteration\": 285, \"rmse\": 0.28097259500496924}, {\"iteration\": 286, \"rmse\": 0.2807703035469369}, {\"iteration\": 287, \"rmse\": 0.28056996805871326}, {\"iteration\": 288, \"rmse\": 0.2803716378445382}, {\"iteration\": 289, \"rmse\": 0.28017535917621944}, {\"iteration\": 290, \"rmse\": 0.279981175248602}, {\"iteration\": 291, \"rmse\": 0.2797891261471417}, {\"iteration\": 292, \"rmse\": 0.27959924882738507}, {\"iteration\": 293, \"rmse\": 0.27941157710607306}, {\"iteration\": 294, \"rmse\": 0.27922614166351784}, {\"iteration\": 295, \"rmse\": 0.2790429700568284}, {\"iteration\": 296, \"rmse\": 0.2788620867435108}, {\"iteration\": 297, \"rmse\": 0.2786835131149075}, {\"iteration\": 298, \"rmse\": 0.2785072675389037}, {\"iteration\": 299, \"rmse\": 0.27833336541128884}], \"data-eb918d8dadd9bff0d68ba5c9e40c4735\": [{\"iteration\": 0, \"maximum update\": 1.0}, {\"iteration\": 1, \"maximum update\": 1.0}, {\"iteration\": 2, \"maximum update\": 4.739573939204166}, {\"iteration\": 3, \"maximum update\": 23.32072670448841}, {\"iteration\": 4, \"maximum update\": 6.191960631254979}, {\"iteration\": 5, \"maximum update\": 3.446138062027125}, {\"iteration\": 6, \"maximum update\": 1.881729593337347}, {\"iteration\": 7, \"maximum update\": 3.8267924002911053}, {\"iteration\": 8, \"maximum update\": 2.334635034599884}, {\"iteration\": 9, \"maximum update\": 29.866584849213293}, {\"iteration\": 10, \"maximum update\": 1.8758337586175469}, {\"iteration\": 11, \"maximum update\": 3.408228791352728}, {\"iteration\": 12, \"maximum update\": 0.7483809115218513}, {\"iteration\": 13, \"maximum update\": 0.584144430246616}, {\"iteration\": 14, \"maximum update\": 1.1733194113166034}, {\"iteration\": 15, \"maximum update\": 14.80328534005156}, {\"iteration\": 16, \"maximum update\": 0.930686192861951}, {\"iteration\": 17, \"maximum update\": 0.456453789655323}, {\"iteration\": 18, \"maximum update\": 0.43414684880876375}, {\"iteration\": 19, \"maximum update\": 0.8419314090396692}, {\"iteration\": 20, \"maximum update\": 7.326565809085343}, {\"iteration\": 21, \"maximum update\": 1.1522860237551387}, {\"iteration\": 22, \"maximum update\": 0.641244378720573}, {\"iteration\": 23, \"maximum update\": 1.2170099950396007}, {\"iteration\": 24, \"maximum update\": 66.2645778621096}, {\"iteration\": 25, \"maximum update\": 57.7096346949258}, {\"iteration\": 26, \"maximum update\": 0.9809255848472311}, {\"iteration\": 27, \"maximum update\": 0.47607428553352993}, {\"iteration\": 28, \"maximum update\": 0.31460080168875887}, {\"iteration\": 29, \"maximum update\": 0.2389512965781807}, {\"iteration\": 30, \"maximum update\": 0.1964719639058527}, {\"iteration\": 31, \"maximum update\": 0.1898258041262902}, {\"iteration\": 32, \"maximum update\": 0.23081494514316137}, {\"iteration\": 33, \"maximum update\": 0.29418921785980423}, {\"iteration\": 34, \"maximum update\": 0.40624311602906527}, {\"iteration\": 35, \"maximum update\": 0.6606203647105483}, {\"iteration\": 36, \"maximum update\": 1.8185122150345312}, {\"iteration\": 37, \"maximum update\": 49.70606087975782}, {\"iteration\": 38, \"maximum update\": 1.0286714747613614}, {\"iteration\": 39, \"maximum update\": 0.5203529239050807}, {\"iteration\": 40, \"maximum update\": 1.2180272672729013}, {\"iteration\": 41, \"maximum update\": 4.648195837031694}, {\"iteration\": 42, \"maximum update\": 0.8280043630865889}, {\"iteration\": 43, \"maximum update\": 0.4594918094580745}, {\"iteration\": 44, \"maximum update\": 0.31886605971891474}, {\"iteration\": 45, \"maximum update\": 0.24394082754935964}, {\"iteration\": 46, \"maximum update\": 0.19699276253971879}, {\"iteration\": 47, \"maximum update\": 0.16458038300559627}, {\"iteration\": 48, \"maximum update\": 0.14071030682899685}, {\"iteration\": 49, \"maximum update\": 0.13345217276444946}, {\"iteration\": 50, \"maximum update\": 0.14857584189116377}, {\"iteration\": 51, \"maximum update\": 0.16889806202752866}, {\"iteration\": 52, \"maximum update\": 0.19716939985935317}, {\"iteration\": 53, \"maximum update\": 0.23863694469939997}, {\"iteration\": 54, \"maximum update\": 0.3046837277329328}, {\"iteration\": 55, \"maximum update\": 0.42544361298405486}, {\"iteration\": 56, \"maximum update\": 0.7152605244130656}, {\"iteration\": 57, \"maximum update\": 2.3468246960248225}, {\"iteration\": 58, \"maximum update\": 1.7689286243132236}, {\"iteration\": 59, \"maximum update\": 0.6341600191966925}, {\"iteration\": 60, \"maximum update\": 0.3831369362493744}, {\"iteration\": 61, \"maximum update\": 0.27272368570616545}, {\"iteration\": 62, \"maximum update\": 0.21055552413289738}, {\"iteration\": 63, \"maximum update\": 0.17062919366696866}, {\"iteration\": 64, \"maximum update\": 0.14278160342569293}, {\"iteration\": 65, \"maximum update\": 0.12222368947389464}, {\"iteration\": 66, \"maximum update\": 0.10640377243478687}, {\"iteration\": 67, \"maximum update\": 0.09383798158384993}, {\"iteration\": 68, \"maximum update\": 0.08360477240994527}, {\"iteration\": 69, \"maximum update\": 0.07510166988267274}, {\"iteration\": 70, \"maximum update\": 0.06791817824095188}, {\"iteration\": 71, \"maximum update\": 0.061764919673765704}, {\"iteration\": 72, \"maximum update\": 0.06378865209810908}, {\"iteration\": 73, \"maximum update\": 0.06682552728411402}, {\"iteration\": 74, \"maximum update\": 0.07021717440156704}, {\"iteration\": 75, \"maximum update\": 0.07403282810691267}, {\"iteration\": 76, \"maximum update\": 0.07836019986333219}, {\"iteration\": 77, \"maximum update\": 0.08331220444714968}, {\"iteration\": 78, \"maximum update\": 0.08903684278379027}, {\"iteration\": 79, \"maximum update\": 0.09573211646190596}, {\"iteration\": 80, \"maximum update\": 0.1036692406765273}, {\"iteration\": 81, \"maximum update\": 0.1148135172088137}, {\"iteration\": 82, \"maximum update\": 0.12892599989110112}, {\"iteration\": 83, \"maximum update\": 0.1470394850946697}, {\"iteration\": 84, \"maximum update\": 0.17115598263038323}, {\"iteration\": 85, \"maximum update\": 0.20488206537721926}, {\"iteration\": 86, \"maximum update\": 0.25543882663621426}, {\"iteration\": 87, \"maximum update\": 0.33970316024995856}, {\"iteration\": 88, \"maximum update\": 0.5084501131742745}, {\"iteration\": 89, \"maximum update\": 1.0172942428111376}, {\"iteration\": 90, \"maximum update\": 118.36646218849762}, {\"iteration\": 91, \"maximum update\": 4.623994884845852}, {\"iteration\": 92, \"maximum update\": 0.8193124217912021}, {\"iteration\": 93, \"maximum update\": 0.44548976297722764}, {\"iteration\": 94, \"maximum update\": 0.3040121569648099}, {\"iteration\": 95, \"maximum update\": 0.2296236347576594}, {\"iteration\": 96, \"maximum update\": 0.18375151663155884}, {\"iteration\": 97, \"maximum update\": 0.1526370015362257}, {\"iteration\": 98, \"maximum update\": 0.13014610811035618}, {\"iteration\": 99, \"maximum update\": 0.11313054046514766}, {\"iteration\": 100, \"maximum update\": 0.09980819185120317}, {\"iteration\": 101, \"maximum update\": 0.0890946212042164}, {\"iteration\": 102, \"maximum update\": 0.08029209431444347}, {\"iteration\": 103, \"maximum update\": 0.08112536818819532}, {\"iteration\": 104, \"maximum update\": 0.08684317203147807}, {\"iteration\": 105, \"maximum update\": 0.09352233212762556}, {\"iteration\": 106, \"maximum update\": 0.10142963411438582}, {\"iteration\": 107, \"maximum update\": 0.11094050500937701}, {\"iteration\": 108, \"maximum update\": 0.1226005837323262}, {\"iteration\": 109, \"maximum update\": 0.13723451511459384}, {\"iteration\": 110, \"maximum update\": 0.15615041763894255}, {\"iteration\": 111, \"maximum update\": 0.1815550417058406}, {\"iteration\": 112, \"maximum update\": 0.2174854247327332}, {\"iteration\": 113, \"maximum update\": 0.2722028170049233}, {\"iteration\": 114, \"maximum update\": 0.36567506374408476}, {\"iteration\": 115, \"maximum update\": 0.5616886637395951}, {\"iteration\": 116, \"maximum update\": 1.2341354170555283}, {\"iteration\": 117, \"maximum update\": 5.681766354787128}, {\"iteration\": 118, \"maximum update\": 0.8481769431911411}, {\"iteration\": 119, \"maximum update\": 1.6135088888171738}, {\"iteration\": 120, \"maximum update\": 2.6578802203311174}, {\"iteration\": 121, \"maximum update\": 0.7253302818884906}, {\"iteration\": 122, \"maximum update\": 0.41881400415133363}, {\"iteration\": 123, \"maximum update\": 0.29382371450779604}, {\"iteration\": 124, \"maximum update\": 0.22594183833858136}, {\"iteration\": 125, \"maximum update\": 0.18330615949067525}, {\"iteration\": 126, \"maximum update\": 0.154040118291603}, {\"iteration\": 127, \"maximum update\": 0.13270688598862673}, {\"iteration\": 128, \"maximum update\": 0.1164656697696782}, {\"iteration\": 129, \"maximum update\": 0.10368745885179231}, {\"iteration\": 130, \"maximum update\": 0.09337114897623978}, {\"iteration\": 131, \"maximum update\": 0.0848675911566408}, {\"iteration\": 132, \"maximum update\": 0.07773741336663782}, {\"iteration\": 133, \"maximum update\": 0.07167261358059875}, {\"iteration\": 134, \"maximum update\": 0.06645087457815915}, {\"iteration\": 135, \"maximum update\": 0.06848056123714544}, {\"iteration\": 136, \"maximum update\": 0.07239109517188518}, {\"iteration\": 137, \"maximum update\": 0.0768197275513764}, {\"iteration\": 138, \"maximum update\": 0.081880345370429}, {\"iteration\": 139, \"maximum update\": 0.08772259621264814}, {\"iteration\": 140, \"maximum update\": 0.09454713337884471}, {\"iteration\": 141, \"maximum update\": 0.10262938688050086}, {\"iteration\": 142, \"maximum update\": 0.11235799474896693}, {\"iteration\": 143, \"maximum update\": 0.12429965137381398}, {\"iteration\": 144, \"maximum update\": 0.13931429883622792}, {\"iteration\": 145, \"maximum update\": 0.15877303324482867}, {\"iteration\": 146, \"maximum update\": 0.18500423312271733}, {\"iteration\": 147, \"maximum update\": 0.22230574481759174}, {\"iteration\": 148, \"maximum update\": 0.27958577200500145}, {\"iteration\": 149, \"maximum update\": 0.37881046914715866}, {\"iteration\": 150, \"maximum update\": 0.5927698732600489}, {\"iteration\": 151, \"maximum update\": 1.3937595929697322}, {\"iteration\": 152, \"maximum update\": 3.711951245372603}, {\"iteration\": 153, \"maximum update\": 0.7846951591626881}, {\"iteration\": 154, \"maximum update\": 0.4351236429656605}, {\"iteration\": 155, \"maximum update\": 0.29925687182903804}, {\"iteration\": 156, \"maximum update\": 0.22699412690042053}, {\"iteration\": 157, \"maximum update\": 0.18213717129198131}, {\"iteration\": 158, \"maximum update\": 0.15157629833716046}, {\"iteration\": 159, \"maximum update\": 0.12941363299987368}, {\"iteration\": 160, \"maximum update\": 0.11260352851948009}, {\"iteration\": 161, \"maximum update\": 0.09941434771607659}, {\"iteration\": 162, \"maximum update\": 0.08878880652250379}, {\"iteration\": 163, \"maximum update\": 0.08004482594927965}, {\"iteration\": 164, \"maximum update\": 0.07272265237954924}, {\"iteration\": 165, \"maximum update\": 0.06650109579754813}, {\"iteration\": 166, \"maximum update\": 0.06114898371674133}, {\"iteration\": 167, \"maximum update\": 0.05649568866512007}, {\"iteration\": 168, \"maximum update\": 0.052412523631092}, {\"iteration\": 169, \"maximum update\": 0.048800600697224646}, {\"iteration\": 170, \"maximum update\": 0.045582676707874414}, {\"iteration\": 171, \"maximum update\": 0.04269753773576978}, {\"iteration\": 172, \"maximum update\": 0.04009604565651519}, {\"iteration\": 173, \"maximum update\": 0.03773829985944324}, {\"iteration\": 174, \"maximum update\": 0.035591563600072706}, {\"iteration\": 175, \"maximum update\": 0.035871983764984745}, {\"iteration\": 176, \"maximum update\": 0.037164382381705226}, {\"iteration\": 177, \"maximum update\": 0.038548762698541156}, {\"iteration\": 178, \"maximum update\": 0.040035867137919456}, {\"iteration\": 179, \"maximum update\": 0.041638165799214824}, {\"iteration\": 180, \"maximum update\": 0.043370218295601254}, {\"iteration\": 181, \"maximum update\": 0.04524913049619206}, {\"iteration\": 182, \"maximum update\": 0.047295136543445776}, {\"iteration\": 183, \"maximum update\": 0.04953234815454906}, {\"iteration\": 184, \"maximum update\": 0.0519897301248462}, {\"iteration\": 185, \"maximum update\": 0.0547023859231541}, {\"iteration\": 186, \"maximum update\": 0.05771327481438075}, {\"iteration\": 187, \"maximum update\": 0.061075539514156854}, {\"iteration\": 188, \"maximum update\": 0.0648557135880211}, {\"iteration\": 189, \"maximum update\": 0.06913822259480563}, {\"iteration\": 190, \"maximum update\": 0.07403183167791978}, {\"iteration\": 191, \"maximum update\": 0.07967909787396574}, {\"iteration\": 192, \"maximum update\": 0.08627059835229217}, {\"iteration\": 193, \"maximum update\": 0.0940670087703333}, {\"iteration\": 194, \"maximum update\": 0.1034345964280693}, {\"iteration\": 195, \"maximum update\": 0.11490470900198935}, {\"iteration\": 196, \"maximum update\": 0.12927858847529208}, {\"iteration\": 197, \"maximum update\": 0.1478236600823404}, {\"iteration\": 198, \"maximum update\": 0.1726702892303757}, {\"iteration\": 199, \"maximum update\": 0.2076968624893859}, {\"iteration\": 200, \"maximum update\": 0.2607853443253623}, {\"iteration\": 201, \"maximum update\": 0.3507842112142669}, {\"iteration\": 202, \"maximum update\": 0.5367537079864587}, {\"iteration\": 203, \"maximum update\": 1.1477680014551215}, {\"iteration\": 204, \"maximum update\": 8.010861747303172}, {\"iteration\": 205, \"maximum update\": 0.888571494730413}, {\"iteration\": 206, \"maximum update\": 0.4693412614638768}, {\"iteration\": 207, \"maximum update\": 0.31839579892986386}, {\"iteration\": 208, \"maximum update\": 0.24062314908705673}, {\"iteration\": 209, \"maximum update\": 0.19319152413269566}, {\"iteration\": 210, \"maximum update\": 0.16124055681878416}, {\"iteration\": 211, \"maximum update\": 0.1382524495654916}, {\"iteration\": 212, \"maximum update\": 0.1209181349197284}, {\"iteration\": 213, \"maximum update\": 0.10737908227827611}, {\"iteration\": 214, \"maximum update\": 0.09651098883982764}, {\"iteration\": 215, \"maximum update\": 0.08759379180787562}, {\"iteration\": 216, \"maximum update\": 0.0801449724635115}, {\"iteration\": 217, \"maximum update\": 0.0738290636317694}, {\"iteration\": 218, \"maximum update\": 0.0684055962378608}, {\"iteration\": 219, \"maximum update\": 0.06369769505358627}, {\"iteration\": 220, \"maximum update\": 0.05957235968804371}, {\"iteration\": 221, \"maximum update\": 0.05592765439436689}, {\"iteration\": 222, \"maximum update\": 0.05268413847155336}, {\"iteration\": 223, \"maximum update\": 0.04977898515467475}, {\"iteration\": 224, \"maximum update\": 0.047161853870608415}, {\"iteration\": 225, \"maximum update\": 0.04479193486471194}, {\"iteration\": 226, \"maximum update\": 0.04263579528013022}, {\"iteration\": 227, \"maximum update\": 0.04066578408873125}, {\"iteration\": 228, \"maximum update\": 0.04201743507504257}, {\"iteration\": 229, \"maximum update\": 0.04429744329101879}, {\"iteration\": 230, \"maximum update\": 0.046804887421921404}, {\"iteration\": 231, \"maximum update\": 0.04957593807336565}, {\"iteration\": 232, \"maximum update\": 0.05265493106021221}, {\"iteration\": 233, \"maximum update\": 0.05609681151905028}, {\"iteration\": 234, \"maximum update\": 0.05997051182682243}, {\"iteration\": 235, \"maximum update\": 0.06436370784309484}, {\"iteration\": 236, \"maximum update\": 0.06938965746837295}, {\"iteration\": 237, \"maximum update\": 0.07519726879143704}, {\"iteration\": 238, \"maximum update\": 0.0819863292145926}, {\"iteration\": 239, \"maximum update\": 0.09003127028257686}, {\"iteration\": 240, \"maximum update\": 0.09971962474828103}, {\"iteration\": 241, \"maximum update\": 0.11161699025128258}, {\"iteration\": 242, \"maximum update\": 0.1265825804891628}, {\"iteration\": 243, \"maximum update\": 0.14598817605172001}, {\"iteration\": 244, \"maximum update\": 0.17216734278355317}, {\"iteration\": 245, \"maximum update\": 0.20943749540449255}, {\"iteration\": 246, \"maximum update\": 0.2667770671968127}, {\"iteration\": 247, \"maximum update\": 0.3664406643034461}, {\"iteration\": 248, \"maximum update\": 0.5828891710700053}, {\"iteration\": 249, \"maximum update\": 1.4129789064301248}, {\"iteration\": 250, \"maximum update\": 3.3864348955308223}, {\"iteration\": 251, \"maximum update\": 0.7727190021163685}, {\"iteration\": 252, \"maximum update\": 0.43678449667988467}, {\"iteration\": 253, \"maximum update\": 0.30469529717948063}, {\"iteration\": 254, \"maximum update\": 0.23406252978166525}, {\"iteration\": 255, \"maximum update\": 0.19006477534821753}, {\"iteration\": 256, \"maximum update\": 0.16000750705091105}, {\"iteration\": 257, \"maximum update\": 0.1381570306760425}, {\"iteration\": 258, \"maximum update\": 0.1215446217103237}, {\"iteration\": 259, \"maximum update\": 0.10847916473686534}, {\"iteration\": 260, \"maximum update\": 0.09792664818522542}, {\"iteration\": 261, \"maximum update\": 0.0892192804917872}, {\"iteration\": 262, \"maximum update\": 0.08988490245580011}, {\"iteration\": 263, \"maximum update\": 0.09897322752569575}, {\"iteration\": 264, \"maximum update\": 0.11005331506432955}, {\"iteration\": 265, \"maximum update\": 0.1238661466993412}, {\"iteration\": 266, \"maximum update\": 0.14157294673884138}, {\"iteration\": 267, \"maximum update\": 0.16510230877865836}, {\"iteration\": 268, \"maximum update\": 0.19790949003098823}, {\"iteration\": 269, \"maximum update\": 0.24685970247003783}, {\"iteration\": 270, \"maximum update\": 0.32781237573054445}, {\"iteration\": 271, \"maximum update\": 0.48752426074817967}, {\"iteration\": 272, \"maximum update\": 0.9503347798414425}, {\"iteration\": 273, \"maximum update\": 18.81339860031669}, {\"iteration\": 274, \"maximum update\": 1.0562074405747208}, {\"iteration\": 275, \"maximum update\": 0.5132885272268017}, {\"iteration\": 276, \"maximum update\": 0.3387692933832617}, {\"iteration\": 277, \"maximum update\": 0.252625262331669}, {\"iteration\": 278, \"maximum update\": 0.2012600304052273}, {\"iteration\": 279, \"maximum update\": 0.1671277112048362}, {\"iteration\": 280, \"maximum update\": 0.14278542611810574}, {\"iteration\": 281, \"maximum update\": 0.12453666617854675}, {\"iteration\": 282, \"maximum update\": 0.11033760369530149}, {\"iteration\": 283, \"maximum update\": 0.09896633361427458}, {\"iteration\": 284, \"maximum update\": 0.08964745747345203}, {\"iteration\": 285, \"maximum update\": 0.08186521099361523}, {\"iteration\": 286, \"maximum update\": 0.07526319476718317}, {\"iteration\": 287, \"maximum update\": 0.0695872413725146}, {\"iteration\": 288, \"maximum update\": 0.06465121695586447}, {\"iteration\": 289, \"maximum update\": 0.06031568998678785}, {\"iteration\": 290, \"maximum update\": 0.056474152311774044}, {\"iteration\": 291, \"maximum update\": 0.05304384679728683}, {\"iteration\": 292, \"maximum update\": 0.049959499632611475}, {\"iteration\": 293, \"maximum update\": 0.04716893795027284}, {\"iteration\": 294, \"maximum update\": 0.04462996272803146}, {\"iteration\": 295, \"maximum update\": 0.04230807659573812}, {\"iteration\": 296, \"maximum update\": 0.04017480575427983}, {\"iteration\": 297, \"maximum update\": 0.03820644233781751}, {\"iteration\": 298, \"maximum update\": 0.03638308924314247}, {\"iteration\": 299, \"maximum update\": 0.034687925824387345}]}}, {\"mode\": \"vega-lite\"});\n",
       "</script>"
      ],
      "text/plain": [
       "alt.HConcatChart(...)"
      ]
     },
     "execution_count": 7,
     "metadata": {},
     "output_type": "execute_result"
    }
   ],
   "source": [
    "f_rmse = alt.Chart(error).encode(x='iteration:Q', y=alt.Y('rmse:Q', scale=alt.Scale(type='log', base=10, domain=[0.1, 3])))\n",
    "f_update = alt.Chart(update).encode(x='iteration:Q', y=alt.Y('maximum update:Q', scale=alt.Scale(type='log', base=10)))\n",
    "\n",
    "alt.hconcat(\n",
    "    alt.layer(f_rmse.mark_line(), f_rmse.mark_point(filled=True), title='Root Mean Square Error'),\n",
    "    alt.layer(f_update.mark_line(), f_update.mark_point(filled=True), title='Maximum Relative Update')\n",
    ")"
   ]
  },
  {
   "cell_type": "markdown",
   "metadata": {
    "slideshow": {
     "slide_type": "subslide"
    }
   },
   "source": [
    "# Visualize Results"
   ]
  },
  {
   "cell_type": "markdown",
   "metadata": {
    "slideshow": {
     "slide_type": "-"
    }
   },
   "source": [
    "## Ratings\n",
    "\n",
    "Comparison Data Frame:\n",
    "* `observed`: observed ratings , $R$\n",
    "* `fit`: calculated ratings $\\hat r_{mi}$  if $r_{mi}$ is observed\n",
    "* `fit/prediction`: $\\hat R = VU^T$\n",
    "* `deviation`: $(\\hat r_{mi} - r_{mi})\\cdot I_{mi}$, where $I_{mi}$ indicates if user $i$ rated movie $m$"
   ]
  },
  {
   "cell_type": "code",
   "execution_count": 8,
   "metadata": {
    "slideshow": {
     "slide_type": "subslide"
    }
   },
   "outputs": [
    {
     "data": {
      "text/html": [
       "<div>\n",
       "<style scoped>\n",
       "    .dataframe tbody tr th:only-of-type {\n",
       "        vertical-align: middle;\n",
       "    }\n",
       "\n",
       "    .dataframe tbody tr th {\n",
       "        vertical-align: top;\n",
       "    }\n",
       "\n",
       "    .dataframe thead th {\n",
       "        text-align: right;\n",
       "    }\n",
       "</style>\n",
       "<table border=\"1\" class=\"dataframe\">\n",
       "  <thead>\n",
       "    <tr style=\"text-align: right;\">\n",
       "      <th></th>\n",
       "      <th>movie id</th>\n",
       "      <th>movie title</th>\n",
       "      <th>user id</th>\n",
       "      <th>deviation</th>\n",
       "      <th>fit</th>\n",
       "      <th>fit/prediction</th>\n",
       "      <th>observed</th>\n",
       "    </tr>\n",
       "  </thead>\n",
       "  <tbody>\n",
       "    <tr>\n",
       "      <th>0</th>\n",
       "      <td>132</td>\n",
       "      <td>Wizard of Oz, The (1939)</td>\n",
       "      <td>1</td>\n",
       "      <td>0.108267</td>\n",
       "      <td>4.108267</td>\n",
       "      <td>4.108267</td>\n",
       "      <td>4.0</td>\n",
       "    </tr>\n",
       "    <tr>\n",
       "      <th>1</th>\n",
       "      <td>132</td>\n",
       "      <td>Wizard of Oz, The (1939)</td>\n",
       "      <td>85</td>\n",
       "      <td>0.507715</td>\n",
       "      <td>5.507715</td>\n",
       "      <td>5.507715</td>\n",
       "      <td>5.0</td>\n",
       "    </tr>\n",
       "    <tr>\n",
       "      <th>2</th>\n",
       "      <td>132</td>\n",
       "      <td>Wizard of Oz, The (1939)</td>\n",
       "      <td>178</td>\n",
       "      <td>NaN</td>\n",
       "      <td>NaN</td>\n",
       "      <td>1.228071</td>\n",
       "      <td>NaN</td>\n",
       "    </tr>\n",
       "    <tr>\n",
       "      <th>3</th>\n",
       "      <td>132</td>\n",
       "      <td>Wizard of Oz, The (1939)</td>\n",
       "      <td>269</td>\n",
       "      <td>0.443834</td>\n",
       "      <td>5.443834</td>\n",
       "      <td>5.443834</td>\n",
       "      <td>5.0</td>\n",
       "    </tr>\n",
       "    <tr>\n",
       "      <th>4</th>\n",
       "      <td>132</td>\n",
       "      <td>Wizard of Oz, The (1939)</td>\n",
       "      <td>271</td>\n",
       "      <td>-0.382464</td>\n",
       "      <td>4.617536</td>\n",
       "      <td>4.617536</td>\n",
       "      <td>5.0</td>\n",
       "    </tr>\n",
       "    <tr>\n",
       "      <th>...</th>\n",
       "      <td>...</td>\n",
       "      <td>...</td>\n",
       "      <td>...</td>\n",
       "      <td>...</td>\n",
       "      <td>...</td>\n",
       "      <td>...</td>\n",
       "      <td>...</td>\n",
       "    </tr>\n",
       "    <tr>\n",
       "      <th>235</th>\n",
       "      <td>111</td>\n",
       "      <td>Truth About Cats &amp; Dogs, The (1996)</td>\n",
       "      <td>389</td>\n",
       "      <td>-0.000053</td>\n",
       "      <td>2.999947</td>\n",
       "      <td>2.999947</td>\n",
       "      <td>3.0</td>\n",
       "    </tr>\n",
       "    <tr>\n",
       "      <th>236</th>\n",
       "      <td>111</td>\n",
       "      <td>Truth About Cats &amp; Dogs, The (1996)</td>\n",
       "      <td>650</td>\n",
       "      <td>NaN</td>\n",
       "      <td>NaN</td>\n",
       "      <td>5.022816</td>\n",
       "      <td>NaN</td>\n",
       "    </tr>\n",
       "    <tr>\n",
       "      <th>237</th>\n",
       "      <td>111</td>\n",
       "      <td>Truth About Cats &amp; Dogs, The (1996)</td>\n",
       "      <td>716</td>\n",
       "      <td>-0.000063</td>\n",
       "      <td>3.999937</td>\n",
       "      <td>3.999937</td>\n",
       "      <td>4.0</td>\n",
       "    </tr>\n",
       "    <tr>\n",
       "      <th>238</th>\n",
       "      <td>111</td>\n",
       "      <td>Truth About Cats &amp; Dogs, The (1996)</td>\n",
       "      <td>727</td>\n",
       "      <td>-0.000152</td>\n",
       "      <td>2.999848</td>\n",
       "      <td>2.999848</td>\n",
       "      <td>3.0</td>\n",
       "    </tr>\n",
       "    <tr>\n",
       "      <th>239</th>\n",
       "      <td>111</td>\n",
       "      <td>Truth About Cats &amp; Dogs, The (1996)</td>\n",
       "      <td>883</td>\n",
       "      <td>NaN</td>\n",
       "      <td>NaN</td>\n",
       "      <td>-1.041686</td>\n",
       "      <td>NaN</td>\n",
       "    </tr>\n",
       "  </tbody>\n",
       "</table>\n",
       "<p>240 rows × 7 columns</p>\n",
       "</div>"
      ],
      "text/plain": [
       "     movie id                          movie title  user id  deviation  \\\n",
       "0         132             Wizard of Oz, The (1939)        1   0.108267   \n",
       "1         132             Wizard of Oz, The (1939)       85   0.507715   \n",
       "2         132             Wizard of Oz, The (1939)      178        NaN   \n",
       "3         132             Wizard of Oz, The (1939)      269   0.443834   \n",
       "4         132             Wizard of Oz, The (1939)      271  -0.382464   \n",
       "..        ...                                  ...      ...        ...   \n",
       "235       111  Truth About Cats & Dogs, The (1996)      389  -0.000053   \n",
       "236       111  Truth About Cats & Dogs, The (1996)      650        NaN   \n",
       "237       111  Truth About Cats & Dogs, The (1996)      716  -0.000063   \n",
       "238       111  Truth About Cats & Dogs, The (1996)      727  -0.000152   \n",
       "239       111  Truth About Cats & Dogs, The (1996)      883        NaN   \n",
       "\n",
       "          fit  fit/prediction  observed  \n",
       "0    4.108267        4.108267       4.0  \n",
       "1    5.507715        5.507715       5.0  \n",
       "2         NaN        1.228071       NaN  \n",
       "3    5.443834        5.443834       5.0  \n",
       "4    4.617536        4.617536       5.0  \n",
       "..        ...             ...       ...  \n",
       "235  2.999947        2.999947       3.0  \n",
       "236       NaN        5.022816       NaN  \n",
       "237  3.999937        3.999937       4.0  \n",
       "238  2.999848        2.999848       3.0  \n",
       "239       NaN       -1.041686       NaN  \n",
       "\n",
       "[240 rows x 7 columns]"
      ]
     },
     "execution_count": 8,
     "metadata": {},
     "output_type": "execute_result"
    }
   ],
   "source": [
    "Rone = R.copy()\n",
    "Rone.loc[:,:] = 1 # easiest way to copy over row/column names\n",
    "Rhat = np.inner(V, U) * Rone\n",
    "Rhat_if_obs = Rhat.where(~np.isnan(R), np.nan)\n",
    "\n",
    "R_compare = \\\n",
    "    R.rename(columns={'rating':'observed'})\\\n",
    "    .join(Rhat_if_obs.rename(columns={'rating':'fit'}))\\\n",
    "    .join(Rhat.rename(columns={'rating':'fit/prediction'}))\\\n",
    "    .join((Rhat_if_obs-R).rename(columns={'rating':'deviation'}))\n",
    "\n",
    "long(R_compare)"
   ]
  },
  {
   "cell_type": "markdown",
   "metadata": {
    "slideshow": {
     "slide_type": "slide"
    }
   },
   "source": [
    "# Recommend Movies\n",
    "\n",
    "Recommend unwatched movie $m$ with highest $\\hat r_{mi}$"
   ]
  },
  {
   "cell_type": "code",
   "execution_count": 9,
   "metadata": {
    "slideshow": {
     "slide_type": "-"
    }
   },
   "outputs": [],
   "source": [
    "base = alt.Chart(long(R)).mark_rect().encode(\n",
    "    x='user id:O',\n",
    "    y='movie title:O',\n",
    "    color='rating:O',\n",
    "    tooltip=['user id', 'movie title', 'rating']\n",
    ")"
   ]
  },
  {
   "cell_type": "code",
   "execution_count": 10,
   "metadata": {
    "scrolled": true,
    "slideshow": {
     "slide_type": "fragment"
    }
   },
   "outputs": [
    {
     "data": {
      "text/html": [
       "\n",
       "<div id=\"altair-viz-bddc30e569184cf6a5187ee82b0d04cb\"></div>\n",
       "<script type=\"text/javascript\">\n",
       "  (function(spec, embedOpt){\n",
       "    let outputDiv = document.currentScript.previousElementSibling;\n",
       "    if (outputDiv.id !== \"altair-viz-bddc30e569184cf6a5187ee82b0d04cb\") {\n",
       "      outputDiv = document.getElementById(\"altair-viz-bddc30e569184cf6a5187ee82b0d04cb\");\n",
       "    }\n",
       "    const paths = {\n",
       "      \"vega\": \"https://cdn.jsdelivr.net/npm//vega@5?noext\",\n",
       "      \"vega-lib\": \"https://cdn.jsdelivr.net/npm//vega-lib?noext\",\n",
       "      \"vega-lite\": \"https://cdn.jsdelivr.net/npm//vega-lite@4.8.1?noext\",\n",
       "      \"vega-embed\": \"https://cdn.jsdelivr.net/npm//vega-embed@6?noext\",\n",
       "    };\n",
       "\n",
       "    function loadScript(lib) {\n",
       "      return new Promise(function(resolve, reject) {\n",
       "        var s = document.createElement('script');\n",
       "        s.src = paths[lib];\n",
       "        s.async = true;\n",
       "        s.onload = () => resolve(paths[lib]);\n",
       "        s.onerror = () => reject(`Error loading script: ${paths[lib]}`);\n",
       "        document.getElementsByTagName(\"head\")[0].appendChild(s);\n",
       "      });\n",
       "    }\n",
       "\n",
       "    function showError(err) {\n",
       "      outputDiv.innerHTML = `<div class=\"error\" style=\"color:red;\">${err}</div>`;\n",
       "      throw err;\n",
       "    }\n",
       "\n",
       "    function displayChart(vegaEmbed) {\n",
       "      vegaEmbed(outputDiv, spec, embedOpt)\n",
       "        .catch(err => showError(`Javascript Error: ${err.message}<br>This usually means there's a typo in your chart specification. See the javascript console for the full traceback.`));\n",
       "    }\n",
       "\n",
       "    if(typeof define === \"function\" && define.amd) {\n",
       "      requirejs.config({paths});\n",
       "      require([\"vega-embed\"], displayChart, err => showError(`Error loading script: ${err.message}`));\n",
       "    } else if (typeof vegaEmbed === \"function\") {\n",
       "      displayChart(vegaEmbed);\n",
       "    } else {\n",
       "      loadScript(\"vega\")\n",
       "        .then(() => loadScript(\"vega-lite\"))\n",
       "        .then(() => loadScript(\"vega-embed\"))\n",
       "        .catch(showError)\n",
       "        .then(() => displayChart(vegaEmbed));\n",
       "    }\n",
       "  })({\"config\": {\"view\": {\"continuousWidth\": 400, \"continuousHeight\": 300}}, \"data\": {\"name\": \"data-c696952f6b9c87315cca48c900efd5d3\"}, \"mark\": \"rect\", \"encoding\": {\"color\": {\"type\": \"ordinal\", \"field\": \"rating\"}, \"tooltip\": [{\"type\": \"quantitative\", \"field\": \"user id\"}, {\"type\": \"nominal\", \"field\": \"movie title\"}, {\"type\": \"quantitative\", \"field\": \"rating\"}], \"x\": {\"type\": \"ordinal\", \"field\": \"user id\"}, \"y\": {\"type\": \"ordinal\", \"field\": \"movie title\"}}, \"$schema\": \"https://vega.github.io/schema/vega-lite/v4.8.1.json\", \"datasets\": {\"data-c696952f6b9c87315cca48c900efd5d3\": [{\"movie id\": 132, \"movie title\": \"Wizard of Oz, The (1939)\", \"user id\": 1, \"rating\": 4.0}, {\"movie id\": 132, \"movie title\": \"Wizard of Oz, The (1939)\", \"user id\": 85, \"rating\": 5.0}, {\"movie id\": 132, \"movie title\": \"Wizard of Oz, The (1939)\", \"user id\": 269, \"rating\": 5.0}, {\"movie id\": 132, \"movie title\": \"Wizard of Oz, The (1939)\", \"user id\": 271, \"rating\": 5.0}, {\"movie id\": 132, \"movie title\": \"Wizard of Oz, The (1939)\", \"user id\": 301, \"rating\": 4.0}, {\"movie id\": 132, \"movie title\": \"Wizard of Oz, The (1939)\", \"user id\": 312, \"rating\": 5.0}, {\"movie id\": 132, \"movie title\": \"Wizard of Oz, The (1939)\", \"user id\": 328, \"rating\": 5.0}, {\"movie id\": 132, \"movie title\": \"Wizard of Oz, The (1939)\", \"user id\": 339, \"rating\": 5.0}, {\"movie id\": 132, \"movie title\": \"Wizard of Oz, The (1939)\", \"user id\": 389, \"rating\": 5.0}, {\"movie id\": 132, \"movie title\": \"Wizard of Oz, The (1939)\", \"user id\": 650, \"rating\": 4.0}, {\"movie id\": 132, \"movie title\": \"Wizard of Oz, The (1939)\", \"user id\": 716, \"rating\": 5.0}, {\"movie id\": 132, \"movie title\": \"Wizard of Oz, The (1939)\", \"user id\": 727, \"rating\": 2.0}, {\"movie id\": 238, \"movie title\": \"Raising Arizona (1987)\", \"user id\": 1, \"rating\": 4.0}, {\"movie id\": 238, \"movie title\": \"Raising Arizona (1987)\", \"user id\": 85, \"rating\": 2.0}, {\"movie id\": 238, \"movie title\": \"Raising Arizona (1987)\", \"user id\": 178, \"rating\": 4.0}, {\"movie id\": 238, \"movie title\": \"Raising Arizona (1987)\", \"user id\": 269, \"rating\": 5.0}, {\"movie id\": 238, \"movie title\": \"Raising Arizona (1987)\", \"user id\": 271, \"rating\": 4.0}, {\"movie id\": 238, \"movie title\": \"Raising Arizona (1987)\", \"user id\": 299, \"rating\": 4.0}, {\"movie id\": 238, \"movie title\": \"Raising Arizona (1987)\", \"user id\": 312, \"rating\": 3.0}, {\"movie id\": 238, \"movie title\": \"Raising Arizona (1987)\", \"user id\": 339, \"rating\": 5.0}, {\"movie id\": 238, \"movie title\": \"Raising Arizona (1987)\", \"user id\": 387, \"rating\": 5.0}, {\"movie id\": 238, \"movie title\": \"Raising Arizona (1987)\", \"user id\": 389, \"rating\": 5.0}, {\"movie id\": 238, \"movie title\": \"Raising Arizona (1987)\", \"user id\": 650, \"rating\": 4.0}, {\"movie id\": 238, \"movie title\": \"Raising Arizona (1987)\", \"user id\": 716, \"rating\": 4.0}, {\"movie id\": 238, \"movie title\": \"Raising Arizona (1987)\", \"user id\": 727, \"rating\": 2.0}, {\"movie id\": 238, \"movie title\": \"Raising Arizona (1987)\", \"user id\": 883, \"rating\": 4.0}, {\"movie id\": 748, \"movie title\": \"Saint, The (1997)\", \"user id\": 178, \"rating\": 4.0}, {\"movie id\": 748, \"movie title\": \"Saint, The (1997)\", \"user id\": 328, \"rating\": 3.0}, {\"movie id\": 748, \"movie title\": \"Saint, The (1997)\", \"user id\": 727, \"rating\": 4.0}, {\"movie id\": 748, \"movie title\": \"Saint, The (1997)\", \"user id\": 883, \"rating\": 5.0}, {\"movie id\": 196, \"movie title\": \"Dead Poets Society (1989)\", \"user id\": 1, \"rating\": 5.0}, {\"movie id\": 196, \"movie title\": \"Dead Poets Society (1989)\", \"user id\": 85, \"rating\": 4.0}, {\"movie id\": 196, \"movie title\": \"Dead Poets Society (1989)\", \"user id\": 178, \"rating\": 4.0}, {\"movie id\": 196, \"movie title\": \"Dead Poets Society (1989)\", \"user id\": 269, \"rating\": 1.0}, {\"movie id\": 196, \"movie title\": \"Dead Poets Society (1989)\", \"user id\": 271, \"rating\": 4.0}, {\"movie id\": 196, \"movie title\": \"Dead Poets Society (1989)\", \"user id\": 301, \"rating\": 4.0}, {\"movie id\": 196, \"movie title\": \"Dead Poets Society (1989)\", \"user id\": 339, \"rating\": 4.0}, {\"movie id\": 196, \"movie title\": \"Dead Poets Society (1989)\", \"user id\": 387, \"rating\": 2.0}, {\"movie id\": 196, \"movie title\": \"Dead Poets Society (1989)\", \"user id\": 389, \"rating\": 3.0}, {\"movie id\": 196, \"movie title\": \"Dead Poets Society (1989)\", \"user id\": 650, \"rating\": 4.0}, {\"movie id\": 196, \"movie title\": \"Dead Poets Society (1989)\", \"user id\": 716, \"rating\": 5.0}, {\"movie id\": 196, \"movie title\": \"Dead Poets Society (1989)\", \"user id\": 727, \"rating\": 4.0}, {\"movie id\": 197, \"movie title\": \"Graduate, The (1967)\", \"user id\": 1, \"rating\": 5.0}, {\"movie id\": 197, \"movie title\": \"Graduate, The (1967)\", \"user id\": 85, \"rating\": 5.0}, {\"movie id\": 197, \"movie title\": \"Graduate, The (1967)\", \"user id\": 178, \"rating\": 2.0}, {\"movie id\": 197, \"movie title\": \"Graduate, The (1967)\", \"user id\": 269, \"rating\": 5.0}, {\"movie id\": 197, \"movie title\": \"Graduate, The (1967)\", \"user id\": 271, \"rating\": 4.0}, {\"movie id\": 197, \"movie title\": \"Graduate, The (1967)\", \"user id\": 299, \"rating\": 3.0}, {\"movie id\": 197, \"movie title\": \"Graduate, The (1967)\", \"user id\": 301, \"rating\": 5.0}, {\"movie id\": 197, \"movie title\": \"Graduate, The (1967)\", \"user id\": 312, \"rating\": 4.0}, {\"movie id\": 197, \"movie title\": \"Graduate, The (1967)\", \"user id\": 339, \"rating\": 5.0}, {\"movie id\": 197, \"movie title\": \"Graduate, The (1967)\", \"user id\": 387, \"rating\": 2.0}, {\"movie id\": 197, \"movie title\": \"Graduate, The (1967)\", \"user id\": 389, \"rating\": 5.0}, {\"movie id\": 197, \"movie title\": \"Graduate, The (1967)\", \"user id\": 650, \"rating\": 4.0}, {\"movie id\": 197, \"movie title\": \"Graduate, The (1967)\", \"user id\": 716, \"rating\": 5.0}, {\"movie id\": 197, \"movie title\": \"Graduate, The (1967)\", \"user id\": 727, \"rating\": 3.0}, {\"movie id\": 197, \"movie title\": \"Graduate, The (1967)\", \"user id\": 883, \"rating\": 4.0}, {\"movie id\": 185, \"movie title\": \"Psycho (1960)\", \"user id\": 1, \"rating\": 4.0}, {\"movie id\": 185, \"movie title\": \"Psycho (1960)\", \"user id\": 269, \"rating\": 5.0}, {\"movie id\": 185, \"movie title\": \"Psycho (1960)\", \"user id\": 271, \"rating\": 3.0}, {\"movie id\": 185, \"movie title\": \"Psycho (1960)\", \"user id\": 299, \"rating\": 3.0}, {\"movie id\": 185, \"movie title\": \"Psycho (1960)\", \"user id\": 312, \"rating\": 5.0}, {\"movie id\": 185, \"movie title\": \"Psycho (1960)\", \"user id\": 328, \"rating\": 4.0}, {\"movie id\": 185, \"movie title\": \"Psycho (1960)\", \"user id\": 339, \"rating\": 4.0}, {\"movie id\": 185, \"movie title\": \"Psycho (1960)\", \"user id\": 389, \"rating\": 5.0}, {\"movie id\": 185, \"movie title\": \"Psycho (1960)\", \"user id\": 650, \"rating\": 3.0}, {\"movie id\": 185, \"movie title\": \"Psycho (1960)\", \"user id\": 716, \"rating\": 5.0}, {\"movie id\": 185, \"movie title\": \"Psycho (1960)\", \"user id\": 883, \"rating\": 5.0}, {\"movie id\": 194, \"movie title\": \"Sting, The (1973)\", \"user id\": 1, \"rating\": 4.0}, {\"movie id\": 194, \"movie title\": \"Sting, The (1973)\", \"user id\": 85, \"rating\": 4.0}, {\"movie id\": 194, \"movie title\": \"Sting, The (1973)\", \"user id\": 178, \"rating\": 4.0}, {\"movie id\": 194, \"movie title\": \"Sting, The (1973)\", \"user id\": 269, \"rating\": 5.0}, {\"movie id\": 194, \"movie title\": \"Sting, The (1973)\", \"user id\": 271, \"rating\": 5.0}, {\"movie id\": 194, \"movie title\": \"Sting, The (1973)\", \"user id\": 299, \"rating\": 3.0}, {\"movie id\": 194, \"movie title\": \"Sting, The (1973)\", \"user id\": 301, \"rating\": 4.0}, {\"movie id\": 194, \"movie title\": \"Sting, The (1973)\", \"user id\": 312, \"rating\": 4.0}, {\"movie id\": 194, \"movie title\": \"Sting, The (1973)\", \"user id\": 328, \"rating\": 3.0}, {\"movie id\": 194, \"movie title\": \"Sting, The (1973)\", \"user id\": 339, \"rating\": 4.0}, {\"movie id\": 194, \"movie title\": \"Sting, The (1973)\", \"user id\": 387, \"rating\": 3.0}, {\"movie id\": 194, \"movie title\": \"Sting, The (1973)\", \"user id\": 389, \"rating\": 4.0}, {\"movie id\": 194, \"movie title\": \"Sting, The (1973)\", \"user id\": 650, \"rating\": 4.0}, {\"movie id\": 194, \"movie title\": \"Sting, The (1973)\", \"user id\": 716, \"rating\": 5.0}, {\"movie id\": 194, \"movie title\": \"Sting, The (1973)\", \"user id\": 883, \"rating\": 3.0}, {\"movie id\": 742, \"movie title\": \"Ransom (1996)\", \"user id\": 178, \"rating\": 3.0}, {\"movie id\": 742, \"movie title\": \"Ransom (1996)\", \"user id\": 271, \"rating\": 3.0}, {\"movie id\": 742, \"movie title\": \"Ransom (1996)\", \"user id\": 299, \"rating\": 4.0}, {\"movie id\": 742, \"movie title\": \"Ransom (1996)\", \"user id\": 301, \"rating\": 4.0}, {\"movie id\": 742, \"movie title\": \"Ransom (1996)\", \"user id\": 328, \"rating\": 4.0}, {\"movie id\": 742, \"movie title\": \"Ransom (1996)\", \"user id\": 387, \"rating\": 2.0}, {\"movie id\": 742, \"movie title\": \"Ransom (1996)\", \"user id\": 650, \"rating\": 3.0}, {\"movie id\": 82, \"movie title\": \"Jurassic Park (1993)\", \"user id\": 1, \"rating\": 5.0}, {\"movie id\": 82, \"movie title\": \"Jurassic Park (1993)\", \"user id\": 85, \"rating\": 3.0}, {\"movie id\": 82, \"movie title\": \"Jurassic Park (1993)\", \"user id\": 178, \"rating\": 5.0}, {\"movie id\": 82, \"movie title\": \"Jurassic Park (1993)\", \"user id\": 269, \"rating\": 2.0}, {\"movie id\": 82, \"movie title\": \"Jurassic Park (1993)\", \"user id\": 301, \"rating\": 5.0}, {\"movie id\": 82, \"movie title\": \"Jurassic Park (1993)\", \"user id\": 328, \"rating\": 4.0}, {\"movie id\": 82, \"movie title\": \"Jurassic Park (1993)\", \"user id\": 339, \"rating\": 4.0}, {\"movie id\": 82, \"movie title\": \"Jurassic Park (1993)\", \"user id\": 387, \"rating\": 4.0}, {\"movie id\": 82, \"movie title\": \"Jurassic Park (1993)\", \"user id\": 389, \"rating\": 4.0}, {\"movie id\": 82, \"movie title\": \"Jurassic Park (1993)\", \"user id\": 650, \"rating\": 3.0}, {\"movie id\": 82, \"movie title\": \"Jurassic Park (1993)\", \"user id\": 716, \"rating\": 5.0}, {\"movie id\": 82, \"movie title\": \"Jurassic Park (1993)\", \"user id\": 727, \"rating\": 3.0}, {\"movie id\": 82, \"movie title\": \"Jurassic Park (1993)\", \"user id\": 883, \"rating\": 3.0}, {\"movie id\": 97, \"movie title\": \"Dances with Wolves (1990)\", \"user id\": 1, \"rating\": 3.0}, {\"movie id\": 97, \"movie title\": \"Dances with Wolves (1990)\", \"user id\": 85, \"rating\": 2.0}, {\"movie id\": 97, \"movie title\": \"Dances with Wolves (1990)\", \"user id\": 178, \"rating\": 5.0}, {\"movie id\": 97, \"movie title\": \"Dances with Wolves (1990)\", \"user id\": 271, \"rating\": 5.0}, {\"movie id\": 97, \"movie title\": \"Dances with Wolves (1990)\", \"user id\": 299, \"rating\": 4.0}, {\"movie id\": 97, \"movie title\": \"Dances with Wolves (1990)\", \"user id\": 301, \"rating\": 4.0}, {\"movie id\": 97, \"movie title\": \"Dances with Wolves (1990)\", \"user id\": 312, \"rating\": 5.0}, {\"movie id\": 97, \"movie title\": \"Dances with Wolves (1990)\", \"user id\": 328, \"rating\": 3.0}, {\"movie id\": 97, \"movie title\": \"Dances with Wolves (1990)\", \"user id\": 339, \"rating\": 4.0}, {\"movie id\": 97, \"movie title\": \"Dances with Wolves (1990)\", \"user id\": 387, \"rating\": 2.0}, {\"movie id\": 97, \"movie title\": \"Dances with Wolves (1990)\", \"user id\": 650, \"rating\": 3.0}, {\"movie id\": 97, \"movie title\": \"Dances with Wolves (1990)\", \"user id\": 716, \"rating\": 4.0}, {\"movie id\": 475, \"movie title\": \"Trainspotting (1996)\", \"user id\": 269, \"rating\": 5.0}, {\"movie id\": 475, \"movie title\": \"Trainspotting (1996)\", \"user id\": 299, \"rating\": 4.0}, {\"movie id\": 475, \"movie title\": \"Trainspotting (1996)\", \"user id\": 339, \"rating\": 5.0}, {\"movie id\": 475, \"movie title\": \"Trainspotting (1996)\", \"user id\": 387, \"rating\": 3.0}, {\"movie id\": 475, \"movie title\": \"Trainspotting (1996)\", \"user id\": 389, \"rating\": 5.0}, {\"movie id\": 268, \"movie title\": \"Chasing Amy (1997)\", \"user id\": 1, \"rating\": 5.0}, {\"movie id\": 268, \"movie title\": \"Chasing Amy (1997)\", \"user id\": 85, \"rating\": 4.0}, {\"movie id\": 268, \"movie title\": \"Chasing Amy (1997)\", \"user id\": 178, \"rating\": 4.0}, {\"movie id\": 268, \"movie title\": \"Chasing Amy (1997)\", \"user id\": 269, \"rating\": 5.0}, {\"movie id\": 268, \"movie title\": \"Chasing Amy (1997)\", \"user id\": 387, \"rating\": 3.0}, {\"movie id\": 268, \"movie title\": \"Chasing Amy (1997)\", \"user id\": 727, \"rating\": 4.0}, {\"movie id\": 186, \"movie title\": \"Blues Brothers, The (1980)\", \"user id\": 1, \"rating\": 4.0}, {\"movie id\": 186, \"movie title\": \"Blues Brothers, The (1980)\", \"user id\": 85, \"rating\": 3.0}, {\"movie id\": 186, \"movie title\": \"Blues Brothers, The (1980)\", \"user id\": 269, \"rating\": 2.0}, {\"movie id\": 186, \"movie title\": \"Blues Brothers, The (1980)\", \"user id\": 271, \"rating\": 4.0}, {\"movie id\": 186, \"movie title\": \"Blues Brothers, The (1980)\", \"user id\": 299, \"rating\": 3.0}, {\"movie id\": 186, \"movie title\": \"Blues Brothers, The (1980)\", \"user id\": 301, \"rating\": 4.0}, {\"movie id\": 186, \"movie title\": \"Blues Brothers, The (1980)\", \"user id\": 312, \"rating\": 3.0}, {\"movie id\": 186, \"movie title\": \"Blues Brothers, The (1980)\", \"user id\": 328, \"rating\": 4.0}, {\"movie id\": 186, \"movie title\": \"Blues Brothers, The (1980)\", \"user id\": 339, \"rating\": 4.0}, {\"movie id\": 186, \"movie title\": \"Blues Brothers, The (1980)\", \"user id\": 387, \"rating\": 2.0}, {\"movie id\": 186, \"movie title\": \"Blues Brothers, The (1980)\", \"user id\": 389, \"rating\": 2.0}, {\"movie id\": 186, \"movie title\": \"Blues Brothers, The (1980)\", \"user id\": 650, \"rating\": 4.0}, {\"movie id\": 186, \"movie title\": \"Blues Brothers, The (1980)\", \"user id\": 716, \"rating\": 3.0}, {\"movie id\": 186, \"movie title\": \"Blues Brothers, The (1980)\", \"user id\": 727, \"rating\": 5.0}, {\"movie id\": 496, \"movie title\": \"It's a Wonderful Life (1946)\", \"user id\": 85, \"rating\": 4.0}, {\"movie id\": 496, \"movie title\": \"It's a Wonderful Life (1946)\", \"user id\": 269, \"rating\": 5.0}, {\"movie id\": 496, \"movie title\": \"It's a Wonderful Life (1946)\", \"user id\": 271, \"rating\": 5.0}, {\"movie id\": 496, \"movie title\": \"It's a Wonderful Life (1946)\", \"user id\": 299, \"rating\": 3.0}, {\"movie id\": 496, \"movie title\": \"It's a Wonderful Life (1946)\", \"user id\": 301, \"rating\": 5.0}, {\"movie id\": 496, \"movie title\": \"It's a Wonderful Life (1946)\", \"user id\": 312, \"rating\": 5.0}, {\"movie id\": 496, \"movie title\": \"It's a Wonderful Life (1946)\", \"user id\": 339, \"rating\": 5.0}, {\"movie id\": 496, \"movie title\": \"It's a Wonderful Life (1946)\", \"user id\": 387, \"rating\": 3.0}, {\"movie id\": 496, \"movie title\": \"It's a Wonderful Life (1946)\", \"user id\": 389, \"rating\": 4.0}, {\"movie id\": 496, \"movie title\": \"It's a Wonderful Life (1946)\", \"user id\": 650, \"rating\": 4.0}, {\"movie id\": 496, \"movie title\": \"It's a Wonderful Life (1946)\", \"user id\": 716, \"rating\": 5.0}, {\"movie id\": 496, \"movie title\": \"It's a Wonderful Life (1946)\", \"user id\": 883, \"rating\": 2.0}, {\"movie id\": 111, \"movie title\": \"Truth About Cats & Dogs, The (1996)\", \"user id\": 1, \"rating\": 5.0}, {\"movie id\": 111, \"movie title\": \"Truth About Cats & Dogs, The (1996)\", \"user id\": 178, \"rating\": 4.0}, {\"movie id\": 111, \"movie title\": \"Truth About Cats & Dogs, The (1996)\", \"user id\": 269, \"rating\": 1.0}, {\"movie id\": 111, \"movie title\": \"Truth About Cats & Dogs, The (1996)\", \"user id\": 271, \"rating\": 4.0}, {\"movie id\": 111, \"movie title\": \"Truth About Cats & Dogs, The (1996)\", \"user id\": 299, \"rating\": 3.0}, {\"movie id\": 111, \"movie title\": \"Truth About Cats & Dogs, The (1996)\", \"user id\": 301, \"rating\": 1.0}, {\"movie id\": 111, \"movie title\": \"Truth About Cats & Dogs, The (1996)\", \"user id\": 389, \"rating\": 3.0}, {\"movie id\": 111, \"movie title\": \"Truth About Cats & Dogs, The (1996)\", \"user id\": 716, \"rating\": 4.0}, {\"movie id\": 111, \"movie title\": \"Truth About Cats & Dogs, The (1996)\", \"user id\": 727, \"rating\": 3.0}]}}, {\"mode\": \"vega-lite\"});\n",
       "</script>"
      ],
      "text/plain": [
       "alt.Chart(...)"
      ]
     },
     "execution_count": 10,
     "metadata": {},
     "output_type": "execute_result"
    }
   ],
   "source": [
    "base"
   ]
  },
  {
   "cell_type": "code",
   "execution_count": 11,
   "metadata": {
    "slideshow": {
     "slide_type": "subslide"
    }
   },
   "outputs": [],
   "source": [
    "base = alt.Chart(long(R_compare)).mark_rect().encode(\n",
    "    x='user id:O',\n",
    "    y='movie title:O',\n",
    "    tooltip=['user id', 'movie title', 'fit/prediction', 'observed', 'deviation']\n",
    ")\n",
    "\n",
    "f_all = base\\\n",
    "    .properties(title='Ratings Fit and Predictions')\\\n",
    "    .encode(color=alt.Color('fit/prediction:Q', scale=alt.Scale(scheme='yellowgreenblue', domain=[1, 5])))\n",
    "f_raw = base\\\n",
    "    .properties(title='Ratings Data')\\\n",
    "    .encode(color=alt.Color('observed:O', scale=alt.Scale(scheme='yellowgreenblue', domain=[1,2,3,4,5])))\n",
    "f_err = base\\\n",
    "    .properties(title='Deviation: Data - Fit')\\\n",
    "    .encode(color=alt.Color('deviation:Q', scale=alt.Scale(scheme='redblue', domain=[-2, 2])))"
   ]
  },
  {
   "cell_type": "code",
   "execution_count": 12,
   "metadata": {
    "slideshow": {
     "slide_type": "subslide"
    }
   },
   "outputs": [
    {
     "data": {
      "text/html": [
       "\n",
       "<div id=\"altair-viz-ff1ae28be3b84e6589d822c2779ce8f8\"></div>\n",
       "<script type=\"text/javascript\">\n",
       "  (function(spec, embedOpt){\n",
       "    let outputDiv = document.currentScript.previousElementSibling;\n",
       "    if (outputDiv.id !== \"altair-viz-ff1ae28be3b84e6589d822c2779ce8f8\") {\n",
       "      outputDiv = document.getElementById(\"altair-viz-ff1ae28be3b84e6589d822c2779ce8f8\");\n",
       "    }\n",
       "    const paths = {\n",
       "      \"vega\": \"https://cdn.jsdelivr.net/npm//vega@5?noext\",\n",
       "      \"vega-lib\": \"https://cdn.jsdelivr.net/npm//vega-lib?noext\",\n",
       "      \"vega-lite\": \"https://cdn.jsdelivr.net/npm//vega-lite@4.8.1?noext\",\n",
       "      \"vega-embed\": \"https://cdn.jsdelivr.net/npm//vega-embed@6?noext\",\n",
       "    };\n",
       "\n",
       "    function loadScript(lib) {\n",
       "      return new Promise(function(resolve, reject) {\n",
       "        var s = document.createElement('script');\n",
       "        s.src = paths[lib];\n",
       "        s.async = true;\n",
       "        s.onload = () => resolve(paths[lib]);\n",
       "        s.onerror = () => reject(`Error loading script: ${paths[lib]}`);\n",
       "        document.getElementsByTagName(\"head\")[0].appendChild(s);\n",
       "      });\n",
       "    }\n",
       "\n",
       "    function showError(err) {\n",
       "      outputDiv.innerHTML = `<div class=\"error\" style=\"color:red;\">${err}</div>`;\n",
       "      throw err;\n",
       "    }\n",
       "\n",
       "    function displayChart(vegaEmbed) {\n",
       "      vegaEmbed(outputDiv, spec, embedOpt)\n",
       "        .catch(err => showError(`Javascript Error: ${err.message}<br>This usually means there's a typo in your chart specification. See the javascript console for the full traceback.`));\n",
       "    }\n",
       "\n",
       "    if(typeof define === \"function\" && define.amd) {\n",
       "      requirejs.config({paths});\n",
       "      require([\"vega-embed\"], displayChart, err => showError(`Error loading script: ${err.message}`));\n",
       "    } else if (typeof vegaEmbed === \"function\") {\n",
       "      displayChart(vegaEmbed);\n",
       "    } else {\n",
       "      loadScript(\"vega\")\n",
       "        .then(() => loadScript(\"vega-lite\"))\n",
       "        .then(() => loadScript(\"vega-embed\"))\n",
       "        .catch(showError)\n",
       "        .then(() => displayChart(vegaEmbed));\n",
       "    }\n",
       "  })({\"config\": {\"view\": {\"continuousWidth\": 400, \"continuousHeight\": 300}}, \"hconcat\": [{\"layer\": [{\"mark\": \"rect\", \"encoding\": {\"color\": {\"type\": \"quantitative\", \"field\": \"fit/prediction\", \"legend\": null, \"scale\": {\"domain\": [1, 5], \"scheme\": \"yellowgreenblue\"}}, \"tooltip\": [{\"type\": \"quantitative\", \"field\": \"user id\"}, {\"type\": \"nominal\", \"field\": \"movie title\"}, {\"type\": \"quantitative\", \"field\": \"fit/prediction\"}, {\"type\": \"quantitative\", \"field\": \"observed\"}, {\"type\": \"quantitative\", \"field\": \"deviation\"}], \"x\": {\"type\": \"ordinal\", \"field\": \"user id\"}, \"y\": {\"type\": \"ordinal\", \"field\": \"movie title\"}}, \"title\": \"Ratings Fit and Predictions\"}, {\"mark\": {\"type\": \"square\", \"filled\": false, \"size\": 350}, \"encoding\": {\"color\": {\"value\": \"black\"}, \"opacity\": {\"condition\": {\"value\": 1, \"selection\": \"selector001\"}, \"value\": 0}, \"tooltip\": [{\"type\": \"quantitative\", \"field\": \"user id\"}, {\"type\": \"nominal\", \"field\": \"movie title\"}, {\"type\": \"quantitative\", \"field\": \"fit/prediction\"}, {\"type\": \"quantitative\", \"field\": \"observed\"}, {\"type\": \"quantitative\", \"field\": \"deviation\"}], \"x\": {\"type\": \"ordinal\", \"field\": \"user id\"}, \"y\": {\"type\": \"ordinal\", \"field\": \"movie title\"}}, \"selection\": {\"selector001\": {\"type\": \"single\", \"nearest\": true, \"on\": \"mouseover\", \"empty\": \"none\"}}}]}, {\"layer\": [{\"mark\": \"rect\", \"encoding\": {\"color\": {\"type\": \"ordinal\", \"field\": \"observed\", \"scale\": {\"domain\": [1, 2, 3, 4, 5], \"scheme\": \"yellowgreenblue\"}}, \"tooltip\": [{\"type\": \"quantitative\", \"field\": \"user id\"}, {\"type\": \"nominal\", \"field\": \"movie title\"}, {\"type\": \"quantitative\", \"field\": \"fit/prediction\"}, {\"type\": \"quantitative\", \"field\": \"observed\"}, {\"type\": \"quantitative\", \"field\": \"deviation\"}], \"x\": {\"type\": \"ordinal\", \"field\": \"user id\"}, \"y\": {\"type\": \"ordinal\", \"axis\": {\"labels\": false}, \"field\": \"movie title\"}}, \"title\": \"Ratings Data\"}, {\"mark\": {\"type\": \"square\", \"filled\": false, \"size\": 350}, \"encoding\": {\"color\": {\"value\": \"black\"}, \"opacity\": {\"condition\": {\"value\": 1, \"selection\": \"selector001\"}, \"value\": 0}, \"tooltip\": [{\"type\": \"quantitative\", \"field\": \"user id\"}, {\"type\": \"nominal\", \"field\": \"movie title\"}, {\"type\": \"quantitative\", \"field\": \"fit/prediction\"}, {\"type\": \"quantitative\", \"field\": \"observed\"}, {\"type\": \"quantitative\", \"field\": \"deviation\"}], \"x\": {\"type\": \"ordinal\", \"field\": \"user id\"}, \"y\": {\"type\": \"ordinal\", \"field\": \"movie title\"}}, \"selection\": {\"selector001\": {\"type\": \"single\", \"nearest\": true, \"on\": \"mouseover\", \"empty\": \"none\"}}}]}], \"data\": {\"name\": \"data-a85fb2b2f80c8637a02922768ae715a5\"}, \"resolve\": {\"scale\": {\"color\": \"independent\"}}, \"$schema\": \"https://vega.github.io/schema/vega-lite/v4.8.1.json\", \"datasets\": {\"data-a85fb2b2f80c8637a02922768ae715a5\": [{\"movie id\": 132, \"movie title\": \"Wizard of Oz, The (1939)\", \"user id\": 1, \"deviation\": 0.10826713215074335, \"fit\": 4.108267132150743, \"fit/prediction\": 4.108267132150743, \"observed\": 4.0}, {\"movie id\": 132, \"movie title\": \"Wizard of Oz, The (1939)\", \"user id\": 85, \"deviation\": 0.507715308941421, \"fit\": 5.507715308941421, \"fit/prediction\": 5.507715308941421, \"observed\": 5.0}, {\"movie id\": 132, \"movie title\": \"Wizard of Oz, The (1939)\", \"user id\": 178, \"deviation\": null, \"fit\": null, \"fit/prediction\": 1.2280713090922952, \"observed\": null}, {\"movie id\": 132, \"movie title\": \"Wizard of Oz, The (1939)\", \"user id\": 269, \"deviation\": 0.44383360118713355, \"fit\": 5.4438336011871336, \"fit/prediction\": 5.4438336011871336, \"observed\": 5.0}, {\"movie id\": 132, \"movie title\": \"Wizard of Oz, The (1939)\", \"user id\": 271, \"deviation\": -0.382464479098239, \"fit\": 4.617535520901761, \"fit/prediction\": 4.617535520901761, \"observed\": 5.0}, {\"movie id\": 132, \"movie title\": \"Wizard of Oz, The (1939)\", \"user id\": 299, \"deviation\": null, \"fit\": null, \"fit/prediction\": 0.9681313988575955, \"observed\": null}, {\"movie id\": 132, \"movie title\": \"Wizard of Oz, The (1939)\", \"user id\": 301, \"deviation\": -0.05839535015544062, \"fit\": 3.9416046498445594, \"fit/prediction\": 3.9416046498445594, \"observed\": 4.0}, {\"movie id\": 132, \"movie title\": \"Wizard of Oz, The (1939)\", \"user id\": 312, \"deviation\": -0.1830859982408537, \"fit\": 4.816914001759146, \"fit/prediction\": 4.816914001759146, \"observed\": 5.0}, {\"movie id\": 132, \"movie title\": \"Wizard of Oz, The (1939)\", \"user id\": 328, \"deviation\": -0.30987239029072366, \"fit\": 4.690127609709276, \"fit/prediction\": 4.690127609709276, \"observed\": 5.0}, {\"movie id\": 132, \"movie title\": \"Wizard of Oz, The (1939)\", \"user id\": 339, \"deviation\": -0.5931765356027761, \"fit\": 4.406823464397224, \"fit/prediction\": 4.406823464397224, \"observed\": 5.0}, {\"movie id\": 132, \"movie title\": \"Wizard of Oz, The (1939)\", \"user id\": 387, \"deviation\": null, \"fit\": null, \"fit/prediction\": 1.221711551215639, \"observed\": null}, {\"movie id\": 132, \"movie title\": \"Wizard of Oz, The (1939)\", \"user id\": 389, \"deviation\": -0.21241713425475872, \"fit\": 4.787582865745241, \"fit/prediction\": 4.787582865745241, \"observed\": 5.0}, {\"movie id\": 132, \"movie title\": \"Wizard of Oz, The (1939)\", \"user id\": 650, \"deviation\": -0.16002189967076585, \"fit\": 3.839978100329234, \"fit/prediction\": 3.839978100329234, \"observed\": 4.0}, {\"movie id\": 132, \"movie title\": \"Wizard of Oz, The (1939)\", \"user id\": 716, \"deviation\": 0.14848218734707697, \"fit\": 5.148482187347077, \"fit/prediction\": 5.148482187347077, \"observed\": 5.0}, {\"movie id\": 132, \"movie title\": \"Wizard of Oz, The (1939)\", \"user id\": 727, \"deviation\": 0.4836789177780121, \"fit\": 2.483678917778012, \"fit/prediction\": 2.483678917778012, \"observed\": 2.0}, {\"movie id\": 132, \"movie title\": \"Wizard of Oz, The (1939)\", \"user id\": 883, \"deviation\": null, \"fit\": null, \"fit/prediction\": 3.8734360719136602, \"observed\": null}, {\"movie id\": 238, \"movie title\": \"Raising Arizona (1987)\", \"user id\": 1, \"deviation\": -0.14118045311713479, \"fit\": 3.858819546882865, \"fit/prediction\": 3.858819546882865, \"observed\": 4.0}, {\"movie id\": 238, \"movie title\": \"Raising Arizona (1987)\", \"user id\": 85, \"deviation\": 0.41652626300303863, \"fit\": 2.4165262630030386, \"fit/prediction\": 2.4165262630030386, \"observed\": 2.0}, {\"movie id\": 238, \"movie title\": \"Raising Arizona (1987)\", \"user id\": 178, \"deviation\": 0.21855719285399644, \"fit\": 4.218557192853996, \"fit/prediction\": 4.218557192853996, \"observed\": 4.0}, {\"movie id\": 238, \"movie title\": \"Raising Arizona (1987)\", \"user id\": 269, \"deviation\": 0.311951596892424, \"fit\": 5.311951596892424, \"fit/prediction\": 5.311951596892424, \"observed\": 5.0}, {\"movie id\": 238, \"movie title\": \"Raising Arizona (1987)\", \"user id\": 271, \"deviation\": -0.02562673933469295, \"fit\": 3.974373260665307, \"fit/prediction\": 3.974373260665307, \"observed\": 4.0}, {\"movie id\": 238, \"movie title\": \"Raising Arizona (1987)\", \"user id\": 299, \"deviation\": 0.030573756571545374, \"fit\": 4.030573756571545, \"fit/prediction\": 4.030573756571545, \"observed\": 4.0}, {\"movie id\": 238, \"movie title\": \"Raising Arizona (1987)\", \"user id\": 301, \"deviation\": null, \"fit\": null, \"fit/prediction\": 3.4365699961059044, \"observed\": null}, {\"movie id\": 238, \"movie title\": \"Raising Arizona (1987)\", \"user id\": 312, \"deviation\": -0.23173870669857477, \"fit\": 2.7682612933014252, \"fit/prediction\": 2.7682612933014252, \"observed\": 3.0}, {\"movie id\": 238, \"movie title\": \"Raising Arizona (1987)\", \"user id\": 328, \"deviation\": null, \"fit\": null, \"fit/prediction\": 1.1617470318955103, \"observed\": null}, {\"movie id\": 238, \"movie title\": \"Raising Arizona (1987)\", \"user id\": 339, \"deviation\": -0.3525413912433102, \"fit\": 4.64745860875669, \"fit/prediction\": 4.64745860875669, \"observed\": 5.0}, {\"movie id\": 238, \"movie title\": \"Raising Arizona (1987)\", \"user id\": 387, \"deviation\": -0.10624684129212092, \"fit\": 4.893753158707879, \"fit/prediction\": 4.893753158707879, \"observed\": 5.0}, {\"movie id\": 238, \"movie title\": \"Raising Arizona (1987)\", \"user id\": 389, \"deviation\": -0.31627784284449945, \"fit\": 4.6837221571555006, \"fit/prediction\": 4.6837221571555006, \"observed\": 5.0}, {\"movie id\": 238, \"movie title\": \"Raising Arizona (1987)\", \"user id\": 650, \"deviation\": -0.5028654214169457, \"fit\": 3.4971345785830543, \"fit/prediction\": 3.4971345785830543, \"observed\": 4.0}, {\"movie id\": 238, \"movie title\": \"Raising Arizona (1987)\", \"user id\": 716, \"deviation\": 0.39769355760853475, \"fit\": 4.397693557608535, \"fit/prediction\": 4.397693557608535, \"observed\": 4.0}, {\"movie id\": 238, \"movie title\": \"Raising Arizona (1987)\", \"user id\": 727, \"deviation\": 0.420874914722678, \"fit\": 2.420874914722678, \"fit/prediction\": 2.420874914722678, \"observed\": 2.0}, {\"movie id\": 238, \"movie title\": \"Raising Arizona (1987)\", \"user id\": 883, \"deviation\": 0.16371580559926358, \"fit\": 4.163715805599264, \"fit/prediction\": 4.163715805599264, \"observed\": 4.0}, {\"movie id\": 748, \"movie title\": \"Saint, The (1997)\", \"user id\": 1, \"deviation\": null, \"fit\": null, \"fit/prediction\": 4.404436327624009, \"observed\": null}, {\"movie id\": 748, \"movie title\": \"Saint, The (1997)\", \"user id\": 85, \"deviation\": null, \"fit\": null, \"fit/prediction\": 2.350668871838825, \"observed\": null}, {\"movie id\": 748, \"movie title\": \"Saint, The (1997)\", \"user id\": 178, \"deviation\": 0.14454674016249403, \"fit\": 4.144546740162494, \"fit/prediction\": 4.144546740162494, \"observed\": 4.0}, {\"movie id\": 748, \"movie title\": \"Saint, The (1997)\", \"user id\": 269, \"deviation\": null, \"fit\": null, \"fit/prediction\": 6.628735903880679, \"observed\": null}, {\"movie id\": 748, \"movie title\": \"Saint, The (1997)\", \"user id\": 271, \"deviation\": null, \"fit\": null, \"fit/prediction\": 4.313284000216877, \"observed\": null}, {\"movie id\": 748, \"movie title\": \"Saint, The (1997)\", \"user id\": 299, \"deviation\": null, \"fit\": null, \"fit/prediction\": 4.520793435100509, \"observed\": null}, {\"movie id\": 748, \"movie title\": \"Saint, The (1997)\", \"user id\": 301, \"deviation\": null, \"fit\": null, \"fit/prediction\": 6.727845204138151, \"observed\": null}, {\"movie id\": 748, \"movie title\": \"Saint, The (1997)\", \"user id\": 312, \"deviation\": null, \"fit\": null, \"fit/prediction\": 6.619278734234373, \"observed\": null}, {\"movie id\": 748, \"movie title\": \"Saint, The (1997)\", \"user id\": 328, \"deviation\": -0.39954448219329297, \"fit\": 2.600455517806707, \"fit/prediction\": 2.600455517806707, \"observed\": 3.0}, {\"movie id\": 748, \"movie title\": \"Saint, The (1997)\", \"user id\": 339, \"deviation\": null, \"fit\": null, \"fit/prediction\": 5.274870208911871, \"observed\": null}, {\"movie id\": 748, \"movie title\": \"Saint, The (1997)\", \"user id\": 387, \"deviation\": null, \"fit\": null, \"fit/prediction\": 4.3404847443603325, \"observed\": null}, {\"movie id\": 748, \"movie title\": \"Saint, The (1997)\", \"user id\": 389, \"deviation\": null, \"fit\": null, \"fit/prediction\": 5.13665513703586, \"observed\": null}, {\"movie id\": 748, \"movie title\": \"Saint, The (1997)\", \"user id\": 650, \"deviation\": null, \"fit\": null, \"fit/prediction\": 3.0804796528676692, \"observed\": null}, {\"movie id\": 748, \"movie title\": \"Saint, The (1997)\", \"user id\": 716, \"deviation\": null, \"fit\": null, \"fit/prediction\": 5.593575488365618, \"observed\": null}, {\"movie id\": 748, \"movie title\": \"Saint, The (1997)\", \"user id\": 727, \"deviation\": 0.27176524254409795, \"fit\": 4.271765242544098, \"fit/prediction\": 4.271765242544098, \"observed\": 4.0}, {\"movie id\": 748, \"movie title\": \"Saint, The (1997)\", \"user id\": 883, \"deviation\": 0.043357754237991486, \"fit\": 5.0433577542379915, \"fit/prediction\": 5.0433577542379915, \"observed\": 5.0}, {\"movie id\": 196, \"movie title\": \"Dead Poets Society (1989)\", \"user id\": 1, \"deviation\": 0.02134127507864303, \"fit\": 5.021341275078643, \"fit/prediction\": 5.021341275078643, \"observed\": 5.0}, {\"movie id\": 196, \"movie title\": \"Dead Poets Society (1989)\", \"user id\": 85, \"deviation\": 0.45862077236278154, \"fit\": 4.4586207723627815, \"fit/prediction\": 4.4586207723627815, \"observed\": 4.0}, {\"movie id\": 196, \"movie title\": \"Dead Poets Society (1989)\", \"user id\": 178, \"deviation\": -0.024975799454713954, \"fit\": 3.975024200545286, \"fit/prediction\": 3.975024200545286, \"observed\": 4.0}, {\"movie id\": 196, \"movie title\": \"Dead Poets Society (1989)\", \"user id\": 269, \"deviation\": 0.43532854422680023, \"fit\": 1.4353285442268002, \"fit/prediction\": 1.4353285442268002, \"observed\": 1.0}, {\"movie id\": 196, \"movie title\": \"Dead Poets Society (1989)\", \"user id\": 271, \"deviation\": -0.7289919409438319, \"fit\": 3.271008059056168, \"fit/prediction\": 3.271008059056168, \"observed\": 4.0}, {\"movie id\": 196, \"movie title\": \"Dead Poets Society (1989)\", \"user id\": 299, \"deviation\": null, \"fit\": null, \"fit/prediction\": 4.0419268054071855, \"observed\": null}, {\"movie id\": 196, \"movie title\": \"Dead Poets Society (1989)\", \"user id\": 301, \"deviation\": 0.15492056749107785, \"fit\": 4.154920567491078, \"fit/prediction\": 4.154920567491078, \"observed\": 4.0}, {\"movie id\": 196, \"movie title\": \"Dead Poets Society (1989)\", \"user id\": 312, \"deviation\": null, \"fit\": null, \"fit/prediction\": 0.29246669108878476, \"observed\": null}, {\"movie id\": 196, \"movie title\": \"Dead Poets Society (1989)\", \"user id\": 328, \"deviation\": null, \"fit\": null, \"fit/prediction\": 5.622173690214859, \"observed\": null}, {\"movie id\": 196, \"movie title\": \"Dead Poets Society (1989)\", \"user id\": 339, \"deviation\": 0.07388606318589375, \"fit\": 4.073886063185894, \"fit/prediction\": 4.073886063185894, \"observed\": 4.0}, {\"movie id\": 196, \"movie title\": \"Dead Poets Society (1989)\", \"user id\": 387, \"deviation\": 0.09204789038885686, \"fit\": 2.092047890388857, \"fit/prediction\": 2.092047890388857, \"observed\": 2.0}, {\"movie id\": 196, \"movie title\": \"Dead Poets Society (1989)\", \"user id\": 389, \"deviation\": -0.12018416525223774, \"fit\": 2.8798158347477623, \"fit/prediction\": 2.8798158347477623, \"observed\": 3.0}, {\"movie id\": 196, \"movie title\": \"Dead Poets Society (1989)\", \"user id\": 650, \"deviation\": -0.23907941710543312, \"fit\": 3.760920582894567, \"fit/prediction\": 3.760920582894567, \"observed\": 4.0}, {\"movie id\": 196, \"movie title\": \"Dead Poets Society (1989)\", \"user id\": 716, \"deviation\": -0.4766526687570787, \"fit\": 4.523347331242921, \"fit/prediction\": 4.523347331242921, \"observed\": 5.0}, {\"movie id\": 196, \"movie title\": \"Dead Poets Society (1989)\", \"user id\": 727, \"deviation\": 0.4447027438809723, \"fit\": 4.444702743880972, \"fit/prediction\": 4.444702743880972, \"observed\": 4.0}, {\"movie id\": 196, \"movie title\": \"Dead Poets Society (1989)\", \"user id\": 883, \"deviation\": null, \"fit\": null, \"fit/prediction\": -0.26595308905549364, \"observed\": null}, {\"movie id\": 197, \"movie title\": \"Graduate, The (1967)\", \"user id\": 1, \"deviation\": -0.16974811409633617, \"fit\": 4.830251885903664, \"fit/prediction\": 4.830251885903664, \"observed\": 5.0}, {\"movie id\": 197, \"movie title\": \"Graduate, The (1967)\", \"user id\": 85, \"deviation\": 0.12703742542819718, \"fit\": 5.127037425428197, \"fit/prediction\": 5.127037425428197, \"observed\": 5.0}, {\"movie id\": 197, \"movie title\": \"Graduate, The (1967)\", \"user id\": 178, \"deviation\": 0.1948298172335834, \"fit\": 2.1948298172335834, \"fit/prediction\": 2.1948298172335834, \"observed\": 2.0}, {\"movie id\": 197, \"movie title\": \"Graduate, The (1967)\", \"user id\": 269, \"deviation\": -0.11321853930636117, \"fit\": 4.886781460693639, \"fit/prediction\": 4.886781460693639, \"observed\": 5.0}, {\"movie id\": 197, \"movie title\": \"Graduate, The (1967)\", \"user id\": 271, \"deviation\": 0.08917952996303935, \"fit\": 4.089179529963039, \"fit/prediction\": 4.089179529963039, \"observed\": 4.0}, {\"movie id\": 197, \"movie title\": \"Graduate, The (1967)\", \"user id\": 299, \"deviation\": -0.2208024795911241, \"fit\": 2.779197520408876, \"fit/prediction\": 2.779197520408876, \"observed\": 3.0}, {\"movie id\": 197, \"movie title\": \"Graduate, The (1967)\", \"user id\": 301, \"deviation\": 0.1530306287536627, \"fit\": 5.153030628753663, \"fit/prediction\": 5.153030628753663, \"observed\": 5.0}, {\"movie id\": 197, \"movie title\": \"Graduate, The (1967)\", \"user id\": 312, \"deviation\": -0.13288952154268996, \"fit\": 3.86711047845731, \"fit/prediction\": 3.86711047845731, \"observed\": 4.0}, {\"movie id\": 197, \"movie title\": \"Graduate, The (1967)\", \"user id\": 328, \"deviation\": null, \"fit\": null, \"fit/prediction\": 5.177774262915057, \"observed\": null}, {\"movie id\": 197, \"movie title\": \"Graduate, The (1967)\", \"user id\": 339, \"deviation\": -0.29762697421166884, \"fit\": 4.702373025788331, \"fit/prediction\": 4.702373025788331, \"observed\": 5.0}, {\"movie id\": 197, \"movie title\": \"Graduate, The (1967)\", \"user id\": 387, \"deviation\": -0.00047055438009757644, \"fit\": 1.9995294456199024, \"fit/prediction\": 1.9995294456199024, \"observed\": 2.0}, {\"movie id\": 197, \"movie title\": \"Graduate, The (1967)\", \"user id\": 389, \"deviation\": 0.0017177029651236353, \"fit\": 5.001717702965124, \"fit/prediction\": 5.001717702965124, \"observed\": 5.0}, {\"movie id\": 197, \"movie title\": \"Graduate, The (1967)\", \"user id\": 650, \"deviation\": -0.3069741445069889, \"fit\": 3.693025855493011, \"fit/prediction\": 3.693025855493011, \"observed\": 4.0}, {\"movie id\": 197, \"movie title\": \"Graduate, The (1967)\", \"user id\": 716, \"deviation\": 0.6518296045595982, \"fit\": 5.651829604559598, \"fit/prediction\": 5.651829604559598, \"observed\": 5.0}, {\"movie id\": 197, \"movie title\": \"Graduate, The (1967)\", \"user id\": 727, \"deviation\": 0.10510101512704928, \"fit\": 3.1051010151270493, \"fit/prediction\": 3.1051010151270493, \"observed\": 3.0}, {\"movie id\": 197, \"movie title\": \"Graduate, The (1967)\", \"user id\": 883, \"deviation\": 0.05031657344736207, \"fit\": 4.050316573447362, \"fit/prediction\": 4.050316573447362, \"observed\": 4.0}, {\"movie id\": 185, \"movie title\": \"Psycho (1960)\", \"user id\": 1, \"deviation\": -0.06831680652877115, \"fit\": 3.931683193471229, \"fit/prediction\": 3.931683193471229, \"observed\": 4.0}, {\"movie id\": 185, \"movie title\": \"Psycho (1960)\", \"user id\": 85, \"deviation\": null, \"fit\": null, \"fit/prediction\": 3.4313752021188613, \"observed\": null}, {\"movie id\": 185, \"movie title\": \"Psycho (1960)\", \"user id\": 178, \"deviation\": null, \"fit\": null, \"fit/prediction\": 1.6819876207872797, \"observed\": null}, {\"movie id\": 185, \"movie title\": \"Psycho (1960)\", \"user id\": 269, \"deviation\": 0.0907702616221222, \"fit\": 5.090770261622122, \"fit/prediction\": 5.090770261622122, \"observed\": 5.0}, {\"movie id\": 185, \"movie title\": \"Psycho (1960)\", \"user id\": 271, \"deviation\": 0.09246122071729612, \"fit\": 3.092461220717296, \"fit/prediction\": 3.092461220717296, \"observed\": 3.0}, {\"movie id\": 185, \"movie title\": \"Psycho (1960)\", \"user id\": 299, \"deviation\": -0.09728541005270408, \"fit\": 2.902714589947296, \"fit/prediction\": 2.902714589947296, \"observed\": 3.0}, {\"movie id\": 185, \"movie title\": \"Psycho (1960)\", \"user id\": 301, \"deviation\": null, \"fit\": null, \"fit/prediction\": 5.729460032874957, \"observed\": null}, {\"movie id\": 185, \"movie title\": \"Psycho (1960)\", \"user id\": 312, \"deviation\": -0.2002564487183811, \"fit\": 4.799743551281619, \"fit/prediction\": 4.799743551281619, \"observed\": 5.0}, {\"movie id\": 185, \"movie title\": \"Psycho (1960)\", \"user id\": 328, \"deviation\": -0.1343215421098911, \"fit\": 3.865678457890109, \"fit/prediction\": 3.865678457890109, \"observed\": 4.0}, {\"movie id\": 185, \"movie title\": \"Psycho (1960)\", \"user id\": 339, \"deviation\": 0.05130000786263178, \"fit\": 4.051300007862632, \"fit/prediction\": 4.051300007862632, \"observed\": 4.0}, {\"movie id\": 185, \"movie title\": \"Psycho (1960)\", \"user id\": 387, \"deviation\": null, \"fit\": null, \"fit/prediction\": 2.0523662183641385, \"observed\": null}, {\"movie id\": 185, \"movie title\": \"Psycho (1960)\", \"user id\": 389, \"deviation\": -0.2703418669216511, \"fit\": 4.729658133078349, \"fit/prediction\": 4.729658133078349, \"observed\": 5.0}, {\"movie id\": 185, \"movie title\": \"Psycho (1960)\", \"user id\": 650, \"deviation\": -0.5793044041509443, \"fit\": 2.4206955958490557, \"fit/prediction\": 2.4206955958490557, \"observed\": 3.0}, {\"movie id\": 185, \"movie title\": \"Psycho (1960)\", \"user id\": 716, \"deviation\": 0.1048740066243612, \"fit\": 5.104874006624361, \"fit/prediction\": 5.104874006624361, \"observed\": 5.0}, {\"movie id\": 185, \"movie title\": \"Psycho (1960)\", \"user id\": 727, \"deviation\": null, \"fit\": null, \"fit/prediction\": 2.612604262041906, \"observed\": null}, {\"movie id\": 185, \"movie title\": \"Psycho (1960)\", \"user id\": 883, \"deviation\": 0.0806132518758016, \"fit\": 5.080613251875802, \"fit/prediction\": 5.080613251875802, \"observed\": 5.0}, {\"movie id\": 194, \"movie title\": \"Sting, The (1973)\", \"user id\": 1, \"deviation\": 0.1583647282560401, \"fit\": 4.15836472825604, \"fit/prediction\": 4.15836472825604, \"observed\": 4.0}, {\"movie id\": 194, \"movie title\": \"Sting, The (1973)\", \"user id\": 85, \"deviation\": -0.3223124678036826, \"fit\": 3.6776875321963174, \"fit/prediction\": 3.6776875321963174, \"observed\": 4.0}, {\"movie id\": 194, \"movie title\": \"Sting, The (1973)\", \"user id\": 178, \"deviation\": -0.37530330434491077, \"fit\": 3.6246966956550892, \"fit/prediction\": 3.6246966956550892, \"observed\": 4.0}, {\"movie id\": 194, \"movie title\": \"Sting, The (1973)\", \"user id\": 269, \"deviation\": -0.010117225939597851, \"fit\": 4.989882774060402, \"fit/prediction\": 4.989882774060402, \"observed\": 5.0}, {\"movie id\": 194, \"movie title\": \"Sting, The (1973)\", \"user id\": 271, \"deviation\": -0.46077770733280765, \"fit\": 4.539222292667192, \"fit/prediction\": 4.539222292667192, \"observed\": 5.0}, {\"movie id\": 194, \"movie title\": \"Sting, The (1973)\", \"user id\": 299, \"deviation\": -0.044888281572319944, \"fit\": 2.95511171842768, \"fit/prediction\": 2.95511171842768, \"observed\": 3.0}, {\"movie id\": 194, \"movie title\": \"Sting, The (1973)\", \"user id\": 301, \"deviation\": 0.01864978201762657, \"fit\": 4.018649782017627, \"fit/prediction\": 4.018649782017627, \"observed\": 4.0}, {\"movie id\": 194, \"movie title\": \"Sting, The (1973)\", \"user id\": 312, \"deviation\": 0.04688350515136808, \"fit\": 4.046883505151368, \"fit/prediction\": 4.046883505151368, \"observed\": 4.0}, {\"movie id\": 194, \"movie title\": \"Sting, The (1973)\", \"user id\": 328, \"deviation\": 0.091237361711205, \"fit\": 3.091237361711205, \"fit/prediction\": 3.091237361711205, \"observed\": 3.0}, {\"movie id\": 194, \"movie title\": \"Sting, The (1973)\", \"user id\": 339, \"deviation\": 0.6945559667520209, \"fit\": 4.694555966752021, \"fit/prediction\": 4.694555966752021, \"observed\": 4.0}, {\"movie id\": 194, \"movie title\": \"Sting, The (1973)\", \"user id\": 387, \"deviation\": 0.27270031227562086, \"fit\": 3.272700312275621, \"fit/prediction\": 3.272700312275621, \"observed\": 3.0}, {\"movie id\": 194, \"movie title\": \"Sting, The (1973)\", \"user id\": 389, \"deviation\": 0.19867521518163223, \"fit\": 4.198675215181632, \"fit/prediction\": 4.198675215181632, \"observed\": 4.0}, {\"movie id\": 194, \"movie title\": \"Sting, The (1973)\", \"user id\": 650, \"deviation\": -0.15978076860608237, \"fit\": 3.8402192313939176, \"fit/prediction\": 3.8402192313939176, \"observed\": 4.0}, {\"movie id\": 194, \"movie title\": \"Sting, The (1973)\", \"user id\": 716, \"deviation\": -0.3029051831552714, \"fit\": 4.697094816844729, \"fit/prediction\": 4.697094816844729, \"observed\": 5.0}, {\"movie id\": 194, \"movie title\": \"Sting, The (1973)\", \"user id\": 727, \"deviation\": null, \"fit\": null, \"fit/prediction\": 3.5514102823730704, \"observed\": null}, {\"movie id\": 194, \"movie title\": \"Sting, The (1973)\", \"user id\": 883, \"deviation\": -0.29720327299984506, \"fit\": 2.702796727000155, \"fit/prediction\": 2.702796727000155, \"observed\": 3.0}, {\"movie id\": 742, \"movie title\": \"Ransom (1996)\", \"user id\": 1, \"deviation\": null, \"fit\": null, \"fit/prediction\": 4.296414779345079, \"observed\": null}, {\"movie id\": 742, \"movie title\": \"Ransom (1996)\", \"user id\": 85, \"deviation\": null, \"fit\": null, \"fit/prediction\": 3.608514402906195, \"observed\": null}, {\"movie id\": 742, \"movie title\": \"Ransom (1996)\", \"user id\": 178, \"deviation\": -0.1497636534958291, \"fit\": 2.850236346504171, \"fit/prediction\": 2.850236346504171, \"observed\": 3.0}, {\"movie id\": 742, \"movie title\": \"Ransom (1996)\", \"user id\": 269, \"deviation\": null, \"fit\": null, \"fit/prediction\": 2.5634652363468065, \"observed\": null}, {\"movie id\": 742, \"movie title\": \"Ransom (1996)\", \"user id\": 271, \"deviation\": -0.4208386123234531, \"fit\": 2.579161387676547, \"fit/prediction\": 2.579161387676547, \"observed\": 3.0}, {\"movie id\": 742, \"movie title\": \"Ransom (1996)\", \"user id\": 299, \"deviation\": -0.20780780711063507, \"fit\": 3.792192192889365, \"fit/prediction\": 3.792192192889365, \"observed\": 4.0}, {\"movie id\": 742, \"movie title\": \"Ransom (1996)\", \"user id\": 301, \"deviation\": 0.09287877163155134, \"fit\": 4.092878771631551, \"fit/prediction\": 4.092878771631551, \"observed\": 4.0}, {\"movie id\": 742, \"movie title\": \"Ransom (1996)\", \"user id\": 312, \"deviation\": null, \"fit\": null, \"fit/prediction\": 0.7583140055736717, \"observed\": null}, {\"movie id\": 742, \"movie title\": \"Ransom (1996)\", \"user id\": 328, \"deviation\": 0.14597242540141764, \"fit\": 4.145972425401418, \"fit/prediction\": 4.145972425401418, \"observed\": 4.0}, {\"movie id\": 742, \"movie title\": \"Ransom (1996)\", \"user id\": 339, \"deviation\": null, \"fit\": null, \"fit/prediction\": 3.7105994473273194, \"observed\": null}, {\"movie id\": 742, \"movie title\": \"Ransom (1996)\", \"user id\": 387, \"deviation\": 0.42251872922428735, \"fit\": 2.4225187292242873, \"fit/prediction\": 2.4225187292242873, \"observed\": 2.0}, {\"movie id\": 742, \"movie title\": \"Ransom (1996)\", \"user id\": 389, \"deviation\": null, \"fit\": null, \"fit/prediction\": 3.700007194965326, \"observed\": null}, {\"movie id\": 742, \"movie title\": \"Ransom (1996)\", \"user id\": 650, \"deviation\": -0.09705000895256344, \"fit\": 2.9029499910474366, \"fit/prediction\": 2.9029499910474366, \"observed\": 3.0}, {\"movie id\": 742, \"movie title\": \"Ransom (1996)\", \"user id\": 716, \"deviation\": null, \"fit\": null, \"fit/prediction\": 4.402624345815644, \"observed\": null}, {\"movie id\": 742, \"movie title\": \"Ransom (1996)\", \"user id\": 727, \"deviation\": null, \"fit\": null, \"fit/prediction\": 2.697055406317629, \"observed\": null}, {\"movie id\": 742, \"movie title\": \"Ransom (1996)\", \"user id\": 883, \"deviation\": null, \"fit\": null, \"fit/prediction\": 2.4965640560947135, \"observed\": null}, {\"movie id\": 82, \"movie title\": \"Jurassic Park (1993)\", \"user id\": 1, \"deviation\": 0.24568275285746122, \"fit\": 5.245682752857461, \"fit/prediction\": 5.245682752857461, \"observed\": 5.0}, {\"movie id\": 82, \"movie title\": \"Jurassic Park (1993)\", \"user id\": 85, \"deviation\": -0.12184260018859439, \"fit\": 2.8781573998114056, \"fit/prediction\": 2.8781573998114056, \"observed\": 3.0}, {\"movie id\": 82, \"movie title\": \"Jurassic Park (1993)\", \"user id\": 178, \"deviation\": -0.3011415641555564, \"fit\": 4.698858435844444, \"fit/prediction\": 4.698858435844444, \"observed\": 5.0}, {\"movie id\": 82, \"movie title\": \"Jurassic Park (1993)\", \"user id\": 269, \"deviation\": -0.016102829679839115, \"fit\": 1.9838971703201609, \"fit/prediction\": 1.9838971703201609, \"observed\": 2.0}, {\"movie id\": 82, \"movie title\": \"Jurassic Park (1993)\", \"user id\": 271, \"deviation\": null, \"fit\": null, \"fit/prediction\": 2.056242525664001, \"observed\": null}, {\"movie id\": 82, \"movie title\": \"Jurassic Park (1993)\", \"user id\": 299, \"deviation\": null, \"fit\": null, \"fit/prediction\": 6.520174215481116, \"observed\": null}, {\"movie id\": 82, \"movie title\": \"Jurassic Park (1993)\", \"user id\": 301, \"deviation\": 0.027922908090703302, \"fit\": 5.027922908090703, \"fit/prediction\": 5.027922908090703, \"observed\": 5.0}, {\"movie id\": 82, \"movie title\": \"Jurassic Park (1993)\", \"user id\": 312, \"deviation\": null, \"fit\": null, \"fit/prediction\": -1.206767175869013, \"observed\": null}, {\"movie id\": 82, \"movie title\": \"Jurassic Park (1993)\", \"user id\": 328, \"deviation\": -0.0011587783569844134, \"fit\": 3.9988412216430156, \"fit/prediction\": 3.9988412216430156, \"observed\": 4.0}, {\"movie id\": 82, \"movie title\": \"Jurassic Park (1993)\", \"user id\": 339, \"deviation\": 0.2683860026733944, \"fit\": 4.268386002673394, \"fit/prediction\": 4.268386002673394, \"observed\": 4.0}, {\"movie id\": 82, \"movie title\": \"Jurassic Park (1993)\", \"user id\": 387, \"deviation\": 0.2866713705028445, \"fit\": 4.2866713705028445, \"fit/prediction\": 4.2866713705028445, \"observed\": 4.0}, {\"movie id\": 82, \"movie title\": \"Jurassic Park (1993)\", \"user id\": 389, \"deviation\": 0.14987886618722612, \"fit\": 4.149878866187226, \"fit/prediction\": 4.149878866187226, \"observed\": 4.0}, {\"movie id\": 82, \"movie title\": \"Jurassic Park (1993)\", \"user id\": 650, \"deviation\": -0.01715722518764551, \"fit\": 2.9828427748123545, \"fit/prediction\": 2.9828427748123545, \"observed\": 3.0}, {\"movie id\": 82, \"movie title\": \"Jurassic Park (1993)\", \"user id\": 716, \"deviation\": -0.06525969239575957, \"fit\": 4.93474030760424, \"fit/prediction\": 4.93474030760424, \"observed\": 5.0}, {\"movie id\": 82, \"movie title\": \"Jurassic Park (1993)\", \"user id\": 727, \"deviation\": 0.2136213432123073, \"fit\": 3.2136213432123073, \"fit/prediction\": 3.2136213432123073, \"observed\": 3.0}, {\"movie id\": 82, \"movie title\": \"Jurassic Park (1993)\", \"user id\": 883, \"deviation\": -0.1509404834022412, \"fit\": 2.849059516597759, \"fit/prediction\": 2.849059516597759, \"observed\": 3.0}, {\"movie id\": 97, \"movie title\": \"Dances with Wolves (1990)\", \"user id\": 1, \"deviation\": 0.5297038618561816, \"fit\": 3.5297038618561816, \"fit/prediction\": 3.5297038618561816, \"observed\": 3.0}, {\"movie id\": 97, \"movie title\": \"Dances with Wolves (1990)\", \"user id\": 85, \"deviation\": 0.04708724205791759, \"fit\": 2.0470872420579176, \"fit/prediction\": 2.0470872420579176, \"observed\": 2.0}, {\"movie id\": 97, \"movie title\": \"Dances with Wolves (1990)\", \"user id\": 178, \"deviation\": -0.21363001936262727, \"fit\": 4.786369980637373, \"fit/prediction\": 4.786369980637373, \"observed\": 5.0}, {\"movie id\": 97, \"movie title\": \"Dances with Wolves (1990)\", \"user id\": 269, \"deviation\": null, \"fit\": null, \"fit/prediction\": 3.271573349722914, \"observed\": null}, {\"movie id\": 97, \"movie title\": \"Dances with Wolves (1990)\", \"user id\": 271, \"deviation\": -0.7792710243243581, \"fit\": 4.220728975675642, \"fit/prediction\": 4.220728975675642, \"observed\": 5.0}, {\"movie id\": 97, \"movie title\": \"Dances with Wolves (1990)\", \"user id\": 299, \"deviation\": -0.8741369028706085, \"fit\": 3.1258630971293915, \"fit/prediction\": 3.1258630971293915, \"observed\": 4.0}, {\"movie id\": 97, \"movie title\": \"Dances with Wolves (1990)\", \"user id\": 301, \"deviation\": 0.4768999261377367, \"fit\": 4.476899926137737, \"fit/prediction\": 4.476899926137737, \"observed\": 4.0}, {\"movie id\": 97, \"movie title\": \"Dances with Wolves (1990)\", \"user id\": 312, \"deviation\": -0.042000000253608505, \"fit\": 4.9579999997463915, \"fit/prediction\": 4.9579999997463915, \"observed\": 5.0}, {\"movie id\": 97, \"movie title\": \"Dances with Wolves (1990)\", \"user id\": 328, \"deviation\": -0.050692561115721624, \"fit\": 2.9493074388842784, \"fit/prediction\": 2.9493074388842784, \"observed\": 3.0}, {\"movie id\": 97, \"movie title\": \"Dances with Wolves (1990)\", \"user id\": 339, \"deviation\": 0.0493926987661677, \"fit\": 4.049392698766168, \"fit/prediction\": 4.049392698766168, \"observed\": 4.0}, {\"movie id\": 97, \"movie title\": \"Dances with Wolves (1990)\", \"user id\": 387, \"deviation\": 0.7224189778444408, \"fit\": 2.7224189778444408, \"fit/prediction\": 2.7224189778444408, \"observed\": 2.0}, {\"movie id\": 97, \"movie title\": \"Dances with Wolves (1990)\", \"user id\": 389, \"deviation\": null, \"fit\": null, \"fit/prediction\": 1.8721098293627205, \"observed\": null}, {\"movie id\": 97, \"movie title\": \"Dances with Wolves (1990)\", \"user id\": 650, \"deviation\": 0.2153832247664984, \"fit\": 3.2153832247664984, \"fit/prediction\": 3.2153832247664984, \"observed\": 3.0}, {\"movie id\": 97, \"movie title\": \"Dances with Wolves (1990)\", \"user id\": 716, \"deviation\": -0.46806937009470984, \"fit\": 3.53193062990529, \"fit/prediction\": 3.53193062990529, \"observed\": 4.0}, {\"movie id\": 97, \"movie title\": \"Dances with Wolves (1990)\", \"user id\": 727, \"deviation\": null, \"fit\": null, \"fit/prediction\": 5.797818464481497, \"observed\": null}, {\"movie id\": 97, \"movie title\": \"Dances with Wolves (1990)\", \"user id\": 883, \"deviation\": null, \"fit\": null, \"fit/prediction\": -1.063422222754925, \"observed\": null}, {\"movie id\": 475, \"movie title\": \"Trainspotting (1996)\", \"user id\": 1, \"deviation\": null, \"fit\": null, \"fit/prediction\": 4.689098724469249, \"observed\": null}, {\"movie id\": 475, \"movie title\": \"Trainspotting (1996)\", \"user id\": 85, \"deviation\": null, \"fit\": null, \"fit/prediction\": 4.263120043834037, \"observed\": null}, {\"movie id\": 475, \"movie title\": \"Trainspotting (1996)\", \"user id\": 178, \"deviation\": null, \"fit\": null, \"fit/prediction\": 3.2818208309760886, \"observed\": null}, {\"movie id\": 475, \"movie title\": \"Trainspotting (1996)\", \"user id\": 269, \"deviation\": 0.09758180097925617, \"fit\": 5.097581800979256, \"fit/prediction\": 5.097581800979256, \"observed\": 5.0}, {\"movie id\": 475, \"movie title\": \"Trainspotting (1996)\", \"user id\": 271, \"deviation\": null, \"fit\": null, \"fit/prediction\": 4.184561169145859, \"observed\": null}, {\"movie id\": 475, \"movie title\": \"Trainspotting (1996)\", \"user id\": 299, \"deviation\": -0.43905853368486447, \"fit\": 3.5609414663151355, \"fit/prediction\": 3.5609414663151355, \"observed\": 4.0}, {\"movie id\": 475, \"movie title\": \"Trainspotting (1996)\", \"user id\": 301, \"deviation\": null, \"fit\": null, \"fit/prediction\": 4.338931277277716, \"observed\": null}, {\"movie id\": 475, \"movie title\": \"Trainspotting (1996)\", \"user id\": 312, \"deviation\": null, \"fit\": null, \"fit/prediction\": 2.955272013263586, \"observed\": null}, {\"movie id\": 475, \"movie title\": \"Trainspotting (1996)\", \"user id\": 328, \"deviation\": null, \"fit\": null, \"fit/prediction\": 3.6172572522891366, \"observed\": null}, {\"movie id\": 475, \"movie title\": \"Trainspotting (1996)\", \"user id\": 339, \"deviation\": -0.11184503017924108, \"fit\": 4.888154969820759, \"fit/prediction\": 4.888154969820759, \"observed\": 5.0}, {\"movie id\": 475, \"movie title\": \"Trainspotting (1996)\", \"user id\": 387, \"deviation\": 0.492438243487447, \"fit\": 3.492438243487447, \"fit/prediction\": 3.492438243487447, \"observed\": 3.0}, {\"movie id\": 475, \"movie title\": \"Trainspotting (1996)\", \"user id\": 389, \"deviation\": 0.10822343190038453, \"fit\": 5.1082234319003845, \"fit/prediction\": 5.1082234319003845, \"observed\": 5.0}, {\"movie id\": 475, \"movie title\": \"Trainspotting (1996)\", \"user id\": 650, \"deviation\": null, \"fit\": null, \"fit/prediction\": 3.8812931100370416, \"observed\": null}, {\"movie id\": 475, \"movie title\": \"Trainspotting (1996)\", \"user id\": 716, \"deviation\": null, \"fit\": null, \"fit/prediction\": 5.318090912332215, \"observed\": null}, {\"movie id\": 475, \"movie title\": \"Trainspotting (1996)\", \"user id\": 727, \"deviation\": null, \"fit\": null, \"fit/prediction\": 2.7800151536690016, \"observed\": null}, {\"movie id\": 475, \"movie title\": \"Trainspotting (1996)\", \"user id\": 883, \"deviation\": null, \"fit\": null, \"fit/prediction\": 4.206351860292665, \"observed\": null}, {\"movie id\": 268, \"movie title\": \"Chasing Amy (1997)\", \"user id\": 1, \"deviation\": 0.23853964692508978, \"fit\": 5.23853964692509, \"fit/prediction\": 5.23853964692509, \"observed\": 5.0}, {\"movie id\": 268, \"movie title\": \"Chasing Amy (1997)\", \"user id\": 85, \"deviation\": 0.2147941201853616, \"fit\": 4.214794120185362, \"fit/prediction\": 4.214794120185362, \"observed\": 4.0}, {\"movie id\": 268, \"movie title\": \"Chasing Amy (1997)\", \"user id\": 178, \"deviation\": -0.048258832599881174, \"fit\": 3.951741167400119, \"fit/prediction\": 3.951741167400119, \"observed\": 4.0}, {\"movie id\": 268, \"movie title\": \"Chasing Amy (1997)\", \"user id\": 269, \"deviation\": 0.14509544771248173, \"fit\": 5.145095447712482, \"fit/prediction\": 5.145095447712482, \"observed\": 5.0}, {\"movie id\": 268, \"movie title\": \"Chasing Amy (1997)\", \"user id\": 271, \"deviation\": null, \"fit\": null, \"fit/prediction\": 4.360700081181831, \"observed\": null}, {\"movie id\": 268, \"movie title\": \"Chasing Amy (1997)\", \"user id\": 299, \"deviation\": null, \"fit\": null, \"fit/prediction\": 4.37501322719863, \"observed\": null}, {\"movie id\": 268, \"movie title\": \"Chasing Amy (1997)\", \"user id\": 301, \"deviation\": null, \"fit\": null, \"fit/prediction\": 5.850501140985136, \"observed\": null}, {\"movie id\": 268, \"movie title\": \"Chasing Amy (1997)\", \"user id\": 312, \"deviation\": null, \"fit\": null, \"fit/prediction\": 3.9911944635678984, \"observed\": null}, {\"movie id\": 268, \"movie title\": \"Chasing Amy (1997)\", \"user id\": 328, \"deviation\": null, \"fit\": null, \"fit/prediction\": 4.493656579788844, \"observed\": null}, {\"movie id\": 268, \"movie title\": \"Chasing Amy (1997)\", \"user id\": 339, \"deviation\": null, \"fit\": null, \"fit/prediction\": 5.303188512039847, \"observed\": null}, {\"movie id\": 268, \"movie title\": \"Chasing Amy (1997)\", \"user id\": 387, \"deviation\": 0.5516820845274628, \"fit\": 3.551682084527463, \"fit/prediction\": 3.551682084527463, \"observed\": 3.0}, {\"movie id\": 268, \"movie title\": \"Chasing Amy (1997)\", \"user id\": 389, \"deviation\": null, \"fit\": null, \"fit/prediction\": 5.072464687807681, \"observed\": null}, {\"movie id\": 268, \"movie title\": \"Chasing Amy (1997)\", \"user id\": 650, \"deviation\": null, \"fit\": null, \"fit/prediction\": 3.9101519728321494, \"observed\": null}, {\"movie id\": 268, \"movie title\": \"Chasing Amy (1997)\", \"user id\": 716, \"deviation\": null, \"fit\": null, \"fit/prediction\": 5.867561744180668, \"observed\": null}, {\"movie id\": 268, \"movie title\": \"Chasing Amy (1997)\", \"user id\": 727, \"deviation\": 0.12941077455668637, \"fit\": 4.129410774556686, \"fit/prediction\": 4.129410774556686, \"observed\": 4.0}, {\"movie id\": 268, \"movie title\": \"Chasing Amy (1997)\", \"user id\": 883, \"deviation\": null, \"fit\": null, \"fit/prediction\": 3.787317128936839, \"observed\": null}, {\"movie id\": 186, \"movie title\": \"Blues Brothers, The (1980)\", \"user id\": 1, \"deviation\": -0.06399813110418551, \"fit\": 3.9360018688958145, \"fit/prediction\": 3.9360018688958145, \"observed\": 4.0}, {\"movie id\": 186, \"movie title\": \"Blues Brothers, The (1980)\", \"user id\": 85, \"deviation\": 0.13949462672782387, \"fit\": 3.139494626727824, \"fit/prediction\": 3.139494626727824, \"observed\": 3.0}, {\"movie id\": 186, \"movie title\": \"Blues Brothers, The (1980)\", \"user id\": 178, \"deviation\": null, \"fit\": null, \"fit/prediction\": 4.294956398539978, \"observed\": null}, {\"movie id\": 186, \"movie title\": \"Blues Brothers, The (1980)\", \"user id\": 269, \"deviation\": 0.28715050020521327, \"fit\": 2.2871505002052133, \"fit/prediction\": 2.2871505002052133, \"observed\": 2.0}, {\"movie id\": 186, \"movie title\": \"Blues Brothers, The (1980)\", \"user id\": 271, \"deviation\": -0.08815036849650415, \"fit\": 3.911849631503496, \"fit/prediction\": 3.911849631503496, \"observed\": 4.0}, {\"movie id\": 186, \"movie title\": \"Blues Brothers, The (1980)\", \"user id\": 299, \"deviation\": 0.012370563149815439, \"fit\": 3.0123705631498154, \"fit/prediction\": 3.0123705631498154, \"observed\": 3.0}, {\"movie id\": 186, \"movie title\": \"Blues Brothers, The (1980)\", \"user id\": 301, \"deviation\": -0.16774711420643262, \"fit\": 3.8322528857935674, \"fit/prediction\": 3.8322528857935674, \"observed\": 4.0}, {\"movie id\": 186, \"movie title\": \"Blues Brothers, The (1980)\", \"user id\": 312, \"deviation\": -0.05921957254048804, \"fit\": 2.940780427459512, \"fit/prediction\": 2.940780427459512, \"observed\": 3.0}, {\"movie id\": 186, \"movie title\": \"Blues Brothers, The (1980)\", \"user id\": 328, \"deviation\": 0.0010885689459732006, \"fit\": 4.001088568945973, \"fit/prediction\": 4.001088568945973, \"observed\": 4.0}, {\"movie id\": 186, \"movie title\": \"Blues Brothers, The (1980)\", \"user id\": 339, \"deviation\": -0.11683803500256396, \"fit\": 3.883161964997436, \"fit/prediction\": 3.883161964997436, \"observed\": 4.0}, {\"movie id\": 186, \"movie title\": \"Blues Brothers, The (1980)\", \"user id\": 387, \"deviation\": 0.16076093720492768, \"fit\": 2.1607609372049277, \"fit/prediction\": 2.1607609372049277, \"observed\": 2.0}, {\"movie id\": 186, \"movie title\": \"Blues Brothers, The (1980)\", \"user id\": 389, \"deviation\": -0.028811851680675016, \"fit\": 1.971188148319325, \"fit/prediction\": 1.971188148319325, \"observed\": 2.0}, {\"movie id\": 186, \"movie title\": \"Blues Brothers, The (1980)\", \"user id\": 650, \"deviation\": -0.4979463444439194, \"fit\": 3.5020536555560806, \"fit/prediction\": 3.5020536555560806, \"observed\": 4.0}, {\"movie id\": 186, \"movie title\": \"Blues Brothers, The (1980)\", \"user id\": 716, \"deviation\": 0.6545906358760201, \"fit\": 3.65459063587602, \"fit/prediction\": 3.65459063587602, \"observed\": 3.0}, {\"movie id\": 186, \"movie title\": \"Blues Brothers, The (1980)\", \"user id\": 727, \"deviation\": 0.18739907947408962, \"fit\": 5.18739907947409, \"fit/prediction\": 5.18739907947409, \"observed\": 5.0}, {\"movie id\": 186, \"movie title\": \"Blues Brothers, The (1980)\", \"user id\": 883, \"deviation\": null, \"fit\": null, \"fit/prediction\": -1.3021025462785205, \"observed\": null}, {\"movie id\": 496, \"movie title\": \"It's a Wonderful Life (1946)\", \"user id\": 1, \"deviation\": null, \"fit\": null, \"fit/prediction\": 4.5442720422408645, \"observed\": null}, {\"movie id\": 496, \"movie title\": \"It's a Wonderful Life (1946)\", \"user id\": 85, \"deviation\": -0.019642659870245716, \"fit\": 3.9803573401297543, \"fit/prediction\": 3.9803573401297543, \"observed\": 4.0}, {\"movie id\": 496, \"movie title\": \"It's a Wonderful Life (1946)\", \"user id\": 178, \"deviation\": null, \"fit\": null, \"fit/prediction\": 3.9495054804018626, \"observed\": null}, {\"movie id\": 496, \"movie title\": \"It's a Wonderful Life (1946)\", \"user id\": 269, \"deviation\": 0.008971698246993398, \"fit\": 5.008971698246993, \"fit/prediction\": 5.008971698246993, \"observed\": 5.0}, {\"movie id\": 496, \"movie title\": \"It's a Wonderful Life (1946)\", \"user id\": 271, \"deviation\": -0.10202491905436162, \"fit\": 4.897975080945638, \"fit/prediction\": 4.897975080945638, \"observed\": 5.0}, {\"movie id\": 496, \"movie title\": \"It's a Wonderful Life (1946)\", \"user id\": 299, \"deviation\": 0.11447244075848229, \"fit\": 3.1144724407584823, \"fit/prediction\": 3.1144724407584823, \"observed\": 3.0}, {\"movie id\": 496, \"movie title\": \"It's a Wonderful Life (1946)\", \"user id\": 301, \"deviation\": -0.06766623306640529, \"fit\": 4.932333766933595, \"fit/prediction\": 4.932333766933595, \"observed\": 5.0}, {\"movie id\": 496, \"movie title\": \"It's a Wonderful Life (1946)\", \"user id\": 312, \"deviation\": 0.012852476503647736, \"fit\": 5.012852476503648, \"fit/prediction\": 5.012852476503648, \"observed\": 5.0}, {\"movie id\": 496, \"movie title\": \"It's a Wonderful Life (1946)\", \"user id\": 328, \"deviation\": null, \"fit\": null, \"fit/prediction\": 3.9971035845132397, \"observed\": null}, {\"movie id\": 496, \"movie title\": \"It's a Wonderful Life (1946)\", \"user id\": 339, \"deviation\": -0.005747294128194191, \"fit\": 4.994252705871806, \"fit/prediction\": 4.994252705871806, \"observed\": 5.0}, {\"movie id\": 496, \"movie title\": \"It's a Wonderful Life (1946)\", \"user id\": 387, \"deviation\": -0.02353996020998439, \"fit\": 2.9764600397900156, \"fit/prediction\": 2.9764600397900156, \"observed\": 3.0}, {\"movie id\": 496, \"movie title\": \"It's a Wonderful Life (1946)\", \"user id\": 389, \"deviation\": 0.05432416044835353, \"fit\": 4.0543241604483535, \"fit/prediction\": 4.0543241604483535, \"observed\": 4.0}, {\"movie id\": 496, \"movie title\": \"It's a Wonderful Life (1946)\", \"user id\": 650, \"deviation\": 0.02921529140177892, \"fit\": 4.029215291401779, \"fit/prediction\": 4.029215291401779, \"observed\": 4.0}, {\"movie id\": 496, \"movie title\": \"It's a Wonderful Life (1946)\", \"user id\": 716, \"deviation\": 0.07142333648921273, \"fit\": 5.071423336489213, \"fit/prediction\": 5.071423336489213, \"observed\": 5.0}, {\"movie id\": 496, \"movie title\": \"It's a Wonderful Life (1946)\", \"user id\": 727, \"deviation\": null, \"fit\": null, \"fit/prediction\": 4.645768089739887, \"observed\": null}, {\"movie id\": 496, \"movie title\": \"It's a Wonderful Life (1946)\", \"user id\": 883, \"deviation\": 0.01945406075832823, \"fit\": 2.0194540607583282, \"fit/prediction\": 2.0194540607583282, \"observed\": 2.0}, {\"movie id\": 111, \"movie title\": \"Truth About Cats & Dogs, The (1996)\", \"user id\": 1, \"deviation\": 0.00012273694268127855, \"fit\": 5.000122736942681, \"fit/prediction\": 5.000122736942681, \"observed\": 5.0}, {\"movie id\": 111, \"movie title\": \"Truth About Cats & Dogs, The (1996)\", \"user id\": 85, \"deviation\": null, \"fit\": null, \"fit/prediction\": 5.795204697889663, \"observed\": null}, {\"movie id\": 111, \"movie title\": \"Truth About Cats & Dogs, The (1996)\", \"user id\": 178, \"deviation\": 0.00013435617606649686, \"fit\": 4.0001343561760665, \"fit/prediction\": 4.0001343561760665, \"observed\": 4.0}, {\"movie id\": 111, \"movie title\": \"Truth About Cats & Dogs, The (1996)\", \"user id\": 269, \"deviation\": -3.820736994841756e-05, \"fit\": 0.9999617926300516, \"fit/prediction\": 0.9999617926300516, \"observed\": 1.0}, {\"movie id\": 111, \"movie title\": \"Truth About Cats & Dogs, The (1996)\", \"user id\": 271, \"deviation\": 0.00013964463137661198, \"fit\": 4.000139644631377, \"fit/prediction\": 4.000139644631377, \"observed\": 4.0}, {\"movie id\": 111, \"movie title\": \"Truth About Cats & Dogs, The (1996)\", \"user id\": 299, \"deviation\": -9.841152244316476e-05, \"fit\": 2.999901588477557, \"fit/prediction\": 2.999901588477557, \"observed\": 3.0}, {\"movie id\": 111, \"movie title\": \"Truth About Cats & Dogs, The (1996)\", \"user id\": 301, \"deviation\": 3.793488507586318e-05, \"fit\": 1.0000379348850759, \"fit/prediction\": 1.0000379348850759, \"observed\": 1.0}, {\"movie id\": 111, \"movie title\": \"Truth About Cats & Dogs, The (1996)\", \"user id\": 312, \"deviation\": null, \"fit\": null, \"fit/prediction\": -2.562217798236343, \"observed\": null}, {\"movie id\": 111, \"movie title\": \"Truth About Cats & Dogs, The (1996)\", \"user id\": 328, \"deviation\": null, \"fit\": null, \"fit/prediction\": 5.071844882246093, \"observed\": null}, {\"movie id\": 111, \"movie title\": \"Truth About Cats & Dogs, The (1996)\", \"user id\": 339, \"deviation\": null, \"fit\": null, \"fit/prediction\": 4.0987563064743675, \"observed\": null}, {\"movie id\": 111, \"movie title\": \"Truth About Cats & Dogs, The (1996)\", \"user id\": 387, \"deviation\": null, \"fit\": null, \"fit/prediction\": 2.4290932514087986, \"observed\": null}, {\"movie id\": 111, \"movie title\": \"Truth About Cats & Dogs, The (1996)\", \"user id\": 389, \"deviation\": -5.2706408292912954e-05, \"fit\": 2.999947293591707, \"fit/prediction\": 2.999947293591707, \"observed\": 3.0}, {\"movie id\": 111, \"movie title\": \"Truth About Cats & Dogs, The (1996)\", \"user id\": 650, \"deviation\": null, \"fit\": null, \"fit/prediction\": 5.022816386915323, \"observed\": null}, {\"movie id\": 111, \"movie title\": \"Truth About Cats & Dogs, The (1996)\", \"user id\": 716, \"deviation\": -6.335511785238168e-05, \"fit\": 3.9999366448821476, \"fit/prediction\": 3.9999366448821476, \"observed\": 4.0}, {\"movie id\": 111, \"movie title\": \"Truth About Cats & Dogs, The (1996)\", \"user id\": 727, \"deviation\": -0.0001515044346969141, \"fit\": 2.999848495565303, \"fit/prediction\": 2.999848495565303, \"observed\": 3.0}, {\"movie id\": 111, \"movie title\": \"Truth About Cats & Dogs, The (1996)\", \"user id\": 883, \"deviation\": null, \"fit\": null, \"fit/prediction\": -1.0416862379107246, \"observed\": null}]}}, {\"mode\": \"vega-lite\"});\n",
       "</script>"
      ],
      "text/plain": [
       "alt.HConcatChart(...)"
      ]
     },
     "execution_count": 12,
     "metadata": {},
     "output_type": "execute_result"
    }
   ],
   "source": [
    "nearest = alt.selection(type='single', nearest=True, on='mouseover', empty='none') \n",
    "\n",
    "selectors = base.mark_square(filled=False, size=350).encode(\n",
    "    x='user id:O',\n",
    "    y='movie title:O',\n",
    "    color=alt.value('black'),\n",
    "    opacity=alt.condition(nearest, alt.value(1), alt.value(0))\n",
    ").add_selection(\n",
    "    nearest\n",
    ")\n",
    "\n",
    "alt.hconcat(\n",
    "    alt.layer(f_all.encode(color=alt.Color('fit/prediction:Q', legend=None, scale=alt.Scale(scheme='yellowgreenblue', domain=[1, 5]))),\n",
    "              selectors),\n",
    "    alt.layer(f_raw.encode(y=alt.Y('movie title:O', axis=alt.Axis(labels=False))),\n",
    "              selectors),\n",
    ").resolve_scale(color='independent')"
   ]
  },
  {
   "cell_type": "markdown",
   "metadata": {
    "slideshow": {
     "slide_type": "subslide"
    }
   },
   "source": [
    "## Recommendation: User id 85\n",
    "\n",
    "| **Watched** | **Recommend** | **Recommend** |\n",
    "| :-: | :-: | :-: | \n",
    "| **5 (observed) / 5.5 (fit/prediction)** | **5.8 (fit/prediction)** | **4.3 (fit/prediction)** |\n",
    "| ![https://www.imdb.com/title/tt0032138/](https://m.media-amazon.com/images/M/MV5BNjUyMTc4MDExMV5BMl5BanBnXkFtZTgwNDg0NDIwMjE@._V1_SY1000_CR0,0,670,1000_AL_.jpg) | ![https://www.imdb.com/title/tt0117979/](https://m.media-amazon.com/images/M/MV5BOWM0MTA4NjItMzM3ZS00NDJmLTg3NWItNGE5ODIyOGJhNzQ0L2ltYWdlL2ltYWdlXkEyXkFqcGdeQXVyMTQxNzMzNDI@._V1_SY1000_CR0,0,666,1000_AL_.jpg) | ![https://www.imdb.com/title/tt0117951/](https://m.media-amazon.com/images/M/MV5BMzA5Zjc3ZTMtMmU5YS00YTMwLWI4MWUtYTU0YTVmNjVmODZhXkEyXkFqcGdeQXVyNjU0OTQ0OTY@._V1_SY1000_SX675_AL_.jpg) |\n",
    "| *The Wizard of Oz (1939)* | *Truth About Cats & Dogs (1996)* | *Trainspotting (1996)*"
   ]
  },
  {
   "cell_type": "markdown",
   "metadata": {
    "slideshow": {
     "slide_type": "subslide"
    }
   },
   "source": [
    "## Recommendation: User id 727\n",
    "\n",
    "| **Watched** | **Recommend** | **Recommend** |\n",
    "| :-: | :-: |  :-: | \n",
    "| **5 (observed) / 5.2 (fit/prediction)** | **5.8 (fit/prediction)** | **4.6 (fit/prediction)** |\n",
    "| ![https://www.imdb.com/title/tt0080455/](https://m.media-amazon.com/images/M/MV5BYTdlMDExOGUtN2I3MS00MjY5LWE1NTAtYzc3MzIxN2M3OWY1XkEyXkFqcGdeQXVyNzkwMjQ5NzM@._V1_.jpg) | ![https://www.imdb.com/title/tt0099348/](https://m.media-amazon.com/images/M/MV5BMTY3OTI5NDczN15BMl5BanBnXkFtZTcwNDA0NDY3Mw@@._V1_SY1000_CR0,0,666,1000_AL_.jpg) | ![https://www.imdb.com/title/tt0038650/](https://m.media-amazon.com/images/M/MV5BZjc4NDZhZWMtNGEzYS00ZWU2LThlM2ItNTA0YzQ0OTExMTE2XkEyXkFqcGdeQXVyNjUwMzI2NzU@._V1_SY1000_CR0,0,687,1000_AL_.jpg) |\n",
    "| *The Blues Brothers (1980)* | *Dances with Wolves (1990)* | *It's a Wonderful Life (1946)* |\n"
   ]
  },
  {
   "cell_type": "code",
   "execution_count": 13,
   "metadata": {
    "slideshow": {
     "slide_type": "subslide"
    }
   },
   "outputs": [
    {
     "data": {
      "text/html": [
       "\n",
       "<div id=\"altair-viz-7653d183fcef47bdbc51d0cd17281a2f\"></div>\n",
       "<script type=\"text/javascript\">\n",
       "  (function(spec, embedOpt){\n",
       "    let outputDiv = document.currentScript.previousElementSibling;\n",
       "    if (outputDiv.id !== \"altair-viz-7653d183fcef47bdbc51d0cd17281a2f\") {\n",
       "      outputDiv = document.getElementById(\"altair-viz-7653d183fcef47bdbc51d0cd17281a2f\");\n",
       "    }\n",
       "    const paths = {\n",
       "      \"vega\": \"https://cdn.jsdelivr.net/npm//vega@5?noext\",\n",
       "      \"vega-lib\": \"https://cdn.jsdelivr.net/npm//vega-lib?noext\",\n",
       "      \"vega-lite\": \"https://cdn.jsdelivr.net/npm//vega-lite@4.8.1?noext\",\n",
       "      \"vega-embed\": \"https://cdn.jsdelivr.net/npm//vega-embed@6?noext\",\n",
       "    };\n",
       "\n",
       "    function loadScript(lib) {\n",
       "      return new Promise(function(resolve, reject) {\n",
       "        var s = document.createElement('script');\n",
       "        s.src = paths[lib];\n",
       "        s.async = true;\n",
       "        s.onload = () => resolve(paths[lib]);\n",
       "        s.onerror = () => reject(`Error loading script: ${paths[lib]}`);\n",
       "        document.getElementsByTagName(\"head\")[0].appendChild(s);\n",
       "      });\n",
       "    }\n",
       "\n",
       "    function showError(err) {\n",
       "      outputDiv.innerHTML = `<div class=\"error\" style=\"color:red;\">${err}</div>`;\n",
       "      throw err;\n",
       "    }\n",
       "\n",
       "    function displayChart(vegaEmbed) {\n",
       "      vegaEmbed(outputDiv, spec, embedOpt)\n",
       "        .catch(err => showError(`Javascript Error: ${err.message}<br>This usually means there's a typo in your chart specification. See the javascript console for the full traceback.`));\n",
       "    }\n",
       "\n",
       "    if(typeof define === \"function\" && define.amd) {\n",
       "      requirejs.config({paths});\n",
       "      require([\"vega-embed\"], displayChart, err => showError(`Error loading script: ${err.message}`));\n",
       "    } else if (typeof vegaEmbed === \"function\") {\n",
       "      displayChart(vegaEmbed);\n",
       "    } else {\n",
       "      loadScript(\"vega\")\n",
       "        .then(() => loadScript(\"vega-lite\"))\n",
       "        .then(() => loadScript(\"vega-embed\"))\n",
       "        .catch(showError)\n",
       "        .then(() => displayChart(vegaEmbed));\n",
       "    }\n",
       "  })({\"config\": {\"view\": {\"continuousWidth\": 400, \"continuousHeight\": 300}}, \"hconcat\": [{\"layer\": [{\"mark\": \"rect\", \"encoding\": {\"color\": {\"type\": \"quantitative\", \"field\": \"fit/prediction\", \"legend\": null, \"scale\": {\"domain\": [1, 5], \"scheme\": \"yellowgreenblue\"}}, \"tooltip\": [{\"type\": \"quantitative\", \"field\": \"user id\"}, {\"type\": \"nominal\", \"field\": \"movie title\"}, {\"type\": \"quantitative\", \"field\": \"fit/prediction\"}, {\"type\": \"quantitative\", \"field\": \"observed\"}, {\"type\": \"quantitative\", \"field\": \"deviation\"}], \"x\": {\"type\": \"ordinal\", \"field\": \"user id\"}, \"y\": {\"type\": \"ordinal\", \"field\": \"movie title\"}}, \"title\": \"Ratings Fit and Predictions\"}, {\"mark\": {\"type\": \"square\", \"filled\": false, \"size\": 350}, \"encoding\": {\"color\": {\"value\": \"black\"}, \"opacity\": {\"condition\": {\"value\": 1, \"selection\": \"selector002\"}, \"value\": 0}, \"tooltip\": [{\"type\": \"quantitative\", \"field\": \"user id\"}, {\"type\": \"nominal\", \"field\": \"movie title\"}, {\"type\": \"quantitative\", \"field\": \"fit/prediction\"}, {\"type\": \"quantitative\", \"field\": \"observed\"}, {\"type\": \"quantitative\", \"field\": \"deviation\"}], \"x\": {\"type\": \"ordinal\", \"field\": \"user id\"}, \"y\": {\"type\": \"ordinal\", \"field\": \"movie title\"}}, \"selection\": {\"selector002\": {\"type\": \"single\", \"nearest\": true, \"on\": \"mouseover\", \"empty\": \"none\"}}}]}, {\"layer\": [{\"mark\": \"rect\", \"encoding\": {\"color\": {\"type\": \"quantitative\", \"field\": \"deviation\", \"scale\": {\"domain\": [-2, 2], \"scheme\": \"redblue\"}}, \"tooltip\": [{\"type\": \"quantitative\", \"field\": \"user id\"}, {\"type\": \"nominal\", \"field\": \"movie title\"}, {\"type\": \"quantitative\", \"field\": \"fit/prediction\"}, {\"type\": \"quantitative\", \"field\": \"observed\"}, {\"type\": \"quantitative\", \"field\": \"deviation\"}], \"x\": {\"type\": \"ordinal\", \"field\": \"user id\"}, \"y\": {\"type\": \"ordinal\", \"axis\": {\"labels\": false}, \"field\": \"movie title\"}}, \"title\": \"Deviation: Data - Fit\"}, {\"mark\": {\"type\": \"square\", \"filled\": false, \"size\": 350}, \"encoding\": {\"color\": {\"value\": \"black\"}, \"opacity\": {\"condition\": {\"value\": 1, \"selection\": \"selector002\"}, \"value\": 0}, \"tooltip\": [{\"type\": \"quantitative\", \"field\": \"user id\"}, {\"type\": \"nominal\", \"field\": \"movie title\"}, {\"type\": \"quantitative\", \"field\": \"fit/prediction\"}, {\"type\": \"quantitative\", \"field\": \"observed\"}, {\"type\": \"quantitative\", \"field\": \"deviation\"}], \"x\": {\"type\": \"ordinal\", \"field\": \"user id\"}, \"y\": {\"type\": \"ordinal\", \"field\": \"movie title\"}}, \"selection\": {\"selector002\": {\"type\": \"single\", \"nearest\": true, \"on\": \"mouseover\", \"empty\": \"none\"}}}]}], \"data\": {\"name\": \"data-a85fb2b2f80c8637a02922768ae715a5\"}, \"resolve\": {\"scale\": {\"color\": \"independent\"}}, \"$schema\": \"https://vega.github.io/schema/vega-lite/v4.8.1.json\", \"datasets\": {\"data-a85fb2b2f80c8637a02922768ae715a5\": [{\"movie id\": 132, \"movie title\": \"Wizard of Oz, The (1939)\", \"user id\": 1, \"deviation\": 0.10826713215074335, \"fit\": 4.108267132150743, \"fit/prediction\": 4.108267132150743, \"observed\": 4.0}, {\"movie id\": 132, \"movie title\": \"Wizard of Oz, The (1939)\", \"user id\": 85, \"deviation\": 0.507715308941421, \"fit\": 5.507715308941421, \"fit/prediction\": 5.507715308941421, \"observed\": 5.0}, {\"movie id\": 132, \"movie title\": \"Wizard of Oz, The (1939)\", \"user id\": 178, \"deviation\": null, \"fit\": null, \"fit/prediction\": 1.2280713090922952, \"observed\": null}, {\"movie id\": 132, \"movie title\": \"Wizard of Oz, The (1939)\", \"user id\": 269, \"deviation\": 0.44383360118713355, \"fit\": 5.4438336011871336, \"fit/prediction\": 5.4438336011871336, \"observed\": 5.0}, {\"movie id\": 132, \"movie title\": \"Wizard of Oz, The (1939)\", \"user id\": 271, \"deviation\": -0.382464479098239, \"fit\": 4.617535520901761, \"fit/prediction\": 4.617535520901761, \"observed\": 5.0}, {\"movie id\": 132, \"movie title\": \"Wizard of Oz, The (1939)\", \"user id\": 299, \"deviation\": null, \"fit\": null, \"fit/prediction\": 0.9681313988575955, \"observed\": null}, {\"movie id\": 132, \"movie title\": \"Wizard of Oz, The (1939)\", \"user id\": 301, \"deviation\": -0.05839535015544062, \"fit\": 3.9416046498445594, \"fit/prediction\": 3.9416046498445594, \"observed\": 4.0}, {\"movie id\": 132, \"movie title\": \"Wizard of Oz, The (1939)\", \"user id\": 312, \"deviation\": -0.1830859982408537, \"fit\": 4.816914001759146, \"fit/prediction\": 4.816914001759146, \"observed\": 5.0}, {\"movie id\": 132, \"movie title\": \"Wizard of Oz, The (1939)\", \"user id\": 328, \"deviation\": -0.30987239029072366, \"fit\": 4.690127609709276, \"fit/prediction\": 4.690127609709276, \"observed\": 5.0}, {\"movie id\": 132, \"movie title\": \"Wizard of Oz, The (1939)\", \"user id\": 339, \"deviation\": -0.5931765356027761, \"fit\": 4.406823464397224, \"fit/prediction\": 4.406823464397224, \"observed\": 5.0}, {\"movie id\": 132, \"movie title\": \"Wizard of Oz, The (1939)\", \"user id\": 387, \"deviation\": null, \"fit\": null, \"fit/prediction\": 1.221711551215639, \"observed\": null}, {\"movie id\": 132, \"movie title\": \"Wizard of Oz, The (1939)\", \"user id\": 389, \"deviation\": -0.21241713425475872, \"fit\": 4.787582865745241, \"fit/prediction\": 4.787582865745241, \"observed\": 5.0}, {\"movie id\": 132, \"movie title\": \"Wizard of Oz, The (1939)\", \"user id\": 650, \"deviation\": -0.16002189967076585, \"fit\": 3.839978100329234, \"fit/prediction\": 3.839978100329234, \"observed\": 4.0}, {\"movie id\": 132, \"movie title\": \"Wizard of Oz, The (1939)\", \"user id\": 716, \"deviation\": 0.14848218734707697, \"fit\": 5.148482187347077, \"fit/prediction\": 5.148482187347077, \"observed\": 5.0}, {\"movie id\": 132, \"movie title\": \"Wizard of Oz, The (1939)\", \"user id\": 727, \"deviation\": 0.4836789177780121, \"fit\": 2.483678917778012, \"fit/prediction\": 2.483678917778012, \"observed\": 2.0}, {\"movie id\": 132, \"movie title\": \"Wizard of Oz, The (1939)\", \"user id\": 883, \"deviation\": null, \"fit\": null, \"fit/prediction\": 3.8734360719136602, \"observed\": null}, {\"movie id\": 238, \"movie title\": \"Raising Arizona (1987)\", \"user id\": 1, \"deviation\": -0.14118045311713479, \"fit\": 3.858819546882865, \"fit/prediction\": 3.858819546882865, \"observed\": 4.0}, {\"movie id\": 238, \"movie title\": \"Raising Arizona (1987)\", \"user id\": 85, \"deviation\": 0.41652626300303863, \"fit\": 2.4165262630030386, \"fit/prediction\": 2.4165262630030386, \"observed\": 2.0}, {\"movie id\": 238, \"movie title\": \"Raising Arizona (1987)\", \"user id\": 178, \"deviation\": 0.21855719285399644, \"fit\": 4.218557192853996, \"fit/prediction\": 4.218557192853996, \"observed\": 4.0}, {\"movie id\": 238, \"movie title\": \"Raising Arizona (1987)\", \"user id\": 269, \"deviation\": 0.311951596892424, \"fit\": 5.311951596892424, \"fit/prediction\": 5.311951596892424, \"observed\": 5.0}, {\"movie id\": 238, \"movie title\": \"Raising Arizona (1987)\", \"user id\": 271, \"deviation\": -0.02562673933469295, \"fit\": 3.974373260665307, \"fit/prediction\": 3.974373260665307, \"observed\": 4.0}, {\"movie id\": 238, \"movie title\": \"Raising Arizona (1987)\", \"user id\": 299, \"deviation\": 0.030573756571545374, \"fit\": 4.030573756571545, \"fit/prediction\": 4.030573756571545, \"observed\": 4.0}, {\"movie id\": 238, \"movie title\": \"Raising Arizona (1987)\", \"user id\": 301, \"deviation\": null, \"fit\": null, \"fit/prediction\": 3.4365699961059044, \"observed\": null}, {\"movie id\": 238, \"movie title\": \"Raising Arizona (1987)\", \"user id\": 312, \"deviation\": -0.23173870669857477, \"fit\": 2.7682612933014252, \"fit/prediction\": 2.7682612933014252, \"observed\": 3.0}, {\"movie id\": 238, \"movie title\": \"Raising Arizona (1987)\", \"user id\": 328, \"deviation\": null, \"fit\": null, \"fit/prediction\": 1.1617470318955103, \"observed\": null}, {\"movie id\": 238, \"movie title\": \"Raising Arizona (1987)\", \"user id\": 339, \"deviation\": -0.3525413912433102, \"fit\": 4.64745860875669, \"fit/prediction\": 4.64745860875669, \"observed\": 5.0}, {\"movie id\": 238, \"movie title\": \"Raising Arizona (1987)\", \"user id\": 387, \"deviation\": -0.10624684129212092, \"fit\": 4.893753158707879, \"fit/prediction\": 4.893753158707879, \"observed\": 5.0}, {\"movie id\": 238, \"movie title\": \"Raising Arizona (1987)\", \"user id\": 389, \"deviation\": -0.31627784284449945, \"fit\": 4.6837221571555006, \"fit/prediction\": 4.6837221571555006, \"observed\": 5.0}, {\"movie id\": 238, \"movie title\": \"Raising Arizona (1987)\", \"user id\": 650, \"deviation\": -0.5028654214169457, \"fit\": 3.4971345785830543, \"fit/prediction\": 3.4971345785830543, \"observed\": 4.0}, {\"movie id\": 238, \"movie title\": \"Raising Arizona (1987)\", \"user id\": 716, \"deviation\": 0.39769355760853475, \"fit\": 4.397693557608535, \"fit/prediction\": 4.397693557608535, \"observed\": 4.0}, {\"movie id\": 238, \"movie title\": \"Raising Arizona (1987)\", \"user id\": 727, \"deviation\": 0.420874914722678, \"fit\": 2.420874914722678, \"fit/prediction\": 2.420874914722678, \"observed\": 2.0}, {\"movie id\": 238, \"movie title\": \"Raising Arizona (1987)\", \"user id\": 883, \"deviation\": 0.16371580559926358, \"fit\": 4.163715805599264, \"fit/prediction\": 4.163715805599264, \"observed\": 4.0}, {\"movie id\": 748, \"movie title\": \"Saint, The (1997)\", \"user id\": 1, \"deviation\": null, \"fit\": null, \"fit/prediction\": 4.404436327624009, \"observed\": null}, {\"movie id\": 748, \"movie title\": \"Saint, The (1997)\", \"user id\": 85, \"deviation\": null, \"fit\": null, \"fit/prediction\": 2.350668871838825, \"observed\": null}, {\"movie id\": 748, \"movie title\": \"Saint, The (1997)\", \"user id\": 178, \"deviation\": 0.14454674016249403, \"fit\": 4.144546740162494, \"fit/prediction\": 4.144546740162494, \"observed\": 4.0}, {\"movie id\": 748, \"movie title\": \"Saint, The (1997)\", \"user id\": 269, \"deviation\": null, \"fit\": null, \"fit/prediction\": 6.628735903880679, \"observed\": null}, {\"movie id\": 748, \"movie title\": \"Saint, The (1997)\", \"user id\": 271, \"deviation\": null, \"fit\": null, \"fit/prediction\": 4.313284000216877, \"observed\": null}, {\"movie id\": 748, \"movie title\": \"Saint, The (1997)\", \"user id\": 299, \"deviation\": null, \"fit\": null, \"fit/prediction\": 4.520793435100509, \"observed\": null}, {\"movie id\": 748, \"movie title\": \"Saint, The (1997)\", \"user id\": 301, \"deviation\": null, \"fit\": null, \"fit/prediction\": 6.727845204138151, \"observed\": null}, {\"movie id\": 748, \"movie title\": \"Saint, The (1997)\", \"user id\": 312, \"deviation\": null, \"fit\": null, \"fit/prediction\": 6.619278734234373, \"observed\": null}, {\"movie id\": 748, \"movie title\": \"Saint, The (1997)\", \"user id\": 328, \"deviation\": -0.39954448219329297, \"fit\": 2.600455517806707, \"fit/prediction\": 2.600455517806707, \"observed\": 3.0}, {\"movie id\": 748, \"movie title\": \"Saint, The (1997)\", \"user id\": 339, \"deviation\": null, \"fit\": null, \"fit/prediction\": 5.274870208911871, \"observed\": null}, {\"movie id\": 748, \"movie title\": \"Saint, The (1997)\", \"user id\": 387, \"deviation\": null, \"fit\": null, \"fit/prediction\": 4.3404847443603325, \"observed\": null}, {\"movie id\": 748, \"movie title\": \"Saint, The (1997)\", \"user id\": 389, \"deviation\": null, \"fit\": null, \"fit/prediction\": 5.13665513703586, \"observed\": null}, {\"movie id\": 748, \"movie title\": \"Saint, The (1997)\", \"user id\": 650, \"deviation\": null, \"fit\": null, \"fit/prediction\": 3.0804796528676692, \"observed\": null}, {\"movie id\": 748, \"movie title\": \"Saint, The (1997)\", \"user id\": 716, \"deviation\": null, \"fit\": null, \"fit/prediction\": 5.593575488365618, \"observed\": null}, {\"movie id\": 748, \"movie title\": \"Saint, The (1997)\", \"user id\": 727, \"deviation\": 0.27176524254409795, \"fit\": 4.271765242544098, \"fit/prediction\": 4.271765242544098, \"observed\": 4.0}, {\"movie id\": 748, \"movie title\": \"Saint, The (1997)\", \"user id\": 883, \"deviation\": 0.043357754237991486, \"fit\": 5.0433577542379915, \"fit/prediction\": 5.0433577542379915, \"observed\": 5.0}, {\"movie id\": 196, \"movie title\": \"Dead Poets Society (1989)\", \"user id\": 1, \"deviation\": 0.02134127507864303, \"fit\": 5.021341275078643, \"fit/prediction\": 5.021341275078643, \"observed\": 5.0}, {\"movie id\": 196, \"movie title\": \"Dead Poets Society (1989)\", \"user id\": 85, \"deviation\": 0.45862077236278154, \"fit\": 4.4586207723627815, \"fit/prediction\": 4.4586207723627815, \"observed\": 4.0}, {\"movie id\": 196, \"movie title\": \"Dead Poets Society (1989)\", \"user id\": 178, \"deviation\": -0.024975799454713954, \"fit\": 3.975024200545286, \"fit/prediction\": 3.975024200545286, \"observed\": 4.0}, {\"movie id\": 196, \"movie title\": \"Dead Poets Society (1989)\", \"user id\": 269, \"deviation\": 0.43532854422680023, \"fit\": 1.4353285442268002, \"fit/prediction\": 1.4353285442268002, \"observed\": 1.0}, {\"movie id\": 196, \"movie title\": \"Dead Poets Society (1989)\", \"user id\": 271, \"deviation\": -0.7289919409438319, \"fit\": 3.271008059056168, \"fit/prediction\": 3.271008059056168, \"observed\": 4.0}, {\"movie id\": 196, \"movie title\": \"Dead Poets Society (1989)\", \"user id\": 299, \"deviation\": null, \"fit\": null, \"fit/prediction\": 4.0419268054071855, \"observed\": null}, {\"movie id\": 196, \"movie title\": \"Dead Poets Society (1989)\", \"user id\": 301, \"deviation\": 0.15492056749107785, \"fit\": 4.154920567491078, \"fit/prediction\": 4.154920567491078, \"observed\": 4.0}, {\"movie id\": 196, \"movie title\": \"Dead Poets Society (1989)\", \"user id\": 312, \"deviation\": null, \"fit\": null, \"fit/prediction\": 0.29246669108878476, \"observed\": null}, {\"movie id\": 196, \"movie title\": \"Dead Poets Society (1989)\", \"user id\": 328, \"deviation\": null, \"fit\": null, \"fit/prediction\": 5.622173690214859, \"observed\": null}, {\"movie id\": 196, \"movie title\": \"Dead Poets Society (1989)\", \"user id\": 339, \"deviation\": 0.07388606318589375, \"fit\": 4.073886063185894, \"fit/prediction\": 4.073886063185894, \"observed\": 4.0}, {\"movie id\": 196, \"movie title\": \"Dead Poets Society (1989)\", \"user id\": 387, \"deviation\": 0.09204789038885686, \"fit\": 2.092047890388857, \"fit/prediction\": 2.092047890388857, \"observed\": 2.0}, {\"movie id\": 196, \"movie title\": \"Dead Poets Society (1989)\", \"user id\": 389, \"deviation\": -0.12018416525223774, \"fit\": 2.8798158347477623, \"fit/prediction\": 2.8798158347477623, \"observed\": 3.0}, {\"movie id\": 196, \"movie title\": \"Dead Poets Society (1989)\", \"user id\": 650, \"deviation\": -0.23907941710543312, \"fit\": 3.760920582894567, \"fit/prediction\": 3.760920582894567, \"observed\": 4.0}, {\"movie id\": 196, \"movie title\": \"Dead Poets Society (1989)\", \"user id\": 716, \"deviation\": -0.4766526687570787, \"fit\": 4.523347331242921, \"fit/prediction\": 4.523347331242921, \"observed\": 5.0}, {\"movie id\": 196, \"movie title\": \"Dead Poets Society (1989)\", \"user id\": 727, \"deviation\": 0.4447027438809723, \"fit\": 4.444702743880972, \"fit/prediction\": 4.444702743880972, \"observed\": 4.0}, {\"movie id\": 196, \"movie title\": \"Dead Poets Society (1989)\", \"user id\": 883, \"deviation\": null, \"fit\": null, \"fit/prediction\": -0.26595308905549364, \"observed\": null}, {\"movie id\": 197, \"movie title\": \"Graduate, The (1967)\", \"user id\": 1, \"deviation\": -0.16974811409633617, \"fit\": 4.830251885903664, \"fit/prediction\": 4.830251885903664, \"observed\": 5.0}, {\"movie id\": 197, \"movie title\": \"Graduate, The (1967)\", \"user id\": 85, \"deviation\": 0.12703742542819718, \"fit\": 5.127037425428197, \"fit/prediction\": 5.127037425428197, \"observed\": 5.0}, {\"movie id\": 197, \"movie title\": \"Graduate, The (1967)\", \"user id\": 178, \"deviation\": 0.1948298172335834, \"fit\": 2.1948298172335834, \"fit/prediction\": 2.1948298172335834, \"observed\": 2.0}, {\"movie id\": 197, \"movie title\": \"Graduate, The (1967)\", \"user id\": 269, \"deviation\": -0.11321853930636117, \"fit\": 4.886781460693639, \"fit/prediction\": 4.886781460693639, \"observed\": 5.0}, {\"movie id\": 197, \"movie title\": \"Graduate, The (1967)\", \"user id\": 271, \"deviation\": 0.08917952996303935, \"fit\": 4.089179529963039, \"fit/prediction\": 4.089179529963039, \"observed\": 4.0}, {\"movie id\": 197, \"movie title\": \"Graduate, The (1967)\", \"user id\": 299, \"deviation\": -0.2208024795911241, \"fit\": 2.779197520408876, \"fit/prediction\": 2.779197520408876, \"observed\": 3.0}, {\"movie id\": 197, \"movie title\": \"Graduate, The (1967)\", \"user id\": 301, \"deviation\": 0.1530306287536627, \"fit\": 5.153030628753663, \"fit/prediction\": 5.153030628753663, \"observed\": 5.0}, {\"movie id\": 197, \"movie title\": \"Graduate, The (1967)\", \"user id\": 312, \"deviation\": -0.13288952154268996, \"fit\": 3.86711047845731, \"fit/prediction\": 3.86711047845731, \"observed\": 4.0}, {\"movie id\": 197, \"movie title\": \"Graduate, The (1967)\", \"user id\": 328, \"deviation\": null, \"fit\": null, \"fit/prediction\": 5.177774262915057, \"observed\": null}, {\"movie id\": 197, \"movie title\": \"Graduate, The (1967)\", \"user id\": 339, \"deviation\": -0.29762697421166884, \"fit\": 4.702373025788331, \"fit/prediction\": 4.702373025788331, \"observed\": 5.0}, {\"movie id\": 197, \"movie title\": \"Graduate, The (1967)\", \"user id\": 387, \"deviation\": -0.00047055438009757644, \"fit\": 1.9995294456199024, \"fit/prediction\": 1.9995294456199024, \"observed\": 2.0}, {\"movie id\": 197, \"movie title\": \"Graduate, The (1967)\", \"user id\": 389, \"deviation\": 0.0017177029651236353, \"fit\": 5.001717702965124, \"fit/prediction\": 5.001717702965124, \"observed\": 5.0}, {\"movie id\": 197, \"movie title\": \"Graduate, The (1967)\", \"user id\": 650, \"deviation\": -0.3069741445069889, \"fit\": 3.693025855493011, \"fit/prediction\": 3.693025855493011, \"observed\": 4.0}, {\"movie id\": 197, \"movie title\": \"Graduate, The (1967)\", \"user id\": 716, \"deviation\": 0.6518296045595982, \"fit\": 5.651829604559598, \"fit/prediction\": 5.651829604559598, \"observed\": 5.0}, {\"movie id\": 197, \"movie title\": \"Graduate, The (1967)\", \"user id\": 727, \"deviation\": 0.10510101512704928, \"fit\": 3.1051010151270493, \"fit/prediction\": 3.1051010151270493, \"observed\": 3.0}, {\"movie id\": 197, \"movie title\": \"Graduate, The (1967)\", \"user id\": 883, \"deviation\": 0.05031657344736207, \"fit\": 4.050316573447362, \"fit/prediction\": 4.050316573447362, \"observed\": 4.0}, {\"movie id\": 185, \"movie title\": \"Psycho (1960)\", \"user id\": 1, \"deviation\": -0.06831680652877115, \"fit\": 3.931683193471229, \"fit/prediction\": 3.931683193471229, \"observed\": 4.0}, {\"movie id\": 185, \"movie title\": \"Psycho (1960)\", \"user id\": 85, \"deviation\": null, \"fit\": null, \"fit/prediction\": 3.4313752021188613, \"observed\": null}, {\"movie id\": 185, \"movie title\": \"Psycho (1960)\", \"user id\": 178, \"deviation\": null, \"fit\": null, \"fit/prediction\": 1.6819876207872797, \"observed\": null}, {\"movie id\": 185, \"movie title\": \"Psycho (1960)\", \"user id\": 269, \"deviation\": 0.0907702616221222, \"fit\": 5.090770261622122, \"fit/prediction\": 5.090770261622122, \"observed\": 5.0}, {\"movie id\": 185, \"movie title\": \"Psycho (1960)\", \"user id\": 271, \"deviation\": 0.09246122071729612, \"fit\": 3.092461220717296, \"fit/prediction\": 3.092461220717296, \"observed\": 3.0}, {\"movie id\": 185, \"movie title\": \"Psycho (1960)\", \"user id\": 299, \"deviation\": -0.09728541005270408, \"fit\": 2.902714589947296, \"fit/prediction\": 2.902714589947296, \"observed\": 3.0}, {\"movie id\": 185, \"movie title\": \"Psycho (1960)\", \"user id\": 301, \"deviation\": null, \"fit\": null, \"fit/prediction\": 5.729460032874957, \"observed\": null}, {\"movie id\": 185, \"movie title\": \"Psycho (1960)\", \"user id\": 312, \"deviation\": -0.2002564487183811, \"fit\": 4.799743551281619, \"fit/prediction\": 4.799743551281619, \"observed\": 5.0}, {\"movie id\": 185, \"movie title\": \"Psycho (1960)\", \"user id\": 328, \"deviation\": -0.1343215421098911, \"fit\": 3.865678457890109, \"fit/prediction\": 3.865678457890109, \"observed\": 4.0}, {\"movie id\": 185, \"movie title\": \"Psycho (1960)\", \"user id\": 339, \"deviation\": 0.05130000786263178, \"fit\": 4.051300007862632, \"fit/prediction\": 4.051300007862632, \"observed\": 4.0}, {\"movie id\": 185, \"movie title\": \"Psycho (1960)\", \"user id\": 387, \"deviation\": null, \"fit\": null, \"fit/prediction\": 2.0523662183641385, \"observed\": null}, {\"movie id\": 185, \"movie title\": \"Psycho (1960)\", \"user id\": 389, \"deviation\": -0.2703418669216511, \"fit\": 4.729658133078349, \"fit/prediction\": 4.729658133078349, \"observed\": 5.0}, {\"movie id\": 185, \"movie title\": \"Psycho (1960)\", \"user id\": 650, \"deviation\": -0.5793044041509443, \"fit\": 2.4206955958490557, \"fit/prediction\": 2.4206955958490557, \"observed\": 3.0}, {\"movie id\": 185, \"movie title\": \"Psycho (1960)\", \"user id\": 716, \"deviation\": 0.1048740066243612, \"fit\": 5.104874006624361, \"fit/prediction\": 5.104874006624361, \"observed\": 5.0}, {\"movie id\": 185, \"movie title\": \"Psycho (1960)\", \"user id\": 727, \"deviation\": null, \"fit\": null, \"fit/prediction\": 2.612604262041906, \"observed\": null}, {\"movie id\": 185, \"movie title\": \"Psycho (1960)\", \"user id\": 883, \"deviation\": 0.0806132518758016, \"fit\": 5.080613251875802, \"fit/prediction\": 5.080613251875802, \"observed\": 5.0}, {\"movie id\": 194, \"movie title\": \"Sting, The (1973)\", \"user id\": 1, \"deviation\": 0.1583647282560401, \"fit\": 4.15836472825604, \"fit/prediction\": 4.15836472825604, \"observed\": 4.0}, {\"movie id\": 194, \"movie title\": \"Sting, The (1973)\", \"user id\": 85, \"deviation\": -0.3223124678036826, \"fit\": 3.6776875321963174, \"fit/prediction\": 3.6776875321963174, \"observed\": 4.0}, {\"movie id\": 194, \"movie title\": \"Sting, The (1973)\", \"user id\": 178, \"deviation\": -0.37530330434491077, \"fit\": 3.6246966956550892, \"fit/prediction\": 3.6246966956550892, \"observed\": 4.0}, {\"movie id\": 194, \"movie title\": \"Sting, The (1973)\", \"user id\": 269, \"deviation\": -0.010117225939597851, \"fit\": 4.989882774060402, \"fit/prediction\": 4.989882774060402, \"observed\": 5.0}, {\"movie id\": 194, \"movie title\": \"Sting, The (1973)\", \"user id\": 271, \"deviation\": -0.46077770733280765, \"fit\": 4.539222292667192, \"fit/prediction\": 4.539222292667192, \"observed\": 5.0}, {\"movie id\": 194, \"movie title\": \"Sting, The (1973)\", \"user id\": 299, \"deviation\": -0.044888281572319944, \"fit\": 2.95511171842768, \"fit/prediction\": 2.95511171842768, \"observed\": 3.0}, {\"movie id\": 194, \"movie title\": \"Sting, The (1973)\", \"user id\": 301, \"deviation\": 0.01864978201762657, \"fit\": 4.018649782017627, \"fit/prediction\": 4.018649782017627, \"observed\": 4.0}, {\"movie id\": 194, \"movie title\": \"Sting, The (1973)\", \"user id\": 312, \"deviation\": 0.04688350515136808, \"fit\": 4.046883505151368, \"fit/prediction\": 4.046883505151368, \"observed\": 4.0}, {\"movie id\": 194, \"movie title\": \"Sting, The (1973)\", \"user id\": 328, \"deviation\": 0.091237361711205, \"fit\": 3.091237361711205, \"fit/prediction\": 3.091237361711205, \"observed\": 3.0}, {\"movie id\": 194, \"movie title\": \"Sting, The (1973)\", \"user id\": 339, \"deviation\": 0.6945559667520209, \"fit\": 4.694555966752021, \"fit/prediction\": 4.694555966752021, \"observed\": 4.0}, {\"movie id\": 194, \"movie title\": \"Sting, The (1973)\", \"user id\": 387, \"deviation\": 0.27270031227562086, \"fit\": 3.272700312275621, \"fit/prediction\": 3.272700312275621, \"observed\": 3.0}, {\"movie id\": 194, \"movie title\": \"Sting, The (1973)\", \"user id\": 389, \"deviation\": 0.19867521518163223, \"fit\": 4.198675215181632, \"fit/prediction\": 4.198675215181632, \"observed\": 4.0}, {\"movie id\": 194, \"movie title\": \"Sting, The (1973)\", \"user id\": 650, \"deviation\": -0.15978076860608237, \"fit\": 3.8402192313939176, \"fit/prediction\": 3.8402192313939176, \"observed\": 4.0}, {\"movie id\": 194, \"movie title\": \"Sting, The (1973)\", \"user id\": 716, \"deviation\": -0.3029051831552714, \"fit\": 4.697094816844729, \"fit/prediction\": 4.697094816844729, \"observed\": 5.0}, {\"movie id\": 194, \"movie title\": \"Sting, The (1973)\", \"user id\": 727, \"deviation\": null, \"fit\": null, \"fit/prediction\": 3.5514102823730704, \"observed\": null}, {\"movie id\": 194, \"movie title\": \"Sting, The (1973)\", \"user id\": 883, \"deviation\": -0.29720327299984506, \"fit\": 2.702796727000155, \"fit/prediction\": 2.702796727000155, \"observed\": 3.0}, {\"movie id\": 742, \"movie title\": \"Ransom (1996)\", \"user id\": 1, \"deviation\": null, \"fit\": null, \"fit/prediction\": 4.296414779345079, \"observed\": null}, {\"movie id\": 742, \"movie title\": \"Ransom (1996)\", \"user id\": 85, \"deviation\": null, \"fit\": null, \"fit/prediction\": 3.608514402906195, \"observed\": null}, {\"movie id\": 742, \"movie title\": \"Ransom (1996)\", \"user id\": 178, \"deviation\": -0.1497636534958291, \"fit\": 2.850236346504171, \"fit/prediction\": 2.850236346504171, \"observed\": 3.0}, {\"movie id\": 742, \"movie title\": \"Ransom (1996)\", \"user id\": 269, \"deviation\": null, \"fit\": null, \"fit/prediction\": 2.5634652363468065, \"observed\": null}, {\"movie id\": 742, \"movie title\": \"Ransom (1996)\", \"user id\": 271, \"deviation\": -0.4208386123234531, \"fit\": 2.579161387676547, \"fit/prediction\": 2.579161387676547, \"observed\": 3.0}, {\"movie id\": 742, \"movie title\": \"Ransom (1996)\", \"user id\": 299, \"deviation\": -0.20780780711063507, \"fit\": 3.792192192889365, \"fit/prediction\": 3.792192192889365, \"observed\": 4.0}, {\"movie id\": 742, \"movie title\": \"Ransom (1996)\", \"user id\": 301, \"deviation\": 0.09287877163155134, \"fit\": 4.092878771631551, \"fit/prediction\": 4.092878771631551, \"observed\": 4.0}, {\"movie id\": 742, \"movie title\": \"Ransom (1996)\", \"user id\": 312, \"deviation\": null, \"fit\": null, \"fit/prediction\": 0.7583140055736717, \"observed\": null}, {\"movie id\": 742, \"movie title\": \"Ransom (1996)\", \"user id\": 328, \"deviation\": 0.14597242540141764, \"fit\": 4.145972425401418, \"fit/prediction\": 4.145972425401418, \"observed\": 4.0}, {\"movie id\": 742, \"movie title\": \"Ransom (1996)\", \"user id\": 339, \"deviation\": null, \"fit\": null, \"fit/prediction\": 3.7105994473273194, \"observed\": null}, {\"movie id\": 742, \"movie title\": \"Ransom (1996)\", \"user id\": 387, \"deviation\": 0.42251872922428735, \"fit\": 2.4225187292242873, \"fit/prediction\": 2.4225187292242873, \"observed\": 2.0}, {\"movie id\": 742, \"movie title\": \"Ransom (1996)\", \"user id\": 389, \"deviation\": null, \"fit\": null, \"fit/prediction\": 3.700007194965326, \"observed\": null}, {\"movie id\": 742, \"movie title\": \"Ransom (1996)\", \"user id\": 650, \"deviation\": -0.09705000895256344, \"fit\": 2.9029499910474366, \"fit/prediction\": 2.9029499910474366, \"observed\": 3.0}, {\"movie id\": 742, \"movie title\": \"Ransom (1996)\", \"user id\": 716, \"deviation\": null, \"fit\": null, \"fit/prediction\": 4.402624345815644, \"observed\": null}, {\"movie id\": 742, \"movie title\": \"Ransom (1996)\", \"user id\": 727, \"deviation\": null, \"fit\": null, \"fit/prediction\": 2.697055406317629, \"observed\": null}, {\"movie id\": 742, \"movie title\": \"Ransom (1996)\", \"user id\": 883, \"deviation\": null, \"fit\": null, \"fit/prediction\": 2.4965640560947135, \"observed\": null}, {\"movie id\": 82, \"movie title\": \"Jurassic Park (1993)\", \"user id\": 1, \"deviation\": 0.24568275285746122, \"fit\": 5.245682752857461, \"fit/prediction\": 5.245682752857461, \"observed\": 5.0}, {\"movie id\": 82, \"movie title\": \"Jurassic Park (1993)\", \"user id\": 85, \"deviation\": -0.12184260018859439, \"fit\": 2.8781573998114056, \"fit/prediction\": 2.8781573998114056, \"observed\": 3.0}, {\"movie id\": 82, \"movie title\": \"Jurassic Park (1993)\", \"user id\": 178, \"deviation\": -0.3011415641555564, \"fit\": 4.698858435844444, \"fit/prediction\": 4.698858435844444, \"observed\": 5.0}, {\"movie id\": 82, \"movie title\": \"Jurassic Park (1993)\", \"user id\": 269, \"deviation\": -0.016102829679839115, \"fit\": 1.9838971703201609, \"fit/prediction\": 1.9838971703201609, \"observed\": 2.0}, {\"movie id\": 82, \"movie title\": \"Jurassic Park (1993)\", \"user id\": 271, \"deviation\": null, \"fit\": null, \"fit/prediction\": 2.056242525664001, \"observed\": null}, {\"movie id\": 82, \"movie title\": \"Jurassic Park (1993)\", \"user id\": 299, \"deviation\": null, \"fit\": null, \"fit/prediction\": 6.520174215481116, \"observed\": null}, {\"movie id\": 82, \"movie title\": \"Jurassic Park (1993)\", \"user id\": 301, \"deviation\": 0.027922908090703302, \"fit\": 5.027922908090703, \"fit/prediction\": 5.027922908090703, \"observed\": 5.0}, {\"movie id\": 82, \"movie title\": \"Jurassic Park (1993)\", \"user id\": 312, \"deviation\": null, \"fit\": null, \"fit/prediction\": -1.206767175869013, \"observed\": null}, {\"movie id\": 82, \"movie title\": \"Jurassic Park (1993)\", \"user id\": 328, \"deviation\": -0.0011587783569844134, \"fit\": 3.9988412216430156, \"fit/prediction\": 3.9988412216430156, \"observed\": 4.0}, {\"movie id\": 82, \"movie title\": \"Jurassic Park (1993)\", \"user id\": 339, \"deviation\": 0.2683860026733944, \"fit\": 4.268386002673394, \"fit/prediction\": 4.268386002673394, \"observed\": 4.0}, {\"movie id\": 82, \"movie title\": \"Jurassic Park (1993)\", \"user id\": 387, \"deviation\": 0.2866713705028445, \"fit\": 4.2866713705028445, \"fit/prediction\": 4.2866713705028445, \"observed\": 4.0}, {\"movie id\": 82, \"movie title\": \"Jurassic Park (1993)\", \"user id\": 389, \"deviation\": 0.14987886618722612, \"fit\": 4.149878866187226, \"fit/prediction\": 4.149878866187226, \"observed\": 4.0}, {\"movie id\": 82, \"movie title\": \"Jurassic Park (1993)\", \"user id\": 650, \"deviation\": -0.01715722518764551, \"fit\": 2.9828427748123545, \"fit/prediction\": 2.9828427748123545, \"observed\": 3.0}, {\"movie id\": 82, \"movie title\": \"Jurassic Park (1993)\", \"user id\": 716, \"deviation\": -0.06525969239575957, \"fit\": 4.93474030760424, \"fit/prediction\": 4.93474030760424, \"observed\": 5.0}, {\"movie id\": 82, \"movie title\": \"Jurassic Park (1993)\", \"user id\": 727, \"deviation\": 0.2136213432123073, \"fit\": 3.2136213432123073, \"fit/prediction\": 3.2136213432123073, \"observed\": 3.0}, {\"movie id\": 82, \"movie title\": \"Jurassic Park (1993)\", \"user id\": 883, \"deviation\": -0.1509404834022412, \"fit\": 2.849059516597759, \"fit/prediction\": 2.849059516597759, \"observed\": 3.0}, {\"movie id\": 97, \"movie title\": \"Dances with Wolves (1990)\", \"user id\": 1, \"deviation\": 0.5297038618561816, \"fit\": 3.5297038618561816, \"fit/prediction\": 3.5297038618561816, \"observed\": 3.0}, {\"movie id\": 97, \"movie title\": \"Dances with Wolves (1990)\", \"user id\": 85, \"deviation\": 0.04708724205791759, \"fit\": 2.0470872420579176, \"fit/prediction\": 2.0470872420579176, \"observed\": 2.0}, {\"movie id\": 97, \"movie title\": \"Dances with Wolves (1990)\", \"user id\": 178, \"deviation\": -0.21363001936262727, \"fit\": 4.786369980637373, \"fit/prediction\": 4.786369980637373, \"observed\": 5.0}, {\"movie id\": 97, \"movie title\": \"Dances with Wolves (1990)\", \"user id\": 269, \"deviation\": null, \"fit\": null, \"fit/prediction\": 3.271573349722914, \"observed\": null}, {\"movie id\": 97, \"movie title\": \"Dances with Wolves (1990)\", \"user id\": 271, \"deviation\": -0.7792710243243581, \"fit\": 4.220728975675642, \"fit/prediction\": 4.220728975675642, \"observed\": 5.0}, {\"movie id\": 97, \"movie title\": \"Dances with Wolves (1990)\", \"user id\": 299, \"deviation\": -0.8741369028706085, \"fit\": 3.1258630971293915, \"fit/prediction\": 3.1258630971293915, \"observed\": 4.0}, {\"movie id\": 97, \"movie title\": \"Dances with Wolves (1990)\", \"user id\": 301, \"deviation\": 0.4768999261377367, \"fit\": 4.476899926137737, \"fit/prediction\": 4.476899926137737, \"observed\": 4.0}, {\"movie id\": 97, \"movie title\": \"Dances with Wolves (1990)\", \"user id\": 312, \"deviation\": -0.042000000253608505, \"fit\": 4.9579999997463915, \"fit/prediction\": 4.9579999997463915, \"observed\": 5.0}, {\"movie id\": 97, \"movie title\": \"Dances with Wolves (1990)\", \"user id\": 328, \"deviation\": -0.050692561115721624, \"fit\": 2.9493074388842784, \"fit/prediction\": 2.9493074388842784, \"observed\": 3.0}, {\"movie id\": 97, \"movie title\": \"Dances with Wolves (1990)\", \"user id\": 339, \"deviation\": 0.0493926987661677, \"fit\": 4.049392698766168, \"fit/prediction\": 4.049392698766168, \"observed\": 4.0}, {\"movie id\": 97, \"movie title\": \"Dances with Wolves (1990)\", \"user id\": 387, \"deviation\": 0.7224189778444408, \"fit\": 2.7224189778444408, \"fit/prediction\": 2.7224189778444408, \"observed\": 2.0}, {\"movie id\": 97, \"movie title\": \"Dances with Wolves (1990)\", \"user id\": 389, \"deviation\": null, \"fit\": null, \"fit/prediction\": 1.8721098293627205, \"observed\": null}, {\"movie id\": 97, \"movie title\": \"Dances with Wolves (1990)\", \"user id\": 650, \"deviation\": 0.2153832247664984, \"fit\": 3.2153832247664984, \"fit/prediction\": 3.2153832247664984, \"observed\": 3.0}, {\"movie id\": 97, \"movie title\": \"Dances with Wolves (1990)\", \"user id\": 716, \"deviation\": -0.46806937009470984, \"fit\": 3.53193062990529, \"fit/prediction\": 3.53193062990529, \"observed\": 4.0}, {\"movie id\": 97, \"movie title\": \"Dances with Wolves (1990)\", \"user id\": 727, \"deviation\": null, \"fit\": null, \"fit/prediction\": 5.797818464481497, \"observed\": null}, {\"movie id\": 97, \"movie title\": \"Dances with Wolves (1990)\", \"user id\": 883, \"deviation\": null, \"fit\": null, \"fit/prediction\": -1.063422222754925, \"observed\": null}, {\"movie id\": 475, \"movie title\": \"Trainspotting (1996)\", \"user id\": 1, \"deviation\": null, \"fit\": null, \"fit/prediction\": 4.689098724469249, \"observed\": null}, {\"movie id\": 475, \"movie title\": \"Trainspotting (1996)\", \"user id\": 85, \"deviation\": null, \"fit\": null, \"fit/prediction\": 4.263120043834037, \"observed\": null}, {\"movie id\": 475, \"movie title\": \"Trainspotting (1996)\", \"user id\": 178, \"deviation\": null, \"fit\": null, \"fit/prediction\": 3.2818208309760886, \"observed\": null}, {\"movie id\": 475, \"movie title\": \"Trainspotting (1996)\", \"user id\": 269, \"deviation\": 0.09758180097925617, \"fit\": 5.097581800979256, \"fit/prediction\": 5.097581800979256, \"observed\": 5.0}, {\"movie id\": 475, \"movie title\": \"Trainspotting (1996)\", \"user id\": 271, \"deviation\": null, \"fit\": null, \"fit/prediction\": 4.184561169145859, \"observed\": null}, {\"movie id\": 475, \"movie title\": \"Trainspotting (1996)\", \"user id\": 299, \"deviation\": -0.43905853368486447, \"fit\": 3.5609414663151355, \"fit/prediction\": 3.5609414663151355, \"observed\": 4.0}, {\"movie id\": 475, \"movie title\": \"Trainspotting (1996)\", \"user id\": 301, \"deviation\": null, \"fit\": null, \"fit/prediction\": 4.338931277277716, \"observed\": null}, {\"movie id\": 475, \"movie title\": \"Trainspotting (1996)\", \"user id\": 312, \"deviation\": null, \"fit\": null, \"fit/prediction\": 2.955272013263586, \"observed\": null}, {\"movie id\": 475, \"movie title\": \"Trainspotting (1996)\", \"user id\": 328, \"deviation\": null, \"fit\": null, \"fit/prediction\": 3.6172572522891366, \"observed\": null}, {\"movie id\": 475, \"movie title\": \"Trainspotting (1996)\", \"user id\": 339, \"deviation\": -0.11184503017924108, \"fit\": 4.888154969820759, \"fit/prediction\": 4.888154969820759, \"observed\": 5.0}, {\"movie id\": 475, \"movie title\": \"Trainspotting (1996)\", \"user id\": 387, \"deviation\": 0.492438243487447, \"fit\": 3.492438243487447, \"fit/prediction\": 3.492438243487447, \"observed\": 3.0}, {\"movie id\": 475, \"movie title\": \"Trainspotting (1996)\", \"user id\": 389, \"deviation\": 0.10822343190038453, \"fit\": 5.1082234319003845, \"fit/prediction\": 5.1082234319003845, \"observed\": 5.0}, {\"movie id\": 475, \"movie title\": \"Trainspotting (1996)\", \"user id\": 650, \"deviation\": null, \"fit\": null, \"fit/prediction\": 3.8812931100370416, \"observed\": null}, {\"movie id\": 475, \"movie title\": \"Trainspotting (1996)\", \"user id\": 716, \"deviation\": null, \"fit\": null, \"fit/prediction\": 5.318090912332215, \"observed\": null}, {\"movie id\": 475, \"movie title\": \"Trainspotting (1996)\", \"user id\": 727, \"deviation\": null, \"fit\": null, \"fit/prediction\": 2.7800151536690016, \"observed\": null}, {\"movie id\": 475, \"movie title\": \"Trainspotting (1996)\", \"user id\": 883, \"deviation\": null, \"fit\": null, \"fit/prediction\": 4.206351860292665, \"observed\": null}, {\"movie id\": 268, \"movie title\": \"Chasing Amy (1997)\", \"user id\": 1, \"deviation\": 0.23853964692508978, \"fit\": 5.23853964692509, \"fit/prediction\": 5.23853964692509, \"observed\": 5.0}, {\"movie id\": 268, \"movie title\": \"Chasing Amy (1997)\", \"user id\": 85, \"deviation\": 0.2147941201853616, \"fit\": 4.214794120185362, \"fit/prediction\": 4.214794120185362, \"observed\": 4.0}, {\"movie id\": 268, \"movie title\": \"Chasing Amy (1997)\", \"user id\": 178, \"deviation\": -0.048258832599881174, \"fit\": 3.951741167400119, \"fit/prediction\": 3.951741167400119, \"observed\": 4.0}, {\"movie id\": 268, \"movie title\": \"Chasing Amy (1997)\", \"user id\": 269, \"deviation\": 0.14509544771248173, \"fit\": 5.145095447712482, \"fit/prediction\": 5.145095447712482, \"observed\": 5.0}, {\"movie id\": 268, \"movie title\": \"Chasing Amy (1997)\", \"user id\": 271, \"deviation\": null, \"fit\": null, \"fit/prediction\": 4.360700081181831, \"observed\": null}, {\"movie id\": 268, \"movie title\": \"Chasing Amy (1997)\", \"user id\": 299, \"deviation\": null, \"fit\": null, \"fit/prediction\": 4.37501322719863, \"observed\": null}, {\"movie id\": 268, \"movie title\": \"Chasing Amy (1997)\", \"user id\": 301, \"deviation\": null, \"fit\": null, \"fit/prediction\": 5.850501140985136, \"observed\": null}, {\"movie id\": 268, \"movie title\": \"Chasing Amy (1997)\", \"user id\": 312, \"deviation\": null, \"fit\": null, \"fit/prediction\": 3.9911944635678984, \"observed\": null}, {\"movie id\": 268, \"movie title\": \"Chasing Amy (1997)\", \"user id\": 328, \"deviation\": null, \"fit\": null, \"fit/prediction\": 4.493656579788844, \"observed\": null}, {\"movie id\": 268, \"movie title\": \"Chasing Amy (1997)\", \"user id\": 339, \"deviation\": null, \"fit\": null, \"fit/prediction\": 5.303188512039847, \"observed\": null}, {\"movie id\": 268, \"movie title\": \"Chasing Amy (1997)\", \"user id\": 387, \"deviation\": 0.5516820845274628, \"fit\": 3.551682084527463, \"fit/prediction\": 3.551682084527463, \"observed\": 3.0}, {\"movie id\": 268, \"movie title\": \"Chasing Amy (1997)\", \"user id\": 389, \"deviation\": null, \"fit\": null, \"fit/prediction\": 5.072464687807681, \"observed\": null}, {\"movie id\": 268, \"movie title\": \"Chasing Amy (1997)\", \"user id\": 650, \"deviation\": null, \"fit\": null, \"fit/prediction\": 3.9101519728321494, \"observed\": null}, {\"movie id\": 268, \"movie title\": \"Chasing Amy (1997)\", \"user id\": 716, \"deviation\": null, \"fit\": null, \"fit/prediction\": 5.867561744180668, \"observed\": null}, {\"movie id\": 268, \"movie title\": \"Chasing Amy (1997)\", \"user id\": 727, \"deviation\": 0.12941077455668637, \"fit\": 4.129410774556686, \"fit/prediction\": 4.129410774556686, \"observed\": 4.0}, {\"movie id\": 268, \"movie title\": \"Chasing Amy (1997)\", \"user id\": 883, \"deviation\": null, \"fit\": null, \"fit/prediction\": 3.787317128936839, \"observed\": null}, {\"movie id\": 186, \"movie title\": \"Blues Brothers, The (1980)\", \"user id\": 1, \"deviation\": -0.06399813110418551, \"fit\": 3.9360018688958145, \"fit/prediction\": 3.9360018688958145, \"observed\": 4.0}, {\"movie id\": 186, \"movie title\": \"Blues Brothers, The (1980)\", \"user id\": 85, \"deviation\": 0.13949462672782387, \"fit\": 3.139494626727824, \"fit/prediction\": 3.139494626727824, \"observed\": 3.0}, {\"movie id\": 186, \"movie title\": \"Blues Brothers, The (1980)\", \"user id\": 178, \"deviation\": null, \"fit\": null, \"fit/prediction\": 4.294956398539978, \"observed\": null}, {\"movie id\": 186, \"movie title\": \"Blues Brothers, The (1980)\", \"user id\": 269, \"deviation\": 0.28715050020521327, \"fit\": 2.2871505002052133, \"fit/prediction\": 2.2871505002052133, \"observed\": 2.0}, {\"movie id\": 186, \"movie title\": \"Blues Brothers, The (1980)\", \"user id\": 271, \"deviation\": -0.08815036849650415, \"fit\": 3.911849631503496, \"fit/prediction\": 3.911849631503496, \"observed\": 4.0}, {\"movie id\": 186, \"movie title\": \"Blues Brothers, The (1980)\", \"user id\": 299, \"deviation\": 0.012370563149815439, \"fit\": 3.0123705631498154, \"fit/prediction\": 3.0123705631498154, \"observed\": 3.0}, {\"movie id\": 186, \"movie title\": \"Blues Brothers, The (1980)\", \"user id\": 301, \"deviation\": -0.16774711420643262, \"fit\": 3.8322528857935674, \"fit/prediction\": 3.8322528857935674, \"observed\": 4.0}, {\"movie id\": 186, \"movie title\": \"Blues Brothers, The (1980)\", \"user id\": 312, \"deviation\": -0.05921957254048804, \"fit\": 2.940780427459512, \"fit/prediction\": 2.940780427459512, \"observed\": 3.0}, {\"movie id\": 186, \"movie title\": \"Blues Brothers, The (1980)\", \"user id\": 328, \"deviation\": 0.0010885689459732006, \"fit\": 4.001088568945973, \"fit/prediction\": 4.001088568945973, \"observed\": 4.0}, {\"movie id\": 186, \"movie title\": \"Blues Brothers, The (1980)\", \"user id\": 339, \"deviation\": -0.11683803500256396, \"fit\": 3.883161964997436, \"fit/prediction\": 3.883161964997436, \"observed\": 4.0}, {\"movie id\": 186, \"movie title\": \"Blues Brothers, The (1980)\", \"user id\": 387, \"deviation\": 0.16076093720492768, \"fit\": 2.1607609372049277, \"fit/prediction\": 2.1607609372049277, \"observed\": 2.0}, {\"movie id\": 186, \"movie title\": \"Blues Brothers, The (1980)\", \"user id\": 389, \"deviation\": -0.028811851680675016, \"fit\": 1.971188148319325, \"fit/prediction\": 1.971188148319325, \"observed\": 2.0}, {\"movie id\": 186, \"movie title\": \"Blues Brothers, The (1980)\", \"user id\": 650, \"deviation\": -0.4979463444439194, \"fit\": 3.5020536555560806, \"fit/prediction\": 3.5020536555560806, \"observed\": 4.0}, {\"movie id\": 186, \"movie title\": \"Blues Brothers, The (1980)\", \"user id\": 716, \"deviation\": 0.6545906358760201, \"fit\": 3.65459063587602, \"fit/prediction\": 3.65459063587602, \"observed\": 3.0}, {\"movie id\": 186, \"movie title\": \"Blues Brothers, The (1980)\", \"user id\": 727, \"deviation\": 0.18739907947408962, \"fit\": 5.18739907947409, \"fit/prediction\": 5.18739907947409, \"observed\": 5.0}, {\"movie id\": 186, \"movie title\": \"Blues Brothers, The (1980)\", \"user id\": 883, \"deviation\": null, \"fit\": null, \"fit/prediction\": -1.3021025462785205, \"observed\": null}, {\"movie id\": 496, \"movie title\": \"It's a Wonderful Life (1946)\", \"user id\": 1, \"deviation\": null, \"fit\": null, \"fit/prediction\": 4.5442720422408645, \"observed\": null}, {\"movie id\": 496, \"movie title\": \"It's a Wonderful Life (1946)\", \"user id\": 85, \"deviation\": -0.019642659870245716, \"fit\": 3.9803573401297543, \"fit/prediction\": 3.9803573401297543, \"observed\": 4.0}, {\"movie id\": 496, \"movie title\": \"It's a Wonderful Life (1946)\", \"user id\": 178, \"deviation\": null, \"fit\": null, \"fit/prediction\": 3.9495054804018626, \"observed\": null}, {\"movie id\": 496, \"movie title\": \"It's a Wonderful Life (1946)\", \"user id\": 269, \"deviation\": 0.008971698246993398, \"fit\": 5.008971698246993, \"fit/prediction\": 5.008971698246993, \"observed\": 5.0}, {\"movie id\": 496, \"movie title\": \"It's a Wonderful Life (1946)\", \"user id\": 271, \"deviation\": -0.10202491905436162, \"fit\": 4.897975080945638, \"fit/prediction\": 4.897975080945638, \"observed\": 5.0}, {\"movie id\": 496, \"movie title\": \"It's a Wonderful Life (1946)\", \"user id\": 299, \"deviation\": 0.11447244075848229, \"fit\": 3.1144724407584823, \"fit/prediction\": 3.1144724407584823, \"observed\": 3.0}, {\"movie id\": 496, \"movie title\": \"It's a Wonderful Life (1946)\", \"user id\": 301, \"deviation\": -0.06766623306640529, \"fit\": 4.932333766933595, \"fit/prediction\": 4.932333766933595, \"observed\": 5.0}, {\"movie id\": 496, \"movie title\": \"It's a Wonderful Life (1946)\", \"user id\": 312, \"deviation\": 0.012852476503647736, \"fit\": 5.012852476503648, \"fit/prediction\": 5.012852476503648, \"observed\": 5.0}, {\"movie id\": 496, \"movie title\": \"It's a Wonderful Life (1946)\", \"user id\": 328, \"deviation\": null, \"fit\": null, \"fit/prediction\": 3.9971035845132397, \"observed\": null}, {\"movie id\": 496, \"movie title\": \"It's a Wonderful Life (1946)\", \"user id\": 339, \"deviation\": -0.005747294128194191, \"fit\": 4.994252705871806, \"fit/prediction\": 4.994252705871806, \"observed\": 5.0}, {\"movie id\": 496, \"movie title\": \"It's a Wonderful Life (1946)\", \"user id\": 387, \"deviation\": -0.02353996020998439, \"fit\": 2.9764600397900156, \"fit/prediction\": 2.9764600397900156, \"observed\": 3.0}, {\"movie id\": 496, \"movie title\": \"It's a Wonderful Life (1946)\", \"user id\": 389, \"deviation\": 0.05432416044835353, \"fit\": 4.0543241604483535, \"fit/prediction\": 4.0543241604483535, \"observed\": 4.0}, {\"movie id\": 496, \"movie title\": \"It's a Wonderful Life (1946)\", \"user id\": 650, \"deviation\": 0.02921529140177892, \"fit\": 4.029215291401779, \"fit/prediction\": 4.029215291401779, \"observed\": 4.0}, {\"movie id\": 496, \"movie title\": \"It's a Wonderful Life (1946)\", \"user id\": 716, \"deviation\": 0.07142333648921273, \"fit\": 5.071423336489213, \"fit/prediction\": 5.071423336489213, \"observed\": 5.0}, {\"movie id\": 496, \"movie title\": \"It's a Wonderful Life (1946)\", \"user id\": 727, \"deviation\": null, \"fit\": null, \"fit/prediction\": 4.645768089739887, \"observed\": null}, {\"movie id\": 496, \"movie title\": \"It's a Wonderful Life (1946)\", \"user id\": 883, \"deviation\": 0.01945406075832823, \"fit\": 2.0194540607583282, \"fit/prediction\": 2.0194540607583282, \"observed\": 2.0}, {\"movie id\": 111, \"movie title\": \"Truth About Cats & Dogs, The (1996)\", \"user id\": 1, \"deviation\": 0.00012273694268127855, \"fit\": 5.000122736942681, \"fit/prediction\": 5.000122736942681, \"observed\": 5.0}, {\"movie id\": 111, \"movie title\": \"Truth About Cats & Dogs, The (1996)\", \"user id\": 85, \"deviation\": null, \"fit\": null, \"fit/prediction\": 5.795204697889663, \"observed\": null}, {\"movie id\": 111, \"movie title\": \"Truth About Cats & Dogs, The (1996)\", \"user id\": 178, \"deviation\": 0.00013435617606649686, \"fit\": 4.0001343561760665, \"fit/prediction\": 4.0001343561760665, \"observed\": 4.0}, {\"movie id\": 111, \"movie title\": \"Truth About Cats & Dogs, The (1996)\", \"user id\": 269, \"deviation\": -3.820736994841756e-05, \"fit\": 0.9999617926300516, \"fit/prediction\": 0.9999617926300516, \"observed\": 1.0}, {\"movie id\": 111, \"movie title\": \"Truth About Cats & Dogs, The (1996)\", \"user id\": 271, \"deviation\": 0.00013964463137661198, \"fit\": 4.000139644631377, \"fit/prediction\": 4.000139644631377, \"observed\": 4.0}, {\"movie id\": 111, \"movie title\": \"Truth About Cats & Dogs, The (1996)\", \"user id\": 299, \"deviation\": -9.841152244316476e-05, \"fit\": 2.999901588477557, \"fit/prediction\": 2.999901588477557, \"observed\": 3.0}, {\"movie id\": 111, \"movie title\": \"Truth About Cats & Dogs, The (1996)\", \"user id\": 301, \"deviation\": 3.793488507586318e-05, \"fit\": 1.0000379348850759, \"fit/prediction\": 1.0000379348850759, \"observed\": 1.0}, {\"movie id\": 111, \"movie title\": \"Truth About Cats & Dogs, The (1996)\", \"user id\": 312, \"deviation\": null, \"fit\": null, \"fit/prediction\": -2.562217798236343, \"observed\": null}, {\"movie id\": 111, \"movie title\": \"Truth About Cats & Dogs, The (1996)\", \"user id\": 328, \"deviation\": null, \"fit\": null, \"fit/prediction\": 5.071844882246093, \"observed\": null}, {\"movie id\": 111, \"movie title\": \"Truth About Cats & Dogs, The (1996)\", \"user id\": 339, \"deviation\": null, \"fit\": null, \"fit/prediction\": 4.0987563064743675, \"observed\": null}, {\"movie id\": 111, \"movie title\": \"Truth About Cats & Dogs, The (1996)\", \"user id\": 387, \"deviation\": null, \"fit\": null, \"fit/prediction\": 2.4290932514087986, \"observed\": null}, {\"movie id\": 111, \"movie title\": \"Truth About Cats & Dogs, The (1996)\", \"user id\": 389, \"deviation\": -5.2706408292912954e-05, \"fit\": 2.999947293591707, \"fit/prediction\": 2.999947293591707, \"observed\": 3.0}, {\"movie id\": 111, \"movie title\": \"Truth About Cats & Dogs, The (1996)\", \"user id\": 650, \"deviation\": null, \"fit\": null, \"fit/prediction\": 5.022816386915323, \"observed\": null}, {\"movie id\": 111, \"movie title\": \"Truth About Cats & Dogs, The (1996)\", \"user id\": 716, \"deviation\": -6.335511785238168e-05, \"fit\": 3.9999366448821476, \"fit/prediction\": 3.9999366448821476, \"observed\": 4.0}, {\"movie id\": 111, \"movie title\": \"Truth About Cats & Dogs, The (1996)\", \"user id\": 727, \"deviation\": -0.0001515044346969141, \"fit\": 2.999848495565303, \"fit/prediction\": 2.999848495565303, \"observed\": 3.0}, {\"movie id\": 111, \"movie title\": \"Truth About Cats & Dogs, The (1996)\", \"user id\": 883, \"deviation\": null, \"fit\": null, \"fit/prediction\": -1.0416862379107246, \"observed\": null}]}}, {\"mode\": \"vega-lite\"});\n",
       "</script>"
      ],
      "text/plain": [
       "alt.HConcatChart(...)"
      ]
     },
     "execution_count": 13,
     "metadata": {},
     "output_type": "execute_result"
    }
   ],
   "source": [
    "nearest = alt.selection(type='single', nearest=True, on='mouseover', empty='none') \n",
    "\n",
    "selectors = base.mark_square(filled=False, size=350).encode(\n",
    "    x='user id:O',\n",
    "    y='movie title:O',\n",
    "    color=alt.value('black'),\n",
    "    opacity=alt.condition(nearest, alt.value(1), alt.value(0))\n",
    ").add_selection(\n",
    "    nearest\n",
    ")\n",
    "\n",
    "alt.hconcat(\n",
    "    alt.layer(f_all.encode(color=alt.Color('fit/prediction:Q', legend=None, scale=alt.Scale(scheme='yellowgreenblue', domain=[1, 5]))),\n",
    "              selectors),\n",
    "    alt.layer(f_err.encode(y=alt.Y('movie title:O', axis=alt.Axis(labels=False))),\n",
    "              selectors),\n",
    ").resolve_scale(color='independent')"
   ]
  },
  {
   "cell_type": "markdown",
   "metadata": {
    "slideshow": {
     "slide_type": "subslide"
    }
   },
   "source": [
    "# Comparing Users or Comparing Movies\n",
    "\n",
    "* $K$-latent factors or unobserved characteristics\n",
    "* $v_{mk}$: movie $m$ having characteristic $k$\n",
    "* $u_{ik}$: user $i$'s affinity to characteristic $k$\n",
    "\n",
    "$$ \\hat r_{mi} = \\sum_{k=1}^K v_{mk} u_{ik} = v_{m} u_{i}^T $$"
   ]
  },
  {
   "cell_type": "markdown",
   "metadata": {
    "slideshow": {
     "slide_type": "subslide"
    }
   },
   "source": [
    "## Matrix Factors: $V$ and $U$\n",
    "\n",
    "* Each row of $U$ represents a user\n",
    "* Compare users $i$ and $j$:\n",
    "    $$\\|u_i - u_j\\|^2_2$$\n",
    "* Each row of $V$ represents a movie\n",
    "* Compare movies $m$ and $n$:\n",
    "    $$\\|v_m - v_n\\|^2_2$$"
   ]
  },
  {
   "cell_type": "code",
   "execution_count": 14,
   "metadata": {
    "slideshow": {
     "slide_type": "subslide"
    }
   },
   "outputs": [],
   "source": [
    "V = pd.DataFrame(V, index=R.index, \n",
    "                 columns=pd.MultiIndex.from_product([['affinity'], range(0, K)], names=[None, 'k']))\n",
    "U = pd.DataFrame(U, index=R.columns.get_level_values(level='user id'),\n",
    "                 columns=pd.MultiIndex.from_product([['affinity'], range(0, K)], names=[None, 'k']))"
   ]
  },
  {
   "cell_type": "code",
   "execution_count": 15,
   "metadata": {
    "slideshow": {
     "slide_type": "fragment"
    }
   },
   "outputs": [
    {
     "data": {
      "text/html": [
       "<div>\n",
       "<style scoped>\n",
       "    .dataframe tbody tr th:only-of-type {\n",
       "        vertical-align: middle;\n",
       "    }\n",
       "\n",
       "    .dataframe tbody tr th {\n",
       "        vertical-align: top;\n",
       "    }\n",
       "\n",
       "    .dataframe thead th {\n",
       "        text-align: right;\n",
       "    }\n",
       "</style>\n",
       "<table border=\"1\" class=\"dataframe\">\n",
       "  <thead>\n",
       "    <tr style=\"text-align: right;\">\n",
       "      <th></th>\n",
       "      <th>user id</th>\n",
       "      <th>k</th>\n",
       "      <th>affinity</th>\n",
       "    </tr>\n",
       "  </thead>\n",
       "  <tbody>\n",
       "    <tr>\n",
       "      <th>0</th>\n",
       "      <td>883</td>\n",
       "      <td>0</td>\n",
       "      <td>-1.573376</td>\n",
       "    </tr>\n",
       "    <tr>\n",
       "      <th>1</th>\n",
       "      <td>883</td>\n",
       "      <td>1</td>\n",
       "      <td>1.738146</td>\n",
       "    </tr>\n",
       "    <tr>\n",
       "      <th>2</th>\n",
       "      <td>883</td>\n",
       "      <td>2</td>\n",
       "      <td>0.292821</td>\n",
       "    </tr>\n",
       "    <tr>\n",
       "      <th>3</th>\n",
       "      <td>883</td>\n",
       "      <td>3</td>\n",
       "      <td>0.608656</td>\n",
       "    </tr>\n",
       "    <tr>\n",
       "      <th>4</th>\n",
       "      <td>883</td>\n",
       "      <td>4</td>\n",
       "      <td>1.214837</td>\n",
       "    </tr>\n",
       "  </tbody>\n",
       "</table>\n",
       "</div>"
      ],
      "text/plain": [
       "   user id  k  affinity\n",
       "0      883  0 -1.573376\n",
       "1      883  1  1.738146\n",
       "2      883  2  0.292821\n",
       "3      883  3  0.608656\n",
       "4      883  4  1.214837"
      ]
     },
     "execution_count": 15,
     "metadata": {},
     "output_type": "execute_result"
    }
   ],
   "source": [
    "long(U).head()"
   ]
  },
  {
   "cell_type": "code",
   "execution_count": 16,
   "metadata": {
    "slideshow": {
     "slide_type": "subslide"
    }
   },
   "outputs": [
    {
     "data": {
      "text/html": [
       "\n",
       "<div id=\"altair-viz-5b406471cc134e9da3d58327c2e42126\"></div>\n",
       "<script type=\"text/javascript\">\n",
       "  (function(spec, embedOpt){\n",
       "    let outputDiv = document.currentScript.previousElementSibling;\n",
       "    if (outputDiv.id !== \"altair-viz-5b406471cc134e9da3d58327c2e42126\") {\n",
       "      outputDiv = document.getElementById(\"altair-viz-5b406471cc134e9da3d58327c2e42126\");\n",
       "    }\n",
       "    const paths = {\n",
       "      \"vega\": \"https://cdn.jsdelivr.net/npm//vega@5?noext\",\n",
       "      \"vega-lib\": \"https://cdn.jsdelivr.net/npm//vega-lib?noext\",\n",
       "      \"vega-lite\": \"https://cdn.jsdelivr.net/npm//vega-lite@4.8.1?noext\",\n",
       "      \"vega-embed\": \"https://cdn.jsdelivr.net/npm//vega-embed@6?noext\",\n",
       "    };\n",
       "\n",
       "    function loadScript(lib) {\n",
       "      return new Promise(function(resolve, reject) {\n",
       "        var s = document.createElement('script');\n",
       "        s.src = paths[lib];\n",
       "        s.async = true;\n",
       "        s.onload = () => resolve(paths[lib]);\n",
       "        s.onerror = () => reject(`Error loading script: ${paths[lib]}`);\n",
       "        document.getElementsByTagName(\"head\")[0].appendChild(s);\n",
       "      });\n",
       "    }\n",
       "\n",
       "    function showError(err) {\n",
       "      outputDiv.innerHTML = `<div class=\"error\" style=\"color:red;\">${err}</div>`;\n",
       "      throw err;\n",
       "    }\n",
       "\n",
       "    function displayChart(vegaEmbed) {\n",
       "      vegaEmbed(outputDiv, spec, embedOpt)\n",
       "        .catch(err => showError(`Javascript Error: ${err.message}<br>This usually means there's a typo in your chart specification. See the javascript console for the full traceback.`));\n",
       "    }\n",
       "\n",
       "    if(typeof define === \"function\" && define.amd) {\n",
       "      requirejs.config({paths});\n",
       "      require([\"vega-embed\"], displayChart, err => showError(`Error loading script: ${err.message}`));\n",
       "    } else if (typeof vegaEmbed === \"function\") {\n",
       "      displayChart(vegaEmbed);\n",
       "    } else {\n",
       "      loadScript(\"vega\")\n",
       "        .then(() => loadScript(\"vega-lite\"))\n",
       "        .then(() => loadScript(\"vega-embed\"))\n",
       "        .catch(showError)\n",
       "        .then(() => displayChart(vegaEmbed));\n",
       "    }\n",
       "  })({\"config\": {\"view\": {\"continuousWidth\": 400, \"continuousHeight\": 300}}, \"hconcat\": [{\"data\": {\"name\": \"data-06f6d293a19346e129c40df19d0fdd46\"}, \"mark\": \"rect\", \"encoding\": {\"color\": {\"type\": \"quantitative\", \"field\": \"affinity\"}, \"x\": {\"type\": \"ordinal\", \"field\": \"k\"}, \"y\": {\"type\": \"ordinal\", \"field\": \"movie title\"}}}, {\"data\": {\"name\": \"data-916c372c467ce255b0e44a52ee9b0ea0\"}, \"mark\": \"rect\", \"encoding\": {\"color\": {\"type\": \"quantitative\", \"field\": \"affinity\"}, \"x\": {\"type\": \"ordinal\", \"field\": \"k\"}, \"y\": {\"type\": \"ordinal\", \"field\": \"user id\"}}}], \"$schema\": \"https://vega.github.io/schema/vega-lite/v4.8.1.json\", \"datasets\": {\"data-06f6d293a19346e129c40df19d0fdd46\": [{\"movie id\": 132, \"movie title\": \"Wizard of Oz, The (1939)\", \"k\": 0, \"affinity\": 0.8901437454007287}, {\"movie id\": 132, \"movie title\": \"Wizard of Oz, The (1939)\", \"k\": 1, \"affinity\": 0.8995262273637384}, {\"movie id\": 132, \"movie title\": \"Wizard of Oz, The (1939)\", \"k\": 2, \"affinity\": 1.3220900090460834}, {\"movie id\": 132, \"movie title\": \"Wizard of Oz, The (1939)\", \"k\": 3, \"affinity\": 0.364538304483283}, {\"movie id\": 132, \"movie title\": \"Wizard of Oz, The (1939)\", \"k\": 4, \"affinity\": 2.552971428753328}, {\"movie id\": 238, \"movie title\": \"Raising Arizona (1987)\", \"k\": 0, \"affinity\": -0.10928262872546236}, {\"movie id\": 238, \"movie title\": \"Raising Arizona (1987)\", \"k\": 1, \"affinity\": 0.4121323256518314}, {\"movie id\": 238, \"movie title\": \"Raising Arizona (1987)\", \"k\": 2, \"affinity\": 0.9101996495672865}, {\"movie id\": 238, \"movie title\": \"Raising Arizona (1987)\", \"k\": 3, \"affinity\": 2.599933296296725}, {\"movie id\": 238, \"movie title\": \"Raising Arizona (1987)\", \"k\": 4, \"affinity\": 1.1741787654299973}, {\"movie id\": 748, \"movie title\": \"Saint, The (1997)\", \"k\": 0, \"affinity\": 0.3048471258246042}, {\"movie id\": 748, \"movie title\": \"Saint, The (1997)\", \"k\": 1, \"affinity\": 1.6525225719284091}, {\"movie id\": 748, \"movie title\": \"Saint, The (1997)\", \"k\": 2, \"affinity\": 1.9552091068614461}, {\"movie id\": 748, \"movie title\": \"Saint, The (1997)\", \"k\": 3, \"affinity\": 1.5855135255283104}, {\"movie id\": 748, \"movie title\": \"Saint, The (1997)\", \"k\": 4, \"affinity\": 0.9162650163443047}, {\"movie id\": 196, \"movie title\": \"Dead Poets Society (1989)\", \"k\": 0, \"affinity\": 2.562171429834572}, {\"movie id\": 196, \"movie title\": \"Dead Poets Society (1989)\", \"k\": 1, \"affinity\": 1.4272142814593718}, {\"movie id\": 196, \"movie title\": \"Dead Poets Society (1989)\", \"k\": 2, \"affinity\": 0.9139212041099125}, {\"movie id\": 196, \"movie title\": \"Dead Poets Society (1989)\", \"k\": 3, \"affinity\": 0.38115271873180895}, {\"movie id\": 196, \"movie title\": \"Dead Poets Society (1989)\", \"k\": 4, \"affinity\": 0.6461716698331536}, {\"movie id\": 197, \"movie title\": \"Graduate, The (1967)\", \"k\": 0, \"affinity\": 1.144337663520235}, {\"movie id\": 197, \"movie title\": \"Graduate, The (1967)\", \"k\": 1, \"affinity\": 1.6024981319115295}, {\"movie id\": 197, \"movie title\": \"Graduate, The (1967)\", \"k\": 2, \"affinity\": 1.1828321931803716}, {\"movie id\": 197, \"movie title\": \"Graduate, The (1967)\", \"k\": 3, \"affinity\": 0.5436569785847304}, {\"movie id\": 197, \"movie title\": \"Graduate, The (1967)\", \"k\": 4, \"affinity\": 1.9658241508226486}, {\"movie id\": 185, \"movie title\": \"Psycho (1960)\", \"k\": 0, \"affinity\": 0.4005712280009878}, {\"movie id\": 185, \"movie title\": \"Psycho (1960)\", \"k\": 1, \"affinity\": 1.911195703514005}, {\"movie id\": 185, \"movie title\": \"Psycho (1960)\", \"k\": 2, \"affinity\": 1.1928510450238425}, {\"movie id\": 185, \"movie title\": \"Psycho (1960)\", \"k\": 3, \"affinity\": 0.48803723402804555}, {\"movie id\": 185, \"movie title\": \"Psycho (1960)\", \"k\": 4, \"affinity\": 1.43442016097868}, {\"movie id\": 194, \"movie title\": \"Sting, The (1973)\", \"k\": 0, \"affinity\": 0.9115421587068983}, {\"movie id\": 194, \"movie title\": \"Sting, The (1973)\", \"k\": 1, \"affinity\": 0.6500736003377142}, {\"movie id\": 194, \"movie title\": \"Sting, The (1973)\", \"k\": 2, \"affinity\": 1.4584168094516097}, {\"movie id\": 194, \"movie title\": \"Sting, The (1973)\", \"k\": 3, \"affinity\": 1.3957909982613865}, {\"movie id\": 194, \"movie title\": \"Sting, The (1973)\", \"k\": 4, \"affinity\": 1.4244382322056357}, {\"movie id\": 742, \"movie title\": \"Ransom (1996)\", \"k\": 0, \"affinity\": 1.2029389380393194}, {\"movie id\": 742, \"movie title\": \"Ransom (1996)\", \"k\": 1, \"affinity\": 1.502802776376785}, {\"movie id\": 742, \"movie title\": \"Ransom (1996)\", \"k\": 2, \"affinity\": 0.5133451205024716}, {\"movie id\": 742, \"movie title\": \"Ransom (1996)\", \"k\": 3, \"affinity\": 0.8372417303620145}, {\"movie id\": 742, \"movie title\": \"Ransom (1996)\", \"k\": 4, \"affinity\": 0.9196612199175216}, {\"movie id\": 82, \"movie title\": \"Jurassic Park (1993)\", \"k\": 0, \"affinity\": 1.2660708846101878}, {\"movie id\": 82, \"movie title\": \"Jurassic Park (1993)\", \"k\": 1, \"affinity\": 2.0435605930975034}, {\"movie id\": 82, \"movie title\": \"Jurassic Park (1993)\", \"k\": 2, \"affinity\": 0.14891486542838983}, {\"movie id\": 82, \"movie title\": \"Jurassic Park (1993)\", \"k\": 3, \"affinity\": 1.7332163732622097}, {\"movie id\": 82, \"movie title\": \"Jurassic Park (1993)\", \"k\": 4, \"affinity\": 0.1568285678263799}, {\"movie id\": 97, \"movie title\": \"Dances with Wolves (1990)\", \"k\": 0, \"affinity\": 2.026821607578934}, {\"movie id\": 97, \"movie title\": \"Dances with Wolves (1990)\", \"k\": 1, \"affinity\": 0.6478741173679303}, {\"movie id\": 97, \"movie title\": \"Dances with Wolves (1990)\", \"k\": 2, \"affinity\": 2.2756454640904518}, {\"movie id\": 97, \"movie title\": \"Dances with Wolves (1990)\", \"k\": 3, \"affinity\": 0.5419218701575917}, {\"movie id\": 97, \"movie title\": \"Dances with Wolves (1990)\", \"k\": 4, \"affinity\": 0.0026583636141808936}, {\"movie id\": 475, \"movie title\": \"Trainspotting (1996)\", \"k\": 0, \"affinity\": 0.6478480434691235}, {\"movie id\": 475, \"movie title\": \"Trainspotting (1996)\", \"k\": 1, \"affinity\": 1.0680916091945762}, {\"movie id\": 475, \"movie title\": \"Trainspotting (1996)\", \"k\": 2, \"affinity\": 0.966979807800827}, {\"movie id\": 475, \"movie title\": \"Trainspotting (1996)\", \"k\": 3, \"affinity\": 1.612847492508426}, {\"movie id\": 475, \"movie title\": \"Trainspotting (1996)\", \"k\": 4, \"affinity\": 1.7321991185424945}, {\"movie id\": 268, \"movie title\": \"Chasing Amy (1997)\", \"k\": 0, \"affinity\": 1.1982471804202937}, {\"movie id\": 268, \"movie title\": \"Chasing Amy (1997)\", \"k\": 1, \"affinity\": 1.6441613230958145}, {\"movie id\": 268, \"movie title\": \"Chasing Amy (1997)\", \"k\": 2, \"affinity\": 1.4346638080131104}, {\"movie id\": 268, \"movie title\": \"Chasing Amy (1997)\", \"k\": 3, \"affinity\": 1.250732126158111}, {\"movie id\": 268, \"movie title\": \"Chasing Amy (1997)\", \"k\": 4, \"affinity\": 1.3445858756553577}, {\"movie id\": 186, \"movie title\": \"Blues Brothers, The (1980)\", \"k\": 0, \"affinity\": 2.345934957122384}, {\"movie id\": 186, \"movie title\": \"Blues Brothers, The (1980)\", \"k\": 1, \"affinity\": 0.7261359080112799}, {\"movie id\": 186, \"movie title\": \"Blues Brothers, The (1980)\", \"k\": 2, \"affinity\": 1.7294993990267489}, {\"movie id\": 186, \"movie title\": \"Blues Brothers, The (1980)\", \"k\": 3, \"affinity\": 0.3642849285959021}, {\"movie id\": 186, \"movie title\": \"Blues Brothers, The (1980)\", \"k\": 4, \"affinity\": 0.32814850757028063}, {\"movie id\": 496, \"movie title\": \"It's a Wonderful Life (1946)\", \"k\": 0, \"affinity\": 1.4830014978297539}, {\"movie id\": 496, \"movie title\": \"It's a Wonderful Life (1946)\", \"k\": 1, \"affinity\": 0.95236973051863}, {\"movie id\": 496, \"movie title\": \"It's a Wonderful Life (1946)\", \"k\": 2, \"affinity\": 1.894482850136831}, {\"movie id\": 496, \"movie title\": \"It's a Wonderful Life (1946)\", \"k\": 3, \"affinity\": 0.9483718702268418}, {\"movie id\": 496, \"movie title\": \"It's a Wonderful Life (1946)\", \"k\": 4, \"affinity\": 1.2885995224238855}, {\"movie id\": 111, \"movie title\": \"Truth About Cats & Dogs, The (1996)\", \"k\": 0, \"affinity\": 2.4340817598715447}, {\"movie id\": 111, \"movie title\": \"Truth About Cats & Dogs, The (1996)\", \"k\": 1, \"affinity\": 0.046351958985108584}, {\"movie id\": 111, \"movie title\": \"Truth About Cats & Dogs, The (1996)\", \"k\": 2, \"affinity\": 0.17840866037722491}, {\"movie id\": 111, \"movie title\": \"Truth About Cats & Dogs, The (1996)\", \"k\": 3, \"affinity\": 1.2881133194089869}, {\"movie id\": 111, \"movie title\": \"Truth About Cats & Dogs, The (1996)\", \"k\": 4, \"affinity\": 1.540299628685349}], \"data-916c372c467ce255b0e44a52ee9b0ea0\": [{\"user id\": 883, \"k\": 0, \"affinity\": -1.573376061721665}, {\"user id\": 883, \"k\": 1, \"affinity\": 1.7381455870316573}, {\"user id\": 883, \"k\": 2, \"affinity\": 0.2928212359268111}, {\"user id\": 883, \"k\": 3, \"affinity\": 0.6086560803523852}, {\"user id\": 883, \"k\": 4, \"affinity\": 1.2148372946817332}, {\"user id\": 716, \"k\": 0, \"affinity\": 0.4889081547082793}, {\"user id\": 716, \"k\": 1, \"affinity\": 1.2565567931458628}, {\"user id\": 716, \"k\": 2, \"affinity\": 0.5502266540266241}, {\"user id\": 716, \"k\": 3, \"affinity\": 0.8712453465922166}, {\"user id\": 716, \"k\": 4, \"affinity\": 0.9941068543628425}, {\"user id\": 387, \"k\": 0, \"affinity\": 0.18186909671393975}, {\"user id\": 387, \"k\": 1, \"affinity\": 0.4762603348536333}, {\"user id\": 387, \"k\": 2, \"affinity\": 0.4798079985758172}, {\"user id\": 387, \"k\": 3, \"affinity\": 1.7604833649811966}, {\"user id\": 387, \"k\": 4, \"affinity\": -0.2525291606547321}, {\"user id\": 85, \"k\": 0, \"affinity\": 1.1666076157304117}, {\"user id\": 85, \"k\": 1, \"affinity\": 0.3714480671954145}, {\"user id\": 85, \"k\": 2, \"affinity\": -0.3041536529854162}, {\"user id\": 85, \"k\": 3, \"affinity\": 0.2388575171935172}, {\"user id\": 85, \"k\": 4, \"affinity\": 1.7431395037528856}, {\"user id\": 339, \"k\": 0, \"affinity\": 0.5801466911998688}, {\"user id\": 339, \"k\": 1, \"affinity\": 0.68188745105115}, {\"user id\": 339, \"k\": 2, \"affinity\": 0.8054504614453329}, {\"user id\": 339, \"k\": 3, \"affinity\": 1.10155470812445}, {\"user id\": 339, \"k\": 4, \"affinity\": 0.7092116095127914}, {\"user id\": 178, \"k\": 0, \"affinity\": 1.0758794597490757}, {\"user id\": 178, \"k\": 1, \"affinity\": 0.2298569094780015}, {\"user id\": 178, \"k\": 2, \"affinity\": 0.6882389001181017}, {\"user id\": 178, \"k\": 3, \"affinity\": 1.6462784678029025}, {\"user id\": 178, \"k\": 4, \"affinity\": -0.5665647880651096}, {\"user id\": 389, \"k\": 0, \"affinity\": -0.07554797742401947}, {\"user id\": 389, \"k\": 1, \"affinity\": 1.144787370869118}, {\"user id\": 389, \"k\": 2, \"affinity\": 0.33317892492978146}, {\"user id\": 389, \"k\": 3, \"affinity\": 0.9636045181178327}, {\"user id\": 389, \"k\": 4, \"affinity\": 1.1881456412753901}, {\"user id\": 271, \"k\": 0, \"affinity\": 0.581510875851977}, {\"user id\": 271, \"k\": 1, \"affinity\": -0.13673319575246165}, {\"user id\": 271, \"k\": 2, \"affinity\": 1.1994332516722854}, {\"user id\": 271, \"k\": 3, \"affinity\": 0.7357970545653791}, {\"user id\": 271, \"k\": 4, \"affinity\": 0.9279059654413664}, {\"user id\": 1, \"k\": 0, \"affinity\": 1.0445387000616027}, {\"user id\": 1, \"k\": 1, \"affinity\": 0.992911053834781}, {\"user id\": 1, \"k\": 2, \"affinity\": 0.09402141991027618}, {\"user id\": 1, \"k\": 3, \"affinity\": 1.0213777330858254}, {\"user id\": 1, \"k\": 4, \"affinity\": 0.7006313897589583}, {\"user id\": 650, \"k\": 0, \"affinity\": 1.0174873351828635}, {\"user id\": 650, \"k\": 1, \"affinity\": -0.01572285648595731}, {\"user id\": 650, \"k\": 2, \"affinity\": 0.2978366550079579}, {\"user id\": 650, \"k\": 3, \"affinity\": 0.8916637107567382}, {\"user id\": 650, \"k\": 4, \"affinity\": 0.8733347997382211}, {\"user id\": 727, \"k\": 0, \"affinity\": 1.0233777140930704}, {\"user id\": 727, \"k\": 1, \"affinity\": 0.37720929105192}, {\"user id\": 727, \"k\": 2, \"affinity\": 1.3932759116973543}, {\"user id\": 727, \"k\": 3, \"affinity\": 0.5710763697236155}, {\"user id\": 727, \"k\": 4, \"affinity\": -0.3199406656732291}, {\"user id\": 312, \"k\": 0, \"affinity\": -1.3861488305619154}, {\"user id\": 312, \"k\": 1, \"affinity\": 0.3962089360223976}, {\"user id\": 312, \"k\": 2, \"affinity\": 3.417176370919834}, {\"user id\": 312, \"k\": 3, \"affinity\": -0.4925269416409468}, {\"user id\": 312, \"k\": 4, \"affinity\": 0.5311910528310239}, {\"user id\": 269, \"k\": 0, \"affinity\": -0.8548211569678826}, {\"user id\": 269, \"k\": 1, \"affinity\": 0.6471920955889218}, {\"user id\": 269, \"k\": 2, \"affinity\": 1.8360863207129328}, {\"user id\": 269, \"k\": 3, \"affinity\": 0.7446063367278978}, {\"user id\": 269, \"k\": 4, \"affinity\": 1.1452036237405991}, {\"user id\": 328, \"k\": 0, \"affinity\": 1.4200007658259302}, {\"user id\": 328, \"k\": 1, \"affinity\": 1.0733035289717834}, {\"user id\": 328, \"k\": 2, \"affinity\": -0.25802353384628135}, {\"user id\": 328, \"k\": 3, \"affinity\": -0.07366689871849931}, {\"user id\": 328, \"k\": 4, \"affinity\": 1.1079806244625734}, {\"user id\": 299, \"k\": 0, \"affinity\": 0.7087965375943232}, {\"user id\": 299, \"k\": 1, \"affinity\": 1.414792714517858}, {\"user id\": 299, \"k\": 2, \"affinity\": -0.04847826685404388}, {\"user id\": 299, \"k\": 3, \"affinity\": 1.63214964973566}, {\"user id\": 299, \"k\": 4, \"affinity\": -0.5743624766163941}, {\"user id\": 301, \"k\": 0, \"affinity\": -0.05199529727073782}, {\"user id\": 301, \"k\": 1, \"affinity\": 1.9699511697906757}, {\"user id\": 301, \"k\": 2, \"affinity\": 1.3355186395376253}, {\"user id\": 301, \"k\": 3, \"affinity\": 0.49187116638040734}, {\"user id\": 301, \"k\": 4, \"affinity\": 0.10610516841389264}]}}, {\"mode\": \"vega-lite\"});\n",
       "</script>"
      ],
      "text/plain": [
       "alt.HConcatChart(...)"
      ]
     },
     "execution_count": 16,
     "metadata": {},
     "output_type": "execute_result"
    }
   ],
   "source": [
    "alt.hconcat(\n",
    "    alt.Chart(long(V)).mark_rect().encode(x='k:O', y='movie title:O', color='affinity:Q'),\n",
    "    alt.Chart(long(U)).mark_rect().encode(x='k:O', y='user id:O', color='affinity:Q')\n",
    ")"
   ]
  },
  {
   "cell_type": "markdown",
   "metadata": {
    "slideshow": {
     "slide_type": "subslide"
    }
   },
   "source": [
    "# What can be improved? \n",
    "\n",
    "* $U$ and $V$ have $k(I+M)$ elements\n",
    "* As $k\\rightarrow\\infty$ increases training $\\text{RMSE}\\rightarrow 0$\n",
    "* Magnitude of elements of $\\hat R$, $U$, and $V$ may get larger \n",
    "* Elements of $\\hat R$ can be outside allowed range: i.e., $\\hat R\\not\\in [1, 5]$  \n",
    "* $\\text{RMSE}$ can increase back up as $t$ increases for large $k$  "
   ]
  }
 ],
 "metadata": {
  "celltoolbar": "Slideshow",
  "jupytext": {
   "cell_metadata_filter": "-all",
   "formats": "ipynb,py:percent",
   "notebook_metadata_filter": "-all"
  },
  "kernelspec": {
   "display_name": "Python 3",
   "language": "python",
   "name": "python3"
  },
  "language_info": {
   "codemirror_mode": {
    "name": "ipython",
    "version": 3
   },
   "file_extension": ".py",
   "mimetype": "text/x-python",
   "name": "python",
   "nbconvert_exporter": "python",
   "pygments_lexer": "ipython3",
   "version": "3.8.6"
  },
  "toc": {
   "base_numbering": 1,
   "nav_menu": {},
   "number_sections": false,
   "sideBar": true,
   "skip_h1_title": false,
   "title_cell": "Table of Contents",
   "title_sidebar": "Contents",
   "toc_cell": true,
   "toc_position": {
    "height": "calc(100% - 180px)",
    "left": "10px",
    "top": "150px",
    "width": "382.188px"
   },
   "toc_section_display": true,
   "toc_window_display": false
  },
  "toc-autonumbering": false,
  "toc-showcode": false,
  "toc-showmarkdowntxt": false,
  "toc-showtags": false
 },
 "nbformat": 4,
 "nbformat_minor": 4
}
